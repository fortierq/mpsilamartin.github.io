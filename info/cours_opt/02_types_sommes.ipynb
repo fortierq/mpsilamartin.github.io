{
 "cells": [
  {
   "cell_type": "markdown",
   "id": "734aee04",
   "metadata": {
    "slideshow": {
     "slide_type": "slide"
    }
   },
   "source": [
    "\t\n",
    "# Types produits\n",
    "## Produits cartésiens\n",
    "On peut, si on le souhaite, définir un type correspondant à un produit cartésien :"
   ]
  },
  {
   "cell_type": "code",
   "execution_count": 1,
   "id": "59b34cc4",
   "metadata": {
    "slideshow": {
     "slide_type": "fragment"
    }
   },
   "outputs": [
    {
     "data": {
      "text/plain": [
       "type complexe = float * float\n"
      ]
     },
     "execution_count": 1,
     "metadata": {},
     "output_type": "execute_result"
    }
   ],
   "source": [
    "type complexe = float * float;;"
   ]
  },
  {
   "cell_type": "markdown",
   "id": "cac847d9",
   "metadata": {
    "slideshow": {
     "slide_type": "subslide"
    }
   },
   "source": [
    "Cela pourra être utile lorsque nous définirons d'autres types (voir ci-dessous), mais OCaml n'utilisera pas ce type (synonyme de `float*float` ) par défaut :"
   ]
  },
  {
   "cell_type": "code",
   "execution_count": 2,
   "id": "c8e98adb",
   "metadata": {},
   "outputs": [
    {
     "data": {
      "text/plain": [
       "val module_complexe : float * float -> float = <fun>\n"
      ]
     },
     "execution_count": 2,
     "metadata": {},
     "output_type": "execute_result"
    }
   ],
   "source": [
    "let module_complexe z =\n",
    "  let  a, b = z in sqrt(a**2. +. b**2.);;"
   ]
  },
  {
   "cell_type": "markdown",
   "id": "e6df9b2a",
   "metadata": {
    "slideshow": {
     "slide_type": "slide"
    }
   },
   "source": [
    "## Enregistrements\n",
    "Lorsqu'on souhaite représenter une entité décrite par un ensemble d'informations, par exemple représenter un étudiant par son nom, son prénom et sa date de naissance, on peut utiliser un $n$-uplet, dans notre exemple un quintuplet constitué de deux chaînes de caractères (nom et prénom) et de trois entiers (année, mois et jour de naissance).\n",
    "\n",
    "Manipuler les informations liées à ces objets est alors assez délicat : il faut gérer l'ordre dans lequel les informations sont données."
   ]
  },
  {
   "cell_type": "markdown",
   "id": "00f9fce6",
   "metadata": {
    "slideshow": {
     "slide_type": "subslide"
    }
   },
   "source": [
    "Il existe une autre catégorie de types produits en OCaml : les enregistrements. Alors que dans un $n$-uplets, les différentes informations ne sont repérées que par leur position, dans un enregistrement, chaque composante possède un nom.\n",
    "\n",
    "Il est possible de définir un nouveau type enregistrement, par exemple un type `date`  contenant trois *champs* (ses composantes) de type `int`  : un jour, un mois et une année."
   ]
  },
  {
   "cell_type": "code",
   "execution_count": 3,
   "id": "1741ad7b",
   "metadata": {
    "slideshow": {
     "slide_type": "fragment"
    }
   },
   "outputs": [
    {
     "data": {
      "text/plain": [
       "type date = { jour : int; mois : int; annee : int; }\n"
      ]
     },
     "execution_count": 3,
     "metadata": {},
     "output_type": "execute_result"
    }
   ],
   "source": [
    "type date = {\n",
    "    jour : int;\n",
    "    mois : int;\n",
    "    annee : int;\n",
    "  };;"
   ]
  },
  {
   "cell_type": "markdown",
   "id": "084c1071",
   "metadata": {
    "slideshow": {
     "slide_type": "subslide"
    }
   },
   "source": [
    "Pour construire une date, par exemple le 14 mars 2022 :"
   ]
  },
  {
   "cell_type": "code",
   "execution_count": 4,
   "id": "fbb96295",
   "metadata": {
    "slideshow": {
     "slide_type": "fragment"
    }
   },
   "outputs": [
    {
     "data": {
      "text/plain": [
       "val d : date = {jour = 14; mois = 3; annee = 2022}\n"
      ]
     },
     "execution_count": 4,
     "metadata": {},
     "output_type": "execute_result"
    }
   ],
   "source": [
    "let d = {annee = 2022; mois = 3; jour = 14;};;"
   ]
  },
  {
   "cell_type": "markdown",
   "id": "bf520cec",
   "metadata": {
    "slideshow": {
     "slide_type": "fragment"
    }
   },
   "source": [
    "On remarque qu'il n'est pas nécessaire de donner les champs dans le même ordre que dans la définition."
   ]
  },
  {
   "cell_type": "markdown",
   "id": "bdf26baf",
   "metadata": {
    "slideshow": {
     "slide_type": "subslide"
    }
   },
   "source": [
    "Ce type `date`  peut être utilisé pour construire le type `etudiant`  :"
   ]
  },
  {
   "cell_type": "code",
   "execution_count": 5,
   "id": "89b70030",
   "metadata": {
    "slideshow": {
     "slide_type": "fragment"
    }
   },
   "outputs": [
    {
     "data": {
      "text/plain": [
       "type etudiant = { nom : string; prenom : string; naissance : date; }\n"
      ]
     },
     "execution_count": 5,
     "metadata": {},
     "output_type": "execute_result"
    }
   ],
   "source": [
    "type etudiant = {\n",
    "    nom : string;\n",
    "    prenom : string;\n",
    "    naissance : date;\n",
    "  };;"
   ]
  },
  {
   "cell_type": "code",
   "execution_count": 6,
   "id": "2f203eea",
   "metadata": {
    "slideshow": {
     "slide_type": "subslide"
    }
   },
   "outputs": [
    {
     "data": {
      "text/plain": [
       "val e : etudiant =\n",
       "  {nom = \"Tournesol\"; prenom = \"Tryphon\";\n",
       "   naissance = {jour = 28; mois = 1; annee = 2003}}\n"
      ]
     },
     "execution_count": 6,
     "metadata": {},
     "output_type": "execute_result"
    }
   ],
   "source": [
    "let e = {\n",
    "    nom = \"Tournesol\";\n",
    "    prenom = \"Tryphon\";\n",
    "    naissance = {\n",
    "        jour = 28 ;\n",
    "        mois = 1;\n",
    "        annee = 2003;\n",
    "      }\n",
    "  };;"
   ]
  },
  {
   "cell_type": "markdown",
   "id": "b245ee45",
   "metadata": {
    "slideshow": {
     "slide_type": "subslide"
    }
   },
   "source": [
    "Pour accéder à l'un des champs d'un objet de type enregistrement, il suffit de faire suivre le nom de l'objet d'un point puis du nom du champ."
   ]
  },
  {
   "cell_type": "code",
   "execution_count": 7,
   "id": "26a54564",
   "metadata": {},
   "outputs": [
    {
     "data": {
      "text/plain": [
       "- : date = {jour = 28; mois = 1; annee = 2003}\n"
      ]
     },
     "execution_count": 7,
     "metadata": {},
     "output_type": "execute_result"
    }
   ],
   "source": [
    "e.naissance;;"
   ]
  },
  {
   "cell_type": "code",
   "execution_count": 8,
   "id": "a3cd3b15",
   "metadata": {
    "slideshow": {
     "slide_type": "fragment"
    }
   },
   "outputs": [
    {
     "data": {
      "text/plain": [
       "val est_majeur : etudiant -> date -> bool = <fun>\n"
      ]
     },
     "execution_count": 8,
     "metadata": {},
     "output_type": "execute_result"
    }
   ],
   "source": [
    "let est_majeur e date =\n",
    "  let n = e.naissance in\n",
    "  let j = n.jour and m = n.mois and a = n.annee in\n",
    "  let age = date.annee - a - (if m > date.mois || (m = date.mois && j > date.jour) then 1 else 0) in\n",
    "  age >= 18\n",
    ";;"
   ]
  },
  {
   "cell_type": "code",
   "execution_count": 9,
   "id": "6a6e4e21",
   "metadata": {},
   "outputs": [
    {
     "data": {
      "text/plain": [
       "val aujourdhui : date = {jour = 8; mois = 2; annee = 2022}\n"
      ]
     },
     "execution_count": 9,
     "metadata": {},
     "output_type": "execute_result"
    }
   ],
   "source": [
    "let aujourdhui = {jour = 8 ; mois = 2; annee = 2022}"
   ]
  },
  {
   "cell_type": "code",
   "execution_count": 10,
   "id": "61530170",
   "metadata": {},
   "outputs": [
    {
     "data": {
      "text/plain": [
       "- : bool = true\n"
      ]
     },
     "execution_count": 10,
     "metadata": {},
     "output_type": "execute_result"
    }
   ],
   "source": [
    "est_majeur e aujourdhui;;"
   ]
  },
  {
   "cell_type": "markdown",
   "id": "eaf4e083",
   "metadata": {
    "slideshow": {
     "slide_type": "slide"
    }
   },
   "source": [
    "# Types sommes\n",
    "## Types énumérations\n",
    "Jusqu'à présent, toutes les données que nous pouvons représenter reposent sur les types standards. Comment représenter alors les jours de la semaine ?\n",
    "\n",
    "- Par un entier : quelle convention choisir ? Numérote-t-on de $0$ à $6$ ou de $1$ à $7$ ? En commençant par quel jour ? \n",
    "- Ou par une chaîne de caractères.\n",
    "\n",
    "Dans les deux cas, si on utilise une donnée qui ne correspond à aucun jour (par exemple en faisant une faute de frappe dans une chaîne de caractères), cela ne sera détecté qu'à l'exécution."
   ]
  },
  {
   "cell_type": "markdown",
   "id": "ab091774",
   "metadata": {
    "slideshow": {
     "slide_type": "subslide"
    }
   },
   "source": [
    "On peut alors utiliser un type *énumération*, en donnant toutes les valeurs possibles :"
   ]
  },
  {
   "cell_type": "code",
   "execution_count": 11,
   "id": "e7aff73d",
   "metadata": {
    "slideshow": {
     "slide_type": "fragment"
    }
   },
   "outputs": [
    {
     "data": {
      "text/plain": [
       "type jour_semaine =\n",
       "    Lundi\n",
       "  | Mardi\n",
       "  | Mercredi\n",
       "  | Jeudi\n",
       "  | Vendredi\n",
       "  | Samedi\n",
       "  | Dimanche\n"
      ]
     },
     "execution_count": 11,
     "metadata": {},
     "output_type": "execute_result"
    }
   ],
   "source": [
    "type jour_semaine =\n",
    "  | Lundi\n",
    "  | Mardi\n",
    "  | Mercredi\n",
    "  | Jeudi\n",
    "  | Vendredi\n",
    "  | Samedi\n",
    "  | Dimanche\n",
    ";;"
   ]
  },
  {
   "cell_type": "markdown",
   "id": "1d89d7ae",
   "metadata": {
    "slideshow": {
     "slide_type": "subslide"
    }
   },
   "source": [
    "Les valeurs `Lundi` ,... sont appelées les *constructeurs* du type `jour_semaine` . Ce sont en effet les seules opérations permettant de construire des objets du type `jour_semaine` . Les constructeurs doivent commencer par une majuscule."
   ]
  },
  {
   "cell_type": "code",
   "execution_count": 12,
   "id": "d9997e8c",
   "metadata": {
    "slideshow": {
     "slide_type": "-"
    }
   },
   "outputs": [
    {
     "data": {
      "text/plain": [
       "- : jour_semaine = Lundi\n"
      ]
     },
     "execution_count": 12,
     "metadata": {},
     "output_type": "execute_result"
    }
   ],
   "source": [
    "Lundi;;"
   ]
  },
  {
   "cell_type": "code",
   "execution_count": 13,
   "id": "8ef09d4e",
   "metadata": {
    "slideshow": {
     "slide_type": "-"
    }
   },
   "outputs": [
    {
     "data": {
      "text/plain": [
       "- : jour_semaine = Mardi\n"
      ]
     },
     "execution_count": 13,
     "metadata": {},
     "output_type": "execute_result"
    }
   ],
   "source": [
    "Mardi;;"
   ]
  },
  {
   "cell_type": "markdown",
   "id": "6f91a58c",
   "metadata": {
    "slideshow": {
     "slide_type": "subslide"
    }
   },
   "source": [
    "On peut réaliser un filtrage sur les valeurs du type `jour_semaine` "
   ]
  },
  {
   "cell_type": "code",
   "execution_count": 15,
   "id": "ddb7bc61",
   "metadata": {
    "slideshow": {
     "slide_type": "-"
    }
   },
   "outputs": [
    {
     "data": {
      "text/plain": [
       "val week_end : jour_semaine -> bool = <fun>\n"
      ]
     },
     "execution_count": 15,
     "metadata": {},
     "output_type": "execute_result"
    }
   ],
   "source": [
    "let week_end j =\n",
    "  match j with\n",
    "  | Samedi -> true\n",
    "  | Dimanche -> true\n",
    "  | _ -> false\n",
    ";;"
   ]
  },
  {
   "cell_type": "code",
   "execution_count": 16,
   "id": "908a5484",
   "metadata": {},
   "outputs": [
    {
     "data": {
      "text/plain": [
       "- : bool = false\n"
      ]
     },
     "execution_count": 16,
     "metadata": {},
     "output_type": "execute_result"
    }
   ],
   "source": [
    "week_end Mardi;;"
   ]
  },
  {
   "cell_type": "markdown",
   "id": "ea36f767",
   "metadata": {
    "slideshow": {
     "slide_type": "subslide"
    }
   },
   "source": [
    "Utiliser un type énumération demande néanmoins que le nombre de valeurs possibles soit fini, comme pour les jours de la semaine ou les couleurs d'une carte à la belote."
   ]
  },
  {
   "cell_type": "code",
   "execution_count": 17,
   "id": "548668bc",
   "metadata": {
    "slideshow": {
     "slide_type": "-"
    }
   },
   "outputs": [
    {
     "data": {
      "text/plain": [
       "type couleur = Trefle | Carreau | Coeur | Pique\n"
      ]
     },
     "execution_count": 17,
     "metadata": {},
     "output_type": "execute_result"
    }
   ],
   "source": [
    "type couleur =\n",
    "  | Trefle\n",
    "  | Carreau\n",
    "  | Coeur\n",
    "  | Pique\n",
    ";;"
   ]
  },
  {
   "cell_type": "markdown",
   "id": "7421bb12",
   "metadata": {
    "slideshow": {
     "slide_type": "slide"
    }
   },
   "source": [
    "## Types sommes\n",
    "Il s'agit d'une généralisation des types énumérations. Supposons que nous souhaitions représenter les cartes d'un jeu de 32 cartes. Chaque carte est alors identifiée par sa couleur (Trèfle, Carreau, Cœur, Pique) et sa valeur (As, Roi, Dame, valet, 10, 9, 8, 7)."
   ]
  },
  {
   "cell_type": "code",
   "execution_count": 18,
   "id": "36e1bc0b",
   "metadata": {
    "slideshow": {
     "slide_type": "-"
    }
   },
   "outputs": [
    {
     "data": {
      "text/plain": [
       "type carte =\n",
       "    As of couleur\n",
       "  | Roi of couleur\n",
       "  | Dame of couleur\n",
       "  | Valet of couleur\n",
       "  | Petite_carte of int * couleur\n"
      ]
     },
     "execution_count": 18,
     "metadata": {},
     "output_type": "execute_result"
    }
   ],
   "source": [
    "type carte =\n",
    "  | As of couleur\n",
    "  | Roi of couleur\n",
    "  | Dame of couleur\n",
    "  | Valet of couleur\n",
    "  | Petite_carte of int * couleur\n",
    ";;"
   ]
  },
  {
   "cell_type": "markdown",
   "id": "16aafa1f",
   "metadata": {
    "slideshow": {
     "slide_type": "subslide"
    }
   },
   "source": [
    "Comme précédemment, `As` , `Petite_carte`  sont des constructeurs :"
   ]
  },
  {
   "cell_type": "code",
   "execution_count": 21,
   "id": "cdcfaabd",
   "metadata": {
    "slideshow": {
     "slide_type": "-"
    }
   },
   "outputs": [
    {
     "data": {
      "text/plain": [
       "val ma_carte : carte = Valet Trefle\n"
      ]
     },
     "execution_count": 21,
     "metadata": {},
     "output_type": "execute_result"
    }
   ],
   "source": [
    "let ma_carte = Valet Trefle;;"
   ]
  },
  {
   "cell_type": "code",
   "execution_count": 22,
   "id": "7cc64285",
   "metadata": {
    "slideshow": {
     "slide_type": "-"
    }
   },
   "outputs": [
    {
     "data": {
      "text/plain": [
       "- : carte = Petite_carte (9, Pique)\n"
      ]
     },
     "execution_count": 22,
     "metadata": {},
     "output_type": "execute_result"
    }
   ],
   "source": [
    "Petite_carte (9, Pique);;"
   ]
  },
  {
   "cell_type": "markdown",
   "id": "0c8c3f4c",
   "metadata": {
    "slideshow": {
     "slide_type": "subslide"
    }
   },
   "source": [
    "Il est possible d'effectuer un filtrage sur ces valeurs :"
   ]
  },
  {
   "cell_type": "code",
   "execution_count": 23,
   "id": "53d76ed4",
   "metadata": {},
   "outputs": [
    {
     "data": {
      "text/plain": [
       "val valeur_carte : couleur -> carte -> int = <fun>\n"
      ]
     },
     "execution_count": 23,
     "metadata": {},
     "output_type": "execute_result"
    }
   ],
   "source": [
    "let valeur_carte atout = fun carte ->\n",
    "  match carte with\n",
    "  | As _ -> 11\n",
    "  | Roi _ -> 4\n",
    "  | Dame _ -> 3\n",
    "  | Valet c -> if c = atout then 20 else 2\n",
    "  | Petite_carte (10, _) -> 10\n",
    "  | Petite_carte (9, c) -> if c = atout then 14 else 0\n",
    "  | _ -> 0\n",
    ";;"
   ]
  },
  {
   "cell_type": "code",
   "execution_count": 24,
   "id": "7b9ab57d",
   "metadata": {
    "slideshow": {
     "slide_type": "-"
    }
   },
   "outputs": [
    {
     "data": {
      "text/plain": [
       "- : int = 20\n"
      ]
     },
     "execution_count": 24,
     "metadata": {},
     "output_type": "execute_result"
    }
   ],
   "source": [
    "let toto = Valet Coeur in\n",
    "valeur_carte Coeur toto;;"
   ]
  },
  {
   "cell_type": "markdown",
   "id": "65c49005",
   "metadata": {
    "slideshow": {
     "slide_type": "subslide"
    }
   },
   "source": [
    "Un type somme peut être *récursif*, c'est à dire intervenir dans sa propre définition.\n",
    "Définissons par exemple les couleurs par synthèse soustractive, en considérant qu'une couleur est soit une couleur primaire, soit un mélange de deux couleurs :"
   ]
  },
  {
   "cell_type": "code",
   "execution_count": 25,
   "id": "8907484b",
   "metadata": {
    "slideshow": {
     "slide_type": "-"
    }
   },
   "outputs": [
    {
     "data": {
      "text/plain": [
       "type color = Cyan | Magenta | Jaune | Melange of color * color\n"
      ]
     },
     "execution_count": 25,
     "metadata": {},
     "output_type": "execute_result"
    }
   ],
   "source": [
    "type color =\n",
    "  | Cyan\n",
    "  | Magenta\n",
    "  | Jaune\n",
    "  | Melange of color * color;;"
   ]
  },
  {
   "cell_type": "code",
   "execution_count": 26,
   "id": "ffe27e17",
   "metadata": {
    "slideshow": {
     "slide_type": "fragment"
    }
   },
   "outputs": [
    {
     "data": {
      "text/plain": [
       "val rouge : color = Melange (Magenta, Jaune)\n"
      ]
     },
     "execution_count": 26,
     "metadata": {},
     "output_type": "execute_result"
    }
   ],
   "source": [
    "let rouge = Melange (Magenta, Jaune);;"
   ]
  },
  {
   "cell_type": "code",
   "execution_count": 27,
   "id": "692e7f48",
   "metadata": {
    "slideshow": {
     "slide_type": "-"
    }
   },
   "outputs": [
    {
     "data": {
      "text/plain": [
       "val orange : color = Melange (Melange (Magenta, Jaune), Jaune)\n"
      ]
     },
     "execution_count": 27,
     "metadata": {},
     "output_type": "execute_result"
    }
   ],
   "source": [
    "let orange = Melange (rouge, Jaune);;"
   ]
  },
  {
   "cell_type": "markdown",
   "id": "c0b67e54",
   "metadata": {
    "slideshow": {
     "slide_type": "slide"
    }
   },
   "source": [
    "# Exercices divers\n",
    "\n",
    "## Exercice 1\n",
    "- Définir un type enregistrement `complexe`  associé aux nombres complexes."
   ]
  },
  {
   "cell_type": "code",
   "execution_count": null,
   "id": "1a9f2135",
   "metadata": {},
   "outputs": [],
   "source": []
  },
  {
   "cell_type": "markdown",
   "id": "bbd8a8e9",
   "metadata": {
    "slideshow": {
     "slide_type": "fragment"
    }
   },
   "source": [
    "- Écrire une fonction `module : complexe -> float`  calculant le module d'un nombre complexe."
   ]
  },
  {
   "cell_type": "code",
   "execution_count": null,
   "id": "49d766f9",
   "metadata": {},
   "outputs": [],
   "source": []
  },
  {
   "cell_type": "markdown",
   "id": "f94becfc",
   "metadata": {
    "slideshow": {
     "slide_type": "fragment"
    }
   },
   "source": [
    "- Écrire une fonction `produit : complexe -> complexe -> complexe`  calculant le produit de deux nombres complexes."
   ]
  },
  {
   "cell_type": "code",
   "execution_count": null,
   "id": "76ea8988",
   "metadata": {},
   "outputs": [],
   "source": []
  },
  {
   "cell_type": "markdown",
   "id": "0382a1ab",
   "metadata": {
    "slideshow": {
     "slide_type": "subslide"
    }
   },
   "source": [
    "## Exercice 2\n",
    "- Définir un type somme `reel_etendu`  permettant de représenter la droite numérique achevée."
   ]
  },
  {
   "cell_type": "code",
   "execution_count": null,
   "id": "754e2d2a",
   "metadata": {},
   "outputs": [],
   "source": []
  },
  {
   "cell_type": "markdown",
   "id": "c0e5de03",
   "metadata": {
    "slideshow": {
     "slide_type": "fragment"
    }
   },
   "source": [
    "- Écrire une fonction `etendu_of_float`  permettant de convertir un nombre de type `float`  en un nombre de type `reel_etendu` ."
   ]
  },
  {
   "cell_type": "code",
   "execution_count": null,
   "id": "adccdc59",
   "metadata": {},
   "outputs": [],
   "source": []
  },
  {
   "cell_type": "markdown",
   "id": "2295572e",
   "metadata": {
    "slideshow": {
     "slide_type": "fragment"
    }
   },
   "source": [
    "- Écrire une fonction `somme : reel_etendu -> reel_etendu -> reel_etendu`  calculant (si c'est possible) la somme de deux réels étendus."
   ]
  },
  {
   "cell_type": "code",
   "execution_count": null,
   "id": "939260fc",
   "metadata": {},
   "outputs": [],
   "source": []
  }
 ],
 "metadata": {
  "celltoolbar": "Diaporama",
  "kernelspec": {
   "display_name": "OCaml default",
   "language": "OCaml",
   "name": "ocaml-jupyter"
  },
  "language_info": {
   "codemirror_mode": "text/x-ocaml",
   "file_extension": ".ml",
   "mimetype": "text/x-ocaml",
   "name": "OCaml",
   "nbconverter_exporter": null,
   "pygments_lexer": "OCaml",
   "version": "4.08.1"
  }
 },
 "nbformat": 4,
 "nbformat_minor": 5
}
