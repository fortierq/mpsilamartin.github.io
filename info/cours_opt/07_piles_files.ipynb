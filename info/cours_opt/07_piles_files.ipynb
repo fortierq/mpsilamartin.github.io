{
 "cells": [
  {
   "cell_type": "markdown",
   "id": "73702b00",
   "metadata": {},
   "source": [
    "   \n",
    "# Piles\n",
    "## Définition\n",
    "Une *pile* (*stack* en anglais) est une structure de données linéaire dynamique, dans laquelle l'insertion ou la suppression d'un élément s'effectue toujours à partir de la même extrémité, appelée *sommet* de la pile. On parle de structure de type *LIFO* (*Last In, First Out*). \n",
    "\n",
    "Cette structure nécessite :\n",
    "\n",
    "- un constructeur permettant de créer une pile vide ;\n",
    "- une fonction permettant d'*empiler* (*push*) un élément, c'est-à-dire d'ajouter un élément dans la pile :\n",
    "- une fonction permettant de *dépiler* (*pop*) un élément, c'est-à-dire de supprimer l'élément au sommet de la pile et de le renvoyer ;\n",
    "- une fonction permettant de tester si la pile est vide.\n",
    "\n",
    "\n",
    "## Implémentation à l'aide d'une liste\n",
    "La structure de pile nécessite de pouvoir accéder en temps constant au sommet de la pile pour l'ajout ou la suppression d'un élément. La structure de liste semble plutôt bien adaptée, mais il s'agit d'une structure persistante, alors que la structure de liste est une structure impérative, donc nécessite d'avoir des objets mutables. On définit le type suivant :"
   ]
  },
  {
   "cell_type": "code",
   "execution_count": 1,
   "id": "f176c848",
   "metadata": {},
   "outputs": [
    {
     "data": {
      "text/plain": [
       "type 'a pile = { mutable pile : 'a list; }\n"
      ]
     },
     "execution_count": 1,
     "metadata": {},
     "output_type": "execute_result"
    }
   ],
   "source": [
    "type 'a pile = {\n",
    "    mutable pile : 'a list\n",
    "  };;"
   ]
  },
  {
   "cell_type": "markdown",
   "id": "819db9f0",
   "metadata": {},
   "source": [
    "On définit ensuite les opérations primitives."
   ]
  },
  {
   "cell_type": "code",
   "execution_count": 2,
   "id": "56d04437",
   "metadata": {},
   "outputs": [
    {
     "data": {
      "text/plain": [
       "val creer_pile : unit -> 'a pile = <fun>\n"
      ]
     },
     "execution_count": 2,
     "metadata": {},
     "output_type": "execute_result"
    }
   ],
   "source": [
    "let creer_pile () =  {pile = []};;"
   ]
  },
  {
   "cell_type": "code",
   "execution_count": 3,
   "id": "49917c72",
   "metadata": {},
   "outputs": [
    {
     "data": {
      "text/plain": [
       "val ma_pile : '_weak1 pile = {pile = []}\n"
      ]
     },
     "execution_count": 3,
     "metadata": {},
     "output_type": "execute_result"
    }
   ],
   "source": [
    "let ma_pile = creer_pile ();;"
   ]
  },
  {
   "cell_type": "code",
   "execution_count": 4,
   "id": "9cd9fe22",
   "metadata": {},
   "outputs": [
    {
     "data": {
      "text/plain": [
       "val est_vide : 'a pile -> bool = <fun>\n"
      ]
     },
     "execution_count": 4,
     "metadata": {},
     "output_type": "execute_result"
    }
   ],
   "source": [
    "let est_vide p = p.pile = [] ;;"
   ]
  },
  {
   "cell_type": "code",
   "execution_count": 5,
   "id": "53f400a6",
   "metadata": {},
   "outputs": [
    {
     "data": {
      "text/plain": [
       "- : bool = true\n"
      ]
     },
     "execution_count": 5,
     "metadata": {},
     "output_type": "execute_result"
    }
   ],
   "source": [
    "est_vide ma_pile;;"
   ]
  },
  {
   "cell_type": "code",
   "execution_count": 6,
   "id": "b071f147",
   "metadata": {},
   "outputs": [
    {
     "data": {
      "text/plain": [
       "val empile : 'a -> 'a pile -> unit = <fun>\n"
      ]
     },
     "execution_count": 6,
     "metadata": {},
     "output_type": "execute_result"
    }
   ],
   "source": [
    "let empile x p =\n",
    "  p.pile <- x::p.pile\n",
    ";;"
   ]
  },
  {
   "cell_type": "code",
   "execution_count": 7,
   "id": "04f6e05e",
   "metadata": {},
   "outputs": [
    {
     "data": {
      "text/plain": [
       "- : unit = ()\n"
      ]
     },
     "execution_count": 7,
     "metadata": {},
     "output_type": "execute_result"
    }
   ],
   "source": [
    "empile 'l' ma_pile;;"
   ]
  },
  {
   "cell_type": "code",
   "execution_count": 8,
   "id": "6f5325ce",
   "metadata": {},
   "outputs": [
    {
     "data": {
      "text/plain": [
       "- : char pile = {pile = ['l']}\n"
      ]
     },
     "execution_count": 8,
     "metadata": {},
     "output_type": "execute_result"
    }
   ],
   "source": [
    "ma_pile;;"
   ]
  },
  {
   "cell_type": "code",
   "execution_count": 9,
   "id": "5b272ed7",
   "metadata": {},
   "outputs": [
    {
     "ename": "error",
     "evalue": "compile_error",
     "output_type": "error",
     "traceback": [
      "File \"[9]\", line 1, characters 10-17:\n1 | empile 14 ma_pile;;\n              ^^^^^^^\nError: This expression has type char pile\n       but an expression was expected of type int pile\n       Type char is not compatible with type int \n"
     ]
    }
   ],
   "source": [
    "empile 14 ma_pile;;"
   ]
  },
  {
   "cell_type": "code",
   "execution_count": 10,
   "id": "5c045250",
   "metadata": {},
   "outputs": [
    {
     "data": {
      "text/plain": [
       "val depile : 'a pile -> 'a = <fun>\n"
      ]
     },
     "execution_count": 10,
     "metadata": {},
     "output_type": "execute_result"
    }
   ],
   "source": [
    "let depile p =\n",
    "  match p.pile with\n",
    "  | [] -> failwith \"Pile vide\"\n",
    "  | t::q -> p.pile <- q ; t\n",
    ";;"
   ]
  },
  {
   "cell_type": "code",
   "execution_count": 11,
   "id": "93a21618",
   "metadata": {},
   "outputs": [
    {
     "data": {
      "text/plain": [
       "- : char = 'l'\n"
      ]
     },
     "execution_count": 11,
     "metadata": {},
     "output_type": "execute_result"
    }
   ],
   "source": [
    "depile ma_pile;;"
   ]
  },
  {
   "cell_type": "code",
   "execution_count": 12,
   "id": "b7ea9d62",
   "metadata": {},
   "outputs": [
    {
     "data": {
      "text/plain": [
       "- : char pile = {pile = []}\n"
      ]
     },
     "execution_count": 12,
     "metadata": {},
     "output_type": "execute_result"
    }
   ],
   "source": [
    "ma_pile;;"
   ]
  },
  {
   "cell_type": "code",
   "execution_count": 13,
   "id": "77ad7f60",
   "metadata": {},
   "outputs": [
    {
     "data": {
      "text/plain": [
       "val pp : '_weak2 pile = {pile = []}\n"
      ]
     },
     "execution_count": 13,
     "metadata": {},
     "output_type": "execute_result"
    },
    {
     "name": "stdout",
     "output_type": "stream",
     "text": [
      "10\n",
      "9\n",
      "8\n",
      "7\n",
      "6\n",
      "5\n",
      "4\n",
      "3\n",
      "2\n",
      "1\n"
     ]
    },
    {
     "data": {
      "text/plain": [
       "- : unit = ()\n"
      ]
     },
     "execution_count": 13,
     "metadata": {},
     "output_type": "execute_result"
    }
   ],
   "source": [
    "let pp = creer_pile ();;\n",
    "for i = 1 to 10 do empile i pp done;\n",
    "while not (est_vide pp) \n",
    "do print_int (depile pp) ; print_newline() \n",
    "done;;"
   ]
  },
  {
   "cell_type": "markdown",
   "id": "7fea4e63",
   "metadata": {},
   "source": [
    "Toutes ces opérations s'effectuent en temps constant $O(1)$."
   ]
  },
  {
   "cell_type": "markdown",
   "id": "b86c27c2",
   "metadata": {},
   "source": [
    "## Implémentation à l'aide d'un tableau\n",
    "On stocke les éléments de la pile dans un tableau, en gérant une variable pour la hauteur de la pile. Cette donnée peut éventuellement être stockée en premier élément du tableau.\n",
    "\n",
    "       "
   ]
  },
  {
   "cell_type": "code",
   "execution_count": 14,
   "id": "643c336d",
   "metadata": {},
   "outputs": [
    {
     "data": {
      "text/plain": [
       "type 'a pile = { mutable hauteur : int; pile : 'a option array; }\n"
      ]
     },
     "execution_count": 14,
     "metadata": {},
     "output_type": "execute_result"
    }
   ],
   "source": [
    "type 'a pile = {\n",
    "    mutable hauteur : int ;\n",
    "    pile : 'a option array\n",
    "  };;"
   ]
  },
  {
   "cell_type": "markdown",
   "id": "9489decc",
   "metadata": {},
   "source": [
    "La fonction de création de pile doit prendre en paramètre une taille maximale (ou *capacité*) de la pile qui permettra d'initialiser le tableau, ainsi qu'une \"valeur initiale\" dont le seul intérêt sera d'initialiser le tableau avec des valeurs du bon type."
   ]
  },
  {
   "cell_type": "code",
   "execution_count": 15,
   "id": "9a39808f",
   "metadata": {},
   "outputs": [
    {
     "data": {
      "text/plain": [
       "val creer_pile : int -> 'a pile = <fun>\n"
      ]
     },
     "execution_count": 15,
     "metadata": {},
     "output_type": "execute_result"
    }
   ],
   "source": [
    "let creer_pile c =  {\n",
    "    hauteur = 0 ;\n",
    "    pile = Array.make c None\n",
    "  };;"
   ]
  },
  {
   "cell_type": "code",
   "execution_count": 16,
   "id": "98d34fc8",
   "metadata": {},
   "outputs": [
    {
     "data": {
      "text/plain": [
       "val ma_pile : '_weak3 pile =\n",
       "  {hauteur = 0; pile = [|None; None; None; None; None|]}\n"
      ]
     },
     "execution_count": 16,
     "metadata": {},
     "output_type": "execute_result"
    }
   ],
   "source": [
    "let ma_pile = creer_pile 5;;"
   ]
  },
  {
   "cell_type": "markdown",
   "id": "0fd6abc6",
   "metadata": {},
   "source": [
    "Pour gérer les erreurs lorsqu'on souhaite empiler dans une pile pleine ou dépiler une pile vide, on peut créer deux exceptions."
   ]
  },
  {
   "cell_type": "code",
   "execution_count": 17,
   "id": "a627e6e2",
   "metadata": {},
   "outputs": [
    {
     "data": {
      "text/plain": [
       "val est_vide : 'a pile -> bool = <fun>\n"
      ]
     },
     "execution_count": 17,
     "metadata": {},
     "output_type": "execute_result"
    }
   ],
   "source": [
    "let est_vide p = p.hauteur = 0;;"
   ]
  },
  {
   "cell_type": "code",
   "execution_count": 18,
   "id": "d1c11ee0",
   "metadata": {},
   "outputs": [
    {
     "data": {
      "text/plain": [
       "val empile : 'a -> 'a pile -> unit = <fun>\n"
      ]
     },
     "execution_count": 18,
     "metadata": {},
     "output_type": "execute_result"
    }
   ],
   "source": [
    "let empile x p =\n",
    "  if p.hauteur = Array.length p.pile \n",
    "  then failwith \"Pile pleine\"\n",
    "  else\n",
    "    begin\n",
    "      p.pile.(p.hauteur) <- Some x ;\n",
    "      p.hauteur <- p.hauteur + 1 \n",
    "    end\n",
    ";;"
   ]
  },
  {
   "cell_type": "code",
   "execution_count": 19,
   "id": "018f9bf4",
   "metadata": {},
   "outputs": [
    {
     "data": {
      "text/plain": [
       "- : unit = ()\n"
      ]
     },
     "execution_count": 19,
     "metadata": {},
     "output_type": "execute_result"
    }
   ],
   "source": [
    "empile 1 ma_pile;;"
   ]
  },
  {
   "cell_type": "code",
   "execution_count": 20,
   "id": "3288caf4",
   "metadata": {},
   "outputs": [
    {
     "data": {
      "text/plain": [
       "- : unit = ()\n"
      ]
     },
     "execution_count": 20,
     "metadata": {},
     "output_type": "execute_result"
    },
    {
     "data": {
      "text/plain": [
       "- : int pile =\n",
       "{hauteur = 5; pile = [|Some 1; Some 2; Some 3; Some 4; Some 5|]}\n"
      ]
     },
     "execution_count": 20,
     "metadata": {},
     "output_type": "execute_result"
    }
   ],
   "source": [
    "for i = 2 to 5 do empile i ma_pile done;;\n",
    "ma_pile;;"
   ]
  },
  {
   "cell_type": "code",
   "execution_count": 21,
   "id": "92300b5e",
   "metadata": {},
   "outputs": [
    {
     "ename": "error",
     "evalue": "runtime_error",
     "output_type": "error",
     "traceback": [
      "\u001b[31mException: Failure \"Pile pleine\".\nRaised at file \"stdlib.ml\", line 29, characters 22-33\nCalled from file \"toplevel/toploop.ml\", line 208, characters 17-27\n\u001b[0m"
     ]
    }
   ],
   "source": [
    "empile 6 ma_pile;;"
   ]
  },
  {
   "cell_type": "code",
   "execution_count": 22,
   "id": "ba48f183",
   "metadata": {},
   "outputs": [
    {
     "data": {
      "text/plain": [
       "val depile : 'a pile -> 'a = <fun>\n"
      ]
     },
     "execution_count": 22,
     "metadata": {},
     "output_type": "execute_result"
    }
   ],
   "source": [
    "let depile p =\n",
    "  if est_vide p\n",
    "  then failwith \"Pile vide\"\n",
    "  else\n",
    "    begin\n",
    "      p.hauteur <- p.hauteur - 1 ;\n",
    "      match p.pile.(p.hauteur) with\n",
    "      | Some x -> x\n",
    "      | None -> failwith \"Non possible\"\n",
    "    end\n",
    ";;"
   ]
  },
  {
   "cell_type": "code",
   "execution_count": 23,
   "id": "91d12dae",
   "metadata": {},
   "outputs": [
    {
     "data": {
      "text/plain": [
       "- : int = 5\n"
      ]
     },
     "execution_count": 23,
     "metadata": {},
     "output_type": "execute_result"
    }
   ],
   "source": [
    "depile ma_pile;;"
   ]
  },
  {
   "cell_type": "code",
   "execution_count": 24,
   "id": "510e735c",
   "metadata": {},
   "outputs": [
    {
     "data": {
      "text/plain": [
       "- : int pile =\n",
       "{hauteur = 4; pile = [|Some 1; Some 2; Some 3; Some 4; Some 5|]}\n"
      ]
     },
     "execution_count": 24,
     "metadata": {},
     "output_type": "execute_result"
    }
   ],
   "source": [
    "ma_pile;;"
   ]
  },
  {
   "cell_type": "code",
   "execution_count": null,
   "id": "c04952c5",
   "metadata": {},
   "outputs": [],
   "source": []
  },
  {
   "cell_type": "markdown",
   "id": "18d9dd44",
   "metadata": {},
   "source": [
    "Toutes ces opérations s'effectuent en temps constant $O(1)$, sauf la création de la pile qui s'effectue en $O(c)$ où $c$ est la capacité de la pile.\n",
    "\n",
    "\n",
    "L'inconvénient de cette implémentation est qu'elle fixe dès la création de la pile la taille de celle-ci ; dans le cas où cette taille a été sous-estimée, la pile déborde ; si elle est sur-estimée, on réserve de l'espace en mémoire qui ne sera jamais utilisé. Les débordements peuvent éventuellement être gérés en réallouant le tableau si besoin.\n",
    "\n",
    "## Module `Stack`\n",
    "OCaml dispose d'un module appelé `Stack` permettant de créer et de manipuler des piles :"
   ]
  },
  {
   "cell_type": "code",
   "execution_count": 25,
   "id": "819c157a",
   "metadata": {},
   "outputs": [
    {
     "data": {
      "text/plain": [
       "val maPile : '_weak4 Stack.t = <abstr>\n"
      ]
     },
     "execution_count": 25,
     "metadata": {},
     "output_type": "execute_result"
    }
   ],
   "source": [
    "let maPile = Stack.create();;"
   ]
  },
  {
   "cell_type": "code",
   "execution_count": 26,
   "id": "9e589af9",
   "metadata": {},
   "outputs": [
    {
     "data": {
      "text/plain": [
       "- : unit = ()\n"
      ]
     },
     "execution_count": 26,
     "metadata": {},
     "output_type": "execute_result"
    },
    {
     "data": {
      "text/plain": [
       "- : int Stack.t = <abstr>\n"
      ]
     },
     "execution_count": 26,
     "metadata": {},
     "output_type": "execute_result"
    }
   ],
   "source": [
    "Stack.push 0 maPile;;\n",
    "maPile;;"
   ]
  },
  {
   "cell_type": "code",
   "execution_count": 27,
   "id": "5d266182",
   "metadata": {},
   "outputs": [
    {
     "data": {
      "text/plain": [
       "- : unit = ()\n"
      ]
     },
     "execution_count": 27,
     "metadata": {},
     "output_type": "execute_result"
    }
   ],
   "source": [
    "for i = 1 to 6 do\n",
    "  Stack.push i maPile\n",
    "done;;"
   ]
  },
  {
   "cell_type": "code",
   "execution_count": 28,
   "id": "e611474f",
   "metadata": {},
   "outputs": [
    {
     "name": "stdout",
     "output_type": "stream",
     "text": [
      "6 5 4 3 2 1 0 \n"
     ]
    },
    {
     "data": {
      "text/plain": [
       "- : unit = ()\n"
      ]
     },
     "execution_count": 28,
     "metadata": {},
     "output_type": "execute_result"
    }
   ],
   "source": [
    "while not (Stack.is_empty maPile) do\n",
    "  print_int (Stack.pop maPile);\n",
    "  print_char ' '\n",
    "done;\n",
    "print_newline ()"
   ]
  },
  {
   "cell_type": "markdown",
   "id": "1f187624",
   "metadata": {},
   "source": [
    "# Files\n",
    "## Définition\n",
    "Une *file* (*queue* en anglais) est  aussi une structure de données linéaire dynamique, mais l'insertion d'un élément s'effectue d'un côté de la file alors que la suppression s'effectue de l'autre côté. On parle de structure de type *FIFO* (*First In, First Out*). \n",
    "\n",
    "Cette structure nécessite :\n",
    "\n",
    "- un constructeur permettant de créer une pile vide ;\n",
    "- une fonction permettant d'*enfiler* (*push/add*) un élément, c'est-à-dire d'ajouter un élément à la fin de la file ;\n",
    "- une fonction permettant de *défiler* (*pop/take*) un élément, c'est-à-dire de supprimer l'élément au début de la file et de le renvoyer ;\n",
    "- une fonction permettant de tester si la file est vide.\n",
    "\n",
    "\n",
    "## Implémentation à l'aide de deux listes\n",
    "Il est plus délicat d'implémenter la structure de file, car il faudrait pouvoir accéder en temps constant aux deux extrémités de la file. \n",
    "\n",
    "L'implémentation proposée dans ce paragraphe n'atteint pas tout à fait cet objectif. On va ici utiliser deux listes : une première liste utilisée pour insérer des éléments, la seconde pour en enlever."
   ]
  },
  {
   "cell_type": "code",
   "execution_count": 29,
   "id": "d45795dd",
   "metadata": {},
   "outputs": [
    {
     "data": {
      "text/plain": [
       "type 'a file = { mutable entree : 'a list; mutable sortie : 'a list; }\n"
      ]
     },
     "execution_count": 29,
     "metadata": {},
     "output_type": "execute_result"
    }
   ],
   "source": [
    "type 'a file = {\n",
    "    mutable entree : 'a list ;\n",
    "    mutable sortie : 'a list\n",
    "  };;"
   ]
  },
  {
   "cell_type": "markdown",
   "id": "f01936ca",
   "metadata": {},
   "source": [
    "Seule l'opération *défiler* pose des difficultés. En effet, si la liste de sortie est vide, il faut basculer les éléments de la liste d'entrée dans la liste de sortie :"
   ]
  },
  {
   "cell_type": "code",
   "execution_count": 30,
   "id": "88ab58f2",
   "metadata": {},
   "outputs": [
    {
     "data": {
      "text/plain": [
       "val creer_file : unit -> 'a file = <fun>\n"
      ]
     },
     "execution_count": 30,
     "metadata": {},
     "output_type": "execute_result"
    }
   ],
   "source": [
    "let creer_file () = {entree = []; sortie = []};;"
   ]
  },
  {
   "cell_type": "code",
   "execution_count": 31,
   "id": "79d082c3",
   "metadata": {},
   "outputs": [
    {
     "data": {
      "text/plain": [
       "val est_vide : 'a file -> bool = <fun>\n"
      ]
     },
     "execution_count": 31,
     "metadata": {},
     "output_type": "execute_result"
    }
   ],
   "source": [
    "let est_vide f = f.entree = [] && f.sortie = [];;"
   ]
  },
  {
   "cell_type": "code",
   "execution_count": 32,
   "id": "222c731d",
   "metadata": {},
   "outputs": [
    {
     "data": {
      "text/plain": [
       "val enfile : 'a file -> 'a -> unit = <fun>\n"
      ]
     },
     "execution_count": 32,
     "metadata": {},
     "output_type": "execute_result"
    }
   ],
   "source": [
    "let enfile f x =  f.entree <- x::f.entree;;"
   ]
  },
  {
   "cell_type": "code",
   "execution_count": 33,
   "id": "d224aba3",
   "metadata": {},
   "outputs": [
    {
     "data": {
      "text/plain": [
       "val miroir : 'a list -> 'a list = <fun>\n"
      ]
     },
     "execution_count": 33,
     "metadata": {},
     "output_type": "execute_result"
    },
    {
     "data": {
      "text/plain": [
       "val defile : 'a file -> 'a = <fun>\n"
      ]
     },
     "execution_count": 33,
     "metadata": {},
     "output_type": "execute_result"
    }
   ],
   "source": [
    "let miroir lst =\n",
    "  let rec aux lst acc =\n",
    "    match lst with\n",
    "    | [] -> acc\n",
    "    | t::q -> aux q (t::acc)\n",
    "  in\n",
    "  aux lst [];;\n",
    "  \n",
    "let rec defile f =\n",
    "  match f.sortie with\n",
    "  | t::q -> f.sortie <- q ; t\n",
    "  | [] ->\n",
    "     match f.entree with\n",
    "     | [] -> failwith \"File Vide\"\n",
    "     | _ -> f.sortie <- miroir f.entree ;\n",
    "            f.entree <- [];\n",
    "            defile f\n",
    ";;"
   ]
  },
  {
   "cell_type": "markdown",
   "id": "8f856b8d",
   "metadata": {},
   "source": [
    "Toutes les opérations s'effectuent en temps constant, sauf l'opération *défiler* lorsque la liste de sortie est vide. Dans ce cas, la complexité est linéaire par rapport au nombre d'éléments de la file.\n",
    "\n",
    "Néanmoins, ce cas ne se produit pas trop souvent. En effet, lorsqu'il y a $n$ éléments dans la file et que la liste de sortie est vide, le coût est $O(n)$, mais les $n-1$ prochaines opérations *défiler* seront réalisées en temps constant. Par conséquent, pour ces $n$ opérations, le coût total est $O(n)$ donc le coût moyen est $O(1)$. On dit que la complexité *amortie* de l'opération *défiler* est $O(1)$.\n",
    "\n",
    "## Implémentation à l'aide d'un tableau\n",
    "Pour implémenter une file à l'aide d'un tableau, on considère le tableau des éléments comme circulaire : on utilise deux indices qui indiquent les positions de la tête de file (le prochain à sortir) et de la queue de file (la position du prochain élément inséré)."
   ]
  },
  {
   "cell_type": "code",
   "execution_count": 34,
   "id": "e8e763d2",
   "metadata": {},
   "outputs": [
    {
     "data": {
      "text/plain": [
       "type 'a file = {\n",
       "  mutable longueur : int;\n",
       "  mutable debut : int;\n",
       "  mutable fin : int;\n",
       "  file : 'a array;\n",
       "}\n"
      ]
     },
     "execution_count": 34,
     "metadata": {},
     "output_type": "execute_result"
    }
   ],
   "source": [
    "type 'a file =  {\n",
    "    mutable longueur : int ;\n",
    "    mutable debut : int ;\n",
    "    mutable fin : int ;\n",
    "    file : 'a array };;"
   ]
  },
  {
   "cell_type": "code",
   "execution_count": 35,
   "id": "7b4b7441",
   "metadata": {},
   "outputs": [
    {
     "data": {
      "text/plain": [
       "val creer_file : int -> 'a -> 'a file = <fun>\n"
      ]
     },
     "execution_count": 35,
     "metadata": {},
     "output_type": "execute_result"
    }
   ],
   "source": [
    "let creer_file n i =  {\n",
    "    longueur = 0 ;\n",
    "    debut = 0;\n",
    "    fin = 0 ;\n",
    "    file = Array.make n i\n",
    "  };;"
   ]
  },
  {
   "cell_type": "code",
   "execution_count": 36,
   "id": "2735066a",
   "metadata": {},
   "outputs": [
    {
     "data": {
      "text/plain": [
       "val est_vide : 'a file -> bool = <fun>\n"
      ]
     },
     "execution_count": 36,
     "metadata": {},
     "output_type": "execute_result"
    }
   ],
   "source": [
    "let est_vide f = f.longueur = 0 ;;"
   ]
  },
  {
   "cell_type": "code",
   "execution_count": 37,
   "id": "0410d365",
   "metadata": {},
   "outputs": [
    {
     "data": {
      "text/plain": [
       "val enfile : 'a -> 'a file -> unit = <fun>\n"
      ]
     },
     "execution_count": 37,
     "metadata": {},
     "output_type": "execute_result"
    }
   ],
   "source": [
    "let enfile x f = \n",
    "  let n = Array.length f.file in\n",
    "  if f.longueur = n\n",
    "  then failwith \"File pleine\"\n",
    "  else\n",
    "    begin\n",
    "      f.file.(f.fin) <- x ;\n",
    "      f.fin <- (f.fin + 1) mod n ;\n",
    "      f.longueur <- f.longueur + 1\n",
    "    end\n",
    ";;"
   ]
  },
  {
   "cell_type": "code",
   "execution_count": 38,
   "id": "5b4adec8",
   "metadata": {},
   "outputs": [
    {
     "data": {
      "text/plain": [
       "val defile : 'a file -> 'a = <fun>\n"
      ]
     },
     "execution_count": 38,
     "metadata": {},
     "output_type": "execute_result"
    }
   ],
   "source": [
    "let defile f =\n",
    "  let n = Array.length f.file in\n",
    "  if est_vide f\n",
    "  then failwith \"File vide\"\n",
    "  else\n",
    "    begin\n",
    "      let x = f.file.(f.debut) in\n",
    "      f.debut <- (f.debut + 1) mod n ;\n",
    "      f.longueur <- f.longueur - 1;\n",
    "      x \n",
    "    end\n",
    ";;"
   ]
  },
  {
   "cell_type": "markdown",
   "id": "d470c6cb",
   "metadata": {},
   "source": [
    "Toutes ces opérations s'effectuent en temps constant $O(1)$, sauf la création de la file qui s'effectue en $O(c)$ où $c$ est la capacité de la pile."
   ]
  },
  {
   "cell_type": "markdown",
   "id": "795af60b",
   "metadata": {},
   "source": [
    "## Module `Queue`\n",
    "Ocaml dispose d'un module appelé `Queue` permettant de créer et de manipuler des files :"
   ]
  },
  {
   "cell_type": "code",
   "execution_count": 39,
   "id": "fdcfeca9",
   "metadata": {},
   "outputs": [
    {
     "data": {
      "text/plain": [
       "val maFile : '_weak5 Queue.t = <abstr>\n"
      ]
     },
     "execution_count": 39,
     "metadata": {},
     "output_type": "execute_result"
    }
   ],
   "source": [
    "let maFile = Queue.create ();;"
   ]
  },
  {
   "cell_type": "code",
   "execution_count": 40,
   "id": "a8e4b130",
   "metadata": {},
   "outputs": [
    {
     "data": {
      "text/plain": [
       "- : unit = ()\n"
      ]
     },
     "execution_count": 40,
     "metadata": {},
     "output_type": "execute_result"
    }
   ],
   "source": [
    "for i = 1 to 15 do\n",
    "  Queue.add i maFile\n",
    "done;;"
   ]
  },
  {
   "cell_type": "code",
   "execution_count": 41,
   "id": "e6808743",
   "metadata": {},
   "outputs": [
    {
     "name": "stdout",
     "output_type": "stream",
     "text": [
      "1 2 3 4 5 6 7 8 9 10 11 12 13 14 15 \n"
     ]
    },
    {
     "data": {
      "text/plain": [
       "- : unit = ()\n"
      ]
     },
     "execution_count": 41,
     "metadata": {},
     "output_type": "execute_result"
    }
   ],
   "source": [
    "while not (Queue.is_empty maFile) do\n",
    "  print_int (Queue.take maFile);\n",
    "  print_char ' '\n",
    "done;\n",
    "print_newline();;"
   ]
  },
  {
   "cell_type": "markdown",
   "id": "01307405",
   "metadata": {},
   "source": [
    "# Files de priorité\n",
    "Une file de priorité suit le même principe qu'une file, mais chaque élément de la file est associé à une priorité, en général représentée par un entier. La file de priorité stocke donc des couples $(e,p)$ où $e$ est un élément et $p$ un entier (la priorité).\n",
    "\n",
    "Le prochain élément à sortir de la file est celui qui a la plus grande priorité (dans le cas d'une file de priorité max ; on parle sinon de file de priorité min).\n",
    "\n",
    "Les opérations sur les files de priorité sont les suivantes :\n",
    "\n",
    "- création d'une file de priorité vide ;\n",
    "- test permettant de savoir si une file de priorité est vide ;\n",
    "- suppression et renvoi de l'élément de plus grande priorité d'une file non vide ;\n",
    "- ajout d'un élément avec une priorité donnée ;\n",
    "- éventuellement modification de la priorité d'un élément (il faut alors imposer que les éléments de la file soient distincts)."
   ]
  },
  {
   "cell_type": "markdown",
   "id": "f9cfb3ff",
   "metadata": {},
   "source": [
    "# Exercice\n",
    "## Évaluation d'expressions arithmétiques postfixées\n",
    "On écrit habituellement les expressions arithmétiques sous forme *infixe*, en faisant figurer les opérateurs entre leur deux opérandes. Néanmoins, cette notation est ambiguë si on ne définit pas les priorités entre opérateurs : $1+2 \\times 3$ peut représenter $(1+2)\\times 3$ ou $1+(2\\times 3)$. Il faut alors introduire des règles de priorité ou des parenthèses.\n",
    "\n",
    "La notation \\textit{postfixée} consiste à écrire d'abord les opérandes, puis leur opérateur ; par exemple $3+4$ s'écrit «$3 \\quad 4\\quad +$» ; $(2 + 4)\\times 3$ s'écrit «$2\\quad 4 \\quad +\\quad 3 \\quad \\times$». L'avantage de cette notation est que les expressions sont alors non ambiguës : pas besoin de parenthèses ni de règles de priorité.\n",
    "\n",
    "L'évaluation d'une telle expression est réalisée à l'aide d'une pile. On lit l'expression de gauche à droite : lorsqu'on lit un entier, on l'empile ; lorsqu'on lit un opérateur, on dépile deux éléments (ses deux opérandes), on effectue l'opération et on empile le résultat.\n",
    "\n",
    "A la fin de l'évaluation, la pile ne contient plus qu'un élément, qui est le résultat de son évaluation. \n",
    "\n",
    "On va représenter une expression sous la forme d'une liste d'opérateurs et d'entiers. \n",
    "\n",
    "- Définir un type `lexeme` permettant de représenter soit un opérateur binaire, soit un entier.\n",
    "- Écrire une fonction `evalue : lexeme list -> int` qui prend en argument une expression sous forme de liste et qui renvoie le résultat de cette expression."
   ]
  },
  {
   "cell_type": "code",
   "execution_count": 42,
   "id": "d5f4aa6b",
   "metadata": {},
   "outputs": [
    {
     "data": {
      "text/plain": [
       "type lexeme = Entier of int | Plus | Moins | Fois | Quot\n"
      ]
     },
     "execution_count": 42,
     "metadata": {},
     "output_type": "execute_result"
    },
    {
     "name": "stderr",
     "output_type": "stream",
     "text": [
      "File \"[42]\", line 24, characters 11-124:\n",
      "24 | ...........match t with\n",
      "25 |            | Plus -> a+b\n",
      "26 |            | Moins -> b-a\n",
      "27 |            | Fois -> a*b\n",
      "28 |            | Quot -> b/a\n",
      "Warning 8: this pattern-matching is not exhaustive.\n",
      "Here is an example of a case that is not matched:\n",
      "Entier _\n"
     ]
    },
    {
     "data": {
      "text/plain": [
       "val evalue : lexeme list -> int = <fun>\n"
      ]
     },
     "execution_count": 42,
     "metadata": {},
     "output_type": "execute_result"
    }
   ],
   "source": [
    "type lexeme =\n",
    "  | Entier of int\n",
    "  | Plus\n",
    "  | Moins\n",
    "  | Fois\n",
    "  | Quot\n",
    ";;\n",
    "\n",
    "let evalue lst =\n",
    "  let pile = Stack.create () in\n",
    "  let rec eval reste =\n",
    "    match reste with\n",
    "    | [] -> let r = Stack.pop pile in\n",
    "            if Stack.is_empty pile\n",
    "            then r\n",
    "            else failwith \"Expression incorrecte\"\n",
    "    | (Entier a)::q -> Stack.push a pile;\n",
    "                       eval q\n",
    "    | t::q  ->\n",
    "       try\n",
    "         let a = Stack.pop pile in\n",
    "         let b = Stack.pop pile in\n",
    "         let res =\n",
    "           match t with\n",
    "           | Plus -> a+b\n",
    "           | Moins -> b-a\n",
    "           | Fois -> a*b\n",
    "           | Quot -> b/a\n",
    "         in\n",
    "         Stack.push res pile;\n",
    "         eval q\n",
    "       with\n",
    "       | Stack.Empty -> failwith \"Expression incorrecte\"\n",
    "  in\n",
    "  eval lst\n",
    ";;"
   ]
  },
  {
   "cell_type": "code",
   "execution_count": 43,
   "id": "2f6a8b3d",
   "metadata": {},
   "outputs": [
    {
     "data": {
      "text/plain": [
       "type lexeme = Entier of int | Op of char\n"
      ]
     },
     "execution_count": 43,
     "metadata": {},
     "output_type": "execute_result"
    },
    {
     "ename": "error",
     "evalue": "compile_error",
     "output_type": "error",
     "traceback": [
      "File \"[43]\", line 11, characters 23-38:\n11 |             then raise ExpressionNotOk\n                            ^^^^^^^^^^^^^^^\nError: This variant expression is expected to have type exn\n       The constructor ExpressionNotOk does not belong to type exn\n"
     ]
    }
   ],
   "source": [
    "type lexeme =\n",
    "  | Entier of int\n",
    "  | Op of char\n",
    ";;\n",
    "\n",
    "let evalue lst =\n",
    "  let p = Stack.create () in\n",
    "  let rec eval l =\n",
    "    match l with\n",
    "    | [] -> if Stack.is_empty p\n",
    "            then raise ExpressionNotOk\n",
    "            else\n",
    "              begin\n",
    "                let r = Stack.pop p in\n",
    "                if Stack.is_empty p\n",
    "                then r\n",
    "                else failwith \"Expression incorrecte\"\n",
    "              end\n",
    "    | (Entier x)::q ->\n",
    "       (* On empile x *)\n",
    "       Stack.push x p;\n",
    "       (* On continue *)\n",
    "       eval q\n",
    "    | (Op c)::q ->\n",
    "       let y = Stack.pop p in\n",
    "       let x = Stack.pop p in\n",
    "       let res =\n",
    "         match c with\n",
    "         | '+' -> x+y\n",
    "         | '-' -> x-y\n",
    "         | '*' -> x*y\n",
    "         | '/' -> x/y\n",
    "         | _ -> failwith \"Expression incorrecte\"\n",
    "       in\n",
    "       Stack.push res p;\n",
    "       eval q\n",
    "  in\n",
    "  eval lst\n",
    ";;                \n",
    "       \n",
    "evalue [Entier 2; Entier 4; Op '+'; Entier 3 ; Op '*']"
   ]
  },
  {
   "cell_type": "code",
   "execution_count": null,
   "id": "87be4c9c",
   "metadata": {},
   "outputs": [],
   "source": []
  }
 ],
 "metadata": {
  "kernelspec": {
   "display_name": "OCaml default",
   "language": "OCaml",
   "name": "ocaml-jupyter"
  },
  "language_info": {
   "codemirror_mode": "text/x-ocaml",
   "file_extension": ".ml",
   "mimetype": "text/x-ocaml",
   "name": "OCaml",
   "nbconverter_exporter": null,
   "pygments_lexer": "OCaml",
   "version": "4.08.1"
  }
 },
 "nbformat": 4,
 "nbformat_minor": 5
}
