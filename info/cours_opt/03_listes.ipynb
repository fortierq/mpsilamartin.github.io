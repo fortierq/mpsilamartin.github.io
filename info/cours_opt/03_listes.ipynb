{
 "cells": [
  {
   "cell_type": "markdown",
   "id": "92674c8d",
   "metadata": {},
   "source": [
    "En informatique, une *structure de données* est la description d'une structure logique destinée à organiser et à agir sur des données, indépendamment de l'implémentation effective de cette structure (qui sera liée au langage utilisé). Les premières structures de données que nous étudierons sont les *listes simplement chaînées* (ou plus simplement, les *listes*). <br/>\n",
    "\n",
    "Avant de commencer, un avertissement : \n",
    "<div class=\"alert alert-danger\" role=\"alert\">\n",
    "    <b>Les \"listes\" Python ne sont pas des listes</b> (mais des tableaux dynamiques).\n",
    "</div>\n",
    "\n",
    "# Définition et première mise en œuvre\n",
    "Une *liste* est une structure de données immuable, contenant des données de même type, et obtenue à partir des opérations de construction suivantes :\n",
    "\n",
    "- la création d'une liste vide, appelée **nil** ;\n",
    "- l'ajout d'un élément $t$ en tête d'une liste $q$, parfois noté **cons ($t$, $q$)**. \n",
    "\n",
    "\n",
    "Lorsqu'une liste est non vide, elle est alors de la forme **cons ($t$, $q$)**, $t$ est appelé la *tête* de la liste, et $q$ sa *queue* (ou *reste*).<br/>\n",
    "\n",
    "Pour manipuler les listes, on dispose des trois opérations suivantes :\n",
    "\n",
    "- une opération testant si une liste est vide ou non ;\n",
    "- un *asssesseur* permettant d'obtenir la tête d'une liste non vide ;\n",
    "- un *asssesseur* permettant d'obtenir la queue d'une liste non vide.<br/>\n",
    "\n",
    "\n",
    "Donnons une première implémentation en OCaml du type liste, à l'aide d'un type récursif et polymorphe `'a liste` :"
   ]
  },
  {
   "cell_type": "code",
   "execution_count": 1,
   "id": "a8b56d9f",
   "metadata": {},
   "outputs": [
    {
     "name": "stdout",
     "output_type": "stream",
     "text": [
      "Cannot find file topfind.\n"
     ]
    },
    {
     "data": {
      "text/plain": [
       "type 'a liste = Nil | Cons of 'a * 'a liste\n"
      ]
     },
     "execution_count": 1,
     "metadata": {},
     "output_type": "execute_result"
    }
   ],
   "source": [
    "type 'a liste =\n",
    "  | Nil\n",
    "  | Cons of 'a * ('a liste)\n",
    ";;"
   ]
  },
  {
   "cell_type": "markdown",
   "id": "75a07469",
   "metadata": {},
   "source": [
    "La liste `lst` contenant les entiers $4$, $1$ et $3$ sera alors définie par :"
   ]
  },
  {
   "cell_type": "code",
   "execution_count": 2,
   "id": "cdee5726",
   "metadata": {},
   "outputs": [
    {
     "data": {
      "text/plain": [
       "val lst : int liste = Cons (4, Cons (1, Cons (3, Nil)))\n"
      ]
     },
     "execution_count": 2,
     "metadata": {},
     "output_type": "execute_result"
    }
   ],
   "source": [
    "let lst = Cons (4, Cons (1, Cons (3, Nil)));;"
   ]
  },
  {
   "cell_type": "markdown",
   "id": "a007b3f5",
   "metadata": {},
   "source": [
    "Les trois opérations d'accès sur les listes peuvent être décrites par les fonctions suivantes :"
   ]
  },
  {
   "cell_type": "code",
   "execution_count": 3,
   "id": "2f82cce5",
   "metadata": {},
   "outputs": [
    {
     "data": {
      "text/plain": [
       "val est_vide : 'a liste -> bool = <fun>\n"
      ]
     },
     "execution_count": 3,
     "metadata": {},
     "output_type": "execute_result"
    },
    {
     "data": {
      "text/plain": [
       "val tete : 'a liste -> 'a = <fun>\n"
      ]
     },
     "execution_count": 3,
     "metadata": {},
     "output_type": "execute_result"
    },
    {
     "data": {
      "text/plain": [
       "val queue : 'a liste -> 'a liste = <fun>\n"
      ]
     },
     "execution_count": 3,
     "metadata": {},
     "output_type": "execute_result"
    }
   ],
   "source": [
    "let est_vide l =\n",
    "  l = Nil\n",
    ";;\n",
    "\n",
    "let tete l =\n",
    "  match l with\n",
    "  | Cons (t, _) -> t\n",
    "  | _ -> failwith \"Liste vide\"\n",
    ";;\n",
    "\n",
    "let queue l =\n",
    "  match l with\n",
    "  | Cons (_, q) -> q\n",
    "  | _ -> failwith \"Liste vide\"\n",
    ";;\n"
   ]
  },
  {
   "cell_type": "code",
   "execution_count": 4,
   "id": "2e194b24",
   "metadata": {},
   "outputs": [
    {
     "data": {
      "text/plain": [
       "- : int liste = Cons (1, Cons (3, Nil))\n"
      ]
     },
     "execution_count": 4,
     "metadata": {},
     "output_type": "execute_result"
    }
   ],
   "source": [
    "queue lst;;"
   ]
  },
  {
   "cell_type": "markdown",
   "id": "29fe3807",
   "metadata": {},
   "source": [
    "Nous n'allons pas poursuivre avec notre type `'a liste`, car le type `'a list` existe déjà en OCaml.\n",
    "\n",
    "# La construction de listes en OCaml\n",
    "En Caml, la liste vide se note `[]`, et **cons ($t$,$q$)** se note `t::q`.\n",
    "\n",
    "L'opérateur `::` est associatif à droite : `x::y::z` désigne `x::(y::z)`."
   ]
  },
  {
   "cell_type": "code",
   "execution_count": 5,
   "id": "8f82033b",
   "metadata": {},
   "outputs": [
    {
     "data": {
      "text/plain": [
       "- : 'a list = []\n"
      ]
     },
     "execution_count": 5,
     "metadata": {},
     "output_type": "execute_result"
    }
   ],
   "source": [
    "[];;"
   ]
  },
  {
   "cell_type": "code",
   "execution_count": 6,
   "id": "d5775835",
   "metadata": {},
   "outputs": [
    {
     "data": {
      "text/plain": [
       "- : 'a -> 'a list -> 'a list = <fun>\n"
      ]
     },
     "execution_count": 6,
     "metadata": {},
     "output_type": "execute_result"
    }
   ],
   "source": [
    "fun x y -> x::y;;"
   ]
  },
  {
   "cell_type": "code",
   "execution_count": 7,
   "id": "bc7524ab",
   "metadata": {},
   "outputs": [
    {
     "data": {
      "text/plain": [
       "- : 'a -> 'a -> 'a list -> 'a list = <fun>\n"
      ]
     },
     "execution_count": 7,
     "metadata": {},
     "output_type": "execute_result"
    }
   ],
   "source": [
    "fun x y z -> x::y::z;;"
   ]
  },
  {
   "cell_type": "code",
   "execution_count": 8,
   "id": "0a6865af",
   "metadata": {},
   "outputs": [
    {
     "data": {
      "text/plain": [
       "val lst1 : int list = [5]\n"
      ]
     },
     "execution_count": 8,
     "metadata": {},
     "output_type": "execute_result"
    }
   ],
   "source": [
    "let lst1 = 5::[];;"
   ]
  },
  {
   "cell_type": "code",
   "execution_count": 9,
   "id": "3b054ef0",
   "metadata": {},
   "outputs": [
    {
     "data": {
      "text/plain": [
       "val lst2 : int list = [4; 5]\n"
      ]
     },
     "execution_count": 9,
     "metadata": {},
     "output_type": "execute_result"
    }
   ],
   "source": [
    "let lst2 = 4::lst1;;"
   ]
  },
  {
   "cell_type": "code",
   "execution_count": 10,
   "id": "79717213",
   "metadata": {},
   "outputs": [
    {
     "ename": "error",
     "evalue": "compile_error",
     "output_type": "error",
     "traceback": [
      "File \"[10]\", line 1, characters 19-23:\n1 | let lst3 = \"toto\"::lst2;;\n                       ^^^^\nError: This expression has type int list\n       but an expression was expected of type string list\n       Type int is not compatible with type string \n"
     ]
    }
   ],
   "source": [
    "let lst3 = \"toto\"::lst2;;"
   ]
  },
  {
   "cell_type": "markdown",
   "id": "517a403b",
   "metadata": {},
   "source": [
    "On remarque :\n",
    "\n",
    "- qu'il n'est pas possible de construire une liste avec une tête de type `string` et une queue de type `int list` ; cela est cohérent avec le fait que les éléments d'une liste doivent être de même type ;\n",
    "- que OCaml utilise une notation plus agréable pour afficher les listes : plutôt que d'afficher `4::5::[]`, OCaml affiche `[4; 5]`\n",
    "\n",
    "Cette notation est aussi acceptée en entrée :"
   ]
  },
  {
   "cell_type": "code",
   "execution_count": 11,
   "id": "61cac0db",
   "metadata": {},
   "outputs": [
    {
     "data": {
      "text/plain": [
       "val lst3 : int list = [4; 5]\n"
      ]
     },
     "execution_count": 11,
     "metadata": {},
     "output_type": "execute_result"
    }
   ],
   "source": [
    "let lst3 = [4; 5];;"
   ]
  },
  {
   "cell_type": "code",
   "execution_count": 12,
   "id": "3b7b3c94",
   "metadata": {},
   "outputs": [
    {
     "data": {
      "text/plain": [
       "- : bool = true\n"
      ]
     },
     "execution_count": 12,
     "metadata": {},
     "output_type": "execute_result"
    }
   ],
   "source": [
    "lst2 = lst3;;"
   ]
  },
  {
   "cell_type": "markdown",
   "id": "d8f2bbd4",
   "metadata": {},
   "source": [
    "La liste reste néanmoins construite de la même manière.\n",
    "\n",
    "# Filtrage\n",
    "On dispose de motifs de filtrage adaptés aux listes :\n",
    "\n",
    "- le motif `[]` filtre la liste vide ;\n",
    "- le motif `t::q` filtre toute liste non vide ; dans la suite de l'évaluation, `t` prendra la valeur de la tête de la liste et `q` celle de la queue.\n",
    "\n",
    "Il est facile à titre d'exemple de définir les fonctions `tete` et `queue` :"
   ]
  },
  {
   "cell_type": "code",
   "execution_count": 13,
   "id": "12b6fd4e",
   "metadata": {},
   "outputs": [
    {
     "data": {
      "text/plain": [
       "val tete : 'a list -> 'a = <fun>\n"
      ]
     },
     "execution_count": 13,
     "metadata": {},
     "output_type": "execute_result"
    }
   ],
   "source": [
    "let tete l =\n",
    "  match l with\n",
    "  | [] -> failwith \"Liste vide\"\n",
    "  | t::q -> t\n",
    ";;"
   ]
  },
  {
   "cell_type": "code",
   "execution_count": 14,
   "id": "4ac14863",
   "metadata": {},
   "outputs": [
    {
     "data": {
      "text/plain": [
       "val queue : 'a list -> 'a list = <fun>\n"
      ]
     },
     "execution_count": 14,
     "metadata": {},
     "output_type": "execute_result"
    }
   ],
   "source": [
    "let queue l =\n",
    "  match l with\n",
    "  | [] -> failwith \"Liste vide\"\n",
    "  | t::q -> q\n",
    ";;"
   ]
  },
  {
   "cell_type": "code",
   "execution_count": 15,
   "id": "b57c0c1f",
   "metadata": {},
   "outputs": [
    {
     "data": {
      "text/plain": [
       "- : int list = [6; 7; 9]\n"
      ]
     },
     "execution_count": 15,
     "metadata": {},
     "output_type": "execute_result"
    }
   ],
   "source": [
    "queue [4; 6; 7; 9]"
   ]
  },
  {
   "cell_type": "markdown",
   "id": "963e027e",
   "metadata": {},
   "source": [
    "Rappelons les motifs rencontrés jusqu'à présent : un motif est une des formes suivantes :\n",
    "\n",
    "- `-`, qui filtre tout sans qu'on puisse l'utiliser\n",
    "- constante flottante, entière, booléenne\n",
    "- variable\n",
    "- `[]`\n",
    "- *motif*`::`*motif*\n",
    "- *motif*, ..., *motif*\n",
    "- `Constructeur` *motif*\n",
    "\n",
    "On dit qu'un motif *filtre* une valeur $v$ lorsque, en remplaçant toutes les variables du motif et chaque occurrence de `_` par des valeurs bien choisies, on obtient $v$."
   ]
  },
  {
   "cell_type": "markdown",
   "id": "6d7a3b7d",
   "metadata": {},
   "source": [
    "*Remarque :* OCaml refuse tout motif dans lequel une même variable apparaît plus d'une fois."
   ]
  },
  {
   "cell_type": "code",
   "execution_count": 16,
   "id": "887f1495",
   "metadata": {},
   "outputs": [
    {
     "ename": "error",
     "evalue": "compile_error",
     "output_type": "error",
     "traceback": [
      "File \"[16]\", line 3, characters 9-10:\n3 |     | n, n -> true\n             ^\nError: Variable n is bound several times in this matching\n"
     ]
    }
   ],
   "source": [
    "let sont_egaux x y =\n",
    "    match x, y with\n",
    "    | n, n -> true\n",
    "    | _ -> false\n",
    ";;"
   ]
  },
  {
   "cell_type": "markdown",
   "id": "cae3f543",
   "metadata": {},
   "source": [
    "# Exercices divers\n",
    "\n",
    "## Exercice 1\n",
    "\n",
    "- Décrire en français courant les listes reconnues par les motifs suivants :\n",
    "    - `[x]` reconnaît les listes à un seul élément\n",
    "    - `x::[]` reconnaît les listes à un seul élément\n",
    "    - `x::2::[]` reconnaît les listes de deux entiers dont le deuxième élément est 2 \n",
    "    - `[1; 2; x]` les listes de trois entiers dont le premier élément est 1 et le deuxième est 2\n",
    "    - `1::(2::x)` les listes d'(au moins deux) entiers dont le premier élément est 1 et le deuxième est 2.\n",
    "    - `x::y::z` i.e `x::(y::z)` les listes qui contiennent au moins deux éléments."
   ]
  },
  {
   "cell_type": "markdown",
   "id": "0ce01de4",
   "metadata": {},
   "source": [
    "- `_::0::1::_` est-il un motif ? Si oui, décrire en français les listes reconnues.\n",
    "    - `_::0::1::_` est un motif qui reconnaît les listes d'au moins trois entiers dont le deuxième est est 0 et le troisième est 1."
   ]
  },
  {
   "cell_type": "markdown",
   "id": "cf11bf22",
   "metadata": {},
   "source": [
    "## Exercice 2\n",
    "\n",
    "- Écrire une fonction testant si une liste est non vide."
   ]
  },
  {
   "cell_type": "code",
   "execution_count": 17,
   "id": "a5e4f6ff",
   "metadata": {},
   "outputs": [
    {
     "data": {
      "text/plain": [
       "val est_non_vide : 'a list -> bool = <fun>\n"
      ]
     },
     "execution_count": 17,
     "metadata": {},
     "output_type": "execute_result"
    },
    {
     "data": {
      "text/plain": [
       "val est_non_vide : 'a list -> bool = <fun>\n"
      ]
     },
     "execution_count": 17,
     "metadata": {},
     "output_type": "execute_result"
    }
   ],
   "source": [
    "let est_non_vide lst =\n",
    "  not (lst = [])\n",
    ";;\n",
    "\n",
    "let est_non_vide lst =\n",
    "  match lst with\n",
    "  | [] -> false\n",
    "  | _ -> true\n",
    ";;"
   ]
  },
  {
   "cell_type": "markdown",
   "id": "ecd65c0a",
   "metadata": {},
   "source": [
    "- Écrire une fonction testant si une liste a exactement deux éléments."
   ]
  },
  {
   "cell_type": "code",
   "execution_count": 18,
   "id": "1dbebee6",
   "metadata": {},
   "outputs": [
    {
     "data": {
      "text/plain": [
       "val deux_elts : 'a list -> bool = <fun>\n"
      ]
     },
     "execution_count": 18,
     "metadata": {},
     "output_type": "execute_result"
    },
    {
     "data": {
      "text/plain": [
       "val deux_elts : 'a list -> bool = <fun>\n"
      ]
     },
     "execution_count": 18,
     "metadata": {},
     "output_type": "execute_result"
    }
   ],
   "source": [
    "let deux_elts lst =\n",
    "  match lst with\n",
    "  | x::y::[] -> true\n",
    "  | _ -> false\n",
    ";;\n",
    "let deux_elts lst =\n",
    "  match lst with\n",
    "  | [x ; y] -> true\n",
    "  | _ -> false\n",
    ";;\n"
   ]
  },
  {
   "cell_type": "code",
   "execution_count": 19,
   "id": "d44aca51",
   "metadata": {},
   "outputs": [
    {
     "data": {
      "text/plain": [
       "val deux_elts : 'a list -> bool = <fun>\n"
      ]
     },
     "execution_count": 19,
     "metadata": {},
     "output_type": "execute_result"
    },
    {
     "data": {
      "text/plain": [
       "val deux_elts : 'a list -> bool = <fun>\n"
      ]
     },
     "execution_count": 19,
     "metadata": {},
     "output_type": "execute_result"
    }
   ],
   "source": [
    "let deux_elts lst =\n",
    "  match lst with\n",
    "  | _::_::[] -> true\n",
    "  | _ -> false\n",
    ";;\n",
    "let deux_elts lst =\n",
    "  match lst with\n",
    "  | [_ ; _] -> true\n",
    "  | _ -> false\n",
    ";;\n"
   ]
  },
  {
   "cell_type": "markdown",
   "id": "8981d08a",
   "metadata": {},
   "source": [
    "- Écrire une fonction testant si une liste possède deux éléments ou moins."
   ]
  },
  {
   "cell_type": "code",
   "execution_count": 20,
   "id": "e064bde5",
   "metadata": {},
   "outputs": [
    {
     "data": {
      "text/plain": [
       "val deux_ou_moins : 'a list -> bool = <fun>\n"
      ]
     },
     "execution_count": 20,
     "metadata": {},
     "output_type": "execute_result"
    },
    {
     "data": {
      "text/plain": [
       "val deux_ou_moins : 'a list -> bool = <fun>\n"
      ]
     },
     "execution_count": 20,
     "metadata": {},
     "output_type": "execute_result"
    }
   ],
   "source": [
    "let deux_ou_moins lst =\n",
    "  match lst with\n",
    "  | x::y::z::q -> false (* au moins trois éléments *)\n",
    "  | _ -> true\n",
    ";;\n",
    "\n",
    "let deux_ou_moins lst =\n",
    "  match lst with\n",
    "  | [] | [_] | [_; _] -> true\n",
    "  | _ -> false\n",
    ";;"
   ]
  },
  {
   "cell_type": "markdown",
   "id": "293c9639",
   "metadata": {},
   "source": [
    "- Écrire une fonction testant si le premier élément d'une liste de booléens vaut `true`."
   ]
  },
  {
   "cell_type": "code",
   "execution_count": 21,
   "id": "198c9a07",
   "metadata": {},
   "outputs": [
    {
     "data": {
      "text/plain": [
       "val premier_true : bool list -> bool = <fun>\n"
      ]
     },
     "execution_count": 21,
     "metadata": {},
     "output_type": "execute_result"
    }
   ],
   "source": [
    "let premier_true lst =\n",
    "  match lst with\n",
    "  | true::_ -> true\n",
    "  | _ -> false\n",
    ";;"
   ]
  },
  {
   "cell_type": "markdown",
   "id": "fba3e665",
   "metadata": {},
   "source": [
    "- Écrire une fonction testant si le premier élément d'une liste de booléens vaut `false` et le deuxième vaut `true`."
   ]
  },
  {
   "cell_type": "code",
   "execution_count": 22,
   "id": "3140a272",
   "metadata": {},
   "outputs": [
    {
     "data": {
      "text/plain": [
       "val false_puis_true : bool list -> bool = <fun>\n"
      ]
     },
     "execution_count": 22,
     "metadata": {},
     "output_type": "execute_result"
    }
   ],
   "source": [
    "let false_puis_true lst =\n",
    "  match lst with\n",
    "  | false::true::_ -> true\n",
    "  | _ -> false\n",
    ";;"
   ]
  },
  {
   "cell_type": "markdown",
   "id": "3e752612",
   "metadata": {},
   "source": [
    "- Écrire une fonction renvoyant l'avant-dernier élément d'une liste, s'il existe."
   ]
  },
  {
   "cell_type": "code",
   "execution_count": 23,
   "id": "0ea53e0e",
   "metadata": {},
   "outputs": [
    {
     "data": {
      "text/plain": [
       "val avant_dernier : 'a list -> 'a = <fun>\n"
      ]
     },
     "execution_count": 23,
     "metadata": {},
     "output_type": "execute_result"
    }
   ],
   "source": [
    "let rec avant_dernier lst =\n",
    "  match lst with\n",
    "  | h::t::[] -> h\n",
    "  | h::t -> avant_dernier t\n",
    "  | [] -> failwith \"Moins de deux éléments\"\n",
    "  ;;"
   ]
  },
  {
   "cell_type": "code",
   "execution_count": 24,
   "id": "77053684",
   "metadata": {},
   "outputs": [
    {
     "data": {
      "text/plain": [
       "val avant_dernier : 'a list -> 'a = <fun>\n"
      ]
     },
     "execution_count": 24,
     "metadata": {},
     "output_type": "execute_result"
    }
   ],
   "source": [
    "let rec avant_dernier lst =\n",
    "  match lst with\n",
    "  | [] | [_] -> failwith \"Moins de deux éléments\"\n",
    "  | h::t::[] -> h\n",
    "  | h::t -> avant_dernier t\n",
    "  ;;"
   ]
  },
  {
   "cell_type": "markdown",
   "id": "01231195",
   "metadata": {},
   "source": [
    "## Exercice 3\n",
    "- Écrire une fonction calculant la liste des carrés des éléments d'une liste d'entiers."
   ]
  },
  {
   "cell_type": "code",
   "execution_count": 25,
   "id": "62f63d3e",
   "metadata": {},
   "outputs": [
    {
     "data": {
      "text/plain": [
       "val carres : int list -> int list = <fun>\n"
      ]
     },
     "execution_count": 25,
     "metadata": {},
     "output_type": "execute_result"
    }
   ],
   "source": [
    "let rec carres lst =\n",
    "  match lst with\n",
    "  | [] -> []\n",
    "  | t::q -> t*t::carres q\n",
    "  ;;"
   ]
  },
  {
   "cell_type": "markdown",
   "id": "848f3e90",
   "metadata": {},
   "source": [
    "- Écrire une fonction sommant les éléments d'une liste d'entiers."
   ]
  },
  {
   "cell_type": "code",
   "execution_count": 26,
   "id": "f6dbb5b5",
   "metadata": {},
   "outputs": [
    {
     "data": {
      "text/plain": [
       "val somme : int list -> int = <fun>\n"
      ]
     },
     "execution_count": 26,
     "metadata": {},
     "output_type": "execute_result"
    }
   ],
   "source": [
    "let rec somme lst = \n",
    "  match lst with\n",
    "  | [] -> 0\n",
    "  (*| x::[] -> x*)\n",
    "  | x:: y -> x + somme y\n",
    ";;"
   ]
  },
  {
   "cell_type": "markdown",
   "id": "794117b0",
   "metadata": {},
   "source": [
    "- Écrire une fonction admettant un entier $n$ comme argument et qui renvoie la liste des entiers de $1$ à $n$ (et la liste vide si $n=0$)."
   ]
  },
  {
   "cell_type": "markdown",
   "id": "6c465b89",
   "metadata": {},
   "source": [
    "*Première méthode :* Ecrire une fonction qui calcule la liste des entiers de n à 1 et une fonction qui renverse une liste "
   ]
  },
  {
   "cell_type": "code",
   "execution_count": 27,
   "id": "e26dd6c2",
   "metadata": {},
   "outputs": [
    {
     "data": {
      "text/plain": [
       "val liste_n_renv : int -> int list = <fun>\n"
      ]
     },
     "execution_count": 27,
     "metadata": {},
     "output_type": "execute_result"
    }
   ],
   "source": [
    "let rec liste_n_renv n =\n",
    "  match n with\n",
    "  | 0 -> []\n",
    "  | _ -> n::liste_n_renv (n-1)\n",
    ";;"
   ]
  },
  {
   "cell_type": "code",
   "execution_count": 28,
   "id": "43166875",
   "metadata": {},
   "outputs": [
    {
     "data": {
      "text/plain": [
       "- : int list = [6; 5; 4; 3; 2; 1]\n"
      ]
     },
     "execution_count": 28,
     "metadata": {},
     "output_type": "execute_result"
    }
   ],
   "source": [
    "liste_n_renv 6;;"
   ]
  },
  {
   "cell_type": "code",
   "execution_count": 29,
   "id": "718d3e98",
   "metadata": {},
   "outputs": [
    {
     "data": {
      "text/plain": [
       "val renverse_dans : 'a list -> 'a list -> 'a list = <fun>\n"
      ]
     },
     "execution_count": 29,
     "metadata": {},
     "output_type": "execute_result"
    }
   ],
   "source": [
    "(*Fonction qui renverse l1 dans l2 *)\n",
    "(* Par exemple avec l1 = [1;2;3] et l2 = [4;5], on obtient [3;2;1;4;5]*)\n",
    "let rec renverse_dans l1 l2 =\n",
    "  match l1 with\n",
    "  | [] -> l2\n",
    "  | t::q -> renverse_dans q (t::l2)\n",
    ";;"
   ]
  },
  {
   "cell_type": "code",
   "execution_count": 30,
   "id": "8605b75e",
   "metadata": {},
   "outputs": [
    {
     "data": {
      "text/plain": [
       "val renverse : 'a list -> 'a list = <fun>\n"
      ]
     },
     "execution_count": 30,
     "metadata": {},
     "output_type": "execute_result"
    },
    {
     "data": {
      "text/plain": [
       "val liste : int -> int list = <fun>\n"
      ]
     },
     "execution_count": 30,
     "metadata": {},
     "output_type": "execute_result"
    }
   ],
   "source": [
    "let renverse lst = renverse_dans lst [];;\n",
    "let liste n = renverse (liste_n_renv n);;"
   ]
  },
  {
   "cell_type": "code",
   "execution_count": 31,
   "id": "06783dfe",
   "metadata": {},
   "outputs": [
    {
     "data": {
      "text/plain": [
       "- : int list = [1; 2; 3; 4; 5; 6; 7]\n"
      ]
     },
     "execution_count": 31,
     "metadata": {},
     "output_type": "execute_result"
    }
   ],
   "source": [
    "liste 7;;"
   ]
  },
  {
   "cell_type": "markdown",
   "id": "41913e5e",
   "metadata": {},
   "source": [
    "*Deuxième méthode :* Ecrire une fonction à deux paramètres p et n qui calcule la liste des entiers de p à n, et l'utiliser pour p=1."
   ]
  },
  {
   "cell_type": "code",
   "execution_count": 32,
   "id": "f187474f",
   "metadata": {},
   "outputs": [
    {
     "data": {
      "text/plain": [
       "val liste : int -> int list = <fun>\n"
      ]
     },
     "execution_count": 32,
     "metadata": {},
     "output_type": "execute_result"
    }
   ],
   "source": [
    "let liste n =\n",
    "  if n = 0 then []\n",
    "  else\n",
    "      let rec range p n =\n",
    "        if p = n then [p] else p::range (p+1) n\n",
    "      in\n",
    "      range 1 n\n",
    ";;"
   ]
  },
  {
   "cell_type": "code",
   "execution_count": 33,
   "id": "0cf12629",
   "metadata": {},
   "outputs": [
    {
     "data": {
      "text/plain": [
       "val liste : int -> int list = <fun>\n"
      ]
     },
     "execution_count": 33,
     "metadata": {},
     "output_type": "execute_result"
    }
   ],
   "source": [
    "let liste n =\n",
    "  if n = 0 then []\n",
    "  else\n",
    "      let rec range p =\n",
    "        if p = n then [p] else p::range (p+1)\n",
    "      in\n",
    "      range 1\n",
    ";;"
   ]
  },
  {
   "cell_type": "code",
   "execution_count": 34,
   "id": "c591dc14",
   "metadata": {},
   "outputs": [
    {
     "data": {
      "text/plain": [
       "- : int list = [1; 2; 3; 4; 5; 6]\n"
      ]
     },
     "execution_count": 34,
     "metadata": {},
     "output_type": "execute_result"
    }
   ],
   "source": [
    "liste 6;;"
   ]
  },
  {
   "cell_type": "markdown",
   "id": "c28a281e",
   "metadata": {},
   "source": [
    "*Troisième méthode :* Écrire une fonction qui prend en argument une liste et qui renvoie la liste précédée du prédécesseur de son premier élément si celui-ci ne vaut pas 1."
   ]
  },
  {
   "cell_type": "code",
   "execution_count": 35,
   "id": "f4673b02",
   "metadata": {},
   "outputs": [
    {
     "data": {
      "text/plain": [
       "val complete : int list -> int list = <fun>\n"
      ]
     },
     "execution_count": 35,
     "metadata": {},
     "output_type": "execute_result"
    },
    {
     "data": {
      "text/plain": [
       "val int_list : int -> int list = <fun>\n"
      ]
     },
     "execution_count": 35,
     "metadata": {},
     "output_type": "execute_result"
    },
    {
     "data": {
      "text/plain": [
       "- : int list = [1; 2; 3; 4; 5; 6; 7; 8; 9; 10; 11; 12; 13; 14; 15]\n"
      ]
     },
     "execution_count": 35,
     "metadata": {},
     "output_type": "execute_result"
    }
   ],
   "source": [
    "let rec complete lst =\n",
    "  match lst with\n",
    "  | 1::q -> lst\n",
    "  | t::q -> complete ((t-1)::lst)\n",
    "  | [] -> []\n",
    ";;\n",
    "\n",
    "let int_list n =\n",
    "  if n = 0\n",
    "  then []\n",
    "  else complete [n]\n",
    ";; \n",
    "\n",
    "int_list 15;;"
   ]
  },
  {
   "cell_type": "markdown",
   "id": "9e90b504",
   "metadata": {},
   "source": [
    "## Exercice 4\n",
    "- Écrire une fonction  `length` : `'a list -> int`, qui prend en argument une liste et qui renvoie le nombre d'éléments de la liste. Quelle est sa complexité ?"
   ]
  },
  {
   "cell_type": "code",
   "execution_count": 36,
   "id": "84e0d17e",
   "metadata": {},
   "outputs": [
    {
     "data": {
      "text/plain": [
       "val length : 'a list -> int = <fun>\n"
      ]
     },
     "execution_count": 36,
     "metadata": {},
     "output_type": "execute_result"
    }
   ],
   "source": [
    "let rec length lst =\n",
    "  match lst with\n",
    "  | [] -> 0\n",
    "  | t::q -> 1 + length q\n",
    ";;"
   ]
  },
  {
   "cell_type": "markdown",
   "id": "7c57610c",
   "metadata": {},
   "source": [
    "Soit $n$ le nombre d'éléments de la liste et $A(n)$ le nombre d'additions réalisées lors de l'appel `length lst`. Alors $A(0) = 0$ et pour tout $n > 0$, $A(n) = 1 + A(n-1)$ donc pour tout $n \\in \\mathbb{N}$, $A(n) = n$.\n",
    "\n",
    "La complexité est donc linéaire par rapport à la longueur de la liste."
   ]
  },
  {
   "cell_type": "markdown",
   "id": "337e4379",
   "metadata": {},
   "source": [
    "- Écrire une fonction  `mem` : `'a -> 'a list -> bool` testant l'appartenance d'un élément à une liste. Quelle est sa complexité ?"
   ]
  },
  {
   "cell_type": "code",
   "execution_count": 37,
   "id": "00c1f9bc",
   "metadata": {},
   "outputs": [
    {
     "data": {
      "text/plain": [
       "val mem : 'a -> 'a list -> bool = <fun>\n"
      ]
     },
     "execution_count": 37,
     "metadata": {},
     "output_type": "execute_result"
    },
    {
     "data": {
      "text/plain": [
       "val mem : 'a -> 'a list -> bool = <fun>\n"
      ]
     },
     "execution_count": 37,
     "metadata": {},
     "output_type": "execute_result"
    },
    {
     "data": {
      "text/plain": [
       "val mem : 'a -> 'a list -> bool = <fun>\n"
      ]
     },
     "execution_count": 37,
     "metadata": {},
     "output_type": "execute_result"
    }
   ],
   "source": [
    "let rec mem x lst =\n",
    "  match lst with\n",
    "  | [] -> false\n",
    "  | t::_ when t = x -> true\n",
    "  | t::q -> mem x q\n",
    ";;\n",
    "let rec mem x lst =\n",
    "  match lst with\n",
    "  | [] -> false\n",
    "  | t::q -> if t = x then true else mem x q\n",
    ";;\n",
    "let rec mem x lst =\n",
    "  match lst with\n",
    "  | [] -> false\n",
    "  | t::q -> t = x || mem x q\n",
    ";;"
   ]
  },
  {
   "cell_type": "code",
   "execution_count": 38,
   "id": "5824a0b2",
   "metadata": {},
   "outputs": [
    {
     "data": {
      "text/plain": [
       "- : bool = true\n"
      ]
     },
     "execution_count": 38,
     "metadata": {},
     "output_type": "execute_result"
    }
   ],
   "source": [
    "mem 2 [1;2;3;4];;"
   ]
  },
  {
   "cell_type": "code",
   "execution_count": 39,
   "id": "86195eba",
   "metadata": {},
   "outputs": [
    {
     "data": {
      "text/plain": [
       "- : bool = false\n"
      ]
     },
     "execution_count": 39,
     "metadata": {},
     "output_type": "execute_result"
    }
   ],
   "source": [
    "mem 2 [1;3;5;7];;"
   ]
  },
  {
   "cell_type": "markdown",
   "id": "0a44cad8",
   "metadata": {},
   "source": [
    "- Écrire une fonction `map` : `('a -> 'b) -> 'a list -> 'b list`, qui prend en argument une fonction `f` de type `'a -> 'b` et une liste `[a1; ...; an]` d'éléments de type `'a` et qui renvoie la liste `[f a1; ...; f an]`"
   ]
  },
  {
   "cell_type": "code",
   "execution_count": 40,
   "id": "d872e90f",
   "metadata": {},
   "outputs": [
    {
     "data": {
      "text/plain": [
       "val map : ('a -> 'b) -> 'a list -> 'b list = <fun>\n"
      ]
     },
     "execution_count": 40,
     "metadata": {},
     "output_type": "execute_result"
    }
   ],
   "source": [
    "let rec map f lst =\n",
    "  match lst with\n",
    "  | [] -> []\n",
    "  | x::y -> f x :: map f y\n",
    ";;"
   ]
  },
  {
   "cell_type": "code",
   "execution_count": 41,
   "id": "b311c8aa",
   "metadata": {},
   "outputs": [
    {
     "data": {
      "text/plain": [
       "- : int list = [1; 4; 16; 289; 64]\n"
      ]
     },
     "execution_count": 41,
     "metadata": {},
     "output_type": "execute_result"
    }
   ],
   "source": [
    "map (fun x -> x*x) [1; 2 ; 4 ; 17 ; 8]"
   ]
  },
  {
   "cell_type": "markdown",
   "id": "ed614c34",
   "metadata": {},
   "source": [
    "- Écrire une fonction `filter` : ` ('a -> bool) -> 'a list -> 'a list` qui prend en argument une fonction `f : 'a -> bool` et une liste `l : 'a liste` et qui renvoie la liste des éléments `x` de `l` tels que `f x` soit vrai."
   ]
  },
  {
   "cell_type": "code",
   "execution_count": 42,
   "id": "80a21f3c",
   "metadata": {},
   "outputs": [
    {
     "data": {
      "text/plain": [
       "val filter : ('a -> bool) -> 'a list -> 'a list = <fun>\n"
      ]
     },
     "execution_count": 42,
     "metadata": {},
     "output_type": "execute_result"
    }
   ],
   "source": [
    "let rec filter f lst =\n",
    "  match lst with\n",
    "  | [] -> []\n",
    "  | t::q -> if f t then t::filter f q else filter f q\n",
    ";;"
   ]
  },
  {
   "cell_type": "markdown",
   "id": "8090d839",
   "metadata": {},
   "source": [
    "*Ces quatre fonctions sont en fait déjà implémentées dans le module `List`.*"
   ]
  },
  {
   "cell_type": "markdown",
   "id": "2e478319",
   "metadata": {},
   "source": [
    "## Exercice 5\n",
    "\n",
    "Écrire une fonction calculant la concaténation de deux listes. Quelle est sa complexité ?"
   ]
  },
  {
   "cell_type": "code",
   "execution_count": 43,
   "id": "d39426f8",
   "metadata": {},
   "outputs": [
    {
     "data": {
      "text/plain": [
       "val concat : 'a list -> 'a list -> 'a list = <fun>\n"
      ]
     },
     "execution_count": 43,
     "metadata": {},
     "output_type": "execute_result"
    }
   ],
   "source": [
    "let rec concat l1 l2 =\n",
    "  match l1 with\n",
    "  | [] -> l2\n",
    "  | t::q -> t::concat q l2;;"
   ]
  },
  {
   "cell_type": "markdown",
   "id": "d18f56e0",
   "metadata": {},
   "source": [
    "Complexité linéaire en la longueur de `l1`."
   ]
  },
  {
   "cell_type": "markdown",
   "id": "c968d588",
   "metadata": {},
   "source": [
    "## Exercice 6\n",
    "Écrire une fonction qui prend en argument une liste d'entiers de longueur au moins 2 et qui retourne le couple constitué des deux plus petits entiers de la liste (éventuellement égaux)."
   ]
  },
  {
   "cell_type": "code",
   "execution_count": 44,
   "id": "0f3adfd9",
   "metadata": {},
   "outputs": [
    {
     "data": {
      "text/plain": [
       "val deux_min : 'a list -> 'a * 'a = <fun>\n"
      ]
     },
     "execution_count": 44,
     "metadata": {},
     "output_type": "execute_result"
    }
   ],
   "source": [
    "let rec deux_min l =\n",
    "  match l with\n",
    "  | [] | [_] -> failwith \"Pas assez d'éléments\"\n",
    "  | [a; b] -> if a < b\n",
    "              then a, b\n",
    "              else b, a\n",
    "  | x::y -> let a, b = deux_min y in\n",
    "            if x < a\n",
    "            then x, a\n",
    "            else a, min x b\n",
    ";;\n"
   ]
  },
  {
   "cell_type": "markdown",
   "id": "7c150934",
   "metadata": {},
   "source": [
    "## Exercice 7\n",
    "On représente un polynôme à coefficients entiers par la liste de ses coefficients en puissances décroissantes.\n",
    "\n",
    "Écrire une fonction `evalue : int list -> int -> int` qui prend en argument un polynôme $[a_n;a_{n-1};\\dots;a_0]$ et un entier $x$ et qui retourne l'entier $a_nx^n+a_{n-1}x^{n-1}+\\dots+a_0$ avec seulement $n$ multiplications."
   ]
  },
  {
   "cell_type": "code",
   "execution_count": 45,
   "id": "29a2a326",
   "metadata": {},
   "outputs": [
    {
     "data": {
      "text/plain": [
       "val evalue : int list -> int -> int = <fun>\n"
      ]
     },
     "execution_count": 45,
     "metadata": {},
     "output_type": "execute_result"
    }
   ],
   "source": [
    "let rec evalue liste x =\n",
    "  match liste with\n",
    "  | [] -> 0\n",
    "  | [a0] -> a0\n",
    "  | t1::t2::q -> evalue (t1*x+t2::q) x\n",
    ";;"
   ]
  },
  {
   "cell_type": "code",
   "execution_count": 46,
   "id": "5ef317c6",
   "metadata": {},
   "outputs": [
    {
     "data": {
      "text/plain": [
       "val evalue : int list -> int -> int = <fun>\n"
      ]
     },
     "execution_count": 46,
     "metadata": {},
     "output_type": "execute_result"
    }
   ],
   "source": [
    "(* Avec un accumulateur *)\n",
    "let evalue liste x =\n",
    "  let rec aux liste acc =\n",
    "    match liste with\n",
    "    | [] -> acc\n",
    "    | t::q -> aux q (t + x*acc)\n",
    "  in aux liste 0\n",
    ";;"
   ]
  },
  {
   "cell_type": "markdown",
   "id": "e0f43412",
   "metadata": {},
   "source": [
    "## Exercice 8\n",
    "Écrire une fonction qui retourne le nombre de changements de signes d'une suite d'entiers (les zéros ne comptent pas et la fonction retournera $0$ si la liste est vide)."
   ]
  },
  {
   "cell_type": "code",
   "execution_count": 47,
   "id": "3e80084e",
   "metadata": {},
   "outputs": [
    {
     "data": {
      "text/plain": [
       "val changements_signe : int list -> int = <fun>\n"
      ]
     },
     "execution_count": 47,
     "metadata": {},
     "output_type": "execute_result"
    }
   ],
   "source": [
    "let rec changements_signe lst =\n",
    "   match lst with\n",
    "   | [] | [_] -> 0\n",
    "   | 0::q -> changements_signe q\n",
    "   | t::0::q -> changements_signe (t::q)\n",
    "   | t1::t2::q -> (if t1*t2 < 0 then 1 else 0) + changements_signe (t2::q)\n",
    ";;"
   ]
  }
 ],
 "metadata": {
  "celltoolbar": "Slideshow",
  "kernelspec": {
   "display_name": "OCaml default",
   "language": "OCaml",
   "name": "ocaml-jupyter"
  },
  "language_info": {
   "codemirror_mode": "text/x-ocaml",
   "file_extension": ".ml",
   "mimetype": "text/x-ocaml",
   "name": "OCaml",
   "nbconverter_exporter": null,
   "pygments_lexer": "OCaml",
   "version": "4.08.1"
  },
  "latex_envs": {
   "LaTeX_envs_menu_present": true,
   "autoclose": false,
   "autocomplete": true,
   "bibliofile": "biblio.bib",
   "cite_by": "apalike",
   "current_citInitial": 1,
   "eqLabelWithNumbers": true,
   "eqNumInitial": 1,
   "hotkeys": {
    "equation": "Ctrl-E",
    "itemize": "Ctrl-I"
   },
   "labels_anchors": false,
   "latex_user_defs": false,
   "report_style_numbering": true,
   "user_envs_cfg": true
  }
 },
 "nbformat": 4,
 "nbformat_minor": 5
}
