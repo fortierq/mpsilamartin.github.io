{
 "cells": [
  {
   "cell_type": "markdown",
   "id": "92674c8d",
   "metadata": {},
   "source": [
    "En informatique, une *structure de données* est la description d'une structure logique destinée à organiser et à agir sur des données, indépendamment de l'implémentation effective de cette structure (qui sera liée au langage utilisé). Les premières structures de données que nous étudierons sont les *listes simplement chaînées* (ou plus simplement, les *listes*). <br/>\n",
    "\n",
    "Avant de commencer, un avertissement : \n",
    "<div class=\"alert alert-danger\" role=\"alert\">\n",
    "    <b>Les \"listes\" Python ne sont pas des listes</b> (mais des tableaux dynamiques).\n",
    "</div>\n",
    "\n",
    "# Définition et première mise en œuvre\n",
    "Une *liste* est une structure de données immuable, contenant des données de même type, et obtenue à partir des opérations de construction suivantes :\n",
    "\n",
    "- la création d'une liste vide, appelée **nil** ;\n",
    "- l'ajout d'un élément $t$ en tête d'une liste $q$, parfois noté **cons ($t$, $q$)**. \n",
    "\n",
    "\n",
    "Lorsqu'une liste est non vide, elle est alors de la forme **cons ($t$, $q$)**, $t$ est appelé la *tête* de la liste, et $q$ sa *queue* (ou *reste*).<br/>\n",
    "\n",
    "Pour manipuler les listes, on dispose des trois opérations suivantes :\n",
    "\n",
    "- une opération testant si une liste est vide ou non ;\n",
    "- un *asssesseur* permettant d'obtenir la tête d'une liste non vide ;\n",
    "- un *asssesseur* permettant d'obtenir la queue d'une liste non vide.<br/>\n",
    "\n",
    "\n",
    "Donnons une première implémentation en OCaml du type liste, à l'aide d'un type récursif et polymorphe `'a liste` :"
   ]
  },
  {
   "cell_type": "code",
   "execution_count": 1,
   "id": "a8b56d9f",
   "metadata": {},
   "outputs": [
    {
     "data": {
      "text/plain": [
       "type 'a liste = Nil | Cons of 'a * 'a liste\n"
      ]
     },
     "execution_count": 1,
     "metadata": {},
     "output_type": "execute_result"
    }
   ],
   "source": [
    "type 'a liste =\n",
    "  | Nil\n",
    "  | Cons of 'a * ('a liste)\n",
    ";;"
   ]
  },
  {
   "cell_type": "markdown",
   "id": "75a07469",
   "metadata": {},
   "source": [
    "La liste `lst` contenant les entiers $4$, $1$ et $3$ sera alors définie par :"
   ]
  },
  {
   "cell_type": "code",
   "execution_count": 2,
   "id": "cdee5726",
   "metadata": {},
   "outputs": [
    {
     "data": {
      "text/plain": [
       "val lst : int liste = Cons (4, Cons (1, Cons (3, Nil)))\n"
      ]
     },
     "execution_count": 2,
     "metadata": {},
     "output_type": "execute_result"
    }
   ],
   "source": [
    "let lst = Cons (4, Cons (1, Cons (3, Nil)));;"
   ]
  },
  {
   "cell_type": "markdown",
   "id": "a007b3f5",
   "metadata": {},
   "source": [
    "Les trois opérations d'accès sur les listes peuvent être décrites par les fonctions suivantes :"
   ]
  },
  {
   "cell_type": "code",
   "execution_count": 4,
   "id": "2f82cce5",
   "metadata": {},
   "outputs": [
    {
     "data": {
      "text/plain": [
       "val est_vide : 'a liste -> bool = <fun>\n"
      ]
     },
     "execution_count": 4,
     "metadata": {},
     "output_type": "execute_result"
    },
    {
     "data": {
      "text/plain": [
       "val tete : 'a liste -> 'a = <fun>\n"
      ]
     },
     "execution_count": 4,
     "metadata": {},
     "output_type": "execute_result"
    },
    {
     "data": {
      "text/plain": [
       "val queue : 'a liste -> 'a liste = <fun>\n"
      ]
     },
     "execution_count": 4,
     "metadata": {},
     "output_type": "execute_result"
    }
   ],
   "source": [
    "let est_vide l =\n",
    "  l = Nil\n",
    ";;\n",
    "\n",
    "let tete l =\n",
    "  match l with\n",
    "  | Cons (t, _) -> t\n",
    "  | _ -> failwith \"Liste vide\"\n",
    ";;\n",
    "\n",
    "let queue l =\n",
    "  match l with\n",
    "  | Cons (_, q) -> q\n",
    "  | _ -> failwith \"Liste vide\"\n",
    ";;\n"
   ]
  },
  {
   "cell_type": "code",
   "execution_count": 7,
   "id": "2e194b24",
   "metadata": {},
   "outputs": [
    {
     "data": {
      "text/plain": [
       "- : int liste = Cons (1, Cons (3, Nil))\n"
      ]
     },
     "execution_count": 7,
     "metadata": {},
     "output_type": "execute_result"
    }
   ],
   "source": [
    "queue lst;;"
   ]
  },
  {
   "cell_type": "markdown",
   "id": "29fe3807",
   "metadata": {},
   "source": [
    "Nous n'allons pas poursuivre avec notre type `'a liste`, car le type `'a list` existe déjà en OCaml.\n",
    "\n",
    "# La construction de listes en OCaml\n",
    "En Caml, la liste vide se note `[]`, et **cons ($t$,$q$)** se note `t::q`.\n",
    "\n",
    "L'opérateur `::` est associatif à droite : `x::y::z` désigne `x::(y::z)`."
   ]
  },
  {
   "cell_type": "code",
   "execution_count": 8,
   "id": "8f82033b",
   "metadata": {},
   "outputs": [
    {
     "data": {
      "text/plain": [
       "- : 'a list = []\n"
      ]
     },
     "execution_count": 8,
     "metadata": {},
     "output_type": "execute_result"
    }
   ],
   "source": [
    "[];;"
   ]
  },
  {
   "cell_type": "code",
   "execution_count": 14,
   "id": "d5775835",
   "metadata": {},
   "outputs": [
    {
     "data": {
      "text/plain": [
       "- : 'a -> 'a list -> 'a list = <fun>\n"
      ]
     },
     "execution_count": 14,
     "metadata": {},
     "output_type": "execute_result"
    }
   ],
   "source": [
    "fun x y -> x::y;;"
   ]
  },
  {
   "cell_type": "code",
   "execution_count": 17,
   "id": "bc7524ab",
   "metadata": {},
   "outputs": [
    {
     "data": {
      "text/plain": [
       "- : 'a -> 'a -> 'a list -> 'a list = <fun>\n"
      ]
     },
     "execution_count": 17,
     "metadata": {},
     "output_type": "execute_result"
    }
   ],
   "source": [
    "fun x y z -> x::y::z;;"
   ]
  },
  {
   "cell_type": "code",
   "execution_count": 20,
   "id": "0a6865af",
   "metadata": {},
   "outputs": [
    {
     "data": {
      "text/plain": [
       "val lst1 : int list = [5]\n"
      ]
     },
     "execution_count": 20,
     "metadata": {},
     "output_type": "execute_result"
    }
   ],
   "source": [
    "let lst1 = 5::[];;"
   ]
  },
  {
   "cell_type": "code",
   "execution_count": 24,
   "id": "3b054ef0",
   "metadata": {},
   "outputs": [
    {
     "data": {
      "text/plain": [
       "val lst2 : int list = [4; 5]\n"
      ]
     },
     "execution_count": 24,
     "metadata": {},
     "output_type": "execute_result"
    }
   ],
   "source": [
    "let lst2 = 4::lst1;;"
   ]
  },
  {
   "cell_type": "code",
   "execution_count": 26,
   "id": "79717213",
   "metadata": {},
   "outputs": [
    {
     "ename": "error",
     "evalue": "compile_error",
     "output_type": "error",
     "traceback": [
      "File \"[26]\", line 1, characters 19-23:\n1 | let lst3 = \"toto\"::lst2;;\n                       ^^^^\nError: This expression has type int list\n       but an expression was expected of type string list\n       Type int is not compatible with type string \n"
     ]
    }
   ],
   "source": [
    "let lst3 = \"toto\"::lst2;;"
   ]
  },
  {
   "cell_type": "markdown",
   "id": "517a403b",
   "metadata": {},
   "source": [
    "On remarque :\n",
    "\n",
    "- qu'il n'est pas possible de construire une liste avec une tête de type `string` et une queue de type `int list` ; cela est cohérent avec le fait que les éléments d'une liste doivent être de même type ;\n",
    "- que OCaml utilise une notation plus agréable pour afficher les listes : plutôt que d'afficher `4::5::[]`, OCaml affiche `[4; 5]`\n",
    "\n",
    "Cette notation est aussi acceptée en entrée :"
   ]
  },
  {
   "cell_type": "code",
   "execution_count": 33,
   "id": "61cac0db",
   "metadata": {},
   "outputs": [
    {
     "data": {
      "text/plain": [
       "val lst3 : int list = [4; 5]\n"
      ]
     },
     "execution_count": 33,
     "metadata": {},
     "output_type": "execute_result"
    }
   ],
   "source": [
    "let lst3 = [4; 5];;"
   ]
  },
  {
   "cell_type": "code",
   "execution_count": 34,
   "id": "3b7b3c94",
   "metadata": {},
   "outputs": [
    {
     "data": {
      "text/plain": [
       "- : bool = true\n"
      ]
     },
     "execution_count": 34,
     "metadata": {},
     "output_type": "execute_result"
    }
   ],
   "source": [
    "lst2 = lst3;;"
   ]
  },
  {
   "cell_type": "markdown",
   "id": "d8f2bbd4",
   "metadata": {},
   "source": [
    "La liste reste néanmoins construite de la même manière.\n",
    "\n",
    "# Filtrage\n",
    "On dispose de motifs de filtrage adaptés aux listes :\n",
    "\n",
    "- le motif `[]` filtre la liste vide ;\n",
    "- le motif `t::q` filtre toute liste non vide ; dans la suite de l'évaluation, `t` prendra la valeur de la tête de la liste et `q` celle de la queue.\n",
    "\n",
    "Il est facile à titre d'exemple de définir les fonctions `tete` et `queue` :"
   ]
  },
  {
   "cell_type": "code",
   "execution_count": 38,
   "id": "12b6fd4e",
   "metadata": {},
   "outputs": [
    {
     "data": {
      "text/plain": [
       "val tete : 'a list -> 'a = <fun>\n"
      ]
     },
     "execution_count": 38,
     "metadata": {},
     "output_type": "execute_result"
    }
   ],
   "source": [
    "let tete l =\n",
    "  match l with\n",
    "  | [] -> failwith \"Liste vide\"\n",
    "  | t::q -> t\n",
    ";;"
   ]
  },
  {
   "cell_type": "code",
   "execution_count": 39,
   "id": "4ac14863",
   "metadata": {},
   "outputs": [
    {
     "data": {
      "text/plain": [
       "val queue : 'a list -> 'a list = <fun>\n"
      ]
     },
     "execution_count": 39,
     "metadata": {},
     "output_type": "execute_result"
    }
   ],
   "source": [
    "let queue l =\n",
    "  match l with\n",
    "  | [] -> failwith \"Liste vide\"\n",
    "  | t::q -> q\n",
    ";;"
   ]
  },
  {
   "cell_type": "code",
   "execution_count": 42,
   "id": "b57c0c1f",
   "metadata": {},
   "outputs": [
    {
     "data": {
      "text/plain": [
       "- : int list = [6; 7; 9]\n"
      ]
     },
     "execution_count": 42,
     "metadata": {},
     "output_type": "execute_result"
    }
   ],
   "source": [
    "queue [4; 6; 7; 9]"
   ]
  },
  {
   "cell_type": "markdown",
   "id": "963e027e",
   "metadata": {},
   "source": [
    "Rappelons les motifs rencontrés jusqu'à présent : un motif est une des formes suivantes :\n",
    "\n",
    "- `-`, qui filtre tout sans qu'on puisse l'utiliser\n",
    "- constante flottante, entière, booléenne\n",
    "- variable\n",
    "- `[]`\n",
    "- *motif*`::`*motif*\n",
    "- *motif*, ..., *motif*\n",
    "- `Constructeur` *motif*\n",
    "\n",
    "On dit qu'un motif *filtre* une valeur $v$ lorsque, en remplaçant toutes les variables du motif et chaque occurrence de `_` par des valeurs bien choisies, on obtient $v$."
   ]
  },
  {
   "cell_type": "markdown",
   "id": "6d7a3b7d",
   "metadata": {},
   "source": [
    "*Remarque :* OCaml refuse tout motif dans lequel une même variable apparaît plus d'une fois."
   ]
  },
  {
   "cell_type": "code",
   "execution_count": 47,
   "id": "887f1495",
   "metadata": {},
   "outputs": [
    {
     "ename": "error",
     "evalue": "compile_error",
     "output_type": "error",
     "traceback": [
      "File \"[47]\", line 3, characters 9-10:\n3 |     | n, n -> true\n             ^\nError: Variable n is bound several times in this matching\n"
     ]
    }
   ],
   "source": [
    "let sont_egaux x y =\n",
    "    match x, y with\n",
    "    | n, n -> true\n",
    "    | _ -> false\n",
    ";;"
   ]
  },
  {
   "cell_type": "markdown",
   "id": "cae3f543",
   "metadata": {},
   "source": [
    "# Exercices divers\n",
    "\n",
    "## Exercice 1\n",
    "\n",
    "- Décrire en français courant les listes reconnues par les motifs suivants :\n",
    "`[x]` ; `x::[]` ; `x::2::[]` ; `[1; 2; x]` ; `1::2::x` ; `x::y::z`"
   ]
  },
  {
   "cell_type": "markdown",
   "id": "0ce01de4",
   "metadata": {},
   "source": [
    "- `_::0::1::_` est-il un motif ? Si oui, décrire en français les listes reconnues."
   ]
  },
  {
   "cell_type": "markdown",
   "id": "cf11bf22",
   "metadata": {},
   "source": [
    "## Exercice 2\n",
    "\n",
    "- Écrire une fonction testant si une liste est non vide."
   ]
  },
  {
   "cell_type": "code",
   "execution_count": null,
   "id": "a5e4f6ff",
   "metadata": {},
   "outputs": [],
   "source": []
  },
  {
   "cell_type": "markdown",
   "id": "ecd65c0a",
   "metadata": {},
   "source": [
    "- Écrire une fonction testant si une liste a exactement deux éléments."
   ]
  },
  {
   "cell_type": "code",
   "execution_count": null,
   "id": "1dbebee6",
   "metadata": {},
   "outputs": [],
   "source": []
  },
  {
   "cell_type": "markdown",
   "id": "8981d08a",
   "metadata": {},
   "source": [
    "- Écrire une fonction testant si une liste possède deux éléments ou moins."
   ]
  },
  {
   "cell_type": "code",
   "execution_count": null,
   "id": "e064bde5",
   "metadata": {},
   "outputs": [],
   "source": []
  },
  {
   "cell_type": "markdown",
   "id": "293c9639",
   "metadata": {},
   "source": [
    "- Écrire une fonction testant si le premier élément d'une liste de booléens vaut `true`."
   ]
  },
  {
   "cell_type": "code",
   "execution_count": null,
   "id": "198c9a07",
   "metadata": {},
   "outputs": [],
   "source": []
  },
  {
   "cell_type": "markdown",
   "id": "fba3e665",
   "metadata": {},
   "source": [
    "- Écrire une fonction testant si le premier élément d'une liste de booléens vaut `false` et le deuxième vaut `true`."
   ]
  },
  {
   "cell_type": "code",
   "execution_count": null,
   "id": "3140a272",
   "metadata": {},
   "outputs": [],
   "source": []
  },
  {
   "cell_type": "markdown",
   "id": "3e752612",
   "metadata": {},
   "source": [
    "- Écrire une fonction renvoyant l'avant-dernier élément d'une liste, s'il existe."
   ]
  },
  {
   "cell_type": "markdown",
   "id": "01231195",
   "metadata": {},
   "source": [
    "## Exercice 3\n",
    "- Écrire une fonction calculant la liste des carrés des éléments d'une liste d'entiers."
   ]
  },
  {
   "cell_type": "code",
   "execution_count": null,
   "id": "62f63d3e",
   "metadata": {},
   "outputs": [],
   "source": []
  },
  {
   "cell_type": "markdown",
   "id": "848f3e90",
   "metadata": {},
   "source": [
    "- Écrire une fonction sommant les éléments d'une liste d'entiers."
   ]
  },
  {
   "cell_type": "code",
   "execution_count": null,
   "id": "f6dbb5b5",
   "metadata": {},
   "outputs": [],
   "source": []
  },
  {
   "cell_type": "markdown",
   "id": "794117b0",
   "metadata": {},
   "source": [
    "- Écrire une fonction admettant un entier $n$ comme argument et qui renvoie la liste des entiers de $1$ à $n$ (et la liste vide si $n=0$)."
   ]
  },
  {
   "cell_type": "code",
   "execution_count": null,
   "id": "f187474f",
   "metadata": {},
   "outputs": [],
   "source": []
  },
  {
   "cell_type": "markdown",
   "id": "9e90b504",
   "metadata": {},
   "source": [
    "## Exercice 4\n",
    "- Écrire une fonction  `length` : `'a list -> int`, qui prend en argument une liste et qui renvoie le nombre d'éléments de la liste. Quelle est sa complexité ?"
   ]
  },
  {
   "cell_type": "code",
   "execution_count": null,
   "id": "84e0d17e",
   "metadata": {},
   "outputs": [],
   "source": []
  },
  {
   "cell_type": "markdown",
   "id": "337e4379",
   "metadata": {},
   "source": [
    "- Écrire une fonction  `mem` : `'a -> 'a list -> bool` testant l'appartenance d'un élément à une liste. Quelle est sa complexité ?"
   ]
  },
  {
   "cell_type": "code",
   "execution_count": null,
   "id": "00c1f9bc",
   "metadata": {},
   "outputs": [],
   "source": []
  },
  {
   "cell_type": "markdown",
   "id": "0a44cad8",
   "metadata": {},
   "source": [
    "- Écrire une fonction `map` : `('a -> 'b) -> 'a list -> 'b list`, qui prend en argument une fonction `f` de type `'a -> 'b` et une liste `[a1; ...; an]` d'éléments de type `'a` et qui renvoie la liste `[f a1; ...; f an]`"
   ]
  },
  {
   "cell_type": "code",
   "execution_count": null,
   "id": "d872e90f",
   "metadata": {},
   "outputs": [],
   "source": []
  },
  {
   "cell_type": "markdown",
   "id": "ed614c34",
   "metadata": {},
   "source": [
    "- Écrire une fonction `filter` : ` ('a -> bool) -> 'a list -> 'a list` qui prend en argument une fonction `f : 'a -> bool` et une liste `l : 'a liste` et qui renvoie la liste des éléments `x` de `l` tels que `f x` soit vrai."
   ]
  },
  {
   "cell_type": "code",
   "execution_count": null,
   "id": "80a21f3c",
   "metadata": {},
   "outputs": [],
   "source": []
  },
  {
   "cell_type": "markdown",
   "id": "8090d839",
   "metadata": {},
   "source": [
    "*Ces quatre fonctions sont en fait déjà implémentées dans le module `List`.*"
   ]
  },
  {
   "cell_type": "markdown",
   "id": "2e478319",
   "metadata": {},
   "source": [
    "## Exercice 5\n",
    "\n",
    "Écrire une fonction calculant la concaténation de deux listes. Quelle est sa complexité ?"
   ]
  },
  {
   "cell_type": "code",
   "execution_count": null,
   "id": "d39426f8",
   "metadata": {},
   "outputs": [],
   "source": []
  },
  {
   "cell_type": "markdown",
   "id": "c968d588",
   "metadata": {},
   "source": [
    "## Exercice 6\n",
    "Écrire une fonction qui prend en argument une liste d'entiers de longueur au moins 2 et qui retourne le couple constitué des deux plus petits entiers de la liste (éventuellement égaux)."
   ]
  },
  {
   "cell_type": "code",
   "execution_count": null,
   "id": "0f3adfd9",
   "metadata": {},
   "outputs": [],
   "source": []
  },
  {
   "cell_type": "markdown",
   "id": "7c150934",
   "metadata": {},
   "source": [
    "## Exercice 7\n",
    "On représente un polynôme à coefficients entiers par la liste de ses coefficients en puissances décroissantes.\n",
    "\n",
    "Écrire une fonction `evalue : int list -> int -> int` qui prend en argument un polynôme $[a_n;a_{n-1};\\dots;a_0]$ et un entier $x$ et qui retourne l'entier $a_nx^n+a_{n-1}x^{n-1}+\\dots+a_0$ avec seulement $n$ multiplications."
   ]
  },
  {
   "cell_type": "code",
   "execution_count": null,
   "id": "5ef317c6",
   "metadata": {},
   "outputs": [],
   "source": []
  },
  {
   "cell_type": "markdown",
   "id": "e0f43412",
   "metadata": {},
   "source": [
    "## Exercice 8\n",
    "Écrire une fonction qui retourne le nombre de changements de signes d'une suite d'entiers (les zéros ne comptent pas et la fonction retournera $0$ si la liste est vide)."
   ]
  },
  {
   "cell_type": "code",
   "execution_count": null,
   "id": "3e80084e",
   "metadata": {},
   "outputs": [],
   "source": []
  }
 ],
 "metadata": {
  "kernelspec": {
   "display_name": "OCaml default",
   "language": "OCaml",
   "name": "ocaml-jupyter"
  },
  "language_info": {
   "codemirror_mode": "text/x-ocaml",
   "file_extension": ".ml",
   "mimetype": "text/x-ocaml",
   "name": "OCaml",
   "nbconverter_exporter": null,
   "pygments_lexer": "OCaml",
   "version": "4.08.1"
  }
 },
 "nbformat": 4,
 "nbformat_minor": 5
}
