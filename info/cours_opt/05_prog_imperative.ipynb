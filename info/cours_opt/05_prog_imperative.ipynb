{
 "cells": [
  {
   "cell_type": "markdown",
   "id": "4d3884b4",
   "metadata": {
    "slideshow": {
     "slide_type": "slide"
    }
   },
   "source": [
    "# Au programme officiel\n",
    "## Traits et éléments techniques à connaître\n",
    "- Absence d’instruction ; la programmation impérative est mise en œuvre par des expressions impures ;\n",
    "`unit`, `()`.\n",
    "- Références : type `'a ref`, notations `ref`, `!`, `:=`. Les références doivent être utilisées à bon escient.\n",
    "- Séquence `;`. La séquence intervient entre deux expressions.\n",
    "- Boucle `while 𝑐 do 𝑏 done` ; boucle  `for 𝑣 = 𝑑 to 𝑓 do`"
   ]
  },
  {
   "cell_type": "markdown",
   "id": "32587a93",
   "metadata": {
    "slideshow": {
     "slide_type": "subslide"
    }
   },
   "source": [
    "## Éléments techniques devant être reconnus et utilisables après rappel\n",
    "- Tableaux : type `'a array`, notations `[|…|]`, `𝑡.(𝑖), 𝑡.(𝑖) <- 𝑣` ; les fonctions suivantes du module `Array` : `length`, `make`, `make_matrix`, `init`, `copy`, `mem`, `exists`, `for_all`, `map` et `iter`.\n",
    "- Types enregistrements immuables et mutables, notations associées.\n",
    "\n",
    "<hr/>"
   ]
  },
  {
   "cell_type": "markdown",
   "id": "3cfe1195",
   "metadata": {
    "slideshow": {
     "slide_type": "slide"
    }
   },
   "source": [
    "# Enregistrements avec champ modifiable\n",
    "Dans un type enregistrement, on peut déclarer un ou plusieurs champs comme modifiable (ou *mutable*)."
   ]
  },
  {
   "cell_type": "code",
   "execution_count": 1,
   "id": "86c55e1b",
   "metadata": {
    "slideshow": {
     "slide_type": "fragment"
    }
   },
   "outputs": [
    {
     "data": {
      "text/plain": [
       "type etudiant = { nom : string; prenom : string; mutable classe : string; }\n"
      ]
     },
     "execution_count": 1,
     "metadata": {},
     "output_type": "execute_result"
    },
    {
     "data": {
      "text/plain": [
       "val e : etudiant = {nom = \"Tournesol\"; prenom = \"Tryphon\"; classe = \"MPSI\"}\n"
      ]
     },
     "execution_count": 1,
     "metadata": {},
     "output_type": "execute_result"
    }
   ],
   "source": [
    "type etudiant = {\n",
    "    nom : string;\n",
    "    prenom : string;\n",
    "    mutable classe : string;\n",
    "  };;\n",
    "\n",
    "let e = {\n",
    "    nom = \"Tournesol\";\n",
    "    prenom = \"Tryphon\";\n",
    "    classe = \"MPSI\"\n",
    "  };;"
   ]
  },
  {
   "cell_type": "markdown",
   "id": "c1dbbf9a",
   "metadata": {
    "slideshow": {
     "slide_type": "subslide"
    }
   },
   "source": [
    "Si le champ `c` de l'enregistrement `a` est mutable, la modification de sa valeur se fait avec `a.c <-` $e$ où $e$ est une expression."
   ]
  },
  {
   "cell_type": "code",
   "execution_count": 8,
   "id": "ebf82a49",
   "metadata": {
    "slideshow": {
     "slide_type": "fragment"
    }
   },
   "outputs": [
    {
     "data": {
      "text/plain": [
       "- : unit = ()\n"
      ]
     },
     "execution_count": 8,
     "metadata": {},
     "output_type": "execute_result"
    }
   ],
   "source": [
    "e.classe <- \"MP\";;"
   ]
  },
  {
   "cell_type": "code",
   "execution_count": 9,
   "id": "a86a171e",
   "metadata": {},
   "outputs": [
    {
     "data": {
      "text/plain": [
       "- : unit = ()\n"
      ]
     },
     "execution_count": 9,
     "metadata": {},
     "output_type": "execute_result"
    }
   ],
   "source": [
    "();;"
   ]
  },
  {
   "cell_type": "markdown",
   "id": "bd2a87cb",
   "metadata": {
    "slideshow": {
     "slide_type": "fragment"
    }
   },
   "source": [
    "Il n'y a pas d'instruction en OCaml. `e.classe <- \"MP\"` est en réalité une expression dont la valeur est `()` et dont le type est `unit`."
   ]
  },
  {
   "cell_type": "markdown",
   "id": "dd31b385",
   "metadata": {
    "slideshow": {
     "slide_type": "slide"
    }
   },
   "source": [
    "# Références\n",
    "Les variables en OCaml rencontrées jusqu'à présent ne sont pas des variables au sens traditionnel des langages de programmation, puisqu'il est impossible de modifier leur valeur. En programmation impérative, il est indispensable de pouvoir utiliser des variables modifiables pour mémoriser une information évoluant au fil du programme.\n",
    "\n",
    "En OCaml, on utilise alors une *référence* vers une valeur, c'est-à-dire une case mémoire dont on peut lire et écrire le contenu. \n",
    "\n",
    "En pratique, on définit une référence avec le mot-clé `ref` (qui est en fait une fonction `'a -> 'a ref`)."
   ]
  },
  {
   "cell_type": "code",
   "execution_count": 10,
   "id": "229f19a5",
   "metadata": {
    "slideshow": {
     "slide_type": "fragment"
    }
   },
   "outputs": [
    {
     "data": {
      "text/plain": [
       "val x : int ref = {contents = 0}\n"
      ]
     },
     "execution_count": 10,
     "metadata": {},
     "output_type": "execute_result"
    },
    {
     "data": {
      "text/plain": [
       "val bidule : string ref = {contents = \"coucou\"}\n"
      ]
     },
     "execution_count": 10,
     "metadata": {},
     "output_type": "execute_result"
    }
   ],
   "source": [
    "let x = ref 0;;\n",
    "let bidule = ref \"coucou\";;"
   ]
  },
  {
   "cell_type": "markdown",
   "id": "97225a03",
   "metadata": {
    "slideshow": {
     "slide_type": "subslide"
    }
   },
   "source": [
    "On remarque que son type correspond à un type enregistrement `'a ref` qui contient un unique champ de type `'a` appelé `contents`.\n",
    "\n",
    "Le type de la valeur pointée par une référence est fixé à la création. Une référence pointant vers un objet de type `'a` a le type `'a ref`.\n",
    "\n",
    "Pour accéder à la valeur de la référence `x`, on utilise l'*opérateur de référencement* `!` suivi du nom de la référence.\n",
    "\n",
    "Pour modifier une référence, on utilise l'*opérateur d'affectation* `:=` précédé du nom de la référence, et suivi d'une expression."
   ]
  },
  {
   "cell_type": "code",
   "execution_count": 12,
   "id": "62912110",
   "metadata": {},
   "outputs": [
    {
     "data": {
      "text/plain": [
       "- : unit = ()\n"
      ]
     },
     "execution_count": 12,
     "metadata": {},
     "output_type": "execute_result"
    }
   ],
   "source": [
    "x := 3;;"
   ]
  },
  {
   "cell_type": "code",
   "execution_count": 13,
   "id": "88530c90",
   "metadata": {},
   "outputs": [
    {
     "data": {
      "text/plain": [
       "- : unit = ()\n"
      ]
     },
     "execution_count": 13,
     "metadata": {},
     "output_type": "execute_result"
    }
   ],
   "source": [
    "x := !x + 1;;"
   ]
  },
  {
   "cell_type": "code",
   "execution_count": 14,
   "id": "c776f352",
   "metadata": {},
   "outputs": [
    {
     "data": {
      "text/plain": [
       "- : int = 4\n"
      ]
     },
     "execution_count": 14,
     "metadata": {},
     "output_type": "execute_result"
    }
   ],
   "source": [
    "!x;;"
   ]
  },
  {
   "cell_type": "markdown",
   "id": "5662a290",
   "metadata": {},
   "source": [
    "# Type `unit` et fonctions avec effets de bord\n",
    "Une fonction est dite *à effet de bord* lorsqu'elle modifie un état en dehors de son environnement local. Par extension, un opérateur est dit *à effet de bord* lorsqu'il modifie l'un de ses opérandes ; par exemple, l'opérateur d'affectation `:=` est à effet de bord.\n",
    "\n",
    "Il est fréquent qu'une fonction à effet de bord n'ait pas besoin de renvoyer une valeur. Dans ce cas, elle renverra une valeur de type `unit`. La seule valeur de type `unit` est `()`\n",
    "\n",
    "*Remarque :* Il s'agit de l'équivalent de `None` en Python (dont le type est `NoneType`).\n",
    "\n",
    "\n",
    "Par exemple, les fonctions d'affichage sont des fonctions à effet de bord : `print_string`, `print_char`, `print_int`, `print_float`, `print_newline`, `print_endline`.\n",
    "\n",
    "Une fonction qui n'a pas besoin d'un argument aura un argument de type `unit`, on la définira et on l'appellera donc avec `()`"
   ]
  },
  {
   "cell_type": "code",
   "execution_count": 20,
   "id": "7c95263b",
   "metadata": {
    "scrolled": false
   },
   "outputs": [
    {
     "data": {
      "text/plain": [
       "val f : unit -> unit = <fun>\n"
      ]
     },
     "execution_count": 20,
     "metadata": {},
     "output_type": "execute_result"
    }
   ],
   "source": [
    "let f () = print_endline \"Coucou\";;"
   ]
  },
  {
   "cell_type": "markdown",
   "id": "47b32b01",
   "metadata": {},
   "source": [
    "La fonction `print_endline : string -> unit` permet d'afficher une chaîne de caractères et de revenir ensuite à la ligne."
   ]
  },
  {
   "cell_type": "code",
   "execution_count": 21,
   "id": "73ed1c17",
   "metadata": {
    "scrolled": true
   },
   "outputs": [
    {
     "data": {
      "text/plain": [
       "- : unit = ()\n"
      ]
     },
     "execution_count": 21,
     "metadata": {},
     "output_type": "execute_result"
    },
    {
     "name": "stdout",
     "output_type": "stream",
     "text": [
      "Coucou\n"
     ]
    }
   ],
   "source": [
    "f ();;"
   ]
  },
  {
   "cell_type": "markdown",
   "id": "899b7711",
   "metadata": {},
   "source": [
    "# Séquences d'instructions\n",
    "En Ocaml, les séquences d'instructions sont des expressions séparées par des points-virgules. L'évaluation de \n",
    "\n",
    "$$e_1 {\\ \\mathtt{;}\\ } e_2  {\\ \\mathtt{;}\\ }  ...  {\\ \\mathtt{;}\\ }  e_n$$\n",
    "\n",
    "provoque les effets éventuels de ces $n$ expressions dans l'ordre, et a la valeur de la dernière expression."
   ]
  },
  {
   "cell_type": "markdown",
   "id": "b441dd6a",
   "metadata": {},
   "source": [
    "Ce dernier point implique qu'il n'y a aucun intérêt à utiliser une séquence si les expressions dont la valeur n'est pas utilisée (c'est-à-dire toutes sauf la dernière) n'ont pas d'effet de bord.\n",
    "\n",
    "Par ailleurs, ces différentes expressions (sauf éventuellement la dernière) sont la plupart du temps de type `unit` puisque seule la valeur de la dernière expression est prise en compte."
   ]
  },
  {
   "cell_type": "code",
   "execution_count": 25,
   "id": "53fde748",
   "metadata": {},
   "outputs": [
    {
     "data": {
      "text/plain": [
       "val classe : string -> int -> int = <fun>\n"
      ]
     },
     "execution_count": 25,
     "metadata": {},
     "output_type": "execute_result"
    }
   ],
   "source": [
    "let classe nom numero =\n",
    "  print_string \"Vivent les \";\n",
    "  print_string nom;\n",
    "  print_int numero;\n",
    "  print_newline ();\n",
    "  numero * numero;;"
   ]
  },
  {
   "cell_type": "code",
   "execution_count": 26,
   "id": "81aa73fd",
   "metadata": {},
   "outputs": [
    {
     "data": {
      "text/plain": [
       "- : int = 4\n"
      ]
     },
     "execution_count": 26,
     "metadata": {},
     "output_type": "execute_result"
    },
    {
     "name": "stdout",
     "output_type": "stream",
     "text": [
      "Vivent les MPSI2\n"
     ]
    }
   ],
   "source": [
    "classe \"MPSI\" 2;;"
   ]
  },
  {
   "cell_type": "markdown",
   "id": "898e2ab0",
   "metadata": {},
   "source": [
    "Lorsqu'on souhaite utiliser une séquence à la place d'une expression dans une instruction conditionnelle, il est nécessaire d'encadrer celle-ci par les mots-clés `begin` et `end` ou d'utiliser des parenthèses."
   ]
  },
  {
   "cell_type": "code",
   "execution_count": 35,
   "id": "2af2b968",
   "metadata": {},
   "outputs": [
    {
     "name": "stdout",
     "output_type": "stream",
     "text": [
      "Vive l'info !\n"
     ]
    },
    {
     "data": {
      "text/plain": [
       "- : unit = ()\n"
      ]
     },
     "execution_count": 35,
     "metadata": {},
     "output_type": "execute_result"
    }
   ],
   "source": [
    "let x = 5\n",
    "in if x = 0 then (print_endline \"x est nuuuuul\" ; print_endline \"Vive l'info !\");;"
   ]
  },
  {
   "cell_type": "code",
   "execution_count": 38,
   "id": "f0d50afe",
   "metadata": {},
   "outputs": [
    {
     "data": {
      "text/plain": [
       "val est_pair : int -> bool = <fun>\n"
      ]
     },
     "execution_count": 38,
     "metadata": {},
     "output_type": "execute_result"
    }
   ],
   "source": [
    "let est_pair n =\n",
    "  if n mod 2 = 0\n",
    "  then\n",
    "    (print_endline \"nombre pair\";true)\n",
    "  else\n",
    "    begin\n",
    "      print_endline \"nombre impair\";\n",
    "      false\n",
    "    end\n",
    ";;"
   ]
  },
  {
   "cell_type": "markdown",
   "id": "7062b818",
   "metadata": {},
   "source": [
    "# Boucles\n",
    "## Boucles inconditionnelles\n",
    "Il existe deux types de boucles inconditionnelles en OCaml :\n",
    "\n",
    "- `for` $indice$ `=` $e_1$ `to` $e_2$ `do` $e_3$ `done`\n",
    "\n",
    "- `for` $indice$ `=` $e_1$ `downto` $e_2$ `do` $e_3$ `done`\n",
    "\n",
    "\n",
    "Dans le premier cas, l'indice de boucle (de type `int`) est incrémenté de $1$ en $1$ entre les valeurs des expressions $e_1$ et $e_2$, en effectuant le calcul de $e_3$ à chaque fois (il est donc préférable que $e_3$ ait un effet de bord, et pertinent que $e_3$ soit de type `unit`).\n",
    "\n",
    "Le second cas est identique, mais l'indice de boucle est décrémenté."
   ]
  },
  {
   "cell_type": "code",
   "execution_count": 15,
   "id": "e9dd277c",
   "metadata": {},
   "outputs": [
    {
     "name": "stdout",
     "output_type": "stream",
     "text": [
      "1 2 3 4 5 6 7 8 9 10 \n"
     ]
    },
    {
     "data": {
      "text/plain": [
       "- : unit = ()\n"
      ]
     },
     "execution_count": 15,
     "metadata": {},
     "output_type": "execute_result"
    }
   ],
   "source": [
    "for i = 1 to 10 do print_int i;  print_char ' ' done; \n",
    "print_newline ();;"
   ]
  },
  {
   "cell_type": "code",
   "execution_count": 16,
   "id": "b422c03f",
   "metadata": {
    "scrolled": true
   },
   "outputs": [
    {
     "name": "stdout",
     "output_type": "stream",
     "text": [
      "10 9 8 7 6 5 4 3 2 1 \n"
     ]
    },
    {
     "data": {
      "text/plain": [
       "- : unit = ()\n"
      ]
     },
     "execution_count": 16,
     "metadata": {},
     "output_type": "execute_result"
    }
   ],
   "source": [
    "for i = 10 downto 1 do print_int i;  print_char ' ' done;\n",
    "print_newline ();;"
   ]
  },
  {
   "cell_type": "markdown",
   "id": "9272e266",
   "metadata": {},
   "source": [
    "⚠️ Les deux bornes sont atteintes."
   ]
  },
  {
   "cell_type": "markdown",
   "id": "1d8d4378",
   "metadata": {},
   "source": [
    "## Boucles conditionnelles\n",
    "La syntaxe d'une boucle conditionnelle est la suivante :\n",
    "\n",
    "- `while ` $e_1$ `do ` $e_2$ `done`\n",
    "\n",
    "Tant que l'expression $e_1$ (nécessairement de type `bool`) a la valeur `true`, on évalue l'expression $e_2$."
   ]
  },
  {
   "cell_type": "code",
   "execution_count": 17,
   "id": "51fdfe0e",
   "metadata": {},
   "outputs": [
    {
     "name": "stdout",
     "output_type": "stream",
     "text": [
      "01100111111\n"
     ]
    },
    {
     "data": {
      "text/plain": [
       "- : unit = ()\n"
      ]
     },
     "execution_count": 17,
     "metadata": {},
     "output_type": "execute_result"
    }
   ],
   "source": [
    "let a = ref 2022 in\n",
    "while !a > 0 do\n",
    "  print_int (!a mod 2); \n",
    "  a := !a / 2\n",
    "done;\n",
    "print_newline ();;"
   ]
  },
  {
   "cell_type": "markdown",
   "id": "7bcc4f3c",
   "metadata": {},
   "source": [
    "*On lira bien évidemment l'affichage de droite à gauche.*\n",
    "\n",
    "*Remarque :* Si l'expression $e_2$ n'a pas d'effet de bord, il est peu probable que la condition puisse cesser d'être vérifiée..."
   ]
  },
  {
   "cell_type": "markdown",
   "id": "dabfed5f",
   "metadata": {},
   "source": [
    "# Structure de tableaux\n",
    "Les *tableaux* (ou vecteurs) sont des structures correspondant aux vecteurs mathématiques. Un tableau est une suite finie de valeurs **de même type**, modifiables, l'accès à une composante se faisant à temps constant. \n",
    "\n",
    "La *longueur* d'un tableau (son nombre d'éléments) est fixée lors de la création et **ne peut être modifiée**\n"
   ]
  },
  {
   "cell_type": "markdown",
   "id": "29dde6ac",
   "metadata": {},
   "source": [
    "Un tableau est délimité par `[|` et `|]`, ses éléments sont séparés par des points-virgules.\n",
    "\n",
    "Un tableau contenant des valeurs de type `'a` a pour type `'a array`."
   ]
  },
  {
   "cell_type": "code",
   "execution_count": 18,
   "id": "c8d5d3c7",
   "metadata": {},
   "outputs": [
    {
     "data": {
      "text/plain": [
       "val t1 : int array = [|1; 2; 3; 4; 5; 6|]\n"
      ]
     },
     "execution_count": 18,
     "metadata": {},
     "output_type": "execute_result"
    }
   ],
   "source": [
    "let t1 = [|1;2;3;4;5;6|];;"
   ]
  },
  {
   "cell_type": "markdown",
   "id": "d8a2e5e1",
   "metadata": {},
   "source": [
    "La fonction `Array.length` renvoie la longueur du tableau passé en argument."
   ]
  },
  {
   "cell_type": "code",
   "execution_count": 19,
   "id": "b043ef25",
   "metadata": {},
   "outputs": [
    {
     "data": {
      "text/plain": [
       "- : int = 6\n"
      ]
     },
     "execution_count": 19,
     "metadata": {},
     "output_type": "execute_result"
    }
   ],
   "source": [
    "Array.length t1;;"
   ]
  },
  {
   "cell_type": "markdown",
   "id": "a47a6457",
   "metadata": {},
   "source": [
    "En OCaml, les éléments d'un tableau de longueur $n$ sont numérotés de $0$ à $n-1$.\n",
    "\n",
    "L'accès à l'élément d'indice `i` du tableau `t` s'écrit : `t.(i)`.\n",
    "\n",
    "Cet élément peut être modifié par `t.(i) <-` $e$ où $e$ est une expression."
   ]
  },
  {
   "cell_type": "code",
   "execution_count": 20,
   "id": "a1bf9abc",
   "metadata": {},
   "outputs": [
    {
     "data": {
      "text/plain": [
       "- : int = 6\n"
      ]
     },
     "execution_count": 20,
     "metadata": {},
     "output_type": "execute_result"
    }
   ],
   "source": [
    "t1.(5);;"
   ]
  },
  {
   "cell_type": "code",
   "execution_count": 21,
   "id": "4bd97179",
   "metadata": {},
   "outputs": [
    {
     "data": {
      "text/plain": [
       "- : unit = ()\n"
      ]
     },
     "execution_count": 21,
     "metadata": {},
     "output_type": "execute_result"
    }
   ],
   "source": [
    "t1.(2) <- 42;;"
   ]
  },
  {
   "cell_type": "code",
   "execution_count": 22,
   "id": "f0cf926e",
   "metadata": {},
   "outputs": [
    {
     "data": {
      "text/plain": [
       "- : int array = [|1; 2; 42; 4; 5; 6|]\n"
      ]
     },
     "execution_count": 22,
     "metadata": {},
     "output_type": "execute_result"
    }
   ],
   "source": [
    "t1;;"
   ]
  },
  {
   "cell_type": "code",
   "execution_count": 23,
   "id": "03584b0a",
   "metadata": {},
   "outputs": [
    {
     "ename": "error",
     "evalue": "runtime_error",
     "output_type": "error",
     "traceback": [
      "\u001b[31mException: Invalid_argument \"index out of bounds\".\nRaised by primitive operation at unknown location\nCalled from file \"toplevel/toploop.ml\", line 208, characters 17-27\n\u001b[0m"
     ]
    }
   ],
   "source": [
    "t1.(6);;"
   ]
  },
  {
   "cell_type": "code",
   "execution_count": 24,
   "id": "a3ff26e9",
   "metadata": {},
   "outputs": [
    {
     "ename": "error",
     "evalue": "runtime_error",
     "output_type": "error",
     "traceback": [
      "\u001b[31mException: Invalid_argument \"index out of bounds\".\nRaised by primitive operation at unknown location\nCalled from file \"toplevel/toploop.ml\", line 208, characters 17-27\n\u001b[0m"
     ]
    }
   ],
   "source": [
    "t1.(-1);;"
   ]
  },
  {
   "cell_type": "markdown",
   "id": "e6b87dff",
   "metadata": {},
   "source": [
    "Pour créer un tableau, on peut utiliser la fonction `Array.make` : `Array.make n x` renvoie un tableau de taille `n` dans lequel tous les éléments valent `x`."
   ]
  },
  {
   "cell_type": "code",
   "execution_count": 25,
   "id": "a151f4c4",
   "metadata": {},
   "outputs": [
    {
     "data": {
      "text/plain": [
       "- : char array = [|'a'; 'a'; 'a'|]\n"
      ]
     },
     "execution_count": 25,
     "metadata": {},
     "output_type": "execute_result"
    }
   ],
   "source": [
    "Array.make 3 'a';;"
   ]
  },
  {
   "cell_type": "markdown",
   "id": "3ec902cf",
   "metadata": {},
   "source": [
    "⚠️ Les éléments du tableaux sont alors physiquement tous égaux."
   ]
  },
  {
   "cell_type": "code",
   "execution_count": 26,
   "id": "036574ec",
   "metadata": {},
   "outputs": [
    {
     "data": {
      "text/plain": [
       "val tabtab : int array array = [|[|1; 1|]; [|1; 1|]; [|1; 1|]|]\n"
      ]
     },
     "execution_count": 26,
     "metadata": {},
     "output_type": "execute_result"
    }
   ],
   "source": [
    "let tabtab = Array.make 3 [|1;1|];;"
   ]
  },
  {
   "cell_type": "code",
   "execution_count": 27,
   "id": "1ecd0a0f",
   "metadata": {},
   "outputs": [
    {
     "data": {
      "text/plain": [
       "- : unit = ()\n"
      ]
     },
     "execution_count": 27,
     "metadata": {},
     "output_type": "execute_result"
    }
   ],
   "source": [
    "tabtab.(0).(0) <- 1515;;"
   ]
  },
  {
   "cell_type": "code",
   "execution_count": 28,
   "id": "6175a181",
   "metadata": {
    "scrolled": true
   },
   "outputs": [
    {
     "data": {
      "text/plain": [
       "- : int array array = [|[|1515; 1|]; [|1515; 1|]; [|1515; 1|]|]\n"
      ]
     },
     "execution_count": 28,
     "metadata": {},
     "output_type": "execute_result"
    }
   ],
   "source": [
    "tabtab;;"
   ]
  },
  {
   "cell_type": "markdown",
   "id": "437d5339",
   "metadata": {},
   "source": [
    "Pour initialiser une matrice, on utilisera donc la fonction  `Array.make_matrix : int -> int -> 'a -> 'a array array`"
   ]
  },
  {
   "cell_type": "code",
   "execution_count": 29,
   "id": "c36daadb",
   "metadata": {},
   "outputs": [
    {
     "data": {
      "text/plain": [
       "val tabtab : int array array = [|[|0; 0; 0|]; [|0; 0; 0|]|]\n"
      ]
     },
     "execution_count": 29,
     "metadata": {},
     "output_type": "execute_result"
    }
   ],
   "source": [
    "let tabtab = Array.make_matrix 2 3 0;;"
   ]
  },
  {
   "cell_type": "code",
   "execution_count": 30,
   "id": "47777a96",
   "metadata": {},
   "outputs": [
    {
     "data": {
      "text/plain": [
       "- : unit = ()\n"
      ]
     },
     "execution_count": 30,
     "metadata": {},
     "output_type": "execute_result"
    },
    {
     "data": {
      "text/plain": [
       "- : int array array = [|[|1515; 0; 0|]; [|0; 0; 0|]|]\n"
      ]
     },
     "execution_count": 30,
     "metadata": {},
     "output_type": "execute_result"
    }
   ],
   "source": [
    "tabtab.(0).(0) <- 1515;;\n",
    "tabtab;;"
   ]
  },
  {
   "cell_type": "markdown",
   "id": "c6e67254",
   "metadata": {},
   "source": [
    "Enfin, il est possible de créer un tableau avec la fonction `Array.init : int -> (int -> 'a) -> 'a array` en précisant la longueur du tableau une fonction calculant l'élément d'indice $i$ en fonction de $i$."
   ]
  },
  {
   "cell_type": "code",
   "execution_count": 31,
   "id": "6ae75c3e",
   "metadata": {},
   "outputs": [
    {
     "data": {
      "text/plain": [
       "val tab : int array = [|0; 2; 4; 6; 8|]\n"
      ]
     },
     "execution_count": 31,
     "metadata": {},
     "output_type": "execute_result"
    }
   ],
   "source": [
    "let tab = Array.init 5 (fun i -> 2*i);;"
   ]
  },
  {
   "cell_type": "markdown",
   "id": "1fd763db",
   "metadata": {},
   "source": [
    "# Exercices divers\n",
    "\n",
    "## Exercice 1\n",
    "Prévoir la réponse de l'interpréteur de commandes :"
   ]
  },
  {
   "cell_type": "code",
   "execution_count": null,
   "id": "422e1981",
   "metadata": {},
   "outputs": [],
   "source": [
    "let x = ref 0;;\n",
    "let z = x;;\n",
    "x := 4;;"
   ]
  },
  {
   "cell_type": "code",
   "execution_count": null,
   "id": "f9f80a6d",
   "metadata": {},
   "outputs": [],
   "source": [
    "!z;;"
   ]
  },
  {
   "cell_type": "markdown",
   "id": "8868a584",
   "metadata": {},
   "source": [
    "## Exercice 2\n",
    "Prévoir la réponse de l'interpréteur de commandes :"
   ]
  },
  {
   "cell_type": "code",
   "execution_count": null,
   "id": "61771599",
   "metadata": {},
   "outputs": [],
   "source": [
    "let a = ref 1;;\n",
    "let f x = x + !a;;\n",
    "f 3;;"
   ]
  },
  {
   "cell_type": "code",
   "execution_count": null,
   "id": "d1c65db4",
   "metadata": {
    "scrolled": true
   },
   "outputs": [],
   "source": [
    "a := 4;;\n",
    "f 3;;"
   ]
  },
  {
   "cell_type": "markdown",
   "id": "876c393b",
   "metadata": {},
   "source": [
    "## Exercice 3\n",
    "\n",
    "- Écrire une fonction `copy : 'a array -> 'a array` qui prend en argument un tableau et en renvoie une copie. Quelle est sa complexité ?\n",
    "\n",
    "- Écrire une fonction `mem : 'a -> 'a array -> bool` testant l'appartenance d'un élément à un tableau. Quelle est sa complexité ?\n",
    "\n",
    "- Écrire une fonction `map : ('a -> 'b) -> 'a array -> 'b array` qui prend en argument une fonction `f` de type `'a -> 'b` et un tableau `[|a1; ...; an|]` d'éléments de type `'a` et qui renvoie le tableau `[|f a1; ...; f an|]`.\n",
    "\n",
    "- Écrire une fonction `exists : ('a -> bool) -> 'a array -> bool` qui prend en argument une fonction `f` de type `'a -> bool` et un tableau `[|a1; ...; an|]` d'éléments de type `'a` et qui renvoie `true` si au moins un élément du tableau vérifie `f`, `false` sinon.\n",
    "\n",
    "- Écrire une fonction `for_all : ('a -> bool) -> 'a array -> bool` qui prend en argument une fonction `f` de type `'a -> bool` et un tableau `[|a1; ...; an|]` d'éléments de type `'a` et qui renvoie `true` si tous les éléments du tableau vérifie `f`, `false` sinon.\n",
    "\n",
    "*Ces fonctions sont déjà implémentées dans le module `Array`.*"
   ]
  }
 ],
 "metadata": {
  "celltoolbar": "Slideshow",
  "kernelspec": {
   "display_name": "OCaml default",
   "language": "OCaml",
   "name": "ocaml-jupyter"
  },
  "language_info": {
   "codemirror_mode": "text/x-ocaml",
   "file_extension": ".ml",
   "mimetype": "text/x-ocaml",
   "name": "OCaml",
   "nbconverter_exporter": null,
   "pygments_lexer": "OCaml",
   "version": "4.08.1"
  },
  "latex_envs": {
   "LaTeX_envs_menu_present": true,
   "autoclose": false,
   "autocomplete": true,
   "bibliofile": "biblio.bib",
   "cite_by": "apalike",
   "current_citInitial": 1,
   "eqLabelWithNumbers": true,
   "eqNumInitial": 1,
   "hotkeys": {
    "equation": "Ctrl-E",
    "itemize": "Ctrl-I"
   },
   "labels_anchors": false,
   "latex_user_defs": false,
   "report_style_numbering": true,
   "user_envs_cfg": true
  }
 },
 "nbformat": 4,
 "nbformat_minor": 5
}
