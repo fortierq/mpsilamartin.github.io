{
 "cells": [
  {
   "cell_type": "markdown",
   "id": "1e4663a6",
   "metadata": {},
   "source": [
    "   \n",
    "# Description"
   ]
  },
  {
   "cell_type": "markdown",
   "id": "ef4096e8",
   "metadata": {},
   "source": [
    "Un *dictionnaire*, ou *table d'association* est un type de données associant un ensemble de clés à un ensemble de valeurs.\n",
    "\n",
    "Formellement, si $C$ est un ensemble des clés et $V$ un ensemble de valeurs, une table d'associations est une partie $T$ de $C \\times V$ tel que pour toute clé $c \\in C$, il existe *au plus* un élément $v \\in V$ tel que $(c,v) \\in T$.\n",
    "\n",
    "Les opérations sur une table d'association sont en général les suivantes :\n",
    "\n",
    "- création d'une table d'association vide ;\n",
    "- ajout d'une nouvelle paire $(c,v)$ ;\n",
    "- suppression d'une paire $(c,v)$ ;\n",
    "- lecture de la valeur associée à une clé.\n",
    "\n",
    "# Listes d'associations"
   ]
  },
  {
   "cell_type": "markdown",
   "id": "880cb31c",
   "metadata": {},
   "source": [
    "Une première idée consiste à utiliser une liste pour stocker les couples $(c,v)$. La structure de liste est une structure persistante ; on fait ci-dessous le choix d'une implémentation impérative des tables d'associations, en utilisant un type enregistrement avec un champ mutable.\n",
    "\n",
    "Dans ce qui suit, lorsqu'on ajoute un couple $(c,v)$ pour une clé $c$ déjà présente dans la liste, la valeur précédente est remplacée."
   ]
  },
  {
   "cell_type": "code",
   "execution_count": 6,
   "id": "b0351862",
   "metadata": {},
   "outputs": [
    {
     "data": {
      "text/plain": [
       "type ('a, 'b) entree = { cle : 'a; valeur : 'b; }\n"
      ]
     },
     "execution_count": 6,
     "metadata": {},
     "output_type": "execute_result"
    },
    {
     "data": {
      "text/plain": [
       "type ('a, 'b) table = { mutable contenu : ('a, 'b) entree list; }\n"
      ]
     },
     "execution_count": 6,
     "metadata": {},
     "output_type": "execute_result"
    }
   ],
   "source": [
    "type ('a, 'b) entree = {cle : 'a ; valeur : 'b};;\n",
    "type ('a, 'b) table = {mutable contenu : ('a, 'b) entree list};;"
   ]
  },
  {
   "cell_type": "code",
   "execution_count": 7,
   "id": "47662e0e",
   "metadata": {},
   "outputs": [
    {
     "data": {
      "text/plain": [
       "val creer_table : unit -> ('a, 'b) table = <fun>\n"
      ]
     },
     "execution_count": 7,
     "metadata": {},
     "output_type": "execute_result"
    }
   ],
   "source": [
    "let creer_table () =\n",
    "  {contenu = []}\n",
    ";;"
   ]
  },
  {
   "cell_type": "code",
   "execution_count": 8,
   "id": "65d3069f",
   "metadata": {},
   "outputs": [
    {
     "data": {
      "text/plain": [
       "val ajouter : ('a, 'b) table -> 'a -> 'b -> unit = <fun>\n"
      ]
     },
     "execution_count": 8,
     "metadata": {},
     "output_type": "execute_result"
    }
   ],
   "source": [
    "let ajouter tbl c v =\n",
    "  let rec aux l =\n",
    "    match l with\n",
    "    | [] -> [{cle = c ; valeur = v}]\n",
    "    | t::q -> if t.cle = c\n",
    "              then {cle = c; valeur = v}::q\n",
    "              else t::(aux q)\n",
    "  in tbl.contenu <- aux tbl.contenu\n",
    ";;"
   ]
  },
  {
   "cell_type": "code",
   "execution_count": 9,
   "id": "17fb6fa6",
   "metadata": {},
   "outputs": [
    {
     "data": {
      "text/plain": [
       "val supprimer : ('a, 'b) table -> 'a -> unit = <fun>\n"
      ]
     },
     "execution_count": 9,
     "metadata": {},
     "output_type": "execute_result"
    }
   ],
   "source": [
    "let supprimer tbl c =\n",
    "  let rec aux l =\n",
    "    match l with\n",
    "    | [] -> []\n",
    "    | t::q -> if t.cle = c\n",
    "              then q\n",
    "              else t::(aux q)\n",
    "  in tbl.contenu <- aux tbl.contenu\n",
    ";;"
   ]
  },
  {
   "cell_type": "code",
   "execution_count": 10,
   "id": "a80c25a3",
   "metadata": {},
   "outputs": [
    {
     "data": {
      "text/plain": [
       "val trouver : ('a, 'b) table -> 'a -> 'b = <fun>\n"
      ]
     },
     "execution_count": 10,
     "metadata": {},
     "output_type": "execute_result"
    }
   ],
   "source": [
    "let trouver tbl c =\n",
    "  let rec aux l =\n",
    "    match l with\n",
    "    | [] -> failwith \"Non trouvé\"\n",
    "    | t::q -> if t.cle = c\n",
    "              then t.valeur\n",
    "              else aux q\n",
    "  in aux tbl.contenu\n",
    ";;"
   ]
  },
  {
   "cell_type": "markdown",
   "id": "f7672767",
   "metadata": {},
   "source": [
    "Les opérations d'ajout, de suppression et de lecture sont alors en complexité linéaire par rapport au nombre d'éléments présents dans la table.\n",
    "\n",
    "Pour améliorer la complexité de l'ajout, on peut ajouter l'élément en tête de liste, sans vérifier si la clé est déjà présente. La complexité de l'ajout devient alors un $O(1)$, mais la table peut alors contenir plusieurs fois la même clé, et en cas de suppression, ce sera la valeur la plus récente qui sera supprimée de la table."
   ]
  },
  {
   "cell_type": "markdown",
   "id": "69f02458",
   "metadata": {},
   "source": [
    "# Arbres binaires de recherche"
   ]
  },
  {
   "cell_type": "markdown",
   "id": "158355c2",
   "metadata": {},
   "source": [
    "Un *arbre binaire de recherche* est un arbre binaire dont les étiquettes appartiennent à un ensemble $X$ ordonné et tel que pour tout nœud $N$, l'étiquette de $N$ est supérieure ou égale à toutes les étiquettes présentes dans le fils gauche de $N$ et inférieure ou égale à toutes les étiquettes présentes dans le fils droit de $N$."
   ]
  },
  {
   "cell_type": "markdown",
   "id": "afef1ef1",
   "metadata": {},
   "source": [
    "Par exemple, l'arbre ci-dessous est un arbre binaire de recherche : \n",
    "\n",
    "<img src=\"data:image/png;base64,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\" width=\"400\"/>"
   ]
  },
  {
   "cell_type": "markdown",
   "id": "3187a18e",
   "metadata": {},
   "source": [
    "En étiquetant les nœuds par des couples $(c,v)$ et en considérant un ordre sur les clés, il est alors possible d'implémenter une structure immuable de dictionnaires, pour laquelle la complexité de la recherche sera linéaire par rapport à la hauteur de l'arbre.\n",
    "\n",
    "*Cette implémentation sera développée dans le TP n°5.*"
   ]
  },
  {
   "cell_type": "markdown",
   "id": "4834a301",
   "metadata": {},
   "source": [
    "# Tables de hachage"
   ]
  },
  {
   "cell_type": "markdown",
   "id": "58a9b57b",
   "metadata": {},
   "source": [
    "L'idéal serait de représenter la table d'association $T$ à l'aide d'un tableau de taille $n$ où $n$ est le nombre total de clés de l'ensemble $C$, en utilisant une fonction $h : C \\to ⟦ 0, n-1 ⟧$ qui à chaque clé associerait un indice du tableau. Ainsi, la lecture, l'ajout et la suppression se feraient en temps constant.\n",
    "\n",
    "Néanmoins, en pratique, l'ensemble $C$ est de taille trop importante, et les clés réellement utilisées ne représentent qu'une petite partie de l'ensemble $C$.\n",
    "\n",
    "Par conséquent, on utilise un tableau de taille $m$ avec $m \\ll n$ et une fonction ${h : C \\mapsto ⟦ 0, m-1 ⟧}$, appelée *fonction de hachage*, et qui doit respecter autant que possible les contraintes suivantes :\n",
    "\n",
    "- être facile à calculer (pour limiter la complexité) ;\n",
    "- avoir une distribution d'apparence uniforme.\n",
    "\n",
    "Ce dernier point a pour objectif de limiter le nombre de *collisions*, une collision étant une situation dans laquelle deux clés ont la même image par $h$. Dès lors que $m < n$, les collisions sont inévitables, mais il faudrait que la fonction $h$ assure une bonne répartition des clés dans le tableau.\n",
    "\n",
    "Les deux points à étudier sont :\n",
    "\n",
    "- le choix de la fonction de hachage ;\n",
    "- le comportement à adopter en cas de collision.\n",
    "\n",
    "\n",
    "Si toutes les clés sont connues à l'avance, il est possible de construire une fonction de hachage sans collision.\n",
    "\n",
    "Ce n'est pas forcément le cas, et on utilisera généralement une heuristique basée sur la nature des clés.\n",
    "\n",
    "\n",
    "Les fonctions de hachage présentées ci-dessous supposent que les clés sont des entiers. Dans le cas contraire, on utilisera préalablement une fonction de *codage*, c'est-à-dire une fonction injective de $C$ dans $\\mathbb{N}$.\n",
    "\n",
    "Par exemple, un caractère pourra être associé son code ASCII. Une chaîne $s_0\\dots s_{n-1}$ pourra être associée à l'entier $\\displaystyle \\sum_{k=0}^{n-1} a_k 256^k$ où $a_k$ est le code ASCII du caractère $s_k$.\n",
    "\n",
    "\n",
    "\n",
    "Un exemple simple de fonction de hachage est la fonction $h : c \\mapsto c \\, \\mathrm{mod}\\, m$. \n",
    "\n",
    "Certaines valeurs de $m$ sont à éviter :\n",
    "\n",
    "- Si $m=2^p$, alors $h(c)$ ne dépend que des $p$ bits de poids faibles de $c$, ce qui risque de conduire à une mauvaise répartition des clés. Par exemple, dans le cas des chaînes de caractères, si $m =256$, alors $h(c)$ ne dépend que du premier caractère de la chaîne.\n",
    "- Si $m=2^p-1$, alors une permutation des paquets de $p$ bits consécutifs de $c$ ne modifie pas la valeur de $h(c)$, ce qu'on préfère éviter.\n",
    "\n",
    "\n",
    "En général, on choisit pour $m$ un nombre premier.\n",
    "\n",
    "Les collisions restent néanmoins inévitables. Plutôt que de stocker au plus un couple $(c,v)$ dans chaque case du tableau, ce qui ne permet pas de stocker deux éléments dont les clés sont distinctes mais ont la même image par $h$, on peut stocker dans la case d'indice $i$ la liste des éléments dont les clés ont pour image $i$ par la fonction $h$.\n",
    "\n",
    "*Cette implémentation sera développée dans le TP n°5.*"
   ]
  },
  {
   "cell_type": "markdown",
   "id": "1803d40a",
   "metadata": {},
   "source": [
    "# Module `Hashtbl`"
   ]
  },
  {
   "cell_type": "markdown",
   "id": "8fc6f8ba",
   "metadata": {},
   "source": [
    "OCaml dispose d'un module `Hashtbl` permettant d'utiliser des tables de hachage et des fonctions de hachage :\n",
    "\n",
    "- `Hashtbl.create n` crée une nouvelle table de hachage dont la taille initiale est $n$.\n",
    "- `Hashtbl.add tbl c v` ajoute le couple $(c,v)$ à la table `tbl`. Si la clé $c$ s'y trouve déjà, alors l'ancienne valeur n'est pas supprimée mais juste cachée.\n",
    "- `Hashtbl.find tbl c` renvoie la valeur courante associée à la clé $c$ si elle existe, ou lève l'exception `Not_Found` ; `Hashtbl.find_all tbl c` renvoie la liste de toutes les valeurs associées à la clé $c$.\n",
    "- `Hashtbl.remove tbl c` supprime la valeur courante associée à la clé $c$ si elle existe, et ne fait rien sinon."
   ]
  }
 ],
 "metadata": {
  "kernelspec": {
   "display_name": "OCaml default",
   "language": "OCaml",
   "name": "ocaml-jupyter"
  },
  "language_info": {
   "codemirror_mode": "text/x-ocaml",
   "file_extension": ".ml",
   "mimetype": "text/x-ocaml",
   "name": "OCaml",
   "nbconverter_exporter": null,
   "pygments_lexer": "OCaml",
   "version": "4.08.1"
  }
 },
 "nbformat": 4,
 "nbformat_minor": 5
}
