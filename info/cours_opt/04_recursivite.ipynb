{
 "cells": [
  {
   "cell_type": "markdown",
   "id": "28931a22",
   "metadata": {
    "slideshow": {
     "slide_type": "slide"
    }
   },
   "source": [
    "\n",
    "# Introduction\n",
    "Nous avons déjà écrit de nombreuses fonctions *récursives*, c'est-à-dire des fonctions intervenant dans leur propre définition, comme par exemple la version suivante de la fonction factorielle :"
   ]
  },
  {
   "cell_type": "code",
   "execution_count": 1,
   "id": "aa184def",
   "metadata": {
    "slideshow": {
     "slide_type": "-"
    }
   },
   "outputs": [
    {
     "data": {
      "text/plain": [
       "val fact : int -> int = <fun>\n"
      ]
     },
     "execution_count": 1,
     "metadata": {},
     "output_type": "execute_result"
    }
   ],
   "source": [
    "let rec fact n =\n",
    "  if n = 0\n",
    "  then 1\n",
    "  else n * fact (n-1)\n",
    ";;"
   ]
  },
  {
   "cell_type": "markdown",
   "id": "bfa7d602",
   "metadata": {
    "slideshow": {
     "slide_type": "subslide"
    }
   },
   "source": [
    "Se pose alors la question de la *terminaison* : pour une valeur donnée de `n`, l'appel `fact n` termine-t-il ?\n",
    "\n",
    "Dans le cas de cette fonction, nous pouvons appliquer le même raisonnement que celui souvent utilisé pour la terminaison d'une boucle conditionnelle : pour un entier naturel non nul `n`, la suite des arguments des appels récursifs à la fonction `fact` est une suite strictement décroissante d'entiers naturels, donc ne peut pas être infinie ; par conséquent, `fact n` termine pour tout entier naturel `n`."
   ]
  },
  {
   "cell_type": "markdown",
   "id": "e24be7d2",
   "metadata": {
    "slideshow": {
     "slide_type": "subslide"
    }
   },
   "source": [
    "On voudrait aussi s'assurer que la fonction renvoie bien le résultat attendu : c'est le problème de la *correction*. Dans le cas de la fonction `fact`, on peut raisonner par récurrence : si $n$ vaut $0$, la fonction renvoie bien $n!$, et pour tout entier naturel $n$, si `fact` $n$ renvoie bien $n!$ alors `fact` $(n+1)$ renvoie $(n+1)!$.\n",
    "\n",
    "L'objectif des deux premières parties de ce chapitre est de généraliser ce raisonnement à des cas où l'on ne peut pas (ou en tout cas pas facilement) raisonner sur des entiers naturels. </br>"
   ]
  },
  {
   "cell_type": "markdown",
   "id": "f67a4785",
   "metadata": {
    "slideshow": {
     "slide_type": "subslide"
    }
   },
   "source": [
    "Il faut néanmoins garder en tête qu'il n'existe pas d'algorithme général permettant de déterminer à l'avance si l'appel à une fonction termine. Dans le cas contraire, on pourrait en effet disposer d'une fonction `termine : (int -> int) -> int -> bool` qui prendrait en argument une fonction `f : int -> int` et un entier `n` et qui renverrait `true` si l'appel `f n` termine, `false` sinon. En définissant la fonction :"
   ]
  },
  {
   "cell_type": "code",
   "execution_count": 2,
   "id": "34d575e2",
   "metadata": {
    "scrolled": true,
    "slideshow": {
     "slide_type": "-"
    }
   },
   "outputs": [
    {
     "ename": "error",
     "evalue": "compile_error",
     "output_type": "error",
     "traceback": [
      "File \"[2]\", line 2, characters 5-12:\n2 |   if termine absurde n\n         ^^^^^^^\nError: Unbound value termine\n"
     ]
    }
   ],
   "source": [
    "let rec absurde n =\n",
    "  if termine absurde n\n",
    "  then absurde n\n",
    "  else 0"
   ]
  },
  {
   "cell_type": "markdown",
   "id": "41c10b91",
   "metadata": {
    "slideshow": {
     "slide_type": "-"
    }
   },
   "source": [
    "on obtient alors une fonction qui termine si et seulement si elle ne termine pas."
   ]
  },
  {
   "cell_type": "markdown",
   "id": "ed18256f",
   "metadata": {
    "slideshow": {
     "slide_type": "slide"
    }
   },
   "source": [
    "# Ordres bien fondés\n",
    "## Rappels sur les relations d'ordre\n",
    "\n",
    "\\begin{definition}\n",
    "\n",
    "\\begin{itemize}\n",
    "\\item Une relation binaire $\\preccurlyeq$ sur un ensemble $E$ est appelée une relation d'ordre sur $E$ lorsqu'elle est :\n",
    "\\begin{itemize}\n",
    "\\item réflexive : $\\forall x \\in E, x \\preccurlyeq x$ ;\n",
    "\\item antisymétrique : $\\forall (x,y) \\in E^2, \\left(x \\preccurlyeq y\\text{ et } y \\preccurlyeq x\\right) \\Rightarrow x=y$\n",
    "\\item et transitive : $\\forall (x,y,z)\\in E^3, (x \\preccurlyeq y \\text{ et } y \\preccurlyeq z ) \\Rightarrow x \\mathcal{R} z$.\n",
    "\\end{itemize}\n",
    "\\item Une relation d'ordre $\\preccurlyeq$ est dite relation d'ordre total lorsque deux éléments sont toujours comparables : \\begin{equation*} \\forall (x,y) \\in E^2, x \\preccurlyeq y \\text{ ou } y \\preccurlyeq x \\end{equation*}\n",
    "On dit alors que $(E,\\preccurlyeq)$ est un ensemble totalement ordonné.\n",
    "\\item Dans le cas contraire, on dit que la relation d'ordre est partielle $\\preccurlyeq$ et que $(E,\\preccurlyeq)$ est un ensemble partiellement ordonné.\n",
    "\\end{itemize}\n",
    "\\end{definition} "
   ]
  },
  {
   "cell_type": "markdown",
   "id": "88d16f44",
   "metadata": {
    "slideshow": {
     "slide_type": "subslide"
    }
   },
   "source": [
    "\\begin{proposition}\n",
    "Soient $(E, \\preccurlyeq_E)$ et $(F, \\preccurlyeq_F)$ deux ensembles ordonnés. Alors l'*ordre lexicographique* défini sur $E \\times F$ par :\n",
    "\\begin{equation*} \\forall (a,b), (c,d) \\in E \\times F, (a,b) \\preccurlyeq (c,d) \\Leftrightarrow (a \\prec_E c \\text{ ou } (a = c \\text{ et } b \\preccurlyeq_F d) ) \\end{equation*}\n",
    "où $\\prec_E$ désigne la relation d'ordre strict associé à $\\preccurlyeq_E$, est une relation d'ordre sur $E \\times F$\n",
    "\\end{proposition}\n",
    "\\begin{example}\n",
    "Ordre lexicographique sur $\\mathbb{N}^2$.\n",
    "\\end{example}"
   ]
  },
  {
   "cell_type": "markdown",
   "id": "413c8289",
   "metadata": {
    "slideshow": {
     "slide_type": "subslide"
    }
   },
   "source": [
    "## Ordre bien fondé\n",
    "\n",
    "\\begin{definition}\n",
    "Soit $E$ un ensemble. Un ordre $\\preccurlyeq$ sur $E$ est dit *bien fondé* lorsqu'il n'existe pas de suite strictement décroissante d'éléments de $E$ pour cet ordre. On dit alors que $(E, \\preccurlyeq)$ est un ensemble *bien fondé*.\n",
    "\\end{definition}\n",
    "\\begin{remarque}\n",
    "Lorsque l'ordre est total, on dit alors que $E$ est *bien ordonné* (et que $\\preccurlyeq$ est un *bon ordre*).\n",
    "\\end{remarque}\n",
    "\\begin{remarque}\n",
    "$\\preccurlyeq$ est bien fondé si et seulement si toute suite décroissante pour $\\preccurlyeq$ est stationnaire.\n",
    "\\end{remarque}"
   ]
  },
  {
   "cell_type": "markdown",
   "id": "72099cab",
   "metadata": {
    "slideshow": {
     "slide_type": "-"
    }
   },
   "source": [
    "\\begin{proposition}\n",
    "Soit $(E,\\preccurlyeq)$ un ensemble bien fondé et $F \\subset E$ non vide. Alors $(F,\\preccurlyeq)$ est bien fondé.\n",
    "\\end{proposition}"
   ]
  },
  {
   "cell_type": "markdown",
   "id": "c77c1122",
   "metadata": {
    "slideshow": {
     "slide_type": "subslide"
    }
   },
   "source": [
    "\\begin{definition}\n",
    "Soit $(E,\\preccurlyeq)$ un ensemble ordonné et $A \\subset E$.  On dit que :\n",
    "\\begin{itemize}\n",
    "\\item $m \\in A$ est un *élément minimal* de $A$ lorsque $\\forall a \\in A, a \\preccurlyeq m \\Rightarrow a=m$.\n",
    "\\item $m \\in A$ est un *plus petit élément* de $A$ lorsque $\\forall a \\in A, m \\preccurlyeq a$.\n",
    "\\end{itemize}\n",
    "\\end{definition}\n",
    "\n",
    "\\begin{remarque}\n",
    "\n",
    "\\begin{itemize}\n",
    "\\item Si $m$ est un plus petit élément de $A$, alors $m$ est unique.\n",
    "\\item Dans le cas d'un ordre total, si $m$ est un élément minimal de $A$ alors $m$ est un plus petit élément de $A$.\n",
    "\\end{itemize}\n",
    "\\end{remarque}"
   ]
  },
  {
   "cell_type": "markdown",
   "id": "7ea6924f",
   "metadata": {
    "slideshow": {
     "slide_type": "subslide"
    }
   },
   "source": [
    "\\begin{proposition}\n",
    "Un ensemble ordonné $(E,\\preccurlyeq)$ est bien fondé si et seulement si toute partie non vide de $E$ admet un élément minimal.\n",
    "\\end{proposition}\n",
    "\\begin{demo}\n",
    "\n",
    "\\begin{itemize}\n",
    "\\item Soit $(E,\\preccurlyeq)$ un ensemble bien fondé. Soit $A  \\subset E$ non vide, montrons par l'absurde que $A$ admet un élément minimal. Si $A$ n'admet pas d'élément minimal, alors $\\forall m \\in A, \\exists a \\in A, a \\prec m$. Comme $A$ est non vide, il existe un élément $u_0 \\in A$ et on peut construire une suite strictement décroissante d'éléments de $A$ : absurde. Donc $A$ admet un élément minimal.\n",
    "\\item Soit $(E,\\preccurlyeq)$ un ensemble ordonné tel que toute partie non vide de $E$ admet un élément minimal. Supposons qu'il existe une suite $(u_n)_{n \\in \\mathbb{N}}$ strictement décroissante. Soit $A = \\{ u_n | n \\in \\mathbb{N}\\}$. Alors $A$ admet un élément minimal $m$ et il existe $n_0$ tel que $m=u_{n_0}$. Or $u_{n_0+1} \\in A$ et $u_{n_0+1} \\prec u_{n_0}$ : absurde. Donc $E$ est bien fondé.\n",
    "\\end{itemize}\n",
    "\\end{demo}"
   ]
  },
  {
   "cell_type": "markdown",
   "id": "01c9c32c",
   "metadata": {
    "slideshow": {
     "slide_type": "subslide"
    }
   },
   "source": [
    " \\begin{example}\n",
    " Considérons $\\mathbb{N}^2$ muni de l'ordre lexicographique :\n",
    " \n",
    " \\begin{equation*} (a,b) \\preccurlyeq (c,d) \\Leftrightarrow (a < c) \\text{ ou } (a=c \\text{ et } b \\leqslant d) \\end{equation*}\n",
    " \n",
    "  Soit $A \\subset \\mathbb{N}^2$ non vide.\n",
    "  \n",
    "  Posons $a_0 = \\min \\{ a \\in \\mathbb{N} | \\exists b \\in \\mathbb{N}, (a,b) \\in A\\}$ et $b_0 =\\min \\{ b  \\in \\mathbb{N}|  (a_0,b) \\in A\\} $. Alors pour tout $(a,b) \\in A$, $a_0 \\leqslant a$ et si $a=a_0$, alors $b_0 \\leqslant b$ donc $(a_0,b_0) \\preccurlyeq (a,b)$.\n",
    "  \n",
    "  Par conséquent, $(a,b) \\preccurlyeq (a_0,b_0) \\Rightarrow (a,b) = (a_0,b_0)$. \n",
    "  \n",
    "  Finalement, $(\\mathbb{N}^2,\\preccurlyeq)$ est bien fondé (et même bien ordonné).\n",
    " \\end{example}\n",
    " "
   ]
  },
  {
   "cell_type": "markdown",
   "id": "3ded36c6",
   "metadata": {
    "slideshow": {
     "slide_type": "subslide"
    }
   },
   "source": [
    "## Principe d'induction\n",
    "\\begin{definition}\n",
    "On appelle *prédicat* sur un ensemble $E$ une application de $E$ dans l'ensemble des booléens.\n",
    "\\end{definition}\n",
    "\\begin{theorem}[Principe d'induction]\n",
    "Soit $(E, \\preccurlyeq)$ un ensemble bien fondé, soit $\\mathcal{M}$ l'ensemble de ses éléments minimaux. Si un prédicat $\\mathcal{P}$ sur $E$ vérifie :\n",
    "\\begin{itemize}\n",
    "\\item $\\forall x \\in \\mathcal{M}$, $\\mathcal{P}(x)$\n",
    "\\item $\\forall x \\in E \\setminus \\mathcal{M}$, $(\\forall y \\prec x, \\mathcal{P}(y)) \\Rightarrow \\mathcal{P}(x)$\n",
    "\\end{itemize}\n",
    "Alors pour tout $x \\in E$, $\\mathcal{P}(x)$.\n",
    "\\end{theorem}\n",
    "\\begin{demo}\n",
    "Par l'absurde, supposons qu'il existe $x_0 \\in E$ tel que $\\mathcal{P}(x_0)$ soit faux. Alors $x_0$ n'appartient pas à $\\mathcal{M}$, et il existe $x_1 \\in E$ tel que $x_1 \\prec x_0$ et tel que $\\mathcal{P}(x_1)$ est faux. De même, $x_1$ ne peut pas appartenir à $\\mathcal{M}$. On peut donc construire une suite infinie strictement décroissante, ce qui est en contradiction avec le fait que $E$ est bien fondé.\n",
    "\\end{demo}\n",
    "\\begin{remarque}\n",
    "Pour $E = \\mathbb{N}$ muni de l'ordre usuel, on retrouve le principe de récurrence forte.\n",
    "\\end{remarque}"
   ]
  },
  {
   "cell_type": "markdown",
   "id": "d1d59e7c",
   "metadata": {
    "slideshow": {
     "slide_type": "slide"
    }
   },
   "source": [
    "# Terminaison\n",
    "On considère une fonction récursive $f$.\n",
    "\\begin{theorem}\n",
    "Soit $\\mathcal{A}$ l'ensemble des arguments de $f$. Soit $\\varphi$ une application de $\\mathcal{A}$ vers un ensemble bien fondé $E$. Soit $\\mathcal{M}_{\\mathcal{A}}$ l'ensemble des arguments $x$ tels que $\\varphi(x)$ est un élément minimal de $E$. Si :\n",
    "\\begin{itemize}\n",
    "\\item la fonction $f$ termine pour tout $x \\in \\mathcal{M}_{\\mathcal{A}}$ ;\n",
    "\\item pour tout $x \\in \\mathcal{A} \\setminus \\mathcal{M}_{\\mathcal{A}}$, le calcul de $f(x)$ ne nécessite qu'un nombre fini (éventuellement nul) d'appels à $f$, sur des arguments $y$ tels que $\\varphi(y) \\prec \\varphi(x)$, et la terminaison de ces appels entraîne celle de $f(x)$\n",
    "\\end{itemize}\n",
    "alors la fonction $f$ termine sur tout argument de $\\mathcal{A}$.\n",
    "\\end{theorem}\n",
    "\\begin{demo}\n",
    "On utilise le principe d'induction pour la propriété suivante sur $z \\in E$ : $\\mathcal{P}(z)$ \"les appels $f(x)$ avec $\\varphi(x) = z$ terminent.\"\n",
    "\\end{demo}"
   ]
  },
  {
   "cell_type": "markdown",
   "id": "36c7f601",
   "metadata": {
    "slideshow": {
     "slide_type": "subslide"
    }
   },
   "source": [
    "\\begin{definition}\n",
    "Les éléments $x$ de $\\mathcal{A}$ pour lesquels le calcul de $f(x)$ ne nécessite aucun appel à $f$ sont appelés *cas de base* ou *cas terminaux*.\n",
    "\\end{definition}\n",
    "\\begin{remarque}\n",
    "L'ensemble $\\mathcal{A}$ sera souvent lui-même un ensemble bien fondé, et la fonction $\\varphi$ utilisée sera alors la fonction identité.\n",
    "\n",
    "Dans d'autres cas, l'application $\\varphi$ est souvent une application à valeurs dans $\\mathbb{N}$ ; par exemple, à une liste, on peut associer sa longueur.\n",
    "\\end{remarque}"
   ]
  },
  {
   "cell_type": "markdown",
   "id": "af8c38e7",
   "metadata": {
    "slideshow": {
     "slide_type": "subslide"
    }
   },
   "source": [
    "\\begin{example}\n",
    "Considérons la fonction :\n",
    "\\end{example}"
   ]
  },
  {
   "cell_type": "code",
   "execution_count": 3,
   "id": "46c51b8e",
   "metadata": {
    "slideshow": {
     "slide_type": "-"
    }
   },
   "outputs": [
    {
     "data": {
      "text/plain": [
       "val length : 'a list -> int = <fun>\n"
      ]
     },
     "execution_count": 3,
     "metadata": {},
     "output_type": "execute_result"
    }
   ],
   "source": [
    "let rec length l = \n",
    "  match l with \n",
    "  | [] -> 0\n",
    "  | t::q -> 1 + length q\n",
    ";;"
   ]
  },
  {
   "cell_type": "markdown",
   "id": "2c4fdc5c",
   "metadata": {
    "slideshow": {
     "slide_type": "-"
    }
   },
   "source": [
    "A une liste, on peut associer sa longueur :\n",
    "- La fonction `length` termine pour la liste de longueur $0$ ;\n",
    "- Pour une liste de longueur au moins $1$, un seul appel récursif est réalisé, et il porte sur une liste de longueur strictement inférieure.\n",
    "\n",
    "Par conséquent, la fonction termine."
   ]
  },
  {
   "cell_type": "markdown",
   "id": "b7dfe5de",
   "metadata": {
    "slideshow": {
     "slide_type": "subslide"
    }
   },
   "source": [
    "\\begin{example}\n",
    "La fonction d'Ackermann suivante termine :\n",
    "\\end{example}"
   ]
  },
  {
   "cell_type": "code",
   "execution_count": 4,
   "id": "98c13f0b",
   "metadata": {
    "slideshow": {
     "slide_type": "-"
    }
   },
   "outputs": [
    {
     "data": {
      "text/plain": [
       "val ack : int -> int -> int = <fun>\n"
      ]
     },
     "execution_count": 4,
     "metadata": {},
     "output_type": "execute_result"
    }
   ],
   "source": [
    "let rec ack n p =\n",
    "  match (n, p) with\n",
    "  | 0, _ -> p+1\n",
    "  | _, 0 -> ack (n-1) 1\n",
    "  | _, _ -> ack (n-1) (ack n (p-1))\n",
    ";; "
   ]
  },
  {
   "cell_type": "markdown",
   "id": "3da877e3",
   "metadata": {
    "slideshow": {
     "slide_type": "-"
    }
   },
   "source": [
    "En effet, on considère ici $\\mathbb{N}^2$ muni de l'ordre lexicographique.\n",
    "- Les cas de bases sont les couples dont la première coordonnée est nulle.\n",
    "- Pour $(n, 0)$ avec $n \\neq 0$, le seul appel récursif porte sur un couple strictement plus petit.\n",
    "- Pour $(n,p)$ avec $n$ et $p$ tous les deux non nuls, il y a deux appels récursifs, dont les arguments sont $(n, p-1)$ et $(n-1, $ <code>ack</code> $(n, p-1))$ qui sont bien strictement plus petits que $(n,p)$.\n"
   ]
  },
  {
   "cell_type": "markdown",
   "id": "2257a55a",
   "metadata": {
    "slideshow": {
     "slide_type": "subslide"
    }
   },
   "source": [
    "### Exercice\n",
    "Considérons les deux fonctions suivantes de calcul de $\\binom{n}{p}$, rencontrées dans le chapitre 1 :"
   ]
  },
  {
   "cell_type": "code",
   "execution_count": 5,
   "id": "f7f5192d",
   "metadata": {
    "slideshow": {
     "slide_type": "-"
    }
   },
   "outputs": [
    {
     "data": {
      "text/plain": [
       "val binome1 : int -> int -> int = <fun>\n"
      ]
     },
     "execution_count": 5,
     "metadata": {},
     "output_type": "execute_result"
    }
   ],
   "source": [
    "let rec binome1 n p =\n",
    "  match n, p with\n",
    "    | n, p when p < 0 || p > n -> 0\n",
    "    | 0, 0 -> 1\n",
    "    | 0, _ -> 0\n",
    "    | _ -> binome1 (n-1) (p-1) + binome1 (n-1) p\n",
    "    ;;"
   ]
  },
  {
   "cell_type": "code",
   "execution_count": 6,
   "id": "4e66d74b",
   "metadata": {
    "slideshow": {
     "slide_type": "-"
    }
   },
   "outputs": [
    {
     "data": {
      "text/plain": [
       "val binome2 : int -> int -> int = <fun>\n"
      ]
     },
     "execution_count": 6,
     "metadata": {},
     "output_type": "execute_result"
    }
   ],
   "source": [
    "let rec binome2 n p =\n",
    "  match n, p with\n",
    "    | n, p when p < 0 || p > n -> 0\n",
    "    | _, 0 -> 1\n",
    "    | 0, _ -> 0\n",
    "    | _ -> n* binome2 (n-1) (p-1)/p\n",
    "    ;;"
   ]
  },
  {
   "cell_type": "markdown",
   "id": "4ff51d1c",
   "metadata": {
    "slideshow": {
     "slide_type": "-"
    }
   },
   "source": [
    "Montrer que ces fonctions terminent."
   ]
  },
  {
   "cell_type": "markdown",
   "id": "d1e1a6cf",
   "metadata": {
    "slideshow": {
     "slide_type": "subslide"
    }
   },
   "source": [
    "\\begin{remarque}\n",
    "Il n'est pas forcément facile de trouver un ensemble bien fondé et une application $\\varphi$ associée pour une fonction récursive donnée. Par exemple, la terminaison de la fonction suivante est un problème ouvert :\\end{remarque}"
   ]
  },
  {
   "cell_type": "code",
   "execution_count": 7,
   "id": "1e3bc593",
   "metadata": {
    "slideshow": {
     "slide_type": "-"
    }
   },
   "outputs": [
    {
     "data": {
      "text/plain": [
       "val syracuse : int -> int = <fun>\n"
      ]
     },
     "execution_count": 7,
     "metadata": {},
     "output_type": "execute_result"
    }
   ],
   "source": [
    "let rec syracuse n =\n",
    "  match n with \n",
    "  | 1 -> 1\n",
    "  | _ -> if n mod 2 = 0\n",
    "         then syracuse (n/2)\n",
    "         else syracuse (3*n+1)\n",
    ";;"
   ]
  },
  {
   "cell_type": "markdown",
   "id": "8eb82b5c",
   "metadata": {
    "slideshow": {
     "slide_type": "slide"
    }
   },
   "source": [
    "# Correction\n",
    "Pour démontrer qu'une fonction récursive calcule ce qu'elle doit calculer, on peut raisonner comme pour la terminaison, en adaptant le prédicat à démontrer. \n",
    "\\begin{theorem}\n",
    "Soit $\\mathcal{A}$ l'ensemble des arguments de $f$. Soit $\\varphi$ une application de $\\mathcal{A}$ vers un ensemble bien fondé $E$. Soit $\\mathcal{M}_{\\mathcal{A}}$ l'ensemble des arguments $x$ tels que $\\varphi(x)$ est un élément minimal de $E$. Pour $z \\in E$, on considère le prédicat $\\mathcal{P}(z)$ : \\enquote{Pour $x$ tel que $\\varphi(x) = z$, $f(x)$ a la bonne valeur.}. Si :\n",
    "\\begin{itemize}\n",
    "\\item pour tout $x \\in \\mathcal{M}_{\\mathcal{A}}$, $\\mathcal{P}(\\varphi(x))$ ;\n",
    "\\item pour tout $x \\in \\mathcal{A} \\setminus \\mathcal{M}_{\\mathcal{A}}$, le calcul de $f(x)$ ne nécessite qu'un nombre fini (éventuellement nul) d'appels à $f$, sur des arguments $y_1$,..., $y_N$ tels que pour tout $k \\in ⟦ 1, N ⟧$, $\\varphi(y_k) \\prec \\varphi(x)$, et que $\\left( \\forall k \\in ⟦ 1, N ⟧, \\mathcal{P}(\\varphi(y_k)) \\right) \\Rightarrow \\mathcal{P}(\\varphi(x))$\n",
    "\\end{itemize}\n",
    "alors pour tout $x \\in \\mathcal{A}$, $\\mathcal{P}(\\varphi(x)$, donc la valeur de $f(x)$ est correcte.\n",
    "\\end{theorem}\n",
    "\\begin{demo}\n",
    "C'est le principe d'induction.\n",
    "\\end{demo}"
   ]
  },
  {
   "cell_type": "markdown",
   "id": "a5e8e231",
   "metadata": {
    "slideshow": {
     "slide_type": "slide"
    }
   },
   "source": [
    "# Pratique de la récursivité\n",
    "## La pile d'appels\n",
    "La pile d'exécution (ou pile d'appels) est une structure de données qui sert à enregistrer des informations au sujet des fonctions actives dans un programme, c'est-à-dire des fonctions dont l'exécution n'est pas encore terminée.\n",
    "\n",
    "Cette pile d'appels permet de connaître l'adresse de retour d'une fonction, ainsi que d'autres valeurs telles que les variables locales de la fonction, ses paramètres, etc."
   ]
  },
  {
   "cell_type": "markdown",
   "id": "d5d06106",
   "metadata": {
    "slideshow": {
     "slide_type": "subslide"
    }
   },
   "source": [
    "En particulier, lors qu'une fonction $f$ appelle une fonction $g$, ce qui est relatif à l'appel de la fonction $g$ sera placé juste au-dessus de ce qui est relatif à la fonction $f$ dans la pile d'appels. Lorsque l'appel à $g$ termine, ce qui est relatif à $g$ est *dépilé* ; comme l'adresse de retour est contenu dans la pile d'appels, l'exécution de $f$ peut reprendre."
   ]
  },
  {
   "cell_type": "markdown",
   "id": "ab3dedbc",
   "metadata": {
    "slideshow": {
     "slide_type": "-"
    }
   },
   "source": [
    "Une fonction récursive étant une fonction qui s'appelle elle-même, ses appels s'empilent dans la pile d'appels ; une fois arrivé à un cas terminal, le nombre d'éléments de la pile se réduit. Enfin, la récursion s'arrête lorsque la pile est vide, c'est-à-dire lorsqu'on dépile l'élément correspondant au premier appel de la fonction."
   ]
  },
  {
   "cell_type": "markdown",
   "id": "9e11a3ca",
   "metadata": {
    "slideshow": {
     "slide_type": "subslide"
    }
   },
   "source": [
    "En OCaml, on peut vérifier ce comportement en *traçant* les appels de la fonction :"
   ]
  },
  {
   "cell_type": "code",
   "execution_count": 8,
   "id": "d9a98d4b",
   "metadata": {
    "slideshow": {
     "slide_type": "-"
    }
   },
   "outputs": [
    {
     "name": "stdout",
     "output_type": "stream",
     "text": [
      "fact is now traced.\n"
     ]
    }
   ],
   "source": [
    "#trace fact;;"
   ]
  },
  {
   "cell_type": "code",
   "execution_count": 9,
   "id": "813360c0",
   "metadata": {
    "slideshow": {
     "slide_type": "-"
    }
   },
   "outputs": [
    {
     "name": "stdout",
     "output_type": "stream",
     "text": [
      "fact <-- 5\n",
      "fact <-- 4\n",
      "fact <-- 3\n",
      "fact <-- 2\n",
      "fact <-- 1\n",
      "fact <-- 0\n",
      "fact --> 1\n",
      "fact --> 1\n",
      "fact --> 2\n",
      "fact --> 6\n",
      "fact --> 24\n",
      "fact --> 120\n"
     ]
    },
    {
     "data": {
      "text/plain": [
       "- : int = 120\n"
      ]
     },
     "execution_count": 9,
     "metadata": {},
     "output_type": "execute_result"
    }
   ],
   "source": [
    "fact 5;;"
   ]
  },
  {
   "cell_type": "markdown",
   "id": "a513d989",
   "metadata": {
    "slideshow": {
     "slide_type": "subslide"
    }
   },
   "source": [
    "**Remarque** On peut cesser de tracer la fonction `fact` de la manière suivante :"
   ]
  },
  {
   "cell_type": "code",
   "execution_count": 10,
   "id": "6cbceb8f",
   "metadata": {
    "slideshow": {
     "slide_type": "-"
    }
   },
   "outputs": [],
   "source": [
    "#untrace fact;;"
   ]
  },
  {
   "cell_type": "markdown",
   "id": "60192347",
   "metadata": {
    "slideshow": {
     "slide_type": "subslide"
    }
   },
   "source": [
    "Le nombre d'appels imbriqués par une fonction récursive peut être important. La pile d'appels a une capacité limitée ; si la pile est pleine, un appel supplémentaire produit un dépassement de capacité :"
   ]
  },
  {
   "cell_type": "code",
   "execution_count": 11,
   "id": "a32d35b1",
   "metadata": {
    "slideshow": {
     "slide_type": "-"
    }
   },
   "outputs": [
    {
     "name": "stdout",
     "output_type": "stream",
     "text": [
      "fact is no longer traced.\n"
     ]
    },
    {
     "data": {
      "text/plain": [
       "val somme : int -> int = <fun>\n"
      ]
     },
     "execution_count": 11,
     "metadata": {},
     "output_type": "execute_result"
    }
   ],
   "source": [
    "let rec somme n =\n",
    "  if n = 0\n",
    "  then 0\n",
    "  else n + somme (n-1);;"
   ]
  },
  {
   "cell_type": "code",
   "execution_count": 12,
   "id": "1e892d9a",
   "metadata": {
    "slideshow": {
     "slide_type": "-"
    }
   },
   "outputs": [
    {
     "ename": "error",
     "evalue": "runtime_error",
     "output_type": "error",
     "traceback": [
      "\u001b[31mStack overflow during evaluation (looping recursion?).\nRaised by primitive operation at file \"[11]\", line 4, characters 11-22\nCalled from file \"[11]\", line 4, characters 11-22\nCalled from file \"[11]\", line 4, characters 11-22\nCalled from file \"[11]\", line 4, characters 11-22\nCalled from file \"[11]\", line 4, characters 11-22\nCalled from file \"[11]\", line 4, characters 11-22\nCalled from file \"[11]\", line 4, characters 11-22\nCalled from file \"[11]\", line 4, characters 11-22\nCalled from file \"[11]\", line 4, characters 11-22\nCalled from file \"[11]\", line 4, characters 11-22\nCalled from file \"[11]\", line 4, characters 11-22\nCalled from file \"[11]\", line 4, characters 11-22\nCalled from file \"[11]\", line 4, characters 11-22\nCalled from file \"[11]\", line 4, characters 11-22\nCalled from file \"[11]\", line 4, characters 11-22\nCalled from file \"[11]\", line 4, characters 11-22\nCalled from file \"[11]\", line 4, characters 11-22\nCalled from file \"[11]\", line 4, characters 11-22\nCalled from file \"[11]\", line 4, characters 11-22\nCalled from file \"[11]\", line 4, characters 11-22\nCalled from file \"[11]\", line 4, characters 11-22\nCalled from file \"[11]\", line 4, characters 11-22\nCalled from file \"[11]\", line 4, characters 11-22\nCalled from file \"[11]\", line 4, characters 11-22\nCalled from file \"[11]\", line 4, characters 11-22\nCalled from file \"[11]\", line 4, characters 11-22\nCalled from file \"[11]\", line 4, characters 11-22\nCalled from file \"[11]\", line 4, characters 11-22\nCalled from file \"[11]\", line 4, characters 11-22\nCalled from file \"[11]\", line 4, characters 11-22\nCalled from file \"[11]\", line 4, characters 11-22\nCalled from file \"[11]\", line 4, characters 11-22\nCalled from file \"[11]\", line 4, characters 11-22\nCalled from file \"[11]\", line 4, characters 11-22\nCalled from file \"[11]\", line 4, characters 11-22\nCalled from file \"[11]\", line 4, characters 11-22\nCalled from file \"[11]\", line 4, characters 11-22\nCalled from file \"[11]\", line 4, characters 11-22\nCalled from file \"[11]\", line 4, characters 11-22\nCalled from file \"[11]\", line 4, characters 11-22\nCalled from file \"[11]\", line 4, characters 11-22\nCalled from file \"[11]\", line 4, characters 11-22\nCalled from file \"[11]\", line 4, characters 11-22\nCalled from file \"[11]\", line 4, characters 11-22\nCalled from file \"[11]\", line 4, characters 11-22\nCalled from file \"[11]\", line 4, characters 11-22\nCalled from file \"[11]\", line 4, characters 11-22\nCalled from file \"[11]\", line 4, characters 11-22\nCalled from file \"[11]\", line 4, characters 11-22\nCalled from file \"[11]\", line 4, characters 11-22\nCalled from file \"[11]\", line 4, characters 11-22\nCalled from file \"[11]\", line 4, characters 11-22\nCalled from file \"[11]\", line 4, characters 11-22\nCalled from file \"[11]\", line 4, characters 11-22\nCalled from file \"[11]\", line 4, characters 11-22\nCalled from file \"[11]\", line 4, characters 11-22\nCalled from file \"[11]\", line 4, characters 11-22\nCalled from file \"[11]\", line 4, characters 11-22\nCalled from file \"[11]\", line 4, characters 11-22\nCalled from file \"[11]\", line 4, characters 11-22\nCalled from file \"[11]\", line 4, characters 11-22\nCalled from file \"[11]\", line 4, characters 11-22\nCalled from file \"[11]\", line 4, characters 11-22\nCalled from file \"[11]\", line 4, characters 11-22\nCalled from file \"[11]\", line 4, characters 11-22\nCalled from file \"[11]\", line 4, characters 11-22\nCalled from file \"[11]\", line 4, characters 11-22\nCalled from file \"[11]\", line 4, characters 11-22\nCalled from file \"[11]\", line 4, characters 11-22\nCalled from file \"[11]\", line 4, characters 11-22\nCalled from file \"[11]\", line 4, characters 11-22\nCalled from file \"[11]\", line 4, characters 11-22\nCalled from file \"[11]\", line 4, characters 11-22\nCalled from file \"[11]\", line 4, characters 11-22\nCalled from file \"[11]\", line 4, characters 11-22\nCalled from file \"[11]\", line 4, characters 11-22\nCalled from file \"[11]\", line 4, characters 11-22\nCalled from file \"[11]\", line 4, characters 11-22\nCalled from file \"[11]\", line 4, characters 11-22\nCalled from file \"[11]\", line 4, characters 11-22\nCalled from file \"[11]\", line 4, characters 11-22\nCalled from file \"[11]\", line 4, characters 11-22\nCalled from file \"[11]\", line 4, characters 11-22\nCalled from file \"[11]\", line 4, characters 11-22\nCalled from file \"[11]\", line 4, characters 11-22\nCalled from file \"[11]\", line 4, characters 11-22\nCalled from file \"[11]\", line 4, characters 11-22\nCalled from file \"[11]\", line 4, characters 11-22\nCalled from file \"[11]\", line 4, characters 11-22\nCalled from file \"[11]\", line 4, characters 11-22\nCalled from file \"[11]\", line 4, characters 11-22\nCalled from file \"[11]\", line 4, characters 11-22\nCalled from file \"[11]\", line 4, characters 11-22\nCalled from file \"[11]\", line 4, characters 11-22\nCalled from file \"[11]\", line 4, characters 11-22\nCalled from file \"[11]\", line 4, characters 11-22\nCalled from file \"[11]\", line 4, characters 11-22\nCalled from file \"[11]\", line 4, characters 11-22\nCalled from file \"[11]\", line 4, characters 11-22\nCalled from file \"[11]\", line 4, characters 11-22\nCalled from file \"[11]\", line 4, characters 11-22\nCalled from file \"[11]\", line 4, characters 11-22\nCalled from file \"[11]\", line 4, characters 11-22\nCalled from file \"[11]\", line 4, characters 11-22\nCalled from file \"[11]\", line 4, characters 11-22\nCalled from file \"[11]\", line 4, characters 11-22\nCalled from file \"[11]\", line 4, characters 11-22\nCalled from file \"[11]\", line 4, characters 11-22\nCalled from file \"[11]\", line 4, characters 11-22\nCalled from file \"[11]\", line 4, characters 11-22\nCalled from file \"[11]\", line 4, characters 11-22\nCalled from file \"[11]\", line 4, characters 11-22\nCalled from file \"[11]\", line 4, characters 11-22\nCalled from file \"[11]\", line 4, characters 11-22\nCalled from file \"[11]\", line 4, characters 11-22\nCalled from file \"[11]\", line 4, characters 11-22\nCalled from file \"[11]\", line 4, characters 11-22\nCalled from file \"[11]\", line 4, characters 11-22\nCalled from file \"[11]\", line 4, characters 11-22\nCalled from file \"[11]\", line 4, characters 11-22\nCalled from file \"[11]\", line 4, characters 11-22\nCalled from file \"[11]\", line 4, characters 11-22\nCalled from file \"[11]\", line 4, characters 11-22\nCalled from file \"[11]\", line 4, characters 11-22\nCalled from file \"[11]\", line 4, characters 11-22\nCalled from file \"[11]\", line 4, characters 11-22\nCalled from file \"[11]\", line 4, characters 11-22\nCalled from file \"[11]\", line 4, characters 11-22\nCalled from file \"[11]\", line 4, characters 11-22\nCalled from file \"[11]\", line 4, characters 11-22\nCalled from file \"[11]\", line 4, characters 11-22\nCalled from file \"[11]\", line 4, characters 11-22\nCalled from file \"[11]\", line 4, characters 11-22\nCalled from file \"[11]\", line 4, characters 11-22\nCalled from file \"[11]\", line 4, characters 11-22\nCalled from file \"[11]\", line 4, characters 11-22\nCalled from file \"[11]\", line 4, characters 11-22\nCalled from file \"[11]\", line 4, characters 11-22\nCalled from file \"[11]\", line 4, characters 11-22\nCalled from file \"[11]\", line 4, characters 11-22\nCalled from file \"[11]\", line 4, characters 11-22\nCalled from file \"[11]\", line 4, characters 11-22\nCalled from file \"[11]\", line 4, characters 11-22\nCalled from file \"[11]\", line 4, characters 11-22\nCalled from file \"[11]\", line 4, characters 11-22\nCalled from file \"[11]\", line 4, characters 11-22\nCalled from file \"[11]\", line 4, characters 11-22\nCalled from file \"[11]\", line 4, characters 11-22\nCalled from file \"[11]\", line 4, characters 11-22\nCalled from file \"[11]\", line 4, characters 11-22\nCalled from file \"[11]\", line 4, characters 11-22\nCalled from file \"[11]\", line 4, characters 11-22\nCalled from file \"[11]\", line 4, characters 11-22\nCalled from file \"[11]\", line 4, characters 11-22\nCalled from file \"[11]\", line 4, characters 11-22\nCalled from file \"[11]\", line 4, characters 11-22\nCalled from file \"[11]\", line 4, characters 11-22\nCalled from file \"[11]\", line 4, characters 11-22\nCalled from file \"[11]\", line 4, characters 11-22\nCalled from file \"[11]\", line 4, characters 11-22\nCalled from file \"[11]\", line 4, characters 11-22\nCalled from file \"[11]\", line 4, characters 11-22\nCalled from file \"[11]\", line 4, characters 11-22\nCalled from file \"[11]\", line 4, characters 11-22\nCalled from file \"[11]\", line 4, characters 11-22\nCalled from file \"[11]\", line 4, characters 11-22\nCalled from file \"[11]\", line 4, characters 11-22\nCalled from file \"[11]\", line 4, characters 11-22\nCalled from file \"[11]\", line 4, characters 11-22\nCalled from file \"[11]\", line 4, characters 11-22\nCalled from file \"[11]\", line 4, characters 11-22\nCalled from file \"[11]\", line 4, characters 11-22\nCalled from file \"[11]\", line 4, characters 11-22\nCalled from file \"[11]\", line 4, characters 11-22\nCalled from file \"[11]\", line 4, characters 11-22\nCalled from file \"[11]\", line 4, characters 11-22\nCalled from file \"[11]\", line 4, characters 11-22\nCalled from file \"[11]\", line 4, characters 11-22\nCalled from file \"[11]\", line 4, characters 11-22\nCalled from file \"[11]\", line 4, characters 11-22\nCalled from file \"[11]\", line 4, characters 11-22\nCalled from file \"[11]\", line 4, characters 11-22\nCalled from file \"[11]\", line 4, characters 11-22\nCalled from file \"[11]\", line 4, characters 11-22\nCalled from file \"[11]\", line 4, characters 11-22\nCalled from file \"[11]\", line 4, characters 11-22\nCalled from file \"[11]\", line 4, characters 11-22\nCalled from file \"[11]\", line 4, characters 11-22\nCalled from file \"[11]\", line 4, characters 11-22\nCalled from file \"[11]\", line 4, characters 11-22\nCalled from file \"[11]\", line 4, characters 11-22\nCalled from file \"[11]\", line 4, characters 11-22\nCalled from file \"[11]\", line 4, characters 11-22\nCalled from file \"[11]\", line 4, characters 11-22\nCalled from file \"[11]\", line 4, characters 11-22\nCalled from file \"[11]\", line 4, characters 11-22\nCalled from file \"[11]\", line 4, characters 11-22\nCalled from file \"[11]\", line 4, characters 11-22\nCalled from file \"[11]\", line 4, characters 11-22\nCalled from file \"[11]\", line 4, characters 11-22\nCalled from file \"[11]\", line 4, characters 11-22\nCalled from file \"[11]\", line 4, characters 11-22\nCalled from file \"[11]\", line 4, characters 11-22\nCalled from file \"[11]\", line 4, characters 11-22\nCalled from file \"[11]\", line 4, characters 11-22\nCalled from file \"[11]\", line 4, characters 11-22\nCalled from file \"[11]\", line 4, characters 11-22\nCalled from file \"[11]\", line 4, characters 11-22\nCalled from file \"[11]\", line 4, characters 11-22\nCalled from file \"[11]\", line 4, characters 11-22\nCalled from file \"[11]\", line 4, characters 11-22\nCalled from file \"[11]\", line 4, characters 11-22\nCalled from file \"[11]\", line 4, characters 11-22\nCalled from file \"[11]\", line 4, characters 11-22\nCalled from file \"[11]\", line 4, characters 11-22\nCalled from file \"[11]\", line 4, characters 11-22\nCalled from file \"[11]\", line 4, characters 11-22\nCalled from file \"[11]\", line 4, characters 11-22\nCalled from file \"[11]\", line 4, characters 11-22\nCalled from file \"[11]\", line 4, characters 11-22\nCalled from file \"[11]\", line 4, characters 11-22\nCalled from file \"[11]\", line 4, characters 11-22\nCalled from file \"[11]\", line 4, characters 11-22\nCalled from file \"[11]\", line 4, characters 11-22\nCalled from file \"[11]\", line 4, characters 11-22\nCalled from file \"[11]\", line 4, characters 11-22\nCalled from file \"[11]\", line 4, characters 11-22\nCalled from file \"[11]\", line 4, characters 11-22\nCalled from file \"[11]\", line 4, characters 11-22\nCalled from file \"[11]\", line 4, characters 11-22\nCalled from file \"[11]\", line 4, characters 11-22\nCalled from file \"[11]\", line 4, characters 11-22\nCalled from file \"[11]\", line 4, characters 11-22\nCalled from file \"[11]\", line 4, characters 11-22\nCalled from file \"[11]\", line 4, characters 11-22\nCalled from file \"[11]\", line 4, characters 11-22\nCalled from file \"[11]\", line 4, characters 11-22\nCalled from file \"[11]\", line 4, characters 11-22\nCalled from file \"[11]\", line 4, characters 11-22\nCalled from file \"[11]\", line 4, characters 11-22\nCalled from file \"[11]\", line 4, characters 11-22\nCalled from file \"[11]\", line 4, characters 11-22\nCalled from file \"[11]\", line 4, characters 11-22\nCalled from file \"[11]\", line 4, characters 11-22\nCalled from file \"[11]\", line 4, characters 11-22\nCalled from file \"[11]\", line 4, characters 11-22\nCalled from file \"[11]\", line 4, characters 11-22\nCalled from file \"[11]\", line 4, characters 11-22\nCalled from file \"[11]\", line 4, characters 11-22\nCalled from file \"[11]\", line 4, characters 11-22\nCalled from file \"[11]\", line 4, characters 11-22\nCalled from file \"[11]\", line 4, characters 11-22\nCalled from file \"[11]\", line 4, characters 11-22\nCalled from file \"[11]\", line 4, characters 11-22\nCalled from file \"[11]\", line 4, characters 11-22\nCalled from file \"[11]\", line 4, characters 11-22\nCalled from file \"[11]\", line 4, characters 11-22\nCalled from file \"[11]\", line 4, characters 11-22\nCalled from file \"[11]\", line 4, characters 11-22\nCalled from file \"[11]\", line 4, characters 11-22\nCalled from file \"[11]\", line 4, characters 11-22\nCalled from file \"[11]\", line 4, characters 11-22\nCalled from file \"[11]\", line 4, characters 11-22\nCalled from file \"[11]\", line 4, characters 11-22\nCalled from file \"[11]\", line 4, characters 11-22\nCalled from file \"[11]\", line 4, characters 11-22\nCalled from file \"[11]\", line 4, characters 11-22\nCalled from file \"[11]\", line 4, characters 11-22\nCalled from file \"[11]\", line 4, characters 11-22\nCalled from file \"[11]\", line 4, characters 11-22\nCalled from file \"[11]\", line 4, characters 11-22\nCalled from file \"[11]\", line 4, characters 11-22\nCalled from file \"[11]\", line 4, characters 11-22\nCalled from file \"[11]\", line 4, characters 11-22\nCalled from file \"[11]\", line 4, characters 11-22\nCalled from file \"[11]\", line 4, characters 11-22\nCalled from file \"[11]\", line 4, characters 11-22\nCalled from file \"[11]\", line 4, characters 11-22\nCalled from file \"[11]\", line 4, characters 11-22\nCalled from file \"[11]\", line 4, characters 11-22\nCalled from file \"[11]\", line 4, characters 11-22\nCalled from file \"[11]\", line 4, characters 11-22\nCalled from file \"[11]\", line 4, characters 11-22\nCalled from file \"[11]\", line 4, characters 11-22\nCalled from file \"[11]\", line 4, characters 11-22\nCalled from file \"[11]\", line 4, characters 11-22\nCalled from file \"[11]\", line 4, characters 11-22\nCalled from file \"[11]\", line 4, characters 11-22\nCalled from file \"[11]\", line 4, characters 11-22\nCalled from file \"[11]\", line 4, characters 11-22\nCalled from file \"[11]\", line 4, characters 11-22\nCalled from file \"[11]\", line 4, characters 11-22\nCalled from file \"[11]\", line 4, characters 11-22\nCalled from file \"[11]\", line 4, characters 11-22\nCalled from file \"[11]\", line 4, characters 11-22\nCalled from file \"[11]\", line 4, characters 11-22\nCalled from file \"[11]\", line 4, characters 11-22\nCalled from file \"[11]\", line 4, characters 11-22\nCalled from file \"[11]\", line 4, characters 11-22\nCalled from file \"[11]\", line 4, characters 11-22\nCalled from file \"[11]\", line 4, characters 11-22\nCalled from file \"[11]\", line 4, characters 11-22\nCalled from file \"[11]\", line 4, characters 11-22\nCalled from file \"[11]\", line 4, characters 11-22\nCalled from file \"[11]\", line 4, characters 11-22\nCalled from file \"[11]\", line 4, characters 11-22\nCalled from file \"[11]\", line 4, characters 11-22\nCalled from file \"[11]\", line 4, characters 11-22\nCalled from file \"[11]\", line 4, characters 11-22\nCalled from file \"[11]\", line 4, characters 11-22\nCalled from file \"[11]\", line 4, characters 11-22\nCalled from file \"[11]\", line 4, characters 11-22\nCalled from file \"[11]\", line 4, characters 11-22\nCalled from file \"[11]\", line 4, characters 11-22\nCalled from file \"[11]\", line 4, characters 11-22\nCalled from file \"[11]\", line 4, characters 11-22\nCalled from file \"[11]\", line 4, characters 11-22\nCalled from file \"[11]\", line 4, characters 11-22\nCalled from file \"[11]\", line 4, characters 11-22\nCalled from file \"[11]\", line 4, characters 11-22\nCalled from file \"[11]\", line 4, characters 11-22\nCalled from file \"[11]\", line 4, characters 11-22\nCalled from file \"[11]\", line 4, characters 11-22\nCalled from file \"[11]\", line 4, characters 11-22\nCalled from file \"[11]\", line 4, characters 11-22\nCalled from file \"[11]\", line 4, characters 11-22\nCalled from file \"[11]\", line 4, characters 11-22\nCalled from file \"[11]\", line 4, characters 11-22\nCalled from file \"[11]\", line 4, characters 11-22\nCalled from file \"[11]\", line 4, characters 11-22\nCalled from file \"[11]\", line 4, characters 11-22\nCalled from file \"[11]\", line 4, characters 11-22\nCalled from file \"[11]\", line 4, characters 11-22\nCalled from file \"[11]\", line 4, characters 11-22\nCalled from file \"[11]\", line 4, characters 11-22\nCalled from file \"[11]\", line 4, characters 11-22\nCalled from file \"[11]\", line 4, characters 11-22\nCalled from file \"[11]\", line 4, characters 11-22\nCalled from file \"[11]\", line 4, characters 11-22\nCalled from file \"[11]\", line 4, characters 11-22\nCalled from file \"[11]\", line 4, characters 11-22\nCalled from file \"[11]\", line 4, characters 11-22\nCalled from file \"[11]\", line 4, characters 11-22\nCalled from file \"[11]\", line 4, characters 11-22\nCalled from file \"[11]\", line 4, characters 11-22\nCalled from file \"[11]\", line 4, characters 11-22\nCalled from file \"[11]\", line 4, characters 11-22\nCalled from file \"[11]\", line 4, characters 11-22\nCalled from file \"[11]\", line 4, characters 11-22\nCalled from file \"[11]\", line 4, characters 11-22\nCalled from file \"[11]\", line 4, characters 11-22\nCalled from file \"[11]\", line 4, characters 11-22\nCalled from file \"[11]\", line 4, characters 11-22\nCalled from file \"[11]\", line 4, characters 11-22\nCalled from file \"[11]\", line 4, characters 11-22\nCalled from file \"[11]\", line 4, characters 11-22\nCalled from file \"[11]\", line 4, characters 11-22\nCalled from file \"[11]\", line 4, characters 11-22\nCalled from file \"[11]\", line 4, characters 11-22\nCalled from file \"[11]\", line 4, characters 11-22\nCalled from file \"[11]\", line 4, characters 11-22\nCalled from file \"[11]\", line 4, characters 11-22\nCalled from file \"[11]\", line 4, characters 11-22\nCalled from file \"[11]\", line 4, characters 11-22\nCalled from file \"[11]\", line 4, characters 11-22\nCalled from file \"[11]\", line 4, characters 11-22\nCalled from file \"[11]\", line 4, characters 11-22\nCalled from file \"[11]\", line 4, characters 11-22\nCalled from file \"[11]\", line 4, characters 11-22\nCalled from file \"[11]\", line 4, characters 11-22\nCalled from file \"[11]\", line 4, characters 11-22\nCalled from file \"[11]\", line 4, characters 11-22\nCalled from file \"[11]\", line 4, characters 11-22\nCalled from file \"[11]\", line 4, characters 11-22\nCalled from file \"[11]\", line 4, characters 11-22\nCalled from file \"[11]\", line 4, characters 11-22\nCalled from file \"[11]\", line 4, characters 11-22\nCalled from file \"[11]\", line 4, characters 11-22\nCalled from file \"[11]\", line 4, characters 11-22\nCalled from file \"[11]\", line 4, characters 11-22\nCalled from file \"[11]\", line 4, characters 11-22\nCalled from file \"[11]\", line 4, characters 11-22\nCalled from file \"[11]\", line 4, characters 11-22\nCalled from file \"[11]\", line 4, characters 11-22\nCalled from file \"[11]\", line 4, characters 11-22\nCalled from file \"[11]\", line 4, characters 11-22\nCalled from file \"[11]\", line 4, characters 11-22\nCalled from file \"[11]\", line 4, characters 11-22\nCalled from file \"[11]\", line 4, characters 11-22\nCalled from file \"[11]\", line 4, characters 11-22\nCalled from file \"[11]\", line 4, characters 11-22\nCalled from file \"[11]\", line 4, characters 11-22\nCalled from file \"[11]\", line 4, characters 11-22\nCalled from file \"[11]\", line 4, characters 11-22\nCalled from file \"[11]\", line 4, characters 11-22\nCalled from file \"[11]\", line 4, characters 11-22\nCalled from file \"[11]\", line 4, characters 11-22\nCalled from file \"[11]\", line 4, characters 11-22\nCalled from file \"[11]\", line 4, characters 11-22\nCalled from file \"[11]\", line 4, characters 11-22\nCalled from file \"[11]\", line 4, characters 11-22\nCalled from file \"[11]\", line 4, characters 11-22\nCalled from file \"[11]\", line 4, characters 11-22\nCalled from file \"[11]\", line 4, characters 11-22\nCalled from file \"[11]\", line 4, characters 11-22\nCalled from file \"[11]\", line 4, characters 11-22\nCalled from file \"[11]\", line 4, characters 11-22\nCalled from file \"[11]\", line 4, characters 11-22\nCalled from file \"[11]\", line 4, characters 11-22\nCalled from file \"[11]\", line 4, characters 11-22\nCalled from file \"[11]\", line 4, characters 11-22\nCalled from file \"[11]\", line 4, characters 11-22\nCalled from file \"[11]\", line 4, characters 11-22\nCalled from file \"[11]\", line 4, characters 11-22\nCalled from file \"[11]\", line 4, characters 11-22\nCalled from file \"[11]\", line 4, characters 11-22\nCalled from file \"[11]\", line 4, characters 11-22\nCalled from file \"[11]\", line 4, characters 11-22\nCalled from file \"[11]\", line 4, characters 11-22\nCalled from file \"[11]\", line 4, characters 11-22\nCalled from file \"[11]\", line 4, characters 11-22\nCalled from file \"[11]\", line 4, characters 11-22\nCalled from file \"[11]\", line 4, characters 11-22\nCalled from file \"[11]\", line 4, characters 11-22\nCalled from file \"[11]\", line 4, characters 11-22\nCalled from file \"[11]\", line 4, characters 11-22\nCalled from file \"[11]\", line 4, characters 11-22\nCalled from file \"[11]\", line 4, characters 11-22\nCalled from file \"[11]\", line 4, characters 11-22\nCalled from file \"[11]\", line 4, characters 11-22\nCalled from file \"[11]\", line 4, characters 11-22\nCalled from file \"[11]\", line 4, characters 11-22\nCalled from file \"[11]\", line 4, characters 11-22\nCalled from file \"[11]\", line 4, characters 11-22\nCalled from file \"[11]\", line 4, characters 11-22\nCalled from file \"[11]\", line 4, characters 11-22\nCalled from file \"[11]\", line 4, characters 11-22\nCalled from file \"[11]\", line 4, characters 11-22\nCalled from file \"[11]\", line 4, characters 11-22\nCalled from file \"[11]\", line 4, characters 11-22\nCalled from file \"[11]\", line 4, characters 11-22\nCalled from file \"[11]\", line 4, characters 11-22\nCalled from file \"[11]\", line 4, characters 11-22\nCalled from file \"[11]\", line 4, characters 11-22\nCalled from file \"[11]\", line 4, characters 11-22\nCalled from file \"[11]\", line 4, characters 11-22\nCalled from file \"[11]\", line 4, characters 11-22\nCalled from file \"[11]\", line 4, characters 11-22\nCalled from file \"[11]\", line 4, characters 11-22\nCalled from file \"[11]\", line 4, characters 11-22\nCalled from file \"[11]\", line 4, characters 11-22\nCalled from file \"[11]\", line 4, characters 11-22\nCalled from file \"[11]\", line 4, characters 11-22\nCalled from file \"[11]\", line 4, characters 11-22\nCalled from file \"[11]\", line 4, characters 11-22\nCalled from file \"[11]\", line 4, characters 11-22\nCalled from file \"[11]\", line 4, characters 11-22\nCalled from file \"[11]\", line 4, characters 11-22\nCalled from file \"[11]\", line 4, characters 11-22\nCalled from file \"[11]\", line 4, characters 11-22\nCalled from file \"[11]\", line 4, characters 11-22\nCalled from file \"[11]\", line 4, characters 11-22\nCalled from file \"[11]\", line 4, characters 11-22\nCalled from file \"[11]\", line 4, characters 11-22\nCalled from file \"[11]\", line 4, characters 11-22\nCalled from file \"[11]\", line 4, characters 11-22\nCalled from file \"[11]\", line 4, characters 11-22\nCalled from file \"[11]\", line 4, characters 11-22\nCalled from file \"[11]\", line 4, characters 11-22\nCalled from file \"[11]\", line 4, characters 11-22\nCalled from file \"[11]\", line 4, characters 11-22\nCalled from file \"[11]\", line 4, characters 11-22\nCalled from file \"[11]\", line 4, characters 11-22\nCalled from file \"[11]\", line 4, characters 11-22\nCalled from file \"[11]\", line 4, characters 11-22\nCalled from file \"[11]\", line 4, characters 11-22\nCalled from file \"[11]\", line 4, characters 11-22\nCalled from file \"[11]\", line 4, characters 11-22\nCalled from file \"[11]\", line 4, characters 11-22\nCalled from file \"[11]\", line 4, characters 11-22\nCalled from file \"[11]\", line 4, characters 11-22\nCalled from file \"[11]\", line 4, characters 11-22\nCalled from file \"[11]\", line 4, characters 11-22\nCalled from file \"[11]\", line 4, characters 11-22\nCalled from file \"[11]\", line 4, characters 11-22\nCalled from file \"[11]\", line 4, characters 11-22\nCalled from file \"[11]\", line 4, characters 11-22\nCalled from file \"[11]\", line 4, characters 11-22\nCalled from file \"[11]\", line 4, characters 11-22\nCalled from file \"[11]\", line 4, characters 11-22\nCalled from file \"[11]\", line 4, characters 11-22\nCalled from file \"[11]\", line 4, characters 11-22\nCalled from file \"[11]\", line 4, characters 11-22\nCalled from file \"[11]\", line 4, characters 11-22\nCalled from file \"[11]\", line 4, characters 11-22\nCalled from file \"[11]\", line 4, characters 11-22\nCalled from file \"[11]\", line 4, characters 11-22\nCalled from file \"[11]\", line 4, characters 11-22\nCalled from file \"[11]\", line 4, characters 11-22\nCalled from file \"[11]\", line 4, characters 11-22\nCalled from file \"[11]\", line 4, characters 11-22\nCalled from file \"[11]\", line 4, characters 11-22\nCalled from file \"[11]\", line 4, characters 11-22\nCalled from file \"[11]\", line 4, characters 11-22\nCalled from file \"[11]\", line 4, characters 11-22\nCalled from file \"[11]\", line 4, characters 11-22\nCalled from file \"[11]\", line 4, characters 11-22\nCalled from file \"[11]\", line 4, characters 11-22\nCalled from file \"[11]\", line 4, characters 11-22\nCalled from file \"[11]\", line 4, characters 11-22\nCalled from file \"[11]\", line 4, characters 11-22\nCalled from file \"[11]\", line 4, characters 11-22\nCalled from file \"[11]\", line 4, characters 11-22\nCalled from file \"[11]\", line 4, characters 11-22\nCalled from file \"[11]\", line 4, characters 11-22\nCalled from file \"[11]\", line 4, characters 11-22\nCalled from file \"[11]\", line 4, characters 11-22\nCalled from file \"[11]\", line 4, characters 11-22\nCalled from file \"[11]\", line 4, characters 11-22\nCalled from file \"[11]\", line 4, characters 11-22\nCalled from file \"[11]\", line 4, characters 11-22\nCalled from file \"[11]\", line 4, characters 11-22\nCalled from file \"[11]\", line 4, characters 11-22\nCalled from file \"[11]\", line 4, characters 11-22\nCalled from file \"[11]\", line 4, characters 11-22\nCalled from file \"[11]\", line 4, characters 11-22\nCalled from file \"[11]\", line 4, characters 11-22\nCalled from file \"[11]\", line 4, characters 11-22\nCalled from file \"[11]\", line 4, characters 11-22\nCalled from file \"[11]\", line 4, characters 11-22\nCalled from file \"[11]\", line 4, characters 11-22\nCalled from file \"[11]\", line 4, characters 11-22\nCalled from file \"[11]\", line 4, characters 11-22\nCalled from file \"[11]\", line 4, characters 11-22\nCalled from file \"[11]\", line 4, characters 11-22\nCalled from file \"[11]\", line 4, characters 11-22\nCalled from file \"[11]\", line 4, characters 11-22\nCalled from file \"[11]\", line 4, characters 11-22\nCalled from file \"[11]\", line 4, characters 11-22\nCalled from file \"[11]\", line 4, characters 11-22\nCalled from file \"[11]\", line 4, characters 11-22\nCalled from file \"[11]\", line 4, characters 11-22\nCalled from file \"[11]\", line 4, characters 11-22\nCalled from file \"[11]\", line 4, characters 11-22\nCalled from file \"[11]\", line 4, characters 11-22\nCalled from file \"[11]\", line 4, characters 11-22\nCalled from file \"[11]\", line 4, characters 11-22\nCalled from file \"[11]\", line 4, characters 11-22\nCalled from file \"[11]\", line 4, characters 11-22\nCalled from file \"[11]\", line 4, characters 11-22\nCalled from file \"[11]\", line 4, characters 11-22\nCalled from file \"[11]\", line 4, characters 11-22\nCalled from file \"[11]\", line 4, characters 11-22\nCalled from file \"[11]\", line 4, characters 11-22\nCalled from file \"[11]\", line 4, characters 11-22\nCalled from file \"[11]\", line 4, characters 11-22\nCalled from file \"[11]\", line 4, characters 11-22\nCalled from file \"[11]\", line 4, characters 11-22\nCalled from file \"[11]\", line 4, characters 11-22\nCalled from file \"[11]\", line 4, characters 11-22\nCalled from file \"[11]\", line 4, characters 11-22\nCalled from file \"[11]\", line 4, characters 11-22\nCalled from file \"[11]\", line 4, characters 11-22\nCalled from file \"[11]\", line 4, characters 11-22\nCalled from file \"[11]\", line 4, characters 11-22\nCalled from file \"[11]\", line 4, characters 11-22\nCalled from file \"[11]\", line 4, characters 11-22\nCalled from file \"[11]\", line 4, characters 11-22\nCalled from file \"[11]\", line 4, characters 11-22\nCalled from file \"[11]\", line 4, characters 11-22\nCalled from file \"[11]\", line 4, characters 11-22\nCalled from file \"[11]\", line 4, characters 11-22\nCalled from file \"[11]\", line 4, characters 11-22\nCalled from file \"[11]\", line 4, characters 11-22\nCalled from file \"[11]\", line 4, characters 11-22\nCalled from file \"[11]\", line 4, characters 11-22\nCalled from file \"[11]\", line 4, characters 11-22\nCalled from file \"[11]\", line 4, characters 11-22\nCalled from file \"[11]\", line 4, characters 11-22\nCalled from file \"[11]\", line 4, characters 11-22\nCalled from file \"[11]\", line 4, characters 11-22\nCalled from file \"[11]\", line 4, characters 11-22\nCalled from file \"[11]\", line 4, characters 11-22\nCalled from file \"[11]\", line 4, characters 11-22\nCalled from file \"[11]\", line 4, characters 11-22\nCalled from file \"[11]\", line 4, characters 11-22\nCalled from file \"[11]\", line 4, characters 11-22\nCalled from file \"[11]\", line 4, characters 11-22\nCalled from file \"[11]\", line 4, characters 11-22\nCalled from file \"[11]\", line 4, characters 11-22\nCalled from file \"[11]\", line 4, characters 11-22\nCalled from file \"[11]\", line 4, characters 11-22\nCalled from file \"[11]\", line 4, characters 11-22\nCalled from file \"[11]\", line 4, characters 11-22\nCalled from file \"[11]\", line 4, characters 11-22\nCalled from file \"[11]\", line 4, characters 11-22\nCalled from file \"[11]\", line 4, characters 11-22\nCalled from file \"[11]\", line 4, characters 11-22\nCalled from file \"[11]\", line 4, characters 11-22\nCalled from file \"[11]\", line 4, characters 11-22\nCalled from file \"[11]\", line 4, characters 11-22\nCalled from file \"[11]\", line 4, characters 11-22\nCalled from file \"[11]\", line 4, characters 11-22\nCalled from file \"[11]\", line 4, characters 11-22\nCalled from file \"[11]\", line 4, characters 11-22\nCalled from file \"[11]\", line 4, characters 11-22\nCalled from file \"[11]\", line 4, characters 11-22\nCalled from file \"[11]\", line 4, characters 11-22\nCalled from file \"[11]\", line 4, characters 11-22\nCalled from file \"[11]\", line 4, characters 11-22\nCalled from file \"[11]\", line 4, characters 11-22\nCalled from file \"[11]\", line 4, characters 11-22\nCalled from file \"[11]\", line 4, characters 11-22\nCalled from file \"[11]\", line 4, characters 11-22\nCalled from file \"[11]\", line 4, characters 11-22\nCalled from file \"[11]\", line 4, characters 11-22\nCalled from file \"[11]\", line 4, characters 11-22\nCalled from file \"[11]\", line 4, characters 11-22\nCalled from file \"[11]\", line 4, characters 11-22\nCalled from file \"[11]\", line 4, characters 11-22\nCalled from file \"[11]\", line 4, characters 11-22\nCalled from file \"[11]\", line 4, characters 11-22\nCalled from file \"[11]\", line 4, characters 11-22\nCalled from file \"[11]\", line 4, characters 11-22\nCalled from file \"[11]\", line 4, characters 11-22\nCalled from file \"[11]\", line 4, characters 11-22\nCalled from file \"[11]\", line 4, characters 11-22\nCalled from file \"[11]\", line 4, characters 11-22\nCalled from file \"[11]\", line 4, characters 11-22\nCalled from file \"[11]\", line 4, characters 11-22\nCalled from file \"[11]\", line 4, characters 11-22\nCalled from file \"[11]\", line 4, characters 11-22\nCalled from file \"[11]\", line 4, characters 11-22\nCalled from file \"[11]\", line 4, characters 11-22\nCalled from file \"[11]\", line 4, characters 11-22\nCalled from file \"[11]\", line 4, characters 11-22\nCalled from file \"[11]\", line 4, characters 11-22\nCalled from file \"[11]\", line 4, characters 11-22\nCalled from file \"[11]\", line 4, characters 11-22\nCalled from file \"[11]\", line 4, characters 11-22\nCalled from file \"[11]\", line 4, characters 11-22\nCalled from file \"[11]\", line 4, characters 11-22\nCalled from file \"[11]\", line 4, characters 11-22\nCalled from file \"[11]\", line 4, characters 11-22\nCalled from file \"[11]\", line 4, characters 11-22\nCalled from file \"[11]\", line 4, characters 11-22\nCalled from file \"[11]\", line 4, characters 11-22\nCalled from file \"[11]\", line 4, characters 11-22\nCalled from file \"[11]\", line 4, characters 11-22\nCalled from file \"[11]\", line 4, characters 11-22\nCalled from file \"[11]\", line 4, characters 11-22\nCalled from file \"[11]\", line 4, characters 11-22\nCalled from file \"[11]\", line 4, characters 11-22\nCalled from file \"[11]\", line 4, characters 11-22\nCalled from file \"[11]\", line 4, characters 11-22\nCalled from file \"[11]\", line 4, characters 11-22\nCalled from file \"[11]\", line 4, characters 11-22\nCalled from file \"[11]\", line 4, characters 11-22\nCalled from file \"[11]\", line 4, characters 11-22\nCalled from file \"[11]\", line 4, characters 11-22\nCalled from file \"[11]\", line 4, characters 11-22\nCalled from file \"[11]\", line 4, characters 11-22\nCalled from file \"[11]\", line 4, characters 11-22\nCalled from file \"[11]\", line 4, characters 11-22\nCalled from file \"[11]\", line 4, characters 11-22\nCalled from file \"[11]\", line 4, characters 11-22\nCalled from file \"[11]\", line 4, characters 11-22\nCalled from file \"[11]\", line 4, characters 11-22\nCalled from file \"[11]\", line 4, characters 11-22\nCalled from file \"[11]\", line 4, characters 11-22\nCalled from file \"[11]\", line 4, characters 11-22\nCalled from file \"[11]\", line 4, characters 11-22\nCalled from file \"[11]\", line 4, characters 11-22\nCalled from file \"[11]\", line 4, characters 11-22\nCalled from file \"[11]\", line 4, characters 11-22\nCalled from file \"[11]\", line 4, characters 11-22\nCalled from file \"[11]\", line 4, characters 11-22\nCalled from file \"[11]\", line 4, characters 11-22\nCalled from file \"[11]\", line 4, characters 11-22\nCalled from file \"[11]\", line 4, characters 11-22\nCalled from file \"[11]\", line 4, characters 11-22\nCalled from file \"[11]\", line 4, characters 11-22\nCalled from file \"[11]\", line 4, characters 11-22\nCalled from file \"[11]\", line 4, characters 11-22\nCalled from file \"[11]\", line 4, characters 11-22\nCalled from file \"[11]\", line 4, characters 11-22\nCalled from file \"[11]\", line 4, characters 11-22\nCalled from file \"[11]\", line 4, characters 11-22\nCalled from file \"[11]\", line 4, characters 11-22\nCalled from file \"[11]\", line 4, characters 11-22\nCalled from file \"[11]\", line 4, characters 11-22\nCalled from file \"[11]\", line 4, characters 11-22\nCalled from file \"[11]\", line 4, characters 11-22\nCalled from file \"[11]\", line 4, characters 11-22\nCalled from file \"[11]\", line 4, characters 11-22\nCalled from file \"[11]\", line 4, characters 11-22\nCalled from file \"[11]\", line 4, characters 11-22\nCalled from file \"[11]\", line 4, characters 11-22\nCalled from file \"[11]\", line 4, characters 11-22\nCalled from file \"[11]\", line 4, characters 11-22\nCalled from file \"[11]\", line 4, characters 11-22\nCalled from file \"[11]\", line 4, characters 11-22\nCalled from file \"[11]\", line 4, characters 11-22\nCalled from file \"[11]\", line 4, characters 11-22\nCalled from file \"[11]\", line 4, characters 11-22\nCalled from file \"[11]\", line 4, characters 11-22\nCalled from file \"[11]\", line 4, characters 11-22\nCalled from file \"[11]\", line 4, characters 11-22\nCalled from file \"[11]\", line 4, characters 11-22\nCalled from file \"[11]\", line 4, characters 11-22\nCalled from file \"[11]\", line 4, characters 11-22\nCalled from file \"[11]\", line 4, characters 11-22\nCalled from file \"[11]\", line 4, characters 11-22\nCalled from file \"[11]\", line 4, characters 11-22\nCalled from file \"[11]\", line 4, characters 11-22\nCalled from file \"[11]\", line 4, characters 11-22\nCalled from file \"[11]\", line 4, characters 11-22\nCalled from file \"[11]\", line 4, characters 11-22\nCalled from file \"[11]\", line 4, characters 11-22\nCalled from file \"[11]\", line 4, characters 11-22\nCalled from file \"[11]\", line 4, characters 11-22\nCalled from file \"[11]\", line 4, characters 11-22\nCalled from file \"[11]\", line 4, characters 11-22\nCalled from file \"[11]\", line 4, characters 11-22\nCalled from file \"[11]\", line 4, characters 11-22\nCalled from file \"[11]\", line 4, characters 11-22\nCalled from file \"[11]\", line 4, characters 11-22\nCalled from file \"[11]\", line 4, characters 11-22\nCalled from file \"[11]\", line 4, characters 11-22\nCalled from file \"[11]\", line 4, characters 11-22\nCalled from file \"[11]\", line 4, characters 11-22\nCalled from file \"[11]\", line 4, characters 11-22\nCalled from file \"[11]\", line 4, characters 11-22\nCalled from file \"[11]\", line 4, characters 11-22\nCalled from file \"[11]\", line 4, characters 11-22\nCalled from file \"[11]\", line 4, characters 11-22\nCalled from file \"[11]\", line 4, characters 11-22\nCalled from file \"[11]\", line 4, characters 11-22\nCalled from file \"[11]\", line 4, characters 11-22\nCalled from file \"[11]\", line 4, characters 11-22\nCalled from file \"[11]\", line 4, characters 11-22\nCalled from file \"[11]\", line 4, characters 11-22\nCalled from file \"[11]\", line 4, characters 11-22\nCalled from file \"[11]\", line 4, characters 11-22\nCalled from file \"[11]\", line 4, characters 11-22\nCalled from file \"[11]\", line 4, characters 11-22\nCalled from file \"[11]\", line 4, characters 11-22\nCalled from file \"[11]\", line 4, characters 11-22\nCalled from file \"[11]\", line 4, characters 11-22\nCalled from file \"[11]\", line 4, characters 11-22\nCalled from file \"[11]\", line 4, characters 11-22\nCalled from file \"[11]\", line 4, characters 11-22\nCalled from file \"[11]\", line 4, characters 11-22\nCalled from file \"[11]\", line 4, characters 11-22\nCalled from file \"[11]\", line 4, characters 11-22\nCalled from file \"[11]\", line 4, characters 11-22\nCalled from file \"[11]\", line 4, characters 11-22\nCalled from file \"[11]\", line 4, characters 11-22\nCalled from file \"[11]\", line 4, characters 11-22\nCalled from file \"[11]\", line 4, characters 11-22\nCalled from file \"[11]\", line 4, characters 11-22\nCalled from file \"[11]\", line 4, characters 11-22\nCalled from file \"[11]\", line 4, characters 11-22\nCalled from file \"[11]\", line 4, characters 11-22\nCalled from file \"[11]\", line 4, characters 11-22\nCalled from file \"[11]\", line 4, characters 11-22\nCalled from file \"[11]\", line 4, characters 11-22\nCalled from file \"[11]\", line 4, characters 11-22\nCalled from file \"[11]\", line 4, characters 11-22\nCalled from file \"[11]\", line 4, characters 11-22\nCalled from file \"[11]\", line 4, characters 11-22\nCalled from file \"[11]\", line 4, characters 11-22\nCalled from file \"[11]\", line 4, characters 11-22\nCalled from file \"[11]\", line 4, characters 11-22\nCalled from file \"[11]\", line 4, characters 11-22\nCalled from file \"[11]\", line 4, characters 11-22\nCalled from file \"[11]\", line 4, characters 11-22\nCalled from file \"[11]\", line 4, characters 11-22\nCalled from file \"[11]\", line 4, characters 11-22\nCalled from file \"[11]\", line 4, characters 11-22\nCalled from file \"[11]\", line 4, characters 11-22\nCalled from file \"[11]\", line 4, characters 11-22\nCalled from file \"[11]\", line 4, characters 11-22\nCalled from file \"[11]\", line 4, characters 11-22\nCalled from file \"[11]\", line 4, characters 11-22\nCalled from file \"[11]\", line 4, characters 11-22\nCalled from file \"[11]\", line 4, characters 11-22\nCalled from file \"[11]\", line 4, characters 11-22\nCalled from file \"[11]\", line 4, characters 11-22\nCalled from file \"[11]\", line 4, characters 11-22\nCalled from file \"[11]\", line 4, characters 11-22\nCalled from file \"[11]\", line 4, characters 11-22\nCalled from file \"[11]\", line 4, characters 11-22\nCalled from file \"[11]\", line 4, characters 11-22\nCalled from file \"[11]\", line 4, characters 11-22\nCalled from file \"[11]\", line 4, characters 11-22\nCalled from file \"[11]\", line 4, characters 11-22\nCalled from file \"[11]\", line 4, characters 11-22\nCalled from file \"[11]\", line 4, characters 11-22\nCalled from file \"[11]\", line 4, characters 11-22\nCalled from file \"[11]\", line 4, characters 11-22\nCalled from file \"[11]\", line 4, characters 11-22\nCalled from file \"[11]\", line 4, characters 11-22\nCalled from file \"[11]\", line 4, characters 11-22\nCalled from file \"[11]\", line 4, characters 11-22\nCalled from file \"[11]\", line 4, characters 11-22\nCalled from file \"[11]\", line 4, characters 11-22\nCalled from file \"[11]\", line 4, characters 11-22\nCalled from file \"[11]\", line 4, characters 11-22\nCalled from file \"[11]\", line 4, characters 11-22\nCalled from file \"[11]\", line 4, characters 11-22\nCalled from file \"[11]\", line 4, characters 11-22\nCalled from file \"[11]\", line 4, characters 11-22\nCalled from file \"[11]\", line 4, characters 11-22\nCalled from file \"[11]\", line 4, characters 11-22\nCalled from file \"[11]\", line 4, characters 11-22\nCalled from file \"[11]\", line 4, characters 11-22\nCalled from file \"[11]\", line 4, characters 11-22\nCalled from file \"[11]\", line 4, characters 11-22\nCalled from file \"[11]\", line 4, characters 11-22\nCalled from file \"[11]\", line 4, characters 11-22\nCalled from file \"[11]\", line 4, characters 11-22\nCalled from file \"[11]\", line 4, characters 11-22\nCalled from file \"[11]\", line 4, characters 11-22\nCalled from file \"[11]\", line 4, characters 11-22\nCalled from file \"[11]\", line 4, characters 11-22\nCalled from file \"[11]\", line 4, characters 11-22\nCalled from file \"[11]\", line 4, characters 11-22\nCalled from file \"[11]\", line 4, characters 11-22\nCalled from file \"[11]\", line 4, characters 11-22\nCalled from file \"[11]\", line 4, characters 11-22\nCalled from file \"[11]\", line 4, characters 11-22\nCalled from file \"[11]\", line 4, characters 11-22\nCalled from file \"[11]\", line 4, characters 11-22\nCalled from file \"[11]\", line 4, characters 11-22\nCalled from file \"[11]\", line 4, characters 11-22\nCalled from file \"[11]\", line 4, characters 11-22\nCalled from file \"[11]\", line 4, characters 11-22\nCalled from file \"[11]\", line 4, characters 11-22\nCalled from file \"[11]\", line 4, characters 11-22\nCalled from file \"[11]\", line 4, characters 11-22\nCalled from file \"[11]\", line 4, characters 11-22\nCalled from file \"[11]\", line 4, characters 11-22\nCalled from file \"[11]\", line 4, characters 11-22\nCalled from file \"[11]\", line 4, characters 11-22\nCalled from file \"[11]\", line 4, characters 11-22\nCalled from file \"[11]\", line 4, characters 11-22\nCalled from file \"[11]\", line 4, characters 11-22\nCalled from file \"[11]\", line 4, characters 11-22\nCalled from file \"[11]\", line 4, characters 11-22\nCalled from file \"[11]\", line 4, characters 11-22\nCalled from file \"[11]\", line 4, characters 11-22\nCalled from file \"[11]\", line 4, characters 11-22\nCalled from file \"[11]\", line 4, characters 11-22\nCalled from file \"[11]\", line 4, characters 11-22\nCalled from file \"[11]\", line 4, characters 11-22\nCalled from file \"[11]\", line 4, characters 11-22\nCalled from file \"[11]\", line 4, characters 11-22\nCalled from file \"[11]\", line 4, characters 11-22\nCalled from file \"[11]\", line 4, characters 11-22\nCalled from file \"[11]\", line 4, characters 11-22\nCalled from file \"[11]\", line 4, characters 11-22\nCalled from file \"[11]\", line 4, characters 11-22\nCalled from file \"[11]\", line 4, characters 11-22\nCalled from file \"[11]\", line 4, characters 11-22\nCalled from file \"[11]\", line 4, characters 11-22\nCalled from file \"[11]\", line 4, characters 11-22\nCalled from file \"[11]\", line 4, characters 11-22\nCalled from file \"[11]\", line 4, characters 11-22\nCalled from file \"[11]\", line 4, characters 11-22\nCalled from file \"[11]\", line 4, characters 11-22\nCalled from file \"[11]\", line 4, characters 11-22\nCalled from file \"[11]\", line 4, characters 11-22\nCalled from file \"[11]\", line 4, characters 11-22\nCalled from file \"[11]\", line 4, characters 11-22\nCalled from file \"[11]\", line 4, characters 11-22\nCalled from file \"[11]\", line 4, characters 11-22\nCalled from file \"[11]\", line 4, characters 11-22\nCalled from file \"[11]\", line 4, characters 11-22\nCalled from file \"[11]\", line 4, characters 11-22\nCalled from file \"[11]\", line 4, characters 11-22\nCalled from file \"[11]\", line 4, characters 11-22\nCalled from file \"[11]\", line 4, characters 11-22\nCalled from file \"[11]\", line 4, characters 11-22\nCalled from file \"[11]\", line 4, characters 11-22\nCalled from file \"[11]\", line 4, characters 11-22\nCalled from file \"[11]\", line 4, characters 11-22\nCalled from file \"[11]\", line 4, characters 11-22\nCalled from file \"[11]\", line 4, characters 11-22\nCalled from file \"[11]\", line 4, characters 11-22\nCalled from file \"[11]\", line 4, characters 11-22\nCalled from file \"[11]\", line 4, characters 11-22\nCalled from file \"[11]\", line 4, characters 11-22\nCalled from file \"[11]\", line 4, characters 11-22\nCalled from file \"[11]\", line 4, characters 11-22\nCalled from file \"[11]\", line 4, characters 11-22\nCalled from file \"[11]\", line 4, characters 11-22\nCalled from file \"[11]\", line 4, characters 11-22\nCalled from file \"[11]\", line 4, characters 11-22\nCalled from file \"[11]\", line 4, characters 11-22\nCalled from file \"[11]\", line 4, characters 11-22\nCalled from file \"[11]\", line 4, characters 11-22\nCalled from file \"[11]\", line 4, characters 11-22\nCalled from file \"[11]\", line 4, characters 11-22\nCalled from file \"[11]\", line 4, characters 11-22\nCalled from file \"[11]\", line 4, characters 11-22\nCalled from file \"[11]\", line 4, characters 11-22\nCalled from file \"[11]\", line 4, characters 11-22\nCalled from file \"[11]\", line 4, characters 11-22\nCalled from file \"[11]\", line 4, characters 11-22\nCalled from file \"[11]\", line 4, characters 11-22\nCalled from file \"[11]\", line 4, characters 11-22\nCalled from file \"[11]\", line 4, characters 11-22\nCalled from file \"[11]\", line 4, characters 11-22\nCalled from file \"[11]\", line 4, characters 11-22\nCalled from file \"[11]\", line 4, characters 11-22\nCalled from file \"[11]\", line 4, characters 11-22\nCalled from file \"[11]\", line 4, characters 11-22\nCalled from file \"[11]\", line 4, characters 11-22\nCalled from file \"[11]\", line 4, characters 11-22\nCalled from file \"[11]\", line 4, characters 11-22\nCalled from file \"[11]\", line 4, characters 11-22\nCalled from file \"[11]\", line 4, characters 11-22\nCalled from file \"[11]\", line 4, characters 11-22\nCalled from file \"[11]\", line 4, characters 11-22\nCalled from file \"[11]\", line 4, characters 11-22\nCalled from file \"[11]\", line 4, characters 11-22\nCalled from file \"[11]\", line 4, characters 11-22\nCalled from file \"[11]\", line 4, characters 11-22\nCalled from file \"[11]\", line 4, characters 11-22\nCalled from file \"[11]\", line 4, characters 11-22\nCalled from file \"[11]\", line 4, characters 11-22\nCalled from file \"[11]\", line 4, characters 11-22\nCalled from file \"[11]\", line 4, characters 11-22\nCalled from file \"[11]\", line 4, characters 11-22\nCalled from file \"[11]\", line 4, characters 11-22\nCalled from file \"[11]\", line 4, characters 11-22\nCalled from file \"[11]\", line 4, characters 11-22\nCalled from file \"[11]\", line 4, characters 11-22\nCalled from file \"[11]\", line 4, characters 11-22\nCalled from file \"[11]\", line 4, characters 11-22\nCalled from file \"[11]\", line 4, characters 11-22\nCalled from file \"[11]\", line 4, characters 11-22\nCalled from file \"[11]\", line 4, characters 11-22\nCalled from file \"[11]\", line 4, characters 11-22\nCalled from file \"[11]\", line 4, characters 11-22\nCalled from file \"[11]\", line 4, characters 11-22\nCalled from file \"[11]\", line 4, characters 11-22\nCalled from file \"[11]\", line 4, characters 11-22\nCalled from file \"[11]\", line 4, characters 11-22\nCalled from file \"[11]\", line 4, characters 11-22\nCalled from file \"[11]\", line 4, characters 11-22\nCalled from file \"[11]\", line 4, characters 11-22\nCalled from file \"[11]\", line 4, characters 11-22\nCalled from file \"[11]\", line 4, characters 11-22\nCalled from file \"[11]\", line 4, characters 11-22\nCalled from file \"[11]\", line 4, characters 11-22\nCalled from file \"[11]\", line 4, characters 11-22\nCalled from file \"[11]\", line 4, characters 11-22\nCalled from file \"[11]\", line 4, characters 11-22\nCalled from file \"[11]\", line 4, characters 11-22\nCalled from file \"[11]\", line 4, characters 11-22\nCalled from file \"[11]\", line 4, characters 11-22\nCalled from file \"[11]\", line 4, characters 11-22\nCalled from file \"[11]\", line 4, characters 11-22\nCalled from file \"[11]\", line 4, characters 11-22\nCalled from file \"[11]\", line 4, characters 11-22\nCalled from file \"[11]\", line 4, characters 11-22\nCalled from file \"[11]\", line 4, characters 11-22\nCalled from file \"[11]\", line 4, characters 11-22\nCalled from file \"[11]\", line 4, characters 11-22\nCalled from file \"[11]\", line 4, characters 11-22\nCalled from file \"[11]\", line 4, characters 11-22\nCalled from file \"[11]\", line 4, characters 11-22\nCalled from file \"[11]\", line 4, characters 11-22\nCalled from file \"[11]\", line 4, characters 11-22\nCalled from file \"[11]\", line 4, characters 11-22\nCalled from file \"[11]\", line 4, characters 11-22\nCalled from file \"[11]\", line 4, characters 11-22\nCalled from file \"[11]\", line 4, characters 11-22\nCalled from file \"[11]\", line 4, characters 11-22\nCalled from file \"[11]\", line 4, characters 11-22\nCalled from file \"[11]\", line 4, characters 11-22\nCalled from file \"[11]\", line 4, characters 11-22\nCalled from file \"[11]\", line 4, characters 11-22\nCalled from file \"[11]\", line 4, characters 11-22\nCalled from file \"[11]\", line 4, characters 11-22\nCalled from file \"[11]\", line 4, characters 11-22\nCalled from file \"[11]\", line 4, characters 11-22\nCalled from file \"[11]\", line 4, characters 11-22\nCalled from file \"[11]\", line 4, characters 11-22\nCalled from file \"[11]\", line 4, characters 11-22\nCalled from file \"[11]\", line 4, characters 11-22\nCalled from file \"[11]\", line 4, characters 11-22\nCalled from file \"[11]\", line 4, characters 11-22\nCalled from file \"[11]\", line 4, characters 11-22\nCalled from file \"[11]\", line 4, characters 11-22\nCalled from file \"[11]\", line 4, characters 11-22\nCalled from file \"[11]\", line 4, characters 11-22\nCalled from file \"[11]\", line 4, characters 11-22\nCalled from file \"[11]\", line 4, characters 11-22\nCalled from file \"[11]\", line 4, characters 11-22\nCalled from file \"[11]\", line 4, characters 11-22\nCalled from file \"[11]\", line 4, characters 11-22\nCalled from file \"[11]\", line 4, characters 11-22\nCalled from file \"[11]\", line 4, characters 11-22\nCalled from file \"[11]\", line 4, characters 11-22\nCalled from file \"[11]\", line 4, characters 11-22\nCalled from file \"[11]\", line 4, characters 11-22\nCalled from file \"[11]\", line 4, characters 11-22\nCalled from file \"[11]\", line 4, characters 11-22\nCalled from file \"[11]\", line 4, characters 11-22\nCalled from file \"[11]\", line 4, characters 11-22\nCalled from file \"[11]\", line 4, characters 11-22\nCalled from file \"[11]\", line 4, characters 11-22\nCalled from file \"[11]\", line 4, characters 11-22\nCalled from file \"[11]\", line 4, characters 11-22\nCalled from file \"[11]\", line 4, characters 11-22\nCalled from file \"[11]\", line 4, characters 11-22\nCalled from file \"[11]\", line 4, characters 11-22\nCalled from file \"[11]\", line 4, characters 11-22\nCalled from file \"[11]\", line 4, characters 11-22\nCalled from file \"[11]\", line 4, characters 11-22\nCalled from file \"[11]\", line 4, characters 11-22\n\u001b[0m"
     ]
    }
   ],
   "source": [
    "somme 1000000;;"
   ]
  },
  {
   "cell_type": "markdown",
   "id": "882ad8ab",
   "metadata": {
    "slideshow": {
     "slide_type": "subslide"
    }
   },
   "source": [
    "\\begin{remarque}\n",
    "Pour éviter le dépassement capacité précédent, on peut écrire une nouvelle version de la fonction `somme` qui utilise un *accumulateur* :\n",
    "\\end{remarque}"
   ]
  },
  {
   "cell_type": "code",
   "execution_count": 13,
   "id": "526c8262",
   "metadata": {
    "slideshow": {
     "slide_type": "-"
    }
   },
   "outputs": [
    {
     "data": {
      "text/plain": [
       "val somme_avec_acc : int -> int -> int = <fun>\n"
      ]
     },
     "execution_count": 13,
     "metadata": {},
     "output_type": "execute_result"
    }
   ],
   "source": [
    "(* Cette fonction calcule 0+1+...+(n-1)+ (n + acc)*)\n",
    "let rec somme_avec_acc n acc =\n",
    "  match n with\n",
    "  | 0 -> acc\n",
    "  | _ -> somme_avec_acc (n-1) (n+acc)\n",
    ";;"
   ]
  },
  {
   "cell_type": "markdown",
   "id": "27c46799",
   "metadata": {
    "slideshow": {
     "slide_type": "-"
    }
   },
   "source": [
    "On utilise ici un deuxième argument pour effectuer les additions. Il suffit de prendre pour ce deuxième paramètre la valeur $0$ pour calculer `somme n` :"
   ]
  },
  {
   "cell_type": "code",
   "execution_count": 14,
   "id": "990eff6c",
   "metadata": {
    "slideshow": {
     "slide_type": "-"
    }
   },
   "outputs": [
    {
     "data": {
      "text/plain": [
       "val somme : int -> int = <fun>\n"
      ]
     },
     "execution_count": 14,
     "metadata": {},
     "output_type": "execute_result"
    }
   ],
   "source": [
    "let somme n = \n",
    "  somme_avec_acc n 0\n",
    ";;"
   ]
  },
  {
   "cell_type": "code",
   "execution_count": 15,
   "id": "7529806f",
   "metadata": {
    "slideshow": {
     "slide_type": "subslide"
    }
   },
   "outputs": [
    {
     "data": {
      "text/plain": [
       "- : int = 5000000050000000\n"
      ]
     },
     "execution_count": 15,
     "metadata": {},
     "output_type": "execute_result"
    }
   ],
   "source": [
    "somme 100000000 ;;"
   ]
  },
  {
   "cell_type": "markdown",
   "id": "5cc2669e",
   "metadata": {
    "slideshow": {
     "slide_type": "-"
    }
   },
   "source": [
    "On remarque ici qu'il n'y a pas de dépassement de la pile d'appels. Cette fonction est en effet dite *récursive terminale*, car l'appel récursif est le dernier calcul réalisé par la fonction $f$."
   ]
  },
  {
   "cell_type": "markdown",
   "id": "350c70b8",
   "metadata": {
    "slideshow": {
     "slide_type": "subslide"
    }
   },
   "source": [
    "L'intérêt d'avoir une fonction récursive terminale est qu'un appel récursif à $f$ ne nécessite pas d'empilement sur la pile d'appels : l'appel récursif peut prendre la place de l'appel en cours dans la pile, puisqu'il n'y a pas d'opération à effectuer une fois l'appel récursif terminé. Certains compilateurs, comme celui-ci d'OCaml, sont capables de détecter les fonctions récursives terminales et limitent alors les empilements dans la pile d'appels."
   ]
  },
  {
   "cell_type": "markdown",
   "id": "7ea0c4e5",
   "metadata": {
    "slideshow": {
     "slide_type": "subslide"
    }
   },
   "source": [
    "Lorsqu'on utilise un accumulateur, il n'est pas forcément agréable de devoir faire les appels à la fonction avec un paramètre supplémentaire. On définit souvent la fonction avec accumulateur comme une fonction locale à une autre fonction, qui se contentera de l'appeler avec la bonne valeur initiale pour l'accumulateur. On en profitera généralement pour lui donner un nom plus court :"
   ]
  },
  {
   "cell_type": "code",
   "execution_count": 16,
   "id": "f74cc50a",
   "metadata": {
    "slideshow": {
     "slide_type": "-"
    }
   },
   "outputs": [
    {
     "data": {
      "text/plain": [
       "val somme : int -> int = <fun>\n"
      ]
     },
     "execution_count": 16,
     "metadata": {},
     "output_type": "execute_result"
    }
   ],
   "source": [
    "let somme n =\n",
    "  let rec aux n acc =\n",
    "    match n with\n",
    "    | 0 -> 0\n",
    "    | _ -> aux (n - 1) (n + acc)\n",
    "  in aux n 0\n",
    ";;"
   ]
  },
  {
   "cell_type": "markdown",
   "id": "7c0ac8a8",
   "metadata": {
    "slideshow": {
     "slide_type": "slide"
    }
   },
   "source": [
    "# Exercices divers\n",
    "\n",
    "## Exercice\n",
    "Écrire une fonction récursive calculant le pgcd de deux entiers naturels non tous deux nuls par l'algorithme d'Euclide. Justifier qu'elle termine."
   ]
  },
  {
   "cell_type": "code",
   "execution_count": 17,
   "id": "bacfbc06",
   "metadata": {},
   "outputs": [
    {
     "data": {
      "text/plain": [
       "val euclide : int -> int -> int = <fun>\n"
      ]
     },
     "execution_count": 17,
     "metadata": {},
     "output_type": "execute_result"
    }
   ],
   "source": [
    "let rec euclide a b =\n",
    "  if b = 0\n",
    "  then a\n",
    "  else euclide b (a mod b)\n",
    ";;"
   ]
  },
  {
   "cell_type": "markdown",
   "id": "3777f19d",
   "metadata": {},
   "source": [
    "- Si $b = 0$, la fonction termine\n",
    "- Si $b \\geqslant 1$, supposons que les appels `euclide` $a'$ $b'$ avec $b' < b$ terminent ; alors l'appel `euclide a b` ne nécessite qu'un appel récursif avec pour deuxième argument $b'$ = `a mod b` qui est strictement plus petit que $b$ donc qui termine."
   ]
  },
  {
   "cell_type": "markdown",
   "id": "4054a8c5",
   "metadata": {
    "slideshow": {
     "slide_type": "subslide"
    }
   },
   "source": [
    "## Exercice\n",
    "On dispose d'un stock illimité de billets et de pièces de valeurs $c_1$, ..., $c_p$. On souhaite dénombrer le nombre de manières possibles d'obtenir une somme donnée avec ces espèces. Écrire une fonction récursive prenant en paramètre la somme à atteindre et la liste des valeurs de pièces et calculant cette quantité.\n",
    "\n",
    "*Il y a par exemple 11 manières possibles de payer 10€ avec des pièces et billets de 1, 2, 5 et 10€ (ce qui est facile à calculer à la main), et 451 manières possibles de payer 50€ avec des pièces et billets de 1, 2, 5, 10, 20 et 50€.*"
   ]
  },
  {
   "cell_type": "code",
   "execution_count": 18,
   "id": "fed2c3b3",
   "metadata": {},
   "outputs": [],
   "source": [
    "(* Non terminé en MPS1 *)"
   ]
  }
 ],
 "metadata": {
  "celltoolbar": "Diaporama",
  "kernelspec": {
   "display_name": "OCaml default",
   "language": "OCaml",
   "name": "ocaml-jupyter"
  },
  "language_info": {
   "codemirror_mode": "text/x-ocaml",
   "file_extension": ".ml",
   "mimetype": "text/x-ocaml",
   "name": "OCaml",
   "nbconverter_exporter": null,
   "pygments_lexer": "OCaml",
   "version": "4.08.1"
  },
  "latex_envs": {
   "LaTeX_envs_menu_present": true,
   "autoclose": false,
   "autocomplete": true,
   "bibliofile": "biblio.bib",
   "cite_by": "key",
   "current_citInitial": 1,
   "eqLabelWithNumbers": false,
   "eqNumInitial": 1,
   "hotkeys": {
    "equation": "Ctrl-E",
    "itemize": "Ctrl-I"
   },
   "labels_anchors": false,
   "latex_user_defs": false,
   "report_style_numbering": false,
   "user_envs_cfg": true
  }
 },
 "nbformat": 4,
 "nbformat_minor": 5
}
