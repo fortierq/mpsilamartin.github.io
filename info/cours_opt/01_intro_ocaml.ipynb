{
 "cells": [
  {
   "cell_type": "markdown",
   "id": "fe6e9bf4",
   "metadata": {
    "slideshow": {
     "slide_type": "slide"
    }
   },
   "source": [
    "# À propos d'OCaml\n",
    "Caml est un langage de programmation développé depuis 1985 par l'INRIA. La variante actuellement active de ce langage est OCaml, qui est le langage que nous utiliserons dans le cadre de l'option informatique."
   ]
  },
  {
   "cell_type": "markdown",
   "id": "29100f31",
   "metadata": {
    "slideshow": {
     "slide_type": "subslide"
    }
   },
   "source": [
    "## Un langage fonctionnel\n",
    "Caml se range principalement dans la catégorie des langages *fonctionnels*, même s'il permet aussi une programmation impérative, et même orientée objet dans le cas d'OCaml.\n",
    "\n",
    "Dans un langage impératif, on utilise des suites d'instructions pour modifier l'état de la mémoire. On distingue alors les instructions des expressions. Par exemple, en Python, `3*x + 1` est une expression, alors que `y = 3*x + 1` est une instruction.\n",
    "\n",
    "Dans un langage fonctionnel tel que Caml, on met en avant la notion d'expression et l'application de fonctions. En OCaml, la notion d'instruction n'existe pas vraiment : on ne travaille qu'avec des expressions."
   ]
  },
  {
   "cell_type": "markdown",
   "id": "70229152",
   "metadata": {
    "slideshow": {
     "slide_type": "subslide"
    }
   },
   "source": [
    "## Un langage fortement typé\n",
    "Tout objet défini par un langage de programmation possède un *type* (`int`, `float`, etc.).\n",
    "\n",
    "En Python, les expressions ont des types qui sont déterminés à l'exécution du programme ; on dit que Python est dynamiquement typé.\n",
    "\n",
    "Le langage Caml est dit fortement typé car :\n",
    "\n",
    "- le typage d'une expression est réalisé au moment de la compilation ;\n",
    "- les conversions implicites de type sont formellement interdites."
   ]
  },
  {
   "cell_type": "code",
   "execution_count": 1,
   "id": "a9957aee",
   "metadata": {
    "scrolled": false
   },
   "outputs": [
    {
     "data": {
      "text/plain": [
       "- : int = 3\n"
      ]
     },
     "execution_count": 1,
     "metadata": {},
     "output_type": "execute_result"
    }
   ],
   "source": [
    " 2 + 1;;"
   ]
  },
  {
   "cell_type": "markdown",
   "id": "6678a7ba",
   "metadata": {
    "slideshow": {
     "slide_type": "subslide"
    }
   },
   "source": [
    "Par exemple, en Python, il est possible d'additionner directement un flottant et un entier : l'entier sera dynamiquement converti en flottant au moment de l'exécution. \n",
    "\n",
    "En Caml, cette conversion ne peut pas être implicite, il faut réaliser explicitement la conversion, et utiliser l'opérateur adapté :"
   ]
  },
  {
   "cell_type": "markdown",
   "id": "ae4bcc89",
   "metadata": {
    "slideshow": {
     "slide_type": "fragment"
    }
   },
   "source": [
    "En effet, Caml n'autorise pas la surcharge d'opérateur : le symbole `+` désigne uniquement l'addition des entiers, l'addition des flottants est notée `+.`"
   ]
  },
  {
   "cell_type": "markdown",
   "id": "1d797aec",
   "metadata": {
    "slideshow": {
     "slide_type": "slide"
    }
   },
   "source": [
    "# Types de bases\n",
    "## Les entiers\n",
    "Les opérations usuelles sur les entiers se notent `+`, `-`, `*`, `/` (quotient de la division euclidienne), et `mod` (reste de la division euclidienne pour les entiers +). En l'absence de parenthèses, les règles usuelles de priorité s'appliquent."
   ]
  },
  {
   "cell_type": "code",
   "execution_count": 2,
   "id": "07863668",
   "metadata": {
    "slideshow": {
     "slide_type": "-"
    }
   },
   "outputs": [
    {
     "data": {
      "text/plain": [
       "- : int = 6\n"
      ]
     },
     "execution_count": 2,
     "metadata": {},
     "output_type": "execute_result"
    }
   ],
   "source": [
    "5 + 7 mod 2"
   ]
  },
  {
   "cell_type": "code",
   "execution_count": 3,
   "id": "ade6217b",
   "metadata": {
    "slideshow": {
     "slide_type": "-"
    }
   },
   "outputs": [
    {
     "data": {
      "text/plain": [
       "- : int = 11\n"
      ]
     },
     "execution_count": 3,
     "metadata": {},
     "output_type": "execute_result"
    }
   ],
   "source": [
    "3 + 2*4"
   ]
  },
  {
   "cell_type": "code",
   "execution_count": 4,
   "id": "64a1d184",
   "metadata": {
    "slideshow": {
     "slide_type": "-"
    }
   },
   "outputs": [
    {
     "data": {
      "text/plain": [
       "- : int = -1\n"
      ]
     },
     "execution_count": 4,
     "metadata": {},
     "output_type": "execute_result"
    }
   ],
   "source": [
    "(-5) mod 2;;"
   ]
  },
  {
   "cell_type": "markdown",
   "id": "3e161c31",
   "metadata": {
    "slideshow": {
     "slide_type": "subslide"
    }
   },
   "source": [
    "Sur une architecture $64$ bits, les éléments de type `int` sont les entiers de l'intervalle $⟦-2^{62}, 2^{62}-1⟧$, codés en complément à deux sur $63$ bits. Il faut donc prendre soin à ne pas dépasser ces limites, sous peine d'obtenir des résultats différents de ceux attendus. "
   ]
  },
  {
   "cell_type": "code",
   "execution_count": 5,
   "id": "3c000b16",
   "metadata": {},
   "outputs": [
    {
     "data": {
      "text/plain": [
       "- : int = 4611686018427387903\n"
      ]
     },
     "execution_count": 5,
     "metadata": {},
     "output_type": "execute_result"
    }
   ],
   "source": [
    "-4611686018427387904-1;; \n",
    "\n",
    "(* 2^31 * 2^31 *)"
   ]
  },
  {
   "cell_type": "markdown",
   "id": "fcf0ed78",
   "metadata": {
    "slideshow": {
     "slide_type": "-"
    }
   },
   "source": [
    "Les valeurs maximales et minimales de type `int` sont accessibles par `max_int` et `min_int`"
   ]
  },
  {
   "cell_type": "code",
   "execution_count": 6,
   "id": "b3fca680",
   "metadata": {
    "slideshow": {
     "slide_type": "-"
    }
   },
   "outputs": [
    {
     "data": {
      "text/plain": [
       "- : int = 4611686018427387903\n"
      ]
     },
     "execution_count": 6,
     "metadata": {},
     "output_type": "execute_result"
    }
   ],
   "source": [
    "max_int"
   ]
  },
  {
   "cell_type": "code",
   "execution_count": 7,
   "id": "30f927a1",
   "metadata": {
    "slideshow": {
     "slide_type": "-"
    }
   },
   "outputs": [
    {
     "data": {
      "text/plain": [
       "- : int = -4611686018427387904\n"
      ]
     },
     "execution_count": 7,
     "metadata": {},
     "output_type": "execute_result"
    }
   ],
   "source": [
    "min_int"
   ]
  },
  {
   "cell_type": "markdown",
   "id": "14f576b8",
   "metadata": {
    "slideshow": {
     "slide_type": "subslide"
    }
   },
   "source": [
    "## Les flottants\n",
    "Les opérateurs sur les flottants se notent `+.`, `-.`, `*.`, `/.` et `**` (élévation à la puissance).\n",
    "\n",
    "Les calculs effectués sur les flottants sont bien souvent approchés."
   ]
  },
  {
   "cell_type": "code",
   "execution_count": 8,
   "id": "b040bb14",
   "metadata": {},
   "outputs": [
    {
     "data": {
      "text/plain": [
       "- : float = 0.300000000000000044\n"
      ]
     },
     "execution_count": 8,
     "metadata": {},
     "output_type": "execute_result"
    }
   ],
   "source": [
    "0.1 *. 3."
   ]
  },
  {
   "cell_type": "markdown",
   "id": "8e71bb73",
   "metadata": {
    "slideshow": {
     "slide_type": "subslide"
    }
   },
   "source": [
    "On dispose de plus d'un certain nombre de fonctions mathématiques  : `sqrt`, `exp`, `log` (qui désigne le logarithme népérien), `sin`, `cos`, `tan`, `asin`, `acos`, `atan`..."
   ]
  },
  {
   "cell_type": "code",
   "execution_count": 9,
   "id": "477b0bbf",
   "metadata": {
    "slideshow": {
     "slide_type": "-"
    }
   },
   "outputs": [
    {
     "data": {
      "text/plain": [
       "- : float = 11.\n"
      ]
     },
     "execution_count": 9,
     "metadata": {},
     "output_type": "execute_result"
    }
   ],
   "source": [
    "3.**2. +. sqrt(4.)"
   ]
  },
  {
   "cell_type": "code",
   "execution_count": 10,
   "id": "edb3773f",
   "metadata": {
    "slideshow": {
     "slide_type": "-"
    }
   },
   "outputs": [
    {
     "data": {
      "text/plain": [
       "- : float = 0.3\n"
      ]
     },
     "execution_count": 10,
     "metadata": {},
     "output_type": "execute_result"
    }
   ],
   "source": [
    "sin(asin(0.3))"
   ]
  },
  {
   "cell_type": "markdown",
   "id": "a72d94ee",
   "metadata": {
    "slideshow": {
     "slide_type": "subslide"
    }
   },
   "source": [
    "### Exercice \n",
    "Que se passe-t-il si on écrit la phrase suivante : "
   ]
  },
  {
   "cell_type": "code",
   "execution_count": 11,
   "id": "f2372439",
   "metadata": {},
   "outputs": [
    {
     "data": {
      "text/plain": [
       "- : float -> float = <fun>\n"
      ]
     },
     "execution_count": 11,
     "metadata": {},
     "output_type": "execute_result"
    }
   ],
   "source": [
    "tan;;"
   ]
  },
  {
   "cell_type": "code",
   "execution_count": 12,
   "id": "40e781be",
   "metadata": {
    "slideshow": {
     "slide_type": "-"
    }
   },
   "outputs": [
    {
     "data": {
      "text/plain": [
       "- : float = 0.\n"
      ]
     },
     "execution_count": 12,
     "metadata": {},
     "output_type": "execute_result"
    }
   ],
   "source": [
    "tan(1.) +. tan(-1.)"
   ]
  },
  {
   "cell_type": "markdown",
   "id": "82ae00f2",
   "metadata": {
    "slideshow": {
     "slide_type": "subslide"
    }
   },
   "source": [
    "## Les booléens\n",
    "Le type `bool` comporte deux constantes : `true` et `false` et dispose des opérateurs logiques *non* (`not`), *et* (`&&`), *ou* (`||`).\n",
    "\n",
    "Les opérateurs `&&` et `||` fonctionnent suivants le principe de l'évaluation paresseuse : `p && q ` ne va évaluer `q` que si `p` est vraie, et `p || q` ne va évaluer `q` que si `p` est fausse."
   ]
  },
  {
   "cell_type": "code",
   "execution_count": 13,
   "id": "062da124",
   "metadata": {
    "slideshow": {
     "slide_type": "-"
    }
   },
   "outputs": [
    {
     "data": {
      "text/plain": [
       "- : bool -> bool = <fun>\n"
      ]
     },
     "execution_count": 13,
     "metadata": {},
     "output_type": "execute_result"
    }
   ],
   "source": [
    "not;;"
   ]
  },
  {
   "cell_type": "code",
   "execution_count": 14,
   "id": "24932530",
   "metadata": {
    "slideshow": {
     "slide_type": "-"
    }
   },
   "outputs": [
    {
     "ename": "error",
     "evalue": "runtime_error",
     "output_type": "error",
     "traceback": [
      "\u001b[31mException: Division_by_zero.\nRaised by primitive operation at unknown location\nCalled from file \"toplevel/toploop.ml\", line 208, characters 17-27\n\u001b[0m"
     ]
    }
   ],
   "source": [
    "(3 > 0) && (5/0 = 1);;"
   ]
  },
  {
   "cell_type": "markdown",
   "id": "a16609a7",
   "metadata": {
    "slideshow": {
     "slide_type": "subslide"
    }
   },
   "source": [
    "## Les caractères et chaînes de caractères\n",
    "Caml distingue les caractères, de type `char`, et les chaînes de caractères, de type `string`. \n",
    "Les caractères sont entourés de guillemets simples, les chaînes de caractères de guillemets doubles. Les chaînes de caractères disposent d'un opérateur de concaténation, noté `^`"
   ]
  },
  {
   "cell_type": "code",
   "execution_count": 15,
   "id": "b163d13d",
   "metadata": {
    "slideshow": {
     "slide_type": "-"
    }
   },
   "outputs": [
    {
     "data": {
      "text/plain": [
       "- : string = \"MPSI\"\n"
      ]
     },
     "execution_count": 15,
     "metadata": {},
     "output_type": "execute_result"
    }
   ],
   "source": [
    "\"MPSI\""
   ]
  },
  {
   "cell_type": "code",
   "execution_count": 16,
   "id": "5d13d661",
   "metadata": {
    "slideshow": {
     "slide_type": "-"
    }
   },
   "outputs": [
    {
     "data": {
      "text/plain": [
       "- : string = \"MPSI\"\n"
      ]
     },
     "execution_count": 16,
     "metadata": {},
     "output_type": "execute_result"
    }
   ],
   "source": [
    "\"MP\"^\"SI\""
   ]
  },
  {
   "cell_type": "markdown",
   "id": "12c3f7a3",
   "metadata": {
    "slideshow": {
     "slide_type": "subslide"
    }
   },
   "source": [
    "La fonction `length` du module `String` permet d'obtenir la longueur d'une chaîne de caractères."
   ]
  },
  {
   "cell_type": "code",
   "execution_count": 17,
   "id": "aaf28962",
   "metadata": {
    "slideshow": {
     "slide_type": "-"
    }
   },
   "outputs": [
    {
     "data": {
      "text/plain": [
       "- : int = 25\n"
      ]
     },
     "execution_count": 17,
     "metadata": {},
     "output_type": "execute_result"
    }
   ],
   "source": [
    " String.length \"anticonstitutionnellement\" ;;"
   ]
  },
  {
   "cell_type": "markdown",
   "id": "12c22460",
   "metadata": {
    "slideshow": {
     "slide_type": "-"
    }
   },
   "source": [
    "Il est possible d'obtenir un caractère d'indice donné :"
   ]
  },
  {
   "cell_type": "code",
   "execution_count": 18,
   "id": "97837289",
   "metadata": {
    "slideshow": {
     "slide_type": "-"
    }
   },
   "outputs": [
    {
     "data": {
      "text/plain": [
       "- : char = 'a'\n"
      ]
     },
     "execution_count": 18,
     "metadata": {},
     "output_type": "execute_result"
    }
   ],
   "source": [
    "\"anticonstitutionnellement\".[0];;"
   ]
  },
  {
   "cell_type": "markdown",
   "id": "73f0411b",
   "metadata": {
    "slideshow": {
     "slide_type": "subslide"
    }
   },
   "source": [
    "## Les tuples\n",
    "Il est possible de définir le produit cartésien de deux ou plusieurs types : si `x` est une variable de type `'a` et si `y` est une variable de type `'b`, alors `(x,y)` est une variable de type `'a*'b`."
   ]
  },
  {
   "cell_type": "code",
   "execution_count": 19,
   "id": "c2b58d3d",
   "metadata": {
    "slideshow": {
     "slide_type": "-"
    }
   },
   "outputs": [
    {
     "data": {
      "text/plain": [
       "val a : string = \"MPSI\"\n",
       "val b : int = 2022\n"
      ]
     },
     "execution_count": 19,
     "metadata": {},
     "output_type": "execute_result"
    },
    {
     "data": {
      "text/plain": [
       "val u : string * int = (\"MPSI\", 2022)\n"
      ]
     },
     "execution_count": 19,
     "metadata": {},
     "output_type": "execute_result"
    }
   ],
   "source": [
    "let a, b = \"MPSI\", 2022;;\n",
    "let u = \"MPSI\", 2022;;"
   ]
  },
  {
   "cell_type": "markdown",
   "id": "412fef3a",
   "metadata": {
    "slideshow": {
     "slide_type": "slide"
    }
   },
   "source": [
    "# Définitions globales et locales\n",
    "En Caml, le mot-clé `let` permet d'attribuer un nom à une valeur."
   ]
  },
  {
   "cell_type": "code",
   "execution_count": 20,
   "id": "e920fd00",
   "metadata": {},
   "outputs": [
    {
     "data": {
      "text/plain": [
       "val n : int = 5\n"
      ]
     },
     "execution_count": 20,
     "metadata": {},
     "output_type": "execute_result"
    }
   ],
   "source": [
    "let n = 2 + 3;;"
   ]
  },
  {
   "cell_type": "code",
   "execution_count": 21,
   "id": "b3e3ea1a",
   "metadata": {
    "slideshow": {
     "slide_type": "-"
    }
   },
   "outputs": [
    {
     "data": {
      "text/plain": [
       "val n : int = 6\n"
      ]
     },
     "execution_count": 21,
     "metadata": {},
     "output_type": "execute_result"
    }
   ],
   "source": [
    "let n = n + 1;;"
   ]
  },
  {
   "cell_type": "markdown",
   "id": "15dac5a8",
   "metadata": {
    "slideshow": {
     "slide_type": "subslide"
    }
   },
   "source": [
    "Lorsqu'il lit une phrase `let `$x$ `= `$e$ `;;` où $x$ est un nom de variable et $e$ une expression, Caml évalue l'expression $e$ et ajoute dans l'environnement des variables l'association entre $x$ et la valeur de $e$.\n",
    "\n",
    "La syntaxe `let ` $x$ `= ` $e$ `in` permet de définir temporairement un nom uniquement pour le calcul courant."
   ]
  },
  {
   "cell_type": "code",
   "execution_count": 22,
   "id": "46f349fa",
   "metadata": {
    "slideshow": {
     "slide_type": "subslide"
    }
   },
   "outputs": [
    {
     "data": {
      "text/plain": [
       "val a : int = 5\n"
      ]
     },
     "execution_count": 22,
     "metadata": {},
     "output_type": "execute_result"
    }
   ],
   "source": [
    "let a = 5;;"
   ]
  },
  {
   "cell_type": "code",
   "execution_count": 23,
   "id": "51721659",
   "metadata": {},
   "outputs": [
    {
     "data": {
      "text/plain": [
       "- : int = 5\n"
      ]
     },
     "execution_count": 23,
     "metadata": {},
     "output_type": "execute_result"
    }
   ],
   "source": [
    "a;;"
   ]
  },
  {
   "cell_type": "code",
   "execution_count": 24,
   "id": "d7a200c2",
   "metadata": {
    "slideshow": {
     "slide_type": "subslide"
    }
   },
   "outputs": [
    {
     "data": {
      "text/plain": [
       "- : int = 4\n"
      ]
     },
     "execution_count": 24,
     "metadata": {},
     "output_type": "execute_result"
    }
   ],
   "source": [
    "let a = 3 in a + 1;;"
   ]
  },
  {
   "cell_type": "code",
   "execution_count": 25,
   "id": "095cb010",
   "metadata": {
    "slideshow": {
     "slide_type": "-"
    }
   },
   "outputs": [
    {
     "data": {
      "text/plain": [
       "- : int = 5\n"
      ]
     },
     "execution_count": 25,
     "metadata": {},
     "output_type": "execute_result"
    }
   ],
   "source": [
    "a;;"
   ]
  },
  {
   "cell_type": "markdown",
   "id": "fa0ef6a1",
   "metadata": {
    "slideshow": {
     "slide_type": "subslide"
    }
   },
   "source": [
    "Le mot-clé `and` permet les définitions multiples, mais les valeurs ne deviennent visibles qu'après toutes les déclarations simultanées."
   ]
  },
  {
   "cell_type": "code",
   "execution_count": 26,
   "id": "eaab5578",
   "metadata": {
    "slideshow": {
     "slide_type": "-"
    }
   },
   "outputs": [
    {
     "data": {
      "text/plain": [
       "val a : int = 3\n",
       "val b : int = 5\n"
      ]
     },
     "execution_count": 26,
     "metadata": {},
     "output_type": "execute_result"
    }
   ],
   "source": [
    "let a = 3 and b = 5;;"
   ]
  },
  {
   "cell_type": "code",
   "execution_count": 27,
   "id": "af1c0e24",
   "metadata": {
    "scrolled": true
   },
   "outputs": [
    {
     "ename": "error",
     "evalue": "compile_error",
     "output_type": "error",
     "traceback": [
      "File \"[27]\", line 1, characters 18-19:\n1 | let c = 2 and d = c + 1 ;;\n                      ^\nError: Unbound value c\n"
     ]
    }
   ],
   "source": [
    "let c = 2 and d = c + 1 ;;"
   ]
  },
  {
   "cell_type": "code",
   "execution_count": 28,
   "id": "73131548",
   "metadata": {
    "slideshow": {
     "slide_type": "-"
    }
   },
   "outputs": [
    {
     "data": {
      "text/plain": [
       "val c : int = 2\n"
      ]
     },
     "execution_count": 28,
     "metadata": {},
     "output_type": "execute_result"
    },
    {
     "data": {
      "text/plain": [
       "val d : int = 3\n"
      ]
     },
     "execution_count": 28,
     "metadata": {},
     "output_type": "execute_result"
    }
   ],
   "source": [
    "let c = 2 ;;\n",
    "let d = c + 1 ;;"
   ]
  },
  {
   "cell_type": "markdown",
   "id": "65aab832",
   "metadata": {
    "slideshow": {
     "slide_type": "slide"
    }
   },
   "source": [
    "# Expressions conditionnelles\n",
    "\n",
    "Une expression conditionnelle est une expression de la forme `if` $e_1$ `then` $e_2$ `else` $e_3$, où $e_1$ est une expression booléenne. Si la valeur de $e_1$ est `true`, l'expression $e_2$ est évaluée et sa valeur est retournée ; sinon, ce sera la valeur de $e_3$ qui sera retournée."
   ]
  },
  {
   "cell_type": "code",
   "execution_count": 29,
   "id": "d6cc362b",
   "metadata": {
    "slideshow": {
     "slide_type": "-"
    }
   },
   "outputs": [
    {
     "data": {
      "text/plain": [
       "val x : int = 2\n",
       "val y : int = 3\n"
      ]
     },
     "execution_count": 29,
     "metadata": {},
     "output_type": "execute_result"
    }
   ],
   "source": [
    "let x = 2 and y = 3;;"
   ]
  },
  {
   "cell_type": "code",
   "execution_count": 30,
   "id": "41128e2c",
   "metadata": {
    "slideshow": {
     "slide_type": "-"
    }
   },
   "outputs": [
    {
     "data": {
      "text/plain": [
       "val maxi : int = 3\n"
      ]
     },
     "execution_count": 30,
     "metadata": {},
     "output_type": "execute_result"
    }
   ],
   "source": [
    "let maxi = if x < y then y else x;;"
   ]
  },
  {
   "cell_type": "markdown",
   "id": "e90398a3",
   "metadata": {
    "slideshow": {
     "slide_type": "subslide"
    }
   },
   "source": [
    "### Exercice\n",
    "Que se passe-t-il lorsqu'on utilise l'expression conditionnelle suivante ?"
   ]
  },
  {
   "cell_type": "code",
   "execution_count": 31,
   "id": "6e48e1d8",
   "metadata": {
    "slideshow": {
     "slide_type": "-"
    }
   },
   "outputs": [
    {
     "ename": "error",
     "evalue": "compile_error",
     "output_type": "error",
     "traceback": [
      "File \"[31]\", line 1, characters 21-24:\n1 | if x > y then 3 else 1.2;;\n                         ^^^\nError: This expression has type float but an expression was expected of type\n         int\n"
     ]
    }
   ],
   "source": [
    "if x > y then 3 else 1.2;;"
   ]
  },
  {
   "cell_type": "markdown",
   "id": "0615f0ed",
   "metadata": {
    "slideshow": {
     "slide_type": "subslide"
    }
   },
   "source": [
    "### Exercice\n",
    "L'expression suivante est-elle acceptée par Caml ?"
   ]
  },
  {
   "cell_type": "code",
   "execution_count": 32,
   "id": "ee273e7b",
   "metadata": {},
   "outputs": [
    {
     "data": {
      "text/plain": [
       "- : int * int = (2, 3)\n"
      ]
     },
     "execution_count": 32,
     "metadata": {},
     "output_type": "execute_result"
    }
   ],
   "source": [
    "x, y"
   ]
  },
  {
   "cell_type": "code",
   "execution_count": 33,
   "id": "68004512",
   "metadata": {
    "slideshow": {
     "slide_type": "-"
    }
   },
   "outputs": [
    {
     "data": {
      "text/plain": [
       "val z : int = 6\n"
      ]
     },
     "execution_count": 33,
     "metadata": {},
     "output_type": "execute_result"
    }
   ],
   "source": [
    "let z = 3 + (if x < y then y else x);; (* x et y sont des entiers *)"
   ]
  },
  {
   "cell_type": "markdown",
   "id": "d660de10",
   "metadata": {
    "slideshow": {
     "slide_type": "slide"
    }
   },
   "source": [
    "# Fonctions\n",
    "## Expressions fonctionnelles\n",
    "En Caml, les fonctions ont un statut de première classe, c'est-à-dire qu'elles ont le même statut que les autres objets.\n",
    "\n",
    "Les valeurs fonctionnelles à une variable sont de la forme `fun` $v$ `-> ` $e$, où $v$ est un nom de variable et $e$ une expression.\n",
    "\n",
    "Pour construire une fonction nommée, on procède comme avec n'importe quelle autre objet, en utilisant ` let`.\n",
    "\n",
    "Pour appliquer une expression fonctionnelle $f$ à un argument $e$, on écrit tout simplement $f\\, e$."
   ]
  },
  {
   "cell_type": "code",
   "execution_count": 34,
   "id": "ccf28fa5",
   "metadata": {
    "slideshow": {
     "slide_type": "subslide"
    }
   },
   "outputs": [
    {
     "data": {
      "text/plain": [
       "- : int -> int = <fun>\n"
      ]
     },
     "execution_count": 34,
     "metadata": {},
     "output_type": "execute_result"
    }
   ],
   "source": [
    "fun x -> 2*x;;"
   ]
  },
  {
   "cell_type": "code",
   "execution_count": 35,
   "id": "c460f67a",
   "metadata": {},
   "outputs": [
    {
     "data": {
      "text/plain": [
       "val f : int -> int = <fun>\n"
      ]
     },
     "execution_count": 35,
     "metadata": {},
     "output_type": "execute_result"
    },
    {
     "data": {
      "text/plain": [
       "- : int = 16\n"
      ]
     },
     "execution_count": 35,
     "metadata": {},
     "output_type": "execute_result"
    }
   ],
   "source": [
    "let f = fun x -> x*x ;;\n",
    "\n",
    "f 4;;"
   ]
  },
  {
   "cell_type": "code",
   "execution_count": 36,
   "id": "87e27b90",
   "metadata": {},
   "outputs": [
    {
     "data": {
      "text/plain": [
       "- : int = 36\n"
      ]
     },
     "execution_count": 36,
     "metadata": {},
     "output_type": "execute_result"
    }
   ],
   "source": [
    " f (4+2)"
   ]
  },
  {
   "cell_type": "code",
   "execution_count": 37,
   "id": "101e62bf",
   "metadata": {},
   "outputs": [
    {
     "data": {
      "text/plain": [
       "- : int = 18\n"
      ]
     },
     "execution_count": 37,
     "metadata": {},
     "output_type": "execute_result"
    }
   ],
   "source": [
    "f 4 + 2;;"
   ]
  },
  {
   "cell_type": "code",
   "execution_count": 38,
   "id": "1d6211ec",
   "metadata": {
    "slideshow": {
     "slide_type": "-"
    }
   },
   "outputs": [
    {
     "data": {
      "text/plain": [
       "- : string = \"toto\"\n"
      ]
     },
     "execution_count": 38,
     "metadata": {},
     "output_type": "execute_result"
    }
   ],
   "source": [
    "(fun x -> x^x) \"to\";;"
   ]
  },
  {
   "cell_type": "markdown",
   "id": "8f334f22",
   "metadata": {
    "slideshow": {
     "slide_type": "subslide"
    }
   },
   "source": [
    "On remarque que Caml devine tout seul le type de la fonction sans l'exécuter (et sans qu'on lui indique le type de son argument).\n",
    "\n",
    "Par ailleurs, l'application d'une fonction est prioritaire : `f 4 + 2` est équivalent à `(f 4) + 2`.\n",
    "\n",
    "Dans le cas des fonctions nommées, on dispose d'une syntaxe alternative :"
   ]
  },
  {
   "cell_type": "code",
   "execution_count": 39,
   "id": "cdc888f8",
   "metadata": {
    "slideshow": {
     "slide_type": "-"
    }
   },
   "outputs": [
    {
     "data": {
      "text/plain": [
       "val g : int -> int = <fun>\n"
      ]
     },
     "execution_count": 39,
     "metadata": {},
     "output_type": "execute_result"
    }
   ],
   "source": [
    "let g x = x + 1;;"
   ]
  },
  {
   "cell_type": "markdown",
   "id": "d84eb4cd",
   "metadata": {
    "slideshow": {
     "slide_type": "subslide"
    }
   },
   "source": [
    "## Fonctions à plusieurs variables\n",
    "\n",
    "La manière naturelle de construire une fonction à plusieurs variables en Caml est d'utiliser l'expression `fun` $v_1$ $v_2$ ... $v_n$ `-> ` $e$, où $v_1$,...,$v_n$ sont des noms de variables et $e$ une expression. On dispose d'une autre syntaxe possible dans le cas d'une fonction nommée."
   ]
  },
  {
   "cell_type": "code",
   "execution_count": 40,
   "id": "7ada20a4",
   "metadata": {
    "slideshow": {
     "slide_type": "-"
    }
   },
   "outputs": [
    {
     "data": {
      "text/plain": [
       "- : int -> int -> int = <fun>\n"
      ]
     },
     "execution_count": 40,
     "metadata": {},
     "output_type": "execute_result"
    }
   ],
   "source": [
    "fun x y -> x / y;;"
   ]
  },
  {
   "cell_type": "code",
   "execution_count": 41,
   "id": "223cc2fc",
   "metadata": {
    "slideshow": {
     "slide_type": "-"
    }
   },
   "outputs": [
    {
     "data": {
      "text/plain": [
       "val p : int -> int -> int = <fun>\n"
      ]
     },
     "execution_count": 41,
     "metadata": {},
     "output_type": "execute_result"
    }
   ],
   "source": [
    "let p = fun x y -> x*y;;"
   ]
  },
  {
   "cell_type": "code",
   "execution_count": 42,
   "id": "3e82626d",
   "metadata": {
    "slideshow": {
     "slide_type": "-"
    }
   },
   "outputs": [
    {
     "data": {
      "text/plain": [
       "val p : int -> int -> int = <fun>\n"
      ]
     },
     "execution_count": 42,
     "metadata": {},
     "output_type": "execute_result"
    }
   ],
   "source": [
    "let p x y = x*y;;"
   ]
  },
  {
   "cell_type": "markdown",
   "id": "6c795f49",
   "metadata": {
    "slideshow": {
     "slide_type": "subslide"
    }
   },
   "source": [
    "Il y a en fait un autre moyen d'écrire une fonction à plusieurs variables, en utilisant un produit cartésien :"
   ]
  },
  {
   "cell_type": "code",
   "execution_count": 43,
   "id": "9e6fcac8",
   "metadata": {
    "slideshow": {
     "slide_type": "-"
    }
   },
   "outputs": [
    {
     "data": {
      "text/plain": [
       "val somme1 : int -> int -> int = <fun>\n"
      ]
     },
     "execution_count": 43,
     "metadata": {},
     "output_type": "execute_result"
    }
   ],
   "source": [
    "let somme1 = fun x y -> x + y;;"
   ]
  },
  {
   "cell_type": "code",
   "execution_count": 44,
   "id": "6d7dc5a0",
   "metadata": {
    "slideshow": {
     "slide_type": "-"
    }
   },
   "outputs": [
    {
     "data": {
      "text/plain": [
       "val somme2 : int * int -> int = <fun>\n"
      ]
     },
     "execution_count": 44,
     "metadata": {},
     "output_type": "execute_result"
    }
   ],
   "source": [
    "let somme2 = fun (x, y) -> x + y;;"
   ]
  },
  {
   "cell_type": "markdown",
   "id": "a2ccc248",
   "metadata": {
    "slideshow": {
     "slide_type": "subslide"
    }
   },
   "source": [
    "On remarque que ces deux fonctions ont des types différents.\n",
    "- La fonction `somme2` est en fait une fonction à une seule variable, de type composé.\n",
    "- La fonction `somme1` est considérée comme la cascade $x \\mapsto (y \\mapsto (x+y))$. Cette façon d'écrire la fonction est appelée la version *curryfiée*. Il est alors possible de définir des fonctions partielles :"
   ]
  },
  {
   "cell_type": "code",
   "execution_count": 45,
   "id": "f0ed3508",
   "metadata": {
    "slideshow": {
     "slide_type": "-"
    }
   },
   "outputs": [
    {
     "data": {
      "text/plain": [
       "val incremente : int -> int = <fun>\n"
      ]
     },
     "execution_count": 45,
     "metadata": {},
     "output_type": "execute_result"
    }
   ],
   "source": [
    "let incremente = somme1 1;;"
   ]
  },
  {
   "cell_type": "code",
   "execution_count": 46,
   "id": "86c1fe76",
   "metadata": {
    "slideshow": {
     "slide_type": "-"
    }
   },
   "outputs": [
    {
     "data": {
      "text/plain": [
       "- : int = 4\n"
      ]
     },
     "execution_count": 46,
     "metadata": {},
     "output_type": "execute_result"
    }
   ],
   "source": [
    "incremente 3;;"
   ]
  },
  {
   "cell_type": "markdown",
   "id": "123cf6bd",
   "metadata": {
    "slideshow": {
     "slide_type": "-"
    }
   },
   "source": [
    "Sauf très bonne raison de faire autrement, on préférera systématiquement la version curryfiée."
   ]
  },
  {
   "cell_type": "markdown",
   "id": "2d1c61c8",
   "metadata": {
    "slideshow": {
     "slide_type": "subslide"
    }
   },
   "source": [
    "## Fonctions récursives\n",
    "Considérons la fonction `fact` définie ci-dessous :"
   ]
  },
  {
   "cell_type": "code",
   "execution_count": 47,
   "id": "91981e1b",
   "metadata": {
    "slideshow": {
     "slide_type": "-"
    }
   },
   "outputs": [
    {
     "data": {
      "text/plain": [
       "val fact : int -> int = <fun>\n"
      ]
     },
     "execution_count": 47,
     "metadata": {},
     "output_type": "execute_result"
    }
   ],
   "source": [
    "let rec fact n =\n",
    "  if n = 0\n",
    "  then 1\n",
    "  else n * fact (n-1)\n",
    "  ;;"
   ]
  },
  {
   "cell_type": "markdown",
   "id": "5fabcd51",
   "metadata": {
    "slideshow": {
     "slide_type": "-"
    }
   },
   "source": [
    "Le mot-clé `rec` indique que nous avons défini un objet *récursif*, c'est-à-dire un objet dont le nom intervient dans sa propre définition. Nous approfondirons ultérieurement la notion de fonctions récursives (notamment  en termes de terminaison et de complexité)."
   ]
  },
  {
   "cell_type": "markdown",
   "id": "6b994e64",
   "metadata": {
    "slideshow": {
     "slide_type": "subslide"
    }
   },
   "source": [
    "### Exercice\n",
    "1. Quel est le type de la fonction `fact` ?\n",
    "2.  Pour quelles valeurs de `n` la fonction termine-t-elle ? Quelle est le nombre de multiplications effectuées dans ce cas ?\n",
    "3. Comment expliquer le résultat suivant ?"
   ]
  },
  {
   "cell_type": "code",
   "execution_count": 48,
   "id": "d7caa5ff",
   "metadata": {
    "slideshow": {
     "slide_type": "-"
    }
   },
   "outputs": [
    {
     "data": {
      "text/plain": [
       "- : int = 0\n"
      ]
     },
     "execution_count": 48,
     "metadata": {},
     "output_type": "execute_result"
    }
   ],
   "source": [
    "fact 64;;"
   ]
  },
  {
   "cell_type": "markdown",
   "id": "16094395",
   "metadata": {
    "slideshow": {
     "slide_type": "subslide"
    }
   },
   "source": [
    "Il est aussi possible de définir deux fonctions mutuellement récursives à l'aide du mot-clé `and` :"
   ]
  },
  {
   "cell_type": "code",
   "execution_count": 49,
   "id": "29cef7a3",
   "metadata": {
    "slideshow": {
     "slide_type": "-"
    }
   },
   "outputs": [
    {
     "data": {
      "text/plain": [
       "val u : int -> int = <fun>\n",
       "val v : int -> int = <fun>\n"
      ]
     },
     "execution_count": 49,
     "metadata": {},
     "output_type": "execute_result"
    }
   ],
   "source": [
    "let rec u n =\n",
    "  if n = 0 then 1 else 3*u(n-1) + 2*v(n-1)\n",
    "and v n =\n",
    "  if n = 0 then 2 else 2*u(n-1) + 3*v(n-1)\n",
    ";;"
   ]
  },
  {
   "cell_type": "markdown",
   "id": "a2e99619",
   "metadata": {
    "slideshow": {
     "slide_type": "subslide"
    }
   },
   "source": [
    "## Polymorphisme\n",
    "On a constaté que Caml est capable de reconnaître automatiquement le type d'une fonction. Par exemple, pour la fonction `fun x y -> x + y`, la présence de l'opérateur `+` permet d'associer à cette fonction le type `int -> int -> int`.\n",
    "\n",
    "Il peut en revanche arriver qu'une fonction puisse s'appliquer indifféremment à tous les types ; on dit alors que la fonction est *polymorphe*. Caml utilise alors les symboles `'a`, `'b`, `'c`,... pour désigner des types quelconques."
   ]
  },
  {
   "cell_type": "code",
   "execution_count": 50,
   "id": "09f65043",
   "metadata": {
    "slideshow": {
     "slide_type": "-"
    }
   },
   "outputs": [
    {
     "data": {
      "text/plain": [
       "val premier : 'a * 'b -> 'a = <fun>\n"
      ]
     },
     "execution_count": 50,
     "metadata": {},
     "output_type": "execute_result"
    }
   ],
   "source": [
    "let premier = fun (x, y) -> x;;"
   ]
  },
  {
   "cell_type": "code",
   "execution_count": 51,
   "id": "12f1aa73",
   "metadata": {
    "slideshow": {
     "slide_type": "-"
    }
   },
   "outputs": [
    {
     "data": {
      "text/plain": [
       "val compose : ('a -> 'b) -> ('c -> 'a) -> 'c -> 'b = <fun>\n"
      ]
     },
     "execution_count": 51,
     "metadata": {},
     "output_type": "execute_result"
    }
   ],
   "source": [
    "let compose f g = fun x -> f (g x);;"
   ]
  },
  {
   "cell_type": "markdown",
   "id": "a7c1e717",
   "metadata": {
    "slideshow": {
     "slide_type": "slide"
    }
   },
   "source": [
    "# Filtrage\n",
    "Dans les fonctions précédentes, on distingue deux cas, pour lesquels on calcule de manières différente la valeur à renvoyer. Ces deux cas portent sur la valeur de `n`. Il est alors possible d'utiliser une construction très puissante nommée *filtrage*. \n",
    "\n",
    "\n",
    "Pour tester la parité d'un entier naturel, on pourrait par exemple écrire la fonction `est_pair` suivante (très inefficace...)"
   ]
  },
  {
   "cell_type": "code",
   "execution_count": 52,
   "id": "42a56a8c",
   "metadata": {
    "slideshow": {
     "slide_type": "-"
    }
   },
   "outputs": [
    {
     "data": {
      "text/plain": [
       "val est_pair : int -> bool = <fun>\n"
      ]
     },
     "execution_count": 52,
     "metadata": {},
     "output_type": "execute_result"
    }
   ],
   "source": [
    "let rec est_pair n =\n",
    "  match n with\n",
    "  | 0 -> true\n",
    "  | 1 -> false\n",
    "  | _ -> est_pair (n-2)\n",
    ";;"
   ]
  },
  {
   "cell_type": "markdown",
   "id": "b94f337b",
   "metadata": {
    "slideshow": {
     "slide_type": "subslide"
    }
   },
   "source": [
    "Chaque cas de filtrage est formé d'un *motif*, suivi d'une flèche, suivi d'une\n",
    "expression. On a ici trois cas de filtrage. On considère leurs motifs\n",
    "un par un, jusqu'à en trouver un qui *filtre* la valeur $n$. On\n",
    "exécute alors l'expression à droite de la flèche correspondante et on\n",
    "renvoie sa valeur.\n",
    "\n",
    "Le premier cas de filtrage a pour motif `0`. Si `n` vaut\n",
    "$0$, on dit que ce motif filtre $n$, auquel cas on renvoie `true`.\n",
    "\n",
    "Le second cas a pour motif `1`. Si `n` vaut $1$, on dit\n",
    "que ce motif filtre $n$, auquel cas on renvoie `false`.\n",
    "\n",
    "Le troisième cas a pour motif `_`. Ce motif filtre toute\n",
    "valeur. Si $n$ n'a été pas été filtré par un des deux motifs\n",
    "précédents, il est filtré par celui-ci. On exécute alors l'expression\n",
    "à droite de la flèche, et on renvoie la valeur ainsi calculée."
   ]
  },
  {
   "cell_type": "markdown",
   "id": "786028d6",
   "metadata": {
    "slideshow": {
     "slide_type": "subslide"
    }
   },
   "source": [
    "### Exercice\n",
    "\n",
    "Comment interpréter l'avertissement et le résultat de l'appel dans les lignes suivantes ?"
   ]
  },
  {
   "cell_type": "code",
   "execution_count": 53,
   "id": "cda7cd10",
   "metadata": {
    "slideshow": {
     "slide_type": "-"
    }
   },
   "outputs": [
    {
     "name": "stderr",
     "output_type": "stream",
     "text": [
      "File \"[53]\", line 4, characters 3-4:\n",
      "4 |   |_ -> false;;\n",
      "       ^\n",
      "Warning 11: this match case is unused.\n"
     ]
    },
    {
     "data": {
      "text/plain": [
       "val eq : 'a -> 'b -> bool = <fun>\n"
      ]
     },
     "execution_count": 53,
     "metadata": {},
     "output_type": "execute_result"
    }
   ],
   "source": [
    "let eq x y =\n",
    "  match y with\n",
    "  |x -> true\n",
    "  |_ -> false;;"
   ]
  },
  {
   "cell_type": "code",
   "execution_count": 54,
   "id": "9988dee8",
   "metadata": {
    "slideshow": {
     "slide_type": "-"
    }
   },
   "outputs": [
    {
     "data": {
      "text/plain": [
       "- : bool = true\n"
      ]
     },
     "execution_count": 54,
     "metadata": {},
     "output_type": "execute_result"
    }
   ],
   "source": [
    "eq 2 3;;"
   ]
  },
  {
   "cell_type": "markdown",
   "id": "74381e6f",
   "metadata": {
    "slideshow": {
     "slide_type": "slide"
    }
   },
   "source": [
    "# Exercices divers\n",
    "\n",
    "## Exercice 1\n",
    "Prévoir les réponses de l'interprète de commandes après la suite de définitions suivantes :"
   ]
  },
  {
   "cell_type": "code",
   "execution_count": 55,
   "id": "212bd05b",
   "metadata": {
    "slideshow": {
     "slide_type": "-"
    }
   },
   "outputs": [
    {
     "data": {
      "text/plain": [
       "val a : int = 1\n"
      ]
     },
     "execution_count": 55,
     "metadata": {},
     "output_type": "execute_result"
    }
   ],
   "source": [
    "let a = 1;;"
   ]
  },
  {
   "cell_type": "code",
   "execution_count": 56,
   "id": "31d5d4b4",
   "metadata": {
    "slideshow": {
     "slide_type": "-"
    }
   },
   "outputs": [
    {
     "data": {
      "text/plain": [
       "val f : int -> int = <fun>\n"
      ]
     },
     "execution_count": 56,
     "metadata": {},
     "output_type": "execute_result"
    }
   ],
   "source": [
    "let f x = a * x;;"
   ]
  },
  {
   "cell_type": "code",
   "execution_count": 57,
   "id": "9703666a",
   "metadata": {
    "slideshow": {
     "slide_type": "-"
    }
   },
   "outputs": [
    {
     "name": "stderr",
     "output_type": "stream",
     "text": [
      "File \"[57]\", line 1, characters 4-5:\n",
      "1 | let a = 2 in f 1;;\n",
      "        ^\n",
      "Warning 26: unused variable a.\n"
     ]
    },
    {
     "data": {
      "text/plain": [
       "- : int = 1\n"
      ]
     },
     "execution_count": 57,
     "metadata": {},
     "output_type": "execute_result"
    }
   ],
   "source": [
    "let a = 2 in f 1;;"
   ]
  },
  {
   "cell_type": "code",
   "execution_count": 58,
   "id": "fdd2f794",
   "metadata": {
    "slideshow": {
     "slide_type": "-"
    }
   },
   "outputs": [
    {
     "data": {
      "text/plain": [
       "val a : int = 3\n",
       "val f : int -> int = <fun>\n"
      ]
     },
     "execution_count": 58,
     "metadata": {},
     "output_type": "execute_result"
    }
   ],
   "source": [
    "let a = 3 and f x = a * x;;"
   ]
  },
  {
   "cell_type": "code",
   "execution_count": 59,
   "id": "4ed45a3d",
   "metadata": {
    "slideshow": {
     "slide_type": "-"
    }
   },
   "outputs": [
    {
     "data": {
      "text/plain": [
       "- : int = 1\n"
      ]
     },
     "execution_count": 59,
     "metadata": {},
     "output_type": "execute_result"
    }
   ],
   "source": [
    "f 1;;"
   ]
  },
  {
   "cell_type": "markdown",
   "id": "16b64d63",
   "metadata": {
    "slideshow": {
     "slide_type": "subslide"
    }
   },
   "source": [
    "## Exercice 2\n",
    "Donner une expression Caml dont le type est :\n",
    "\n",
    "-  `int -> int -> int`"
   ]
  },
  {
   "cell_type": "code",
   "execution_count": 60,
   "id": "e6cf9fc1",
   "metadata": {},
   "outputs": [
    {
     "data": {
      "text/plain": [
       "val f : int -> int -> int = <fun>\n"
      ]
     },
     "execution_count": 60,
     "metadata": {},
     "output_type": "execute_result"
    }
   ],
   "source": [
    "let f x y = x + y;;"
   ]
  },
  {
   "cell_type": "markdown",
   "id": "1509048f",
   "metadata": {
    "slideshow": {
     "slide_type": "subslide"
    }
   },
   "source": [
    "-  `(int * int) -> int`"
   ]
  },
  {
   "cell_type": "code",
   "execution_count": 61,
   "id": "b88ffa53",
   "metadata": {},
   "outputs": [
    {
     "data": {
      "text/plain": [
       "val f : int * int -> int = <fun>\n"
      ]
     },
     "execution_count": 61,
     "metadata": {},
     "output_type": "execute_result"
    }
   ],
   "source": [
    "let f (x,y) = x*y;;"
   ]
  },
  {
   "cell_type": "markdown",
   "id": "a7a78e9b",
   "metadata": {
    "slideshow": {
     "slide_type": "subslide"
    }
   },
   "source": [
    "- `int -> (int * int)`"
   ]
  },
  {
   "cell_type": "code",
   "execution_count": 62,
   "id": "5b400dbf",
   "metadata": {
    "slideshow": {
     "slide_type": "-"
    }
   },
   "outputs": [
    {
     "data": {
      "text/plain": [
       "val f : int -> int * int = <fun>\n"
      ]
     },
     "execution_count": 62,
     "metadata": {},
     "output_type": "execute_result"
    }
   ],
   "source": [
    "let f a = (a, a+1);;"
   ]
  },
  {
   "cell_type": "markdown",
   "id": "df259c91",
   "metadata": {
    "slideshow": {
     "slide_type": "-"
    }
   },
   "source": [
    "-  `(int -> int) -> int`"
   ]
  },
  {
   "cell_type": "code",
   "execution_count": 63,
   "id": "3a0db201",
   "metadata": {
    "slideshow": {
     "slide_type": "-"
    }
   },
   "outputs": [
    {
     "data": {
      "text/plain": [
       "val f : (int -> int) -> int = <fun>\n"
      ]
     },
     "execution_count": 63,
     "metadata": {},
     "output_type": "execute_result"
    }
   ],
   "source": [
    "let f g = 1 + g 0;;"
   ]
  },
  {
   "cell_type": "code",
   "execution_count": 64,
   "id": "a690ff1a",
   "metadata": {
    "slideshow": {
     "slide_type": "subslide"
    }
   },
   "outputs": [
    {
     "ename": "error",
     "evalue": "compile_error",
     "output_type": "error",
     "traceback": [
      "File \"[64]\", line 1, characters 0-3:\n1 | gfh\n    ^^^\nError: Unbound value gfh\n"
     ]
    }
   ],
   "source": [
    "gfh"
   ]
  },
  {
   "cell_type": "markdown",
   "id": "e573ab9c",
   "metadata": {
    "slideshow": {
     "slide_type": "subslide"
    }
   },
   "source": [
    "- `int -> (int -> int)`"
   ]
  },
  {
   "cell_type": "code",
   "execution_count": 65,
   "id": "d7190e9c",
   "metadata": {
    "slideshow": {
     "slide_type": "-"
    }
   },
   "outputs": [
    {
     "data": {
      "text/plain": [
       "val f : int -> int -> int = <fun>\n"
      ]
     },
     "execution_count": 65,
     "metadata": {},
     "output_type": "execute_result"
    }
   ],
   "source": [
    "let f x = \n",
    "   let g = fun y -> x + y in\n",
    "   g ;;"
   ]
  },
  {
   "cell_type": "markdown",
   "id": "86026054",
   "metadata": {
    "slideshow": {
     "slide_type": "subslide"
    }
   },
   "source": [
    "- `int -> (int -> int) -> int`"
   ]
  },
  {
   "cell_type": "code",
   "execution_count": 66,
   "id": "56c94caa",
   "metadata": {
    "slideshow": {
     "slide_type": "-"
    }
   },
   "outputs": [
    {
     "data": {
      "text/plain": [
       "val f : int -> (int -> int) -> int = <fun>\n"
      ]
     },
     "execution_count": 66,
     "metadata": {},
     "output_type": "execute_result"
    }
   ],
   "source": [
    "let f x g = (g (x+1)) + 1;;"
   ]
  },
  {
   "cell_type": "markdown",
   "id": "e2248578",
   "metadata": {
    "slideshow": {
     "slide_type": "subslide"
    }
   },
   "source": [
    "## Exercice 3\n",
    "Quelle est le type des expressions suivantes ?\n",
    "\n",
    "- `fun x y z -> x y z;;`\n",
    "- `fun x y z -> x (y z);;`\n",
    "- `fun x y z -> (x y) + (x z);;`"
   ]
  },
  {
   "cell_type": "code",
   "execution_count": 67,
   "id": "55a21630",
   "metadata": {},
   "outputs": [
    {
     "data": {
      "text/plain": [
       "- : ('a -> 'b -> 'c) -> 'a -> 'b -> 'c = <fun>\n"
      ]
     },
     "execution_count": 67,
     "metadata": {},
     "output_type": "execute_result"
    }
   ],
   "source": [
    "fun x y z -> x y z;;"
   ]
  },
  {
   "cell_type": "code",
   "execution_count": 68,
   "id": "722b1d04",
   "metadata": {},
   "outputs": [
    {
     "data": {
      "text/plain": [
       "- : ('a -> 'b) -> ('c -> 'a) -> 'c -> 'b = <fun>\n"
      ]
     },
     "execution_count": 68,
     "metadata": {},
     "output_type": "execute_result"
    }
   ],
   "source": [
    "fun x y z -> x (y z);;"
   ]
  },
  {
   "cell_type": "code",
   "execution_count": 69,
   "id": "7f69a308",
   "metadata": {},
   "outputs": [
    {
     "data": {
      "text/plain": [
       "- : ('a -> int) -> 'a -> 'a -> int = <fun>\n"
      ]
     },
     "execution_count": 69,
     "metadata": {},
     "output_type": "execute_result"
    }
   ],
   "source": [
    "fun x y z -> (x y) + (x z);;"
   ]
  },
  {
   "cell_type": "code",
   "execution_count": 70,
   "id": "5e8b058a",
   "metadata": {},
   "outputs": [
    {
     "data": {
      "text/plain": [
       "val somme1 : int -> int -> int = <fun>\n"
      ]
     },
     "execution_count": 70,
     "metadata": {},
     "output_type": "execute_result"
    },
    {
     "data": {
      "text/plain": [
       "val somme2 : int * int -> int = <fun>\n"
      ]
     },
     "execution_count": 70,
     "metadata": {},
     "output_type": "execute_result"
    }
   ],
   "source": [
    "let somme1 x y = x + y;;\n",
    "let somme2 (x, y) = x + y;;"
   ]
  },
  {
   "cell_type": "markdown",
   "id": "bcc0be11",
   "metadata": {},
   "source": [
    "## Exercice 4\n",
    "- Écrire la fonction `curry` qui prend en argument une fonction ayant deux paramètres parenthésés et la transforme en une fonction non parenthésée. Quelle est son type ?"
   ]
  },
  {
   "cell_type": "code",
   "execution_count": 71,
   "id": "62806203",
   "metadata": {},
   "outputs": [
    {
     "data": {
      "text/plain": [
       "val curry : ('a * 'b -> 'c) -> 'a -> 'b -> 'c = <fun>\n"
      ]
     },
     "execution_count": 71,
     "metadata": {},
     "output_type": "execute_result"
    },
    {
     "data": {
      "text/plain": [
       "val curry : ('a * 'b -> 'c) -> 'a -> 'b -> 'c = <fun>\n"
      ]
     },
     "execution_count": 71,
     "metadata": {},
     "output_type": "execute_result"
    },
    {
     "data": {
      "text/plain": [
       "val curry : ('a * 'b -> 'c) -> 'a -> 'b -> 'c = <fun>\n"
      ]
     },
     "execution_count": 71,
     "metadata": {},
     "output_type": "execute_result"
    }
   ],
   "source": [
    "let curry f =\n",
    "  fun x y -> f (x,y)\n",
    ";;\n",
    "let curry f = \n",
    "  let g x y = f (x,y) in\n",
    "  g\n",
    ";;\n",
    "let curry f x y = f (x,y);;"
   ]
  },
  {
   "cell_type": "markdown",
   "id": "c816539a",
   "metadata": {},
   "source": [
    "- Écrire la fonction réciproque `uncurry`. Quelle est son type ?"
   ]
  },
  {
   "cell_type": "code",
   "execution_count": 72,
   "id": "8e13a0cd",
   "metadata": {},
   "outputs": [
    {
     "data": {
      "text/plain": [
       "val uncurry : ('a -> 'b -> 'c) -> 'a * 'b -> 'c = <fun>\n"
      ]
     },
     "execution_count": 72,
     "metadata": {},
     "output_type": "execute_result"
    },
    {
     "data": {
      "text/plain": [
       "val uncurry : ('a -> 'b -> 'c) -> 'a * 'b -> 'c = <fun>\n"
      ]
     },
     "execution_count": 72,
     "metadata": {},
     "output_type": "execute_result"
    },
    {
     "data": {
      "text/plain": [
       "- : int * int -> int = <fun>\n"
      ]
     },
     "execution_count": 72,
     "metadata": {},
     "output_type": "execute_result"
    }
   ],
   "source": [
    "let uncurry f = fun (x, y) -> f x y;;\n",
    "let uncurry f (x,y) = f x y ;;\n",
    "uncurry somme1;;"
   ]
  },
  {
   "cell_type": "markdown",
   "id": "70c1d62e",
   "metadata": {
    "slideshow": {
     "slide_type": "subslide"
    }
   },
   "source": [
    "## Exercice 5\n",
    "Donner trois fonctions Caml calculant les coefficients du binôme $\\displaystyle \\begin{pmatrix} n \\\\ p \\end{pmatrix}$ à l'aide des méthodes suivantes :\n",
    "\n",
    "- avec la formule : $\\displaystyle \\begin{pmatrix} n \\\\ p \\end{pmatrix} = \\frac{n!}{p!(n-p)!}$"
   ]
  },
  {
   "cell_type": "code",
   "execution_count": 73,
   "id": "554f462d",
   "metadata": {
    "slideshow": {
     "slide_type": "-"
    }
   },
   "outputs": [
    {
     "data": {
      "text/plain": [
       "val fact : int -> int = <fun>\n"
      ]
     },
     "execution_count": 73,
     "metadata": {},
     "output_type": "execute_result"
    },
    {
     "data": {
      "text/plain": [
       "val binom : int -> int -> int = <fun>\n"
      ]
     },
     "execution_count": 73,
     "metadata": {},
     "output_type": "execute_result"
    },
    {
     "data": {
      "text/plain": [
       "- : int = 6\n"
      ]
     },
     "execution_count": 73,
     "metadata": {},
     "output_type": "execute_result"
    }
   ],
   "source": [
    "let rec fact n =\n",
    "  if n < 0 then failwith \"négatif !!!!!!\"\n",
    "  else\n",
    "  match n with\n",
    "  | 0 -> 1\n",
    "  | _ -> n * fact (n-1)\n",
    ";;\n",
    "\n",
    "let binom n p = \n",
    "   if n < 0 \n",
    "   then failwith \"Pas permis !!!!!\"\n",
    "   else\n",
    "     if p > n || p < 0\n",
    "     then 0\n",
    "     else fact n / (fact p * fact (n-p))\n",
    "   ;;\n",
    "   \n",
    "binom 4 2;;"
   ]
  },
  {
   "cell_type": "markdown",
   "id": "9c026515",
   "metadata": {
    "slideshow": {
     "slide_type": "subslide"
    }
   },
   "source": [
    "- avec la relation : $\\displaystyle \\begin{pmatrix} n \\\\ p \\end{pmatrix} = \\begin{pmatrix} n-1 \\\\ p-1 \\end{pmatrix}+\\begin{pmatrix} n-1 \\\\ p \\end{pmatrix}$"
   ]
  },
  {
   "cell_type": "code",
   "execution_count": 74,
   "id": "8dcbb084",
   "metadata": {
    "slideshow": {
     "slide_type": "-"
    }
   },
   "outputs": [
    {
     "data": {
      "text/plain": [
       "val binom2 : int -> int -> int = <fun>\n"
      ]
     },
     "execution_count": 74,
     "metadata": {},
     "output_type": "execute_result"
    },
    {
     "data": {
      "text/plain": [
       "val binom2 : int -> int -> int = <fun>\n"
      ]
     },
     "execution_count": 74,
     "metadata": {},
     "output_type": "execute_result"
    },
    {
     "data": {
      "text/plain": [
       "val binom2 : int -> int -> int = <fun>\n"
      ]
     },
     "execution_count": 74,
     "metadata": {},
     "output_type": "execute_result"
    }
   ],
   "source": [
    "let rec binom2 n p =\n",
    "  if p < 0 || p > n\n",
    "  then 0\n",
    "  else \n",
    "    if n = 0\n",
    "    then if p = 0 then 1 else 0\n",
    "    else binom2 (n-1) (p-1) + binom2 (n-1) p\n",
    "    ;;\n",
    "let rec binom2 n p =\n",
    "  if p < 0 || p > n\n",
    "  then 0\n",
    "  else \n",
    "    match n, p with\n",
    "    | 0, 0 -> 1\n",
    "    | 0, _ -> 0\n",
    "    | _ -> binom2 (n-1) (p-1) + binom2 (n-1) p\n",
    "    ;;\n",
    "let rec binom2 n p =\n",
    "  match n, p with\n",
    "    | n, p when p < 0 || p > n -> 0\n",
    "    | 0, 0 -> 1\n",
    "    | 0, _ -> 0\n",
    "    | _ -> binom2 (n-1) (p-1) + binom2 (n-1) p\n",
    "    ;;"
   ]
  },
  {
   "cell_type": "markdown",
   "id": "18e9600d",
   "metadata": {
    "slideshow": {
     "slide_type": "subslide"
    }
   },
   "source": [
    "- avec la relation : $\\displaystyle \\begin{pmatrix} n \\\\ p \\end{pmatrix} = \\frac{n}{p}\\begin{pmatrix} n-1 \\\\ p-1 \\end{pmatrix}$"
   ]
  },
  {
   "cell_type": "code",
   "execution_count": 75,
   "id": "10775e41",
   "metadata": {
    "slideshow": {
     "slide_type": "-"
    }
   },
   "outputs": [
    {
     "data": {
      "text/plain": [
       "val binom3 : int -> int -> int = <fun>\n"
      ]
     },
     "execution_count": 75,
     "metadata": {},
     "output_type": "execute_result"
    },
    {
     "data": {
      "text/plain": [
       "- : int = 10\n"
      ]
     },
     "execution_count": 75,
     "metadata": {},
     "output_type": "execute_result"
    }
   ],
   "source": [
    "let rec binom3 n p =\n",
    "  match n, p with\n",
    "    | n, p when p < 0 || p > n -> 0\n",
    "    | _, 0 -> 1\n",
    "    | 0, _ -> 0\n",
    "    | _ -> n* binom3 (n-1) (p-1)/p\n",
    "    ;;\n",
    "binom3 5 2 ;;"
   ]
  }
 ],
 "metadata": {
  "celltoolbar": "Diaporama",
  "kernelspec": {
   "display_name": "OCaml default",
   "language": "OCaml",
   "name": "ocaml-jupyter"
  },
  "language_info": {
   "codemirror_mode": "text/x-ocaml",
   "file_extension": ".ml",
   "mimetype": "text/x-ocaml",
   "name": "OCaml",
   "nbconverter_exporter": null,
   "pygments_lexer": "OCaml",
   "version": "4.08.1"
  },
  "latex_envs": {
   "LaTeX_envs_menu_present": true,
   "autoclose": false,
   "autocomplete": true,
   "bibliofile": "biblio.bib",
   "cite_by": "apalike",
   "current_citInitial": 1,
   "eqLabelWithNumbers": true,
   "eqNumInitial": 1,
   "hotkeys": {
    "equation": "Ctrl-E",
    "itemize": "Ctrl-I"
   },
   "labels_anchors": false,
   "latex_user_defs": false,
   "report_style_numbering": true,
   "user_envs_cfg": true
  }
 },
 "nbformat": 4,
 "nbformat_minor": 5
}
