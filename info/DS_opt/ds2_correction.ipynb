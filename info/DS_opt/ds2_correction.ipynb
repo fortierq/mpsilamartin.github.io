{
 "cells": [
  {
   "cell_type": "markdown",
   "id": "6bbb4bee",
   "metadata": {},
   "source": [
    "# Problème 1"
   ]
  },
  {
   "cell_type": "markdown",
   "id": "6ef1fc30",
   "metadata": {},
   "source": [
    "## Algorithme d'insertion dans un arbre binaire"
   ]
  },
  {
   "cell_type": "code",
   "execution_count": 2,
   "id": "b7552eb0",
   "metadata": {},
   "outputs": [
    {
     "data": {
      "text/plain": [
       "type 'a arbre = Vide | Noeud of 'a arbre * 'a * 'a arbre\n"
      ]
     },
     "execution_count": 2,
     "metadata": {},
     "output_type": "execute_result"
    }
   ],
   "source": [
    "type 'a arbre = Vide | Noeud of 'a arbre * 'a * 'a arbre"
   ]
  },
  {
   "cell_type": "code",
   "execution_count": 3,
   "id": "76a01a3b",
   "metadata": {},
   "outputs": [
    {
     "data": {
      "text/plain": [
       "val insertion_lettre : 'a -> 'a arbre -> 'a arbre = <fun>\n"
      ]
     },
     "execution_count": 3,
     "metadata": {},
     "output_type": "execute_result"
    }
   ],
   "source": [
    "let rec insertion_lettre a t = \n",
    "  match t with\n",
    "  | Vide -> Noeud(Vide,a,Vide)\n",
    "  | Noeud(tg, r, td) when r <= a -> Noeud(tg, r, insertion_lettre a td)\n",
    "  | Noeud(tg, r, td) -> Noeud(insertion_lettre a tg, r, td);;"
   ]
  },
  {
   "cell_type": "code",
   "execution_count": 6,
   "id": "65c96e73",
   "metadata": {},
   "outputs": [
    {
     "data": {
      "text/plain": [
       "val insertion_mot : 'a list -> 'a arbre -> 'a arbre = <fun>\n"
      ]
     },
     "execution_count": 6,
     "metadata": {},
     "output_type": "execute_result"
    }
   ],
   "source": [
    "let insertion_mot w t = List.fold_left (fun t a -> insertion_lettre a t) t w;;"
   ]
  },
  {
   "cell_type": "code",
   "execution_count": 8,
   "id": "9f06e439",
   "metadata": {},
   "outputs": [
    {
     "data": {
      "text/plain": [
       "val insertion_mot : 'a list -> 'a arbre -> 'a arbre = <fun>\n"
      ]
     },
     "execution_count": 8,
     "metadata": {},
     "output_type": "execute_result"
    }
   ],
   "source": [
    "let rec insertion_mot w t = \n",
    "  match w with\n",
    "  | [] -> t\n",
    "  | a::q -> insertion_mot q (insertion_lettre a t);;"
   ]
  },
  {
   "cell_type": "markdown",
   "id": "0ce3c1f2",
   "metadata": {},
   "source": [
    "**Q4 -** Pour l'arbre binaire $T$, le mot $w_T$ est *sylvestre*.\n",
    "\n",
    "**Q5 -** Cet arbre n'est pas un **ABR**."
   ]
  },
  {
   "cell_type": "code",
   "execution_count": 100,
   "id": "670cfae7",
   "metadata": {},
   "outputs": [
    {
     "data": {
      "text/plain": [
       "val prefixe : 'a arbre -> 'a list = <fun>\n"
      ]
     },
     "execution_count": 100,
     "metadata": {},
     "output_type": "execute_result"
    }
   ],
   "source": [
    "let rec prefixe t = match t with\n",
    "  | Vide -> []\n",
    "  | Noeud(tg,r,td) -> r:: prefixe tg @ prefixe td;;"
   ]
  },
  {
   "cell_type": "markdown",
   "id": "ca5b6532",
   "metadata": {},
   "source": [
    "**Q7 -** Par récurrence forte sur le nombre de nœuds :\n",
    "\n",
    "- Si $T$ n'a aucun nœud alors $T=\\circ$ et $w_{T}=\\varepsilon$ ; or $\\circ$ est associé \\à $\\varepsilon$.\n",
    "- Soit $n \\in \\mathbb{N}$. On suppose la propriété vérifiée par tout arbre ayant au plus $n$ nœuds. Soit $T$ un arbre ayant $n+1$ nœuds, $T$ n'est pas vide ; notons $T=\\left(T_{g},r,T_{d}\\right)$.<br/>\n",
    "   $T_g$ et $T_d$ ont chacun au plus $n$ nœuds et $w_{T}=rw_{g}w_{d}$ o\\`u $w_{g}$ et $w_{d}$ sont les lectures préfixes de $T_{g}$ et $T_{d}$ respectivement.\\\\\n",
    "\tPar hypothèse de récurrence, $T_{g}$ et $T_{d}$ sont respectivement les arbres associés \\à $w_{g}$ et $w_{d}$ respectivement.<br/>\n",
    "\tPuisque $T$ est un **ABR** toutes les lettres de $w_{g}$ sont strictement inférieures \\à $r$ et toutes les lettres de $w_{d}$ sont supérieures ou égales \\à $r$, ce qui permet de conclure que $T$ est l'**ABR** associé \\à $w_{T}$. \n"
   ]
  },
  {
   "cell_type": "markdown",
   "id": "c6a7b39d",
   "metadata": {},
   "source": [
    "## Une relation d'équivalence sur les mots"
   ]
  },
  {
   "cell_type": "markdown",
   "id": "6fc615db",
   "metadata": {},
   "source": [
    "**Q8 -** Si $T$ contient la lettre $b$, il admet au moins un nœud. \n",
    "\n",
    "- Pour $T=(\\circ ,b, \\circ )$, on a :\n",
    "$$\n",
    "T\\leftarrow ac = ((\\circ ,a, \\circ),b,(\\circ ,c ,\\circ)),\\qquad T\\leftarrow ca = ((\\circ ,a, \\circ),b,(\\circ ,c ,\\circ))\n",
    "$$ \n",
    "  le résultat est donc vérifié pour les arbres à $1$ noeud.\n",
    "\n",
    "- On considère $n\\in\\mathbb{N}^{*}$ et on suppose le résultat vrai pour les arbre contenant $b$ et comptant $k$ noeuds pour tout $k\\in \\{1,...,n\\}$.\n",
    "\n",
    "  On considère $T$ un arbre à $n+1$ noeuds contenant $b$. On note $T= \\left(T_{g},r,T_{d}\\right)$.\n",
    "  *\tSi $r=b$, on a :\n",
    "\t$$\n",
    "\tT\\leftarrow ac = (T_{g}\\leftarrow a,b, T_{d})\\leftarrow c = (T_{g}\\leftarrow a,b, T_{d}\\leftarrow c)\n",
    "\t$$\n",
    "\tDe même :\n",
    "\t$$\n",
    "\tT\\leftarrow ca = (T_{g}\\leftarrow a,b, T_{d}\\leftarrow c)\n",
    "\t$$\n",
    "\t\n",
    "  * Si $r<b$ et $a<r$ on a :\n",
    "\t$$\n",
    "\tT\\leftarrow ca =\tT\\leftarrow ac = (T_{g}\\leftarrow a,r, T_{d}\\leftarrow c)\n",
    "\t$$\n",
    "\t\n",
    "  * Si $r<b$ et $a\\ge r$ on a :\n",
    "\t$$\n",
    "\tT\\leftarrow ac = (T_{g},r, T_{d}\\leftarrow ac),\\qquad T\\leftarrow ca = (T_{g},r, T_{d}\\leftarrow ca)\n",
    "\t$$\n",
    "\tMais dans ce cas $T_{d}$ est un arbre contenant nécessairement $b$ et comptant moins de $n$ noeuds. On peut lui appliquer l'hypothèse de récurrence pour conclure que $T\\leftarrow ac=T\\leftarrow ca$.\n",
    "  * Si $r>b$, on reprend le principe précédent appliqué à $T_{g}$ pour démontrer que $T\\leftarrow ac=T\\leftarrow ca$.\n",
    "\n",
    "On a donc démontré le résultat souhaité par récurrence sur le nombre de noeuds de $T$."
   ]
  },
  {
   "cell_type": "markdown",
   "id": "741263ff",
   "metadata": {},
   "source": [
    "**Q9 -** On souhaite démonter que si deux mots sont $S$-équivalents, alors les **ABR** $(\\circ \\leftarrow u)$ et $(\\circ \\leftarrow v)$ sont égaux.\n",
    "\n",
    "D'après la définition $8$, il suffit de démontrer le résultat pour les mots $S$-adjacents.\n",
    "\n",
    "Considérons $u$ et $v$ deux mots $S$-adjacents, on reprend les notations de l'énoncé :\n",
    "$$\n",
    "u=\\mathtt{f_{1}bf_{2}acf_{3}},\\quad v=\\mathtt{f_{1}bf_{2}caf_{3}}\n",
    "$$\n",
    "On a :\n",
    "\\begin{eqnarray*}\n",
    "\t(\\circ \\leftarrow u) & = & (((\\circ \\leftarrow \\mathtt{f_{1}bf_{2}})\\leftarrow \\mathtt{ac})\\leftarrow \\mathtt{f_{3}})\\\\\n",
    "\t(\\circ \\leftarrow v) & = & (((\\circ \\leftarrow \\mathtt{f_{1}bf_{2}})\\leftarrow \\mathtt{ca})\\leftarrow \\mathtt{f_{3}})\n",
    "\\end{eqnarray*}\n",
    "\n",
    "Or l'arbre $(\\circ \\leftarrow \\mathtt{f_{1}bf_{2}})$ contient la lettre $b$. Le résultat de la question précédente assure alors que :\n",
    "$$\n",
    "((\\circ \\leftarrow \\mathtt{f_{1}bf_{2}})\\leftarrow \\mathtt{ac})=((\\circ \\leftarrow \\mathtt{f_{1}bf_{2}})\\leftarrow \\mathtt{ca})\n",
    "$$\n",
    "Ce qui permet de conclure."
   ]
  },
  {
   "cell_type": "markdown",
   "id": "70e02343",
   "metadata": {},
   "source": [
    "## Construction de classes sylvestres"
   ]
  },
  {
   "cell_type": "markdown",
   "id": "c1b5a0a5",
   "metadata": {},
   "source": [
    "$$\tabba\\sqcup ba =\\{baabba,bababa,babbaa,ababba,abbaba,abbbaa\\}$$    "
   ]
  },
  {
   "cell_type": "code",
   "execution_count": 7,
   "id": "dcb2ad55",
   "metadata": {},
   "outputs": [
    {
     "data": {
      "text/plain": [
       "val ajout_lettre : 'a -> 'a list -> 'a list = <fun>\n"
      ]
     },
     "execution_count": 7,
     "metadata": {},
     "output_type": "execute_result"
    }
   ],
   "source": [
    "let rec ajout_lettre a liste = \n",
    "  match liste with\n",
    "  | [] -> []\n",
    "  | t::q -> a::t::(ajout_lettre a q);;"
   ]
  },
  {
   "cell_type": "code",
   "execution_count": 80,
   "id": "ff7a1f09",
   "metadata": {},
   "outputs": [
    {
     "data": {
      "text/plain": [
       "val shuffle : 'a list -> 'a list -> 'a list list = <fun>\n"
      ]
     },
     "execution_count": 80,
     "metadata": {},
     "output_type": "execute_result"
    }
   ],
   "source": [
    "let rec shuffle u v = match (u,v) with\n",
    "  | [],v -> [v]\n",
    "  | u,[] -> [u]\n",
    "  | tu::qu, tv::qv -> \n",
    "    (ajout_lettre tu (shuffle qu v)) @ (ajout_lettre tv (shuffle u qv ));;"
   ]
  },
  {
   "cell_type": "code",
   "execution_count": 69,
   "id": "e8eeffe3",
   "metadata": {},
   "outputs": [
    {
     "data": {
      "text/plain": [
       "val shuffle_l : 'a list list -> 'a list list -> 'a list list = <fun>\n"
      ]
     },
     "execution_count": 69,
     "metadata": {},
     "output_type": "execute_result"
    }
   ],
   "source": [
    "let rec shuffle_l l m = match l,m with\n",
    "  | [] ,_ -> []\n",
    "  | _, [] -> []\n",
    "  | [u], v::lv -> (shuffle u v) @ (shuffle_l [u] lv)\n",
    "  | u::lu, _ -> \n",
    "    (shuffle_l [u] m) @ (shuffle_l lu m);;"
   ]
  },
  {
   "cell_type": "code",
   "execution_count": 101,
   "id": "0610b211",
   "metadata": {},
   "outputs": [
    {
     "data": {
      "text/plain": [
       "val sylvestre_T : 'a arbre -> 'a list list = <fun>\n"
      ]
     },
     "execution_count": 101,
     "metadata": {},
     "output_type": "execute_result"
    }
   ],
   "source": [
    "let rec sylvestre_T t = \n",
    "  match t with\n",
    "  | Vide -> [[]]\n",
    "  | Noeud(tg,r,td) -> ajout_lettre r (shuffle_l (sylvestre_T tg) (sylvestre_T td));;"
   ]
  },
  {
   "cell_type": "markdown",
   "id": "78fa8573",
   "metadata": {},
   "source": [
    "# Problème 2"
   ]
  },
  {
   "cell_type": "markdown",
   "id": "44769950",
   "metadata": {},
   "source": [
    "## Partie I"
   ]
  },
  {
   "cell_type": "code",
   "execution_count": 2,
   "id": "1de67370",
   "metadata": {},
   "outputs": [
    {
     "data": {
      "text/plain": [
       "val somme : int array -> int -> int -> int = <fun>\n"
      ]
     },
     "execution_count": 2,
     "metadata": {},
     "output_type": "execute_result"
    }
   ],
   "source": [
    "let somme t i j =\n",
    "  let s = ref 0 in\n",
    "  for k = i to j do\n",
    "    s := !s + t.(k)\n",
    "  done;\n",
    "  !s\n",
    ";;"
   ]
  },
  {
   "cell_type": "code",
   "execution_count": 5,
   "id": "2ed6d4e1",
   "metadata": {},
   "outputs": [
    {
     "data": {
      "text/plain": [
       "val somme_max1 : int array -> int = <fun>\n"
      ]
     },
     "execution_count": 5,
     "metadata": {},
     "output_type": "execute_result"
    }
   ],
   "source": [
    "let somme_max1 t =\n",
    "  let n = Array.length t in\n",
    "  let sMax = ref t.(0) in\n",
    "  for i = 0 to n-1 do\n",
    "    for j = i to n-1 do\n",
    "      let s = somme t i j in\n",
    "      if s > !sMax\n",
    "      then sMax := s\n",
    "    done;\n",
    "  done;\n",
    "  !sMax\n",
    ";;"
   ]
  },
  {
   "cell_type": "markdown",
   "id": "4307bebe",
   "metadata": {},
   "source": [
    "évaluons la complexité en comptant le nombre d'additions effectuées par la fonction `somme_max1`\n",
    "Pour $0 \\leqslant i \\leqslant j \\leqslant n-1$, l'appel `somme i j` nécessite $j-i+1$ additions.\n",
    "\n",
    "Par conséquent, le nombre d'additions réalisées lors de l'appel `somme_max i j` est :\n",
    "$$\\sum_{i=0}^{n-1} \\sum_{j=i}^{n-1} (j-i+1) = \\frac{n^3+3n^2+2n}{6}$$\n",
    "\n",
    "Doncla complexité de `somme_max1` est en $O(n^3)$ (et cette borne est atteinte)."
   ]
  },
  {
   "cell_type": "markdown",
   "id": "f63138a7",
   "metadata": {},
   "source": [
    "## Partie II"
   ]
  },
  {
   "cell_type": "markdown",
   "id": "9fa08d55",
   "metadata": {},
   "source": [
    " Remarquons que $p_{max}(t,g,d) \\geqslant \\max \\{ p_{max}(t,g,m), p_{max}(t,m+1,d), pc_{max}(t,g,m,d)\\}$ puisque dans chacun des trois cas, les tranches considérées ont leurs extrémités dans $⟦ g, d⟧$.<br/>\n",
    "\n",
    "Considérons la somme maximale $p_{max}(t,g,d)$ d'une tranche dont les indices sont compris entre $g$ et $d$ ; il existe alors deux entiers $i$ et $j$ tels que $g \\leqslant i \\leqslant j \\leqslant d$ et tels que la somme de la tranche $[|t_i;\\dots;t_j|]$ vaut $p_{max}(t,g,d)$. \n",
    "\n",
    "* Si $j < m$, alors $s(t,i,j) \\leqslant p_{max}(t,g,m)$, donc $p_{max}(t,g,d) = p_{max}(t,g,m)$;\n",
    "* Si $i \\leqslant m \\leqslant j$, alors $p_{max}(t,g,d) = pc_{max}(t,g,m,d)$ ;\n",
    "* Sinon, $m < i$, donc $p_{max}(t,g,d) = p_{max}(t,m+1,d)$.\n",
    "\n",
    "Finalement, $p_{max}(t,g,d) = \\max \\{ p_{max}(t,g,m), p_{max}(t,m+1,d), pc_{max}(t,g,m,d)\\}$"
   ]
  },
  {
   "cell_type": "markdown",
   "id": "ea358558",
   "metadata": {},
   "source": [
    "On utilise deux boucles `for`\n",
    "\n",
    "- La première pour calculer les valeurs des $s(t,m,k)$ pour $k \\in  ⟦ m+1, d ⟧$ et mettre à jour `sMax` si besoin ; à la fin de cette boucle, `sMax` contient la somme maximale d'une tranche débutant en $m$ et dont l'indice de fin $j$ appartient à $⟦ m, d ⟧$.\n",
    "- La seconde pour calculer les valeurs des $s(t,k,j)$ pour $k \\in ⟦ g, m-1 ⟧$ et mettre à jour `sMax` si besoin.\n"
   ]
  },
  {
   "cell_type": "code",
   "execution_count": 57,
   "id": "2eb44ac6",
   "metadata": {},
   "outputs": [
    {
     "data": {
      "text/plain": [
       "val smax_part_c : int array -> int -> int -> int -> int = <fun>\n"
      ]
     },
     "execution_count": 57,
     "metadata": {},
     "output_type": "execute_result"
    }
   ],
   "source": [
    "let smax_part_c t g m d =\n",
    "  let s = ref t.(m) in\n",
    "  let sMax = ref t.(m) in\n",
    "  for k = m+1 to d do\n",
    "    s := !s + t.(k);\n",
    "    sMax := max !s !sMax\n",
    "  done;\n",
    "  s := !sMax;\n",
    "  for k = m-1 downto g do\n",
    "    s := !s + t.(k);\n",
    "    sMax := max !s !sMax\n",
    "  done;\n",
    "  !sMax\n",
    ";;"
   ]
  },
  {
   "cell_type": "markdown",
   "id": "02527acb",
   "metadata": {},
   "source": [
    "\n",
    "Le nombre d'additions effectuées par cette fonction est $(d-m)+(m-g) = d-g$."
   ]
  },
  {
   "cell_type": "code",
   "execution_count": 58,
   "id": "463a23b0",
   "metadata": {},
   "outputs": [
    {
     "data": {
      "text/plain": [
       "val smax_part : int array -> int -> int -> int = <fun>\n"
      ]
     },
     "execution_count": 58,
     "metadata": {},
     "output_type": "execute_result"
    }
   ],
   "source": [
    "let rec smax_part t g d =\n",
    "  if g = d\n",
    "  then t.(g)\n",
    "  else\n",
    "    begin\n",
    "      let m = (g+d)/2 in\n",
    "      let s1 = smax_part t g m in\n",
    "      let s2 = smax_part t (m+1) d in\n",
    "      let s3 = smax_part_c t g m d in\n",
    "      max s1 (max s2 s3)\n",
    "    end\n",
    ";;"
   ]
  },
  {
   "cell_type": "code",
   "execution_count": 60,
   "id": "49b797ec",
   "metadata": {},
   "outputs": [
    {
     "data": {
      "text/plain": [
       "val somme_max2 : int array -> int = <fun>\n"
      ]
     },
     "execution_count": 60,
     "metadata": {},
     "output_type": "execute_result"
    }
   ],
   "source": [
    "let somme_max2 t =\n",
    "  let n = Array.length t in\n",
    "  smax_part t 0 (n-1)\n",
    ";;"
   ]
  },
  {
   "cell_type": "markdown",
   "id": "a86d951c",
   "metadata": {},
   "source": [
    "$C_1 = 0$ et pour tout $n \\geqslant 2$, pour tous $d,g \\in \\mathbb{N}$ tels que $d-g+1 = n$, si $m = \\left\\lfloor \\frac{g+d}{2} \\right\\rfloor$,\n",
    "\n",
    "- L'appel `smax_part t g m` effectue $C_{\\lceil n/2 \\rceil}$ additions ;\n",
    "- L'appel `smax_part t (m+1) d` effectue $C_{\\lfloor n/2 \\rfloor}$ additions ;\n",
    "- L'appel `smax_part_c t g m d` effectue $n-1$ additions.\n",
    "\n",
    "Par conséquent, $C_n = C_{\\lceil n/2 \\rceil} + C_{\\lfloor n/2 \\rfloor} + n-1$."
   ]
  },
  {
   "cell_type": "markdown",
   "id": "5e4d2e78",
   "metadata": {},
   "source": [
    "En utilisant la même méthode que pour la complexité du tri fusion, on montre que la complexité de `somme_max3 t` est en $O(n\\ln n)$"
   ]
  },
  {
   "cell_type": "markdown",
   "id": "4b5fbb23",
   "metadata": {},
   "source": [
    "## Partie III"
   ]
  },
  {
   "cell_type": "markdown",
   "id": "8b3d4eaa",
   "metadata": {},
   "source": [
    "Tout d'abord,\n",
    "\n",
    "- ou bien une tranche de somme maximale se terminant en $k$ ne contient que $t_k$, et dans ce cas $f_{max}(t,k) = t_k$ ;\n",
    "- ou bien une telle tranche privée de $t_k$ est une tranche de somme maximale se terminant en $k-1$, et dans ce cas $f_{max}(t,k) = t_k + f_{max}(t,k-1)$.\n",
    "\n",
    "\n",
    "Enfin, une tranche de somme maximale dont les indices sont inférieurs ou égaux à $k$ peut :\n",
    "\n",
    "- soit contenir l'élément d'indice $k$, et dans ce cas $g_{max}(t,k) = f_{max}(t,k)$ ;\n",
    "- soit ne pas contenir l'élément d'indice $k$, et dans ce cas $g_{max}(t,k) = g_{max}(t,k-1)$.\n",
    "\n",
    "Finalement, \n",
    "$$g_{max}(t,k) = \\max \\{ t_k,  t_k + f_{max}(t,k-1),  g_{max}(t,k-1) \\}$$"
   ]
  },
  {
   "cell_type": "code",
   "execution_count": 61,
   "id": "c0674593",
   "metadata": {},
   "outputs": [
    {
     "data": {
      "text/plain": [
       "val somme_max3 : int array -> int = <fun>\n"
      ]
     },
     "execution_count": 61,
     "metadata": {},
     "output_type": "execute_result"
    }
   ],
   "source": [
    "let somme_max3 t =\n",
    "  let n = Array.length t in\n",
    "  let f = ref t.(0) in\n",
    "  let g = ref t.(0) in\n",
    "  for k = 1 to n-1 do\n",
    "    f := max t.(k) (!f + t.(k))  ;\n",
    "    g := max !g !f\n",
    "  done;\n",
    "  !g\n",
    ";;"
   ]
  },
  {
   "cell_type": "markdown",
   "id": "526f2ad8",
   "metadata": {},
   "source": [
    "Chaque itération de la boucle s'effectue en $O(1)$, et il y a $n-1$ itérations, donc la complexité de cette fonction est linéaire."
   ]
  }
 ],
 "metadata": {
  "kernelspec": {
   "display_name": "OCaml default",
   "language": "OCaml",
   "name": "ocaml-jupyter"
  },
  "language_info": {
   "codemirror_mode": "text/x-ocaml",
   "file_extension": ".ml",
   "mimetype": "text/x-ocaml",
   "name": "OCaml",
   "nbconverter_exporter": null,
   "pygments_lexer": "OCaml",
   "version": "4.08.1"
  },
  "latex_envs": {
   "LaTeX_envs_menu_present": true,
   "autoclose": false,
   "autocomplete": true,
   "bibliofile": "biblio.bib",
   "cite_by": "apalike",
   "current_citInitial": 1,
   "eqLabelWithNumbers": true,
   "eqNumInitial": 1,
   "hotkeys": {
    "equation": "Ctrl-E",
    "itemize": "Ctrl-I"
   },
   "labels_anchors": false,
   "latex_user_defs": false,
   "report_style_numbering": false,
   "user_envs_cfg": false
  },
  "toc": {
   "base_numbering": 1,
   "nav_menu": {},
   "number_sections": false,
   "sideBar": false,
   "skip_h1_title": false,
   "title_cell": "Table of Contents",
   "title_sidebar": "Contents",
   "toc_cell": false,
   "toc_position": {},
   "toc_section_display": true,
   "toc_window_display": true
  }
 },
 "nbformat": 4,
 "nbformat_minor": 5
}
