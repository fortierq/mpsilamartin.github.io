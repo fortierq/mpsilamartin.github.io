{
 "cells": [
  {
   "cell_type": "markdown",
   "id": "packed-assignment",
   "metadata": {},
   "source": [
    "# Exercice 1"
   ]
  },
  {
   "cell_type": "markdown",
   "id": "guided-reliance",
   "metadata": {},
   "source": [
    "**Question 1** - Écrire une fonctions `debut : int -> 'a list -> 'a list` qui prend en argument un entier positif $n$ et une liste $\\ell$ et qui renvoie la liste des $n$ premiers éléments de $\\ell$, ou la liste en entier si cette dernière possède moins de $n$ éléments."
   ]
  },
  {
   "cell_type": "code",
   "execution_count": 1,
   "id": "noble-convergence",
   "metadata": {},
   "outputs": [
    {
     "data": {
      "text/plain": [
       "val debut : int -> 'a list -> 'a list = <fun>\n"
      ]
     },
     "execution_count": 1,
     "metadata": {},
     "output_type": "execute_result"
    }
   ],
   "source": [
    "let rec debut n lst =\n",
    "  match n, lst with\n",
    "  | 0, _ -> []\n",
    "  | _, [] -> []\n",
    "  | _, t::q -> t::(debut (n-1) q)\n",
    ";;"
   ]
  },
  {
   "cell_type": "markdown",
   "id": "defensive-mileage",
   "metadata": {},
   "source": [
    "**Question 2** - Écrire une fonctions `iterer : int -> ('a -> 'a) -> 'a -> 'a list` qui prend en argument un entier positif $n$, une fonction $f$ de type `'a -> 'a` et un élément $x$ de type `'a` et qui renvoie la liste $[x;f(x);f^2(x);\\dots;f^n(x)]$."
   ]
  },
  {
   "cell_type": "code",
   "execution_count": 2,
   "id": "experienced-discretion",
   "metadata": {},
   "outputs": [
    {
     "data": {
      "text/plain": [
       "val iterer : int -> ('a -> 'a) -> 'a -> 'a list = <fun>\n"
      ]
     },
     "execution_count": 2,
     "metadata": {},
     "output_type": "execute_result"
    }
   ],
   "source": [
    "let rec iterer n f x =\n",
    "  match n with\n",
    "  | 0 ->  [x]\n",
    "  | _ -> x::iterer (n-1) f (f x)\n",
    ";;"
   ]
  },
  {
   "cell_type": "markdown",
   "id": "nominated-guinea",
   "metadata": {},
   "source": [
    "**Question 3** - Écrire une fonctions `init : int -> (int -> 'a) -> 'a list` qui prend en argument un entier positif $n$, une fonction $f$ de type `'int -> 'a` et qui renvoie la liste vide si $n$ est nul, et la liste $[f(0);f(1);\\dots;f(n-1)]$ si $n > 0$."
   ]
  },
  {
   "cell_type": "code",
   "execution_count": 3,
   "id": "friendly-soundtrack",
   "metadata": {},
   "outputs": [
    {
     "data": {
      "text/plain": [
       "val init : int -> (int -> 'a) -> 'a list = <fun>\n"
      ]
     },
     "execution_count": 3,
     "metadata": {},
     "output_type": "execute_result"
    }
   ],
   "source": [
    "let init n f =\n",
    "  let rec construit k =\n",
    "    (* Construit la liste [f(k);...;f(n-1)]*)\n",
    "    if k = n\n",
    "    then []\n",
    "    else f k::construit (k+1)\n",
    "  in construit 0\n",
    ";;"
   ]
  },
  {
   "cell_type": "code",
   "execution_count": 4,
   "id": "34d60dde",
   "metadata": {},
   "outputs": [
    {
     "data": {
      "text/plain": [
       "val init : int -> (int -> 'a) -> 'a list = <fun>\n"
      ]
     },
     "execution_count": 4,
     "metadata": {},
     "output_type": "execute_result"
    }
   ],
   "source": [
    "let init n f =\n",
    "  let rec aux i = \n",
    "    match i with\n",
    "    | 0 -> []\n",
    "    | _ -> (f (n-i))::aux (i-1)\n",
    "  in aux n"
   ]
  },
  {
   "cell_type": "code",
   "execution_count": 5,
   "id": "85059b7e",
   "metadata": {},
   "outputs": [
    {
     "data": {
      "text/plain": [
       "- : int list = [0; 1; 4; 9; 16]\n"
      ]
     },
     "execution_count": 5,
     "metadata": {},
     "output_type": "execute_result"
    }
   ],
   "source": [
    "init 5 (fun i -> i*i)"
   ]
  },
  {
   "cell_type": "markdown",
   "id": "married-incentive",
   "metadata": {},
   "source": [
    "**Question 4** - Écrire une fonctions `somme : int -> int list -> bool` qui prend en argument un entier $n$, une liste d'entiers $\\ell$ et qui renvoie `true` s'il existe une partie des éléments de $\\ell$ dont la somme vaut $n$, `false` sinon.\n",
    "\n",
    "Par exemple, l'appel `somme 10 [8; -7; 4; 9]` renverra `true` (en effet, $10 = 8+(-7)+9$) mais  l'appel `somme 11 [8; -7; 4; 9]` renverra `false`.\n",
    "*On ne demande pas nécessairement une fonction efficace.*"
   ]
  },
  {
   "cell_type": "code",
   "execution_count": 6,
   "id": "animal-glucose",
   "metadata": {},
   "outputs": [
    {
     "data": {
      "text/plain": [
       "val somme : int -> int list -> bool = <fun>\n"
      ]
     },
     "execution_count": 6,
     "metadata": {},
     "output_type": "execute_result"
    }
   ],
   "source": [
    "let rec somme n lst =\n",
    "  match lst with\n",
    "  | [] -> n = 0\n",
    "  | t::q -> somme (n-t) q || somme n q\n",
    ";;"
   ]
  },
  {
   "cell_type": "markdown",
   "id": "informative-fraud",
   "metadata": {},
   "source": [
    "# Exercice 2 "
   ]
  },
  {
   "cell_type": "markdown",
   "id": "incident-storage",
   "metadata": {},
   "source": [
    "Le lycée Uderzo dispose de trois classes de MPSI, d'une PSI et de deux MP.\\medskip\n",
    "\n",
    "On souhaite définir trois types `sexe`, `division` et `etudiant`, de sorte que Bonemine ABRARACOURCIX, étudiante en MPSI 3, puisse être représenter par la variable `bonemine` suivante :\n",
    "\n",
    "`let bonemine = {\n",
    "    nom = \"ABRARACOURCIX\";\n",
    "    prenom = \"Bonemine\";\n",
    "    classe = MPSI 3; (* de type division *)\n",
    "    sexe = F (* de type sexe *)\n",
    "  };;     ` "
   ]
  },
  {
   "cell_type": "markdown",
   "id": "differential-appendix",
   "metadata": {},
   "source": [
    "**Question 1** - Définir les types `sexe` et `division`. Le type `division` comportera trois constructeurs dont deux seront paramétrés par un entier."
   ]
  },
  {
   "cell_type": "code",
   "execution_count": 7,
   "id": "upset-aquarium",
   "metadata": {},
   "outputs": [
    {
     "data": {
      "text/plain": [
       "type sexe = M | F\n"
      ]
     },
     "execution_count": 7,
     "metadata": {},
     "output_type": "execute_result"
    }
   ],
   "source": [
    "type sexe = M | F;;"
   ]
  },
  {
   "cell_type": "code",
   "execution_count": 8,
   "id": "color-cookbook",
   "metadata": {},
   "outputs": [
    {
     "data": {
      "text/plain": [
       "type division = MPSI of int | MP of int | PSI\n"
      ]
     },
     "execution_count": 8,
     "metadata": {},
     "output_type": "execute_result"
    }
   ],
   "source": [
    "type division =\n",
    "  | MPSI of int\n",
    "  | MP of int\n",
    "  | PSI\n",
    ";;"
   ]
  },
  {
   "cell_type": "markdown",
   "id": "brilliant-injury",
   "metadata": {},
   "source": [
    "**Question 2** - Définir le type `etudiant`."
   ]
  },
  {
   "cell_type": "code",
   "execution_count": 9,
   "id": "royal-tractor",
   "metadata": {},
   "outputs": [
    {
     "data": {
      "text/plain": [
       "type etudiant = {\n",
       "  nom : string;\n",
       "  prenom : string;\n",
       "  classe : division;\n",
       "  sexe : sexe;\n",
       "}\n"
      ]
     },
     "execution_count": 9,
     "metadata": {},
     "output_type": "execute_result"
    }
   ],
   "source": [
    "type etudiant = {\n",
    "    nom : string;\n",
    "    prenom : string;\n",
    "    classe : division;\n",
    "    sexe : sexe\n",
    "  };;"
   ]
  },
  {
   "cell_type": "markdown",
   "id": "current-happening",
   "metadata": {},
   "source": [
    "**Question 3** - Écrire une fonction `repartition_mp : etudiant list -> etudiant list * etudiant list` prenant en argument une liste d'étudiants `lst` et renvoyant un couple de listes `(lst1, lst2)` où `lstk` est la liste des étudiants de la MP k. La liste de départ pourra contenir des étudiants des autres classes."
   ]
  },
  {
   "cell_type": "code",
   "execution_count": 10,
   "id": "coordinated-ready",
   "metadata": {},
   "outputs": [
    {
     "data": {
      "text/plain": [
       "val repartition_mp : etudiant list -> etudiant list * etudiant list = <fun>\n"
      ]
     },
     "execution_count": 10,
     "metadata": {},
     "output_type": "execute_result"
    }
   ],
   "source": [
    "let rec repartition_mp lst =\n",
    "  match lst with\n",
    "  | [] -> [], []\n",
    "  | t::q -> let mp1, mp2 = repartition_mp q in\n",
    "            match t.classe with\n",
    "            | MP 1 -> t::mp1, mp2\n",
    "            | MP 2 ->mp1, t::mp2\n",
    "            | _ -> mp1, mp2\n",
    ";;"
   ]
  },
  {
   "cell_type": "markdown",
   "id": "blind-procedure",
   "metadata": {},
   "source": [
    "**Question 4** - Écrire une fonction `repartion_sexe : etudiant list -> int * int` prenant en argument une liste d'étudiants `lst` et renvoyant le couple d'entiers $(n,p)$ où $n$ est le nombre d'étudiantes de la liste `lst`, et $p$ le nombre d'étudiants masculins."
   ]
  },
  {
   "cell_type": "code",
   "execution_count": 11,
   "id": "given-forge",
   "metadata": {},
   "outputs": [
    {
     "data": {
      "text/plain": [
       "val repartition_sexe : etudiant list -> int * int = <fun>\n"
      ]
     },
     "execution_count": 11,
     "metadata": {},
     "output_type": "execute_result"
    }
   ],
   "source": [
    "let rec repartition_sexe lst =\n",
    "  match lst with\n",
    "  | [] -> 0, 0\n",
    "  | t::q -> let nq, pq = repartition_sexe q in\n",
    "            match t.sexe with\n",
    "            | F -> nq + 1, pq\n",
    "            | M -> nq, pq +1\n",
    ";;"
   ]
  },
  {
   "cell_type": "markdown",
   "id": "obvious-series",
   "metadata": {},
   "source": [
    "**Question 5** - Écrire une fonction `proportion_filles : etudiant list -> float` prenant en argument une liste d'étudiants `lst` et renvoyant la proportion d'étudiantes dans la liste `lst`.\n",
    "    "
   ]
  },
  {
   "cell_type": "code",
   "execution_count": 12,
   "id": "peripheral-exploration",
   "metadata": {},
   "outputs": [
    {
     "data": {
      "text/plain": [
       "val proportion_filles : etudiant list -> float = <fun>\n"
      ]
     },
     "execution_count": 12,
     "metadata": {},
     "output_type": "execute_result"
    }
   ],
   "source": [
    "let proportion_filles lst =\n",
    "  let n, p = repartition_sexe lst in\n",
    "  float_of_int n /. (float_of_int (n+p))\n",
    ";;"
   ]
  },
  {
   "cell_type": "markdown",
   "id": "political-homeless",
   "metadata": {},
   "source": [
    "**Question 6** - On souhaite rééquilibrer les effectifs des classes de MP 1 et de MP 2, de sorte que :\n",
    "\n",
    "- le nombre total d'étudiants diffère au plus d'une unité ;\n",
    "- le nombre d'étudiantes (resp. d'étudiants masculins) diffère au plus d'une unité.\n",
    "\n",
    "Écrire une fonction\n",
    " `nouvelle_repartition : etudiant list -> etudiant list -> etudiant list * etudiant list`\n",
    "prenant en argument les deux listes correspondant aux étudiants de chacune des MP et renvoyant un couple de deux listes correspondant à la nouvelle répartition."
   ]
  },
  {
   "cell_type": "markdown",
   "id": "2eb81ece",
   "metadata": {},
   "source": [
    "> **Une première méthode** : *On calcule le nombre de filles et de garçons à atteindre en MP1 grâce à la fonction repartition_sexe ; on fait le choix arbitraire d'avoir éventuellement une fille de moins et/ou un garçon de plus en MP1 (ce qui permet de garantir les trois contraintes sur les effectifs).*"
   ]
  },
  {
   "cell_type": "code",
   "execution_count": 13,
   "id": "purple-advocate",
   "metadata": {},
   "outputs": [
    {
     "data": {
      "text/plain": [
       "val nouvelle_repartition :\n",
       "  etudiant list -> etudiant list -> etudiant list * etudiant list = <fun>\n"
      ]
     },
     "execution_count": 13,
     "metadata": {},
     "output_type": "execute_result"
    }
   ],
   "source": [
    "let nouvelle_repartition lst1 lst2 =\n",
    "  let n1, p1 = repartition_sexe lst1 in\n",
    "  let n2, p2 = repartition_sexe lst2 in\n",
    "  let new_n1, new_p1 = (n1+n2)/2, (p1+p2+1)/2 in\n",
    "  let rec construit_mp1 l1 l2 n p =\n",
    "    match l1, l2 with\n",
    "    | [], [] -> [], []\n",
    "    | t1::q1,_ ->\n",
    "       begin\n",
    "         match t1.sexe, n, p with\n",
    "         | F, 0, _ ->  let mp1, mp2 = construit_mp1 q1 l2 0 p in mp1, t1::mp2\n",
    "         | F, _, _ -> let mp1, mp2 = construit_mp1 q1 l2 (n-1) p in t1::mp1, mp2\n",
    "         | M, _, 0 -> let mp1, mp2 = construit_mp1 q1 l2 n 0 in  mp1, t1::mp2\n",
    "         | M, _, _ ->  let mp1, mp2 = construit_mp1 q1 l2 n (p-1) in t1::mp1, mp2\n",
    "       end\n",
    "    | _, t2::q2 ->\n",
    "       begin\n",
    "         match t2.sexe,n, p with\n",
    "         | F, 0, _ ->  let mp1, mp2 = construit_mp1 l1 q2 0 p in mp1, t2::mp2\n",
    "         | F, _, _ -> let mp1, mp2 = construit_mp1 l1 q2 (n-1) p in t2::mp1, mp2\n",
    "         | M, _, 0 -> let mp1, mp2 = construit_mp1 l1 q2 n 0 in  mp1, t2::mp2\n",
    "         | M, _, _ ->  let mp1, mp2 = construit_mp1 l1 q2 n (p-1) in t2::mp1, mp2\n",
    "       end\n",
    "  in construit_mp1 lst1 lst2 new_n1 new_p1\n",
    ";;"
   ]
  },
  {
   "cell_type": "markdown",
   "id": "c27b0f98",
   "metadata": {},
   "source": [
    "> *Petite variante proposée par $*$ : on échange les deux classes lorsque la liste des mp1 restants est épuisée. Cela nécessite toutefois de garder le nombre de filles et de garçons à ajouter dans chaque classe*\n"
   ]
  },
  {
   "cell_type": "code",
   "execution_count": 22,
   "id": "7534e8e3",
   "metadata": {},
   "outputs": [
    {
     "data": {
      "text/plain": [
       "val nouvelle_repartition :\n",
       "  etudiant list -> etudiant list -> etudiant list * etudiant list = <fun>\n"
      ]
     },
     "execution_count": 22,
     "metadata": {},
     "output_type": "execute_result"
    }
   ],
   "source": [
    "let nouvelle_repartition lst1 lst2 =\n",
    "  let n1, p1 = repartition_sexe lst1 in\n",
    "  let n2, p2 = repartition_sexe lst2 in\n",
    "  let new_n1, new_p1 = (n1+n2)/2, (p1+p2+1)/2 in\n",
    "  let rec construit l1 l2 n1 p1 n2 p2  =\n",
    "    match l1, l2 with\n",
    "    | [], [] -> [], []\n",
    "    | t1::q1,_ ->\n",
    "       begin\n",
    "         match t1.sexe, n1, p1 with\n",
    "         | F, 0, _ ->  let mp1, mp2 = construit q1 l2 n1 p1  (n2-1) p2 in mp1, t1::mp2\n",
    "         | F,_, _ -> let mp1, mp2 = construit q1 l2 (n1-1) p1 n2 p2 in t1::mp1, mp2\n",
    "         | M, _, 0 -> let mp1, mp2 = construit q1 l2 n1 p1 n2 (p2-1) in  mp1, t1::mp2\n",
    "         | M, _, _ ->  let mp1, mp2 = construit q1 l2 n1 (p1-1) n2 p2 in t1::mp1, mp2\n",
    "       end\n",
    "    | _, t2::q2 -> construit l2 l1 n2 p2 n1 p1\n",
    "  in construit lst1 lst2 new_n1 new_p1 (n1+n2-new_n1) (p1+p2-new_p1)\n",
    ";;"
   ]
  },
  {
   "cell_type": "markdown",
   "id": "9657e754",
   "metadata": {},
   "source": [
    "> **Une deuxième méthode** : *(d'après les propositions de $*$ et Flavien)*\n",
    ">\n",
    "> *On répartit les étudiants deux par deux en mémorisant l'écart entre le nombre de filles en mp1 et celui en mp2.*\n",
    ">\n",
    "> *On fait à nouveau le choix d'avoir éventuellement une fille de plus et/ou un garçon de moins en mp1*"
   ]
  },
  {
   "cell_type": "code",
   "execution_count": 34,
   "id": "f315008e",
   "metadata": {},
   "outputs": [
    {
     "data": {
      "text/plain": [
       "val nouvelle_repartition :\n",
       "  etudiant list -> etudiant list -> etudiant list * etudiant list = <fun>\n"
      ]
     },
     "execution_count": 34,
     "metadata": {},
     "output_type": "execute_result"
    }
   ],
   "source": [
    "let nouvelle_repartition lst1 lst2 =\n",
    "  let rec construit l1 l2 new_mp1 new_mp2 delta =\n",
    "    match l1, l2 with\n",
    "    | [], [] ->  new_mp1 , new_mp2\n",
    "    | [t1], [] ->\n",
    "      if t1.sexe = F\n",
    "      then\n",
    "        if delta > 0\n",
    "        then new_mp1, t1::new_mp2\n",
    "        else t1::new_mp1, new_mp2\n",
    "      else\n",
    "      if delta > 0 (* plus de filles en mp1, donc moins de garçons *)\n",
    "      then t1::new_mp1, new_mp2\n",
    "      else new_mp1, t1::new_mp2\n",
    "    | t1::t2::q1, [] -> construit (t1::q1) [t2] new_mp1 new_mp2 delta\n",
    "    | [], _ -> construit l2 [] new_mp1 new_mp2 delta\n",
    "    | t1::q1,t2::q2 ->\n",
    "      if t1.sexe = t2.sexe\n",
    "      then construit q1 q2 (t1::new_mp1) (t2::new_mp2) delta\n",
    "      else\n",
    "        match t1.sexe, delta > 0 with\n",
    "        | F, true -> construit q1 q2 (t2::new_mp1) (t1::new_mp2) (delta - 1)\n",
    "        | F, false -> construit q1 q2 (t1::new_mp1) (t2::new_mp2) (delta + 1)\n",
    "        | M, true -> construit q1 q2 (t1::new_mp1) (t2::new_mp2) delta\n",
    "        | M, false -> construit q1 q2 (t2::new_mp1) (t1::new_mp2) delta\n",
    "  in construit lst1 lst2 [] [] 0\n",
    ";;"
   ]
  },
  {
   "cell_type": "markdown",
   "id": "67abc8ca",
   "metadata": {},
   "source": [
    "> **Pour terminer** : *(d'après les propositions de $*$, Maxence et Camille G.)*\n",
    ">\n",
    "> On calcule la liste de toutes les filles de MP et la liste de tous les garçons, puis on les répartit."
   ]
  },
  {
   "cell_type": "code",
   "execution_count": 31,
   "id": "482d65a5",
   "metadata": {},
   "outputs": [
    {
     "data": {
      "text/plain": [
       "val nouvelle_repartition :\n",
       "  etudiant list -> etudiant list -> etudiant list * etudiant list = <fun>\n"
      ]
     },
     "execution_count": 31,
     "metadata": {},
     "output_type": "execute_result"
    }
   ],
   "source": [
    "let nouvelle_repartition lst1 lst2 =\n",
    "  let rec listes_sexe lstTous lstF lstM =\n",
    "    match lstTous with\n",
    "    | [] -> lstF, lstM\n",
    "    | t::q -> \n",
    "      if t.sexe = F \n",
    "      then listes_sexe q (t::lstF) lstM\n",
    "      else listes_sexe q lstF (t::lstM)\n",
    "    in\n",
    "    let rec repartir lst (mp1,mp2) =\n",
    "      match lst with\n",
    "      | [] -> mp1, mp2\n",
    "      | [t1] -> t1::mp1, mp2\n",
    "      | t1::t2::q -> repartir q (t1::mp1,t2::mp2)\n",
    "    in\n",
    "    let lstF, lstM = listes_sexe (lst1@lst2) [] [] in\n",
    "    repartir lstF (repartir lstM ([],[]))\n",
    ";;"
   ]
  },
  {
   "cell_type": "markdown",
   "id": "d160f7ac",
   "metadata": {},
   "source": [
    "> *Variante proposée par Cyril, sans regrouper les classes*"
   ]
  },
  {
   "cell_type": "code",
   "execution_count": 33,
   "id": "c35ffe67",
   "metadata": {},
   "outputs": [
    {
     "data": {
      "text/plain": [
       "val nouvelle_repartition :\n",
       "  etudiant list -> etudiant list -> etudiant list * etudiant list = <fun>\n"
      ]
     },
     "execution_count": 33,
     "metadata": {},
     "output_type": "execute_result"
    }
   ],
   "source": [
    "let nouvelle_repartition lst1 lst2 =\n",
    "  let rec listes_sexe lstTous lstF lstM =\n",
    "    match lstTous with\n",
    "    | [] -> lstF, lstM\n",
    "    | t::q -> \n",
    "      if t.sexe = F \n",
    "      then listes_sexe q (t::lstF) lstM\n",
    "      else listes_sexe q lstF (t::lstM)\n",
    "    in\n",
    "    let rec repartir lst (mp1,mp2) =\n",
    "      match lst with\n",
    "      | [] -> mp1, mp2\n",
    "      | [t1] -> t1::mp1, mp2\n",
    "      | t1::t2::q -> repartir q (t1::mp1,t2::mp2)\n",
    "    in\n",
    "    let lstF1, lstM1 = listes_sexe lst1 [] [] in\n",
    "    let lstF2, lstM2 = listes_sexe lst2 [] [] in\n",
    "    let new_mp1F, new_mp2F = repartir lstF1 (repartir lstF2 ([],[])) in\n",
    "    repartir lstM1 (repartir lstM2 (new_mp1F, new_mp2F))\n",
    ";;"
   ]
  },
  {
   "cell_type": "markdown",
   "id": "impaired-volume",
   "metadata": {},
   "source": [
    "# Exercice 3"
   ]
  },
  {
   "cell_type": "markdown",
   "id": "therapeutic-violation",
   "metadata": {},
   "source": [
    "On étudie ici la fonction `cantor` définie par\n",
    "$$\\forall (x,y) \\in \\mathbb{N}^2,\\, \\mathtt{cantor}(x,y) = x + \\frac{(x+y)(x+y+1)}{2}$$"
   ]
  },
  {
   "cell_type": "markdown",
   "id": "previous-thumbnail",
   "metadata": {},
   "source": [
    "**Question 1** - Cette fonction, appelée fonction de couplage de Cantor, réalise une numérotation dite *en triangle* des éléments de $\\mathbb{N}^2$. Justifier par une figure cette terminologie."
   ]
  },
  {
   "cell_type": "markdown",
   "id": "suited-current",
   "metadata": {},
   "source": [
    "> <img src=\"num_triangle.png\" width=300 height=300 />"
   ]
  },
  {
   "cell_type": "markdown",
   "id": "sunset-effort",
   "metadata": {},
   "source": [
    "**Question 2** - Écrire en OCaml la fonction `cantor : int -> int -> int`."
   ]
  },
  {
   "cell_type": "code",
   "execution_count": 15,
   "id": "funded-understanding",
   "metadata": {},
   "outputs": [
    {
     "data": {
      "text/plain": [
       "val cantor : int -> int -> int = <fun>\n"
      ]
     },
     "execution_count": 15,
     "metadata": {},
     "output_type": "execute_result"
    }
   ],
   "source": [
    "let cantor x y =\n",
    "  x + (x+y)*(x+y+1)/2\n",
    ";;"
   ]
  },
  {
   "cell_type": "markdown",
   "id": "built-bennett",
   "metadata": {},
   "source": [
    "**Question 3** - Écrire une fonction *récursive* `cantor_rec : int -> int -> int` réalisant cette même numérotation."
   ]
  },
  {
   "cell_type": "code",
   "execution_count": 16,
   "id": "ordinary-edward",
   "metadata": {},
   "outputs": [
    {
     "data": {
      "text/plain": [
       "val cantor_rec : int -> int -> int = <fun>\n"
      ]
     },
     "execution_count": 16,
     "metadata": {},
     "output_type": "execute_result"
    }
   ],
   "source": [
    "let rec cantor_rec x y =\n",
    "  match x with\n",
    "  | 0 -> y*(y+1)/2\n",
    "  | _ -> 1 + cantor_rec (x-1) (y+1)\n",
    ";;"
   ]
  },
  {
   "cell_type": "code",
   "execution_count": 17,
   "id": "italian-silly",
   "metadata": {},
   "outputs": [
    {
     "data": {
      "text/plain": [
       "val cantor_rec : int -> int -> int = <fun>\n"
      ]
     },
     "execution_count": 17,
     "metadata": {},
     "output_type": "execute_result"
    }
   ],
   "source": [
    "let rec cantor_rec x y =\n",
    "  match x, y with\n",
    "  | 0, 0 -> 0\n",
    "  | 0, y -> 1 + cantor_rec (y-1) 0\n",
    "  | _, _ -> 1 + cantor_rec (x-1) (y+1)\n",
    ";;"
   ]
  },
  {
   "cell_type": "markdown",
   "id": "stainless-laser",
   "metadata": {},
   "source": [
    "**Question 4** - Montrer soigneusement que la fonction `cantor_rec` termine."
   ]
  },
  {
   "cell_type": "markdown",
   "id": "referenced-logging",
   "metadata": {},
   "source": [
    "<div class=\"alert alert-success\" role=\"alert\">\n",
    "    \n",
    "*Pour la première version*\n",
    "    \n",
    "Montrons par récurrence sur $x$ que pour tout $x \\in \\mathbb{N}$, pour tout $y \\in \\mathbb{N}$, `cantor_rec` $x$ $y$ termine.\n",
    "    \n",
    "* Soit $y \\in \\mathbb{N}$, l'appel `cantor_rec` $0$ $y$ ne nécessite aucun appel récursif et termine.\n",
    "* Soit $x \\in \\mathbb{N}^*$, on suppose que pour tout $y \\in \\mathbb{N}$,  `cantor_rec` $(x-1)$ $y$ termine.\n",
    "    Alors pour tout $y \\in \\mathbb{N}$, l'appel `cantor_rec` $x$ $y$ effectue un seul appel récursif `cantor_rec` (x-1) (y+1) qui termine et dont la terminaison assure celle de la fonction.    \n",
    "</div>"
   ]
  },
  {
   "cell_type": "markdown",
   "id": "0cc9e779",
   "metadata": {},
   "source": [
    "<div class=\"alert alert-success\" role=\"alert\">\n",
    "    \n",
    "*Pour la seconde version*\n",
    "    \n",
    "On utilise l'ordre lexicographique sur $\\mathbb{N}^2$ pour le couple $(x+y,x)$.\n",
    "    \n",
    "* Si $(x+y,x)= (0, 0)$ alors $x=y=0$ et `cantor_rec` $x$ $y$ ne nécessite aucun appel récursif et termine.\n",
    "* Sinon, \n",
    "    - ou bien $x = 0$ et `cantor_rec` $x$ $y$ réalise un appel récursif `cantor_rec` $x'$ $y'$ avec $(x'+y',x') = (y-1, y-1)$, qui vérifie $(x'+y',x') \\prec (x+y,x)$, et la terminaison de cet appel assure celui de la fonction.\n",
    "    - ou bien $x > 0$ et `cantor_rec` $x$ $y$ réalise un appel récursif `cantor_rec` $x'$ $y'$ avec $(x'+y',x') = (x+y, x-1)$, qui vérifie $(x'+y',x') \\prec (x+y,x)$, et la terminaison de cet appel assure celui de la fonction.\n",
    "</div>"
   ]
  },
  {
   "cell_type": "markdown",
   "id": "modern-perfume",
   "metadata": {},
   "source": [
    "**Question 5** - Dans cette question, on numérote les éléments de $\\mathbb{N}^2$ en carré comme illustré sur la figure ci-dessous ; écrire une fonction récursive `carre : int -> int -> int` réalisant cette numérotation.\n",
    "\n",
    "<img src=\"num_carre.png\" width=300 height=300 />"
   ]
  },
  {
   "cell_type": "code",
   "execution_count": 18,
   "id": "hungry-adobe",
   "metadata": {},
   "outputs": [
    {
     "data": {
      "text/plain": [
       "val carre : int -> int -> int = <fun>\n"
      ]
     },
     "execution_count": 18,
     "metadata": {},
     "output_type": "execute_result"
    }
   ],
   "source": [
    "let rec carre x y =\n",
    "  if x = 0\n",
    "  then y*y\n",
    "  else\n",
    "    if y < x\n",
    "    then 1 + carre x (y+1)\n",
    "    else 1 + carre (x-1) y\n",
    ";;"
   ]
  },
  {
   "cell_type": "code",
   "execution_count": 19,
   "id": "regulation-graduate",
   "metadata": {},
   "outputs": [
    {
     "data": {
      "text/plain": [
       "val carre : int -> int -> int = <fun>\n"
      ]
     },
     "execution_count": 19,
     "metadata": {},
     "output_type": "execute_result"
    }
   ],
   "source": [
    "let rec carre x y =\n",
    "  if x = 0\n",
    "  then \n",
    "    if y = 0\n",
    "    then 0\n",
    "    else carre (y-1) 0\n",
    "  else\n",
    "    if y < x\n",
    "    then 1 + carre x (y+1)\n",
    "    else 1 + carre (x-1) y\n",
    ";;"
   ]
  },
  {
   "cell_type": "markdown",
   "id": "initial-northeast",
   "metadata": {},
   "source": [
    "**Question 6** -  Montrer que la fonction `carre` termine."
   ]
  },
  {
   "cell_type": "markdown",
   "id": "88acd1c0",
   "metadata": {},
   "source": [
    "<div class=\"alert alert-success\" role=\"alert\">\n",
    "    \n",
    "*Pour la première version*\n",
    "    \n",
    "Montrons par récurrence sur $x$ que pour tout $x \\in \\mathbb{N}$, pour tout $y \\in \\mathbb{N}$, `carre` $x$ $y$ termine.\n",
    "    \n",
    "* Soit $y \\in \\mathbb{N}$, l'appel `carre` $0$ $y$ ne nécessite aucun appel récursif et termine.\n",
    "* Soit $x \\in \\mathbb{N}^*$, on suppose que pour tout $y \\in \\mathbb{N}$,  `carre` $(x-1)$ $y$ termine.\n",
    "    Soit $y \\in \\mathbb{N}$,\n",
    "    - Si $y \\geq x$, alors on effectue un seul appel récursif `carre` $(x-1)$ $y$ qui termine et dont la terminaison assure celle de la fonction. \n",
    "    - Sinon : montrons que pour tout $k \\in \\{0, ..., x\\}$, `carre` $x$ $(x-k)$ termine ;\n",
    "        * `carre` $x$ $(x-0)$ termine car $x - 0 \\geq x$.\n",
    "        * Soit $k \\in \\{0, ..., x-1\\}$, on suppose que `carre` $x$ $(x-k)$ termine, alors on effectue un unique appel récursif `carre` $x$ $(x-k)$ qui termine.\n",
    "    \n",
    "    Par conséquent, si $y < x$, alors pour $k =  x - y$ : l'appel `carre` $x$ $y$ termine \n",
    "</div>"
   ]
  },
  {
   "cell_type": "markdown",
   "id": "7410dc9f",
   "metadata": {},
   "source": [
    "<div class=\"alert alert-success\" role=\"alert\">\n",
    "    \n",
    "*Pour la seconde version*\n",
    "    \n",
    "On utilisera l'ordre lexicographique sur $\\mathbb{N}^2$ pour le couple $(x+y,x)$."
   ]
  }
 ],
 "metadata": {
  "kernelspec": {
   "display_name": "OCaml default",
   "language": "OCaml",
   "name": "ocaml-jupyter"
  },
  "language_info": {
   "codemirror_mode": "text/x-ocaml",
   "file_extension": ".ml",
   "mimetype": "text/x-ocaml",
   "name": "OCaml",
   "nbconverter_exporter": null,
   "pygments_lexer": "OCaml",
   "version": "4.08.1"
  }
 },
 "nbformat": 4,
 "nbformat_minor": 5
}
