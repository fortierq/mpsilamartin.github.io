{
 "cells": [
  {
   "cell_type": "markdown",
   "id": "097d69a6",
   "metadata": {},
   "source": [
    "# Exercice 1\n",
    "*Les questions sont indépendantes. Dans cette exercice, on n'utilisera pas le module `List`*\n",
    "1. Ecrire une fonction `exists : ('a -> bool) -> 'a list -> bool` qui prend en argument une fonction `f` et une liste `lst` et qui renvoie `true` si la liste comporte au moins un élément `a` tel que `f a` vaut `true`, `false` sinon."
   ]
  },
  {
   "cell_type": "code",
   "execution_count": 1,
   "id": "17d1652c",
   "metadata": {},
   "outputs": [
    {
     "data": {
      "text/plain": [
       "val exists : ('a -> bool) -> 'a list -> bool = <fun>\n"
      ]
     },
     "execution_count": 1,
     "metadata": {},
     "output_type": "execute_result"
    }
   ],
   "source": [
    "let rec exists f lst =\n",
    "  match lst with\n",
    "  | [] -> false\n",
    "  | t::q -> f t || exists f q\n",
    ";;"
   ]
  },
  {
   "cell_type": "markdown",
   "id": "a80624e1",
   "metadata": {},
   "source": [
    "2. Ecrire une fonction `for_all : ('a -> bool) -> 'a list -> bool` qui prend en argument une fonction `f` et une liste `lst` et qui renvoie `true` si `f` vaut `true` pour tous les éléments de la liste, `false` sinon."
   ]
  },
  {
   "cell_type": "code",
   "execution_count": 2,
   "id": "88207063",
   "metadata": {},
   "outputs": [
    {
     "data": {
      "text/plain": [
       "val for_all : ('a -> bool) -> 'a list -> bool = <fun>\n"
      ]
     },
     "execution_count": 2,
     "metadata": {},
     "output_type": "execute_result"
    }
   ],
   "source": [
    "let rec for_all f lst =\n",
    "  match lst with\n",
    "  | [] -> true\n",
    "  | t::q -> f t && for_all f q\n",
    ";;"
   ]
  },
  {
   "cell_type": "markdown",
   "id": "8943a92c",
   "metadata": {},
   "source": [
    "3. Le type polymorphe `'a option`, présent dans la bibliothèque standard OCaml, est défini par : \n",
    "    ```Ocaml\n",
    "    type 'a option = \n",
    "      | None\n",
    "      | Some of 'a\n",
    "      ;;\n",
    "      ```\n",
    "     Ecrire une fonction `maxi : 'a list -> 'a option` qui prend en argument une liste et qui renvoie `None` si la liste est vide, et le maximum de la liste sinon.\n",
    "       "
   ]
  },
  {
   "cell_type": "code",
   "execution_count": 3,
   "id": "935b65db",
   "metadata": {},
   "outputs": [
    {
     "data": {
      "text/plain": [
       "val maxi : 'a list -> 'a option = <fun>\n"
      ]
     },
     "execution_count": 3,
     "metadata": {},
     "output_type": "execute_result"
    }
   ],
   "source": [
    "let rec maxi lst =\n",
    "   match lst with\n",
    "   | [] -> None\n",
    "   | t::q -> match maxi q with\n",
    "             | None -> Some t\n",
    "             | Some m -> Some (max m t)\n",
    ";;"
   ]
  },
  {
   "cell_type": "markdown",
   "id": "eb3c1836",
   "metadata": {},
   "source": [
    "<span style='color:Teal '>\n",
    "    \n",
    "En fait, si `'a` est un type ordonné, le type `'a option` hérite de l'ordre induit par celui sur le type `'a`, avec `None` strictement inférieur à tous les éléments. On pourrait donc écrire une des deux fonctions suivantes :\n",
    "</span>"
   ]
  },
  {
   "cell_type": "code",
   "execution_count": 4,
   "id": "184b538a",
   "metadata": {},
   "outputs": [
    {
     "data": {
      "text/plain": [
       "val maxi : 'a list -> 'a option = <fun>\n"
      ]
     },
     "execution_count": 4,
     "metadata": {},
     "output_type": "execute_result"
    }
   ],
   "source": [
    "let rec maxi lst =\n",
    "   match lst with\n",
    "   | [] -> None\n",
    "   | [x] -> Some x\n",
    "   | t::q -> max (maxi q) (Some t)\n",
    ";;"
   ]
  },
  {
   "cell_type": "code",
   "execution_count": 5,
   "id": "3e8011d2",
   "metadata": {},
   "outputs": [
    {
     "data": {
      "text/plain": [
       "val maxi : 'a list -> 'a option = <fun>\n"
      ]
     },
     "execution_count": 5,
     "metadata": {},
     "output_type": "execute_result"
    }
   ],
   "source": [
    "let rec maxi lst =\n",
    "   match lst with\n",
    "   | [] -> None\n",
    "   | t::q -> max (maxi q) (Some t)\n",
    ";;"
   ]
  },
  {
   "cell_type": "markdown",
   "id": "d6ac1774",
   "metadata": {},
   "source": [
    "Montrer que votre fonction termine.\n",
    "\n",
    "<span style='color:Teal '>\n",
    "Par récurrence sur la longueur $n$ de la liste :\n",
    "    \n",
    "- Si $n = 0$, la liste est vide et la fonction termine\n",
    "- Si $n \\geqslant 1$, supposons que la fonction termine pour une liste de longueur $n-1$ ;\n",
    "    - ou bien n = 1 et la fonction termine ;\n",
    "    - ou bien $n \\geqslant 2$, alors le troisième cas s'applique et `q` est de longueur $n-1$, donc `maxi q` termine. Par conséquent, la fonction termine.\n",
    "\n",
    "Finalement, la fonction termine pour toutes les listes.\n",
    "</span>"
   ]
  },
  {
   "cell_type": "markdown",
   "id": "335b4a30",
   "metadata": {},
   "source": [
    "# Exercice 2\n",
    "    \n",
    "1. On considère le type `signe` défini de la manière suivante :"
   ]
  },
  {
   "cell_type": "code",
   "execution_count": 6,
   "id": "ece2285c",
   "metadata": {},
   "outputs": [
    {
     "data": {
      "text/plain": [
       "type signe = Plus | Moins\n"
      ]
     },
     "execution_count": 6,
     "metadata": {},
     "output_type": "execute_result"
    }
   ],
   "source": [
    "type signe =\n",
    "  | Plus\n",
    "  | Moins\n",
    ";;"
   ]
  },
  {
   "cell_type": "markdown",
   "id": "2843cd40",
   "metadata": {},
   "source": [
    "Définir une fonction `changement_signe` de prenant en entrée un signe `s` et retournant le signe opposé à `s`. Préciser son type."
   ]
  },
  {
   "cell_type": "code",
   "execution_count": 7,
   "id": "16d4ef9d",
   "metadata": {},
   "outputs": [
    {
     "data": {
      "text/plain": [
       "val changement_signe : signe -> signe = <fun>\n"
      ]
     },
     "execution_count": 7,
     "metadata": {},
     "output_type": "execute_result"
    }
   ],
   "source": [
    "let changement_signe s =\n",
    "  match s with\n",
    "  | Plus -> Moins\n",
    "  | Moins -> Plus\n",
    ";;"
   ]
  },
  {
   "cell_type": "markdown",
   "id": "7611956a",
   "metadata": {},
   "source": [
    "2. Après avoir défini une type `limite` comportant quatre constructeurs dont 3 paramétrés, on peut écrire la fonction `oppose : limite -> limite` ci-dessous, qui renvoie la valeur de la limite de l'opposée d'une suite réelle de limite `lim`.\n",
    "```OCaml\n",
    "let oppose lim =\n",
    "    match lim with\n",
    "    | FormeIndeterminee -> FormeIndeterminee\n",
    "    | Infini signe -> Infini (changement_signe signe)\n",
    "    | Zero signe -> Zero (changement_signe signe)\n",
    "    | Reel valeur -> Reel (-. valeur)\n",
    ";;\n",
    "```\n",
    "\n",
    "   - Définir le type `limite`.\n",
    "   "
   ]
  },
  {
   "cell_type": "code",
   "execution_count": 8,
   "id": "c463c1f1",
   "metadata": {},
   "outputs": [
    {
     "data": {
      "text/plain": [
       "type limite =\n",
       "    FormeIndeterminee\n",
       "  | Infini of signe\n",
       "  | Zero of signe\n",
       "  | Reel of float\n"
      ]
     },
     "execution_count": 8,
     "metadata": {},
     "output_type": "execute_result"
    }
   ],
   "source": [
    "type limite =\n",
    "   | FormeIndeterminee\n",
    "   | Infini of signe\n",
    "   | Zero of signe\n",
    "   | Reel of float\n",
    ";;"
   ]
  },
  {
   "cell_type": "code",
   "execution_count": 9,
   "id": "5be2c659",
   "metadata": {},
   "outputs": [
    {
     "data": {
      "text/plain": [
       "val oppose : limite -> limite = <fun>\n"
      ]
     },
     "execution_count": 9,
     "metadata": {},
     "output_type": "execute_result"
    }
   ],
   "source": [
    "let oppose lim =\n",
    " match lim with\n",
    " | FormeIndeterminee -> FormeIndeterminee\n",
    " | Infini signe -> Infini (changement_signe signe)\n",
    " | Zero signe -> Zero (changement_signe signe)\n",
    " | Reel valeur -> Reel (-. valeur)\n",
    ";;"
   ]
  },
  {
   "cell_type": "markdown",
   "id": "17a69dbb",
   "metadata": {},
   "source": [
    "   - Que valent `oppose (Zero Plus)` et `oppose (Reel 2022.)` ?"
   ]
  },
  {
   "cell_type": "code",
   "execution_count": 10,
   "id": "e5d1402d",
   "metadata": {},
   "outputs": [
    {
     "data": {
      "text/plain": [
       "- : limite = Zero Moins\n"
      ]
     },
     "execution_count": 10,
     "metadata": {},
     "output_type": "execute_result"
    }
   ],
   "source": [
    "oppose (Zero Plus)"
   ]
  },
  {
   "cell_type": "code",
   "execution_count": 11,
   "id": "ac13d9ab",
   "metadata": {},
   "outputs": [
    {
     "data": {
      "text/plain": [
       "- : limite = Reel (-2022.)\n"
      ]
     },
     "execution_count": 11,
     "metadata": {},
     "output_type": "execute_result"
    }
   ],
   "source": [
    "oppose (Reel 2022.)"
   ]
  },
  {
   "cell_type": "markdown",
   "id": "18354167",
   "metadata": {},
   "source": [
    "2. Définir une fonction `inverse` prenant en entrée une limite `lim` et renvoyant la limite de l'inverse d'une suite de limite `lim`. Préciser son type."
   ]
  },
  {
   "cell_type": "code",
   "execution_count": 12,
   "id": "7d62f4a3",
   "metadata": {},
   "outputs": [
    {
     "data": {
      "text/plain": [
       "val inverse : limite -> limite = <fun>\n"
      ]
     },
     "execution_count": 12,
     "metadata": {},
     "output_type": "execute_result"
    }
   ],
   "source": [
    "let inverse lim =\n",
    "   match lim with\n",
    "   | Infini s -> Zero s\n",
    "   | Zero s -> Infini s\n",
    "   | Reel x -> if x = 0. then FormeIndeterminee else Reel (1. /. x)\n",
    "   | _ -> FormeIndeterminee\n",
    ";;"
   ]
  },
  {
   "cell_type": "markdown",
   "id": "37345b4f",
   "metadata": {},
   "source": [
    "3. Définir une fonction `somme` prenant en entrée deux limites `lim1` et `lim2` renvoyant la limite de la somme de deux suites de limites respectives `lim1` et `lim2`.\n",
    "\n",
    "  Dans le cas d'une somme de limite nulle, on prendra garde à distinguer les cas pour lesquels on connaît le signe de la somme au voisinage de $+\\infty$.\n",
    "  "
   ]
  },
  {
   "cell_type": "code",
   "execution_count": 13,
   "id": "f507b617",
   "metadata": {},
   "outputs": [
    {
     "data": {
      "text/plain": [
       "val somme : limite -> limite -> limite = <fun>\n"
      ]
     },
     "execution_count": 13,
     "metadata": {},
     "output_type": "execute_result"
    }
   ],
   "source": [
    "let somme lim1 lim2 =\n",
    "    match lim1, lim2 with\n",
    "    | FormeIndeterminee, _ | _, FormeIndeterminee -> FormeIndeterminee\n",
    "    | Infini s1, Infini s2 -> if s1 = s2 then Infini s1 else FormeIndeterminee\n",
    "    | Infini s, _ | _, Infini s -> Infini s\n",
    "    | Zero s1, Zero s2 -> if s1 = s2 then Zero s1 else Reel 0.\n",
    "    | Zero _, Reel a | Reel a, Zero _ -> Reel a\n",
    "    | Reel a, Reel b -> Reel (a +. b)\n",
    ";;"
   ]
  },
  {
   "cell_type": "markdown",
   "id": "d1a834ab",
   "metadata": {},
   "source": [
    "4. Définir une fonction `produit` prenant en entrée deux limites `lim1` et `lim2` renvoyant la limite du produit de deux suites de limites respectives `lim1` et `lim2`.\n",
    "\n",
    "  On pourra commencer par écrire une fonction prenant en entrée deux signes et appliquant la règle des signes pour le produit.\n",
    "\n",
    "  Dans le cas où la limite du produit est nulle, on s'efforcera d'utiliser le constructeur `Zero` dès lors qu'il est possible de connaître le signe du produit au voisinage de $+\\infty$."
   ]
  },
  {
   "cell_type": "code",
   "execution_count": 14,
   "id": "e8e5b246",
   "metadata": {},
   "outputs": [
    {
     "data": {
      "text/plain": [
       "val produit : limite -> limite -> limite = <fun>\n"
      ]
     },
     "execution_count": 14,
     "metadata": {},
     "output_type": "execute_result"
    }
   ],
   "source": [
    "let produit lim1 lim2 =\n",
    "    match lim1, lim2 with\n",
    "    | FormeIndeterminee, _ | _, FormeIndeterminee -> FormeIndeterminee\n",
    "    | Infini s1, Infini s2 -> if s1 = s2 then Infini Plus else Infini Moins\n",
    "    | Infini _, Zero _ | Zero _, Infini _ -> FormeIndeterminee\n",
    "    | Infini s, Reel 0. | Reel 0., Infini s -> FormeIndeterminee\n",
    "    | Infini s, Reel a | Reel a, Infini s -> Infini (if a > 0. then s else changement_signe s)\n",
    "    | Zero s1, Zero s2 -> if s1 = s2 then Zero Plus else Zero Moins\n",
    "    | Zero s, Reel 0. | Reel 0., Zero s -> Reel 0.\n",
    "    | Zero s, Reel a | Reel a, Zero s -> Zero (if a > 0. then s else changement_signe s)\n",
    "    | Reel a, Reel b -> Reel (a *. b)\n",
    ";;"
   ]
  },
  {
   "cell_type": "markdown",
   "id": "5a913b49",
   "metadata": {},
   "source": [
    "# Exercice\n",
    "\n",
    "Les nombres de Fibonacci sont définis par :\n",
    "    $$F_0 = 0, \\quad F_1=1, \\qquad \\forall n \\geqslant 0, F_{n+2}=F_{n+1}+F_n $$\n",
    "    \n",
    "**Notation** : $k$ et $m$ étant des nombres entiers, $k \\gg m$ signifie que $k \\geqslant m+2$.\n",
    "    \n",
    "On admet que tout entier $n$ a **une unique** décomposition :\n",
    "    $$n = F_{k_1}+F_{k_2}+\\dots + F_{k_r} \\text{ où }k_1 \\gg k_2 \\gg \\dots \\gg k_r \\gg 0$$\n",
    "et que pour tout entier naturel $k$,\n",
    "    $$F_{k+1} = F_k+F_{k-2}+F_{k-4}+\\dots + F_{k-2i} + \\dots + 1 \\text{ pour tous les indices tels que }k-2i\\geqslant 2$$\n",
    "    \n",
    "En utilisant cette propriété, on peut déduire assez facilement la décomposition de $n+1$ à partir de celle de $n$.\n",
    "\n",
    "En effet, soit $n=F_{k_1}+F_{k_2}+\\dots + F_{k_r}$ et soit $j \\in ⟦ 1,r ⟧$ le plus petit entier tel que $\\forall s, \\quad s \\in ⟦ j, r ⟧ \\Rightarrow k_{s+1} = k_s-2$. Autrement dit, dans la décomposition de $n$ les indices diminuent de deux en deux, vers la droite, seulement à partir de $k_j$ :\n",
    "    $$n=F_{k_1}+\\dots+F_{k_{j-1}}+\\left( F_{k_j}+F_{k_j-2}+F_{k_j-4}+\\dots + F_{k_r}\\right)$$\n",
    "On distingue trois cas :\n",
    "- Si $k_r>3$, alors $n+1 = F_{k_1}+F_{k_2}+\\dots+F_{k_r}+F_2$ \n",
    "-  Si $k_r \\leqslant 3$ et $j=1$, alors $n+1 = F_{k_1+1}$\n",
    "-  Si $k_r \\leqslant 3$ et $j>1$ , alors $n+1 =F_{k_1}+F_{k_2}+\\dots+ F_{k_{j-1}}+F_{k_j+1}$\n",
    "\n",
    "Ainsi, sachant que $1=F_2$, on déduit :\n",
    "$1=F_2$ (cas 2) $\\rightarrow \\, 2=F_3$ (cas 2) $\\rightarrow \\, 3=F_4$ (cas 1) $\\rightarrow \\, 4=F_4+F_2$ (cas 2) $\\rightarrow \\, 5=F_5$ (cas 1) $\\rightarrow \\, 6=F_5+F_2$ (cas 3) $\\rightarrow \\, 7=F_5+F_3$ (cas 2) $\\rightarrow \\, 8=F_6$ (cas 1) $\\rightarrow \\dots$ "
   ]
  },
  {
   "cell_type": "markdown",
   "id": "a043b297",
   "metadata": {},
   "source": [
    "Dans ce qui suit on représentera la décomposition d'un entier $n$ par le couple `(j,lst)` où `lst` est la liste ordonnée (par ordre décroissant) des indices des nombres de Fibonacci qui interviennent dans la décomposition de $n$ et `j` est l'entier qui indique le rang à partir duquel les éléments de `lst` diminuent de deux en deux.\n",
    "\n",
    "\n",
    "*Exemple :*\n",
    "- $n=33=F_8+F_6+F_4+F_2$ sera représenté par le couple `(1,[8;6;4;2])`.\n",
    "- $n=40=F_9+F_5+F_2$ sera représenté par le couple `(3,[9;5;2])`.\n",
    "\n",
    "1. Ecriture de quelques fonctions qui peuvent s'avérer utiles pour la suite :\n",
    "- Écrire la fonction `ieme : int -> 'a list -> 'a` qui renvoie le `i`{ème} élément d'une liste `lst` ; `ieme 1 lst` renverra le premier élément de la liste `lst`."
   ]
  },
  {
   "cell_type": "code",
   "execution_count": 15,
   "id": "60bcb3be",
   "metadata": {},
   "outputs": [
    {
     "data": {
      "text/plain": [
       "val ieme : int -> 'a list -> 'a = <fun>\n"
      ]
     },
     "execution_count": 15,
     "metadata": {},
     "output_type": "execute_result"
    }
   ],
   "source": [
    "let rec ieme i lst =\n",
    "  match lst with\n",
    "  | [] -> failwith \"Longueur insuffisante\"\n",
    "  | t::q -> if i = 1\n",
    "            then t\n",
    "            else ieme (i-1) q\n",
    ";;"
   ]
  },
  {
   "cell_type": "markdown",
   "id": "f780cc3b",
   "metadata": {},
   "source": [
    "- Écrire la fonction `tete : int -> 'a list -> 'a list` qui renvoie une nouvelle liste construire en recopiant les `i` premiers éléments de la liste `lst`. Si cette sous-liste n'existe pas, la fonction renvoie la liste vide."
   ]
  },
  {
   "cell_type": "code",
   "execution_count": 16,
   "id": "452d2fbc",
   "metadata": {},
   "outputs": [
    {
     "data": {
      "text/plain": [
       "val tete : int -> 'a list -> 'a list = <fun>\n"
      ]
     },
     "execution_count": 16,
     "metadata": {},
     "output_type": "execute_result"
    }
   ],
   "source": [
    "let rec tete i lst =\n",
    "  match lst, i with\n",
    "  | [], _ -> []\n",
    "  | _, 0 -> []\n",
    "  | t::_, 1->  [t]\n",
    "  | t::q, _ -> let tq = tete (i-1) q in\n",
    "               if tq = [] then [] else t::tq\n",
    ";;"
   ]
  },
  {
   "cell_type": "markdown",
   "id": "17f5bbc3",
   "metadata": {},
   "source": [
    "- Écrire la fonction `queue : int -> 'a list -> 'a list` qui renvoie une nouvelle liste construite en supprimant dans la liste `lst` ses `i` premiers éléments. Si cette sous-liste n'existe pas, la fonction renvoie la liste vide."
   ]
  },
  {
   "cell_type": "code",
   "execution_count": 17,
   "id": "2902bc6f",
   "metadata": {},
   "outputs": [
    {
     "data": {
      "text/plain": [
       "val queue : int -> 'a list -> 'a list = <fun>\n"
      ]
     },
     "execution_count": 17,
     "metadata": {},
     "output_type": "execute_result"
    }
   ],
   "source": [
    "let rec queue i lst =\n",
    "  match lst, i with\n",
    "  | [], _ -> []\n",
    "  | _, 0 ->  lst\n",
    "  | t::q, _ -> queue (i-1) q\n",
    ";;"
   ]
  },
  {
   "cell_type": "markdown",
   "id": "e18fdec4",
   "metadata": {},
   "source": [
    "- Ecrire la fonction `ajoute : 'a -> 'a list -> 'a list` qui prend en argument un élément `x` et une liste `lst` et qui renvoie la liste obtenue en ajoutant l'élément `x` à la fin de la liste `lst`."
   ]
  },
  {
   "cell_type": "code",
   "execution_count": 18,
   "id": "8ade0c6b",
   "metadata": {},
   "outputs": [
    {
     "data": {
      "text/plain": [
       "val ajoute : 'a -> 'a list -> 'a list = <fun>\n"
      ]
     },
     "execution_count": 18,
     "metadata": {},
     "output_type": "execute_result"
    }
   ],
   "source": [
    "let rec ajoute x lst =\n",
    "  match lst with\n",
    "  | [] -> [x]\n",
    "  | t::q -> t::(ajoute x q)\n",
    ";;"
   ]
  },
  {
   "cell_type": "markdown",
   "id": "39f9e301",
   "metadata": {},
   "source": [
    "- Ecrire la fonction `fusion : 'a list -> 'a list -> 'a list` qui prend en argument deux listes supposées triées dans l'ordre \\textbf{décroissant} et qui renvoie une liste triée dans l'ordre décroissant et contenant les éléments des deux listes."
   ]
  },
  {
   "cell_type": "code",
   "execution_count": 19,
   "id": "d69c5b22",
   "metadata": {},
   "outputs": [
    {
     "data": {
      "text/plain": [
       "val fusion : 'a list -> 'a list -> 'a list = <fun>\n"
      ]
     },
     "execution_count": 19,
     "metadata": {},
     "output_type": "execute_result"
    }
   ],
   "source": [
    "let rec fusion l1 l2 =\n",
    "    match l1,l2 with\n",
    "    | [],_ -> l2\n",
    "    | _, [] -> l1\n",
    "    | t1::q1, t2::q2 -> if t1 > t2\n",
    "                        then t1::(fusion q1 l2)\n",
    "                        else t2::(fusion l1 q2)\n",
    ";;"
   ]
  },
  {
   "cell_type": "markdown",
   "id": "e88f3320",
   "metadata": {},
   "source": [
    "- Montrer que cette fonction termine."
   ]
  },
  {
   "cell_type": "markdown",
   "id": "473182db",
   "metadata": {},
   "source": [
    "\n",
    "<span style='color:Teal '>\n",
    "Par induction sur le couple $(n_1,n_2)$ des longueurs respectives des listes `l1` et `l2` :\n",
    "    \n",
    "- Si $(n_1, n_2) = (0, 0)$, les deux listes sont vides donc la fonction termine\n",
    "- Sinon, supposons que la fonction termine pour tous les couples d'entiers naturels strictement inférieurs à $(n_1,n_2)$ ;\n",
    "    - si $n_1 = 0$ ou $n_2 = 0$, une des deux listes est vide et la fonction termine ;\n",
    "    - sinon, on effectue un appel récursif pour deux listes de longueurs $(n_1-1,n_2)$ ou $(n_1, n_2-1)$, qui sont strictement plus petits que $(n_1, n_2)$, donc la fonction termine.\n",
    "\n",
    "Finalement, la fonction termine pour toutes les listes.\n",
    "    \n",
    "*Remarque : il est bien évidemment possible de raisonner par récurrence sur la somme des deux longueurs*\n",
    "</span>"
   ]
  },
  {
   "cell_type": "markdown",
   "id": "3a1b2894",
   "metadata": {},
   "source": [
    "    \n",
    "On pourra de plus utiliser les fonctions `List.length`, `List.hd`, `List.tl`.\n",
    "\n",
    "*Exemples :*\n",
    "```OCaml\n",
    "# ieme 3 [10; 8; 6; 2];;\n",
    " - : int = 6\n",
    "# tete 3 [10; 8; 6; 2];;\n",
    " - : int list = [10; 8; 6]\n",
    "# queue 3 [10; 8; 6; 2];;\n",
    " - : int list = [2]\n",
    "# ajoute 1 [10; 8; 6; 2];;\n",
    " - : int list = [10; 8; 6; 2; 1]\n",
    "```\n",
    "*Dans la suite, il peut être pertinent de faire précéder la fonction demandée par d'autres définitions de fonctions utiles.*"
   ]
  },
  {
   "cell_type": "markdown",
   "id": "2f0bb656",
   "metadata": {},
   "source": [
    "2. Ecrire la fonction `enumere : int -> (int*int list) list` qui à partir de la décomposition $1=F_2$, engendre les décompositions en somme de Fibonacci de tous les entiers jusqu'à `n`. Le résultat de cette fonction doit être une liste de couples :\n",
    "\n",
    "   `[(1,[2]);(1;[3]);(1;[4]);(1;[4;2]);(1;[5]);(2;[5;2]);(1;[5;3]);(1;[6]);...]`"
   ]
  },
  {
   "cell_type": "markdown",
   "id": "e713c0df",
   "metadata": {},
   "source": [
    "<span style='color:Teal '>\n",
    "    \n",
    " La fonction `calcule_j` prend en argument une liste $[k_1;\\dots;k_r]$ telle que ${k_1 \\gg \\dots \\gg k_r \\gg 0}$ et renvoie $j \\in [ 1, r ]$ tel que $\\forall s \\in [j, r], k_{s+1} = k_s-2$.\n",
    "</span>"
   ]
  },
  {
   "cell_type": "code",
   "execution_count": 20,
   "id": "888fe175",
   "metadata": {},
   "outputs": [
    {
     "data": {
      "text/plain": [
       "val calcule_j : int list -> int = <fun>\n"
      ]
     },
     "execution_count": 20,
     "metadata": {},
     "output_type": "execute_result"
    }
   ],
   "source": [
    "let rec calcule_j lst =\n",
    "  match lst with\n",
    "  | [] -> 0\n",
    "  | [_] -> 1\n",
    "  | t1::q -> let j2 = calcule_j q in\n",
    "         if t1 > List.hd q + 2\n",
    "         then j2 + 1\n",
    "         else\n",
    "           if j2 = 1\n",
    "           then 1\n",
    "           else j2 + 1\n",
    ";;"
   ]
  },
  {
   "cell_type": "markdown",
   "id": "c7e69803",
   "metadata": {},
   "source": [
    "<span style='color:Teal '>\n",
    "    \n",
    " La fonction `suivant` prend en argument la liste représentant un entier $n$ et renvoie la liste représentant l'entier $n+1$.</span>"
   ]
  },
  {
   "cell_type": "code",
   "execution_count": 21,
   "id": "3667c352",
   "metadata": {},
   "outputs": [
    {
     "data": {
      "text/plain": [
       "val suivant : int * int list -> int * int list = <fun>\n"
      ]
     },
     "execution_count": 21,
     "metadata": {},
     "output_type": "execute_result"
    }
   ],
   "source": [
    "let suivant (j, lst) =\n",
    "  let lgr = List.length lst in\n",
    "  let kr = ieme lgr lst in\n",
    "  if kr > 3\n",
    "  then let lst_suivant = ajoute 2 lst in\n",
    "       let new_j = (if kr = 4 then j else List.length lst_suivant)\n",
    "       in (new_j, lst_suivant)\n",
    "  else\n",
    "    if j = 1\n",
    "    then (1, [List.hd lst + 1])\n",
    "    else\n",
    "      let lst_suivant = ajoute (ieme j lst + 1) (tete (j-1) lst) in\n",
    "      (calcule_j lst_suivant, lst_suivant)\n",
    ";;"
   ]
  },
  {
   "cell_type": "markdown",
   "id": "07cb8e75",
   "metadata": {},
   "source": [
    "<span style='color:Teal '>\n",
    "    \n",
    " Enfin, la fonction locale `aux` prend en argument une liste `last` représentant un entier $p$, une liste `acc` des décompositions des entiers de $1$ à $p$ et le nombre d'éléments `nb` qu'il reste à calculer et renvoie la liste complétée avec les décompositions des `nb` entiers suivants.</span>"
   ]
  },
  {
   "cell_type": "code",
   "execution_count": 22,
   "id": "0e5f1809",
   "metadata": {},
   "outputs": [
    {
     "data": {
      "text/plain": [
       "val enumere : int -> (int * int list) list = <fun>\n"
      ]
     },
     "execution_count": 22,
     "metadata": {},
     "output_type": "execute_result"
    }
   ],
   "source": [
    "let enumere n =\n",
    "  let rec aux last acc nb =\n",
    "    match nb with\n",
    "    | 0 -> acc\n",
    "    | _ -> let next = suivant last in\n",
    "           aux next (ajoute next acc) (nb-1)\n",
    "  in\n",
    "  let un = (1, [2]) in\n",
    "  aux un [un] (n-1) \n",
    ";;"
   ]
  },
  {
   "cell_type": "markdown",
   "id": "21801b41",
   "metadata": {},
   "source": [
    "<span style='color:Teal '>\n",
    "    \n",
    "*Remarque : l'utilisation de la fonction `ajoute` n'est pas idéale pour la complexité. Il pourrait être pertinent de construire la liste à l'envers, puis de la renverser.*\n",
    "    </span>"
   ]
  },
  {
   "cell_type": "markdown",
   "id": "b5177b48",
   "metadata": {},
   "source": [
    "3. Soit $n=F_{i_1}+F_{i_2}+\\dots+F_{i_s}$ où $i_1  \\geqslant i_2 \\geqslant \\dots \\geqslant i_s \\geqslant 2$ une somme quelconque de nombres de Fibonacci.\n",
    "\n",
    "   Ecrire la fonction `decomposition : int list -> int list` qui renvoie la liste des indices des nombres de Fibonacci de l'unique décomposition de ${n=F_{k_1}+F_{k_2}+\\dots + F_{k_r}}$ où $k_1 \\gg k_2 \\gg \\dots \\gg k_r \\gg 0$.\n",
    "   \n",
    "    Si la fonction `decomposition` reçoit pour paramètre effectif la liste $[i_1;i_2;\\dots;i_s]$ elle retourne pour résultat la liste $[k_1;k_2;\\dots;k_r]$."
   ]
  },
  {
   "cell_type": "markdown",
   "id": "c65cac89",
   "metadata": {},
   "source": [
    "<span style='color:Teal '>\n",
    "    \n",
    " Plutôt que de calculer l'entier correspondant à la somme puis sa décomposition, procédons par modifications successives de la liste $[i_1;\\dots;i_s]$, en remarquant que :\n",
    "- si $i_j=p$ et $i_{j-1} = p-1$, alors $F_{i_j} + F_{i_{j+1}} = F_{p+1}$ ;\n",
    "- si $i_j=i_{j+1} = p$ avec $p \\geqslant 4$, alors $F_{i_j} + F_{i_{j+1}} = F_{p+1}+F_{p-2}$ ;\n",
    "- si $i_j=i_{j+1} = 3$, alors $F_{i_j} + F_{i_{j+1}} = F_{4}+F_{1} = F_{4}+F_{2}$ ;\n",
    "- si $i_j=i_{j+1} = 2$,\n",
    "    alors $F_{i_j} + F_{i_{j+1}} = 2 = F_{3}$ ;\n",
    "\n",
    "On parcourt alors la liste jusqu'à trouver un indice $j$ tel que la condition $i_j \\gg i_{j+1}$ n'est pas vérifiée, puis on applique la transformation correspondante (fonction `une_etape`). Pour cela, on utilise la fonction `insere` qui insère un élément à sa place dans une liste triée.\n",
    "\n",
    "La fonction `une_etape` renvoie la liste obtenue après une éventuelle transformation, ainsi qu'un booléen indiquant si la liste a été modifiée.\n",
    "\n",
    "\n",
    "Pour obtenir la décomposition attendue, on applique la fonction `une_etape` jusqu'à ce qu'il n'y ait plus de modification à apporter.\n",
    "    </span>"
   ]
  },
  {
   "cell_type": "code",
   "execution_count": 23,
   "id": "5efce459",
   "metadata": {},
   "outputs": [
    {
     "data": {
      "text/plain": [
       "val insere : 'a -> 'a list -> 'a list = <fun>\n"
      ]
     },
     "execution_count": 23,
     "metadata": {},
     "output_type": "execute_result"
    },
    {
     "data": {
      "text/plain": [
       "val une_etape : int list -> int list * bool = <fun>\n"
      ]
     },
     "execution_count": 23,
     "metadata": {},
     "output_type": "execute_result"
    },
    {
     "data": {
      "text/plain": [
       "val decomposition : int list -> int list = <fun>\n"
      ]
     },
     "execution_count": 23,
     "metadata": {},
     "output_type": "execute_result"
    }
   ],
   "source": [
    "let rec insere e lst =\n",
    "  match lst with\n",
    "  | [] -> [e]\n",
    "  | t::q  -> if t > e\n",
    "             then t::(insere e q)\n",
    "             else e::lst\n",
    ";;\n",
    "\n",
    "let rec une_etape lst =\n",
    "    match lst with\n",
    "    | [] -> [], true\n",
    "    | [_] -> lst, true\n",
    "    | t1::t2::q ->\n",
    "       match t1-t2 with\n",
    "       | 0 ->\n",
    "          begin\n",
    "              match t1 with\n",
    "              | 2 -> 3::q, false\n",
    "              | 3 -> 4::(insere 2 q), false\n",
    "              | _ -> (t1+1)::(insere (t1-2) q), false\n",
    "            end\n",
    "       | 1 -> (t1+1)::q, false\n",
    "       | _ -> let qr, fini = une_etape (t2::q) in\n",
    "              t1::qr, fini\n",
    ";;\n",
    "\n",
    "\n",
    "let rec decomposition liste =\n",
    "  let lst, fini = une_etape liste in\n",
    "  if fini\n",
    "  then lst\n",
    "  else decomposition lst\n",
    ";;"
   ]
  },
  {
   "cell_type": "markdown",
   "id": "c0439c70",
   "metadata": {},
   "source": [
    "<span style='color:Teal '>\n",
    " \n",
    "*Remarque :  La terminaison de cette fonction ne semble pas assurée. On pourra vérifier que le triplet $\\left(s, \\sum_{j=1}^s i_j, \\mathrm{Card}\\, \\{j \\mid i_j = 3 \\} \\right)$ décroît strictement pour l'ordre lexicographique sur $\\mathbb{N}^3$ à chaque appel de `decomposition`.*\n",
    "    </span>"
   ]
  },
  {
   "cell_type": "markdown",
   "id": "d29580da",
   "metadata": {},
   "source": [
    "4. Ecrire la fonction `somme : int list -> int list -> int list` qui prend en arguments deux listes correspondant à l'unique décomposition de deux entiers et retourne pour résultat la liste correspondant à l'unique décomposition de la somme de ces deux entiers."
   ]
  },
  {
   "cell_type": "code",
   "execution_count": 24,
   "id": "67d743d8",
   "metadata": {},
   "outputs": [
    {
     "data": {
      "text/plain": [
       "val somme : int list -> int list -> int list = <fun>\n"
      ]
     },
     "execution_count": 24,
     "metadata": {},
     "output_type": "execute_result"
    }
   ],
   "source": [
    "let somme a b = decomposition (fusion a b)\n",
    ";;"
   ]
  }
 ],
 "metadata": {
  "kernelspec": {
   "display_name": "OCaml default",
   "language": "OCaml",
   "name": "ocaml-jupyter"
  },
  "language_info": {
   "codemirror_mode": "text/x-ocaml",
   "file_extension": ".ml",
   "mimetype": "text/x-ocaml",
   "name": "OCaml",
   "nbconverter_exporter": null,
   "pygments_lexer": "OCaml",
   "version": "4.08.1"
  },
  "latex_envs": {
   "LaTeX_envs_menu_present": true,
   "autoclose": false,
   "autocomplete": true,
   "bibliofile": "biblio.bib",
   "cite_by": "apalike",
   "current_citInitial": 1,
   "eqLabelWithNumbers": true,
   "eqNumInitial": 1,
   "hotkeys": {
    "equation": "Ctrl-E",
    "itemize": "Ctrl-I"
   },
   "labels_anchors": false,
   "latex_user_defs": false,
   "report_style_numbering": true,
   "user_envs_cfg": true
  }
 },
 "nbformat": 4,
 "nbformat_minor": 5
}
