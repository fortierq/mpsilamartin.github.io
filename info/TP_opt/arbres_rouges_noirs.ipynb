{
 "cells": [
  {
   "cell_type": "code",
   "execution_count": null,
   "id": "a6bd3e47",
   "metadata": {},
   "outputs": [],
   "source": [
    "(* Cellule à exécuter en début de TP pour les tests *)\n",
    "let fonction_test nom b =\n",
    "   let () = print_endline (Printf.sprintf \"Test %s : %s\" nom (if b then \"\\027[1m\\027[32mOK\\027[0m\" else \"\\027[1m\\027[31méchec\\027[0m\"))\n",
    "   in assert b\n",
    "   ;;"
   ]
  },
  {
   "cell_type": "markdown",
   "id": "39e17794",
   "metadata": {
    "deletable": false,
    "editable": false,
    "nbgrader": {
     "cell_type": "markdown",
     "checksum": "0cc250596ef76d30d7a630f44847564f",
     "grade": false,
     "grade_id": "titre",
     "locked": true,
     "schema_version": 3,
     "solution": false,
     "task": false
    }
   },
   "source": [
    "# Arbres rouges et noirs"
   ]
  },
  {
   "cell_type": "markdown",
   "id": "e9ad7e9f",
   "metadata": {
    "deletable": false,
    "editable": false,
    "nbgrader": {
     "cell_type": "markdown",
     "checksum": "71002db3786750cab7dc22a9b2bd001a",
     "grade": false,
     "grade_id": "intro2",
     "locked": true,
     "schema_version": 3,
     "solution": false,
     "task": false
    }
   },
   "source": [
    "La complexité des opérations sur un arbre binaire de recherche dépend de la hauteur de l'arbre. Il est donc préférable d'avoir des arbres binaires de recherche *équilibrés*, c'est-à-dire pour lesquels la hauteur est un $O(\\log n)$ où $n$ est le nombre de nœuds de l'arbre.\n",
    "\n",
    "\n",
    "Un *arbre rouge et noir* est un arbre binaire de recherche dont chauqe nœud possède une couleur qui vaut soit rouge, soit noir, et qui vérifie les deux propriétés suivantes :\n",
    "1. Les fils d'un nœud rouge sont noirs ;\n",
    "2. Le chemin entre la racine et n'importe quelle feuille contient toujours le même nombre nœud noir.\n",
    "\n",
    "On utilisera les types suivants :"
   ]
  },
  {
   "cell_type": "code",
   "execution_count": null,
   "id": "f1aed98c",
   "metadata": {
    "deletable": false,
    "editable": false,
    "nbgrader": {
     "cell_type": "code",
     "checksum": "0f33e9e6191f273c00afa56a9ca0ff49",
     "grade": false,
     "grade_id": "def_type2",
     "locked": true,
     "schema_version": 3,
     "solution": false,
     "task": false
    }
   },
   "outputs": [],
   "source": [
    "type couleur =\n",
    "  | Rouge\n",
    "  | Noir\n",
    ";;\n",
    "\n",
    "type 'a arbreRN =\n",
    "  | Vide\n",
    "  | Noeud of couleur * 'a * 'a arbreRN * 'a arbreRN\n",
    ";;"
   ]
  },
  {
   "cell_type": "markdown",
   "id": "71b6a712",
   "metadata": {
    "deletable": false,
    "editable": false,
    "nbgrader": {
     "cell_type": "markdown",
     "checksum": "a8a6ad2e5e07d811f9202c0868867166",
     "grade": false,
     "grade_id": "enonce_q10",
     "locked": true,
     "schema_version": 3,
     "solution": false,
     "task": false
    }
   },
   "source": [
    "### Vérification des propriétés\n",
    "\n",
    "<font size=\"5\">👨‍💻</font>\n",
    "Écrire une fonction `verifier_couleur : 'a arbreRN -> bool` prenant en argument un élément $a$ de type `arbreRN` et renvoyant le booléen `true` si $a$ vérifie la propriété 1 (i.e tout fils d'un nœud rouge est noir), `false` sinon."
   ]
  },
  {
   "cell_type": "code",
   "execution_count": null,
   "id": "cf3b634b",
   "metadata": {
    "deletable": false,
    "nbgrader": {
     "cell_type": "code",
     "checksum": "c9813a99671807d45db3a45adb5635cd",
     "grade": false,
     "grade_id": "cell-f93f477b0f10db4b",
     "locked": false,
     "schema_version": 3,
     "solution": true,
     "task": false
    }
   },
   "outputs": [],
   "source": [
    "(*À remplacer par votre code*)\n",
    "failwith \"Code manquant\""
   ]
  },
  {
   "cell_type": "code",
   "execution_count": null,
   "id": "186410ef",
   "metadata": {
    "deletable": false,
    "editable": false,
    "nbgrader": {
     "cell_type": "code",
     "checksum": "828f42d3bae0ccd1496b22cf22062e1d",
     "grade": true,
     "grade_id": "cell-7d19d5fd27feaa3d",
     "locked": true,
     "points": 1,
     "schema_version": 3,
     "solution": false,
     "task": false
    }
   },
   "outputs": [],
   "source": []
  },
  {
   "cell_type": "markdown",
   "id": "c7b536ae",
   "metadata": {
    "deletable": false,
    "editable": false,
    "nbgrader": {
     "cell_type": "markdown",
     "checksum": "e0075da44163eb0483a74b8f94885ed9",
     "grade": false,
     "grade_id": "enonce_q11",
     "locked": true,
     "schema_version": 3,
     "solution": false,
     "task": false
    }
   },
   "source": [
    "<font size=\"5\">👩🏽‍💻</font>\n",
    "On appelle *hauteur noire* d'un arbre rouge et noir le nombre de nœuds noirs présents dans n'importe quel chemin de la racine à une feuille.\n",
    "\n",
    "La hauteur noire d'un élément de type `arbreRN` n'étant défini que lorsque la propriété 2 est vérifiée, on va utiliser le type `'a option` présent dans la bibliothèque standard OCaml, qui peut être décrit de la manière suivante :\n",
    "```\n",
    "type 'a option =\n",
    "  | Some of 'a\n",
    "  | None \n",
    ";;\n",
    "```\n",
    "\n",
    "Écrire une fonction `hauteur_noire : 'a arbreRN -> int option` prenant en argument un arbre de type `arbreRN` et renvoyant la hauteur noire de l'arbre si la propriété 2 est vérifiée, `None` sinon."
   ]
  },
  {
   "cell_type": "markdown",
   "id": "1dc65a8a",
   "metadata": {
    "deletable": false,
    "editable": false,
    "nbgrader": {
     "cell_type": "markdown",
     "checksum": "426fab2c49a8ee789094ada82bb32057",
     "grade": false,
     "grade_id": "enonce_q12",
     "locked": true,
     "schema_version": 3,
     "solution": false,
     "task": false
    }
   },
   "source": [
    "### Insertion d'un élément\n",
    "\n",
    "Pour insérer un élément dans un arbre rouge et noir, on l'insère en procédant comme dans un arbre binaire de recherche classique en donnant au nœud la couleur rouge (afin de préserver la propriété 2), puis on réarrange et on recolorie les nœuds afin de faire disparaître les éventuels conflits relatifs à la propriété 1.\n",
    "\n",
    "\n",
    "\n",
    "<font size=\"5\">👨🏾‍💻</font>\n",
    "Écrire une fonction `insertion_simple : 'a -> 'a arbreRN -> 'a arbreRN` qui prend en argument un élément $x$ de type `'a` et un arbre rouge et noir $a$ et qui renvoie l'arbre obtenu en insérant $x$ dans l'arbre $a$ en conservant la structure d'arbre binaire de recherche et en le coloriant en rouge (mais sans se préoccuper de la propriété 1)."
   ]
  },
  {
   "cell_type": "code",
   "execution_count": null,
   "id": "60674023",
   "metadata": {
    "deletable": false,
    "nbgrader": {
     "cell_type": "code",
     "checksum": "f196fbcecd71ca419e3ce59790991b18",
     "grade": false,
     "grade_id": "cell-195f3e08783b4e82",
     "locked": false,
     "schema_version": 3,
     "solution": true,
     "task": false
    }
   },
   "outputs": [],
   "source": [
    "(*À remplacer par votre code*)\n",
    "failwith \"Code manquant\""
   ]
  },
  {
   "cell_type": "code",
   "execution_count": null,
   "id": "992c45b7",
   "metadata": {
    "deletable": false,
    "editable": false,
    "nbgrader": {
     "cell_type": "code",
     "checksum": "712a32176140b80a6a9c6b47a2ea5d5c",
     "grade": true,
     "grade_id": "cell-f3eb4299f5e11ca3",
     "locked": true,
     "points": 1,
     "schema_version": 3,
     "solution": false,
     "task": false
    }
   },
   "outputs": [],
   "source": []
  },
  {
   "cell_type": "markdown",
   "id": "0be5ddd3",
   "metadata": {
    "deletable": false,
    "editable": false,
    "nbgrader": {
     "cell_type": "markdown",
     "checksum": "a52589f8a159168f7d1d20fb7f41d1cd",
     "grade": false,
     "grade_id": "enonce_q13a",
     "locked": true,
     "schema_version": 3,
     "solution": false,
     "task": false
    }
   },
   "source": [
    "Lorsque la propriété 1 n'est plus vérifiée, c'est-à-dire lorsqu'un nœud $x$ et son père $p$ sont tous les deux rouges, on appliquera une des transformations suivantes, dont on vérifiera qu'elles conservent la structure d'arbre binaire de recherche ainsi que la propriété 2 :\n",
    "\n",
    "* Si $p$ est la racine de l'arbre, on la colorie en noir.<br/>\n",
    "<img src=\"data:image/png;base64,iVBORw0KGgoAAAANSUhEUgAAAxQAAADKCAMAAAALgfZhAAAJJmlDQ1BpY2MAAEiJlZVnUJNZF8fv8zzphUASQodQQ5EqJYCUEFoo0quoQOidUEVsiLgCK4qINEWQRQEXXJUia0UUC4uCAhZ0gywCyrpxFVFBWXDfGZ33HT+8/5l7z2/+c+bec8/5cAEgiINlwct7YlK6wNvJjhkYFMwE3yiMn5bC8fR0A9/VuxEArcR7ut/P+a4IEZFp/OW4uLxy+SmCdACg7GXWzEpPWeGjy0wPj//CZ1dYsFzgMt9Y4eh/eexLzr8s+pLj681dfhUKABwp+hsO/4b/c++KVDiC9NioyGymT3JUelaYIJKZttIJHpfL9BQkR8UmRH5T8P+V/B2lR2anr0RucsomQWx0TDrzfw41MjA0BF9n8cbrS48hRv9/z2dFX73kegDYcwAg+7564ZUAdO4CQPrRV09tua+UfAA67vAzBJn/eqiVDQ0IgALoQAYoAlWgCXSBETADlsAWOAAX4AF8QRDYAPggBiQCAcgCuWAHKABFYB84CKpALWgATaAVnAad4Dy4Aq6D2+AuGAaPgRBMgpdABN6BBQiCsBAZokEykBKkDulARhAbsoYcIDfIGwqCQqFoKAnKgHKhnVARVApVQXVQE/QLdA66At2EBqGH0Dg0A/0NfYQRmATTYQVYA9aH2TAHdoV94fVwNJwK58D58F64Aq6HT8Id8BX4NjwMC+GX8BwCECLCQJQRXYSNcBEPJBiJQgTIVqQQKUfqkVakG+lD7iFCZBb5gMKgaCgmShdliXJG+aH4qFTUVlQxqgp1AtWB6kXdQ42jRKjPaDJaHq2DtkDz0IHoaHQWugBdjm5Et6OvoYfRk+h3GAyGgWFhzDDOmCBMHGYzphhzGNOGuYwZxExg5rBYrAxWB2uF9cCGYdOxBdhK7EnsJewQdhL7HkfEKeGMcI64YFwSLg9XjmvGXcQN4aZwC3hxvDreAu+Bj8BvwpfgG/Dd+Dv4SfwCQYLAIlgRfAlxhB2ECkIr4RphjPCGSCSqEM2JXsRY4nZiBfEU8QZxnPiBRCVpk7ikEFIGaS/pOOky6SHpDZlM1iDbkoPJ6eS95CbyVfJT8nsxmpieGE8sQmybWLVYh9iQ2CsKnqJO4VA2UHIo5ZQzlDuUWXG8uIY4VzxMfKt4tfg58VHxOQmahKGEh0SiRLFEs8RNiWkqlqpBdaBGUPOpx6hXqRM0hKZK49L4tJ20Bto12iQdQ2fRefQ4ehH9Z/oAXSRJlTSW9JfMlqyWvCApZCAMDQaPkcAoYZxmjDA+SilIcaQipfZItUoNSc1Ly0nbSkdKF0q3SQ9Lf5RhyjjIxMvsl+mUeSKLktWW9ZLNkj0ie012Vo4uZynHlyuUOy33SB6W15b3lt8sf0y+X35OQVHBSSFFoVLhqsKsIkPRVjFOsUzxouKMEk3JWilWqUzpktILpiSTw0xgVjB7mSJleWVn5QzlOuUB5QUVloqfSp5Km8oTVYIqWzVKtUy1R1WkpqTmrpar1qL2SB2vzlaPUT+k3qc+r8HSCNDYrdGpMc2SZvFYOawW1pgmWdNGM1WzXvO+FkaLrRWvdVjrrjasbaIdo12tfUcH1jHVidU5rDO4Cr3KfFXSqvpVo7okXY5upm6L7rgeQ89NL0+vU++Vvpp+sP5+/T79zwYmBgkGDQaPDamGLoZ5ht2GfxtpG/GNqo3uryavdly9bXXX6tfGOsaRxkeMH5jQTNxNdpv0mHwyNTMVmLaazpipmYWa1ZiNsulsT3Yx+4Y52tzOfJv5efMPFqYW6RanLf6y1LWMt2y2nF7DWhO5pmHNhJWKVZhVnZXQmmkdan3UWmijbBNmU2/zzFbVNsK20XaKo8WJ45zkvLIzsBPYtdvNcy24W7iX7RF7J/tC+wEHqoOfQ5XDU0cVx2jHFkeRk4nTZqfLzmhnV+f9zqM8BR6f18QTuZi5bHHpdSW5+rhWuT5z03YTuHW7w+4u7gfcx9aqr01a2+kBPHgeBzyeeLI8Uz1/9cJ4eXpVez33NvTO9e7zofls9Gn2eedr51vi+9hP0y/Dr8ef4h/i3+Q/H2AfUBogDNQP3BJ4O0g2KDaoKxgb7B/cGDy3zmHdwXWTISYhBSEj61nrs9ff3CC7IWHDhY2UjWEbz4SiQwNCm0MXwzzC6sPmwnnhNeEiPpd/iP8ywjaiLGIm0iqyNHIqyiqqNGo62ir6QPRMjE1MecxsLDe2KvZ1nHNcbdx8vEf88filhICEtkRcYmjiuSRqUnxSb7JicnbyYIpOSkGKMNUi9WCqSOAqaEyD0tandaXTlz/F/gzNjF0Z45nWmdWZ77P8s85kS2QnZfdv0t60Z9NUjmPOT5tRm/mbe3KVc3fkjm/hbKnbCm0N39qzTXVb/rbJ7U7bT+wg7Ijf8VueQV5p3tudATu78xXyt+dP7HLa1VIgViAoGN1tubv2B9QPsT8M7Fm9p3LP58KIwltFBkXlRYvF/OJbPxr+WPHj0t6ovQMlpiVH9mH2Je0b2W+z/0SpRGlO6cQB9wMdZcyywrK3BzcevFluXF57iHAo45Cwwq2iq1Ktcl/lYlVM1XC1XXVbjXzNnpr5wxGHh47YHmmtVagtqv14NPbogzqnuo56jfryY5hjmceeN/g39P3E/qmpUbaxqPHT8aTjwhPeJ3qbzJqamuWbS1rgloyWmZMhJ+/+bP9zV6tua10bo63oFDiVcerFL6G/jJx2Pd1zhn2m9az62Zp2WnthB9SxqUPUGdMp7ArqGjzncq6n27K7/Ve9X4+fVz5ffUHyQslFwsX8i0uXci7NXU65PHsl+spEz8aex1cDr97v9eoduOZ67cZ1x+tX+zh9l25Y3Th/0+LmuVvsW523TW939Jv0t/9m8lv7gOlAxx2zO113ze92D64ZvDhkM3Tlnv296/d5928Prx0eHPEbeTAaMip8EPFg+mHCw9ePMh8tPN4+hh4rfCL+pPyp/NP637V+bxOaCi+M24/3P/N59niCP/Hyj7Q/Fifzn5Ofl08pTTVNG02fn3Gcufti3YvJlykvF2YL/pT4s+aV5quzf9n+1S8KFE2+Frxe+rv4jcyb42+N3/bMec49fZf4bmG+8L3M+xMf2B/6PgZ8nFrIWsQuVnzS+tT92fXz2FLi0tI/QiyQvpNzTVQAAAAgY0hSTQAAeiYAAICEAAD6AAAAgOgAAHUwAADqYAAAOpgAABdwnLpRPAAAAQtQTFRF/////wAA/wAA/wAAAAAAAAAA/wAA/wAA/wAAAAAAAAAAAAAAAAAAAAAAAAAAAAAA/wAAAAAAAAAAAAAAAAAA/wAA/wAA/wAAAAAAAAAAAAAA/wAA/wAA/wAAAAAAAAAAAAAAAAAA/wAAAAAAAAAAAAAAAAAAAAAAAAAAAAAAAAAAiwAAhAAAAAAAAAAAAAAAyQAAogAAAAAAAAAAAAAAAAAAvgAAlQAA0wAAxwAAnQAAtAAApwAA2QAAeQAAKgAA1wAABAAAAAAAAAAAAAAA/wAAAAAAMzMzERERIiIiiIiIzMzMVVVVmZmZu7u7ZmZmd3d3qqqqRERE7u7u3d3d3QAA7gAAzAAA////xexGwwAAAEV0Uk5TADN3zCJEEYjdEVWI2fS1d+5myOi0VapExP31mSK7r5/xM2bW5o/smdXN17uv0t278ehAzO6qQPTEl92t83DBzNLxv7ff8XM/+wAAAAFiS0dEAIgFHUgAAAAJcEhZcwAAAMgAAADIAGP6560AAAAHdElNRQflBQEGJRlyFMwRAAAQ7UlEQVR42u2daYPayBGGEYeE0I6HWS9gryDewd6QzTEkYch9JyN7x8d6nU3y//9JaJU4JLWgJdTqg/f5YI+RPGqqVHqrulvdrZb5OO3Ow45O21HdHlCCbi9GdTPswvX6Dxn6nqu6VUAEfxB8FhFXT667qptjC643fOAw9FQ3DJzk5vMozdMvEBc1MNqqxNgbTTaMvPFWLUaq2waO0n0W5Xj+5bXqZplPSLIQHgaAO6JPHyAWOnP95fOIxzOIxVm4VF6HuQJiSmExQ2WhKzyZSMTiaqC6cSbjxKnTeMo7Np3FHVHTsr8TNEKRTBA/8lW3z1hIJwpzJC+OCmiFjryIjvL8q1vVLTQVpgXDefHxeawjqlsJ8lxHp3ipuomGEpcNR4fpJqi2taT75cmgiALVjTSS+I6fHz8n1oqJ6paCDM+enw6KCAlUBfoiKsDUZKa6pSDN6eSJ8QrFdmnmYrd757ScgGYRSZ4YX6tuqHG4fbHEiCVZfdWNBYcIJU8MTBEsSTvfseTEva9OZmRiBqnQi5vczf/6Tfznt9nPf6y6qabBJjilb3/P63itUeiF6WHsCbpl9eJl9t5/fHz7GL17//j+wxtIxTm4bFwu9cl83vIevPbmp1n6wKaqGKpuLtjhZ2Piu++ix9bjx81PH96mjzxHt2wpWJndTn0SsiHsuDfKSw9esIFtzJfVhkE2KN5HLChiyWi9Th/CCF4pwlz2NGblQ5w4eemeWofNGFTdXrAlyAbF9xuJaL2hoHjMHEOvbBk62ezJ3YRI8lGYGb7oY6hCI55m7vs3m/q6RXnT+1xQYLpsGXjV8yQJhk4msZqhqNCHLqfr9VMSDG9bHzNHFqqbaxJT3mi2R6WDm50QxYoK1Q0GCT1OUDy23sWa0crWFNFPVDfXJCa8wYcOlRTzTGIVBwXmP2kCLyjeUknxXett9sg3qptrEhPOfe4mwTDLHkFQaAQnKN4kwfCh9Sl76Keqm2sSvKAYUTk9yXU1ISg0ghMU71ofqLJ4nzsEpSjBhFNTeA/DKZsTlet+9XLdt0AZnKB4bP37241e/JCPCShFKThB0XlwxqN2Pz+bPEShrQ+coHjbev39u48/POaPRJ+rbq5RDHNjD3FJMeGlSTPMk9UIfknx6VPEA2tAlSE/9jAqeuPIxXtGOpFb2eZd6zEqAm/flSE/ockrmuCUnyYFFJJ77S4ZpeBxpbqxZpGf0JSMUuQJUWfrxG2+pHhTFBQvVDfWMPrpQqG9kQ6Pnz8NUVJoxVXqvv/42Go9FuVPN6rbahheekzbYWsrT4pOxCo3GpFeB+31JwY/Jr7CorLlYCMVQ4HV/9whsie9EF23ACsXlGcspgAe3qbQDbEVbrDGTQXYRNnhyW28WEEOodAMweU88IZ2eX4msHxyvBDOz1W3FBziB78QSqC+uENUlKS7jH55elSOLYX2q2iJgk0fendRIJJAvfr1KgqQQJXh+v6u5wxP1AtuGKdYg/t7TBfQBD+IVrdCCVSPvc4NsRBnIxPsITI/vgEFbV8x2nhiDbHQAyYT7O/u1amYiHuebiEWwjCZiH+It2XpF1TbsZAkHVQQCx1IZILReyXWGwuxECORiRiPtrzjdC8lm95tJz1BLNSzlYkY/+tj9cQ+ECAWIuxkImY0pD2zM2ExpWgZHoxxQyzUciATRLFYfJ2KAojFKQ5lIsZJttHutHdx4bQ7yWepxApioZKUTBAFYvEqGwIQi+OkZSLG9YbJZvIPs5nnzWbbfw1z490QC1XkZILoPT0lEwTEopicTBCu95Bn6HF6pSAWauDIRMIg+GwXDs+jqyfXfPdALIrgyETCdD5Oh8R4XtBRC7FongKZ2NK9efEN4/Pg2Ht2EAseBTKxxR0lmdMmhxodmfwBsWiaYpkoBcQiT7FMlAVi0SQnZKIMEIs0J2SiHBCL5qhJJgiIxSH1yQQBsWiGGmWCgFhsqVUmCIhFE9QqEwTEgqhbJgiIhWxqlwkCYiFFJgiIhVwkyAQBsZAjEwTEQh6SZIK4bLGQJhMExEIW0mSCuGSxkCkTBMRCBlJlgrhUsZAsEwTEon4kywRxmWIhXyYIiEW9NCATxOWJRSMyQUAs6qQRmSAuTSyakgkCYlEXjckEcUli0aBMEBCLemhQJojLEYtmZYKAWJxPwzJBXIZYNC4TBMTiXBqXCeISxEKFTBAQi3NQIhOE7WKhSCYIiEV1FMkEYbdYqJMJAmJRDYUyQdgrFkplgoBYVEGpTBC2ioVqmSAgFmVRLhOEjWKhgUwQEItyaCAThH1ioYdMEBALcTSRCcIusdBGJgiIhSjayARhk1joJBMExEIErWSCsEUsNJMJAmJxGs1kgrBDLPSTCQJicRwNZYIwXyy0lAkCYnEMLWWCMF0sdJUJAmJRhLYyQZgsFhrLBAGx4KOxTBDmioXeMkFALPJoLhOEbmIxnXvj2Ybw6EYR2ssEcUli4bQ95reZ502OnKW9TBA6iYXj9Q+3FJq1p/zzTJAJ4kLEYhQOD3dHK9oLygiZIHQRi1E/v/vcjBMWhsgEcQli4Q3zjuPtGmiITBBaiMVktzPpQ2c228dHbvN3c2SCsF0s5ntfbbKnXXzkNtM0SCYI9WIRJqYM50kQOO3t/ozzw/OMkgnCarFwk23H+7sacOIlHw1TO5EbJROEYrFITDsbpT9NHkIHe1qbJhPERiwsjQqHlCFM3f+tKSVUw/3jzDiZIDatVnZtJ775+5xuC7LuLHkIGSgThH+jugVymJN7nNwBN0w9zgyUCeJW2SOYHjce95gbJ1Gd+GczZcJiRrEejLjHnM7OqYbKhFLi3Gk4LzrsxfpssExYS/ww6zsFR91ZUhAaKxMqGeeKsjRzZtw2ZEI3XJb0do4MscYp1G8gExWIlcA5dcZ/IBO6wZSg754647eQifJMh9le1zzskfM71Q2Vw8DYW2ZyQuBbSWL8e9UNlYJcv4WFNfae2LhzoV9nGP6duj6/M+kL+CSuOqZCv84s5Pptyp437qmz2FOpr9oQMgiiSHUTKsIqvdnJszzqJLEOuX4TEYoWZacWSkX33tigYEIxOXmWa6dUSPbb8FSxRjCpGKs2Rf0sr6PIzLFuR9AhbdZzqLqxtSPXbyOOUEzj6s1J13CsqhAIHrMYBN0oMrOjmeVF2VE7nuPc3dCrRUj2W5jrjnVCz+s77njz56HstjlOMB1/5bdMDYrNQ2qY/qTAcWP7nmay/dbPFtBTNs/J64fOpow4lBDHwootuGltjGtkn+w0544ix7XtqwZl+y1n2zF7qnjsw2FaGfoinR1G0V1u/liZGRST3K1e5LipWE+KQcj22yRrMSf+V8j6NabpTgvW/6TaHPWyZrMfltFCdTuq4GX7noodJ9R1axKy/TbK2taN088+5/b3bAuKXmzVdbRU3ZAq5LxR7LiZZZW2dL953M5ul/do8YT6xQ1iFc/lChLjdoNFsFwY0z3L122u42yT+LTfJDiOf6fPeUmobUERLHqMBY0C+XfMrMt7UyY98u90ruMsC4q032Q4jn+nh/SZI3CqsXSXQUxi3F6cogaRKUsc8O90ruPsCoqM32Q4bsS90ykznaa7pSyrKdZJN3cvithDxo//HUQD1e0ShO8NruPsqikyfpPhuEl2EkDnwWlNyYihzb1PvW3fxe3hKJA5U2Zzul3sOKt6n/h+q9lxmS7ZCZs9Fs7YeN48k57aNU6x2uWgO+P6vfXSlJIiN05R7Di7xik4fqvfcdkR7Zk3CefuLJyEGUPaNaId7Ed+oiQd7QbB2pzep9yIdqHj5jaNaHP8JsFxublPzsTd/XmITXOf/IMU1D+cL7C+N+Zt5n527lOR4yya+1Tot5odNxIVV4tmya6iDZSE3tyxn+/WyZFbhWtvlcQTfEhZNEu22G91O24o9kqd6PR9UwnWcVZqzitHl/0+xR4pjhtf9Jt3O+4jpr/d6E51Q4S56Dfv9khx3IW/o70liKu2IDJnec3Lfkd7hxzHXfZqHlv8YDHoBUat2d8XqCqsXc1jhxzHia77ZNEgBRe/d90zZpiCMRJc98meQQo+Uhx3eoVAVqzZNO/JEk6vEDgWyo0Bh5nQWrKqWwmyiK0l64j/QrCHVh0vTE+3q44D3RBcdRxUQXR/CqAZ85P7U+BhVpninYzaqZ2MgGYkOxnl+5dc7+HhAopsqbh/OLLn3X//qLp5oAjnT0f2vPvfn1U3z2gG0V+2u6NuN9mc7nZH/asxL2leHkH0t+3uqFudd9rb3VH/buSaDLrQvV8e2UebHQVaMoiCI/toD8xc00oTVrEWHFh3b2amyzBu3dQ00bl7H08O9YZ5x4VM8AND1wTVgZ3tHC8VF532NHMCqIfgLqjjtZjVdnvwUZiKi/Hc3Z6AzLcaKSGYtr3xRoVnoTc/6HKCcWvmRRS9vD7XpqnX9R3PY36bed5Bbwky34qIGA7GrZt/sLdknpw1t1Mkq0XmWw0hFYBxa8Z/+ZyFxdWLyolpUlCcAJlvFQStBuOKEKRYL7nEr1Xuqbo9+a6gOHUaMt+yCEsAjCtAxA+D5SLI8U8KiaugYk+U6PpfyHxLI24yGLdWenFIPKtcVIjns8h8y1Li+Q/j1sjtVRQ9PaNbVqygIJD5lqOUvWDc2vD/FT05a/VTwYJiezIyX3FKPvxh3LpYnzlGUW5BYWS+JShrLBhXE8pmssh8xSn95IdxtaBMQUEg8xWlgqVgXB0oVVBs/wsyXxEqPfZhXPVU2aEEma8Q1cwE4yqnWg6LzFeEis98GFcx5QsKApnvaSrbCMZVS4WCYvsfkfke54wHPoyrkupbHiLzPcE5BoJxFXJO9orM9zhnPe1hXGVULSgIZL7HONM6MK4qKhcU2/+OzLeIsx/1MK4azt1DHZlvIeebBsZVwvl5KzLfImp4zsO4CjivoCCQ+fKpxS4wbvOcWVBsfwky3zw1PeRh3KY5t6AgkPlyqMsoMG7D1JWxIvPNU9sTHsZtlDoKCgKZb5YaLQLjNkktBcX2VyHzPaTWxzuM2xz1FBQEMt8U9ZoDxm2MenNVZL6H1Pxsh3Ebor6CgkDmu6d2W8C4zVBjQbH9hch8CQkPdhi3CeosKAhkvgkyDAHjNoCMLBWZL7GQ8VQfRGftOwIEuKu3oCCCqOaMzEz8mnYfTFO3sIMct1JuXzgOAAAAAAAAAAAAAAAAAACgOQZKhvHVXNUq4Dhp+FLmBuh5VauA4+QRRNHFXNUq4DhpdO9VfEs1V7UKOE4ey+tIwSxINVe1CjhOGoOgGzX/Upyaq1oFHCcNf+W3mv+Waq5qFXCcPIKb1uZbNt3JpuaqVgHHSaPLXhFdNf0t1VzVKuA4eazZK3bLaHEJV7UKOE4avfjrraNmlxRQc1WrgOPksYrXJwj239JfNCCNmav6i/VyFWD9mzLAcdIIFj3GYjscE6wXDeSLmav6y+4mWb1b2WZcmcBx0ugug5jFwRilfNtmrxrEmjywPFGtFThOHuukv7kXRbtol2/b7FWX1O1teaJaK3CcNHrbEL89GI6RbtvcVXtxVurbZVupwHHy2CeDTdqWe9VW68b2zu8ageOkEey/TBRd736U/BX5V235WGhWGDhOFv7B8tT+wcC9XNsWXdVfre3qw5AHHCeNVbSB3qC6uWM/363pgFTbFl3VX9kkwVKB4xSgIkP0l2w5ctunXkoGjpOHAtv6y3iNc4tyUxXAcfJo3rb+6m654TKEWB5wnCSC5Sq6Xy6lbE5RyDoisKNLdeA4AAAAAAAAAAAAAAAAAAAAAIDp/B+kA4xrgsxgjwAAACV0RVh0ZGF0ZTpjcmVhdGUAMjAyMS0wNS0wMVQwNjozNzoyNSswMDowMECQlGYAAAAldEVYdGRhdGU6bW9kaWZ5ADIwMjEtMDUtMDFUMDY6Mzc6MjUrMDA6MDAxzSzaAAAALXRFWHRpY2M6Y29weXJpZ2h0AENvcHlyaWdodCBBcnRpZmV4IFNvZnR3YXJlIDIwMTEIusW0AAAAMXRFWHRpY2M6ZGVzY3JpcHRpb24AQXJ0aWZleCBTb2Z0d2FyZSBzUkdCIElDQyBQcm9maWxlEwwBhgAAABN0RVh0cGRmOlZlcnNpb24AUERGLTEuNVM2WsEAAAAASUVORK5CYII=\" width = 500/>\n",
    "\n",
    "* Si le frère $o$ de $p$ est rouge, on colorie $p$ et $o$ en rouge et leur père $gp$ en noir. La propriété 1 n'est pas forcément vérifiée, mais le conflit s'est déplacé vers la racine.<br/>\n",
    "<img src=\"data:image/png;base64,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\"  width=500></img>\n",
    "\n",
    "* Si $p$ est le fils gauche de son père $gp$ :\n",
    "    - lorsque $x$ est le fils gauche de $p$, on effectue une rotation droite entre $p$ et $gp$, et on colorie $p$ en noir et $gp$ en rouge.</br>\n",
    "<img src=\"data:image/png;base64,iVBORw0KGgoAAAANSUhEUgAAA5wAAAEYCAMAAAAH0gkEAAAJJmlDQ1BpY2MAAEiJlZVnUJNZF8fv8zzphUASQodQQ5EqJYCUEFoo0quoQOidUEVsiLgCK4qINEWQRQEXXJUia0UUC4uCAhZ0gywCyrpxFVFBWXDfGZ33HT+8/5l7z2/+c+bec8/5cAEgiINlwct7YlK6wNvJjhkYFMwE3yiMn5bC8fR0A9/VuxEArcR7ut/P+a4IEZFp/OW4uLxy+SmCdACg7GXWzEpPWeGjy0wPj//CZ1dYsFzgMt9Y4eh/eexLzr8s+pLj681dfhUKABwp+hsO/4b/c++KVDiC9NioyGymT3JUelaYIJKZttIJHpfL9BQkR8UmRH5T8P+V/B2lR2anr0RucsomQWx0TDrzfw41MjA0BF9n8cbrS48hRv9/z2dFX73kegDYcwAg+7564ZUAdO4CQPrRV09tua+UfAA67vAzBJn/eqiVDQ0IgALoQAYoAlWgCXSBETADlsAWOAAX4AF8QRDYAPggBiQCAcgCuWAHKABFYB84CKpALWgATaAVnAad4Dy4Aq6D2+AuGAaPgRBMgpdABN6BBQiCsBAZokEykBKkDulARhAbsoYcIDfIGwqCQqFoKAnKgHKhnVARVApVQXVQE/QLdA66At2EBqGH0Dg0A/0NfYQRmATTYQVYA9aH2TAHdoV94fVwNJwK58D58F64Aq6HT8Id8BX4NjwMC+GX8BwCECLCQJQRXYSNcBEPJBiJQgTIVqQQKUfqkVakG+lD7iFCZBb5gMKgaCgmShdliXJG+aH4qFTUVlQxqgp1AtWB6kXdQ42jRKjPaDJaHq2DtkDz0IHoaHQWugBdjm5Et6OvoYfRk+h3GAyGgWFhzDDOmCBMHGYzphhzGNOGuYwZxExg5rBYrAxWB2uF9cCGYdOxBdhK7EnsJewQdhL7HkfEKeGMcI64YFwSLg9XjmvGXcQN4aZwC3hxvDreAu+Bj8BvwpfgG/Dd+Dv4SfwCQYLAIlgRfAlxhB2ECkIr4RphjPCGSCSqEM2JXsRY4nZiBfEU8QZxnPiBRCVpk7ikEFIGaS/pOOky6SHpDZlM1iDbkoPJ6eS95CbyVfJT8nsxmpieGE8sQmybWLVYh9iQ2CsKnqJO4VA2UHIo5ZQzlDuUWXG8uIY4VzxMfKt4tfg58VHxOQmahKGEh0SiRLFEs8RNiWkqlqpBdaBGUPOpx6hXqRM0hKZK49L4tJ20Bto12iQdQ2fRefQ4ehH9Z/oAXSRJlTSW9JfMlqyWvCApZCAMDQaPkcAoYZxmjDA+SilIcaQipfZItUoNSc1Ly0nbSkdKF0q3SQ9Lf5RhyjjIxMvsl+mUeSKLktWW9ZLNkj0ie012Vo4uZynHlyuUOy33SB6W15b3lt8sf0y+X35OQVHBSSFFoVLhqsKsIkPRVjFOsUzxouKMEk3JWilWqUzpktILpiSTw0xgVjB7mSJleWVn5QzlOuUB5QUVloqfSp5Km8oTVYIqWzVKtUy1R1WkpqTmrpar1qL2SB2vzlaPUT+k3qc+r8HSCNDYrdGpMc2SZvFYOawW1pgmWdNGM1WzXvO+FkaLrRWvdVjrrjasbaIdo12tfUcH1jHVidU5rDO4Cr3KfFXSqvpVo7okXY5upm6L7rgeQ89NL0+vU++Vvpp+sP5+/T79zwYmBgkGDQaPDamGLoZ5ht2GfxtpG/GNqo3uryavdly9bXXX6tfGOsaRxkeMH5jQTNxNdpv0mHwyNTMVmLaazpipmYWa1ZiNsulsT3Yx+4Y52tzOfJv5efMPFqYW6RanLf6y1LWMt2y2nF7DWhO5pmHNhJWKVZhVnZXQmmkdan3UWmijbBNmU2/zzFbVNsK20XaKo8WJ45zkvLIzsBPYtdvNcy24W7iX7RF7J/tC+wEHqoOfQ5XDU0cVx2jHFkeRk4nTZqfLzmhnV+f9zqM8BR6f18QTuZi5bHHpdSW5+rhWuT5z03YTuHW7w+4u7gfcx9aqr01a2+kBPHgeBzyeeLI8Uz1/9cJ4eXpVez33NvTO9e7zofls9Gn2eedr51vi+9hP0y/Dr8ef4h/i3+Q/H2AfUBogDNQP3BJ4O0g2KDaoKxgb7B/cGDy3zmHdwXWTISYhBSEj61nrs9ff3CC7IWHDhY2UjWEbz4SiQwNCm0MXwzzC6sPmwnnhNeEiPpd/iP8ywjaiLGIm0iqyNHIqyiqqNGo62ir6QPRMjE1MecxsLDe2KvZ1nHNcbdx8vEf88filhICEtkRcYmjiuSRqUnxSb7JicnbyYIpOSkGKMNUi9WCqSOAqaEyD0tandaXTlz/F/gzNjF0Z45nWmdWZ77P8s85kS2QnZfdv0t60Z9NUjmPOT5tRm/mbe3KVc3fkjm/hbKnbCm0N39qzTXVb/rbJ7U7bT+wg7Ijf8VueQV5p3tudATu78xXyt+dP7HLa1VIgViAoGN1tubv2B9QPsT8M7Fm9p3LP58KIwltFBkXlRYvF/OJbPxr+WPHj0t6ovQMlpiVH9mH2Je0b2W+z/0SpRGlO6cQB9wMdZcyywrK3BzcevFluXF57iHAo45Cwwq2iq1Ktcl/lYlVM1XC1XXVbjXzNnpr5wxGHh47YHmmtVagtqv14NPbogzqnuo56jfryY5hjmceeN/g39P3E/qmpUbaxqPHT8aTjwhPeJ3qbzJqamuWbS1rgloyWmZMhJ+/+bP9zV6tua10bo63oFDiVcerFL6G/jJx2Pd1zhn2m9az62Zp2WnthB9SxqUPUGdMp7ArqGjzncq6n27K7/Ve9X4+fVz5ffUHyQslFwsX8i0uXci7NXU65PHsl+spEz8aex1cDr97v9eoduOZ67cZ1x+tX+zh9l25Y3Th/0+LmuVvsW523TW939Jv0t/9m8lv7gOlAxx2zO113ze92D64ZvDhkM3Tlnv296/d5928Prx0eHPEbeTAaMip8EPFg+mHCw9ePMh8tPN4+hh4rfCL+pPyp/NP637V+bxOaCi+M24/3P/N59niCP/Hyj7Q/Fifzn5Ofl08pTTVNG02fn3Gcufti3YvJlykvF2YL/pT4s+aV5quzf9n+1S8KFE2+Frxe+rv4jcyb42+N3/bMec49fZf4bmG+8L3M+xMf2B/6PgZ8nFrIWsQuVnzS+tT92fXz2FLi0tI/QiyQvpNzTVQAAAAgY0hSTQAAeiYAAICEAAD6AAAAgOgAAHUwAADqYAAAOpgAABdwnLpRPAAAAWJQTFRF////AAAAAAAAAAAAAAAAAAAAAAAAAAAAAAAAAAAAAAAAAAAAAAAAAAAAAAAAAAAAAAAAAAAAAAAAAAAAAAAAAAAAAAAAAAAAAAAAAAAAAAAAAAAAAAAAAAAAAAAAAAAAAAAAAAAAAAAAAAAAAAAAAAAAAAAAAAAAAAAAAAAAAAAAAAAA/wAA/wAA/wAA/wAA/wAA/wAA/wAA/wAA/wAA/wAA/wAA/wAA/wAA/wAAAAAAAAAA6wAApgAAEwAAAAAA2wAABQAAAAAAfwAAAAAAAAAAAAAA7QAAsAAArgAAAgAAnQAAWAAABAAAvgAApwAAuQAAvwAAHAAAfgAACAAAAAAAAAAAAAAAeQAAAAAAAAAAAAAAAAAAAAAAAAAAmAAADwAAAAAAERERREREMzMzIiIimZmZu7u7iIiIZmZmzMzMVVVV7u7uqqqq3d3dd3d3/wAA7gAAuwAA3QAAzAAA////BQqj/wAAAGF0Uk5TACJmtfTomVURRIjIn9ZAd/2AxP6P8/z1M6+O5udOYCDegs2XidndqrtrzO4iRGaIdzOq3VURzO6Zu+z7z5LvMPDhtMz5rbfv2Z/w3c/PQPN6yNEg4+H68MGrhNv39u/R6jl6734AAAABYktHRACIBR1IAAAACXBIWXMAAADIAAAAyABj+uetAAAAB3RJTUUH5QUBBwYErnm9ngAAHwpJREFUeNrtnfl/2zxyhynZkSjGrr3Z+H3lZrd9+3ZfSytLpG5R7dtre3d733dL27EVx0m0bf//TwmClHiAJEQCBEDN84NjSwoJaDDznQFBUNOOiEbz5NRBvGq1ddGNAajpGK89szmvjY7otgA8aJ+9csKcG78kuklAPvqFG1AvA6NdOqcnP4C4WjMab5w4P3Teim4VkEf7KmG3r67aolsFsOTi60uHwHlXdMOALPRrh8g1iGdtIMhmgCG6bUA67atLstUur6D2rAkpsgniKTf6WyeDtyCeNUA/cbL5ZdEtBEh032Wb7Uc/Ft1CoDRvnTxgfkFC9Hd5ZnsH2qk6nVzfdK7AyvJxdplrN5hsV5z8AOw4l9eiWwnEaeebDVIe1aEIwGBl+dCvaMwGKY/SUAVgsLJ0XFPFVEh5VIYuAIOVZYMypkLKozLRAHx3f+f/9uD98vB+/96viG4qsCcZU5MG81OeXxXdVqAgjbAd3z8+bR4/3G/cXzeb543z8XHz+BR4q/ON6LYCey7iPkgwGOarH4huK1CQZjj2vjy6Pz991hznwwdno22+uH8+Pe/eh6pTHuLLRogGw5yIbitQkLOwbz6hf+419x/XS11bexFZe4DqRT7iwkk0GOZUdFuBgoRu4HzS7tE/H5GNP6E/77CtN8EHWqIbCwQk1o0QDeYDK+DVpLs34b32GRcvro/evXccDadHj3tbvxLdWiDAiF1HIRsMcwm3FalJaF7hk2/Uz5rvq/jPZ+3L7iMN0c0FfM6dBCSDYc5FtxYoRGhe4bP2Ef3zXnvyBdT7804LlTC/Jrq5gE/SN4kG8xHdWqAQ34Yt6F0i+7ALwHf4z9DkH+RHskBwTpLBwDlVJuScL5pfstzjAIxt7M8SgXPKRdI3iQYD51SZkHM+ehZ/8H30o+ZfV3kMGfnXRTcX8Ek6J9Fg4JwqE3LOh5cPrm0/70rOFzfLvfscMTUopyyQSk6CwcA5VSa80OTh0+Onzcddyfnw6eOXz9FZ+Z+Ibi7gQyo5CQYD51SZxBLNcMl5H69e4FKKLHxHLDnv70muCZdSFKUbN+TnoOQkhGBYhCAN8UUIZINhYBGCqpwGkXfzAf1zr33yK5iPSSufiW4sEJBYvkc0mA8s31OUYOH7F+0Fuejzy3u/grlLGhkWvstDsuS8S3VO0W0FCtLcOecXVzefn7zVJV82mrZJpklwy5g8RDfoTzEYBm4ZU5VGYMIPm6dPG3/h18M9Im7kb0S3FdgTnckjGwwDN1urC90+UZDVSgbt1k+wM5vKwAZfagIbfB0DsDWmmsDWmPVHN95QWfn6QnRLgTDdM7pNpc/gEXHK0rlxfkBh5cvrntOHBULyYDg3P6Vxzp/ewIpoRdENZ9ClSWzdpLZ9ewviKQndgWPoFImtm9RiEwPK0fHDar6V0ayCDuIpCa5solU/+XN53kRBB8RTPfYxVX+TY2T/SXIgnjKAZRPRucqMqpdXvnlBPFUjElAzHzv/brc4E8RTPL5seujXWc55vZtgB/FUing0baSL59vwRRQQT7HsZRPTThPPy6vwBU4QT4UghNILspHfxe5pAPEUSVg2MWnieR27Lg3iqQjkONolbIYalU0MiKco4rKJaZ8mzXaVXBcE4qkEqUG0eRa183cG8VZAEE8xJGUToxuvo675+oK4nAvEU3qyI2j3wi8+T8+a6Q4I4lk9ZNkMaBvfBQE1fTEtiKfksAmfIJ5VkyabhwHiKTHsYieIZ5Vky+YBgHhKC8vACeJZHWxkEwPiKSWsoyaIZzUwk00MiKeEsA+ZIJ5VwFI2MSCeksEnXoJ48oaxbGJAPKWCV7AE8eQLe9nEgHhKA89ICeLJDy6yiQHxlAS+YRLEkxe8ZBMD4ikB/GMkiCcPOMomBsRTOFUESBBP9vCVTQyIp1Cqio4gnmzhLpsYEE+BVBcaQTxZUoVsYkA8BVFtXATxZEVFsokB8RRC1UERxJMN1ckmBsSzckRERBDP8lQqmxgQz4oREw5BPMtStWxiQDwrRFwsBPEsgwDZxIB4VobIQAjiWRwxsokB8awE0VEQxLMYwmQTI3rYHAXiQyCIZxFEyiZG/MipOXLEPxDPQxEsmxg5Bk9tkSX4gXgehnjZxMgyfmqITJEPxJMeKWQTI9MQqhVyhT0QT1pkkU2MXKOoJsgX80A8aZBINjHyDSTlkTHggXjmI5dsYmQcSwoja7QD8cxGOtnEyDqclETeUAfimYWMsomRd0QphtxxDsQzDUllEyP3oFIG2YMciCcZeWUTI/u4EspwZFqWNRplf0qFCAfimURq2cRQDK3haIzG6ER0UytlaE63O2ZWuoOqEd6OSTxxTLXmo0XWp2SXTUzm6BqOl/sxurSOxUHNUK8xK3tI+qAKsonJE8+OgVCjLxnMrRnNgFVANjGpA2xhJcbozBoeenj1MGdbEnYyEqshm5gM8exenDg+pycX6irswl4lByzpg2rIJoY8xswVaYiurMXhJ1CJyXoXd80RwgpMvooZWh3ZxKSI59tXTpTfUCbgRFhYxAE7M+MfVEY2MYRhNg/kY4rH6NyaBmN0LLq5PDH9XpvhGDTyk6Vl+EWVZBNDEs/uuZPkXKWY4zMPhqdtjtz0bjIaBwN2Fk1uVZJNTHykWX4qFxmjc19D7PqKJ+73OjEB5IflvZ1Vk01MQjwNh4xyk7uWn9xEHHFu41fn+5cUk01MZLAtcKeSkyALK6kgNWLhpbRL4tws7vrKf0892cRExZMom5g3SpWe/oBNllxDXKTsChL1ZBOzH2+LZfoYHXqXGFb1nLf1TDxNizxeEe71XE3ZxITE03DSufxaIfH0ByxxsnLkVSS297uSsonZDbnlvjsExp531lE7rUiQTTJB3jlbKCubmJ14vnUy+U11+mhnDVjsuWhaSFXZxOBR53V1nP6p0aqeme08p9+unVHPv1dYNjFYPDtOHqr00gq8LwVvQI8Ulk0MEs/fyumqryA27TFVYUHRK9TzX/y2OpKSAhLP33mX65znottJR35QRd75u0rLJqbze/+Tndvtvg6T7oDKgCy4zPuQWZOUvn37s1zfdBRJ3me5QdXLbH9fadnErGlUcYyLrzoxpHM7qyZJQ35Sq0pia1EE1SHKikZUh5OZEZ3brfPlVTGmdD3ykl/11zDqV1TO+Z38akNnEJTxrEU3tTRruoSVUmfUgdChiffnJGb4ekjn9SWVczpvRTc0F0p7zGognfNYjrDY3XgTG6p2XhGuGONEULKspaXNbcteR3x24Zp5Jbq1ZWnQuabj/IH00jmjy2TmNYipdiTADO21ZZsjlO3Fh+qQZvpEIdCUQcQJTdMNytbY/W0d7adVgxjcpHVOpy26qTlMaJ2uBjHV7cJs3/EV6vZ0tiUN1Wktaq8AFGumkVds5IZeEWptI+uhRjUot6+Jjnh3/165CVsUKuex14aevSaTxAfVjqmT8MCbrLwSeoQq6eRQNWuV15qJrHaK6u8F7nHUF1fhAKYmpwTX/PD8uHl8eoi9+k50U3NAGU/0lYltWbPJYur+DIvHRPmYGolDaxxp5qhPyaG6SGiNyljxPGDh/uXn7XbMqHZiPKhGl6Can56RX25e7mJvSL4APjEKh6jusmb2xB2wEbutVJ+vXYcS85GvD5bro6ShulY/iSd3fP8F4J4uYxmC+gnSRdI5n188zXzQHmNvNEU3NpOkHnr3LVioDl1F813lx+syFF2mfq9RyakRhqqlvICkdDzAwsZ1U4Ro9TJS3jlfJ3xzo23wL9pz7J0/FN3YTEbxknPijVIbGWgYnRJRfryGk4QZ7vXQH7WJoaq+gKR0PGCJ83gzPiut/ozQt3HffK9pOJ190LTYW33Rjc1kHB+EC89mvqBEUH68hoedX4SZO8WMDVX1BSSl4z4Lv6freC9r6Jwb7cmfFUoo52vRjc2E7HELUnVZK+dcbb1/bNyj5FCtu3POt/5kdfwyWg2d8ynIah8TNafcykn2OJNkn1o5p71FPye+jyaHaq2ckzCVZ21XQ7QgKHGJe6T8LTkE57zHv7wEvyiinCZxEPqCkrzQqfSF+ehlTtPb5CEoOeND1ayTc66T652W28l0PiZsfKp+x8/SnPOD9in2zqXcqxBGxKvtuOQcRsPqVPUJoYiATKb21JrvSs74UFU+EoVJWs7L44kPSlG/44nVexvsnHefP8cvczpy36G8iJcY7jjVhjjQxvanW6u+3jTZgXDJGR2q6l+LD4EcLpoFzVPryqXyHdfjHnj3gkrNu+fn5Po90W3NYRUdsSMUN+01ukJvRu2n/qKZ5IJZf1KaMFRnqkeiMMlJHiuxZNNHfStr2ndxF3x4erz/8rxJ6KZzIrqpOdixEbu2Rra5WNsjOzZg1V9uuu/BwvLmPEb+OEwOVerbAdQgsWB2uU25XdVUfj5I04zk7ZwP9/cOAdk3yEz43MS7yXGSeMaY+jdq7FVh7K11WixXuEPJoUq6HUBh7GheO3a7Z5HzWvWtTLtJCUL2jUoWlLcu0n5OZna3NY5RPBot196AJQ3VpepLFaPEbsadeM8wIn1wVAMraxrdLiWO80p0Q3OZ0iUylvIXp/FyKNwH01pPgydPEIZqHe4sD7Og3QKKch8XyWlTOqfcc7UIb9Or3E/VYlsdrxM0SVsd9mSJQLkFFN1YkB+6TYTk30IIR8tx3ocot2+THMr9kuqxm1mEGY0kejugqi+clNvvvZN+ByENh8u8Z/fUZLthuvSOOglUCO/JnHkPaJrWJijRJLbyJ7UIO9fzRnXZBN2iSGw9/ahTxemxzg+vFo0DK8JZbmIr98q9Hd5ozHp2j/f4ENUvTWPyuqr5sUr1ywkJco2MH7BWhwiM0PMelqLIo1J851umxsw6PXhrmNsX/NQm0e1kz2SVXb7Y21pMKwR0r7K08/JK9kuce+bh5xrHwY+srIuUTLaZgQg//nksupU88IycJo34OY/1KDgx+nWGc16rMBkUYOInsRMUBT/aukYPezazAtEk+9G6auNlQNs1oesLa5Vmf3Xp/9HXlymyed0T3biDmPyxN2bjz50f4sfRf18X3UTgQDQldGnhTYnUKLeLMfkTHINjkXbhPXJ++79/Krp9TDGcduNNimw2pV9VG6HxZz/f4kFr7vxzOF7i1/78L0Q3jyl/+Vd4jMbc05eP//tr0e3jhuH8DTbozNr559Cc4tdWf3ujUq6XR8ebjr34OuGaV+gZDC3pl9WGGdz+HR6bqCJbW5Zlr2f+nzOzo8q8Mx0t53u/o6ExOl77Y/TvB6LbxwtkxnlgVc/K03Vgczel7d6qlexlot9iMzYuTk6dfXZ7etL0IpA+qCASsfJ/A12S9bO6KCvLe1v2R74cAMppzNgY3fd2UbNItMcfr+aKYGUvi1As2cukf7vfzL1jnHue+drYu0sVkah722Lhn21/QO4S2YAgyQ33VXGwWRYWcYyi3tYqEoUIbLiY29G+L8d+gq9WspdFvg2riERNx3l3UdZxGrf7LQKHYz/Xma3tffkZZAnqs0toFuY0OkanwRitUSQKERmvIz+jdfOGvZGrSfaqgCb7qSISeU+GOCn3zIfBba5NapPsRWwy9zPa2BitTSQKQWXAmpSdVAasJBLhnQBPz4rHAYNmDXBNkj2qbKY2kWgPZcCpR9lJl/oUjkQGxar6HT/E//xDQfls0w3FWiR7lAapSSQKQWu9OpSdtNYrGok6BjVn/+itenDOm8VUOlxwZlGHZI86lalFJApBHW1qUHbS5z3cIxFefn9qFB5MFAXnoZ2WFmpr1CEShTjAdMqXnQeYjnck0tElnJMSSRhVwRl8VPFk74A8pgaRaM9BoUb1svOQpIdzJOo55xdlvJ+y4Dy83xJykCmUj0QhDrOb2mXnYXbjGokMo9wXSVtwYtRO9g5MYhSPRCEOjDNKl52HZjwyRyLqgrNY16XiQDuoHYlCHGw0hcvOg40mcSQ6oOAM/oOyyd7BGYzSkWhPgSCjbtl5eLojbSQ6qOAs2ntJKGAEhSNRiCIWkznZy6KIxSSNRIcVnBhVk71C6YuykShEoQgjcbKXRbFcR85IdGDBWeYLEE4hC6gaiUIUNJe0yV4WBc0lZSQ6uOAM/puCyV7B3EXRSLSncHiRNNnLpGiiI2EkKlBwBt+BjGlAJiXWOCsYiUIUT8zlTPayKG4r6SJRkYIT40Zj+dKA7BYXT1zULjtLxBYpk70symQ5skWiQgVn8DW0RLf+MEp890qXnaWycgmTvSxKGUqySFSw4Az+c7mbuyumVNaicNlZMrBIl+xlUi7FkSoSFS44g29CrjQgk5JfvLplZ9mUXLZkL4uyVpIoEhUvODEqlZ2lUxZVy87SUUWyZC+L8vmNPJGoRMEZfBnKlJ2lv3VFy04G+bhUyV4WDEwkTSQqVXAGh1Ck7GSQryhZdjIJKRIle5mwSG4kiUQlC06MImUnk69cxbKTTTIuT7KXBRv7SBGJyhacGDXKTkbJinplJ6N4Ik2ylwWrzEaGSFS64MQoUXYy+r6VKzuZZeKSJHtZMDOOBJGIQcEZHEj6spNZpqJY2ckwmEiR7GXCLq0RHomYFJwY6ctOhl+2WmUnyzRchmQvC5aWERyJ2BScGNnLTqZpikplJ9NIIkGylwXbnEZsJGJUcGIkLzuZftMKlZ2Mc3DhyV4WjM0iNBIxKziDw0lcdjLOUZQpO5mHEZnLTtYJjcBIxLDgxEhcdjL/mlUpO9kn4PKWnextIiwSsSw4MfKWnRwSFNnKzsXcstYuU8sc7l/lEEOkLTt5ZDOiIhHTghMjbdnJ4TuWquwcjtfhJ//OrAl+nUv2LWnZycUgbiQS0RfGBWdwUCmTvTaP7CQy8PW28a3LSVOEnA6n2wQzU+MWQJocRg4Dij++K4OukLyWz1kNKTMencvszS4SdYzz/fNRX7Xa1X4HQ3vnkav1ern7Yz2SLvUGgKrAY7995VxGn1/8T28rbIS58n1x7Keyw7ntv/TPcuYxAMAflDXq16THi59XNo1g+UnsIvLqHJegP18UPCoAqE7HaV1dOkSquQy68KrNlZV0wpGX364mor8iABCD/i9OKpWIpyeQa7I+jsE7geOl8+4rJ4OfcG+ANxVkp707R6XnDDJb4AhpnDqZfMV7Ft5Evmmmvz9B3rkW/TUBQPW8ucx2TudrvhcyRsg3raxPeN5p0R4PAOrChZPH5RuuDUAF5zT7I562DukOV5i2kHsAanTWGnVFkrM2vs51TofrsukRTUVpZRWlbNBvRKxjrNFZa9QVWc6am9TyTmxnrt/N8z60QIkt3xlbw3G4Hr/2Z61RVyQ5a35SyzmxNekme8b5uW85GrcirFyjs9aoK5KclSqpRfwrrxagyygjis8hgeV5OaXvhqnqV/DW6Kw16ookZzVoklrEv/FqgZuvLmMvDb38dRLNYsc02W9x2kbD4XF/09GctUZdkeWsr0mOeHf/Pvkip1tU5omLJBPbsmaTxdT9GZ6fnXCdEtIHula9lWt01hp1RZaz6gTX/PD8uHl8eoi/zGlfJTs+0TNEq/ismT3R1lGvdfPaFbcvwnC7V9VC4lqetUZdkeWs7aRqfnpGfrl5uYu9ccanBevtdhZ5YYoKSwuJ5CqaxlocL3U20E43g6qtXKOz1qgr0pzVSDjn84unmQ/aY+yNV3xasIrN1U48tbTRHNEw6oom5cxREXpodX+/6s1panTWGnVFmrN+F/fNjbbBv2jP8bf43J0SLzkX3ozsbJv85Ch7AW4ZOt4X3XNY7xR3+Fn5TwFy6as8X2CNzhp3wPeahtPZh8R7//5jLi0gLppdkK58Dvmtr8WbLRr+990wWka/xd9NomfFp77lPs0QO2urZXQujLI7nSW6orcqyDVjZ9Vbvf6A//5CsbPyGy1J4XzyZ4WSysln2BA9ziR6ITfnNFodRAtfWNZv0DfdZ7+nY+ZZMX3uc4Dxs/aRafsl+xo/qNFrVVAIxs6q9127NW5472obPyu/0RJ3wKcgq31M1Jz/UaFy2ri4jF7o5Kacjb7h4X/feF9Ug/c2zLGzehhctpLMPGu/2+mUDfukrvB3zvhZDS/dbHOuBeNn5Thaks55j395CX4Ropy45BxGL2tyqzl7fs86+GKu7v3NfXPU2FkRXaPD2zkTZ2VRORG6UoFzxs/qZx2ca8H4WTmOljTn/KB9ir/FqeaMz9YutxNXI701Q3Y1s7WdINR2wwGI910HhLPqPY23cybP6g7lTsmUjPgFcnfOxFk7Xrmp83VO8mDhM1ris7Ub7Jx3nz/HL3Pymq2NXeccoWuZ9hq9ZMYUldd1zn2RsneTTq9sGVbgrK0Gd+dMnrV/4eZo/VK2JXSlAucknhU9FYbriUln5TVa4tc5715QqXn3/Jxcv8fpOmd8hdDaGtnmYm2P7Hi2y2mFkLE3ZnDfasMwepxnawlnbbY13s5JOGsL+aVRZj6DcFCNv3OSz6rpzB+clHtWbqMlsULo4enx/svzJqmbvFYIJdbWTkaL3c/I61zW1uqhakEPL8nq8XzSHOmsDfSTq3Om9lVrFHeltIPydc60s+qDHseMJ/0L5DJaCGtrH+7vHRK8nllKuCuFCJe7UgaoZ7heaN6g32+CK35dh1/RSTyrN6p4OifxrDoO+YULtdQvkKtzpp1VH4g4q8ZrtBDvSiHCKyJNJbmfc4eBg2/F9/B2+4gbZ1Cu/juUHr4tkf0sioiHMut9pCDV3qPCc7RQ38/5Da/eUe6EYPLeCWHHrTf11XBEPDOP+3XOOD1vbJVIa9MQ4Jw6jmvVLubjOVqod0Lgt7M0/R5CvJa9RzG8Qt/glsdnnrtq5+x4PlRqQohM9c6pD25Q8sE1s03CdbQI30NImt33AnSj1e4YtwKeZ9ns3zo31aa1WtPtbIv1OY3+wLntV9yTHufJETJ8R4vw3fek2bd2h965KHthXh30dlPME+nrAs/RInzfWtjxHQBSEL7jOzwrBQBSEP2sFHjKGACkkPeUMd43T2nwfE4ASKFzlamdFcxNB0+2Tr4DT7YGjhv9Ot01K3myNb5W4iavZlQ9556kbpeQ0wLHSztNPCu7pGuuPD/cTse+Si7mtv+SDb4JHDP6z0iu+aMKL4EN7V9sfWbr9TL4fft9NQuDAEBaWjdXTlw9+/9Z5bX4hvNf2wSz/xbybFQAkAe09rljnO8d89VZW+ewIDqD1q0+HK8jnmmN0KuivxsAEIrvA3r77FuXk4tG+NVK8CPBYm7Za5ephYvPagMEAEhHigtU6RlpgQCkEzhuxHtGahwA6QSOGgk8Iz0MgHQCx4x4z8iIAiCdwBEjgWdkBQGQTuB4Ee8ZmTEApBM4WiTwjOwQANIJHCviPSMnAoB0AkeKBJ6RFwBAOoHjRLxn5Po/SCdwlEjgGfnuD9IJHCPiPYPC+0E6gSNEAs+gcX6QTuD4EO8ZVL4P0gkcHRJ4Bp3rg3QCx4Z4z6D0fJBO4MiQwDNoHR+kEzguxHsGtd+DdAJHhQSeQe/2IJ3AMSHeMw7wepBO4IiQwDMOcXqQTuB4EO8ZB/k8SCdwNEjgGYe5PEgncCyI94wDPR6kEzgSJPCMQx0epBM4DsR7xsH+DtIJHAUSeMbh7g7SCRwD4j2jgLeDdAJHgASeUcTZQTqB+iPeMwr5OkgnUHsk8Ixirg7SCdQd8Z5R0NNBOoGaI4FnFHV0kE6g3oj3DL2onzecCz7fCQDIgAye0Sjq5l0OXwgASAN4BgAAAAAAAAAAAAAAAAAAAAAAAAAAAA1ttstiGR8OAEQh3jP0mwHLFjA+HACIQgLPMByHZRMYHw4ARCHeMxq3TJvA+HAAIAoJPKN/4TgNdk1gfDgAEIV4z2gbDcfpMGsB48MBgCjEe4Y+0DWGTWB8OAAQhQSeYTQ19/8wmzFmfDgAEIV4z2j03R8DZk1gfDgAEIUEntFDd2n3nRajJjA+HACIQrxndLwP95w+mxYwPhwAiII0lEvM3BbxjIG3LYqx/z96q4yOxw6nt3r9gQGb8gHqkfAMdJ2y+OxQ7HCtltG5MHqZ/8VodRCt4OKo0WuVSbJjh9P7bqhp3AzAOwHViHsGol986jZ+uL7j0s90jEbf8Ag3oYRzxg9neFLehgoUUA2SZxhGYedMHK7f7XRykuSef7KO4+ycuIRzxg/nRxqoQAHVIHhG1+gUds7E4fJdohNIWjd0cbS4cyYO1/HKTR2cE1AMgmfoPa2wcyYP57pEJ7va2xeDTJyTeDhNa8JVT0AxCEO51SjunMnD9S/cJLefsdm0sXcaZ79hfGFXIh9O029BOAG1IAzlZlsr7JyEw7WQXxqpz1DRDae9+z20rKigc6YdTh/0YLIWUAnSUG6gn8WcM80zMh4/NkBzufi+7OYN+v3Gv+hSzDnTDqcPIKcFlII4lD2FKeScxMPpeKb24NkYphWi3m+iTjH/AgGgSrp9xI0z6LN5JlEP39cp1Dl13BcoOoE6UPw6Z5yep8SHP1WXoXPqgxsUcCCzBWoBO+fseC5hHPZQXaM/cG77jLTbFW9Mk+lXBAAiaPZvnRtWrtFstTstVgcDAIAhersJrgkAAAAAAAAAAAAAAAAAAAAAAAAAgOL8P31kO2teE7gPAAAAJXRFWHRkYXRlOmNyZWF0ZQAyMDIxLTA1LTAxVDA3OjA2OjA0KzAwOjAwD3RMFQAAACV0RVh0ZGF0ZTptb2RpZnkAMjAyMS0wNS0wMVQwNzowNjowNCswMDowMH4p9KkAAAAtdEVYdGljYzpjb3B5cmlnaHQAQ29weXJpZ2h0IEFydGlmZXggU29mdHdhcmUgMjAxMQi6xbQAAAAxdEVYdGljYzpkZXNjcmlwdGlvbgBBcnRpZmV4IFNvZnR3YXJlIHNSR0IgSUNDIFByb2ZpbGUTDAGGAAAAE3RFWHRwZGY6VmVyc2lvbgBQREYtMS41UzZawQAAAABJRU5ErkJggg==\"   width=500></img>\n",
    "    - lorsque $x$ est le fils droit de $p$, on effectue d'abord une rotation gauche entre $x$ et $p$, ce qui ramène au cas précédent.<br/>\n",
    "    <img src=\"data:image/png;base64,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\"   width=700/>\n",
    "* Si $p$ est le fils droit de son père : on procède de manière symétrique au cas précédent.\n",
    "\n",
    "<font size=\"5\">👩🏻‍💻</font> Écrire une fonction `insere_RN : 'a -> 'a arbreRN -> 'a arbre RN`  qui prend en argument un élément $x$ de type `'a` et un arbre rouge et noir $a$ et qui renvoie l'arbre obtenu en insérant $x$ dans l'arbre $a$ en conservant la structure d'arbre rouge et noir."
   ]
  },
  {
   "cell_type": "code",
   "execution_count": null,
   "id": "86c00f0b",
   "metadata": {
    "deletable": false,
    "nbgrader": {
     "cell_type": "code",
     "checksum": "eaea7db32f3fd8d5a97b50f9c06022dd",
     "grade": false,
     "grade_id": "cell-0682696dd65178a2",
     "locked": false,
     "schema_version": 3,
     "solution": true,
     "task": false
    }
   },
   "outputs": [],
   "source": [
    "(*À remplacer par votre code*)\n",
    "failwith \"Code manquant\""
   ]
  },
  {
   "cell_type": "code",
   "execution_count": null,
   "id": "7be156ce",
   "metadata": {
    "deletable": false,
    "editable": false,
    "nbgrader": {
     "cell_type": "code",
     "checksum": "cd197ab1af50afc34469a94976d355b4",
     "grade": true,
     "grade_id": "cell-7df8a1f5dad5ec6c",
     "locked": true,
     "points": 1,
     "schema_version": 3,
     "solution": false,
     "task": false
    }
   },
   "outputs": [],
   "source": []
  }
 ],
 "metadata": {
  "kernelspec": {
   "display_name": "OCaml default",
   "language": "OCaml",
   "name": "ocaml-jupyter"
  },
  "language_info": {
   "codemirror_mode": "text/x-ocaml",
   "file_extension": ".ml",
   "mimetype": "text/x-ocaml",
   "name": "OCaml",
   "nbconverter_exporter": null,
   "pygments_lexer": "OCaml",
   "version": "4.08.1"
  },
  "toc": {
   "base_numbering": 1,
   "nav_menu": {},
   "number_sections": false,
   "sideBar": false,
   "skip_h1_title": false,
   "title_cell": "Table of Contents",
   "title_sidebar": "Contents",
   "toc_cell": false,
   "toc_position": {
    "height": "286px",
    "left": "1693px",
    "top": "0px",
    "width": "165px"
   },
   "toc_section_display": true,
   "toc_window_display": true
  }
 },
 "nbformat": 4,
 "nbformat_minor": 5
}
