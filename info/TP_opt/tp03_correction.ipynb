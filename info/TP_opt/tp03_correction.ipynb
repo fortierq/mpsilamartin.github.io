{
 "cells": [
  {
   "cell_type": "markdown",
   "metadata": {},
   "source": [
    "\n",
    "<h1 id=\"TP-n°3---Introduction-aux-arbres-binaires\"><em>TP n°3 - Introduction aux arbres binaires</em><a class=\"anchor-link\" href=\"#TP-n°3---Introduction-aux-arbres-binaires\">¶</a></h1><h1 id=\"Remarques-de-correction\">Remarques de correction<a class=\"anchor-link\" href=\"#Remarques-de-correction\">¶</a></h1><ul>\n",
    "<!--<li><p>Une partie non négligeable d'entre vous s'est révélée incapable de suivre les consignes données pour rendre le TP (canal à utiliser, nom du fichier, voire format du fichier), ce qui un peu inquiétant.</p>\n",
    "</li>-->\n",
    "<li><p>Lorsqu'on partage un programme informatique, il est préférable que celui-ci ne dysfonctionne pas grossièrement (erreurs de syntaxe par exemple).</p>\n",
    "</li>\n",
    "<li><p><strong>Respectez scrupuleusement les consignes</strong> de l'énoncé (noms et types des fonctions demandées notamment).</p>\n",
    "</li>\n",
    "<li>Lorsque vous écrivez des fonctions qui ne sont pas données dans l'énoncé, essayez de leur donner un nom explicite et ajoutez un commentaire pour décrire ce que fait (ou est censée faire) votre fonction.</li>\n",
    "</ul>\n"
   ]
  },
  {
   "cell_type": "markdown",
   "metadata": {},
   "source": [
    "\n",
    "<ul>\n",
    "<li>Évitez de réaliser plusieurs fois le même appel de fonction ; les conséquences sur la complexité peuvent être désastreuses.</li>\n",
    "<li>Par exemple, les deux programmes suivants calculent le maximum d'une liste :</li>\n",
    "</ul>\n"
   ]
  },
  {
   "cell_type": "code",
   "execution_count": 3,
   "metadata": {},
   "outputs": [
    {
     "data": {
      "text/plain": [
       "val maxi1 : 'a list -> 'a = <fun>\n"
      ]
     },
     "execution_count": 3,
     "metadata": {},
     "output_type": "execute_result"
    }
   ],
   "source": [
    "let rec maxi1 liste =\n",
    "  match liste with\n",
    "  | [] -> failwith \"Liste vide\"\n",
    "  | [x] -> x\n",
    "  | t::q -> if t > maxi1 q\n",
    "            then t\n",
    "            else maxi1 q\n",
    ";;"
   ]
  },
  {
   "cell_type": "code",
   "execution_count": 4,
   "metadata": {},
   "outputs": [
    {
     "data": {
      "text/plain": [
       "val maxi2 : 'a list -> 'a = <fun>\n"
      ]
     },
     "execution_count": 4,
     "metadata": {},
     "output_type": "execute_result"
    }
   ],
   "source": [
    "let rec maxi2 liste =\n",
    "  match liste with\n",
    "  | [] -> failwith \"Liste vide\"\n",
    "  | [x] -> x\n",
    "  | t::q -> let max_q = maxi2 q in\n",
    "            if t > max_q\n",
    "            then t\n",
    "            else max_q\n",
    ";;"
   ]
  },
  {
   "cell_type": "markdown",
   "metadata": {},
   "source": [
    "\n",
    "<ul>\n",
    "<li>Si on note $C(n)$ le nombre d'appels nécessaires au calcul du maximum d'une liste de longueur $n$ dans le pire des cas,\n",
    "alors $C(0)=C(1)=1$, et on a pour $n \\geqslant 2$, $C(n) = 1 + 2C(n-1)$ dans le cas de <code>maxi1</code> et $C(n) = 1 + C(n-1)$ dans le cas de <code>maxi2</code>, ce qui donne $C(n) = 2^n -1$ pour <code>maxi1</code> et $C(n) = n$ dans le cas de <code>maxi2</code>.\n",
    "Finalement, la complexité dans le pire des cas de <code>maxi2</code>est linéaire, mais celle de <code>maxi2</code> est exponentielle !</li>\n",
    "</ul>\n"
   ]
  },
  {
   "cell_type": "markdown",
   "metadata": {},
   "source": [
    "\n",
    "<ul>\n",
    "<li>Dans la dernière question, on vous demander de <strong>prouver</strong> qu'une fonction termine. Cet exemple était certes loin d'être le plus évident, mais il ne s'agit pas d'argumenter à l'aide de termes comme \"<em>forcément</em>\", \"<em>au bout d'un moment</em>\" (dans la majorité des cas, le résultat est franchement approximatif), mais bien de rédiger une <strong>preuve</strong>, en utilisant les méthodes vues au chapitre 4.</li>\n",
    "<li>La grandeur utilisée pour comparer les éléments sur lesquels se font les appels récursifs doit être la même dans tout le raisonnement, et il faut s'assurer que les cas minimaux terminent bien.<br/>\n",
    "Il n'est par exemple pas possible de considérer dans un cas la hauteur de l'arbre et dans un autre cas la hauteur de son fils droit.<br/>\n",
    "Considérons la fonction <code>f</code> suivante :</li>\n",
    "</ul>\n"
   ]
  },
  {
   "cell_type": "code",
   "execution_count": 5,
   "metadata": {},
   "outputs": [
    {
     "data": {
      "text/plain": [
       "type arbre = Feuille of int | Noeud of arbre * arbre\n"
      ]
     },
     "execution_count": 5,
     "metadata": {},
     "output_type": "execute_result"
    },
    {
     "data": {
      "text/plain": [
       "val f : arbre -> arbre = <fun>\n"
      ]
     },
     "execution_count": 5,
     "metadata": {},
     "output_type": "execute_result"
    }
   ],
   "source": [
    "type arbre =\n",
    "  |Feuille of int\n",
    "  |Noeud of arbre*arbre ;;\n",
    "  \n",
    "let rec f arbre =\n",
    "  match arbre with\n",
    "  | Noeud (Noeud (Noeud (Feuille a, Feuille b), Feuille c), Feuille d) ->\n",
    "     f (Noeud (Noeud (Feuille a, Feuille b), Noeud (Feuille c, Feuille d)))\n",
    "  | Noeud (Noeud (Feuille a, Feuille b), Noeud (Feuille c, Feuille d)) ->\n",
    "     f (Noeud (Noeud (Noeud (Feuille a, Feuille b), Feuille c), Feuille d))\n",
    "  | _ -> arbre\n",
    ";;"
   ]
  },
  {
   "cell_type": "markdown",
   "metadata": {},
   "source": [
    "\n",
    "<p>Dans le premier cas de la fonction <code>f</code>, l'appel récursif se fait sur un arbre dont la hauteur est strictement plus petite que celle de l'arbre initial.</p>\n",
    "<p>Dans le deuxième cas, l'appel récursif se fait sur un arbre dont le fils droit a une hauteur strictement plus petite que celle de l'arbre initial.</p>\n",
    "<p>Pourtant, la fonction <code>f</code> ne termine pas toujours (elle ne termine que si l'on n'est dans aucun des deux premiers cas).</p>\n"
   ]
  },
  {
   "cell_type": "markdown",
   "metadata": {},
   "source": [
    "\n",
    "<p>Lorsqu'on a besoin de considérer plusieurs grandeurs pour prouver la terminaison, on essaiera d'utiliser un ordre lexicographique sur un produit cartésien.</p>\n"
   ]
  },
  {
   "cell_type": "markdown",
   "metadata": {},
   "source": [
    "\n",
    "<h1 id=\"Éléments-de-correction\">Éléments de correction<a class=\"anchor-link\" href=\"#Éléments-de-correction\">¶</a></h1>\n"
   ]
  },
  {
   "cell_type": "markdown",
   "metadata": {},
   "source": [
    "\n",
    "<h2 id=\"Implémentation-et-fonctions-élémentaires\">Implémentation et fonctions élémentaires<a class=\"anchor-link\" href=\"#Implémentation-et-fonctions-élémentaires\">¶</a></h2>\n"
   ]
  },
  {
   "cell_type": "code",
   "execution_count": 6,
   "metadata": {},
   "outputs": [
    {
     "data": {
      "text/plain": [
       "type 'a arbre = Vide | Noeud of 'a * 'a arbre * 'a arbre\n"
      ]
     },
     "execution_count": 6,
     "metadata": {},
     "output_type": "execute_result"
    }
   ],
   "source": [
    "type 'a arbre =\n",
    "  | Vide\n",
    "  | Noeud of 'a * 'a arbre * 'a arbre\n",
    ";;"
   ]
  },
  {
   "cell_type": "markdown",
   "metadata": {},
   "source": [
    "\n",
    "<h4 id=\"Question-1\">Question 1<a class=\"anchor-link\" href=\"#Question-1\">¶</a></h4>\n"
   ]
  },
  {
   "cell_type": "code",
   "execution_count": 7,
   "metadata": {},
   "outputs": [
    {
     "data": {
      "text/plain": [
       "val mon_arbre : int arbre =\n",
       "  Noeud (1, Noeud (2, Noeud (3, Vide, Vide), Noeud (4, Vide, Vide)),\n",
       "   Noeud (5, Noeud (6, Vide, Noeud (7, Vide, Vide)), Noeud (8, Vide, Vide)))\n"
      ]
     },
     "execution_count": 7,
     "metadata": {},
     "output_type": "execute_result"
    }
   ],
   "source": [
    "let mon_arbre = Noeud (1,\n",
    "                      Noeud (2,\n",
    "                             Noeud (3, Vide, Vide),\n",
    "                             Noeud (4, Vide, Vide)),\n",
    "                      Noeud (5,\n",
    "                             Noeud (6,\n",
    "                                    Vide,\n",
    "                                    Noeud (7, Vide, Vide)),\n",
    "                             Noeud (8, Vide, Vide))\n",
    "                 )\n",
    ";;"
   ]
  },
  {
   "cell_type": "markdown",
   "metadata": {},
   "source": [
    "\n",
    "<h4 id=\"Question-2\">Question 2<a class=\"anchor-link\" href=\"#Question-2\">¶</a></h4>\n"
   ]
  },
  {
   "cell_type": "code",
   "execution_count": 8,
   "metadata": {},
   "outputs": [
    {
     "data": {
      "text/plain": [
       "val est_strict : 'a arbre -> bool = <fun>\n"
      ]
     },
     "execution_count": 8,
     "metadata": {},
     "output_type": "execute_result"
    }
   ],
   "source": [
    "let rec est_strict a =\n",
    "  match a with\n",
    "  | Vide -> true\n",
    "  | Noeud (_, Vide, Vide) -> true\n",
    "  | Noeud (_, Vide, _) -> false\n",
    "  | Noeud (_, _, Vide) -> false\n",
    "  | Noeud (_, fg, fd) -> est_strict fg && est_strict fd\n",
    ";;"
   ]
  },
  {
   "cell_type": "code",
   "execution_count": 9,
   "metadata": {},
   "outputs": [
    {
     "data": {
      "text/plain": [
       "- : bool = false\n"
      ]
     },
     "execution_count": 9,
     "metadata": {},
     "output_type": "execute_result"
    }
   ],
   "source": [
    "est_strict mon_arbre;;"
   ]
  },
  {
   "cell_type": "code",
   "execution_count": 10,
   "metadata": {},
   "outputs": [
    {
     "data": {
      "text/plain": [
       "val mon_arbre_strict : int arbre =\n",
       "  Noeud (1, Noeud (2, Noeud (3, Vide, Vide), Noeud (4, Vide, Vide)),\n",
       "   Noeud (5, Noeud (6, Noeud (7, Vide, Vide), Noeud (8, Vide, Vide)),\n",
       "    Noeud (9, Vide, Vide)))\n"
      ]
     },
     "execution_count": 10,
     "metadata": {},
     "output_type": "execute_result"
    }
   ],
   "source": [
    "let mon_arbre_strict = Noeud (1,\n",
    "                      Noeud (2,\n",
    "                             Noeud (3, Vide, Vide),\n",
    "                             Noeud (4, Vide, Vide)),\n",
    "                      Noeud (5,\n",
    "                             Noeud (6,\n",
    "                                    Noeud (7, Vide, Vide),\n",
    "                                    Noeud (8, Vide, Vide)),\n",
    "                             Noeud (9, Vide, Vide))\n",
    "                 )\n",
    ";;"
   ]
  },
  {
   "cell_type": "code",
   "execution_count": 11,
   "metadata": {},
   "outputs": [
    {
     "data": {
      "text/plain": [
       "- : bool = true\n"
      ]
     },
     "execution_count": 11,
     "metadata": {},
     "output_type": "execute_result"
    }
   ],
   "source": [
    "est_strict mon_arbre_strict;;"
   ]
  },
  {
   "cell_type": "code",
   "execution_count": 12,
   "metadata": {},
   "outputs": [
    {
     "data": {
      "text/plain": [
       "val un_arbre : int arbre =\n",
       "  Noeud (1,\n",
       "   Noeud (2, Noeud (4, Noeud (7, Vide, Vide), Noeud (8, Vide, Vide)), Vide),\n",
       "   Noeud (3, Noeud (10, Vide, Vide),\n",
       "    Noeud (6, Noeud (9, Vide, Vide), Noeud (5, Vide, Vide))))\n"
      ]
     },
     "execution_count": 12,
     "metadata": {},
     "output_type": "execute_result"
    }
   ],
   "source": [
    "let un_arbre =\n",
    "  Noeud (1,\n",
    "         Noeud (2,\n",
    "                Noeud (4,\n",
    "                       Noeud (7,\n",
    "                              Vide,\n",
    "                              Vide),\n",
    "                       Noeud(8,\n",
    "                             Vide,\n",
    "                             Vide)\n",
    "                  ),\n",
    "                Vide),\n",
    "         Noeud (3,\n",
    "                Noeud (10,\n",
    "                       Vide, \n",
    "                       Vide),\n",
    "                Noeud (6,\n",
    "                       Noeud (9,\n",
    "                              Vide,\n",
    "                              Vide),\n",
    "                       Noeud (5,\n",
    "                              Vide,\n",
    "                              Vide)\n",
    "                  )\n",
    "           )\n",
    "    )\n",
    "                \n",
    ";;"
   ]
  },
  {
   "cell_type": "code",
   "execution_count": 13,
   "metadata": {},
   "outputs": [
    {
     "data": {
      "text/plain": [
       "- : bool = false\n"
      ]
     },
     "execution_count": 13,
     "metadata": {},
     "output_type": "execute_result"
    }
   ],
   "source": [
    "est_strict un_arbre;;"
   ]
  },
  {
   "cell_type": "markdown",
   "metadata": {},
   "source": [
    "\n",
    "<h4 id=\"Question-3\">Question 3<a class=\"anchor-link\" href=\"#Question-3\">¶</a></h4>\n"
   ]
  },
  {
   "cell_type": "code",
   "execution_count": 14,
   "metadata": {},
   "outputs": [
    {
     "data": {
      "text/plain": [
       "val nb_noeuds : 'a arbre -> int = <fun>\n"
      ]
     },
     "execution_count": 14,
     "metadata": {},
     "output_type": "execute_result"
    }
   ],
   "source": [
    "\n",
    "let rec nb_noeuds a =\n",
    "  match a with\n",
    "  | Vide -> 0\n",
    "  | Noeud (_, fg, fd) -> 1 + nb_noeuds fg + nb_noeuds fd\n",
    ";;\n",
    "\n"
   ]
  },
  {
   "cell_type": "code",
   "execution_count": 15,
   "metadata": {},
   "outputs": [
    {
     "data": {
      "text/plain": [
       "- : int = 8\n"
      ]
     },
     "execution_count": 15,
     "metadata": {},
     "output_type": "execute_result"
    }
   ],
   "source": [
    "nb_noeuds mon_arbre;;"
   ]
  },
  {
   "cell_type": "code",
   "execution_count": 16,
   "metadata": {},
   "outputs": [
    {
     "data": {
      "text/plain": [
       "val nb_feuilles : 'a arbre -> int = <fun>\n"
      ]
     },
     "execution_count": 16,
     "metadata": {},
     "output_type": "execute_result"
    }
   ],
   "source": [
    "let rec nb_feuilles a =\n",
    "  match a with\n",
    "  | Vide -> 0\n",
    "  | Noeud (_, Vide, Vide) -> 1\n",
    "  | Noeud (_, fg, fd) -> nb_feuilles fg + nb_feuilles fd\n",
    ";;"
   ]
  },
  {
   "cell_type": "code",
   "execution_count": 17,
   "metadata": {},
   "outputs": [
    {
     "data": {
      "text/plain": [
       "- : int = 4\n"
      ]
     },
     "execution_count": 17,
     "metadata": {},
     "output_type": "execute_result"
    }
   ],
   "source": [
    "nb_feuilles mon_arbre;;"
   ]
  },
  {
   "cell_type": "markdown",
   "metadata": {},
   "source": [
    "#### Question 4"
   ]
  },
  {
   "cell_type": "code",
   "execution_count": 18,
   "metadata": {},
   "outputs": [
    {
     "data": {
      "text/plain": [
       "val hauteur : 'a arbre -> int = <fun>\n"
      ]
     },
     "execution_count": 18,
     "metadata": {},
     "output_type": "execute_result"
    }
   ],
   "source": [
    "let rec hauteur a =\n",
    "  match a with\n",
    "  | Vide -> -1 (* ou 0 si on utilise l'autre définition de la hauteur *)\n",
    "  | Noeud (_, fg, fd) -> 1 + max (hauteur fg) (hauteur fd)\n",
    ";;"
   ]
  },
  {
   "cell_type": "code",
   "execution_count": 19,
   "metadata": {},
   "outputs": [
    {
     "data": {
      "text/plain": [
       "- : int = 3\n"
      ]
     },
     "execution_count": 19,
     "metadata": {},
     "output_type": "execute_result"
    }
   ],
   "source": [
    "hauteur mon_arbre;;"
   ]
  },
  {
   "cell_type": "markdown",
   "metadata": {},
   "source": [
    "<h4 id=\"Question-5\">Question 5<a class=\"anchor-link\" href=\"#Question-5\">¶</a></h4>"
   ]
  },
  {
   "cell_type": "code",
   "execution_count": 20,
   "metadata": {},
   "outputs": [
    {
     "data": {
      "text/plain": [
       "val recherche : 'a -> 'a arbre -> bool = <fun>\n"
      ]
     },
     "execution_count": 20,
     "metadata": {},
     "output_type": "execute_result"
    }
   ],
   "source": [
    "let rec recherche x a =\n",
    "  match a with\n",
    "  | Vide -> false\n",
    "  | Noeud (e, fg, fd) -> x = e || recherche x fg || recherche x fd\n",
    ";;"
   ]
  },
  {
   "cell_type": "markdown",
   "metadata": {},
   "source": [
    "\n",
    "<h2 id=\"Quelques-fonctions-sur-des-arbres-étiquetés-par-des-entiers\">Quelques fonctions sur des arbres étiquetés par des entiers<a class=\"anchor-link\" href=\"#Quelques-fonctions-sur-des-arbres-étiquetés-par-des-entiers\">¶</a></h2>\n"
   ]
  },
  {
   "cell_type": "markdown",
   "metadata": {},
   "source": [
    "\n",
    "<h4 id=\"Question-6\">Question 6<a class=\"anchor-link\" href=\"#Question-6\">¶</a></h4>\n"
   ]
  },
  {
   "cell_type": "code",
   "execution_count": 21,
   "metadata": {},
   "outputs": [
    {
     "data": {
      "text/plain": [
       "val maxi : 'a arbre -> 'a = <fun>\n"
      ]
     },
     "execution_count": 21,
     "metadata": {},
     "output_type": "execute_result"
    }
   ],
   "source": [
    "\n",
    "let rec maxi a =\n",
    "  match a with\n",
    "  | Vide -> failwith \"Arbre vide\"\n",
    "  | Noeud (e, Vide, Vide) -> e\n",
    "  | Noeud (e, fg, Vide) -> max e (maxi fg)\n",
    "  | Noeud (e, Vide, fd) -> max e (maxi fd)\n",
    "  | Noeud (e, fg, fd) -> max e (max (maxi fg) (maxi fd))\n",
    ";;\n",
    "\n"
   ]
  },
  {
   "cell_type": "code",
   "execution_count": 22,
   "metadata": {},
   "outputs": [
    {
     "data": {
      "text/plain": [
       "- : int = 8\n"
      ]
     },
     "execution_count": 22,
     "metadata": {},
     "output_type": "execute_result"
    },
    {
     "data": {
      "text/plain": [
       "- : int = 10\n"
      ]
     },
     "execution_count": 22,
     "metadata": {},
     "output_type": "execute_result"
    }
   ],
   "source": [
    "maxi mon_arbre;;\n",
    "maxi un_arbre;;"
   ]
  },
  {
   "cell_type": "markdown",
   "metadata": {},
   "source": [
    "\n",
    "<h4 id=\"Question-7\">Question 7<a class=\"anchor-link\" href=\"#Question-7\">¶</a></h4>\n"
   ]
  },
  {
   "cell_type": "code",
   "execution_count": 23,
   "metadata": {},
   "outputs": [
    {
     "data": {
      "text/plain": [
       "val somme : int arbre -> int = <fun>\n"
      ]
     },
     "execution_count": 23,
     "metadata": {},
     "output_type": "execute_result"
    }
   ],
   "source": [
    "let rec somme a =\n",
    "  match a with\n",
    "  | Vide -> 0\n",
    "  | Noeud (e, fg, fd) -> e + somme fg + somme fd\n",
    ";;"
   ]
  },
  {
   "cell_type": "code",
   "execution_count": 24,
   "metadata": {},
   "outputs": [
    {
     "data": {
      "text/plain": [
       "- : int = 36\n"
      ]
     },
     "execution_count": 24,
     "metadata": {},
     "output_type": "execute_result"
    },
    {
     "data": {
      "text/plain": [
       "- : int = 55\n"
      ]
     },
     "execution_count": 24,
     "metadata": {},
     "output_type": "execute_result"
    }
   ],
   "source": [
    "somme mon_arbre;;\n",
    "somme un_arbre;;"
   ]
  },
  {
   "cell_type": "markdown",
   "metadata": {},
   "source": [
    "\n",
    "<h4 id=\"Question-8\">Question 8<a class=\"anchor-link\" href=\"#Question-8\">¶</a></h4>\n"
   ]
  },
  {
   "cell_type": "code",
   "execution_count": 38,
   "metadata": {},
   "outputs": [
    {
     "data": {
      "text/plain": [
       "val somme_max_branche : int arbre/2 -> int = <fun>\n"
      ]
     },
     "execution_count": 38,
     "metadata": {},
     "output_type": "execute_result"
    }
   ],
   "source": [
    "let rec somme_max_branche a =\n",
    "  match a with\n",
    "  | Vide -> 0\n",
    "  | Noeud (e, fg, Vide) -> e + somme_max_branche fg\n",
    "  | Noeud (e, Vide, fd) -> e +somme_max_branche fd\n",
    "  | Noeud (e, fg, fd) -> e + max (somme_max_branche fg) (somme_max_branche fd)\n",
    ";;"
   ]
  },
  {
   "cell_type": "code",
   "execution_count": 39,
   "metadata": {},
   "outputs": [
    {
     "data": {
      "text/plain": [
       "- : int = 19\n"
      ]
     },
     "execution_count": 39,
     "metadata": {},
     "output_type": "execute_result"
    }
   ],
   "source": [
    "somme_max_branche mon_arbre;;"
   ]
  },
  {
   "cell_type": "markdown",
   "metadata": {},
   "source": [
    "\n",
    "<h2 id=\"Diamètre-d'un-arbre\">Diamètre d'un arbre<a class=\"anchor-link\" href=\"#Diamètre-d'un-arbre\">¶</a></h2>\n"
   ]
  },
  {
   "cell_type": "markdown",
   "metadata": {},
   "source": [
    "\n",
    "<h4 id=\"Question-9\">Question 9<a class=\"anchor-link\" href=\"#Question-9\">¶</a></h4>\n"
   ]
  },
  {
   "cell_type": "markdown",
   "metadata": {},
   "source": [
    "\n",
    "<p>La longueur d'un plus long chemin passant par la racine est la longueur d'un plus long chemin partant d'une feuille du sous-arbre gauche, passant par la racine, et atteignant une feuille du sous-arbre droit.</p>\n",
    "<p>Par conséquent, la longueur d'un plus long chemin passant par la racine est égale à la somme des hauteurs des deux sous-arbres à laquelle on ajoute 2 (en utilisant la convention que la hauteur de l'arbre vide est -1).</p>\n"
   ]
  },
  {
   "cell_type": "markdown",
   "metadata": {},
   "source": [
    "\n",
    "<h4 id=\"Question-10\">Question 10<a class=\"anchor-link\" href=\"#Question-10\">¶</a></h4>\n"
   ]
  },
  {
   "cell_type": "markdown",
   "metadata": {},
   "source": [
    "\n",
    "<p>Considérons un plus long chemin dans $\\mathcal{A}$ :</p>\n",
    "<ul>\n",
    "<li>soit ce chemin passe par la racine</li>\n",
    "<li>soit ce chemin ne comporte que des nœuds du sous-arbre gauche ; sa longueur est alors le diamètre du sous-arbre gauche</li>\n",
    "<li>soit ce chemin ne comporte que des nœuds du sous-arbres droit ; sa longueur est alors le diamètre du sous-arbre droit</li>\n",
    "</ul>\n"
   ]
  },
  {
   "cell_type": "code",
   "execution_count": 27,
   "metadata": {},
   "outputs": [
    {
     "data": {
      "text/plain": [
       "val diametre : 'a arbre -> int = <fun>\n"
      ]
     },
     "execution_count": 27,
     "metadata": {},
     "output_type": "execute_result"
    }
   ],
   "source": [
    "\n",
    "let rec diametre a =\n",
    "  match a with\n",
    "  | Vide -> 0\n",
    "  | Noeud (_, fg, fd) ->\n",
    "     let d_gauche = diametre fg and d_droit = diametre fd in\n",
    "     let plc_par_racine = 2 + (hauteur fg) + (hauteur fd) in\n",
    "     max plc_par_racine (max d_gauche d_droit)\n",
    ";;\n",
    "\n"
   ]
  },
  {
   "cell_type": "code",
   "execution_count": 28,
   "metadata": {},
   "outputs": [
    {
     "data": {
      "text/plain": [
       "- : int = 5\n"
      ]
     },
     "execution_count": 28,
     "metadata": {},
     "output_type": "execute_result"
    }
   ],
   "source": [
    "diametre mon_arbre;;"
   ]
  },
  {
   "cell_type": "markdown",
   "metadata": {},
   "source": [
    "\n",
    "<h2 id=\"Peignes-(d'après-e3a-2017)\">Peignes (d'après e3a 2017)<a class=\"anchor-link\" href=\"#Peignes-(d'après-e3a-2017)\">¶</a></h2>\n"
   ]
  },
  {
   "cell_type": "code",
   "execution_count": 29,
   "metadata": {},
   "outputs": [
    {
     "data": {
      "text/plain": [
       "type arbre = Feuille of int | Noeud of arbre * arbre\n"
      ]
     },
     "execution_count": 29,
     "metadata": {},
     "output_type": "execute_result"
    }
   ],
   "source": [
    "type arbre =\n",
    "  | Feuille of int\n",
    "  | Noeud of arbre * arbre ;;"
   ]
  },
  {
   "cell_type": "markdown",
   "metadata": {},
   "source": [
    "\n",
    "<h4 id=\"Question-11\">Question 11<a class=\"anchor-link\" href=\"#Question-11\">¶</a></h4>\n"
   ]
  },
  {
   "cell_type": "code",
   "execution_count": 30,
   "metadata": {},
   "outputs": [
    {
     "data": {
      "text/plain": [
       "val mon_peigne : arbre =\n",
       "  Noeud (Noeud (Feuille 2, Feuille 5),\n",
       "   Noeud (Feuille 1, Noeud (Feuille 3, Feuille 4)))\n"
      ]
     },
     "execution_count": 30,
     "metadata": {},
     "output_type": "execute_result"
    }
   ],
   "source": [
    "let mon_peigne = Noeud (Noeud (Feuille 2,\n",
    "                               Feuille 5),\n",
    "                        Noeud (Feuille 1,\n",
    "                               Noeud (Feuille 3,\n",
    "                                      Feuille 4)\n",
    "\n",
    "                          )\n",
    "                   );;"
   ]
  },
  {
   "cell_type": "markdown",
   "metadata": {},
   "source": [
    "\n",
    "<h4 id=\"Question-12\">Question 12<a class=\"anchor-link\" href=\"#Question-12\">¶</a></h4>\n"
   ]
  },
  {
   "cell_type": "markdown",
   "metadata": {},
   "source": [
    "\n",
    "<p>Montrons par récurrence sur $n \\in \\mathbb{N}^*$ que la hauteur d'un peigne rangé à $n$ feuilles est $n-1$.</p>\n",
    "<p><strong>Initialisation.</strong> Soit $\\mathcal{A}$ un peigne rangé à une feuille. Alors $\\mathcal{A}$ est réduit à une feuille donc est de hauteur $0$.</p>\n",
    "<p><strong>Hérédité.</strong> Soit $n \\in \\mathbb{N}^*$. On suppose que la hauteur d'un peigne rangé à $n$ feuilles est $n-1$. \n",
    "Soit $\\mathcal{A}$ un peigne rangé à $n+1$ feuilles. \n",
    "Comme $\\mathcal{A}$ est rangé, son fils droit est une feuille (de hauteur $0$), donc son fils gauche est un peigne rangé à $n$ feuilles, donc est de hauteur $n-1$. \n",
    "Par conséquent, la hauteur de $\\mathcal{A}$ est $1 + \\max\\{0, n-1\\}$ c'est-à-dire $n$.</p>\n"
   ]
  },
  {
   "cell_type": "markdown",
   "metadata": {},
   "source": [
    "\n",
    "<h4 id=\"Question-13\">Question 13<a class=\"anchor-link\" href=\"#Question-13\">¶</a></h4>\n"
   ]
  },
  {
   "cell_type": "code",
   "execution_count": 31,
   "metadata": {},
   "outputs": [
    {
     "data": {
      "text/plain": [
       "val est_range : arbre -> bool = <fun>\n"
      ]
     },
     "execution_count": 31,
     "metadata": {},
     "output_type": "execute_result"
    }
   ],
   "source": [
    "let rec est_range a =\n",
    "  match a with\n",
    "  | Feuille _ -> true\n",
    "  | Noeud (fg, Feuille _) -> est_range fg\n",
    "  | _ -> false\n",
    ";;"
   ]
  },
  {
   "cell_type": "markdown",
   "metadata": {},
   "source": [
    "\n",
    "<h4 id=\"Question-14\">Question 14<a class=\"anchor-link\" href=\"#Question-14\">¶</a></h4>\n"
   ]
  },
  {
   "cell_type": "code",
   "execution_count": 32,
   "metadata": {},
   "outputs": [
    {
     "data": {
      "text/plain": [
       "val est_peigne_strict : arbre -> bool = <fun>\n"
      ]
     },
     "execution_count": 32,
     "metadata": {},
     "output_type": "execute_result"
    }
   ],
   "source": [
    "let rec est_peigne_strict a =\n",
    "  match a with\n",
    "  | Feuille _ -> true\n",
    "  | Noeud (Feuille _, fd) -> est_peigne_strict fd\n",
    "  | Noeud (fg, Feuille _) -> est_peigne_strict fg\n",
    "  | _ -> false\n",
    ";;"
   ]
  },
  {
   "cell_type": "code",
   "execution_count": 33,
   "metadata": {},
   "outputs": [
    {
     "data": {
      "text/plain": [
       "val est_peigne : arbre -> bool = <fun>\n"
      ]
     },
     "execution_count": 33,
     "metadata": {},
     "output_type": "execute_result"
    }
   ],
   "source": [
    "let est_peigne a =\n",
    "  match a with\n",
    "  | Feuille _ -> true\n",
    "  | Noeud (fg, fd) -> est_peigne_strict fg && est_peigne_strict fd\n",
    ";;"
   ]
  },
  {
   "cell_type": "markdown",
   "metadata": {},
   "source": [
    "\n",
    "<h4 id=\"Question-15\">Question 15<a class=\"anchor-link\" href=\"#Question-15\">¶</a></h4>\n"
   ]
  },
  {
   "cell_type": "code",
   "execution_count": 34,
   "metadata": {},
   "outputs": [
    {
     "data": {
      "text/plain": [
       "val peigne_rot : arbre =\n",
       "  Noeud (Noeud (Noeud (Feuille 2, Feuille 5), Feuille 1),\n",
       "   Noeud (Feuille 3, Feuille 4))\n"
      ]
     },
     "execution_count": 34,
     "metadata": {},
     "output_type": "execute_result"
    }
   ],
   "source": [
    "let peigne_rot = Noeud (Noeud (Noeud (Feuille 2,\n",
    "                                      Feuille 5),\n",
    "                               Feuille 1),\n",
    "                        Noeud (Feuille 3,\n",
    "                               Feuille 4)\n",
    "                   );;"
   ]
  },
  {
   "cell_type": "code",
   "execution_count": null,
   "metadata": {},
   "outputs": [],
   "source": [
    "let rotation a =\n",
    "  match a with\n",
    "  | Noeud (a1, v2) ->\n",
    "     begin\n",
    "       match v2 with\n",
    "       | Feuille _ -> a\n",
    "       | Noeud (a2, Feuille f) -> Noeud (Noeud (a1,\n",
    "                                                Feuille f),\n",
    "                                         a2)\n",
    "       | Noeud (Feuille f, a2) -> Noeud (Noeud (a1,\n",
    "                                                Feuille f),\n",
    "                                         a2)\n",
    "       | _ -> failwith \"Cet arbre n'est pas un peigne\"\n",
    "     end\n",
    "  | _ -> a\n",
    ";;"
   ]
  },
  {
   "cell_type": "code",
   "execution_count": 35,
   "metadata": {},
   "outputs": [
    {
     "data": {
      "text/plain": [
       "val rotation : arbre -> arbre = <fun>\n"
      ]
     },
     "execution_count": 35,
     "metadata": {},
     "output_type": "execute_result"
    },
    {
     "data": {
      "text/plain": [
       "- : arbre =\n",
       "Noeud (Noeud (Noeud (Feuille 2, Feuille 5), Feuille 1),\n",
       " Noeud (Feuille 3, Feuille 4))\n"
      ]
     },
     "execution_count": 35,
     "metadata": {},
     "output_type": "execute_result"
    }
   ],
   "source": [
    "rotation mon_peigne;;"
   ]
  },
  {
   "cell_type": "code",
   "execution_count": 36,
   "metadata": {},
   "outputs": [
    {
     "data": {
      "text/plain": [
       "val rangement : arbre -> arbre = <fun>\n"
      ]
     },
     "execution_count": 36,
     "metadata": {},
     "output_type": "execute_result"
    }
   ],
   "source": [
    "let rangement a =\n",
    "  if not (est_peigne a)\n",
    "  then a\n",
    "  else\n",
    "    let rec range peigne =\n",
    "      match peigne with\n",
    "      | Feuille _ -> peigne\n",
    "      | Noeud (fg, Feuille f) -> Noeud (range fg, Feuille f)\n",
    "      | _ -> range (rotation peigne)\n",
    "    in\n",
    "    range a\n",
    ";;"
   ]
  },
  {
   "cell_type": "code",
   "execution_count": 37,
   "metadata": {},
   "outputs": [
    {
     "data": {
      "text/plain": [
       "- : arbre =\n",
       "Noeud (Noeud (Noeud (Noeud (Feuille 2, Feuille 5), Feuille 1), Feuille 4),\n",
       " Feuille 3)\n"
      ]
     },
     "execution_count": 37,
     "metadata": {},
     "output_type": "execute_result"
    }
   ],
   "source": [
    "rangement mon_peigne;;"
   ]
  },
  {
   "cell_type": "markdown",
   "metadata": {},
   "source": [
    "\n",
    "<p>Si l'arbre n'est pas un peigne, la fonction <code>rangement</code> termine.</p>\n",
    "<p>Pour un peigne $\\mathcal{A}$ donné, considérons le couple d'entiers naturels $(n_f, n_{fd})$ où $n_f$ est le nombre de feuilles de $\\mathcal{A}$ et $n_{fd}$ le nombre de feuilles du fils droit de $\\mathcal{A}$ (arbitrairement $0$ si $\\mathcal{A}$ est réduit à une feuille), et considérons l'ordre lexicographique sur $\\mathbb{N}^* \\times \\mathbb{N}$.</p>\n",
    "<ul>\n",
    "<li>Si $n_f = 1$, alors $\\mathcal{A}$ est réduit à une feuille et <code>rangement</code> termine.</li>\n",
    "<li>Si $n_f > 1$ :<ul>\n",
    "<li>Ou bien le fils droit de $\\mathcal{A}$ est une feuille, alors on effectue un appel récursif sur le fils gauche $\\mathcal{A}_g$ de $\\mathcal{A}$. En notant $n_f'$ le nombre de feuilles de $\\mathcal{A}_g$ et $n_{fd}'$ le nombre de feuilles du fils droit de $\\mathcal{A}_g$, on a $n_f' = n_f - 1$ donc $(n_f',n_{fd}') < (n_f, n_{fd})$.</li>\n",
    "<li>Ou bien le fils droit de $\\mathcal{A}$ n'est pas une feuille, alors on effectue un appel récursif sur le peigne $\\mathcal{A}_r$ obtenu après avoir appliqué une rotation à $\\mathcal{A}$. Notons $n_f'$ le nombre de feuilles de $\\mathcal{A}_r$ et $n_{fd}'$ le nombre de feuilles du fils droit de $\\mathcal{A}_r$, alors $n_f'= n_f$ mais $n_{fd}' = n_{fd} -1$ donc $(n_f',n_{fd}') > (n_f, n_{fd})$.</li>\n",
    "</ul>\n",
    "</li>\n",
    "</ul>\n",
    "<p>Finalement, la fonction <code>rangement</code> termine.</p>\n"
   ]
  }
 ],
 "metadata": {
  "kernelspec": {
   "display_name": "OCaml default",
   "language": "OCaml",
   "name": "ocaml-jupyter"
  },
  "language_info": {
   "codemirror_mode": "text/x-ocaml",
   "file_extension": ".ml",
   "mimetype": "text/x-ocaml",
   "name": "OCaml",
   "nbconverter_exporter": null,
   "pygments_lexer": "OCaml",
   "version": "4.08.1"
  },
  "toc": {
   "base_numbering": 1,
   "nav_menu": {},
   "number_sections": false,
   "sideBar": true,
   "skip_h1_title": false,
   "title_cell": "Table of Contents",
   "title_sidebar": "Contents",
   "toc_cell": false,
   "toc_position": {
    "height": "calc(100% - 180px)",
    "left": "10px",
    "top": "150px",
    "width": "337.813px"
   },
   "toc_section_display": true,
   "toc_window_display": true
  }
 },
 "nbformat": 4,
 "nbformat_minor": 1
}
