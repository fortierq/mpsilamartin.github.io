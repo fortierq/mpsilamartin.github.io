{
 "cells": [
  {
   "cell_type": "markdown",
   "id": "27b3cf6e",
   "metadata": {
    "deletable": false,
    "editable": false,
    "nbgrader": {
     "cell_type": "markdown",
     "checksum": "18caa6c3aff95965df3070161af887b3",
     "grade": false,
     "grade_id": "cell-24b7fc8dc316671b",
     "locked": true,
     "schema_version": 3,
     "solution": false,
     "task": false
    }
   },
   "source": [
    "# Pour démarrer"
   ]
  },
  {
   "cell_type": "markdown",
   "id": "09b399e0",
   "metadata": {
    "deletable": false,
    "editable": false,
    "nbgrader": {
     "cell_type": "markdown",
     "checksum": "bff91eb85b7b49dfb8b74ae2f68f649b",
     "grade": false,
     "grade_id": "cell-b96618d56ba52d57",
     "locked": true,
     "schema_version": 3,
     "solution": false,
     "task": false
    }
   },
   "source": [
    "Vous vous trouvez actuellement dans un *notebook* Jupyter. Celui-ci contient deux types de cellule : des cellules de texte (comme celle-ci), et des cellules de code."
   ]
  },
  {
   "cell_type": "markdown",
   "id": "933a4ad6",
   "metadata": {
    "deletable": false,
    "editable": false,
    "nbgrader": {
     "cell_type": "markdown",
     "checksum": "27371034053d9e0176afdc261cdf12f8",
     "grade": false,
     "grade_id": "cell-b96618d56ba52d57b",
     "locked": true,
     "schema_version": 3,
     "solution": false,
     "task": false
    }
   },
   "source": [
    "Les cellules peuvent être exécutées via le menu **Run**, via l'icône Play ou avec un raccourci clavier :\n",
    "- `Shift+Entrée` pour exécuter la cellule et passer à la suivante ;\n",
    "- `Ctrl+Entrée` pour exécuter la cellule sans passer à la suivante ;\n",
    "- `Alt+Entrée` pour exécuter la cellule et créer une nouvelle cellule en dessous."
   ]
  },
  {
   "cell_type": "markdown",
   "id": "1ea36414",
   "metadata": {
    "deletable": false,
    "editable": false,
    "nbgrader": {
     "cell_type": "markdown",
     "checksum": "785620b7e9a13f6f67c5fc0dacdd8771",
     "grade": false,
     "grade_id": "cell-b96618d56ba52d57c",
     "locked": true,
     "schema_version": 3,
     "solution": false,
     "task": false
    }
   },
   "source": [
    "Par exemple, la cellule de code suivante définit une fonction permettant de calculer la factorielle d'un entier naturel."
   ]
  },
  {
   "cell_type": "code",
   "execution_count": null,
   "id": "3fbf5f25",
   "metadata": {
    "deletable": false,
    "editable": false,
    "nbgrader": {
     "cell_type": "code",
     "checksum": "4bfbb5d35b20282aeea4edae8e8af736",
     "grade": false,
     "grade_id": "cell-b0c8d4a7ffb4333f",
     "locked": true,
     "schema_version": 3,
     "solution": false,
     "task": false
    }
   },
   "outputs": [],
   "source": [
    "let rec fact n =\n",
    "    match n with\n",
    "    | 0 -> 1\n",
    "    | _ -> n * fact (n-1)\n",
    ";;"
   ]
  },
  {
   "cell_type": "markdown",
   "id": "5a69d913",
   "metadata": {
    "deletable": false,
    "editable": false,
    "nbgrader": {
     "cell_type": "markdown",
     "checksum": "76da78c2a6a62be0eba36d7821d6bbc8",
     "grade": false,
     "grade_id": "cell-d1cef7064fe9858c",
     "locked": true,
     "schema_version": 3,
     "solution": false,
     "task": false
    }
   },
   "source": [
    "La cellule ci-dessous appelle la fonction `fact` et ne pourra donc être exécutée sans erreur que si la cellule du dessus a été exécutée."
   ]
  },
  {
   "cell_type": "code",
   "execution_count": null,
   "id": "b9a6fd45",
   "metadata": {
    "deletable": false,
    "editable": false,
    "nbgrader": {
     "cell_type": "code",
     "checksum": "a84d0a47d4546c3ce3281a5150607170",
     "grade": false,
     "grade_id": "cell-acd1fbb20bf2fac0",
     "locked": true,
     "schema_version": 3,
     "solution": false,
     "task": false
    }
   },
   "outputs": [],
   "source": [
    "fact 6;;"
   ]
  },
  {
   "cell_type": "markdown",
   "id": "c52f70c6",
   "metadata": {
    "deletable": false,
    "editable": false,
    "nbgrader": {
     "cell_type": "markdown",
     "checksum": "a2b950bd391fc9fed66385df38706f6b",
     "grade": false,
     "grade_id": "cell-0cf5159d3c8c8a51",
     "locked": true,
     "schema_version": 3,
     "solution": false,
     "task": false
    }
   },
   "source": [
    "Par défaut, les nouvelles cellules créées sont des cellules de code. Pour modifier le style d'une cellule, passez en mode commande à l'aide de la touche `Echap` si vous êtes en mode édition, puis tapez `m` pour transformer la cellule courante en cellule de texte ou `y` pour la transformer en cellule de code.\n",
    "\n",
    "Vous pouvez par ailleurs créer une nouvelle cellule au-dessus de la cellule courante en tapant `A` (*above*) ou en dessous en tapant `B`.\n",
    "\n",
    "Pour passer du mode commande au mode édition, taper sur `Entrée`.\n",
    "\n",
    "Pour la mise en forme des cellules de texte, vous pouvez consulter l'aide sur Markdown présente dans le menu **Help**"
   ]
  },
  {
   "cell_type": "markdown",
   "id": "40ee6d75",
   "metadata": {
    "deletable": false,
    "editable": false,
    "nbgrader": {
     "cell_type": "markdown",
     "checksum": "cb349d613fe0ce67a908d4e79860d2ae",
     "grade": false,
     "grade_id": "cell-54c2cd2075ad3c5d",
     "locked": true,
     "schema_version": 3,
     "solution": false,
     "task": false
    }
   },
   "source": [
    "Les cellules déjà présentes dans ce *notebook* sont de plusieurs types :\n",
    "- Des cellules contenant l'énoncé, qui sont en lecture seule ;\n",
    "- Des cellules de réponses, que vous pouvez (et devez) modifier ;\n",
    "- Des cellules permettant de tester vos réponses, qui sont en lecture seule.\n",
    "\n",
    "Vous pouvez ajouter d'autres cellules si vous le souhaitez."
   ]
  },
  {
   "cell_type": "markdown",
   "id": "9ce58452",
   "metadata": {
    "deletable": false,
    "editable": false,
    "nbgrader": {
     "cell_type": "markdown",
     "checksum": "4b7e6b3d15776c4e8b1d643eba687219",
     "grade": false,
     "grade_id": "cell-7e2b8551120639b7",
     "locked": true,
     "schema_version": 3,
     "solution": false,
     "task": false
    }
   },
   "source": [
    "# Pour rendre le TP"
   ]
  },
  {
   "cell_type": "markdown",
   "id": "fff62194",
   "metadata": {
    "deletable": false,
    "editable": false,
    "nbgrader": {
     "cell_type": "markdown",
     "checksum": "442772d7f702f29413f521a9c64b4615",
     "grade": false,
     "grade_id": "cell-cabc60ac73e1b2ba",
     "locked": true,
     "schema_version": 3,
     "solution": false,
     "task": false
    }
   },
   "source": [
    "Les TP ne seront pas à rendre systématiquement. Lorsqu'un TP devra être rendu, cela sera indiqué dans le *notebook*.\n",
    "\n",
    "**Ce premier TP est à rendre en traitant (au moins) les questions de programmation.** Les questions portant sur la complexité des fonctions sont facultatives.\n",
    "\n",
    "Pour cela, il faudra déposer votre *notebook* au nom `TP01.ipynb` dans les deux semaines suivant le TP dans le dossier `Depot_fichiers` présent [à l'adresse suivante](https://cloud.maths.mlong.fr/), en vous connectant avec votre adresse mail et le mot de passe que vous aurez défini (utiliser *mot de passe oublié* pour la première connexion)."
   ]
  },
  {
   "cell_type": "markdown",
   "id": "00f5254d",
   "metadata": {
    "deletable": false,
    "editable": false,
    "nbgrader": {
     "cell_type": "markdown",
     "checksum": "83696b670a885c5c65975f79f5d3d3e0",
     "grade": false,
     "grade_id": "cell-10591938b7fd06e1",
     "locked": true,
     "schema_version": 3,
     "solution": false,
     "task": false
    }
   },
   "source": [
    "# Quelques fonctions autour des dates\n",
    "\n",
    "#### Règles de validité d'une date :\n",
    "- janvier, mars, mai, juillet, août, octobre, décembre comportent 31 jours ; avril, juin, septembre, novembre comportent 30 jours ; février comporte  29 jours si l'année est bissextile, 28 sinon ;\n",
    "- une année est bissextile\n",
    "  - pour les années séculaires, si elle est divisible par 400\n",
    "  - pour les autres années, si elle est divisible par 4"
   ]
  },
  {
   "cell_type": "markdown",
   "id": "1d52e841",
   "metadata": {
    "deletable": false,
    "editable": false,
    "nbgrader": {
     "cell_type": "markdown",
     "checksum": "7738fcaa818a6e62b84b6c44aa841bae",
     "grade": false,
     "grade_id": "cell-d3e05d7ca8bd0ecf",
     "locked": true,
     "schema_version": 3,
     "solution": false,
     "task": false
    }
   },
   "source": [
    "<font size=\"5\">👩‍💻</font>  Écrire la fonction Caml `bissextile : int -> bool` qui renvoie `true` si l'année `n` est bissextile."
   ]
  },
  {
   "cell_type": "markdown",
   "id": "a1af5cc0",
   "metadata": {
    "deletable": false,
    "editable": false,
    "nbgrader": {
     "cell_type": "markdown",
     "checksum": "4804cc27b068757823f2f5f37123b954",
     "grade": false,
     "grade_id": "cell-4e40a7eb2d72b5cc",
     "locked": true,
     "schema_version": 3,
     "solution": false,
     "task": false
    }
   },
   "source": [
    "<div class=\"alert alert-block alert-info\">\n",
    "    On pourra utiliser une expression <code>if e1 then e2 else e3</code>, où <code>e1</code> est une expression booléenne. Si la valeur de <code>e1</code> est <code>true</code>, l'expression <code>e2</code> est évaluée et sa valeur est retournée ; sinon, ce sera la valeur de <code>e3</code> qui sera retournée.</div>"
   ]
  },
  {
   "cell_type": "code",
   "execution_count": null,
   "id": "3db83f75",
   "metadata": {
    "deletable": false,
    "nbgrader": {
     "cell_type": "code",
     "checksum": "8ff601570915ee1cdc2a0c6ab1ecec6a",
     "grade": false,
     "grade_id": "cell-342f629193548472",
     "locked": false,
     "schema_version": 3,
     "solution": true,
     "task": false
    }
   },
   "outputs": [],
   "source": [
    "(*À remplacer par votre code*)\n",
    "failwith \"Code manquant\""
   ]
  },
  {
   "cell_type": "code",
   "execution_count": null,
   "id": "3fd250b6",
   "metadata": {
    "deletable": false,
    "editable": false,
    "nbgrader": {
     "cell_type": "code",
     "checksum": "70eb568f5c2c316c35ef750d432ee6ef",
     "grade": true,
     "grade_id": "cell-e41c9ca7fd9ba3d5",
     "locked": true,
     "points": 1,
     "schema_version": 3,
     "solution": false,
     "task": false
    }
   },
   "outputs": [],
   "source": [
    "(* Exécutez cette cellule pour tester votre fonction *)\n",
    "let () = assert (not (bissextile 2022));;\n",
    "let () = assert (bissextile 2024);;\n",
    "let () = assert (bissextile 2000);;\n",
    "let () = assert (not (bissextile 2100));;"
   ]
  },
  {
   "cell_type": "markdown",
   "id": "1ad3710e",
   "metadata": {
    "deletable": false,
    "editable": false,
    "nbgrader": {
     "cell_type": "markdown",
     "checksum": "9b48833e859a10849e60b55064436880",
     "grade": false,
     "grade_id": "cell-7f10926ab70fceaa",
     "locked": true,
     "schema_version": 3,
     "solution": false,
     "task": false
    }
   },
   "source": [
    "<font size=\"5\">🧑🏿‍💻</font> La fonction suivante utilise un *filtrage*. La tester. Que renvoie-t-elle ?"
   ]
  },
  {
   "cell_type": "code",
   "execution_count": null,
   "id": "9604d73a",
   "metadata": {
    "deletable": false,
    "editable": false,
    "nbgrader": {
     "cell_type": "code",
     "checksum": "336634954c3e03bf3891a0ab7a316729",
     "grade": false,
     "grade_id": "cell-f34766080b06f650",
     "locked": true,
     "schema_version": 3,
     "solution": false,
     "task": false
    }
   },
   "outputs": [],
   "source": [
    "let nb_jours m a =\n",
    "  match m with\n",
    "  | 2 -> if bissextile a then 29 else 28\n",
    "  | 4 -> 30\n",
    "  | 6 -> 30\n",
    "  | 9 -> 30\n",
    "  | 11 -> 30\n",
    "  | _ -> 31\n",
    ";;\n"
   ]
  },
  {
   "cell_type": "markdown",
   "id": "feb04d5a",
   "metadata": {
    "deletable": false,
    "nbgrader": {
     "cell_type": "markdown",
     "checksum": "db13d70f4e06aa9a6be515fcc842b9df",
     "grade": true,
     "grade_id": "cell-f0208aaf427503bc",
     "locked": false,
     "points": 0,
     "schema_version": 3,
     "solution": true,
     "task": false
    }
   },
   "source": [
    "✍️ *Votre réponse*"
   ]
  },
  {
   "cell_type": "markdown",
   "id": "56294095",
   "metadata": {
    "deletable": false,
    "editable": false,
    "nbgrader": {
     "cell_type": "markdown",
     "checksum": "d80e344dd61e682b3b2a5d3c96c54806",
     "grade": false,
     "grade_id": "cell-569e14a96660361f",
     "locked": true,
     "schema_version": 3,
     "solution": false,
     "task": false
    }
   },
   "source": [
    "<font size=\"5\">👨🏻‍💻</font>  Écrire une fonction `date_valide : int -> int -> int -> bool` prenant en argument les entiers `j, m , a` et renvoyant le booléen `true` si la date représentée par le triplet `j, m , a` (jour, mois, année) est une date valide, et `false` sinon."
   ]
  },
  {
   "cell_type": "code",
   "execution_count": null,
   "id": "a1c0c177",
   "metadata": {
    "deletable": false,
    "nbgrader": {
     "cell_type": "code",
     "checksum": "b006c5b78ec3bd934a91601a8ea34ceb",
     "grade": false,
     "grade_id": "cell-fc2d30efe1442906",
     "locked": false,
     "schema_version": 3,
     "solution": true,
     "task": false
    }
   },
   "outputs": [],
   "source": [
    "(*À remplacer par votre code*)\n",
    "failwith \"Code manquant\""
   ]
  },
  {
   "cell_type": "code",
   "execution_count": null,
   "id": "df919aa4",
   "metadata": {
    "deletable": false,
    "editable": false,
    "nbgrader": {
     "cell_type": "code",
     "checksum": "0cf7da21bad1c190467db65360adb667",
     "grade": true,
     "grade_id": "cell-f1dc1281d66471ef",
     "locked": true,
     "points": 1,
     "schema_version": 3,
     "solution": false,
     "task": false
    }
   },
   "outputs": [],
   "source": [
    "(* Exécutez cette cellule pour tester votre fonction *)\n",
    "let () = assert (date_valide 31 07 2022);;\n",
    "let () = assert (not (date_valide 29 02 2022));;\n",
    "let () = assert (not (date_valide 30 14 2022));;\n",
    "let () = assert (not (date_valide (-2) 14 2022));;\n",
    "let () = assert (not (date_valide 18 0 2022));;"
   ]
  },
  {
   "cell_type": "markdown",
   "id": "1866970e",
   "metadata": {
    "deletable": false,
    "editable": false,
    "nbgrader": {
     "cell_type": "markdown",
     "checksum": "347fc0467712c6797390fe75982132ed",
     "grade": false,
     "grade_id": "cell-3e50e01ff3f82565",
     "locked": true,
     "schema_version": 3,
     "solution": false,
     "task": false
    }
   },
   "source": [
    "\t\t\t\n",
    "On convient de numéroter les jours de la semaine de $0$ à $6$ (0 pour dimanche, 1 pour lundi, etc.).\n",
    "\n",
    "<font size=\"5\">🧑🏾‍💻</font> Écrire une fonction donnant, pour tout numéro entre $0$ et $6$, le nom du jour correspondant sous forme d'une chaîne de caractères.\n",
    "\n",
    "<div class=\"alert alert-block alert-info\">\n",
    "    On pourra utiliser un filtrage.\n",
    "</div>"
   ]
  },
  {
   "cell_type": "code",
   "execution_count": null,
   "id": "7b09b430",
   "metadata": {
    "deletable": false,
    "nbgrader": {
     "cell_type": "code",
     "checksum": "b8a22bd2338e04fafc40f2d5246cb407",
     "grade": false,
     "grade_id": "cell-b73a552ab7f16ffc",
     "locked": false,
     "schema_version": 3,
     "solution": true,
     "task": false
    }
   },
   "outputs": [],
   "source": [
    "(*À remplacer par votre code*)\n",
    "failwith \"Code manquant\""
   ]
  },
  {
   "cell_type": "code",
   "execution_count": null,
   "id": "bb09a2e1",
   "metadata": {
    "deletable": false,
    "editable": false,
    "nbgrader": {
     "cell_type": "code",
     "checksum": "b19d876958aabdc033587de69d537015",
     "grade": true,
     "grade_id": "cell-f55cb2954afbdf55",
     "locked": true,
     "points": 1,
     "schema_version": 3,
     "solution": false,
     "task": false
    }
   },
   "outputs": [],
   "source": [
    "(* Exécutez cette cellule pour tester votre fonction *)\n",
    "let () = assert (nom_jour 1 = \"lundi\");;\n",
    "let () = assert (nom_jour 2 = \"mardi\");;\n",
    "let () = assert (nom_jour 3 = \"mercredi\");;\n",
    "let () = assert (nom_jour 4 = \"jeudi\");;\n",
    "let () = assert (nom_jour 5 = \"vendredi\");;\n",
    "let () = assert (nom_jour 6 = \"samedi\");;\n",
    "let () = assert (nom_jour 0 = \"dimanche\");;"
   ]
  },
  {
   "cell_type": "markdown",
   "id": "93faaf7b",
   "metadata": {
    "deletable": false,
    "editable": false,
    "nbgrader": {
     "cell_type": "markdown",
     "checksum": "d4e7c5023b8209c8b763e2ac1978c4d7",
     "grade": false,
     "grade_id": "cell-42a722391fe9ee7b",
     "locked": true,
     "schema_version": 3,
     "solution": false,
     "task": false
    }
   },
   "source": [
    "En notant $\\lfloor x \\rfloor$ la partie entière de $x$, le numéro du jour de la semaine correspondant à une date donnée $(j,m,a)$ s'obtient en prenant le reste de la division par $7$ de l'entier $n$ défini par :\n",
    "\t\t$$n = j + \\lfloor 2,6 p -0,2\\rfloor + d + \\left\\lfloor \\frac{d}{4} \\right\\rfloor +\\left\\lfloor \\frac{c}{4} \\right\\rfloor +5c \\qquad\\text{(Formule de Zeller)}$$\n",
    "\n",
    "où \n",
    "\n",
    "$$\\displaystyle p = \\left\\lbrace \\begin{array}{ll} m+10 & \\text{ si } m \\leqslant 2 \\\\\n",
    "\t\t\tm-2 & \\text{ sinon}\n",
    "\t\t\\end{array}\\right. \n",
    "\t\t\\qquad b = \\left\\lbrace \\begin{array}{ll} a-1 & \\text{ si } m \\leqslant 2 \\\\\n",
    "\t\t\ta & \\text{ sinon}\n",
    "\t\t\\end{array}\\right. \n",
    "\t\t\\qquad c = \\left\\lfloor \\frac{b}{100} \\right\\rfloor \n",
    "\t\t\\qquad d=b-100c $$"
   ]
  },
  {
   "cell_type": "markdown",
   "id": "ef7e1a42",
   "metadata": {
    "deletable": false,
    "editable": false,
    "nbgrader": {
     "cell_type": "markdown",
     "checksum": "4507631fb7fd9af3a335a1d9caaa1d4e",
     "grade": false,
     "grade_id": "cell-42a722391fe9ee7ba",
     "locked": true,
     "schema_version": 3,
     "solution": false,
     "task": false
    }
   },
   "source": [
    "<font size=\"5\">👩🏼‍💻</font>  Écrire une fonction qui calcule ce numéro à partir de $j$, $m$ et $a$."
   ]
  },
  {
   "cell_type": "markdown",
   "id": "222a7a3d",
   "metadata": {
    "deletable": false,
    "editable": false,
    "nbgrader": {
     "cell_type": "markdown",
     "checksum": "2eaddb78b03cc19af2aab73346baca50",
     "grade": false,
     "grade_id": "cell-42a722391fe9ee7bb",
     "locked": true,
     "schema_version": 3,
     "solution": false,
     "task": false
    }
   },
   "source": [
    "<div class=\"alert alert-block alert-info\">\n",
    "On rappelle que OCaml est un langage fortement typé et qu'il n'est pas possible de réaliser directement une opération entre un flottant et un entier.\n",
    "    \n",
    "On pourra donc utiliser les fonctions <code>float_of_int</code> et <code>int_of_float</code> (qui donne la partie entière du flottant passé en paramètre).\n",
    "</div>"
   ]
  },
  {
   "cell_type": "markdown",
   "id": "31894c29",
   "metadata": {
    "deletable": false,
    "editable": false,
    "nbgrader": {
     "cell_type": "markdown",
     "checksum": "1769f0170d8129924ab2f2ddc08f1569",
     "grade": false,
     "grade_id": "cell-42a722391fe9ee7bac",
     "locked": true,
     "schema_version": 3,
     "solution": false,
     "task": false
    }
   },
   "source": [
    "<div class=\"alert alert-block alert-info\">\n",
    "    \n",
    "Pour définir un objet dont la valeur dépend d'une condition, on pourra écrire : \n",
    "    <code>let var = if condition then e1 else e2 in</code>\n",
    "</div>"
   ]
  },
  {
   "cell_type": "code",
   "execution_count": null,
   "id": "852f9948",
   "metadata": {
    "deletable": false,
    "nbgrader": {
     "cell_type": "code",
     "checksum": "f5b1f27932a452e1139f90d61fd0fa32",
     "grade": false,
     "grade_id": "cell-78a91564a5742a3d",
     "locked": false,
     "schema_version": 3,
     "solution": true,
     "task": false
    }
   },
   "outputs": [],
   "source": [
    "(*À remplacer par votre code*)\n",
    "failwith \"Code manquant\""
   ]
  },
  {
   "cell_type": "code",
   "execution_count": null,
   "id": "c228100f",
   "metadata": {
    "deletable": false,
    "editable": false,
    "nbgrader": {
     "cell_type": "code",
     "checksum": "726843c2eeff67c3334d74c090439f9b",
     "grade": true,
     "grade_id": "cell-115d60a767e15dfa",
     "locked": true,
     "points": 1,
     "schema_version": 3,
     "solution": false,
     "task": false
    }
   },
   "outputs": [],
   "source": [
    "(* Exécutez cette cellule pour tester votre fonction *)\n",
    "let () = assert (zeller 1 1 2022 = 6);;\n",
    "let () = assert (zeller 17 8 1936 = 1);;\n",
    "let () = assert (zeller 23 6 1912 = 0);;"
   ]
  },
  {
   "cell_type": "markdown",
   "id": "ebef035a",
   "metadata": {
    "deletable": false,
    "editable": false,
    "nbgrader": {
     "cell_type": "markdown",
     "checksum": "79e9b746b90427f3e69a9d3d80837523",
     "grade": false,
     "grade_id": "cell-645656603b96f538",
     "locked": true,
     "schema_version": 3,
     "solution": false,
     "task": false
    }
   },
   "source": [
    "<font size=\"5\">🧑🏻‍💻</font> En déduire une fonction `jour_semaine` donnant le jour de la semaine correspondant à une date donnée."
   ]
  },
  {
   "cell_type": "code",
   "execution_count": null,
   "id": "89c57c88",
   "metadata": {
    "deletable": false,
    "nbgrader": {
     "cell_type": "code",
     "checksum": "5d4b62b1ba8f1a870012d2b452104610",
     "grade": false,
     "grade_id": "cell-c0229bc3ee524390",
     "locked": false,
     "schema_version": 3,
     "solution": true,
     "task": false
    }
   },
   "outputs": [],
   "source": [
    "(*À remplacer par votre code*)\n",
    "failwith \"Code manquant\""
   ]
  },
  {
   "cell_type": "code",
   "execution_count": null,
   "id": "557a7a0e",
   "metadata": {
    "deletable": false,
    "editable": false,
    "nbgrader": {
     "cell_type": "code",
     "checksum": "61cd1c7b397197806a2310254485a19c",
     "grade": true,
     "grade_id": "cell-fe5383bf1a22cf26",
     "locked": true,
     "points": 1,
     "schema_version": 3,
     "solution": false,
     "task": false
    }
   },
   "outputs": [],
   "source": [
    "(* Exécutez cette cellule pour tester votre fonction *)\n",
    "let () = assert (jour_semaine 10 12 1815 = \"dimanche\");;\n",
    "let () = assert (jour_semaine 26 12 1791 = \"lundi\");;"
   ]
  },
  {
   "cell_type": "markdown",
   "id": "d761d2fb",
   "metadata": {
    "deletable": false,
    "editable": false,
    "nbgrader": {
     "cell_type": "markdown",
     "checksum": "b4218f59ec2988554c3a364cdd317b68",
     "grade": false,
     "grade_id": "cell-cf56e05ff884f565",
     "locked": true,
     "schema_version": 3,
     "solution": false,
     "task": false
    }
   },
   "source": [
    "# Calculs de puissances\n",
    "\n",
    "<font size=\"5\">👩🏽‍💻</font> Écrire une fonction `puiss : int -> int -> int` telle que si $n$ est un entier naturel,\n",
    "`puiss x n` calcule $x^{n}$ (sans utiliser `**`)."
   ]
  },
  {
   "cell_type": "code",
   "execution_count": null,
   "id": "ff69e278",
   "metadata": {
    "deletable": false,
    "nbgrader": {
     "cell_type": "code",
     "checksum": "6eea6cc5c3aa65393bd986e71ee52d3e",
     "grade": false,
     "grade_id": "cell-1764cba30500d0a1",
     "locked": false,
     "schema_version": 3,
     "solution": true,
     "task": false
    }
   },
   "outputs": [],
   "source": [
    "(*À remplacer par votre code*)\n",
    "failwith \"Code manquant\""
   ]
  },
  {
   "cell_type": "code",
   "execution_count": null,
   "id": "53d1a022",
   "metadata": {
    "deletable": false,
    "editable": false,
    "nbgrader": {
     "cell_type": "code",
     "checksum": "983627586364936bc46c730e37717153",
     "grade": true,
     "grade_id": "cell-85acdb38f2ce94da",
     "locked": true,
     "points": 1,
     "schema_version": 3,
     "solution": false,
     "task": false
    }
   },
   "outputs": [],
   "source": [
    "(* Exécutez cette cellule pour tester votre fonction *)\n",
    "let () = assert (puiss 2 10 = 1024);;\n",
    "let () = assert (puiss 2 11 = 2048);;"
   ]
  },
  {
   "cell_type": "markdown",
   "id": "a8a592a3",
   "metadata": {
    "deletable": false,
    "editable": false,
    "nbgrader": {
     "cell_type": "markdown",
     "checksum": "6165dc38c0e62b4de5f8435ae311652c",
     "grade": false,
     "grade_id": "cell-f77a3d38cf970443",
     "locked": true,
     "schema_version": 3,
     "solution": false,
     "task": false
    }
   },
   "source": [
    "<font size=\"5\">🧑‍💻</font> Donner la complexité du calcul de `puiss x n`, en nombre de multiplications effectuées, en fonction de $n$."
   ]
  },
  {
   "cell_type": "markdown",
   "id": "93aa0435",
   "metadata": {
    "deletable": false,
    "nbgrader": {
     "cell_type": "markdown",
     "checksum": "18beffd260973177e0094576ac7e2a82",
     "grade": true,
     "grade_id": "cell-50bd8a271a86a887",
     "locked": false,
     "points": 0,
     "schema_version": 3,
     "solution": true,
     "task": false
    }
   },
   "source": [
    "✍️ *Votre réponse*"
   ]
  },
  {
   "cell_type": "markdown",
   "id": "c32e154e",
   "metadata": {
    "deletable": false,
    "editable": false,
    "nbgrader": {
     "cell_type": "markdown",
     "checksum": "6392018ff107d77746e13adc410776a6",
     "grade": false,
     "grade_id": "cell-821dbb26d756fd91",
     "locked": true,
     "schema_version": 3,
     "solution": false,
     "task": false
    }
   },
   "source": [
    "<font size=\"5\">👨🏽‍💻</font> Si votre implantation de `puiss` demande plus de $10$ multiplications pour calculer $2^{42}$, récrire votre fonction.\n",
    "\n",
    "Indication: lorsque $n$ est pair, $x^{n} = \\left(x^{n/2}\\right)^2$ (ou, si l'on préfère $\\left(x^2\\right)^{n/2}$)."
   ]
  },
  {
   "cell_type": "code",
   "execution_count": null,
   "id": "c6498cc1",
   "metadata": {
    "deletable": false,
    "nbgrader": {
     "cell_type": "code",
     "checksum": "9698083a3338a940037740926cf2ceb8",
     "grade": false,
     "grade_id": "cell-a3f6a061e197eb1e",
     "locked": false,
     "schema_version": 3,
     "solution": true,
     "task": false
    }
   },
   "outputs": [],
   "source": [
    "(*À remplacer par votre code*)\n",
    "failwith \"Code manquant\""
   ]
  },
  {
   "cell_type": "code",
   "execution_count": null,
   "id": "58f3d9b6",
   "metadata": {
    "deletable": false,
    "editable": false,
    "nbgrader": {
     "cell_type": "code",
     "checksum": "10c2187816ba619f4945d0298ca87aa9",
     "grade": true,
     "grade_id": "cell-a21724f687584e22",
     "locked": true,
     "points": 1,
     "schema_version": 3,
     "solution": false,
     "task": false
    }
   },
   "outputs": [],
   "source": [
    "(* Exécutez cette cellule pour tester votre fonction *)\n",
    "let () = assert (puiss 2 10 = 1024);;\n",
    "let () = assert (puiss 2 11 = 2048);;"
   ]
  },
  {
   "cell_type": "markdown",
   "id": "e2986801",
   "metadata": {
    "deletable": false,
    "editable": false,
    "nbgrader": {
     "cell_type": "markdown",
     "checksum": "7af6e9b359071af9abf416fd3c93f070",
     "grade": false,
     "grade_id": "cell-b482f6ca1ac3ecde",
     "locked": true,
     "schema_version": 3,
     "solution": false,
     "task": false
    }
   },
   "source": [
    "<font size=\"5\">🧑🏼‍💻</font> Soit $n$ un entier naturel non nul. Quelle est le nombre de multiplications effectuées dans le pire des cas lors du calcul de `puiss x n` lorsque l'entier naturel $n$ s'écrit sur $p$ bits ?"
   ]
  },
  {
   "cell_type": "markdown",
   "id": "c18e5bad",
   "metadata": {
    "deletable": false,
    "editable": false,
    "nbgrader": {
     "cell_type": "markdown",
     "checksum": "b5665b51524fbe123da4553fe96723a6",
     "grade": false,
     "grade_id": "cell-b482f6ca1ac3ecdea",
     "locked": true,
     "schema_version": 3,
     "solution": false,
     "task": false
    }
   },
   "source": [
    "<div class=\"alert alert-block alert-info\">\n",
    "On pourra noter $u_p$ le nombre d'additions réalisées dans le pire des cas lors de l'appel <code>puiss n</code> et déterminer une relation de récurrence vérifiée par $u_p$.\n",
    "</div>"
   ]
  },
  {
   "cell_type": "markdown",
   "id": "8d87f8f2",
   "metadata": {
    "deletable": false,
    "editable": false,
    "nbgrader": {
     "cell_type": "markdown",
     "checksum": "a1df848c6cc4fe600459575ad1de6df7",
     "grade": false,
     "grade_id": "cell-b482f6ca1ac3ecdeb",
     "locked": true,
     "schema_version": 3,
     "solution": false,
     "task": false
    }
   },
   "source": [
    "En déduire la complexité dans le pire des cas de `puiss n` en fonction de $n$."
   ]
  },
  {
   "cell_type": "markdown",
   "id": "c23236f7",
   "metadata": {
    "deletable": false,
    "editable": false,
    "nbgrader": {
     "cell_type": "markdown",
     "checksum": "cbe3504ac6cb3808f8cf1462af4b0c2e",
     "grade": false,
     "grade_id": "ccell-b482f6ca1ac3ecde",
     "locked": true,
     "schema_version": 3,
     "solution": false,
     "task": false
    }
   },
   "source": [
    "<div class=\"alert alert-block alert-info\">    \n",
    "$p$ est l'unique entier tel que $2^{p-1} \\leqslant n < 2^{p}$, donc $p = \\lfloor \\log_2 n \\rfloor + 1$. \n",
    "</div>"
   ]
  },
  {
   "cell_type": "markdown",
   "id": "fec279f4",
   "metadata": {
    "deletable": false,
    "nbgrader": {
     "cell_type": "markdown",
     "checksum": "2fb0417350719fb593c87d406b4410a1",
     "grade": true,
     "grade_id": "cell-0a2aeed577fb7df2",
     "locked": false,
     "points": 0,
     "schema_version": 3,
     "solution": true,
     "task": false
    }
   },
   "source": [
    "✍️ *Votre réponse*"
   ]
  },
  {
   "cell_type": "markdown",
   "id": "9432498b",
   "metadata": {
    "deletable": false,
    "editable": false,
    "nbgrader": {
     "cell_type": "markdown",
     "checksum": "2adfdfadd5621fa2fa023c2698f3fec8",
     "grade": false,
     "grade_id": "cell-7893ee0546c98d4a",
     "locked": true,
     "schema_version": 3,
     "solution": false,
     "task": false
    }
   },
   "source": [
    "# Suite de Fibonacci\n",
    "\n",
    "On considère la suite de Fibonacci $(u_n)_\\mathbb{N}$ définie par  $u_0=0$, $u_1=1$ et $\\forall n \\in \\mathbb{N}, u_{n+2}=u_{n+1}+u_n$"
   ]
  },
  {
   "cell_type": "markdown",
   "id": "1279dc0a",
   "metadata": {
    "deletable": false,
    "editable": false,
    "nbgrader": {
     "cell_type": "markdown",
     "checksum": "f7f5dfc5aff8587df51215b0281d7ec3",
     "grade": false,
     "grade_id": "cell-af347d37e4536bb6",
     "locked": true,
     "schema_version": 3,
     "solution": false,
     "task": false
    }
   },
   "source": [
    "<font size=\"5\">👩🏻‍💻</font>  A partir de la définition, écrire une fonction `fibo` telle que `fibo n` calcule le terme $u_n$."
   ]
  },
  {
   "cell_type": "code",
   "execution_count": null,
   "id": "23142968",
   "metadata": {
    "deletable": false,
    "nbgrader": {
     "cell_type": "code",
     "checksum": "b30146e657121541338154b041cd5500",
     "grade": false,
     "grade_id": "cell-869b38267042bec8",
     "locked": false,
     "schema_version": 3,
     "solution": true,
     "task": false
    }
   },
   "outputs": [],
   "source": [
    "(*À remplacer par votre code*)\n",
    "failwith \"Code manquant\""
   ]
  },
  {
   "cell_type": "code",
   "execution_count": null,
   "id": "dfc66ef4",
   "metadata": {
    "deletable": false,
    "editable": false,
    "nbgrader": {
     "cell_type": "code",
     "checksum": "72af2cd597ca40d85de9f198249cc63f",
     "grade": true,
     "grade_id": "cell-a0f6be5b4d426b50",
     "locked": true,
     "points": 1,
     "schema_version": 3,
     "solution": false,
     "task": false
    }
   },
   "outputs": [],
   "source": [
    "(* Exécutez cette cellule pour tester votre fonction *)\n",
    "let () = assert (fibo 2 = 1);;\n",
    "let () = assert (fibo 10 = 55);;"
   ]
  },
  {
   "cell_type": "markdown",
   "id": "dcb5a2dc",
   "metadata": {
    "deletable": false,
    "editable": false,
    "nbgrader": {
     "cell_type": "markdown",
     "checksum": "29fffeef74b7cba8195d1d9ed643279b",
     "grade": false,
     "grade_id": "cell-a893d65c595f9cf1",
     "locked": true,
     "schema_version": 3,
     "solution": false,
     "task": false
    }
   },
   "source": [
    "<font size=\"5\">👨🏿‍💻</font> Calculer quelques uns des premiers termes, puis calculer $u_{40}$. Comment expliquer que le temps de calcul soit si long ?"
   ]
  },
  {
   "cell_type": "code",
   "execution_count": null,
   "id": "2143bdc9",
   "metadata": {
    "deletable": false,
    "nbgrader": {
     "cell_type": "code",
     "checksum": "0c90f1893290fe4f1b72b3cc4896d5a9",
     "grade": true,
     "grade_id": "cell-15ae2b5abaa63894",
     "locked": false,
     "points": 0,
     "schema_version": 3,
     "solution": true,
     "task": false
    }
   },
   "outputs": [],
   "source": [
    "(*À remplacer par votre code*)\n",
    "failwith \"Code manquant\""
   ]
  },
  {
   "cell_type": "markdown",
   "id": "f502e10c",
   "metadata": {
    "deletable": false,
    "nbgrader": {
     "cell_type": "markdown",
     "checksum": "8fb5489d857663743a1df31c6c8f5a39",
     "grade": true,
     "grade_id": "cell-7836f957bc71d8c5",
     "locked": false,
     "points": 0,
     "schema_version": 3,
     "solution": true,
     "task": false
    }
   },
   "source": [
    "✍️ *Votre réponse*"
   ]
  },
  {
   "cell_type": "markdown",
   "id": "fc0cc584",
   "metadata": {
    "deletable": false,
    "editable": false,
    "nbgrader": {
     "cell_type": "markdown",
     "checksum": "dee30f9ea4a882c39551d8cea8a00503",
     "grade": false,
     "grade_id": "cell-6215d571e45dbfb5",
     "locked": true,
     "schema_version": 3,
     "solution": false,
     "task": false
    }
   },
   "source": [
    "<font size=\"5\">🧑🏾‍💻</font>  Écrire une fonction `fibo2` telle que `fibo2 n` calcule (efficacement !) le couple $(u_n,u_{n+1})$."
   ]
  },
  {
   "cell_type": "code",
   "execution_count": null,
   "id": "42b18288",
   "metadata": {
    "deletable": false,
    "nbgrader": {
     "cell_type": "code",
     "checksum": "e5221a7bac74b3a7adaa28d0fc3e0ca3",
     "grade": false,
     "grade_id": "cell-9c6acc236cd06f7c",
     "locked": false,
     "schema_version": 3,
     "solution": true,
     "task": false
    }
   },
   "outputs": [],
   "source": [
    "(*À remplacer par votre code*)\n",
    "failwith \"Code manquant\""
   ]
  },
  {
   "cell_type": "code",
   "execution_count": null,
   "id": "ccb4253d",
   "metadata": {
    "deletable": false,
    "editable": false,
    "nbgrader": {
     "cell_type": "code",
     "checksum": "2e0d1f4bd8a017579b0d634aeb0ca4a9",
     "grade": true,
     "grade_id": "cell-0c8bba5837a1c67f",
     "locked": true,
     "points": 1,
     "schema_version": 3,
     "solution": false,
     "task": false
    }
   },
   "outputs": [],
   "source": [
    "(* Exécutez cette cellule pour tester votre fonction *)\n",
    "let () = assert (fibo2 2 = (1, 2));;\n",
    "let () = assert (fibo2 6 = (8, 13));;\n",
    "let () = assert (fibo2 100 = (3736710778780434371, 1298777728820984005));;"
   ]
  },
  {
   "cell_type": "markdown",
   "id": "5f826c1f",
   "metadata": {
    "deletable": false,
    "editable": false,
    "nbgrader": {
     "cell_type": "markdown",
     "checksum": "fc5125fc531aa9096a4ca33c6a02ac9b",
     "grade": false,
     "grade_id": "cell-4b64544aa640c807",
     "locked": true,
     "schema_version": 3,
     "solution": false,
     "task": false
    }
   },
   "source": [
    "<font size=\"5\">👨‍💻</font> Combien d'additions faut-il effectuer pour calculer $u_n$ avec cette méthode ?"
   ]
  },
  {
   "cell_type": "markdown",
   "id": "b9e6c34d",
   "metadata": {
    "deletable": false,
    "editable": false,
    "nbgrader": {
     "cell_type": "markdown",
     "checksum": "9e4315eb69fd70e40e1f621b1fd13f3d",
     "grade": false,
     "grade_id": "cell-4b64544aa640c807b",
     "locked": true,
     "schema_version": 3,
     "solution": false,
     "task": false
    }
   },
   "source": [
    "<div class=\"alert alert-block alert-info\">\n",
    "    On pourra noter $A(n)$ le nombre d'additions réalisées lors de l'appel <code>fibo2 n</code> et déterminer une relation de récurrence vérifiée par $A(n)$.\n",
    "</div>"
   ]
  },
  {
   "cell_type": "markdown",
   "id": "4f1ba691",
   "metadata": {
    "deletable": false,
    "nbgrader": {
     "cell_type": "markdown",
     "checksum": "27e6f0429c5e061a52e4e3f37be3d0e4",
     "grade": true,
     "grade_id": "cell-25c89611c0916d7a",
     "locked": false,
     "points": 0,
     "schema_version": 3,
     "solution": true,
     "task": false
    }
   },
   "source": [
    "✍️ *Votre réponse*"
   ]
  },
  {
   "cell_type": "markdown",
   "id": "4b673aa4",
   "metadata": {
    "deletable": false,
    "editable": false,
    "nbgrader": {
     "cell_type": "markdown",
     "checksum": "c2cc88db90dd015497aee78ffa588eba",
     "grade": false,
     "grade_id": "cell-13d6f43163006be3",
     "locked": true,
     "schema_version": 3,
     "solution": false,
     "task": false
    }
   },
   "source": [
    "On peut montrer que : $\\forall p \\geqslant 0,  \\forall q \\geqslant 1, u_{p+q}=u_{p+1}u_q+u_pu_{q-1}$."
   ]
  },
  {
   "cell_type": "markdown",
   "id": "9854f9df",
   "metadata": {
    "deletable": false,
    "editable": false,
    "nbgrader": {
     "cell_type": "markdown",
     "checksum": "d7697b9b1876009620569d5c4d1eae2c",
     "grade": false,
     "grade_id": "cell-13d6f43163006be3a",
     "locked": true,
     "schema_version": 3,
     "solution": false,
     "task": false
    }
   },
   "source": [
    "<font size=\"5\">👨🏽‍💻</font> Exprimer $u_{2n}, u_{2n+1}$ et $u_{2n+2}$ en fonction de $u_n$ et $u_{n+1}$."
   ]
  },
  {
   "cell_type": "markdown",
   "id": "728a12de",
   "metadata": {
    "deletable": false,
    "nbgrader": {
     "cell_type": "markdown",
     "checksum": "d3829ace80b21dc86c9126774f9d4949",
     "grade": true,
     "grade_id": "cell-6ce9a41f420e75bc",
     "locked": false,
     "points": 0,
     "schema_version": 3,
     "solution": true,
     "task": false
    }
   },
   "source": [
    "✍️ *Votre réponse*"
   ]
  },
  {
   "cell_type": "markdown",
   "id": "c5bb560a",
   "metadata": {
    "deletable": false,
    "editable": false,
    "nbgrader": {
     "cell_type": "markdown",
     "checksum": "8b35a84a9fd35052a049e1d0c7d7a0b0",
     "grade": false,
     "grade_id": "cell-b229614a0a4fe4a2",
     "locked": true,
     "schema_version": 3,
     "solution": false,
     "task": false
    }
   },
   "source": [
    "<font size=\"5\">🧑‍💻</font>  En déduire une fonction `fibo3` telle que `fibo3 n` calcule le couple $(u_n,u_{n+1})$ (on distinguera deux cas suivant la parité de $n$)."
   ]
  },
  {
   "cell_type": "code",
   "execution_count": null,
   "id": "8278dffb",
   "metadata": {
    "deletable": false,
    "nbgrader": {
     "cell_type": "code",
     "checksum": "c61190ade4b60ad60212d81a92b773d5",
     "grade": false,
     "grade_id": "cell-bde71b7cd62722d8",
     "locked": false,
     "schema_version": 3,
     "solution": true,
     "task": false
    }
   },
   "outputs": [],
   "source": [
    "(*À remplacer par votre code*)\n",
    "failwith \"Code manquant\""
   ]
  },
  {
   "cell_type": "code",
   "execution_count": null,
   "id": "7de0fc06",
   "metadata": {
    "deletable": false,
    "editable": false,
    "nbgrader": {
     "cell_type": "code",
     "checksum": "5a46d40cea04264bbfdbb1113177a90b",
     "grade": true,
     "grade_id": "cell-9140fd3b0b850c75",
     "locked": true,
     "points": 1,
     "schema_version": 3,
     "solution": false,
     "task": false
    }
   },
   "outputs": [],
   "source": [
    "(* Exécutez cette cellule pour tester votre fonction *)\n",
    "let () = assert (fibo3 2 = (1, 2));;\n",
    "let () = assert (fibo3 6 = (8, 13));;\n",
    "let () = assert (fibo3 100 = (3736710778780434371, 1298777728820984005));;"
   ]
  },
  {
   "cell_type": "markdown",
   "id": "3f5b9225",
   "metadata": {
    "deletable": false,
    "editable": false,
    "nbgrader": {
     "cell_type": "markdown",
     "checksum": "f3296dd14087377494018b2b9fda330f",
     "grade": false,
     "grade_id": "cell-d289c8de6480fef6",
     "locked": true,
     "schema_version": 3,
     "solution": false,
     "task": false
    }
   },
   "source": [
    "<font size=\"5\">👩🏾‍💻</font> Évaluer le nombre d'appels à la fonction `fibo3` effectués par l'appel `fibo3 n`."
   ]
  },
  {
   "cell_type": "markdown",
   "id": "e55732c0",
   "metadata": {
    "deletable": false,
    "editable": false,
    "nbgrader": {
     "cell_type": "markdown",
     "checksum": "c22661e28025796db63bc2a79cf60cdf",
     "grade": false,
     "grade_id": "cell-d289c8de6480fef6b",
     "locked": true,
     "schema_version": 3,
     "solution": false,
     "task": false
    }
   },
   "source": [
    "<div class=\"alert alert-block alert-info\">\n",
    "On pourra noter $u_p$ le nombre d'appels réalisés pour un entier non nul $n$ dont l'écriture binaire comporte $p$ bits.\n",
    "</div>"
   ]
  },
  {
   "cell_type": "markdown",
   "id": "bb0d01f2",
   "metadata": {
    "deletable": false,
    "nbgrader": {
     "cell_type": "markdown",
     "checksum": "c114e01040ebfa37fdddc915ef5ecede",
     "grade": true,
     "grade_id": "cell-480c88f6d36ac957",
     "locked": false,
     "points": 0,
     "schema_version": 3,
     "solution": true,
     "task": false
    }
   },
   "source": [
    "✍️ *Votre réponse*"
   ]
  }
 ],
 "metadata": {
  "kernelspec": {
   "display_name": "OCaml default",
   "language": "OCaml",
   "name": "ocaml-jupyter"
  },
  "language_info": {
   "codemirror_mode": "text/x-ocaml",
   "file_extension": ".ml",
   "mimetype": "text/x-ocaml",
   "name": "OCaml",
   "nbconverter_exporter": null,
   "pygments_lexer": "OCaml",
   "version": "4.11.1"
  }
 },
 "nbformat": 4,
 "nbformat_minor": 5
}
