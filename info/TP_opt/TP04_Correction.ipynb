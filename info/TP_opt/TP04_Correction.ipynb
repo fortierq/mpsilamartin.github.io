{
 "cells": [
  {
   "cell_type": "markdown",
   "id": "e96c9b53",
   "metadata": {
    "nbgrader": {
     "grade": false,
     "grade_id": "cell-0720a76fc7e268e8",
     "locked": true,
     "schema_version": 3,
     "solution": false,
     "task": false
    }
   },
   "source": [
    "Vous pouvez rendre ce TP *si vous le souhaitez*, en déposant votre fichier `.ipynb` dans votre dossier `Depot_fichiers` sur [cloud.maths.mlong.fr](https://cloud.maths.mlong.fr)."
   ]
  },
  {
   "cell_type": "code",
   "execution_count": 1,
   "id": "9b69d7be",
   "metadata": {
    "nbgrader": {
     "grade": false,
     "grade_id": "cell-075902da586ad42d",
     "locked": true,
     "schema_version": 3,
     "solution": false,
     "task": false
    }
   },
   "outputs": [
    {
     "data": {
      "text/plain": [
       "val fonction_test : string -> bool -> unit = <fun>\n"
      ]
     },
     "execution_count": 1,
     "metadata": {},
     "output_type": "execute_result"
    }
   ],
   "source": [
    "(* Cellule à exécuter en début de TP pour les tests *)\n",
    "let fonction_test nom b =\n",
    "   let () = print_endline (Printf.sprintf \"Test %s : %s\" nom (if b then \"\\027[1m\\027[32mOK\\027[0m\" else \"\\027[1m\\027[31méchec\\027[0m\"))\n",
    "   in assert b\n",
    "   ;;"
   ]
  },
  {
   "cell_type": "markdown",
   "id": "7c824809",
   "metadata": {
    "nbgrader": {
     "grade": false,
     "grade_id": "cell-75776c79a46733c3",
     "locked": true,
     "schema_version": 3,
     "solution": false,
     "task": false
    }
   },
   "source": [
    "# Autour de la structure de pile"
   ]
  },
  {
   "cell_type": "markdown",
   "id": "864684e5",
   "metadata": {
    "nbgrader": {
     "grade": false,
     "grade_id": "cell-7afd8ab59f45fe37",
     "locked": true,
     "schema_version": 3,
     "solution": false,
     "task": false
    }
   },
   "source": [
    "## Expression bien parenthésées"
   ]
  },
  {
   "cell_type": "markdown",
   "id": "b08f4903",
   "metadata": {
    "nbgrader": {
     "grade": false,
     "grade_id": "cell-066822e9e0bbc925",
     "locked": true,
     "schema_version": 3,
     "solution": false,
     "task": false
    }
   },
   "source": [
    "Une expression arithmétique est bien parenthésée lorsque\n",
    "- le nombre de parenthèses ouvrantes est égal au nombre de parenthèses fermantes,\n",
    "- à toute parenthèse fermante correspond une parenthèse ouvrante qui la précède.\n",
    "\n",
    "Par exemple, $(1+(2+x)*5)/6$ est bien parenthésée, mais $5*((2*x+1)*3 + 1$ ne l'est pas (car comporte plus de parenthèses ouvrantes que de parenthèses fermantes), et $(x+2))*(x-1$ non plus (car la seconde parenthèse fermante ne correspond à aucune parenthèse ouvrante la précédant).\n",
    "\n",
    "Il est possible de vérifier qu'une expression est bien parenthésée en utilisant une pile. En parcourant l'expression de gauche à droite: \n",
    "- à chaque parenthèse ouvrante, on empile le caractère correspondant,\n",
    "- à chaque parenthèse fermante on dépile et on vérifie le type de parenthèse (s'il y en a plusieurs).\n",
    "\n",
    "L'expression est bien parenthésée si, avec une pile initialemant vide, la pile n'est jamais vide lorsqu'on tente de dépiler, et si la pile est bien vide en fin de parcours.\n",
    "\n",
    "On travaillera avec deux types de parenthèses : `()` et `[]`.\n",
    "\n",
    "On pourra utiliser les fonctions suivantes sur les chaînes de caractères :\n",
    "- `String.length : string -> int` ; `String.length s` est la longueur (nombre de caractères) de la chaîne `s`.\n",
    "- `String.get : string -> int -> char` ; `String.get s i` est le caractère d'indice `i` dans `s`. On peut aussi écrire `s.[i]`. Le premier caractère de la chaîne a pour indice $0$.\n",
    "\n",
    "On pourra utiliser une implémentation vue en cours ou le module `Stack` et les fonctions `Stack.create`, `Stack.is_empty`, `Stack.pop` et `Stack.push` pour créer et manipuler la pile."
   ]
  },
  {
   "cell_type": "markdown",
   "id": "ba1c2d88",
   "metadata": {
    "nbgrader": {
     "grade": false,
     "grade_id": "cell-83e992ba4c53cd36",
     "locked": true,
     "schema_version": 3,
     "solution": false,
     "task": false
    }
   },
   "source": [
    "<font size=\"5\">👩🏼‍💻</font> Écrire une fonction `bien_parenthesee : string -> bool` qui renvoie `true` si la chaîne de caractères en paramètre est bien parenthésée, `false` sinon."
   ]
  },
  {
   "cell_type": "code",
   "execution_count": 2,
   "id": "15934c32",
   "metadata": {
    "nbgrader": {
     "grade": false,
     "grade_id": "cell-240d928075780ee6",
     "locked": false,
     "schema_version": 3,
     "solution": true,
     "task": false
    }
   },
   "outputs": [
    {
     "data": {
      "text/plain": [
       "val bien_parenthesee : string -> bool = <fun>\n"
      ]
     },
     "execution_count": 2,
     "metadata": {},
     "output_type": "execute_result"
    }
   ],
   "source": [
    "(* BEGIN SOLUTION *)\n",
    "let bien_parenthesee s =\n",
    "   let pile = Stack.create () in\n",
    "   let n = String.length s in\n",
    "   let i = ref 0 in\n",
    "   let est_ok = ref true in\n",
    "   while !i < n && !est_ok do\n",
    "     if s.[!i] = '(' || s.[!i] = '['\n",
    "     then Stack.push s.[!i] pile\n",
    "     else if s.[!i] = ')'\n",
    "     then \n",
    "       begin\n",
    "         if Stack.is_empty pile || Stack.pop pile <> '('\n",
    "         then est_ok := false\n",
    "       end\n",
    "     else if s.[!i] = ']'\n",
    "     then \n",
    "       begin\n",
    "         if Stack.is_empty pile || Stack.pop pile <> '['\n",
    "         then est_ok := false\n",
    "       end ;\n",
    "     i := !i + 1\n",
    "  done;\n",
    "  !est_ok && Stack.is_empty pile\n",
    ";;     \n",
    "(* END SOLUTION *)"
   ]
  },
  {
   "cell_type": "code",
   "execution_count": 3,
   "id": "02927e45",
   "metadata": {
    "nbgrader": {
     "grade": true,
     "grade_id": "cell-d46f4d0ae3413f7d",
     "locked": true,
     "points": 1,
     "schema_version": 3,
     "solution": false,
     "task": false
    }
   },
   "outputs": [
    {
     "name": "stdout",
     "output_type": "stream",
     "text": [
      "Test (bien_parenthesee) Juste des parenthèses : \u001b[1m\u001b[32mOK\u001b[0m\n",
      "Test (bien_parenthesee) Parenthèses et crochets : \u001b[1m\u001b[32mOK\u001b[0m\n",
      "Test (bien_parenthesee) Pas le bon type : \u001b[1m\u001b[32mOK\u001b[0m\n",
      "Test (bien_parenthesee) Encore un mélange : \u001b[1m\u001b[32mOK\u001b[0m\n",
      "Test (bien_parenthesee) Ouverte non fermée : \u001b[1m\u001b[32mOK\u001b[0m\n",
      "Test (bien_parenthesee) Fermée non ouverte : \u001b[1m\u001b[32mOK\u001b[0m\n"
     ]
    }
   ],
   "source": [
    "(* Exécutez cette cellule pour tester votre réponse *)\n",
    "let () = fonction_test \"(bien_parenthesee) Juste des parenthèses\" (bien_parenthesee \"(1+(2+x)∗(5+x))/6\");;\n",
    "let () = fonction_test \"(bien_parenthesee) Parenthèses et crochets\" (bien_parenthesee \"([()()]())\");;\n",
    "let () = fonction_test \"(bien_parenthesee) Pas le bon type\" (not (bien_parenthesee \"([()[)])()\"));;\n",
    "let () = fonction_test \"(bien_parenthesee) Encore un mélange\" (not (bien_parenthesee \"[(])\"));;\n",
    "let () = fonction_test \"(bien_parenthesee) Ouverte non fermée\" (not (bien_parenthesee \"([()[]]()\"));;\n",
    "let () = fonction_test \"(bien_parenthesee) Fermée non ouverte\" (not (bien_parenthesee \"()([()()])]\"));;\n"
   ]
  },
  {
   "cell_type": "markdown",
   "id": "072094c4",
   "metadata": {
    "nbgrader": {
     "grade": false,
     "grade_id": "cell-3d5b48105826c9be",
     "locked": true,
     "schema_version": 3,
     "solution": false,
     "task": false
    }
   },
   "source": [
    "# Autour de la structure de files"
   ]
  },
  {
   "cell_type": "markdown",
   "id": "6c953e3a",
   "metadata": {
    "nbgrader": {
     "grade": false,
     "grade_id": "cell-769443356116dba3",
     "locked": true,
     "schema_version": 3,
     "solution": false,
     "task": false
    }
   },
   "source": [
    "## Implémentation d'une file avec deux piles"
   ]
  },
  {
   "cell_type": "markdown",
   "id": "c66ff740",
   "metadata": {
    "nbgrader": {
     "grade": false,
     "grade_id": "cell-61716f83794064f8",
     "locked": true,
     "schema_version": 3,
     "solution": false,
     "task": false
    }
   },
   "source": [
    "On considère le type `file` suivant :"
   ]
  },
  {
   "cell_type": "code",
   "execution_count": 4,
   "id": "fba7c274",
   "metadata": {
    "nbgrader": {
     "grade": false,
     "grade_id": "cell-6f39ad2ef48c48bf",
     "locked": true,
     "schema_version": 3,
     "solution": false,
     "task": false
    }
   },
   "outputs": [
    {
     "data": {
      "text/plain": [
       "type 'a file = { entree : 'a Stack.t; sortie : 'a Stack.t; }\n"
      ]
     },
     "execution_count": 4,
     "metadata": {},
     "output_type": "execute_result"
    }
   ],
   "source": [
    "type 'a file = {\n",
    "    entree : 'a Stack.t;\n",
    "    sortie : 'a Stack.t\n",
    "  };;"
   ]
  },
  {
   "cell_type": "markdown",
   "id": "c15ecb89",
   "metadata": {
    "nbgrader": {
     "grade": false,
     "grade_id": "cell-8a7fa482d07671c6",
     "locked": true,
     "schema_version": 3,
     "solution": false,
     "task": false
    }
   },
   "source": [
    "L'ajout d'un élément se fera dans la pile `entree`, la suppression d'un élément dans la pile `sortie`.\n",
    "\n",
    "<font size=\"5\">👨‍💻</font> Écrire une fonction `creer_file : unit -> 'a file` qui renvoie une file vide."
   ]
  },
  {
   "cell_type": "code",
   "execution_count": 5,
   "id": "a0ca9ee4",
   "metadata": {
    "nbgrader": {
     "grade": true,
     "grade_id": "cell-1d3aec7640971a76",
     "locked": false,
     "points": 1,
     "schema_version": 3,
     "solution": true,
     "task": false
    }
   },
   "outputs": [
    {
     "data": {
      "text/plain": [
       "val creer_file : unit -> 'a file = <fun>\n"
      ]
     },
     "execution_count": 5,
     "metadata": {},
     "output_type": "execute_result"
    }
   ],
   "source": [
    "(* BEGIN SOLUTION *)\n",
    "let creer_file () =\n",
    "    {entree = Stack.create () ; sortie = Stack.create ()}\n",
    ";;\n",
    "(* END SOLUTION *)"
   ]
  },
  {
   "cell_type": "markdown",
   "id": "49bb7309",
   "metadata": {
    "nbgrader": {
     "grade": false,
     "grade_id": "cell-1ab0c86bdb40fa35",
     "locked": true,
     "schema_version": 3,
     "solution": false,
     "task": false
    }
   },
   "source": [
    "<font size=\"5\">👩🏽‍💻</font> Écrire une fonction `est_vide : 'a file -> bool` qui renvoie `true` si la file est vide, `false` sinon."
   ]
  },
  {
   "cell_type": "code",
   "execution_count": 6,
   "id": "c5589d81",
   "metadata": {
    "nbgrader": {
     "grade": true,
     "grade_id": "cell-3d84d7c626b38a76",
     "locked": false,
     "points": 1,
     "schema_version": 3,
     "solution": true,
     "task": false
    }
   },
   "outputs": [
    {
     "data": {
      "text/plain": [
       "val est_vide : 'a file -> bool = <fun>\n"
      ]
     },
     "execution_count": 6,
     "metadata": {},
     "output_type": "execute_result"
    }
   ],
   "source": [
    "(* BEGIN SOLUTION *)\n",
    "let est_vide f =\n",
    "    Stack.is_empty f.entree && Stack.is_empty f.sortie\n",
    ";;\n",
    "(* END SOLUTION *)"
   ]
  },
  {
   "cell_type": "markdown",
   "id": "e3ded435",
   "metadata": {
    "nbgrader": {
     "grade": false,
     "grade_id": "cell-9eabcf4c46ad4398",
     "locked": true,
     "schema_version": 3,
     "solution": false,
     "task": false
    }
   },
   "source": [
    "<font size=\"5\">👨🏾‍💻</font> Écrire une fonction `enfiler : 'a -> 'a file -> unit` qui ajoute un élément dans la file."
   ]
  },
  {
   "cell_type": "code",
   "execution_count": 7,
   "id": "03cdb1d6",
   "metadata": {
    "nbgrader": {
     "grade": true,
     "grade_id": "cell-f8f46ceb85580886",
     "locked": false,
     "points": 1,
     "schema_version": 3,
     "solution": true,
     "task": false
    }
   },
   "outputs": [
    {
     "data": {
      "text/plain": [
       "val enfiler : 'a -> 'a file -> unit = <fun>\n"
      ]
     },
     "execution_count": 7,
     "metadata": {},
     "output_type": "execute_result"
    }
   ],
   "source": [
    "(* BEGIN SOLUTION *)\n",
    "let enfiler x f =\n",
    "    Stack.push x f.entree\n",
    ";;\n",
    "(* END SOLUTION *)"
   ]
  },
  {
   "cell_type": "markdown",
   "id": "f5067c38",
   "metadata": {
    "nbgrader": {
     "grade": false,
     "grade_id": "cell-91e4720ab9279621",
     "locked": true,
     "schema_version": 3,
     "solution": false,
     "task": false
    }
   },
   "source": [
    "<font size=\"5\">👩🏻‍💻</font> Écrire une fonction `defiler : 'a file -> 'a` qui supprime et renvoie l'élément en début de file."
   ]
  },
  {
   "cell_type": "code",
   "execution_count": 8,
   "id": "8fe3e00f",
   "metadata": {
    "nbgrader": {
     "grade": true,
     "grade_id": "cell-d998a19c057c46da",
     "locked": false,
     "points": 1,
     "schema_version": 3,
     "solution": true,
     "task": false
    }
   },
   "outputs": [
    {
     "data": {
      "text/plain": [
       "val defiler : 'a file -> 'a = <fun>\n"
      ]
     },
     "execution_count": 8,
     "metadata": {},
     "output_type": "execute_result"
    }
   ],
   "source": [
    "(* BEGIN SOLUTION *)\n",
    "let defiler f =\n",
    "    if Stack.is_empty f.sortie\n",
    "    then\n",
    "        while not (Stack.is_empty f.entree) do\n",
    "            Stack.push (Stack.pop f.entree) f.sortie\n",
    "        done;\n",
    "    if Stack.is_empty f.sortie\n",
    "    then failwith \"File vide\"\n",
    "    else Stack.pop f.sortie\n",
    ";;\n",
    "(* END SOLUTION *)"
   ]
  },
  {
   "cell_type": "markdown",
   "id": "f6b96c30",
   "metadata": {
    "nbgrader": {
     "grade": false,
     "grade_id": "cell-56b94d44a7c10603",
     "locked": true,
     "schema_version": 3,
     "solution": false,
     "task": false
    }
   },
   "source": [
    "<font size=\"5\">👨🏽‍💻</font> Tester les fonctions précédentes :\n",
    "- créer une file vide ;"
   ]
  },
  {
   "cell_type": "code",
   "execution_count": 9,
   "id": "5c66ea67",
   "metadata": {
    "nbgrader": {
     "grade": true,
     "grade_id": "cell-5eb060eab43509b7c",
     "locked": false,
     "points": 0,
     "schema_version": 3,
     "solution": true,
     "task": false
    }
   },
   "outputs": [
    {
     "data": {
      "text/plain": [
       "val ma_file : '_weak1 file = {entree = <abstr>; sortie = <abstr>}\n"
      ]
     },
     "execution_count": 9,
     "metadata": {},
     "output_type": "execute_result"
    }
   ],
   "source": [
    "(* BEGIN SOLUTION *)\n",
    "let ma_file = creer_file ();;\n",
    "(* END SOLUTION *)"
   ]
  },
  {
   "cell_type": "markdown",
   "id": "dc07ccdb",
   "metadata": {
    "nbgrader": {
     "grade": false,
     "grade_id": "cell-6f5f4d5ea760fcd4",
     "locked": true,
     "schema_version": 3,
     "solution": false,
     "task": false
    }
   },
   "source": [
    "- lui ajouter les entiers de 1 à 5 ;"
   ]
  },
  {
   "cell_type": "code",
   "execution_count": 10,
   "id": "045a78e0",
   "metadata": {
    "nbgrader": {
     "grade": true,
     "grade_id": "cell-5eb060eab43509b7ca",
     "locked": false,
     "points": 0,
     "schema_version": 3,
     "solution": true,
     "task": false
    }
   },
   "outputs": [
    {
     "data": {
      "text/plain": [
       "- : unit = ()\n"
      ]
     },
     "execution_count": 10,
     "metadata": {},
     "output_type": "execute_result"
    }
   ],
   "source": [
    "(* BEGIN SOLUTION *)\n",
    "for i = 1 to 5 do\n",
    "  enfiler i ma_file\n",
    "done;;\n",
    "(* END SOLUTION *)"
   ]
  },
  {
   "cell_type": "markdown",
   "id": "01898093",
   "metadata": {
    "nbgrader": {
     "grade": false,
     "grade_id": "cell-f6589615daf67ce6",
     "locked": true,
     "schema_version": 3,
     "solution": false,
     "task": false
    }
   },
   "source": [
    "- supprimer et afficher 3 éléments de la file ;"
   ]
  },
  {
   "cell_type": "code",
   "execution_count": 11,
   "id": "3508a5b4",
   "metadata": {
    "nbgrader": {
     "grade": true,
     "grade_id": "cell-5eb060eab43509b7cb",
     "locked": false,
     "points": 0,
     "schema_version": 3,
     "solution": true,
     "task": false
    }
   },
   "outputs": [
    {
     "name": "stdout",
     "output_type": "stream",
     "text": [
      "1 2 3 \n"
     ]
    },
    {
     "data": {
      "text/plain": [
       "- : unit = ()\n"
      ]
     },
     "execution_count": 11,
     "metadata": {},
     "output_type": "execute_result"
    }
   ],
   "source": [
    "(* BEGIN SOLUTION *)\n",
    "for i = 1 to 3 do\n",
    "    print_int (defiler ma_file);\n",
    "    print_char ' '\n",
    "done;\n",
    "print_newline ()\n",
    "(* END SOLUTION *)"
   ]
  },
  {
   "cell_type": "markdown",
   "id": "4ce802f4",
   "metadata": {
    "nbgrader": {
     "grade": false,
     "grade_id": "cell-046537913a677521",
     "locked": true,
     "schema_version": 3,
     "solution": false,
     "task": false
    }
   },
   "source": [
    "- lui ajouter les entiers 6 et 7 ;"
   ]
  },
  {
   "cell_type": "code",
   "execution_count": 12,
   "id": "320434fd",
   "metadata": {
    "nbgrader": {
     "grade": true,
     "grade_id": "cell-5eb060eab43509b7cc",
     "locked": false,
     "points": 0,
     "schema_version": 3,
     "solution": true,
     "task": false
    }
   },
   "outputs": [
    {
     "data": {
      "text/plain": [
       "- : unit = ()\n"
      ]
     },
     "execution_count": 12,
     "metadata": {},
     "output_type": "execute_result"
    }
   ],
   "source": [
    "(* BEGIN SOLUTION *)\n",
    "enfiler 6 ma_file;\n",
    "enfiler 7 ma_file;;\n",
    "(* END SOLUTION*)"
   ]
  },
  {
   "cell_type": "markdown",
   "id": "46d9205e",
   "metadata": {
    "nbgrader": {
     "grade": false,
     "grade_id": "cell-7b81aa8db5e80b93",
     "locked": true,
     "schema_version": 3,
     "solution": false,
     "task": false
    }
   },
   "source": [
    "- vider la file en affichant ses éléments."
   ]
  },
  {
   "cell_type": "code",
   "execution_count": 13,
   "id": "e0be0f9e",
   "metadata": {
    "nbgrader": {
     "grade": true,
     "grade_id": "cell-a0568d43e4a09216",
     "locked": false,
     "points": 0,
     "schema_version": 3,
     "solution": true,
     "task": false
    }
   },
   "outputs": [
    {
     "name": "stdout",
     "output_type": "stream",
     "text": [
      "4 5 6 7 \n"
     ]
    },
    {
     "data": {
      "text/plain": [
       "- : unit = ()\n"
      ]
     },
     "execution_count": 13,
     "metadata": {},
     "output_type": "execute_result"
    }
   ],
   "source": [
    "(* BEGIN SOLUTION *)\n",
    "while not (est_vide ma_file) do\n",
    "    print_int (defiler ma_file);\n",
    "    print_char ' '\n",
    "done;\n",
    "print_newline ()\n",
    "(* END SOLUTION *)"
   ]
  },
  {
   "cell_type": "markdown",
   "id": "fe4c6e9c",
   "metadata": {
    "nbgrader": {
     "grade": false,
     "grade_id": "cell-6d0af9dae71232e1",
     "locked": true,
     "schema_version": 3,
     "solution": false,
     "task": false
    }
   },
   "source": [
    "## Feu de forêt"
   ]
  },
  {
   "cell_type": "markdown",
   "id": "7968f241",
   "metadata": {
    "nbgrader": {
     "grade": false,
     "grade_id": "cell-5bbd19e008d35f11",
     "locked": true,
     "schema_version": 3,
     "solution": false,
     "task": false
    }
   },
   "source": [
    "On considère un damier représentant une forêt partiellement en feu. Au départ, une seule case est en feu, puis le feu se propage. La probabilité $p$ que le feu se propage d'une case en feu aux cases voisines est constante.\n",
    "On considère que le damier est un carré de côté $400$ et que l'incendie naît au centre du carré."
   ]
  },
  {
   "cell_type": "markdown",
   "id": "32851555",
   "metadata": {
    "nbgrader": {
     "grade": false,
     "grade_id": "cell-d3011cd5bb45d19d",
     "locked": true,
     "schema_version": 3,
     "solution": false,
     "task": false
    }
   },
   "source": [
    "L'algorithme de propagation utilise une structure de file."
   ]
  },
  {
   "cell_type": "markdown",
   "id": "a32657e2",
   "metadata": {
    "nbgrader": {
     "grade": false,
     "grade_id": "cell-07bb75b7fb246820",
     "locked": true,
     "schema_version": 3,
     "solution": false,
     "task": false
    }
   },
   "source": [
    "    Allumer  le centre du damier.\n",
    "    Insérer le centre dans la file des cases en attente (précédemment vide).\n",
    "    Tant que la file n'est pas vide,\n",
    "        extraire une case de la file.\n",
    "        Pour chacune des cases voisines,\n",
    "            Si la case n'est pas en feu,\n",
    "                tirer au sort la propagation avec la probabilité p,\n",
    "                Si le feu se propage,\n",
    "                    allumer la case\n",
    "                    l'ajouter à la file."
   ]
  },
  {
   "cell_type": "markdown",
   "id": "fbc2fa5d",
   "metadata": {
    "nbgrader": {
     "grade": false,
     "grade_id": "cell-9589ff716ce3a97c",
     "locked": true,
     "schema_version": 3,
     "solution": false,
     "task": false
    }
   },
   "source": [
    "On poura utiliser la fonction suivante :"
   ]
  },
  {
   "cell_type": "code",
   "execution_count": 14,
   "id": "5cfdb067",
   "metadata": {
    "nbgrader": {
     "grade": false,
     "grade_id": "cell-26a0f3c48f0a819a",
     "locked": true,
     "schema_version": 3,
     "solution": false,
     "task": false
    }
   },
   "outputs": [
    {
     "data": {
      "text/plain": [
       "- : unit = ()\n"
      ]
     },
     "execution_count": 14,
     "metadata": {},
     "output_type": "execute_result"
    },
    {
     "data": {
      "text/plain": [
       "val random_bool : float -> bool = <fun>\n"
      ]
     },
     "execution_count": 14,
     "metadata": {},
     "output_type": "execute_result"
    }
   ],
   "source": [
    "Random.self_init ();;\n",
    "(* Renvoie true avec une probabilité p, false avec une probabilité 1-p *)\n",
    "let random_bool p =\n",
    "  Random.float 1. < p\n",
    ";;"
   ]
  },
  {
   "cell_type": "markdown",
   "id": "693ba51d",
   "metadata": {
    "nbgrader": {
     "grade": false,
     "grade_id": "cell-8c5a75f632331497",
     "locked": true,
     "schema_version": 3,
     "solution": false,
     "task": false
    }
   },
   "source": [
    "<font size=\"5\">👩🏼‍💻</font>  Écrire une fonction `propagation : float -> bool`  qui prend en argument un nombre `p` compris entre 0 et 1, qui simule l'incendie et qui renvoie booléen valant `true` si un bord a été atteint, `false` sinon.\n",
    "\n",
    "On pourra commencer par créer une matrice de booléens dont le coefficient $(i,j)$ vaut `true` si le point de coordonnées $(i,j)$ a été atteint par l'incendie, `false` sinon.\n",
    "\n",
    "Pour la file, on pourra utiliser l'implémentation précédente, une implémentation vue en cours ou le module `Queue` et notamment les fonctions `Queue.create`, `Queue.add`, `Queue.take`, `Queue.is_empty`."
   ]
  },
  {
   "cell_type": "code",
   "execution_count": 15,
   "id": "1baa32e1",
   "metadata": {
    "nbgrader": {
     "grade": true,
     "grade_id": "cell-b0d31eee7d0d8795",
     "locked": false,
     "points": 1,
     "schema_version": 3,
     "solution": true,
     "task": false
    }
   },
   "outputs": [
    {
     "data": {
      "text/plain": [
       "val propagation : float -> bool = <fun>\n"
      ]
     },
     "execution_count": 15,
     "metadata": {},
     "output_type": "execute_result"
    }
   ],
   "source": [
    "(* BEGIN SOLUTION *)\n",
    "let propagation p =\n",
    "  (* Crée une matrice de taille 400x400 dont tous les termes valent false *)\n",
    "  let foret = Array.make_matrix 400 400 false in\n",
    "  let file = Queue.create () in\n",
    "  let bord_atteint = ref false in\n",
    "  let allume (x,y) =    \n",
    "    foret.(x).(y) <- true ;\n",
    "    Queue.add (x,y) file;\n",
    "  in\n",
    "  allume (200,200);\n",
    "  let traite (x,y) =\n",
    "    if x < 0 || x >= 400 || y < 0 || y >= 400 \n",
    "    then bord_atteint := true\n",
    "    else if x >= 0 && x < 400 \n",
    "      && y >= 0 && y < 400 && not foret.(x).(y) then\n",
    "      if random_bool p then\n",
    "      allume (x,y)\n",
    "  in\n",
    "  while not (!bord_atteint || Queue.is_empty file) do\n",
    "      let (x,y) = Queue.take file in\n",
    "      (* let c = point_color x y in *)\n",
    "      traite (x-1,y) ;\n",
    "      traite (x,y-1) ;\n",
    "      traite (x+1,y) ;\n",
    "      traite (x,y+1)\n",
    "  done; \n",
    "  !bord_atteint\n",
    ";;\n",
    "(* END SOLUTION *)"
   ]
  },
  {
   "cell_type": "markdown",
   "id": "13ccb856",
   "metadata": {
    "nbgrader": {
     "grade": false,
     "grade_id": "cell-bdda75444bb6497b",
     "locked": true,
     "schema_version": 3,
     "solution": false,
     "task": false
    }
   },
   "source": [
    "<font size=\"5\">👩🏽‍💻</font> Déterminer expérimentalement la plus petite valeur de $p$ pour laquelle les chances de propagation du feu jusqu'aux bords semblent non négligeables."
   ]
  },
  {
   "cell_type": "code",
   "execution_count": 16,
   "id": "c17db5ec",
   "metadata": {
    "nbgrader": {
     "grade": true,
     "grade_id": "cell-a8ac00e9987d4fc7",
     "locked": false,
     "points": 0,
     "schema_version": 3,
     "solution": true,
     "task": false
    }
   },
   "outputs": [
    {
     "name": "stdout",
     "output_type": "stream",
     "text": [
      "Pour p = 0.1, pourcentage de simulations où le bord a été atteint : 0%\n",
      "Pour p = 0.2, pourcentage de simulations où le bord a été atteint : 0%\n",
      "Pour p = 0.3, pourcentage de simulations où le bord a été atteint : 0%\n",
      "Pour p = 0.4, pourcentage de simulations où le bord a été atteint : 0%\n",
      "Pour p = 0.5, pourcentage de simulations où le bord a été atteint : 55%\n",
      "Pour p = 0.6, pourcentage de simulations où le bord a été atteint : 90%\n",
      "Pour p = 0.7, pourcentage de simulations où le bord a été atteint : 100%\n",
      "Pour p = 0.8, pourcentage de simulations où le bord a été atteint : 100%\n",
      "Pour p = 0.9, pourcentage de simulations où le bord a été atteint : 100%\n"
     ]
    },
    {
     "data": {
      "text/plain": [
       "- : unit = ()\n"
      ]
     },
     "execution_count": 16,
     "metadata": {},
     "output_type": "execute_result"
    }
   ],
   "source": [
    "(* Code pour répondre à la question *)\n",
    "\n",
    "(* BEGIN SOLUTION *)\n",
    "let nb_essais = 20 in\n",
    "for i = 1 to 9 do\n",
    "  let p = float_of_int i *. 0.1 in\n",
    "  let nb = ref 0 in\n",
    "  for _ = 1 to nb_essais do\n",
    "    if propagation p  then nb := !nb + 1\n",
    "  done ;\n",
    "  print_string \"Pour p = \" ;\n",
    "  print_float p ;\n",
    "  print_string \", pourcentage de simulations où le bord a été atteint : \";\n",
    "  print_int ((100* !nb)/nb_essais);\n",
    "  print_endline \"%\"\n",
    "done;;\n",
    "(* END SOLUTION *)"
   ]
  },
  {
   "cell_type": "markdown",
   "id": "c11ad4f3",
   "metadata": {
    "nbgrader": {
     "grade": true,
     "grade_id": "cell-9441f3f7bd62c6bb",
     "locked": false,
     "points": 1,
     "schema_version": 3,
     "solution": true,
     "task": false
    }
   },
   "source": [
    "(*BEGIN SOLUTION*)\n",
    "Les chances de propagation jusqu'aux bords semblent non nulles à partir de $p=0,5$\n",
    "(*END SOLUTION*)"
   ]
  },
  {
   "cell_type": "markdown",
   "id": "96557f97",
   "metadata": {
    "nbgrader": {
     "grade": false,
     "grade_id": "cell-92d975713c03713b",
     "locked": true,
     "schema_version": 3,
     "solution": false,
     "task": false
    }
   },
   "source": [
    "## Implémentation d'une file à l'aide d'une liste chaînée circulaire\n",
    "\n",
    "*Remarque : cette implémentation dépasse très probablement le cadre de notre programme.*\n",
    "\n",
    "Une liste chaînée circulaire est une liste chaînée dont le dernier élément pointe vers le premier."
   ]
  },
  {
   "cell_type": "markdown",
   "id": "9f6bc298",
   "metadata": {
    "nbgrader": {
     "grade": false,
     "grade_id": "cell-f53cf1350b40f0c3",
     "locked": true,
     "schema_version": 3,
     "solution": false,
     "task": false
    }
   },
   "source": [
    "<img src=\"data:image/png;base64,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\" width=600/>"
   ]
  },
  {
   "cell_type": "markdown",
   "id": "d68cf07a",
   "metadata": {
    "nbgrader": {
     "grade": false,
     "grade_id": "cell-201c42647ab07cf9",
     "locked": true,
     "schema_version": 3,
     "solution": false,
     "task": false
    }
   },
   "source": [
    "Afin de représenter une telle liste, on définit les types suivants :"
   ]
  },
  {
   "cell_type": "code",
   "execution_count": 17,
   "id": "2da4707c",
   "metadata": {
    "nbgrader": {
     "grade": false,
     "grade_id": "cell-f88639d28031b2c4",
     "locked": true,
     "schema_version": 3,
     "solution": false,
     "task": false
    }
   },
   "outputs": [
    {
     "data": {
      "text/plain": [
       "type 'a cellule = { valeur : 'a; mutable suivant : 'a cellule option; }\n"
      ]
     },
     "execution_count": 17,
     "metadata": {},
     "output_type": "execute_result"
    },
    {
     "data": {
      "text/plain": [
       "type 'a liste = Nil | Cellule of 'a cellule\n"
      ]
     },
     "execution_count": 17,
     "metadata": {},
     "output_type": "execute_result"
    }
   ],
   "source": [
    "type 'a cellule = {valeur: 'a ; mutable suivant: 'a cellule option};;\n",
    "type 'a liste = Nil | Cellule of 'a cellule;;"
   ]
  },
  {
   "cell_type": "markdown",
   "id": "bd2d1861",
   "metadata": {
    "nbgrader": {
     "grade": false,
     "grade_id": "cell-9cd15e5f6972dea5",
     "locked": true,
     "schema_version": 3,
     "solution": false,
     "task": false
    }
   },
   "source": [
    "Nous allons utiliser une liste chaînée circulaire pour représenter une file, ce qui amène à définir le type suivant :"
   ]
  },
  {
   "cell_type": "code",
   "execution_count": 18,
   "id": "de08910a",
   "metadata": {
    "nbgrader": {
     "grade": false,
     "grade_id": "cell-7b5c9284b780571e",
     "locked": true,
     "schema_version": 3,
     "solution": false,
     "task": false
    }
   },
   "outputs": [
    {
     "data": {
      "text/plain": [
       "type 'a file = { mutable queue : 'a liste; }\n"
      ]
     },
     "execution_count": 18,
     "metadata": {},
     "output_type": "execute_result"
    }
   ],
   "source": [
    "type 'a file = {mutable queue : 'a liste};;"
   ]
  },
  {
   "cell_type": "markdown",
   "id": "72ebb3ef",
   "metadata": {
    "nbgrader": {
     "grade": false,
     "grade_id": "cell-37ffb4648b2a768d",
     "locked": true,
     "schema_version": 3,
     "solution": false,
     "task": false
    }
   },
   "source": [
    "On pointera sur le dernier élément de la file, autrement dit le dernier élément à être entré. Le premier élément à sortir sera donc l'élément suivant.\n",
    "\n",
    "Par exemple, la liste représentée ci-dessus représentera la file $1-2-3-4-5-6-7$."
   ]
  },
  {
   "cell_type": "markdown",
   "id": "33037831",
   "metadata": {
    "nbgrader": {
     "grade": false,
     "grade_id": "cell-a3ffd56a57980e5d",
     "locked": true,
     "schema_version": 3,
     "solution": false,
     "task": false
    }
   },
   "source": [
    "<font size=\"5\">👨🏿‍💻</font>\n",
    "Écrire une fonction `creer_file : unit -> 'a file` qui renvoie une file vide."
   ]
  },
  {
   "cell_type": "code",
   "execution_count": 19,
   "id": "61b8c53a",
   "metadata": {
    "nbgrader": {
     "grade": true,
     "grade_id": "cell-f25848622f0acb8f",
     "locked": false,
     "points": 1,
     "schema_version": 3,
     "solution": true,
     "task": false
    }
   },
   "outputs": [
    {
     "data": {
      "text/plain": [
       "val creer_file : unit -> 'a file = <fun>\n"
      ]
     },
     "execution_count": 19,
     "metadata": {},
     "output_type": "execute_result"
    }
   ],
   "source": [
    "(* BEGIN SOLUTION *)\n",
    "let creer_file () =\n",
    "  {queue = Nil}\n",
    ";;\n",
    "(* END SOLUTION *)"
   ]
  },
  {
   "cell_type": "markdown",
   "id": "b51684e9",
   "metadata": {
    "nbgrader": {
     "grade": false,
     "grade_id": "cell-c602973c71681579",
     "locked": true,
     "schema_version": 3,
     "solution": false,
     "task": false
    }
   },
   "source": [
    "<font size=\"5\">👩‍💻</font>\n",
    "Écrire une fonction `est_vide : 'a file -> bool` qui renvoie `true` si la liste est vide, `false` sinon."
   ]
  },
  {
   "cell_type": "code",
   "execution_count": 20,
   "id": "bcf79d66",
   "metadata": {
    "nbgrader": {
     "grade": true,
     "grade_id": "cell-06056008f8cb6bad",
     "locked": false,
     "points": 1,
     "schema_version": 3,
     "solution": true,
     "task": false
    }
   },
   "outputs": [
    {
     "data": {
      "text/plain": [
       "val est_vide : 'a file -> bool = <fun>\n"
      ]
     },
     "execution_count": 20,
     "metadata": {},
     "output_type": "execute_result"
    }
   ],
   "source": [
    "(* BEGIN SOLUTION *)\n",
    "let est_vide f = f.queue = Nil ;;\n",
    "(* END SOLUTION *)"
   ]
  },
  {
   "cell_type": "markdown",
   "id": "1a82bc43",
   "metadata": {
    "nbgrader": {
     "grade": false,
     "grade_id": "cell-239059e7f2646b7b",
     "locked": true,
     "schema_version": 3,
     "solution": false,
     "task": false
    }
   },
   "source": [
    "<font size=\"5\">👨🏼‍💻</font>\n",
    "Écrire une fonction `un_seul_element : 'a file -> bool` qui renvoie `true` si la file ne contient qu'un élément, `false` sinon.\n",
    "\n",
    "*La file ne contient qu'un seul élément si elle est non vide et que sa cellule de queue a pour élément suivant elle-même...*"
   ]
  },
  {
   "cell_type": "code",
   "execution_count": 21,
   "id": "c5d95212",
   "metadata": {
    "nbgrader": {
     "grade": true,
     "grade_id": "cell-a27c2bb21bca0807",
     "locked": false,
     "points": 1,
     "schema_version": 3,
     "solution": true,
     "task": false
    }
   },
   "outputs": [
    {
     "data": {
      "text/plain": [
       "val un_seul_element : 'a file -> bool = <fun>\n"
      ]
     },
     "execution_count": 21,
     "metadata": {},
     "output_type": "execute_result"
    }
   ],
   "source": [
    "(* BEGIN SOLUTION *)\n",
    "let un_seul_element f =\n",
    "  match f.queue with\n",
    "  | Nil -> false\n",
    "  | Cellule c -> \n",
    "      match c.suivant with\n",
    "      | None -> failwith \"Chaînon manquant\"\n",
    "      | Some tete -> tete == c\n",
    ";;\n",
    "(* END SOLUTION *)"
   ]
  },
  {
   "cell_type": "markdown",
   "id": "12901218",
   "metadata": {
    "nbgrader": {
     "grade": false,
     "grade_id": "cell-1a8497cb2aee03f9",
     "locked": true,
     "schema_version": 3,
     "solution": false,
     "task": false
    }
   },
   "source": [
    "  <font size=\"5\">👨🏻‍💻</font>\n",
    "Écrire une fonction `defiler : 'a file -> 'a` qui supprime et renvoie l'élément en début de file."
   ]
  },
  {
   "cell_type": "code",
   "execution_count": 22,
   "id": "6afd4fc7",
   "metadata": {
    "nbgrader": {
     "grade": true,
     "grade_id": "cell-10eeedb14a4fb0fa",
     "locked": false,
     "points": 1,
     "schema_version": 3,
     "solution": true,
     "task": false
    }
   },
   "outputs": [
    {
     "data": {
      "text/plain": [
       "val defiler : 'a file -> 'a = <fun>\n"
      ]
     },
     "execution_count": 22,
     "metadata": {},
     "output_type": "execute_result"
    }
   ],
   "source": [
    "(* BEGIN SOLUTION *)\n",
    "let defiler f =\n",
    "  match f.queue with\n",
    "  | Nil -> failwith \"File vide\"\n",
    "  | Cellule c ->  match c.suivant with\n",
    "                  | None -> failwith \"Chaînon manquant\"\n",
    "                  | Some tete -> if un_seul_element f\n",
    "                                 then f.queue <- Nil\n",
    "                                 else c.suivant <- tete.suivant ;\n",
    "                                 tete.valeur\n",
    ";;\n",
    "(* END SOLUTION *)"
   ]
  },
  {
   "cell_type": "markdown",
   "id": "aa350878",
   "metadata": {
    "nbgrader": {
     "grade": false,
     "grade_id": "cell-b725e576147aae93",
     "locked": true,
     "schema_version": 3,
     "solution": false,
     "task": false
    }
   },
   "source": [
    "<font size=\"5\">👩🏾‍💻</font>\n",
    " Écrire une fonction `enfiler : 'a -> 'a file -> unit` qui ajoute un élément dans la file."
   ]
  },
  {
   "cell_type": "code",
   "execution_count": 23,
   "id": "06d11a6d",
   "metadata": {
    "nbgrader": {
     "grade": true,
     "grade_id": "cell-64fb5bff4d6f84e5",
     "locked": false,
     "points": 1,
     "schema_version": 3,
     "solution": true,
     "task": false
    }
   },
   "outputs": [
    {
     "data": {
      "text/plain": [
       "val enfiler : 'a -> 'a file -> unit = <fun>\n"
      ]
     },
     "execution_count": 23,
     "metadata": {},
     "output_type": "execute_result"
    }
   ],
   "source": [
    "(* BEGIN SOLUTION *)\n",
    "let enfiler x f =\n",
    "  match f.queue with\n",
    "  | Nil -> let new_cell = {valeur = x ; suivant = None} in\n",
    "           new_cell.suivant <- Some new_cell ;\n",
    "           f.queue <- Cellule new_cell      \n",
    "  | Cellule c -> \n",
    "     match c.suivant with\n",
    "     | None -> failwith \"Chaînon manquant\"\n",
    "     | Some tete -> let new_cell = {valeur = x; suivant = Some tete} in\n",
    "                    c.suivant <- Some new_cell;\n",
    "                    f.queue <- Cellule new_cell\n",
    ";;\n",
    "\n",
    "(* END SOLUTION *)"
   ]
  },
  {
   "cell_type": "markdown",
   "id": "a13f24f8",
   "metadata": {
    "nbgrader": {
     "grade": false,
     "grade_id": "cell-5fd0ff4dded20e1c",
     "locked": true,
     "schema_version": 3,
     "solution": false,
     "task": false
    }
   },
   "source": [
    "<font size=\"5\">👩🏿‍💻</font> Tester vos fonctions avec le même protocole que dans l'exercice précédent."
   ]
  },
  {
   "cell_type": "code",
   "execution_count": 24,
   "id": "e99649ba",
   "metadata": {
    "nbgrader": {
     "grade": true,
     "grade_id": "cell-2203c6727e93f100",
     "locked": false,
     "points": 0,
     "schema_version": 3,
     "solution": true,
     "task": false
    }
   },
   "outputs": [
    {
     "data": {
      "text/plain": [
       "val ma_file : '_weak2 file = {queue = Nil}\n"
      ]
     },
     "execution_count": 24,
     "metadata": {},
     "output_type": "execute_result"
    },
    {
     "name": "stdout",
     "output_type": "stream",
     "text": [
      "1 2 3 \n",
      "4 5 6 7 \n"
     ]
    },
    {
     "data": {
      "text/plain": [
       "- : unit = ()\n"
      ]
     },
     "execution_count": 24,
     "metadata": {},
     "output_type": "execute_result"
    }
   ],
   "source": [
    "(* BEGIN SOLUTION *)\n",
    "let ma_file = creer_file ();;\n",
    "\n",
    "for i = 1 to 5 do\n",
    "  enfiler i ma_file\n",
    "done;\n",
    "\n",
    "for i = 1 to 3 do\n",
    "    print_int (defiler ma_file);\n",
    "    print_char ' '\n",
    "done;\n",
    "print_newline ();\n",
    "\n",
    "enfiler 6 ma_file;\n",
    "enfiler 7 ma_file;\n",
    "\n",
    "while not (est_vide ma_file) do\n",
    "    print_int (defiler ma_file);\n",
    "    print_char ' '\n",
    "done;\n",
    "print_newline ()\n",
    "(* END SOLUTION *)"
   ]
  }
 ],
 "metadata": {
  "celltoolbar": "Create Assignment",
  "kernelspec": {
   "display_name": "OCaml default",
   "language": "OCaml",
   "name": "ocaml-jupyter"
  },
  "language_info": {
   "codemirror_mode": "text/x-ocaml",
   "file_extension": ".ml",
   "mimetype": "text/x-ocaml",
   "name": "OCaml",
   "nbconverter_exporter": null,
   "pygments_lexer": "OCaml",
   "version": "4.08.1"
  }
 },
 "nbformat": 4,
 "nbformat_minor": 5
}
