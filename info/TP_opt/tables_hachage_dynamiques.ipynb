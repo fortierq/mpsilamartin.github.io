{
 "cells": [
  {
   "cell_type": "markdown",
   "id": "acbbb213",
   "metadata": {
    "deletable": false,
    "editable": false,
    "nbgrader": {
     "cell_type": "markdown",
     "checksum": "237ef02cb7b3345c7f2ff481b48eb604",
     "grade": false,
     "grade_id": "cell-f302661b36e06e5e",
     "locked": true,
     "schema_version": 3,
     "solution": false,
     "task": false
    }
   },
   "source": [
    "# Tables de hachage de taille dynamique"
   ]
  },
  {
   "cell_type": "markdown",
   "id": "b8de39b2",
   "metadata": {
    "deletable": false,
    "editable": false,
    "nbgrader": {
     "cell_type": "markdown",
     "checksum": "39bc793919adce7c4f535f17ab292538",
     "grade": false,
     "grade_id": "cell-db1eac714a74cf69",
     "locked": true,
     "schema_version": 3,
     "solution": false,
     "task": false
    }
   },
   "source": [
    "## Une première approche"
   ]
  },
  {
   "cell_type": "markdown",
   "id": "c0091365",
   "metadata": {
    "deletable": false,
    "editable": false,
    "nbgrader": {
     "cell_type": "markdown",
     "checksum": "acf46290b3ca57dededfe7ed6019985d",
     "grade": false,
     "grade_id": "cell-5d5a557a9a449e19",
     "locked": true,
     "schema_version": 3,
     "solution": false,
     "task": false
    }
   },
   "source": [
    "Lorsque le nombre de collisions est important, la taille des les listes contenues dans le tableau augmente. Cela sera notamment le cas si on ajoute de nombreuses entrées dans la table.\n",
    "\n",
    "Or la partie coûteuse de la recherche d'une clé est le parcours de la liste correspondant à l'image de la clé par la fonction de hachage.\n",
    "\n",
    "On se propose d'améliorer ce point en utilisant des tables de hachage de taille dynamique : lorsque le nombre d'éléments devient trop important, on augmente la taille du tableau (ce qui impose de rajouter un paramètre à la fonction de hachage).\n",
    "\n",
    "On utilisera donc le type "
   ]
  },
  {
   "cell_type": "code",
   "execution_count": null,
   "id": "f74fdcc6",
   "metadata": {
    "deletable": false,
    "editable": false,
    "nbgrader": {
     "cell_type": "code",
     "checksum": "a2ac4202e06cd62f3337dc4049837276",
     "grade": false,
     "grade_id": "cell-b4d4b1deafbaad1b",
     "locked": true,
     "schema_version": 3,
     "solution": false,
     "task": false
    }
   },
   "outputs": [],
   "source": [
    "type ('a, 'b) table_dyn = {\n",
    "    h : int -> 'a -> int ;\n",
    "    mutable nb : int ;\n",
    "    mutable contenu : ('a * 'b) list array\n",
    "  };;"
   ]
  },
  {
   "cell_type": "markdown",
   "id": "202a4b3e",
   "metadata": {
    "deletable": false,
    "editable": false,
    "nbgrader": {
     "cell_type": "markdown",
     "checksum": "c5550372bbe0724dc8f6ca2b392662fd",
     "grade": false,
     "grade_id": "cell-d31a8f5a9b85ceb6",
     "locked": true,
     "schema_version": 3,
     "solution": false,
     "task": false
    }
   },
   "source": [
    "où `nb` est le nombre d'éléments présents dans la table.\n",
    "\n",
    "<font size=\"5\">👨🏼‍💻</font>\n",
    "Écrire une fonction `creer_table_dyn : (int -> 'a -> int) -> int -> ('a, 'b) table_dyn` prenant en argument une fonction de hachage et la largeur initiale de la table et qui renvoie une table de hachage vide."
   ]
  },
  {
   "cell_type": "code",
   "execution_count": null,
   "id": "a645dba6",
   "metadata": {
    "deletable": false,
    "nbgrader": {
     "cell_type": "code",
     "checksum": "00ca18949ec323ce5a142e6337662646",
     "grade": false,
     "grade_id": "cell-0e023a2dce7887cd",
     "locked": false,
     "schema_version": 3,
     "solution": true,
     "task": false
    }
   },
   "outputs": [],
   "source": [
    "(*À remplacer par votre code*)\n",
    "failwith \"Code manquant\""
   ]
  },
  {
   "cell_type": "code",
   "execution_count": null,
   "id": "750cc29c",
   "metadata": {
    "deletable": false,
    "editable": false,
    "nbgrader": {
     "cell_type": "code",
     "checksum": "107bc2c2789300d4ab47fb3d252fe693",
     "grade": true,
     "grade_id": "cell-b7ce64cc12246e0c",
     "locked": true,
     "points": 1,
     "schema_version": 3,
     "solution": false,
     "task": false
    }
   },
   "outputs": [],
   "source": []
  },
  {
   "cell_type": "markdown",
   "id": "1c53dfce",
   "metadata": {
    "deletable": false,
    "editable": false,
    "nbgrader": {
     "cell_type": "markdown",
     "checksum": "c8336019463493d3c8920b76403d0bac",
     "grade": false,
     "grade_id": "cell-c25412064bd61117",
     "locked": true,
     "schema_version": 3,
     "solution": false,
     "task": false
    }
   },
   "source": [
    "<font size=\"5\">👩🏾‍💻</font>\n",
    "Écrire une fonction `contient_dyn : ('a, 'b) table_dyn -> 'a -> 'b` qui prend en argument une table et une clé et qui renvoie `true` si la table contient la clé, `false` sinon."
   ]
  },
  {
   "cell_type": "code",
   "execution_count": null,
   "id": "f2db2c0e",
   "metadata": {
    "deletable": false,
    "nbgrader": {
     "cell_type": "code",
     "checksum": "331d8ecf9d2fce981092179334b72276",
     "grade": false,
     "grade_id": "cell-7ed65bba2d112663",
     "locked": false,
     "schema_version": 3,
     "solution": true,
     "task": false
    }
   },
   "outputs": [],
   "source": [
    "(*À remplacer par votre code*)\n",
    "failwith \"Code manquant\""
   ]
  },
  {
   "cell_type": "code",
   "execution_count": null,
   "id": "9d56c515",
   "metadata": {
    "deletable": false,
    "editable": false,
    "nbgrader": {
     "cell_type": "code",
     "checksum": "80b31d08794fb654a763831cc980045f",
     "grade": true,
     "grade_id": "cell-3e1c135f695d9ede",
     "locked": true,
     "points": 1,
     "schema_version": 3,
     "solution": false,
     "task": false
    }
   },
   "outputs": [],
   "source": []
  },
  {
   "cell_type": "markdown",
   "id": "ae3ed5a2",
   "metadata": {
    "deletable": false,
    "editable": false,
    "nbgrader": {
     "cell_type": "markdown",
     "checksum": "f14761d249f817b4e13464242afaadd1",
     "grade": false,
     "grade_id": "cell-e72c8b4450a74325",
     "locked": true,
     "schema_version": 3,
     "solution": false,
     "task": false
    }
   },
   "source": [
    "<font size=\"5\">👨🏻‍💻</font>\n",
    "Écrire une fonction `trouver_dyn : ('a, 'b) table_dyn -> 'a -> 'b` qui prend en argument une table et une clé et qui renvoie la valeur associée à la clé si elle existe."
   ]
  },
  {
   "cell_type": "code",
   "execution_count": null,
   "id": "420e88fb",
   "metadata": {
    "deletable": false,
    "nbgrader": {
     "cell_type": "code",
     "checksum": "0e943af885f6b70bac9a4b93e45427f9",
     "grade": false,
     "grade_id": "cell-109b0c66aec10113",
     "locked": false,
     "schema_version": 3,
     "solution": true,
     "task": false
    }
   },
   "outputs": [],
   "source": [
    "(*À remplacer par votre code*)\n",
    "failwith \"Code manquant\""
   ]
  },
  {
   "cell_type": "code",
   "execution_count": null,
   "id": "607c83cc",
   "metadata": {
    "deletable": false,
    "editable": false,
    "nbgrader": {
     "cell_type": "code",
     "checksum": "1cc7f47b63f38f1f754065cd2060741a",
     "grade": true,
     "grade_id": "cell-53b09697b4b33374",
     "locked": true,
     "points": 0,
     "schema_version": 3,
     "solution": false,
     "task": false
    }
   },
   "outputs": [],
   "source": []
  },
  {
   "cell_type": "markdown",
   "id": "25cf93c6",
   "metadata": {
    "deletable": false,
    "editable": false,
    "nbgrader": {
     "cell_type": "markdown",
     "checksum": "ed7d658277eb027097e52e9ab301be05",
     "grade": false,
     "grade_id": "cell-e7fd3671564e6f5a",
     "locked": true,
     "schema_version": 3,
     "solution": false,
     "task": false
    }
   },
   "source": [
    "<font size=\"5\">👩🏿‍💻</font>\n",
    "Si le nombre d'éléments de la table dépasse le double de la largeur de la table, alors on double la largeur de la table. Écrire une fonction `redimensionne_dyn : ('a, 'b) table_dyn -> unit` qui réarrange la table passée en argument en doublant sa largeur."
   ]
  },
  {
   "cell_type": "code",
   "execution_count": null,
   "id": "1db66f38",
   "metadata": {
    "deletable": false,
    "nbgrader": {
     "cell_type": "code",
     "checksum": "09e97a1129552789b2e8a6c6012f6563",
     "grade": false,
     "grade_id": "cell-8d054457fc1c8ca7",
     "locked": false,
     "schema_version": 3,
     "solution": true,
     "task": false
    }
   },
   "outputs": [],
   "source": [
    "(*À remplacer par votre code*)\n",
    "failwith \"Code manquant\""
   ]
  },
  {
   "cell_type": "code",
   "execution_count": null,
   "id": "cbc2ab62",
   "metadata": {
    "deletable": false,
    "editable": false,
    "nbgrader": {
     "cell_type": "code",
     "checksum": "a7653ee28f25416125eab4632d06fcc3",
     "grade": true,
     "grade_id": "cell-5b6850117dbe6f06",
     "locked": true,
     "points": 0,
     "schema_version": 3,
     "solution": false,
     "task": false
    }
   },
   "outputs": [],
   "source": []
  },
  {
   "cell_type": "markdown",
   "id": "0d2cef04",
   "metadata": {
    "deletable": false,
    "editable": false,
    "nbgrader": {
     "cell_type": "markdown",
     "checksum": "60b7a725a78d960445bf6aa437752286",
     "grade": false,
     "grade_id": "cell-cf18a516222c9700",
     "locked": true,
     "schema_version": 3,
     "solution": false,
     "task": false
    }
   },
   "source": [
    "<font size=\"5\">👨‍💻</font>\n",
    "En déduire une fonction `ajouter_dyn : ('a, 'b) table_dyn -> 'a -> 'b -> unit` qui prend en argument une table, une clé $c$ et une valeur $v$ et qui ajoute le couple $(c,v)$ en redimensionnant la table si nécessaire."
   ]
  },
  {
   "cell_type": "code",
   "execution_count": null,
   "id": "74d987d6",
   "metadata": {
    "deletable": false,
    "nbgrader": {
     "cell_type": "code",
     "checksum": "fbc9843408e6de2ccc25f6d0ff2333c5",
     "grade": false,
     "grade_id": "cell-79a229082f8cef17",
     "locked": false,
     "schema_version": 3,
     "solution": true,
     "task": false
    }
   },
   "outputs": [],
   "source": [
    "(*À remplacer par votre code*)\n",
    "failwith \"Code manquant\""
   ]
  },
  {
   "cell_type": "code",
   "execution_count": null,
   "id": "2869dff3",
   "metadata": {
    "deletable": false,
    "editable": false,
    "nbgrader": {
     "cell_type": "code",
     "checksum": "4537830cc5d95d8d9c933b774f124a82",
     "grade": true,
     "grade_id": "cell-d1622a57545a21f6",
     "locked": true,
     "points": 0,
     "schema_version": 3,
     "solution": false,
     "task": false
    }
   },
   "outputs": [],
   "source": []
  },
  {
   "cell_type": "markdown",
   "id": "b2408402",
   "metadata": {
    "deletable": false,
    "editable": false,
    "nbgrader": {
     "cell_type": "markdown",
     "checksum": "587bd53d3be7c42ce302cec5a2c33115",
     "grade": false,
     "grade_id": "cell-f97a83de234ce946",
     "locked": true,
     "schema_version": 3,
     "solution": false,
     "task": false
    }
   },
   "source": [
    "<font size=\"5\">👩🏽‍💻</font>\n",
    "Écrire une fonction `supprimer_dyn : ('a, 'b) table_dyn -> 'a -> unit` qui prend en argument une table et une clé $c$ et qui supprime l'entrée associée à la clé $c$ dans la table. "
   ]
  },
  {
   "cell_type": "code",
   "execution_count": null,
   "id": "819d15a4",
   "metadata": {
    "deletable": false,
    "nbgrader": {
     "cell_type": "code",
     "checksum": "d2c1d3d28bed7247a96460b55753bb04",
     "grade": false,
     "grade_id": "cell-1a3bdb89700d217c",
     "locked": false,
     "schema_version": 3,
     "solution": true,
     "task": false
    }
   },
   "outputs": [],
   "source": [
    "(*À remplacer par votre code*)\n",
    "failwith \"Code manquant\""
   ]
  },
  {
   "cell_type": "code",
   "execution_count": null,
   "id": "0bf3a1e4",
   "metadata": {
    "deletable": false,
    "nbgrader": {
     "cell_type": "code",
     "checksum": "9c95b0cef0fb892ce002d9c25abc9c2f",
     "grade": false,
     "grade_id": "cell-e7a462db64c389af",
     "locked": false,
     "schema_version": 3,
     "solution": true,
     "task": false
    }
   },
   "outputs": [],
   "source": [
    "(*À remplacer par votre code*)\n",
    "failwith \"Code manquant\""
   ]
  },
  {
   "cell_type": "markdown",
   "id": "e8726e3d",
   "metadata": {
    "deletable": false,
    "editable": false,
    "nbgrader": {
     "cell_type": "markdown",
     "checksum": "cd7d3921d6b40decd263d1e84185af5d",
     "grade": false,
     "grade_id": "cell-899ffda2efa93563",
     "locked": true,
     "schema_version": 3,
     "solution": false,
     "task": false
    }
   },
   "source": [
    "## Largeur et nombre premier"
   ]
  },
  {
   "cell_type": "markdown",
   "id": "b79cb1f0",
   "metadata": {
    "deletable": false,
    "editable": false,
    "nbgrader": {
     "cell_type": "markdown",
     "checksum": "4b3fbd52566ce269efe91ff75e1cdec5",
     "grade": false,
     "grade_id": "cell-49503288215f19b2",
     "locked": true,
     "schema_version": 3,
     "solution": false,
     "task": false
    }
   },
   "source": [
    "Les tables de hachage sont réputées  mieux fonctionner si la taille du tableau utilisé est un\n",
    "nombre premier. \n",
    "\n",
    "On va donc construire un tableau de nombres premiers proches de puissances de 2. Pour cela, on utilisera le tableau `t` de longueur $N=40$ suivant, qui vérifie : pour tout $i \\in ⟦ 0, N ⟦$, $2^{i}-t.(i)$ est un nombre premier."
   ]
  },
  {
   "cell_type": "code",
   "execution_count": null,
   "id": "494d2b92",
   "metadata": {
    "deletable": false,
    "editable": false,
    "nbgrader": {
     "cell_type": "code",
     "checksum": "f5dd8fbd5410fcabb102f14f070c93c6",
     "grade": false,
     "grade_id": "cell-c713e27b270f4caf",
     "locked": true,
     "schema_version": 3,
     "solution": false,
     "task": false
    }
   },
   "outputs": [],
   "source": [
    "let t =\n",
    "  [| -1; (* 2**0 - (-1) est premier *)\n",
    "     0; (* 2**1 - 0 est premier *)\n",
    "     1; (* 2**2 - 1 est premier *)\n",
    "     1; (* 2**3 - 1 est premier *)\n",
    "     3; (* 2**4 - 3 est premier *)\n",
    "     1; 3; 1; 5; 3; 3; 9; 3; 1; 3; 19; 15; 1; 5; 1; 3; 9; 3; 15; 3; 39; 5; 39; 57; 3; 35; 1; 5; 9; 41; 31; 5; 25; 45;\n",
    "     7; (* 2**39 - 7 est premier *)\n",
    "    |]"
   ]
  },
  {
   "cell_type": "markdown",
   "id": "f74a95fc",
   "metadata": {
    "deletable": false,
    "editable": false,
    "nbgrader": {
     "cell_type": "markdown",
     "checksum": "dd4fe13f6df65b26c3813b25f033862a",
     "grade": false,
     "grade_id": "cell-c9004209445641ed",
     "locked": true,
     "schema_version": 3,
     "solution": false,
     "task": false
    }
   },
   "source": [
    "<font size=\"5\">👨🏾‍💻</font>\n",
    "Construire un tableau `premiers` tel que pour tout $i \\in ⟦ 0, N ⟦$, `premiers.(i)` contient $2^{i}-t.(i)$."
   ]
  },
  {
   "cell_type": "code",
   "execution_count": null,
   "id": "9eb021a9",
   "metadata": {
    "deletable": false,
    "nbgrader": {
     "cell_type": "code",
     "checksum": "acf88efd05ed693a56d6481fcfbf42b6",
     "grade": false,
     "grade_id": "cell-05c6fc5b9f672b39",
     "locked": false,
     "schema_version": 3,
     "solution": true,
     "task": false
    }
   },
   "outputs": [],
   "source": [
    "(*À remplacer par votre code*)\n",
    "failwith \"Code manquant\""
   ]
  },
  {
   "cell_type": "code",
   "execution_count": null,
   "id": "de0f1813",
   "metadata": {
    "deletable": false,
    "editable": false,
    "nbgrader": {
     "cell_type": "code",
     "checksum": "319d855c1d3b9ae064f42a6c0a07d907",
     "grade": true,
     "grade_id": "cell-874123d95d7353af",
     "locked": true,
     "points": 0,
     "schema_version": 3,
     "solution": false,
     "task": false
    }
   },
   "outputs": [],
   "source": []
  },
  {
   "cell_type": "markdown",
   "id": "4c9f2b65",
   "metadata": {
    "deletable": false,
    "editable": false,
    "nbgrader": {
     "cell_type": "markdown",
     "checksum": "41d7168343682e676f5c92637a14d101",
     "grade": false,
     "grade_id": "cell-c14e7a485b848a14",
     "locked": true,
     "schema_version": 3,
     "solution": false,
     "task": false
    }
   },
   "source": [
    "<font size=\"5\">👩🏻‍💻</font>\n",
    "Reprendre les questions de la partie précédente de sorte que les largeurs de tables appartiennent à la liste `premiers`. On pourra modifier le type `table_dyn` pour y ajouter toute donnée pertinente."
   ]
  },
  {
   "cell_type": "code",
   "execution_count": null,
   "id": "9f8eb0e0",
   "metadata": {
    "deletable": false,
    "nbgrader": {
     "cell_type": "code",
     "checksum": "a25420bb8740f025b30a355f884a673f",
     "grade": true,
     "grade_id": "cell-8a05dd3c1d6a2036",
     "locked": false,
     "points": 1,
     "schema_version": 3,
     "solution": true,
     "task": false
    }
   },
   "outputs": [],
   "source": [
    "(*À remplacer par votre code*)\n",
    "failwith \"Code manquant\""
   ]
  }
 ],
 "metadata": {
  "kernelspec": {
   "display_name": "OCaml default",
   "language": "OCaml",
   "name": "ocaml-jupyter"
  },
  "language_info": {
   "codemirror_mode": "text/x-ocaml",
   "file_extension": ".ml",
   "mimetype": "text/x-ocaml",
   "name": "OCaml",
   "nbconverter_exporter": null,
   "pygments_lexer": "OCaml",
   "version": "4.08.1"
  }
 },
 "nbformat": 4,
 "nbformat_minor": 5
}
