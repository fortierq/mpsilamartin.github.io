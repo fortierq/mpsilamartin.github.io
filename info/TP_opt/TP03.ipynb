{
 "cells": [
  {
   "cell_type": "markdown",
   "id": "02005902",
   "metadata": {
    "deletable": false,
    "editable": false,
    "nbgrader": {
     "cell_type": "markdown",
     "checksum": "4b56f9aebe306ee16cbf63ede9f902ba",
     "grade": false,
     "grade_id": "cell-ce9a100d9af53233",
     "locked": true,
     "schema_version": 3,
     "solution": false,
     "task": false
    }
   },
   "source": [
    "Vous pouvez rendre ce TP *si vous le souhaitez*, si possible avant le 25 avril, en déposant votre fichier `.ipynb` dans votre dossier `Depot_fichiers` sur [cloud.maths.mlong.fr](https://cloud.maths.mlong.fr)."
   ]
  },
  {
   "cell_type": "code",
   "execution_count": null,
   "id": "82203de1",
   "metadata": {
    "deletable": false,
    "editable": false,
    "nbgrader": {
     "cell_type": "code",
     "checksum": "22a5129fa63d58cf193c2827f7d7c09c",
     "grade": false,
     "grade_id": "cell-c74f4989140ee1a2",
     "locked": true,
     "schema_version": 3,
     "solution": false,
     "task": false
    }
   },
   "outputs": [],
   "source": [
    "(* Cellule à exécuter en début de TP pour les tests *)\n",
    "let fonction_test nom b =\n",
    "   let () = print_endline (Printf.sprintf \"Test %s : %s\" nom (if b then \"\\027[1m\\027[32mOK\\027[0m\" else \"\\027[1m\\027[31méchec\\027[0m\"))\n",
    "   in assert b\n",
    "   ;;"
   ]
  },
  {
   "cell_type": "markdown",
   "id": "8892cf29",
   "metadata": {
    "deletable": false,
    "editable": false,
    "nbgrader": {
     "cell_type": "markdown",
     "checksum": "d98bd7ee8871ebb092c93f695682ce5a",
     "grade": false,
     "grade_id": "cell-b0accf7398d381d6",
     "locked": true,
     "schema_version": 3,
     "solution": false,
     "task": false
    }
   },
   "source": [
    "<font size =5>⚠️ </font> **Prenez soin d'écrire des algorithmes avec une complexité raisonnable, et penser à sauvegarder régulièrement : mal écrites, certaines fonctions risquent de faire planter votre navigateur lors des tests**."
   ]
  },
  {
   "cell_type": "markdown",
   "id": "ee942922",
   "metadata": {
    "deletable": false,
    "editable": false,
    "nbgrader": {
     "cell_type": "markdown",
     "checksum": "1f0564336e2cf43ea080aa66be02d73c",
     "grade": false,
     "grade_id": "cell-ca066b4e911e4491",
     "locked": true,
     "schema_version": 3,
     "solution": false,
     "task": false
    }
   },
   "source": [
    "# Multiplication de polynômes - Algorithme de Karatsuba"
   ]
  },
  {
   "cell_type": "markdown",
   "id": "c88e1bc0",
   "metadata": {
    "deletable": false,
    "editable": false,
    "nbgrader": {
     "cell_type": "markdown",
     "checksum": "e1ffff262df380d1c225a5f1f46439ed",
     "grade": false,
     "grade_id": "cell-893a9be745c426cc",
     "locked": true,
     "schema_version": 3,
     "solution": false,
     "task": false
    }
   },
   "source": [
    "Soit $n \\in \\mathbb{N}^*$. On représente un polynôme $P = \\displaystyle \\sum_{k=0}^{n-1} a_k X^k$ de degré au plus $n-1$ par un tableau de ses coefficients $[|a_0;\\dots;a_{n-1}|]$.\n",
    "\n",
    "On souhaite écrire un algorithme effectuant la multiplication de deux polynômes $P$ et $Q$ de degré au plus $n-1$.\n",
    "\n",
    "<font size=\"5\">👨🏿‍💻</font> Écrire une fonction `produit_naif : int array -> int array -> int array` implémentant un algorithme naïf. \n",
    "\n",
    "On pourra supposer que les deux tableaux sont de même longueur $n$."
   ]
  },
  {
   "cell_type": "code",
   "execution_count": null,
   "id": "d14329af",
   "metadata": {
    "deletable": false,
    "nbgrader": {
     "cell_type": "code",
     "checksum": "c06caa2d44ececd226b4ac4b9081743e",
     "grade": false,
     "grade_id": "cell-c28e7f0fd0559336",
     "locked": false,
     "schema_version": 3,
     "solution": true,
     "task": false
    }
   },
   "outputs": [],
   "source": [
    "(*À remplacer par votre code*)\n",
    "failwith \"Code manquant\""
   ]
  },
  {
   "cell_type": "code",
   "execution_count": null,
   "id": "f97411c2",
   "metadata": {
    "deletable": false,
    "editable": false,
    "nbgrader": {
     "cell_type": "code",
     "checksum": "03c59fd2b6d5a00a56c374e8b284a1cc",
     "grade": true,
     "grade_id": "cell-73910be4f14daadd",
     "locked": true,
     "points": 1,
     "schema_version": 3,
     "solution": false,
     "task": false
    }
   },
   "outputs": [],
   "source": [
    "(* Exécutez cette cellule pour tester votre réponse *)\n",
    "let () = fonction_test \"(produit_naif) un premier produit\" (produit_naif [|-1; 0; 1|] [|1; 0; 1|] = [|-1; 0; 0; 0; 1|]);;\n",
    "let () = fonction_test \"(produit_naif) un deuxième produit\" (produit_naif [|-2; 1; 0; 0|] [|1; 2; 2; 1|] = [|-2; -3; -2; 0; 1; 0; 0|]);;"
   ]
  },
  {
   "cell_type": "markdown",
   "id": "f6daf2ab",
   "metadata": {
    "deletable": false,
    "editable": false,
    "nbgrader": {
     "cell_type": "markdown",
     "checksum": "8c76a1e9d5705a5500f38dda6a794563",
     "grade": false,
     "grade_id": "cell-d066461c6abfebc1",
     "locked": true,
     "schema_version": 3,
     "solution": false,
     "task": false
    }
   },
   "source": [
    "<font size=\"5\">👩‍💻</font> Donner sa complexité."
   ]
  },
  {
   "cell_type": "markdown",
   "id": "85e8e00d",
   "metadata": {
    "deletable": false,
    "nbgrader": {
     "cell_type": "markdown",
     "checksum": "b08d1dd7e72401c98ec5541ba5216aa7",
     "grade": true,
     "grade_id": "cell-04295067fb4c9dfc",
     "locked": false,
     "points": 0,
     "schema_version": 3,
     "solution": true,
     "task": false
    }
   },
   "source": [
    "✍️ *Votre réponse*"
   ]
  },
  {
   "cell_type": "markdown",
   "id": "4d1119d9",
   "metadata": {
    "deletable": false,
    "editable": false,
    "nbgrader": {
     "cell_type": "markdown",
     "checksum": "53344f592bb2d24dd4784ca86b843b34",
     "grade": false,
     "grade_id": "cell-9b5bc6a6200abc4e",
     "locked": true,
     "schema_version": 3,
     "solution": false,
     "task": false
    }
   },
   "source": [
    "<font size=\"5\">👨🏼‍💻</font> Soit $\\displaystyle m=\\left\\lceil \\frac{n}{2} \\right\\rceil$. $P$ et $Q$ se décomposent de manière unique en :\n",
    "$$P=P_0+P_1X^m \\qquad ; \\qquad Q=Q_0+Q_1X^m$$\n",
    "avec $P_0$, $P_1$, $Q_0$, $Q_1$ des polynômes de degrés strictement inférieurs à $m$.\n",
    "        \n",
    "        \n",
    "Exprimer le produit $PQ$ en fonction de ces polynômes.\n",
    "        "
   ]
  },
  {
   "cell_type": "markdown",
   "id": "d594f67d",
   "metadata": {
    "deletable": false,
    "nbgrader": {
     "cell_type": "markdown",
     "checksum": "27d8bab3775fbed26dd8eb478a3098a4",
     "grade": true,
     "grade_id": "cell-996fa8a939f8523e",
     "locked": false,
     "points": 0,
     "schema_version": 3,
     "solution": true,
     "task": false
    }
   },
   "source": [
    "✍️ *Votre réponse*"
   ]
  },
  {
   "cell_type": "markdown",
   "id": "04525ddb",
   "metadata": {
    "deletable": false,
    "editable": false,
    "nbgrader": {
     "cell_type": "markdown",
     "checksum": "f67d766b11a773fd687ef7202ce29c83",
     "grade": false,
     "grade_id": "cell-b5e3cfe0e42f9aa1",
     "locked": true,
     "schema_version": 3,
     "solution": false,
     "task": false
    }
   },
   "source": [
    "<font size=\"5\">👩🏾‍💻</font> Transformer cette expression en une expression qui ne fasse intervenir que trois multiplications de polynômes de degré strictement inférieur à $m$ (et des multiplications par des puissances de $X$, ainsi que des sommes et différences de polynômes)."
   ]
  },
  {
   "cell_type": "markdown",
   "id": "b6ebad91",
   "metadata": {
    "deletable": false,
    "nbgrader": {
     "cell_type": "markdown",
     "checksum": "6bc96ea3d20c1111812cd1daa094b00c",
     "grade": true,
     "grade_id": "cell-bfb59160cbe89222",
     "locked": false,
     "points": 0,
     "schema_version": 3,
     "solution": true,
     "task": false
    }
   },
   "source": [
    "✍️ *Votre réponse*"
   ]
  },
  {
   "cell_type": "markdown",
   "id": "c0f2063a",
   "metadata": {
    "deletable": false,
    "editable": false,
    "nbgrader": {
     "cell_type": "markdown",
     "checksum": "907faaa7c88610a2328bc362f72a5588",
     "grade": false,
     "grade_id": "cell-1eca93df675bb6d6",
     "locked": true,
     "schema_version": 3,
     "solution": false,
     "task": false
    }
   },
   "source": [
    "<font size=\"5\">👩🏼‍💻</font> Écrire une fonction `decoupe : int array -> int array * int array` qui prend en argument le tableau représentant le polynôme $P$ et calculant le couple de tableaux représentant $(P_0, P_1)$."
   ]
  },
  {
   "cell_type": "code",
   "execution_count": null,
   "id": "c85d300f",
   "metadata": {
    "deletable": false,
    "nbgrader": {
     "cell_type": "code",
     "checksum": "424a8c9f27dd26fcc2894fde3b8a8608",
     "grade": false,
     "grade_id": "cell-38f456259e5cda21",
     "locked": false,
     "schema_version": 3,
     "solution": true,
     "task": false
    }
   },
   "outputs": [],
   "source": [
    "(*À remplacer par votre code*)\n",
    "failwith \"Code manquant\""
   ]
  },
  {
   "cell_type": "markdown",
   "id": "25ae8874",
   "metadata": {
    "deletable": false,
    "editable": false,
    "nbgrader": {
     "cell_type": "markdown",
     "checksum": "1cc3e344c7877449bf1eba3ee08f269c",
     "grade": false,
     "grade_id": "cell-30209f36b8c047d7",
     "locked": true,
     "schema_version": 3,
     "solution": false,
     "task": false
    }
   },
   "source": [
    "<font size=\"5\">👨🏽‍💻</font> Écrire une fonction `somme : int array -> int array -> int array` et une fonction `difference : int array -> int array -> int array` prenant en argument deux tableaux représentant des polynômes (pas forcément de même longueur) et calculant les tableaux représentant leur somme et leur différence."
   ]
  },
  {
   "cell_type": "code",
   "execution_count": null,
   "id": "1f5bfe8e",
   "metadata": {
    "deletable": false,
    "nbgrader": {
     "cell_type": "code",
     "checksum": "55c440c1d30bd9aacad3bf41d2cf9931",
     "grade": false,
     "grade_id": "cell-47ae55f88824377c",
     "locked": false,
     "schema_version": 3,
     "solution": true,
     "task": false
    }
   },
   "outputs": [],
   "source": [
    "(*À remplacer par votre code*)\n",
    "failwith \"Code manquant\""
   ]
  },
  {
   "cell_type": "markdown",
   "id": "9b1f1026",
   "metadata": {
    "deletable": false,
    "editable": false,
    "nbgrader": {
     "cell_type": "markdown",
     "checksum": "39871c16217d38453ed2aa87077e3c1c",
     "grade": false,
     "grade_id": "cell-cc4805e541aff9ea",
     "locked": true,
     "schema_version": 3,
     "solution": false,
     "task": false
    }
   },
   "source": [
    "<font size=\"5\">👨🏻‍💻</font>En déduire une fonction **récursive** `karatsuba : int array -> int array -> int array` implémentant un algorithme efficace de produit de polynômes.\n",
    "\n",
    "On supposera que les deux tableaux ont la même longueur."
   ]
  },
  {
   "cell_type": "code",
   "execution_count": null,
   "id": "f896a55d",
   "metadata": {
    "deletable": false,
    "nbgrader": {
     "cell_type": "code",
     "checksum": "0846320364aa69227c871eb51d63078c",
     "grade": false,
     "grade_id": "cell-a82fa7dc5f0e7144",
     "locked": false,
     "schema_version": 3,
     "solution": true,
     "task": false
    }
   },
   "outputs": [],
   "source": [
    "(*À remplacer par votre code*)\n",
    "failwith \"Code manquant\""
   ]
  },
  {
   "cell_type": "code",
   "execution_count": null,
   "id": "dabccab1",
   "metadata": {
    "deletable": false,
    "editable": false,
    "nbgrader": {
     "cell_type": "code",
     "checksum": "72bad55ecb496874b099d6fb06b8117c",
     "grade": true,
     "grade_id": "cell-73910be4f14daadg",
     "locked": true,
     "points": 0,
     "schema_version": 3,
     "solution": false,
     "task": false
    }
   },
   "outputs": [],
   "source": [
    "(* Exécutez cette cellule pour tester votre réponse *)\n",
    "let () = fonction_test \"(karatsuba) un premier produit\" (karatsuba [|-1; 0; 1|] [|1; 0; 1|] = [|-1; 0; 0; 0; 1|]);;\n",
    "let () = fonction_test \"(karatsuba) un deuxième produit\" (karatsuba [|-2; 1; 0; 0|] [|1; 2; 2; 1|] = [|-2; -3; -2; 0; 1; 0; 0|]);;"
   ]
  },
  {
   "cell_type": "markdown",
   "id": "7f616732",
   "metadata": {
    "deletable": false,
    "editable": false,
    "nbgrader": {
     "cell_type": "markdown",
     "checksum": "7fb1ee533f9d2f20f258ddfade76b078",
     "grade": false,
     "grade_id": "cell-2c78390b3f3d57e7",
     "locked": true,
     "schema_version": 3,
     "solution": false,
     "task": false
    }
   },
   "source": [
    "<center><font size =3>⚠️ <strong>Pensez à sauvegarder</strong>⚠️ </font></center>"
   ]
  },
  {
   "cell_type": "code",
   "execution_count": null,
   "id": "f9f71830",
   "metadata": {
    "deletable": false,
    "editable": false,
    "nbgrader": {
     "cell_type": "code",
     "checksum": "0231118e9f5ba95ddb158e2e5ed3dde5",
     "grade": true,
     "grade_id": "cell-ffb59c04a02f6dda",
     "locked": true,
     "points": 0,
     "schema_version": 3,
     "solution": false,
     "task": false
    }
   },
   "outputs": [],
   "source": [
    "(* Exécutez cette cellule pour tester votre réponse *)\n",
    "let () = let n = 10000 in\n",
    "         let p1 = Array.make n 0 in\n",
    "         let p2 = Array.make n 1 in\n",
    "         let p3 = Array.make (2*n-1) 1 in\n",
    "         p1.(0) <- 1 ; p1.(n-1) <- 1 ; p2.(0) <- 0 ; p3.(0) <- 0;\n",
    "         fonction_test \"(karatsuba) un dernier produit\" (karatsuba p1 p2 = p3);;"
   ]
  },
  {
   "cell_type": "markdown",
   "id": "8404b70e",
   "metadata": {
    "deletable": false,
    "editable": false,
    "nbgrader": {
     "cell_type": "markdown",
     "checksum": "ba28896a1c47e7660c79ead7221c4a3f",
     "grade": false,
     "grade_id": "cell-a5438d09187b80a6",
     "locked": true,
     "schema_version": 3,
     "solution": false,
     "task": false
    }
   },
   "source": [
    "<font size=\"5\">👩🏿‍💻</font> **À traiter à la maison avant le prochain TD** : Analyser sa complexité."
   ]
  },
  {
   "cell_type": "markdown",
   "id": "244cf728",
   "metadata": {
    "deletable": false,
    "nbgrader": {
     "cell_type": "markdown",
     "checksum": "04d138612b70faf4a7187e39ab6786ab",
     "grade": true,
     "grade_id": "cell-0c98dcb4452676cb",
     "locked": false,
     "points": 0,
     "schema_version": 3,
     "solution": true,
     "task": false
    }
   },
   "source": [
    "✍️ *Votre réponse*"
   ]
  },
  {
   "cell_type": "markdown",
   "id": "2e09ad32",
   "metadata": {
    "deletable": false,
    "editable": false,
    "nbgrader": {
     "cell_type": "markdown",
     "checksum": "c40cf7c597e29effad27cb183a30a780",
     "grade": false,
     "grade_id": "cell-172cb5b9a6194a9b",
     "locked": true,
     "schema_version": 3,
     "solution": false,
     "task": false
    }
   },
   "source": [
    "# Recherche du $k$-ième plus grand élément"
   ]
  },
  {
   "cell_type": "markdown",
   "id": "5732f039",
   "metadata": {
    "deletable": false,
    "editable": false,
    "nbgrader": {
     "cell_type": "markdown",
     "checksum": "413288c22cf16c63727b131081789cc4",
     "grade": false,
     "grade_id": "cell-b0accf7398d381d7",
     "locked": true,
     "schema_version": 3,
     "solution": false,
     "task": false
    }
   },
   "source": [
    "<font size =5>⚠️ </font> **Prenez soin d'écrire des algorithmes avec une complexité raisonnable, et penser à sauvegarder régulièrement : mal écrites, certaines fonctions risquent de faire planter votre navigateur**."
   ]
  },
  {
   "cell_type": "markdown",
   "id": "41d92b09",
   "metadata": {
    "deletable": false,
    "editable": false,
    "nbgrader": {
     "cell_type": "markdown",
     "checksum": "237fb7cb791e43bd739900f8a49f9f06",
     "grade": false,
     "grade_id": "cell-ce3a84b2adc4cc87",
     "locked": true,
     "schema_version": 3,
     "solution": false,
     "task": false
    }
   },
   "source": [
    "Une entreprise de $n$ employés ($n \\geqslant 2$) veut récompenser ses $k$ meilleurs vendeurs. Chaque employé, désigné par son numéro de badge $i$ (où $ 0 \\leqslant i < n$), a réalisé un chiffre de ventes $a_i$ au cours de  l'année 2021.\n",
    "\n",
    "On suppose que pour tout entier $i$, $a_i$ est un entier. L'objectif est de déterminer le $k$-ième chiffre de ventes le plus élevé, ce qui correspondra au seuil à partir duquel les employés auront le droit à une prime."
   ]
  },
  {
   "cell_type": "markdown",
   "id": "bf7640d6",
   "metadata": {
    "deletable": false,
    "editable": false,
    "nbgrader": {
     "cell_type": "markdown",
     "checksum": "122023fb43e4f7d7f75762f0b1346d03",
     "grade": false,
     "grade_id": "cell-5b4634131500501d",
     "locked": true,
     "schema_version": 3,
     "solution": false,
     "task": false
    }
   },
   "source": [
    "## Préliminaires"
   ]
  },
  {
   "cell_type": "markdown",
   "id": "fa34dc64",
   "metadata": {
    "deletable": false,
    "editable": false,
    "nbgrader": {
     "cell_type": "markdown",
     "checksum": "686be9c6c3ddfd6baeb4a9d59ad5bb38",
     "grade": false,
     "grade_id": "cell-e035027b3aa392aa",
     "locked": true,
     "schema_version": 3,
     "solution": false,
     "task": false
    }
   },
   "source": [
    "On considère une suite d'entiers $(u_k)_{k \\in \\mathbb{N}}$ vérifiant la relation de récurrence :\n",
    "$$\\forall k \\in \\mathbb{N}, u_{k+1} = (15091\\times u_k)\\text{ mod } 64007$$"
   ]
  },
  {
   "cell_type": "markdown",
   "id": "1faead19",
   "metadata": {
    "deletable": false,
    "editable": false,
    "nbgrader": {
     "cell_type": "markdown",
     "checksum": "816d6d3335118c7e7b5e574a46600953",
     "grade": false,
     "grade_id": "cell-0fa177f80bacf93e",
     "locked": true,
     "schema_version": 3,
     "solution": false,
     "task": false
    }
   },
   "source": [
    "<font size=\"5\">👨‍💻</font> Écrire une fonction \n",
    "`suivant : int -> int` qui, lorsqu'elle prend en argument l'entier correspondant à $u_k$, renvoie $u_{k+1}$."
   ]
  },
  {
   "cell_type": "code",
   "execution_count": null,
   "id": "edc94f66",
   "metadata": {
    "deletable": false,
    "nbgrader": {
     "cell_type": "code",
     "checksum": "d5a65e45681172cf7006929f194c3e1c",
     "grade": false,
     "grade_id": "cell-782facd363599a90",
     "locked": false,
     "schema_version": 3,
     "solution": true,
     "task": false
    }
   },
   "outputs": [],
   "source": [
    "(*À remplacer par votre code*)\n",
    "failwith \"Code manquant\""
   ]
  },
  {
   "cell_type": "code",
   "execution_count": null,
   "id": "270b3dfe",
   "metadata": {
    "deletable": false,
    "editable": false,
    "nbgrader": {
     "cell_type": "code",
     "checksum": "2efce0acd430e054e7f52d1b2d6db791",
     "grade": true,
     "grade_id": "cell-3c98d688266fcbed",
     "locked": true,
     "points": 1,
     "schema_version": 3,
     "solution": false,
     "task": false
    }
   },
   "outputs": [],
   "source": [
    "(* Exécutez cette cellule pour tester votre réponse *)\n",
    "let () = \n",
    "    let tab_u0 = [|29818; 37458; 30111; 52539; 15091; 50303; 60849; 21533; 61402; 61911|] in\n",
    "    let tab_u1 = [|14228; 32861; 19408; 11340; 1375; 63560; 27837; 54971; 52250; 52729|] in\n",
    "    for i = 0 to Array.length tab_u0 - 1 do\n",
    "        let u0 = tab_u0.(i) in\n",
    "        fonction_test (Printf.sprintf \"(suivant) %d\" u0) \n",
    "              (suivant u0 = tab_u1.(i))\n",
    "    done; ; "
   ]
  },
  {
   "cell_type": "markdown",
   "id": "6727b54b",
   "metadata": {
    "deletable": false,
    "editable": false,
    "nbgrader": {
     "cell_type": "markdown",
     "checksum": "af228c63a30e7b9e7b5c570be01aa585",
     "grade": false,
     "grade_id": "cell-3b649783ee7c11a4",
     "locked": true,
     "schema_version": 3,
     "solution": false,
     "task": false
    }
   },
   "source": [
    "<font size=\"5\">👩🏽‍💻</font> Écrire une fonction `tab_u : int -> int -> int array` qui prend en argument la valeur de $u_0$ et un entier $n$ et qui renvoie le tableau $[|u_0;u_1;\\dots;u_{n-1}|]$ des $n$ premières valeurs de la suite $u$."
   ]
  },
  {
   "cell_type": "code",
   "execution_count": null,
   "id": "b4eecb15",
   "metadata": {
    "deletable": false,
    "nbgrader": {
     "cell_type": "code",
     "checksum": "0df4dc36a1f9899f4e67c5517abb7ef0",
     "grade": false,
     "grade_id": "cell-7f290f8be8208d4d",
     "locked": false,
     "schema_version": 3,
     "solution": true,
     "task": false
    }
   },
   "outputs": [],
   "source": [
    "(*À remplacer par votre code*)\n",
    "failwith \"Code manquant\""
   ]
  },
  {
   "cell_type": "code",
   "execution_count": null,
   "id": "bbd1a2e8",
   "metadata": {
    "deletable": false,
    "editable": false,
    "nbgrader": {
     "cell_type": "code",
     "checksum": "33b3063360deeccd5d2221386d47d4b9",
     "grade": true,
     "grade_id": "cell-6131a6252cc492aa",
     "locked": true,
     "points": 1,
     "schema_version": 3,
     "solution": false,
     "task": false
    }
   },
   "outputs": [],
   "source": [
    "(* Exécutez cette cellule pour tester votre réponse *)\n",
    "let () = \n",
    "    let tab_u0 = [|29818; 37458; 30111; 52539; 15091; 50303; 60849; 21533; 61402; 61911|] in\n",
    "    let tab_u2000 = [|29816; 42105; 705; 53905; 41390; 30302; 500; 29182; 36652; 6615|] in\n",
    "    for i = 0 to Array.length tab_u0 - 1 do\n",
    "        let u0 = tab_u0.(i) in\n",
    "        fonction_test (Printf.sprintf \"(tab_u) calcul de u2000 pour u0 = %d\" u0) \n",
    "              ((tab_u u0 2001).(2000) = tab_u2000.(i))\n",
    "    done;; "
   ]
  },
  {
   "cell_type": "markdown",
   "id": "8ce897d6",
   "metadata": {
    "deletable": false,
    "editable": false,
    "nbgrader": {
     "cell_type": "markdown",
     "checksum": "da0ea61125fb1f464308a300a7847af2",
     "grade": false,
     "grade_id": "cell-2c78390b3f3d57d9",
     "locked": true,
     "schema_version": 3,
     "solution": false,
     "task": false
    }
   },
   "source": [
    "<center><font size =3>⚠️ <strong>Pensez à sauvegarder</strong>⚠️ </font></center>"
   ]
  },
  {
   "cell_type": "code",
   "execution_count": null,
   "id": "b1eed9dd",
   "metadata": {
    "deletable": false,
    "editable": false,
    "nbgrader": {
     "cell_type": "code",
     "checksum": "b9ff4fb0bb7db850031afd4989f0ef3f",
     "grade": true,
     "grade_id": "cell-63162fec4580753e",
     "locked": true,
     "points": 1,
     "schema_version": 3,
     "solution": false,
     "task": false
    }
   },
   "outputs": [],
   "source": [
    "(* Exécutez cette cellule pour tester votre réponse *)\n",
    "let () = fonction_test \"(tab_u) temps de calcul\" ((tab_u 5 1000001).(1000000) = 62735);;"
   ]
  },
  {
   "cell_type": "markdown",
   "id": "2bc06aa7",
   "metadata": {
    "deletable": false,
    "editable": false,
    "nbgrader": {
     "cell_type": "markdown",
     "checksum": "737bf81902b5eb932cabdaec2c35df93",
     "grade": false,
     "grade_id": "cell-344dda5936152e06",
     "locked": true,
     "schema_version": 3,
     "solution": false,
     "task": false
    }
   },
   "source": [
    "Dans toute la suite, on considère que le tableau des $n$ chiffres de ventes ($n$ pouvant dépendre de la question) est donné par `tab_u u0 n` où `u0` est votre valeur pour $u_0$."
   ]
  },
  {
   "cell_type": "markdown",
   "id": "f22df4b9",
   "metadata": {
    "deletable": false,
    "editable": false,
    "nbgrader": {
     "cell_type": "markdown",
     "checksum": "b6c816a4745c0e8262e40487ce535cd2",
     "grade": false,
     "grade_id": "cell-f87c26da5b4444a2",
     "locked": true,
     "schema_version": 3,
     "solution": false,
     "task": false
    }
   },
   "source": [
    "## Meilleure vente et approximation du seuil\n",
    "\n",
    "<font size=\"5\">👨🏾‍💻</font> Dans cette question, on suppose que $k = 1$.  Écrire une fonction \n",
    "`meilleure_vente : 'a array -> 'a`\n",
    " qui prend en argument le tableau des chiffres de ventes et qui renvoie le meilleur chiffre de ventes."
   ]
  },
  {
   "cell_type": "code",
   "execution_count": null,
   "id": "d684be0c",
   "metadata": {
    "deletable": false,
    "nbgrader": {
     "cell_type": "code",
     "checksum": "20e4c548edb86e03486b9af6cacf215c",
     "grade": false,
     "grade_id": "cell-b86d50f53c34d506",
     "locked": false,
     "schema_version": 3,
     "solution": true,
     "task": false
    }
   },
   "outputs": [],
   "source": [
    "(*À remplacer par votre code*)\n",
    "failwith \"Code manquant\""
   ]
  },
  {
   "cell_type": "code",
   "execution_count": null,
   "id": "9e8a960e",
   "metadata": {
    "deletable": false,
    "editable": false,
    "nbgrader": {
     "cell_type": "code",
     "checksum": "31d0661360f5ba6f2825c5188bc6c60a",
     "grade": true,
     "grade_id": "cell-96cd223dc762c9c3",
     "locked": true,
     "points": 1,
     "schema_version": 3,
     "solution": false,
     "task": false
    }
   },
   "outputs": [],
   "source": [
    "(* Exécutez cette cellule pour tester votre réponse *)\n",
    "let () = \n",
    "    let tab_u0 = [|29818; 37458; 30111; 52539; 15091; 50303; 60849; 21533; 61402; 61911|] in\n",
    "    let tab_meilleure_vente = [|63984; 63939; 63888; 63631; 63942; 63810; 63984; 63928; 63975; 63973|] in\n",
    "    for i = 0 to Array.length tab_u0 - 1 do\n",
    "        let u0 = tab_u0.(i) in\n",
    "        fonction_test (Printf.sprintf \"(meilleure_vente) pour u0 = %d\" u0) \n",
    "              (meilleure_vente (tab_u u0 1000) = tab_meilleure_vente.(i))\n",
    "    done;; "
   ]
  },
  {
   "cell_type": "markdown",
   "id": "bbee2aac",
   "metadata": {
    "deletable": false,
    "editable": false,
    "nbgrader": {
     "cell_type": "markdown",
     "checksum": "803c1358b64071f2cef6e801ca6b7692",
     "grade": false,
     "grade_id": "cell-f669c7c90dbce79f",
     "locked": true,
     "schema_version": 3,
     "solution": false,
     "task": false
    }
   },
   "source": [
    "<font size=\"5\">👩🏻‍💻</font> Dans cette question, on suppose que la distribution des chiffres de ventes est relativement uniforme. Une approximation du seuil de ventes à atteindre pour obtenir la prime est alors donnée par la moyenne du chiffre de ventes minimum et du chiffre de ventes maximum, respectivement pondérés par $(k-1)$ et $n-k$.\n",
    "\n",
    "Écrire une fonction \n",
    "`approx_seuil: int array -> int -> int`\n",
    " prenant en argument le tableau des chiffres de ventes et l'entier $k$ et renvoyant cette moyenne pondérée arrondie à l'entier inférieur. "
   ]
  },
  {
   "cell_type": "code",
   "execution_count": null,
   "id": "6b2356ea",
   "metadata": {
    "deletable": false,
    "nbgrader": {
     "cell_type": "code",
     "checksum": "b88d560815db02bf6a2c90d317eb1e54",
     "grade": false,
     "grade_id": "cell-94ff7adf002dfbc1",
     "locked": false,
     "schema_version": 3,
     "solution": true,
     "task": false
    }
   },
   "outputs": [],
   "source": [
    "(*À remplacer par votre code*)\n",
    "failwith \"Code manquant\""
   ]
  },
  {
   "cell_type": "code",
   "execution_count": null,
   "id": "e4ca7ae2",
   "metadata": {
    "deletable": false,
    "editable": false,
    "nbgrader": {
     "cell_type": "code",
     "checksum": "fcba4276c4ce5be407622c5eeba93881",
     "grade": true,
     "grade_id": "cell-bae0c3d34ce13626",
     "locked": true,
     "points": 1,
     "schema_version": 3,
     "solution": false,
     "task": false
    }
   },
   "outputs": [],
   "source": [
    "(* Exécutez cette cellule pour tester votre réponse *)\n",
    "let () = \n",
    "    let tab_u0 = [|29818; 37458; 30111; 52539; 15091; 50303; 60849; 21533; 61402; 61911|] in\n",
    "    let tab_approx = [|61455; 61445; 61429; 61450; 61440; 61454; 61455; 61437; 61428; 61445|] in\n",
    "    for i = 0 to Array.length tab_u0 - 1 do\n",
    "        let u0 = tab_u0.(i) in\n",
    "        fonction_test (Printf.sprintf \"(approx_seuil) pour u0 = %d\" u0) \n",
    "              (approx_seuil (tab_u u0 5000) 200 = tab_approx.(i))\n",
    "    done;; "
   ]
  },
  {
   "cell_type": "markdown",
   "id": "72c9258e",
   "metadata": {
    "deletable": false,
    "editable": false,
    "nbgrader": {
     "cell_type": "markdown",
     "checksum": "df0916d22640e588fe75d0ad2deb25f6",
     "grade": false,
     "grade_id": "cell-c2d865a800311526",
     "locked": true,
     "schema_version": 3,
     "solution": false,
     "task": false
    }
   },
   "source": [
    "## Un premier algorithme\n",
    "On traite maintenant le cas général, en ne faisant aucune hypothèse sur la répartition des ventes.\n",
    "\n",
    "Pour calculer le $k$-ième meilleur chiffre de ventes, on va trier partiellement le tableau dans l'ordre décroissant, de sorte que les $k$ plus grands éléments soient à leur place dans le tableau.\n",
    "\n",
    "<font size=\"5\">👨🏽‍💻</font> Écrire une fonction \n",
    "`echange : 'a array -> int -> int -> unit`\n",
    " prenant en argument un tableau et deux entiers $i$ et $j$ et échangeant en place les éléments d'indices $i$ et $j$ du tableau. Aucune vérification sur $i$ et $j$ n'est demandée."
   ]
  },
  {
   "cell_type": "code",
   "execution_count": null,
   "id": "9c2af5d7",
   "metadata": {
    "deletable": false,
    "nbgrader": {
     "cell_type": "code",
     "checksum": "1509aea9187b3402b25e855d5c8891fe",
     "grade": false,
     "grade_id": "cell-6d8cee8ee1ddf5aa",
     "locked": false,
     "schema_version": 3,
     "solution": true,
     "task": false
    }
   },
   "outputs": [],
   "source": [
    "(*À remplacer par votre code*)\n",
    "failwith \"Code manquant\""
   ]
  },
  {
   "cell_type": "code",
   "execution_count": null,
   "id": "12b7a574",
   "metadata": {
    "deletable": false,
    "editable": false,
    "nbgrader": {
     "cell_type": "code",
     "checksum": "e375e64e7ad49358ca25f1333dbedb01",
     "grade": true,
     "grade_id": "cell-81077b03df8e615c",
     "locked": true,
     "points": 1,
     "schema_version": 3,
     "solution": false,
     "task": false
    }
   },
   "outputs": [],
   "source": [
    "(* Exécutez cette cellule pour tester votre réponse *)\n",
    "let () = \n",
    "    let tab = [|2; 4; 6; 8; 10 |] in\n",
    "    echange tab 1 4 ;\n",
    "    fonction_test \"(echange)\" (tab = [|2; 10; 6; 8;4|]);; "
   ]
  },
  {
   "cell_type": "markdown",
   "id": "106a8c2d",
   "metadata": {
    "deletable": false,
    "editable": false,
    "nbgrader": {
     "cell_type": "markdown",
     "checksum": "126cea7e156c55825fe60fe1c92bfa98",
     "grade": false,
     "grade_id": "cell-7437be7b550f3130",
     "locked": true,
     "schema_version": 3,
     "solution": false,
     "task": false
    }
   },
   "source": [
    "<font size=\"5\">👩🏼‍💻</font> Écrire une fonction \n",
    "`seuil : 'a array -> int -> 'a`\n",
    " prenant en argument le tableau des chiffres de ventes et l'entier $k$ et renvoyant le $k$-ième plus grand élément du tableau. On s'inspirera du tri par sélection."
   ]
  },
  {
   "cell_type": "code",
   "execution_count": null,
   "id": "3acc8375",
   "metadata": {
    "deletable": false,
    "nbgrader": {
     "cell_type": "code",
     "checksum": "a17ad814f4ce5eb832034bf3797c01d9",
     "grade": false,
     "grade_id": "cell-8b436e9dfa8af5c5",
     "locked": false,
     "schema_version": 3,
     "solution": true,
     "task": false
    }
   },
   "outputs": [],
   "source": [
    "(*À remplacer par votre code*)\n",
    "failwith \"Code manquant\""
   ]
  },
  {
   "cell_type": "markdown",
   "id": "842aaf3b",
   "metadata": {
    "deletable": false,
    "editable": false,
    "nbgrader": {
     "cell_type": "markdown",
     "checksum": "0f25c5c15a3aaaefac671fbdaf419f80",
     "grade": false,
     "grade_id": "cell-aa896cbb7aa5920c",
     "locked": true,
     "schema_version": 3,
     "solution": false,
     "task": false
    }
   },
   "source": [
    "<center><font size =3>⚠️ <strong>Pensez à sauvegarder</strong>⚠️ </font></center>"
   ]
  },
  {
   "cell_type": "code",
   "execution_count": null,
   "id": "a79abbba",
   "metadata": {
    "deletable": false,
    "editable": false,
    "nbgrader": {
     "cell_type": "code",
     "checksum": "1155888fb7a909dc511884b43e19feb8",
     "grade": true,
     "grade_id": "cell-2ec5ca66e52bc8b1",
     "locked": true,
     "points": 1,
     "schema_version": 3,
     "solution": false,
     "task": false
    }
   },
   "outputs": [],
   "source": [
    "(* Exécutez cette cellule pour tester votre réponse *)\n",
    "let () = \n",
    "    let tab_u0 = [|29818; 37458; 30111; 52539; 15091; 50303; 60849; 21533; 61402; 61911|] in\n",
    "    let tab_seuil = [|61792; 60625; 61468; 61319; 61644; 61715; 61766; 61375; 61518; 61025|] in\n",
    "    for i = 0 to Array.length tab_u0 - 1 do\n",
    "        let u0 = tab_u0.(i) in\n",
    "        fonction_test (Printf.sprintf \"(seuil) pour u0 = %d\" u0) \n",
    "              (seuil (tab_u u0 5000) 200 = tab_seuil.(i))\n",
    "    done;; "
   ]
  },
  {
   "cell_type": "markdown",
   "id": "5e8913fb",
   "metadata": {
    "deletable": false,
    "editable": false,
    "nbgrader": {
     "cell_type": "markdown",
     "checksum": "c3bf76d949af26fcecd0f482f5a4c8fc",
     "grade": false,
     "grade_id": "cell-eeee64461a11c252",
     "locked": true,
     "schema_version": 3,
     "solution": false,
     "task": false
    }
   },
   "source": [
    "## Un algorithme « diviser pour régner »\n",
    "Le nombre d'employés $n$ étant particulièrement grand, on cherche à optimiser le calcul du $k$-ième meilleur chiffre de ventes.<br/>\n",
    "\n",
    "Pour cela, on procède comme suit : on choisit un employé $i$, et on place son chiffre de ventes $v = a_i$ à l'indice $l$ qu'il aurait dans le tableau si celui-ci était trié dans l'ordre décroissant, en réordonnant le tableau de sorte que $a_j > v$ si $j < l$ et $a_j \\leqslant v$ et $j>l$. Si l'indice $l$ correspond au $k$-ième élément du tableau, on a terminé, sinon, on recommence avec la partie à gauche ou à droite de $l$ dans le tableau.\n",
    "\n",
    "\n",
    "<font size=\"5\">👨🏿‍💻</font> Soient $g$ et $d$ deux entiers tels que $0 \\leqslant g < d < n$ et soit $v = a_g$. Écrire une fonction \n",
    "`partition : 'a array -> int -> int -> int`\n",
    " qui prend en argument le tableau des chiffres de ventes et les entiers $g$ et $d$ (dans cet ordre), qui réordonne le tableau en place entre les indices $g$ et $d$ compris de sorte que $a_j > v$ pour $g \\leqslant j < l$ et $a_j \\leqslant v$ pour $l < j \\leqslant d$, et qui renvoie l'indice $l$ de la valeur $v$ après modification du tableau.\n",
    " \n",
    "*Indication :* On procédera par des échanges ; on pourra laisser $v$ à l'indice $g$ jusqu'à avoir fini de parcourir la portion de tableau puis procéder à un dernier échange avec l'indice $l$."
   ]
  },
  {
   "cell_type": "code",
   "execution_count": null,
   "id": "af00f95f",
   "metadata": {
    "deletable": false,
    "nbgrader": {
     "cell_type": "code",
     "checksum": "816655ff5e745474807194ae5626fe23",
     "grade": false,
     "grade_id": "cell-7aa8dd2ecb7c106d",
     "locked": false,
     "schema_version": 3,
     "solution": true,
     "task": false
    }
   },
   "outputs": [],
   "source": [
    "(*À remplacer par votre code*)\n",
    "failwith \"Code manquant\""
   ]
  },
  {
   "cell_type": "code",
   "execution_count": null,
   "id": "feb430a0",
   "metadata": {
    "deletable": false,
    "editable": false,
    "nbgrader": {
     "cell_type": "code",
     "checksum": "33917df44b1094eb0680fd6d47587cd5",
     "grade": true,
     "grade_id": "cell-b99d11196f518210",
     "locked": true,
     "points": 1,
     "schema_version": 3,
     "solution": false,
     "task": false
    }
   },
   "outputs": [],
   "source": [
    "(* Exécutez cette cellule pour tester votre réponse *)\n",
    "let () = \n",
    "    let tab_u0 = [|29818; 37458; 30111; 52539; 15091; 50303; 60849; 21533; 61402; 61911|] in\n",
    "    let tab_indice = [|1926; 1728; 1400; 1022; 1817; 1086; 1547; 1630; 1138; 1100|] in\n",
    "    for i = 0 to Array.length tab_u0 - 1 do\n",
    "        let u0 = tab_u0.(i) in\n",
    "        fonction_test (Printf.sprintf \"(partition) pour u0 = %d\" u0) \n",
    "              (partition (tab_u u0 5000) 1000 2000 = tab_indice.(i))\n",
    "    done;; "
   ]
  },
  {
   "cell_type": "markdown",
   "id": "2f8c45f8",
   "metadata": {
    "deletable": false,
    "editable": false,
    "nbgrader": {
     "cell_type": "markdown",
     "checksum": "10a1432242f4ab52e9d057a4a9384940",
     "grade": false,
     "grade_id": "cell-9f6d0180d5f0f81e",
     "locked": true,
     "schema_version": 3,
     "solution": false,
     "task": false
    }
   },
   "source": [
    "<font size=\"5\">👩‍💻</font> Écrire une fonction récursive \n",
    "`seuil_rec : 'a array -> int -> int -> int -> 'a`\n",
    " qui prend en argument le tableau des chiffres de ventes, trois entiers $j$, $g$ et $d$ (dans cet ordre) tels que $0 \\leqslant g \\leqslant j \\leqslant d$ et qui renvoie l'élément qui serait à l'indice $j$ dans le tableau des ventes trié dans l'ordre décroissant, en supposant que ce dernier se trouve entre les indices $g$ et $d$. On pourra utiliser la fonction `partition` ; la fonction pourra donc réordonner le tableau."
   ]
  },
  {
   "cell_type": "code",
   "execution_count": null,
   "id": "3091f6c4",
   "metadata": {
    "deletable": false,
    "nbgrader": {
     "cell_type": "code",
     "checksum": "53c48d23f2ffcbc20d789f393e63e75c",
     "grade": false,
     "grade_id": "cell-4d03866bcb3e7690",
     "locked": false,
     "schema_version": 3,
     "solution": true,
     "task": false
    }
   },
   "outputs": [],
   "source": [
    "(*À remplacer par votre code*)\n",
    "failwith \"Code manquant\""
   ]
  },
  {
   "cell_type": "markdown",
   "id": "bd42aadf",
   "metadata": {
    "deletable": false,
    "editable": false,
    "nbgrader": {
     "cell_type": "markdown",
     "checksum": "bf07c0b7965ce6c9cdbc33fa15a530e8",
     "grade": false,
     "grade_id": "cell-e76132241aa40688",
     "locked": true,
     "schema_version": 3,
     "solution": false,
     "task": false
    }
   },
   "source": [
    "<font size=\"5\">👨🏼‍💻</font> En déduire une fonction \n",
    "`seuil_bis : 'a array -> int -> 'a`\n",
    " prenant en argument le tableau des chiffres de ventes et l'entier $k$ et renvoyant le $k$-ième plus grand élément du tableau."
   ]
  },
  {
   "cell_type": "code",
   "execution_count": null,
   "id": "1e5b9983",
   "metadata": {
    "deletable": false,
    "nbgrader": {
     "cell_type": "code",
     "checksum": "10cab88732d7f4b87b85983293f0b526",
     "grade": false,
     "grade_id": "cell-1f8b21d71b1ea2ad",
     "locked": false,
     "schema_version": 3,
     "solution": true,
     "task": false
    }
   },
   "outputs": [],
   "source": [
    "(*À remplacer par votre code*)\n",
    "failwith \"Code manquant\""
   ]
  },
  {
   "cell_type": "markdown",
   "id": "e3373051",
   "metadata": {
    "deletable": false,
    "editable": false,
    "nbgrader": {
     "cell_type": "markdown",
     "checksum": "db622a90b9294d0c4f4964314cbf6b88",
     "grade": false,
     "grade_id": "cell-ae1ffb248e0976c9",
     "locked": true,
     "schema_version": 3,
     "solution": false,
     "task": false
    }
   },
   "source": [
    "<font size=\"5\">👩🏾‍💻</font> Définir une variable `seuil_1` correspondant au seuil obtenu avec la fonction précédente pour $u_0 = 37458$,  $k = 1000$ et $n=20000$"
   ]
  },
  {
   "cell_type": "code",
   "execution_count": null,
   "id": "884eb8e6",
   "metadata": {
    "deletable": false,
    "nbgrader": {
     "cell_type": "code",
     "checksum": "5065d58c8e9613b13e2dd73de5583f57",
     "grade": false,
     "grade_id": "cell-7913305be6f6fba8",
     "locked": false,
     "schema_version": 3,
     "solution": true,
     "task": false
    }
   },
   "outputs": [],
   "source": [
    "let seuil_1 = \n",
    "(*À remplacer par votre code*)\n",
    "failwith \"Code manquant\""
   ]
  },
  {
   "cell_type": "code",
   "execution_count": null,
   "id": "f3a5411d",
   "metadata": {
    "deletable": false,
    "editable": false,
    "nbgrader": {
     "cell_type": "code",
     "checksum": "bb05a5fe2805c19c65630f973ca9d84c",
     "grade": true,
     "grade_id": "cell-1689694ba132a706",
     "locked": true,
     "points": 0,
     "schema_version": 3,
     "solution": false,
     "task": false
    }
   },
   "outputs": [],
   "source": [
    "(* Exécutez cette cellule pour tester votre réponse *)\n",
    "let () = let check = Digest.to_hex (Digest.string (string_of_int seuil_1)) in\n",
    "   fonction_test \"(seuil_1)\" (check = \"137e35220499aa3d41e657806795800f\");;"
   ]
  },
  {
   "cell_type": "markdown",
   "id": "4af97323",
   "metadata": {
    "deletable": false,
    "editable": false,
    "nbgrader": {
     "cell_type": "markdown",
     "checksum": "20a36ed19ac2073d8db06c9e62d52a70",
     "grade": false,
     "grade_id": "cell-53362150d93e6205",
     "locked": true,
     "schema_version": 3,
     "solution": false,
     "task": false
    }
   },
   "source": [
    "<font size=\"5\">👨🏻‍💻</font> Définir une variable `seuil_2` correspondant au seuil obtenu pour $u_0 = 30111$, $k = 10000$ et $n=500000$."
   ]
  },
  {
   "cell_type": "code",
   "execution_count": null,
   "id": "eb48c18c",
   "metadata": {
    "deletable": false,
    "nbgrader": {
     "cell_type": "code",
     "checksum": "5686606c5fb211d2a8c3d2e6631852f0",
     "grade": false,
     "grade_id": "cell-a315aba6eb2a50da",
     "locked": false,
     "schema_version": 3,
     "solution": true,
     "task": false
    }
   },
   "outputs": [],
   "source": [
    "let seuil_2 = \n",
    "(*À remplacer par votre code*)\n",
    "failwith \"Code manquant\""
   ]
  },
  {
   "cell_type": "code",
   "execution_count": null,
   "id": "da0ce054",
   "metadata": {
    "deletable": false,
    "editable": false,
    "nbgrader": {
     "cell_type": "code",
     "checksum": "08682d124ea0e6df9fe99cb9934d103b",
     "grade": true,
     "grade_id": "cell-4affea2c6efb7e5e",
     "locked": true,
     "points": 0,
     "schema_version": 3,
     "solution": false,
     "task": false
    }
   },
   "outputs": [],
   "source": [
    "(* Exécutez cette cellule pour tester votre réponse *)\n",
    "let () = let check = Digest.to_hex (Digest.string (string_of_int seuil_2)) in\n",
    "   fonction_test \"(seuil_2)\" (check = \"8c3f9b7968b4b9437fa4f6304e12ada8\");;"
   ]
  }
 ],
 "metadata": {
  "kernelspec": {
   "display_name": "OCaml default",
   "language": "OCaml",
   "name": "ocaml-jupyter"
  },
  "language_info": {
   "codemirror_mode": "text/x-ocaml",
   "file_extension": ".ml",
   "mimetype": "text/x-ocaml",
   "name": "OCaml",
   "nbconverter_exporter": null,
   "pygments_lexer": "OCaml",
   "version": "4.08.1"
  }
 },
 "nbformat": 4,
 "nbformat_minor": 5
}
