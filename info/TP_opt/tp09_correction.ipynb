{
 "cells": [
  {
   "cell_type": "markdown",
   "id": "0296bdbf",
   "metadata": {
    "nbgrader": {
     "grade": false,
     "grade_id": "cell-6ecdcd10bf298814",
     "locked": true,
     "schema_version": 3,
     "solution": false,
     "task": false
    }
   },
   "source": [
    "# Avant de commencer"
   ]
  },
  {
   "cell_type": "markdown",
   "id": "6f45ddb1",
   "metadata": {
    "nbgrader": {
     "grade": false,
     "grade_id": "cell-0690dcfc0550bf6d",
     "locked": true,
     "schema_version": 3,
     "solution": false,
     "task": false
    }
   },
   "source": [
    "Créer une variable `u_0` correspondant à la valeur qui vous a été attribuée."
   ]
  },
  {
   "cell_type": "code",
   "execution_count": 1,
   "id": "2e51b424",
   "metadata": {
    "nbgrader": {
     "grade": false,
     "grade_id": "cell-fc16683acae10eba",
     "locked": true,
     "schema_version": 3,
     "solution": false,
     "task": false
    }
   },
   "outputs": [
    {
     "data": {
      "text/plain": [
       "val u0_test : int = 29818\n"
      ]
     },
     "execution_count": 1,
     "metadata": {},
     "output_type": "execute_result"
    }
   ],
   "source": [
    "let u0_test = 29818;;"
   ]
  },
  {
   "cell_type": "markdown",
   "id": "568c3e84",
   "metadata": {
    "nbgrader": {
     "grade": false,
     "grade_id": "cell-9776a5051b359619",
     "locked": true,
     "schema_version": 3,
     "solution": false,
     "task": false
    }
   },
   "source": [
    "-------------------\n",
    "Une entreprise de $n$ employés ($n \\geqslant 2$) veut récompenser $k$ ses meilleurs vendeurs. Chaque employé, désigné par son numéro de badge $i$ (où $ 0 \\leqslant i < n$), a réalisé un chiffre de ventes $a_i$ au cours de  l'année 2020. On suppose que pour tout entier $i$, $a_i$ est un entier.\n",
    "\n",
    "L'objectif est de déterminer le $k$-ième chiffre de ventes le plus élevé, ce qui correspondra au seuil à partir duquel les employés auront le droit à une prime.\n",
    "\n",
    "\n",
    "**Dans tout le sujet, on pourra utiliser ` Array.make` et ` Array.length`, mais pas d'autres fonctions du module ` Array`**\n",
    "\n",
    "# Préliminaires\n",
    "\n",
    "On considère une suite d'entiers $(u_k)_{k \\in \\mathbb{N}}$ vérifiant la relation de récurrence :\n",
    "$$\\forall k \\in \\mathbb{N}, u_{k+1} = (15091\\times u_k)\\text{ mod } 64007$$\n",
    "\n",
    "#### Question 1\n",
    "Écrire une fonction `suivant : int -> int` qui, lorsqu'elle prend en argument l'entier correspondant à $u_k$, renvoie $u_{k+1}$."
   ]
  },
  {
   "cell_type": "code",
   "execution_count": 2,
   "id": "972fe318",
   "metadata": {
    "nbgrader": {
     "grade": true,
     "grade_id": "cell-d95afe59143fcb79",
     "locked": false,
     "points": 0,
     "schema_version": 3,
     "solution": true,
     "task": false
    }
   },
   "outputs": [
    {
     "data": {
      "text/plain": [
       "val suivant : int -> int = <fun>\n"
      ]
     },
     "execution_count": 2,
     "metadata": {},
     "output_type": "execute_result"
    }
   ],
   "source": [
    "let suivant uk =\n",
    "  15091*uk mod 64007\n",
    ";;"
   ]
  },
  {
   "cell_type": "markdown",
   "id": "941b1d4e",
   "metadata": {
    "nbgrader": {
     "grade": false,
     "grade_id": "cell-c4f62f4fcc119965",
     "locked": true,
     "schema_version": 3,
     "solution": false,
     "task": false
    }
   },
   "source": [
    "#### Question 2\n",
    "Écrire une fonction `tab_u : int -> int -> int array` qui prend en argument la valeur de $u_0$ et un entier $n$ et qui renvoie le tableau $[|u_0;u_1;\\dots;u_{n-1}|]$ des $n$ premières valeurs de la suite $u$."
   ]
  },
  {
   "cell_type": "code",
   "execution_count": 3,
   "id": "0c3fec60",
   "metadata": {
    "nbgrader": {
     "grade": true,
     "grade_id": "cell-f9c992ee525430b0",
     "locked": false,
     "points": 0,
     "schema_version": 3,
     "solution": true,
     "task": false
    },
    "scrolled": true
   },
   "outputs": [
    {
     "data": {
      "text/plain": [
       "val tab_u : int -> int -> int array = <fun>\n"
      ]
     },
     "execution_count": 3,
     "metadata": {},
     "output_type": "execute_result"
    }
   ],
   "source": [
    "let tab_u u0 n =\n",
    "  let tab = Array.make n u0 in\n",
    "  for i = 1 to n-1 do\n",
    "    tab.(i) <- suivant tab.(i-1)\n",
    "  done;\n",
    "  tab\n",
    ";;"
   ]
  },
  {
   "cell_type": "markdown",
   "id": "e3439169",
   "metadata": {
    "nbgrader": {
     "grade": false,
     "grade_id": "cell-383bf11e3ff75bcb",
     "locked": true,
     "schema_version": 3,
     "solution": false,
     "task": false
    }
   },
   "source": [
    "#### Question 3\n",
    "Calculer les valeurs de $u_{20}$, $u_{2000}$, $u_{20000}$."
   ]
  },
  {
   "cell_type": "code",
   "execution_count": 4,
   "id": "530e40a5",
   "metadata": {
    "nbgrader": {
     "grade": true,
     "grade_id": "cell-02c3613aa1d3ad63",
     "locked": false,
     "points": 0,
     "schema_version": 3,
     "solution": true,
     "task": false
    }
   },
   "outputs": [
    {
     "data": {
      "text/plain": [
       "val u_test : int -> int = <fun>\n"
      ]
     },
     "execution_count": 4,
     "metadata": {},
     "output_type": "execute_result"
    },
    {
     "data": {
      "text/plain": [
       "val u_20 : int = 12660\n"
      ]
     },
     "execution_count": 4,
     "metadata": {},
     "output_type": "execute_result"
    },
    {
     "data": {
      "text/plain": [
       "val u_2000 : int = 29816\n"
      ]
     },
     "execution_count": 4,
     "metadata": {},
     "output_type": "execute_result"
    },
    {
     "data": {
      "text/plain": [
       "val u_20000 : int = 53256\n"
      ]
     },
     "execution_count": 4,
     "metadata": {},
     "output_type": "execute_result"
    }
   ],
   "source": [
    "let u_test n = let tab_test = tab_u u0_test (n+1) in tab_test.(n);;\n",
    "\n",
    "let u_20 = u_test 20  ;;\n",
    "let u_2000 = u_test 2000 ;;\n",
    "let u_20000 =  u_test 20000;;"
   ]
  },
  {
   "cell_type": "markdown",
   "id": "3fff0b9d",
   "metadata": {
    "nbgrader": {
     "grade": false,
     "grade_id": "cell-00b8a9ab61b80374",
     "locked": true,
     "schema_version": 3,
     "solution": false,
     "task": false
    }
   },
   "source": [
    "Dans toute la suite, on considère que le tableau des $n$ chiffres de ventes ($n$ pouvant dépendre de la question) est donné par ` tab_u u0 n` où ` u0` est votre valeur pour $u_0$.\n",
    "\n",
    "# Partie I\n",
    "\n",
    "#### Question 4\n",
    "Dans cette question, on suppose que $k = 1$. \n",
    "-  Écrire une fonction ` meilleure_vente : 'a array -> 'a` qui prend en argument le tableau des chiffres de ventes et qui renvoie le meilleur chiffre de ventes."
   ]
  },
  {
   "cell_type": "code",
   "execution_count": 5,
   "id": "decca5f1",
   "metadata": {
    "nbgrader": {
     "grade": true,
     "grade_id": "cell-209dddc6e211e91f",
     "locked": false,
     "points": 0,
     "schema_version": 3,
     "solution": true,
     "task": false
    }
   },
   "outputs": [
    {
     "data": {
      "text/plain": [
       "val meilleure_vente : 'a array -> 'a = <fun>\n"
      ]
     },
     "execution_count": 5,
     "metadata": {},
     "output_type": "execute_result"
    }
   ],
   "source": [
    "let meilleure_vente tab =\n",
    "  let n = Array.length tab in\n",
    "  let maxi = ref tab.(0) in\n",
    "  for i = 1 to n-1 do\n",
    "    if tab.(i) > !maxi\n",
    "    then maxi := tab.(i)\n",
    "  done;\n",
    "  !maxi\n",
    ";;"
   ]
  },
  {
   "cell_type": "markdown",
   "id": "c69fd433",
   "metadata": {
    "nbgrader": {
     "grade": false,
     "grade_id": "cell-bbdf3b1e2952a596",
     "locked": true,
     "schema_version": 3,
     "solution": false,
     "task": false
    }
   },
   "source": [
    "- Calculer la valeur de la meilleure vente pour $n = 1000$."
   ]
  },
  {
   "cell_type": "code",
   "execution_count": 6,
   "id": "4243f28a",
   "metadata": {
    "nbgrader": {
     "grade": true,
     "grade_id": "cell-bffa523d0276d073",
     "locked": false,
     "points": 0,
     "schema_version": 3,
     "solution": true,
     "task": false
    }
   },
   "outputs": [
    {
     "data": {
      "text/plain": [
       "val meilleure_vente_1000 : int = 63984\n"
      ]
     },
     "execution_count": 6,
     "metadata": {},
     "output_type": "execute_result"
    }
   ],
   "source": [
    "let meilleure_vente_1000 = meilleure_vente (tab_u u0_test 1000);;"
   ]
  },
  {
   "cell_type": "markdown",
   "id": "1f373d4e",
   "metadata": {
    "nbgrader": {
     "grade": false,
     "grade_id": "cell-84fd8e0605a9d94a",
     "locked": true,
     "schema_version": 3,
     "solution": false,
     "task": false
    }
   },
   "source": [
    "#### Question 5\n",
    "Dans cette question, on suppose que la distribution des chiffres de ventes est relativement uniforme. Une approximation du seuil de ventes à atteindre pour obtenir la prime est alors donnée par la moyenne du chiffre de ventes minimum et du chiffre de ventes maximum, respectivement pondérés par $(k-1)$ et $n-k$.\n",
    "\n",
    "- Écrire une fonction ` approx_seuil: int array -> int -> int`  prenant en argument le tableau des chiffres de ventes et l'entier $k$ et renvoyant cette moyenne pondérée arrondie à l'entier inférieur. "
   ]
  },
  {
   "cell_type": "code",
   "execution_count": 7,
   "id": "a81a46c1",
   "metadata": {
    "nbgrader": {
     "grade": false,
     "grade_id": "cell-7926e6e3546b6e36",
     "locked": false,
     "schema_version": 3,
     "solution": true,
     "task": false
    }
   },
   "outputs": [
    {
     "data": {
      "text/plain": [
       "val approx_seuil : int array -> int -> int = <fun>\n"
      ]
     },
     "execution_count": 7,
     "metadata": {},
     "output_type": "execute_result"
    }
   ],
   "source": [
    "let approx_seuil tab k =\n",
    "  let n = Array.length tab in\n",
    "  let maxi = ref tab.(0) in\n",
    "  let mini = ref tab.(0) in\n",
    "  for i = 1 to n-1 do\n",
    "    if tab.(i) > !maxi\n",
    "    then maxi := tab.(i)\n",
    "    else\n",
    "      if tab.(i) < !mini\n",
    "       then mini:= tab.(i)    \n",
    "  done;\n",
    "  ((k-1) * !mini + (n-k) * !maxi)/(n-1)\n",
    "  (* La somme des deux coefficients vaut (n-1)*)\n",
    ";;"
   ]
  },
  {
   "cell_type": "markdown",
   "id": "4df76227",
   "metadata": {
    "nbgrader": {
     "grade": false,
     "grade_id": "cell-9fe5f58b7994a381",
     "locked": true,
     "schema_version": 3,
     "solution": false,
     "task": false
    }
   },
   "source": [
    "- Calculer le seuil obtenu avec la fonction précédente pour $k = 200$ et $n=5000$."
   ]
  },
  {
   "cell_type": "code",
   "execution_count": 8,
   "id": "ab4d206b",
   "metadata": {
    "nbgrader": {
     "grade": true,
     "grade_id": "cell-78cd40ef46651c51",
     "locked": false,
     "points": 0,
     "schema_version": 3,
     "solution": true,
     "task": false
    }
   },
   "outputs": [
    {
     "data": {
      "text/plain": [
       "val seuil_approx_200_5000 : int = 61455\n"
      ]
     },
     "execution_count": 8,
     "metadata": {},
     "output_type": "execute_result"
    }
   ],
   "source": [
    "let seuil_approx_200_5000 = approx_seuil (tab_u u0_test 5000) 200;;"
   ]
  },
  {
   "cell_type": "markdown",
   "id": "1e590f4a",
   "metadata": {
    "nbgrader": {
     "grade": false,
     "grade_id": "cell-577a0a576ee4ae81",
     "locked": true,
     "schema_version": 3,
     "solution": false,
     "task": false
    }
   },
   "source": [
    "# Partie II\n",
    "On traite maintenant le cas général, en ne faisant aucune hypothèse sur la répartition des ventes.\n",
    "\n",
    "Pour calculer le $k$-ième meilleur chiffre de ventes, on va trier partiellement le tableau dans l'ordre décroissant, de sorte que les $k$ plus grands éléments soient à leur place dans le tableau.\n",
    "\n",
    "#### Question 6\n",
    "Écrire une fonction `echange : 'a array -> int -> int -> unit` qui prend en argument un tableau et deux entiers $i$ et $j$ et échangeant en place les éléments d'indices $i$ et $j$ du tableau. Aucune vérification sur $i$ et $j$ n'est demandée."
   ]
  },
  {
   "cell_type": "code",
   "execution_count": 9,
   "id": "5d8e5bb4",
   "metadata": {
    "nbgrader": {
     "grade": true,
     "grade_id": "cell-a90ef73f0d941cf1",
     "locked": false,
     "points": 0,
     "schema_version": 3,
     "solution": true,
     "task": false
    }
   },
   "outputs": [
    {
     "data": {
      "text/plain": [
       "val echange : 'a array -> int -> int -> unit = <fun>\n"
      ]
     },
     "execution_count": 9,
     "metadata": {},
     "output_type": "execute_result"
    }
   ],
   "source": [
    "let echange tab i j =\n",
    "  let tmp = tab.(i) in\n",
    "  tab.(i) <- tab.(j);\n",
    "  tab.(j) <- tmp\n",
    ";;"
   ]
  },
  {
   "cell_type": "markdown",
   "id": "e356dbbb",
   "metadata": {
    "nbgrader": {
     "grade": false,
     "grade_id": "cell-c357f706f4552fcb",
     "locked": true,
     "schema_version": 3,
     "solution": false,
     "task": false
    }
   },
   "source": [
    "#### Question 7 \n",
    "Écrire une fonction ` seuil : 'a array -> int -> 'a` prenant en argument le tableau des chiffres de ventes et l'entier $k$ et renvoyant le $k$-ième plus grand élément du tableau."
   ]
  },
  {
   "cell_type": "code",
   "execution_count": 10,
   "id": "bb8883c5",
   "metadata": {
    "nbgrader": {
     "grade": false,
     "grade_id": "cell-a4ef26d13b55a7fe",
     "locked": false,
     "schema_version": 3,
     "solution": true,
     "task": false
    }
   },
   "outputs": [
    {
     "data": {
      "text/plain": [
       "val seuil : 'a array -> int -> 'a = <fun>\n"
      ]
     },
     "execution_count": 10,
     "metadata": {},
     "output_type": "execute_result"
    }
   ],
   "source": [
    "let seuil tab k =\n",
    "  let n = Array.length tab in\n",
    "  for i = 0 to k-1 do\n",
    "    let imax = ref i in\n",
    "    for j = i+1 to n-1 do\n",
    "      if tab.(j) > tab.(!imax)\n",
    "      then imax := j\n",
    "    done;\n",
    "    echange tab !imax i\n",
    "  done;\n",
    "  tab.(k-1)\n",
    ";;"
   ]
  },
  {
   "cell_type": "markdown",
   "id": "0167077b",
   "metadata": {
    "nbgrader": {
     "grade": false,
     "grade_id": "cell-7a73718397ab61a1",
     "locked": true,
     "schema_version": 3,
     "solution": false,
     "task": false
    }
   },
   "source": [
    "#### Question 8\n",
    "Calculer le seuil obtenu avec la fonction précédente pour $k = 200$ et $n=5000$."
   ]
  },
  {
   "cell_type": "code",
   "execution_count": 11,
   "id": "6a272280",
   "metadata": {
    "nbgrader": {
     "grade": true,
     "grade_id": "cell-504d7f92986b6521",
     "locked": false,
     "points": 0,
     "schema_version": 3,
     "solution": true,
     "task": false
    }
   },
   "outputs": [
    {
     "data": {
      "text/plain": [
       "val seuil_II_200_5000 : int = 61792\n"
      ]
     },
     "execution_count": 11,
     "metadata": {},
     "output_type": "execute_result"
    }
   ],
   "source": [
    "let seuil_II_200_5000 = seuil (tab_u u0_test 5000) 200;;"
   ]
  },
  {
   "cell_type": "markdown",
   "id": "56acbee0",
   "metadata": {
    "nbgrader": {
     "grade": false,
     "grade_id": "cell-f89c936b916d2175",
     "locked": true,
     "schema_version": 3,
     "solution": false,
     "task": false
    }
   },
   "source": [
    "# Partie III\n",
    "Le nombre d'employés $n$ étant particulièrement grand, on cherche à optimiser le calcul du $k$-ième meilleur chiffre de ventes.\n",
    "\n",
    "Pour cela, on procède comme suit : on choisit un employé $i$, et on place son chiffre de ventes $v = a_i$ à l'indice $l$ qu'il aurait dans le tableau si celui-ci était trié dans l'ordre décroissant, en réordonnant le tableau de sorte que $a_j > v$ si $j < l$ et $a_j \\leqslant v$ et $j>l$. Si l'indice $l$ correspond au $k$-ième élément du tableau, on a terminé, sinon, on recommence avec la partie à gauche ou à droite de $l$ dans le tableau."
   ]
  },
  {
   "cell_type": "markdown",
   "id": "cf856d62",
   "metadata": {
    "nbgrader": {
     "grade": false,
     "grade_id": "cell-f89c936b91",
     "locked": true,
     "schema_version": 3,
     "solution": false,
     "task": false
    }
   },
   "source": [
    "#### Question 9\n",
    "Soient $g$ et $d$ deux entiers tels que $0 \\leqslant g < d < n$ et soit $v = a_g$. Écrire une fonction ` partition : 'a array -> int -> int -> int` qui prend en argument le tableau des chiffres de ventes et les entiers $g$ et $d$ (dans cet ordre), qui réordonne le tableau en place entre les indices $g$ et $d$ compris de sorte que $a_j > v$ pour $g \\leqslant j < l$ et $a_j \\leqslant v$ pour $l < j \\leqslant d$, et qui renvoie l'indice $l$ de la valeur $v$ après modification du tableau.\n",
    "\n",
    "*Indication :* On procédera par des échanges ; on pourra laisser $v$ à l'indice $g$ jusqu'à avoir fini de parcourir la portion de tableau puis procéder à un dernier échange avec l'indice $l$."
   ]
  },
  {
   "cell_type": "code",
   "execution_count": 12,
   "id": "4ae8cbf1",
   "metadata": {
    "nbgrader": {
     "grade": true,
     "grade_id": "cell-d1edc2c045057cec",
     "locked": false,
     "points": 0,
     "schema_version": 3,
     "solution": true,
     "task": false
    }
   },
   "outputs": [
    {
     "data": {
      "text/plain": [
       "val partition : 'a array -> int -> int -> int = <fun>\n"
      ]
     },
     "execution_count": 12,
     "metadata": {},
     "output_type": "execute_result"
    }
   ],
   "source": [
    "let partition tab g d =\n",
    "  let v = tab.(g) in\n",
    "  let l = ref g in\n",
    "  for k = g+1 to d do\n",
    "    if tab.(k) > v\n",
    "    then (incr l ; echange tab k !l)\n",
    "  done;\n",
    "  echange tab g !l;\n",
    "  !l   \n",
    ";;"
   ]
  },
  {
   "cell_type": "markdown",
   "id": "b57e0100",
   "metadata": {
    "nbgrader": {
     "grade": false,
     "grade_id": "cell-648938168ab07daa",
     "locked": true,
     "schema_version": 3,
     "solution": false,
     "task": false
    }
   },
   "source": [
    "#### Question 10\n",
    "Calculer l'indice obtenu avec la fonction précédente pour $n = 5000$, $g = 1000$ et $d = 2000$."
   ]
  },
  {
   "cell_type": "code",
   "execution_count": 13,
   "id": "c31748df",
   "metadata": {
    "nbgrader": {
     "grade": true,
     "grade_id": "cell-49d0ec9da891b2f3",
     "locked": false,
     "points": 0,
     "schema_version": 3,
     "solution": true,
     "task": false
    }
   },
   "outputs": [
    {
     "data": {
      "text/plain": [
       "val indice_5000_1000_2000 : int = 1926\n"
      ]
     },
     "execution_count": 13,
     "metadata": {},
     "output_type": "execute_result"
    }
   ],
   "source": [
    "let indice_5000_1000_2000 = partition (tab_u u0_test 5000) 1000 2000;;"
   ]
  },
  {
   "cell_type": "markdown",
   "id": "e469e8d8",
   "metadata": {
    "nbgrader": {
     "grade": false,
     "grade_id": "cell-08d30feb02b36350",
     "locked": true,
     "schema_version": 3,
     "solution": false,
     "task": false
    }
   },
   "source": [
    "#### Question 11\n",
    "Écrire une fonction récursive ` seuil_rec : 'a array -> int -> int -> int -> 'a` qui prend en argument le tableau des chiffres de ventes, trois entiers $j$, $g$ et $d$ (dans cet ordre) tels que $0 \\leqslant g \\leqslant j \\leqslant d$ et qui renvoie l'élément qui serait à l'indice $j$ dans si la portion du tableau entre les indices $g$ et $d$ (inclus) était triée dans l'ordre décroissant. On pourra utiliser la fonction ` partition`."
   ]
  },
  {
   "cell_type": "code",
   "execution_count": 14,
   "id": "bcb54ed1",
   "metadata": {
    "nbgrader": {
     "grade": true,
     "grade_id": "cell-4cb42b7df2de9ba0",
     "locked": false,
     "points": 0,
     "schema_version": 3,
     "solution": true,
     "task": false
    }
   },
   "outputs": [
    {
     "data": {
      "text/plain": [
       "val seuil_rec : 'a array -> int -> int -> int -> 'a = <fun>\n"
      ]
     },
     "execution_count": 14,
     "metadata": {},
     "output_type": "execute_result"
    }
   ],
   "source": [
    "let rec seuil_rec tab j g d =\n",
    "  let l = partition tab g d in\n",
    "  if l = j\n",
    "  then tab.(l)\n",
    "  else\n",
    "    if l > j\n",
    "    then seuil_rec tab j g (l-1)\n",
    "    else seuil_rec tab j (l+1) d\n",
    ";;"
   ]
  },
  {
   "cell_type": "markdown",
   "id": "a2e7dbac",
   "metadata": {
    "nbgrader": {
     "grade": false,
     "grade_id": "cell-d87f243e9f13b489",
     "locked": true,
     "schema_version": 3,
     "solution": false,
     "task": false
    }
   },
   "source": [
    "#### Question 12\n",
    "En déduire une fonction `seuil_bis : 'a array -> int -> 'a` prenant en argument le tableau des chiffres de ventes et l'entier $k$ et renvoyant le $k$-ième plus grand élément du tableau."
   ]
  },
  {
   "cell_type": "code",
   "execution_count": 15,
   "id": "97295ea3",
   "metadata": {
    "nbgrader": {
     "grade": false,
     "grade_id": "cell-26c5f5e6d7fd51ad",
     "locked": false,
     "schema_version": 3,
     "solution": true,
     "task": false
    }
   },
   "outputs": [
    {
     "data": {
      "text/plain": [
       "val seuil_bis : 'a array -> int -> 'a = <fun>\n"
      ]
     },
     "execution_count": 15,
     "metadata": {},
     "output_type": "execute_result"
    }
   ],
   "source": [
    "let seuil_bis tab k =\n",
    "  seuil_rec tab (k-1) 0 (Array.length tab - 1)\n",
    ";;"
   ]
  },
  {
   "cell_type": "markdown",
   "id": "c3424655",
   "metadata": {
    "nbgrader": {
     "grade": false,
     "grade_id": "cell-0426885a362d0b0c",
     "locked": true,
     "schema_version": 3,
     "solution": false,
     "task": false
    }
   },
   "source": [
    "#### Question 13\n",
    "Calculer le seuil obtenu avec la fonction précédente :\n",
    "+ pour $k = 1000$ et $n=20000$ ;\n",
    "+ pour $k = 10000$ et $n=500000$."
   ]
  },
  {
   "cell_type": "code",
   "execution_count": 16,
   "id": "d61360d6",
   "metadata": {
    "nbgrader": {
     "grade": true,
     "grade_id": "cell-7ba0933deb63d1d4",
     "locked": false,
     "points": 0,
     "schema_version": 3,
     "solution": true,
     "task": false
    }
   },
   "outputs": [
    {
     "data": {
      "text/plain": [
       "val seuil_III_1000_20000 : int = 60826\n"
      ]
     },
     "execution_count": 16,
     "metadata": {},
     "output_type": "execute_result"
    },
    {
     "data": {
      "text/plain": [
       "val seuil_III_10000_500000 : int = 62725\n"
      ]
     },
     "execution_count": 16,
     "metadata": {},
     "output_type": "execute_result"
    }
   ],
   "source": [
    "let seuil_III_1000_20000 = seuil_bis (tab_u u0_test 20000) 1000;;\n",
    "let seuil_III_10000_500000 = seuil_bis (tab_u u0_test 500000) 10000;;\n",
    "(*BEGIN SOLUTION*)\n",
    "(*END SOLUTION*)"
   ]
  }
 ],
 "metadata": {
  "celltoolbar": "Create Assignment",
  "kernelspec": {
   "display_name": "OCaml default",
   "language": "OCaml",
   "name": "ocaml-jupyter"
  },
  "language_info": {
   "codemirror_mode": "text/x-ocaml",
   "file_extension": ".ml",
   "mimetype": "text/x-ocaml",
   "name": "OCaml",
   "nbconverter_exporter": null,
   "pygments_lexer": "OCaml",
   "version": "4.05.0"
  },
  "latex_envs": {
   "LaTeX_envs_menu_present": true,
   "autoclose": false,
   "autocomplete": true,
   "bibliofile": "biblio.bib",
   "cite_by": "apalike",
   "current_citInitial": 1,
   "eqLabelWithNumbers": true,
   "eqNumInitial": 1,
   "hotkeys": {
    "equation": "Ctrl-E",
    "itemize": "Ctrl-I"
   },
   "labels_anchors": false,
   "latex_user_defs": false,
   "report_style_numbering": false,
   "user_envs_cfg": false
  }
 },
 "nbformat": 4,
 "nbformat_minor": 5
}
