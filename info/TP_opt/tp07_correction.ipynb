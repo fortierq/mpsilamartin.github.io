{
 "cells": [
  {
   "cell_type": "markdown",
   "id": "6ae00a48",
   "metadata": {
    "nbgrader": {
     "checksum": "ee51fac13ddfaf67fe86b4ec76c25415",
     "grade": false,
     "grade_id": "cell-6600ea02327f1d95",
     "locked": true,
     "schema_version": 3,
     "solution": false,
     "task": false
    }
   },
   "source": [
    "# TP n°7 : Plus longue sous-séquence commune\n",
    "\n",
    "Soit $l=[l_0,\\dots,l_{n-1}]$ une liste. On appelle sous-séquence de la liste $l$ toute liste obtenue à partir de $l$ en supprimant éventuellement certains éléments et en laissant les autres dans l'ordre. Autrement dit, une sous-séquence de $l$ est une liste de la forme $[l_{\\varphi(0)};\\dots;l_{\\varphi(k-1)}]$ avec $0 \\leqslant \\varphi(0)<\\dots<\\varphi(k-1) \\leqslant n-1$.\n",
    "#### Question 1\n",
    "\n",
    "Écrire une fonction `est_sous_sequence` qui prend en argument deux listes $l_1$ et $l_2$ et qui teste si $l_1$ est une sous-séquence de $l_2$."
   ]
  },
  {
   "cell_type": "code",
   "execution_count": 1,
   "id": "81b85440",
   "metadata": {
    "nbgrader": {
     "checksum": "6c0eb4dd21d0e5e4b7787758be5e491e",
     "grade": true,
     "grade_id": "cell-a1fdb66be7570078",
     "locked": false,
     "points": 0,
     "schema_version": 3,
     "solution": true,
     "task": false
    }
   },
   "outputs": [
    {
     "data": {
      "text/plain": [
       "val est_sous_sequence : 'a list -> 'a list -> bool = <fun>\n"
      ]
     },
     "execution_count": 1,
     "metadata": {},
     "output_type": "execute_result"
    }
   ],
   "source": [
    "let rec est_sous_sequence l1 l2 =\n",
    "  match l1, l2 with\n",
    "  |[], _ -> true\n",
    "  | _, [] -> false\n",
    "  | t1::q1, t2::q2 ->\n",
    "     if t1 = t2\n",
    "     then est_sous_sequence q1 q2\n",
    "     else est_sous_sequence l1 q2            \n",
    ";;"
   ]
  },
  {
   "cell_type": "markdown",
   "id": "5c7446a2",
   "metadata": {
    "nbgrader": {
     "checksum": "985ef881219e30bb5d4e710b791e98b2",
     "grade": false,
     "grade_id": "cell-170dc6636d3b38d8",
     "locked": true,
     "schema_version": 3,
     "solution": false,
     "task": false
    }
   },
   "source": [
    "#### Question 2\n",
    "Soit $l$ une liste formée de $n$ éléments distincts. Combien existe-il de sous-séquences de $l$ ?"
   ]
  },
  {
   "cell_type": "markdown",
   "id": "c49b8683",
   "metadata": {
    "deletable": false,
    "nbgrader": {
     "checksum": "5dc2f83a3860b1cea6c717f289f3e938",
     "grade": true,
     "grade_id": "cell-9673833383816363",
     "locked": false,
     "points": 0,
     "schema_version": 3,
     "solution": true,
     "task": false
    }
   },
   "source": [
    "\n",
    "Il y en a $2^n$.\n"
   ]
  },
  {
   "cell_type": "markdown",
   "id": "bc43668c",
   "metadata": {
    "nbgrader": {
     "checksum": "6f4874667a897482905724af9f669893",
     "grade": false,
     "grade_id": "cell-4c2c6f86b6d7055a",
     "locked": true,
     "schema_version": 3,
     "solution": false,
     "task": false
    }
   },
   "source": [
    "#### Question 3\n",
    "Écrire une fonction récursive `sous_sequences`  prenant en argument une liste et renvoyant la liste de ses sous-séquences."
   ]
  },
  {
   "cell_type": "code",
   "execution_count": 2,
   "id": "761781e4",
   "metadata": {
    "nbgrader": {
     "checksum": "fb67a71f9f7fb4c7f7f625a88944d2a9",
     "grade": true,
     "grade_id": "cell-28fb1001db1cf9b2",
     "locked": false,
     "points": 0,
     "schema_version": 3,
     "solution": true,
     "task": false
    }
   },
   "outputs": [
    {
     "data": {
      "text/plain": [
       "val sous_sequences : 'a list -> 'a list list = <fun>\n"
      ]
     },
     "execution_count": 2,
     "metadata": {},
     "output_type": "execute_result"
    },
    {
     "data": {
      "text/plain": [
       "val sous_sequences : 'a list -> 'a list list = <fun>\n"
      ]
     },
     "execution_count": 2,
     "metadata": {},
     "output_type": "execute_result"
    }
   ],
   "source": [
    "let rec sous_sequences lst =\n",
    "  (* ajoute_ou_pas renvoie la liste de listes obtenue en ajoutant ou non x  à chaque liste de la liste de listes ll ; \n",
    "  la longueur de la liste est donc doublée *)\n",
    "  let rec ajoute_ou_pas x ll =\n",
    "    match ll with\n",
    "    | [] -> []\n",
    "    | lt::llq -> lt::(x::lt)::(ajoute_ou_pas x llq)\n",
    "  in\n",
    "  match lst with\n",
    "  | [] -> [[]]\n",
    "  | t::q ->\n",
    "     let ss_sq_q = sous_sequences q in\n",
    "     ajoute_ou_pas t ss_sq_q\n",
    ";;\n",
    "\n",
    "let rec sous_sequences lst =\n",
    "  match lst with\n",
    "  | [] -> [[]]\n",
    "  | t::q ->\n",
    "     let ss_sq_q = sous_sequences q in\n",
    "     ss_sq_q@(List.map (fun l -> t::l) ss_sq_q)\n",
    ";;"
   ]
  },
  {
   "cell_type": "markdown",
   "id": "b8e92eeb",
   "metadata": {
    "nbgrader": {
     "checksum": "f9da599ab15797d93f8116bc4daa3249",
     "grade": false,
     "grade_id": "cell-87d552a5ed7a96a2",
     "locked": true,
     "schema_version": 3,
     "solution": false,
     "task": false
    }
   },
   "source": [
    "Soient $x=[x_0,\\dots,x_{n-1}]$  et $y=[y_0,\\dots,y_{m-1}]$ deux listes formées d'éléments du même type. On cherche à déterminer la longueur maximale d'une sous-séquence commune à $x$ et $y$ et à trouver une sous-séquence commune de cette longueur. On parle alors de plus longue sous-séquence commune (attention, il n'y a pas forcément unicité : ne pas parler de *la* plus longue sous-séquence commune).\n",
    "\n",
    "Une première façon de résoudre le problème est de chercher toutes les sous-séquences communes afin de trouver l'une des plus longues.\n",
    "#### Question 4\n",
    "En utilisant les questions précédentes, écrire une fonction `plssc1` qui renvoie une plus longue sous-séquence commune de deux listes."
   ]
  },
  {
   "cell_type": "code",
   "execution_count": 3,
   "id": "b7831431",
   "metadata": {
    "nbgrader": {
     "checksum": "097474524e8e7c0798869e2c1ee11673",
     "grade": true,
     "grade_id": "cell-f10b2750c434b4e2",
     "locked": false,
     "points": 0,
     "schema_version": 3,
     "solution": true,
     "task": false
    }
   },
   "outputs": [
    {
     "ename": "error",
     "evalue": "compile_error",
     "output_type": "error",
     "traceback": [
      "\u001b[32mFile \"[3]\", line 10, characters 30-34:\n\u001b[31mError: Unbound value ssl2\nHint: Did you mean ssl1?\n\u001b[36m   9: \u001b[30m       let lgrt = List.length t in\n\u001b[36m  10: \u001b[30m       if est_sous_sequence t \u001b[4mssl2\u001b[0m\u001b[30m && lgr < lgrt\n\u001b[36m  11: \u001b[30m       then aux q lgrt t\u001b[0m\n"
     ]
    }
   ],
   "source": [
    "let plssc1 l1 l2 =\n",
    "  let ssl1 = sous_sequences l1 in\n",
    "  (* aux renvoie la plus longue sous-séquence commune entre plssc de longueur lgr et les sous-séquences de reste1 *)\n",
    "  let rec aux reste1 lgr plssc =\n",
    "    match reste1 with\n",
    "    | [] -> plssc\n",
    "    | t::q ->\n",
    "       (* Est-ce que t est une ss de l2 ?*)\n",
    "       let lgrt = List.length t in\n",
    "       if est_sous_sequence t ssl2 && lgr < lgrt\n",
    "       then aux q lgrt t\n",
    "       else aux q lgr plssc\n",
    "  in\n",
    "  aux ssl1 0 []\n",
    ";;"
   ]
  },
  {
   "cell_type": "markdown",
   "id": "fa872cd3",
   "metadata": {
    "deletable": false
   },
   "source": [
    "Cet algorithme est en temps exponentiel donc plutôt mauvais. On va essayer de concevoir un algorithme plus rapide.\n",
    "\n",
    "On note $L(i,j)$ la longueur d'une plus longue sous-séquence commune de $[x_0,\\dots,x_{i-1}]$ et $[y_0,\\dots,y_{j-1}]$.\n",
    "\n",
    "#### Question 5\n",
    "Montrer les relations suivantes :\n",
    "\n",
    "- $\\forall i \\in  ⟦0,n⟧, L(i,0)=0$ et $\\forall j \\in ⟦0,m⟧, L(0,j)=0$\n",
    "- Si $i>0$ et $j>0$, alors \n",
    "$\\displaystyle L(i,j) = \\left\\lbrace \\begin{array}{ll} 1+L(i-1,j-1) & \\text{ si } x_{i-1}=y_{j-1} \\\\\n",
    "\t\\max \\left( L(i-1,j) , L(i,j-1) \\right) & \\text{ sinon} \\end{array}\\right.$\n",
    "\n",
    "#### Question 6\n",
    "En déduire une fonction récursive `lplssc1` qui calcule la longueur d'une plus longue sous-séquence commune de deux listes. <br/>\n",
    "\t*On pourra remarquer que la longueur d'une plus longue sous-séquence commune de deux listes est égale à la longueur d'une plus longue sous-séquence commune des miroirs des deux listes.*"
   ]
  },
  {
   "cell_type": "code",
   "execution_count": 4,
   "id": "062e3ba7",
   "metadata": {
    "nbgrader": {
     "checksum": "acc66ba8d683efea4bfd1f971e04d99f",
     "grade": true,
     "grade_id": "cell-35cdc98eef4c3bf2",
     "locked": false,
     "points": 0,
     "schema_version": 3,
     "solution": true,
     "task": false
    }
   },
   "outputs": [
    {
     "data": {
      "text/plain": [
       "val lplssc1 : 'a list -> 'a list -> int = <fun>\n"
      ]
     },
     "execution_count": 4,
     "metadata": {},
     "output_type": "execute_result"
    }
   ],
   "source": [
    "let rec lplssc1 l1 l2 =\n",
    "  match l1, l2 with\n",
    "  | [], _ -> 0\n",
    "  | _, [] -> 0\n",
    "  | t1::q1, t2::q2 ->\n",
    "     if t1 = t2\n",
    "     then 1 + lplssc1 q1 q2\n",
    "     else max (lplssc1 l1 q2) (lplssc1 q1 l2)\n",
    ";;"
   ]
  },
  {
   "cell_type": "markdown",
   "id": "9c46ca7a",
   "metadata": {
    "nbgrader": {
     "checksum": "c69e61ed8d43a9a0b4a3f6313b8d9ae8",
     "grade": false,
     "grade_id": "cell-a9445ab08ae69c45",
     "locked": true,
     "schema_version": 3,
     "solution": false,
     "task": false
    }
   },
   "source": [
    "On pourra montrer que le nombre d'appels récursifs dans le pire des cas effectués par cette fonction peut être minoré par une exponentielle en $\\min (n,m)$.\n",
    "#### Question 7\n",
    "Lorsque $n=m=3$, combien de fois calcule-t-on $L(1,0)$ dans le pire des cas ?"
   ]
  },
  {
   "cell_type": "markdown",
   "id": "6d4da419",
   "metadata": {
    "deletable": false,
    "nbgrader": {
     "checksum": "93a9b2277ba4942fb422f18df59c1ab2",
     "grade": true,
     "grade_id": "cell-2e3e164cebad4f94",
     "locked": false,
     "points": 0,
     "schema_version": 3,
     "solution": true,
     "task": false
    }
   },
   "source": [
    "\n",
    "Dans le pire des cas, $L(3,3)$ nécessite :\n",
    "- le calcul de $L(2, 3)$, qui nécessite\n",
    "    - le calcul de $L(1,2)$, qui nécessite un appel à $L(0,1)$ et un appel à $L(1,1)$ qui lui-même appelle $L(0,1)$ et $L(1,0) $;\n",
    "    - le calcul de $L(2,2)$ qui nécessite un appel à $L(1,2)$, pour lequel on calcule une fois $L(1,0)$, et un appel à $L(2,1)$ qui lui-même appelle $L(1,1)$ (pour lequel on calcule une fois $L(1,0)$) et un appel à $L(2,0)$.\n",
    "- le calcul de $L(3,2)$ qui nécessite :\n",
    "    - celui de $L(2,2)$, pour lequel on calcule deux fois $L(1,0)$\n",
    "    - celui de $L(3,1)$, qui appelle $L(2,1)$ (pour lequel on calcule une fois $L(1,0)$) et $L(3,0)$.\n",
    "    \n",
    "Finalement, dans le pire des cas, $L(1,0)$ est calculé six fois lorsqu'on calcule $L(3,3)$.\n"
   ]
  },
  {
   "cell_type": "markdown",
   "id": "236081f1",
   "metadata": {
    "nbgrader": {
     "checksum": "20dae74c6b9113012ff6be944decd60c",
     "grade": false,
     "grade_id": "cell-4ed9aac369894716",
     "locked": true,
     "schema_version": 3,
     "solution": false,
     "task": false
    }
   },
   "source": [
    "De nombreuses valeurs sont calculées plusieurs fois. Pour éviter cela, on conçoit un algorithme de programmation dynamique pour le calcul des $L(i,j)$, en stockant leurs valeurs dans une matrice. \n",
    "\n",
    "Dans cette partie, on pourra convertir les listes en tableaux à l'aide de la fonction `Array.of_list`\n",
    "\n",
    "#### Question 8\n",
    "Indiquer dans quel ordre remplir la matrice. Une fois cette matrice calculée, comment déterminer la longueur d'une plus longue sous-séquence commune ?"
   ]
  },
  {
   "cell_type": "markdown",
   "id": "8db14256",
   "metadata": {
    "nbgrader": {
     "checksum": "a43e35d6a0f33a711410d58ebd126342",
     "grade": true,
     "grade_id": "cell-c1266d7f248200c0",
     "locked": false,
     "points": 0,
     "schema_version": 3,
     "solution": true,
     "task": false
    }
   },
   "source": [
    "\n",
    "On peut remplir la matrice par $i$ croissant puis $j$ croissant ou inversement.\n",
    "La longueur d'une plus longue sous-séquence commune est alors égale au coefficient $(n,m)$.\n"
   ]
  },
  {
   "cell_type": "markdown",
   "id": "52b9a1ab",
   "metadata": {
    "nbgrader": {
     "checksum": "b28bc0c00789c06f711efd195c90886d",
     "grade": false,
     "grade_id": "cell-82df41016bf0b26c",
     "locked": true,
     "schema_version": 3,
     "solution": false,
     "task": false
    }
   },
   "source": [
    "#### Question 9\n",
    "Écrire une fonction `lplssc2` qui calcule la longueur d'une plus longue sous-séquence commune de deux listes en implémentant cette méthode. Quelle est sa complexité ?\n",
    "\n",
    "*Pour créer la matrice, on utilisera la fonction `Array.make_matrix`*"
   ]
  },
  {
   "cell_type": "code",
   "execution_count": 5,
   "id": "c63f8e46",
   "metadata": {
    "nbgrader": {
     "checksum": "41a52f4712e842dffa8a5668367ef275",
     "grade": true,
     "grade_id": "cell-dcdb629d1aff4f87",
     "locked": false,
     "points": 0,
     "schema_version": 3,
     "solution": true,
     "task": false
    }
   },
   "outputs": [
    {
     "data": {
      "text/plain": [
       "val lplssc2 : 'a list -> 'a list -> int = <fun>\n"
      ]
     },
     "execution_count": 5,
     "metadata": {},
     "output_type": "execute_result"
    }
   ],
   "source": [
    "let lplssc2 l1 l2 =\n",
    "  let t1 = Array.of_list l1 in\n",
    "  let t2 = Array.of_list l2 in\n",
    "  let len1 = Array.length t1 in\n",
    "  let len2 = Array.length t2 in  \n",
    "  let mat_L = Array.make_matrix (len1 + 1) (len2 + 1) 0 in\n",
    "  for i = 1 to len1 do\n",
    "    for j = 1 to len2 do\n",
    "      if t1.(i-1) = t2.(j-1)\n",
    "      then\n",
    "        mat_L.(i).(j) <- 1 + mat_L.(i-1).(j-1)\n",
    "      else\n",
    "        mat_L.(i).(j) <- max mat_L.(i-1).(j) mat_L.(i).(j-1)\n",
    "    done\n",
    "  done;\n",
    "  mat_L.(len1).(len2)\n",
    ";;"
   ]
  },
  {
   "cell_type": "markdown",
   "id": "905d5d21",
   "metadata": {
    "nbgrader": {
     "checksum": "98944be77351c5ad43cd6c9be4b55c27",
     "grade": false,
     "grade_id": "cell-513e5ce09e6bf190",
     "locked": true,
     "schema_version": 3,
     "solution": false,
     "task": false
    }
   },
   "source": [
    "#### Question 10\n",
    "Comment retrouver une plus longue sous-séquence commune à partir de la matrice des $L(i,j)$ ? "
   ]
  },
  {
   "cell_type": "markdown",
   "id": "dde3aa4b",
   "metadata": {
    "nbgrader": {
     "checksum": "093ce0ad14cfe5b8b8b3385e3070e209",
     "grade": true,
     "grade_id": "cell-ee6b5a5121eec078",
     "locked": false,
     "points": 0,
     "schema_version": 3,
     "solution": true,
     "task": false
    }
   },
   "source": [
    "\n",
    "\n"
   ]
  },
  {
   "cell_type": "markdown",
   "id": "81c310a6",
   "metadata": {
    "deletable": false,
    "editable": false,
    "nbgrader": {
     "checksum": "a8d57f8aaea15d13eab45726f34ff9f6",
     "grade": false,
     "grade_id": "cell-e80322db4bf14fc1",
     "locked": true,
     "schema_version": 3,
     "solution": false,
     "task": false
    }
   },
   "source": [
    "#### Question 11\n",
    "Écrire une fonction `plssc2` qui calcule une plus longue sous-séquence commune."
   ]
  },
  {
   "cell_type": "code",
   "execution_count": 6,
   "id": "da44640f",
   "metadata": {
    "nbgrader": {
     "checksum": "0e73d17c62afda77400c729652fa28b0",
     "grade": true,
     "grade_id": "cell-84704e1f9a0dff51",
     "locked": false,
     "points": 0,
     "schema_version": 3,
     "solution": true,
     "task": false
    }
   },
   "outputs": [
    {
     "data": {
      "text/plain": [
       "val plssc2 : 'a list -> 'a list -> 'a list = <fun>\n"
      ]
     },
     "execution_count": 6,
     "metadata": {},
     "output_type": "execute_result"
    }
   ],
   "source": [
    "let plssc2 l1 l2 =\n",
    "  let t1 = Array.of_list l1 in\n",
    "  let t2 = Array.of_list l2 in\n",
    "  let len1 = Array.length t1 in\n",
    "  let len2 = Array.length t2 in  \n",
    "  let mat_L = Array.make_matrix\n",
    "        (len1 + 1)\n",
    "        (len2 + 1)\n",
    "        0 in\n",
    "  for i = 1 to len1 do\n",
    "    for j = 1 to len2 do\n",
    "      if t1.(i-1) = t2.(j-1)\n",
    "      then\n",
    "    mat_L.(i).(j) <- 1 + mat_L.(i-1).(j-1)\n",
    "      else\n",
    "    mat_L.(i).(j) <- max mat_L.(i-1).(j) mat_L.(i).(j-1)           \n",
    "    done\n",
    "  done;\n",
    "  let rec reconstruit i j fin =\n",
    "    match mat_L.(i).(j) with\n",
    "    | 0 -> fin\n",
    "    | _ ->\n",
    "       if t1.(i-1) = t2.(j-1)\n",
    "       then reconstruit (i-1) (j-1) (t1.(i-1)::fin)\n",
    "       else\n",
    "     if mat_L.(i).(j) =  mat_L.(i-1).(j)\n",
    "     then reconstruit (i-1) j fin\n",
    "     else reconstruit i (j-1) fin\n",
    "  in\n",
    "  reconstruit len1 len2 []         \n",
    ";;"
   ]
  },
  {
   "cell_type": "code",
   "execution_count": 7,
   "id": "f09df81c",
   "metadata": {},
   "outputs": [
    {
     "data": {
      "text/plain": [
       "- : int list = [2; 42; 5]\n"
      ]
     },
     "execution_count": 7,
     "metadata": {},
     "output_type": "execute_result"
    }
   ],
   "source": [
    "plssc2 [1;2;3;42;4;5;6] [2;4;42;6;8;5]"
   ]
  },
  {
   "cell_type": "markdown",
   "id": "8bc7b2fb",
   "metadata": {
    "nbgrader": {
     "checksum": "ac0f95f5e11f2bfcd76037afaf8972db",
     "grade": false,
     "grade_id": "cell-ef030af3753f9367",
     "locked": true,
     "schema_version": 3,
     "solution": false,
     "task": false
    }
   },
   "source": [
    "#### Question 12\n",
    "L'adapter pour qu'elle donne toutes les plus longue sous-séquence commune."
   ]
  },
  {
   "cell_type": "code",
   "execution_count": 8,
   "id": "05eaf8bd",
   "metadata": {
    "nbgrader": {
     "checksum": "e15812620f9614a55b7573816fabcd6f",
     "grade": true,
     "grade_id": "cell-fa8c1a00cfa45a21",
     "locked": false,
     "points": 0,
     "schema_version": 3,
     "solution": true,
     "task": false
    }
   },
   "outputs": [
    {
     "data": {
      "text/plain": [
       "val toutes_les_plssc : 'a list -> 'a list -> 'a list list = <fun>\n"
      ]
     },
     "execution_count": 8,
     "metadata": {},
     "output_type": "execute_result"
    }
   ],
   "source": [
    "let toutes_les_plssc l1 l2 =\n",
    "  let t1 = Array.of_list l1 in\n",
    "  let t2 = Array.of_list l2 in\n",
    "  let len1 = Array.length t1 in\n",
    "  let len2 = Array.length t2 in  \n",
    "  let mat_L = Array.make_matrix\n",
    "        (len1 + 1)\n",
    "        (len2 + 1)\n",
    "        0 in\n",
    "  for i = 1 to len1 do\n",
    "    for j = 1 to len2 do\n",
    "      if t1.(i-1) = t2.(j-1)\n",
    "      then\n",
    "    mat_L.(i).(j) <- 1 + mat_L.(i-1).(j-1)\n",
    "      else\n",
    "    mat_L.(i).(j) <- max mat_L.(i-1).(j) mat_L.(i).(j-1)           \n",
    "    done\n",
    "  done;\n",
    "  (* La fonction suivante prend en argument :\n",
    "      - les entiers i et j correspondant à la position courante dans la matrice\n",
    "      - le suffixe des plssc en cours de construction\n",
    "      - une référence sur une liste qui contient les plssc déjà trouvées\n",
    "      - un booléen indiquant s'il est autorisé de se déplacer à gauche : \n",
    "        pour éviter les doublons, si on se déplace vers le haut, on ne se déplacera \n",
    "        pas à gauche tant qu'un élément de la plssc n'aura pas été trouvé\n",
    "    Cette fonction agit par effet de bord, en ajoutant des éléments à la référence liste\n",
    "  *)\n",
    "  let rec reconstruit i j fin liste gauche =\n",
    "    match mat_L.(i).(j) with\n",
    "    | 0 -> liste := fin::!liste\n",
    "    | _ ->\n",
    "       if t1.(i-1) = t2.(j-1)\n",
    "       then reconstruit (i-1) (j-1) (t1.(i-1)::fin) liste true;\n",
    "       if mat_L.(i).(j) =  mat_L.(i-1).(j)\n",
    "       then reconstruit (i-1) j fin liste false;\n",
    "       if gauche && mat_L.(i).(j) =  mat_L.(i).(j-1)\n",
    "       then reconstruit i (j-1) fin liste true\n",
    "  in\n",
    "  let liste_ssc = ref [] in\n",
    "  reconstruit len1 len2 [] liste_ssc true;\n",
    "  !liste_ssc\n",
    ";;"
   ]
  },
  {
   "cell_type": "code",
   "execution_count": 9,
   "id": "67c222e5",
   "metadata": {},
   "outputs": [
    {
     "data": {
      "text/plain": [
       "- : int list list = [[2; 4; 6]; [2; 42; 6]; [2; 4; 5]; [2; 42; 5]]\n"
      ]
     },
     "execution_count": 9,
     "metadata": {},
     "output_type": "execute_result"
    }
   ],
   "source": [
    "toutes_les_plssc [1;2;3;42;4;5;6] [2;4;42;6;8;5]"
   ]
  }
 ],
 "metadata": {
  "celltoolbar": "Éditer les Méta-Données",
  "kernelspec": {
   "display_name": "OCaml default",
   "language": "OCaml",
   "name": "ocaml-jupyter"
  },
  "language_info": {
   "codemirror_mode": "text/x-ocaml",
   "file_extension": ".ml",
   "mimetype": "text/x-ocaml",
   "name": "OCaml",
   "nbconverter_exporter": null,
   "pygments_lexer": "OCaml",
   "version": "4.05.0"
  },
  "latex_envs": {
   "LaTeX_envs_menu_present": true,
   "autoclose": false,
   "autocomplete": true,
   "bibliofile": "biblio.bib",
   "cite_by": "apalike",
   "current_citInitial": 1,
   "eqLabelWithNumbers": true,
   "eqNumInitial": 1,
   "hotkeys": {
    "equation": "Ctrl-E",
    "itemize": "Ctrl-I"
   },
   "labels_anchors": false,
   "latex_user_defs": true,
   "report_style_numbering": false,
   "user_envs_cfg": false
  }
 },
 "nbformat": 4,
 "nbformat_minor": 5
}
