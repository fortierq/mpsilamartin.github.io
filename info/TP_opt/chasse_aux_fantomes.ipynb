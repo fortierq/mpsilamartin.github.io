{
 "cells": [
  {
   "cell_type": "markdown",
   "id": "d58dd723",
   "metadata": {
    "deletable": false,
    "editable": false,
    "nbgrader": {
     "cell_type": "markdown",
     "checksum": "fda3af6ab425d1555a59da736c7937be",
     "grade": false,
     "grade_id": "cell-6740a69c02d54fd8",
     "locked": true,
     "schema_version": 3,
     "solution": false,
     "task": false
    }
   },
   "source": [
    "Vous pouvez rendre ce travail *si vous le souhaitez*, sur papier ou en déposant votre fichier `.ipynb` dans votre dossier `Depot_fichiers` sur [cloud.maths.mlong.fr](https://cloud.maths.mlong.fr).\n",
    "\n",
    "____________"
   ]
  },
  {
   "cell_type": "markdown",
   "id": "7d6da25c",
   "metadata": {
    "deletable": false,
    "editable": false,
    "nbgrader": {
     "cell_type": "markdown",
     "checksum": "cac8643a6804350078bed44689e5387e",
     "grade": false,
     "grade_id": "cell-1ee5a11eb3a71870",
     "locked": true,
     "schema_version": 3,
     "solution": false,
     "task": false
    }
   },
   "source": [
    "# La chasse aux fantômes"
   ]
  },
  {
   "cell_type": "markdown",
   "id": "0089d8d7",
   "metadata": {
    "deletable": false,
    "editable": false,
    "nbgrader": {
     "cell_type": "markdown",
     "checksum": "616284a5b9981b46396f76e120be9aa2",
     "grade": false,
     "grade_id": "cell-30dc4a89a44ce62e",
     "locked": true,
     "schema_version": 3,
     "solution": false,
     "task": false
    }
   },
   "source": [
    "Un groupe de $n$ chasseurs de fantômes combat un groupe de $n$ fantômes. Chaque chasseur est armé d'un canon à ions, capable d'éradiquer un fantôme d'un coup de rayon. Un rayon se propage en ligne droite et termine sa course en touchant le fantôme.\n",
    "\n",
    "Les chasseurs sont confrontés à deux problèmes : il est nécessaire d'éliminer tous les fantômes en même temps, sinon ils se multiplient pour revenir au nombre initial de $n$ fantômes ; il est très dangereux que deux rayons se croisent, cela ne doit donc pas se produire. Le combat se déroule dans une grotte cylindrique creuse, dont la base est un disque. Les déplacements (chasseurs et fantômes) ne sont possibles que sur un rebord confondu avec la circonférence, mais les tirs se font entre deux points de la circonférence, selon des cordes du cercle."
   ]
  },
  {
   "cell_type": "markdown",
   "id": "a9457ef2",
   "metadata": {
    "deletable": false,
    "editable": false,
    "nbgrader": {
     "cell_type": "markdown",
     "checksum": "6fb3776e612ccf0b454a9d41a05b7223",
     "grade": false,
     "grade_id": "cell-17d9efbdccb2cc35",
     "locked": true,
     "schema_version": 3,
     "solution": false,
     "task": false
    }
   },
   "source": [
    "## Partie A"
   ]
  },
  {
   "cell_type": "markdown",
   "id": "762f86c2",
   "metadata": {
    "deletable": false,
    "editable": false,
    "nbgrader": {
     "cell_type": "markdown",
     "checksum": "7b544504274c3785fda3431b0f11af1e",
     "grade": false,
     "grade_id": "cell-ce444aedcf9764d3",
     "locked": true,
     "schema_version": 3,
     "solution": false,
     "task": false
    }
   },
   "source": [
    "Les $2n$ protagonistes sont représentés par des points distincts $P_1, P_2, ..., P_{2n}$ répartis dans l'ordre des indices croissants sur la circonférence d'un cercle parcouru dans le sens trigonométrique ; $n$ sont des chasseurs, $n$ des fantômes, mais, dans cette section A, on cherche les liens possibles entre les $P_i$ sans s'occuper de qui est chasseur et qui est fantôme. Les points doivent être reliés deux à deux par une\n",
    "corde du cercle selon une stratégie gagnante pour les chasseurs. Pour cela, il faut donc respecter les deux conditions :\n",
    "\n",
    "- chaque point est une extrémité d'une et une seule corde,\n",
    "- les différentes cordes ne doivent pas se couper."
   ]
  },
  {
   "cell_type": "markdown",
   "id": "ed6bd824",
   "metadata": {
    "deletable": false,
    "editable": false,
    "nbgrader": {
     "cell_type": "markdown",
     "checksum": "272035656dc40541c8d828d441be20ba",
     "grade": false,
     "grade_id": "cell-de7c060b015dc964",
     "locked": true,
     "schema_version": 3,
     "solution": false,
     "task": false
    }
   },
   "source": [
    "Dans toute la suite on fixe un entier $n > 0$ et on appelle stratégie de taille $n$ un\n",
    "vecteur $(c[1], c[2], . . . , c[2n])$, tel que pour tout entier i vérifiant $1 \\leqslant i \\leqslant 2n$ on ait :\n",
    "$$ 1 \\leqslant c[i] \\leqslant 2n, \\qquad c\\left[ c[i] \\right] = i, \\qquad c[i] \\neq i$$\n",
    "Cette notation exprime bien le lien entre les points $P_i$ et $P_j$ lorsque $j = c[i]$."
   ]
  },
  {
   "cell_type": "markdown",
   "id": "b440fbc2",
   "metadata": {
    "deletable": false,
    "editable": false,
    "nbgrader": {
     "cell_type": "markdown",
     "checksum": "a11a2e0e9285f426a42861418488af3d",
     "grade": false,
     "grade_id": "cell-c91cf0307eef956b",
     "locked": true,
     "schema_version": 3,
     "solution": false,
     "task": false
    }
   },
   "source": [
    "En OCaml, on représente le vecteur avec le type `array`. On peut utiliser\n",
    "la fonction `Array.make`. Les éléments des vecteurs en OCaml sont numérotés de $0$ à\n",
    "$N-1$. On prendra des vecteurs de taille $2n+1$, dont le premier élément ne sera pas\n",
    "utilisé, pour que les points soient bien aux indices $1$ à $2n$ dans le vecteur Caml."
   ]
  },
  {
   "cell_type": "markdown",
   "id": "b776c343",
   "metadata": {
    "deletable": false,
    "editable": false,
    "nbgrader": {
     "cell_type": "markdown",
     "checksum": "4d76e360f10e3a641e3e6b5bacd9448b",
     "grade": false,
     "grade_id": "cell-8697460c5f1b7e95",
     "locked": true,
     "schema_version": 3,
     "solution": false,
     "task": false
    }
   },
   "source": [
    "On considère des stratégies où les points d'une paire sont reliés par des segments\n",
    "de droites **situés dans un même plan**. Une stratégie est dite *admissible* si les\n",
    "segments ainsi formés ne se coupent pas. On admet que cette propriété ne dépend\n",
    "pas de la position des points sur la circonférence mais seulement de la stratégie."
   ]
  },
  {
   "cell_type": "markdown",
   "id": "63b33f31",
   "metadata": {
    "deletable": false,
    "editable": false,
    "nbgrader": {
     "cell_type": "markdown",
     "checksum": "286cd8b0efa45bf14beec5d009fa10f1",
     "grade": false,
     "grade_id": "cell-18e678fe852b64f9",
     "locked": true,
     "schema_version": 3,
     "solution": false,
     "task": false
    }
   },
   "source": [
    "Par exemple, pour les stratégies de taille 4, $c_1$ et $c_2$ ci-dessous :\n",
    "\n",
    "|$\\ $|$1$|$2$|$3$|$4$|$5$|$6$|$7$|$8$|\n",
    "|--|--|--|--|--|--|--|--|--|\n",
    "|$c_1$ |$2$|$1$|$6$|$5$|$4$|$3$|$8$|$7$|\n",
    "|$c_2$|$2$|$1$|$7$|$5$|$4$|$8$|$3$|$6$|\n",
    "\n",
    "La figure de gauche correspond à $c_1$ qui est donc admissible, et celle de droite à $c_2$ qui, elle, ne l'est pas."
   ]
  },
  {
   "cell_type": "markdown",
   "id": "5daa4fa2",
   "metadata": {
    "deletable": false,
    "editable": false,
    "nbgrader": {
     "cell_type": "markdown",
     "checksum": "5a2e7099c3f228d3aaff28a07a9e308c",
     "grade": false,
     "grade_id": "cell-9a0c02dbbc9efd4f",
     "locked": true,
     "schema_version": 3,
     "solution": false,
     "task": false
    }
   },
   "source": [
    "<img src=\"data:image/png;base64,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\" width=600/>"
   ]
  },
  {
   "cell_type": "markdown",
   "id": "cbc74f73",
   "metadata": {
    "deletable": false,
    "editable": false,
    "nbgrader": {
     "cell_type": "markdown",
     "checksum": "cc6942f0901da210dbb348f54df055ed",
     "grade": false,
     "grade_id": "cell-cc78de035ecdd7e2",
     "locked": true,
     "schema_version": 3,
     "solution": false,
     "task": false
    }
   },
   "source": [
    "<font size=\"5\">👨‍💻</font> Dans le cas $n = 3$, donner le nombre de stratégies possibles, admissibles ou\n",
    "non."
   ]
  },
  {
   "cell_type": "markdown",
   "id": "c0271ec6",
   "metadata": {
    "deletable": false,
    "nbgrader": {
     "cell_type": "markdown",
     "checksum": "4cb3cdec003033af5b1df357248758d6",
     "grade": true,
     "grade_id": "cell-2da43b9f9a9b88b4",
     "locked": false,
     "points": 0,
     "schema_version": 3,
     "solution": true,
     "task": false
    }
   },
   "source": [
    "✍️ *Votre réponse*"
   ]
  },
  {
   "cell_type": "markdown",
   "id": "24893f46",
   "metadata": {
    "deletable": false,
    "editable": false,
    "nbgrader": {
     "cell_type": "markdown",
     "checksum": "2b4cf434165597a01de0d6aed9770c74",
     "grade": false,
     "grade_id": "cell-25a19aeb588c2c6b",
     "locked": true,
     "schema_version": 3,
     "solution": false,
     "task": false
    }
   },
   "source": [
    "<font size=\"5\">👩🏽‍💻</font> Préciser le nombre de stratégies de taille 3 qui sont admissibles. Les représenter\n",
    "sur une figure au brouillon puis sous forme de tableau."
   ]
  },
  {
   "cell_type": "markdown",
   "id": "40566d7d",
   "metadata": {
    "deletable": false,
    "nbgrader": {
     "cell_type": "markdown",
     "checksum": "78d7065216ad98e10b904b14cdb0fb8b",
     "grade": true,
     "grade_id": "cell-73d409ebf8f91e39",
     "locked": false,
     "points": 0,
     "schema_version": 3,
     "solution": true,
     "task": false
    }
   },
   "source": [
    "✍️ *Votre réponse*"
   ]
  },
  {
   "cell_type": "markdown",
   "id": "94277f2d",
   "metadata": {
    "deletable": false,
    "editable": false,
    "nbgrader": {
     "cell_type": "markdown",
     "checksum": "e7832e896b9954c59e7a354a63ba8b03",
     "grade": false,
     "grade_id": "cell-c36980445c714205",
     "locked": true,
     "schema_version": 3,
     "solution": false,
     "task": false
    }
   },
   "source": [
    "<font size=\"5\">👨🏾‍💻</font> Déterminer le nombre de stratégies de taille $n$ entier positif (qu'elles soient\n",
    "ou non admissibles)."
   ]
  },
  {
   "cell_type": "markdown",
   "id": "eabbd0dc",
   "metadata": {
    "deletable": false,
    "nbgrader": {
     "cell_type": "markdown",
     "checksum": "61f793ce0e04c4333d43ced532585c17",
     "grade": true,
     "grade_id": "cell-e1d5a8b61b57df37",
     "locked": false,
     "points": 0,
     "schema_version": 3,
     "solution": true,
     "task": false
    }
   },
   "source": [
    "✍️ *Votre réponse*"
   ]
  },
  {
   "cell_type": "markdown",
   "id": "690040e9",
   "metadata": {
    "deletable": false,
    "editable": false,
    "nbgrader": {
     "cell_type": "markdown",
     "checksum": "1c3402b359615eb426f84926215f14e5",
     "grade": false,
     "grade_id": "cell-0fb124b521df8409",
     "locked": true,
     "schema_version": 3,
     "solution": false,
     "task": false
    }
   },
   "source": [
    "## Partie B"
   ]
  },
  {
   "cell_type": "markdown",
   "id": "4aabfe2a",
   "metadata": {
    "deletable": false,
    "editable": false,
    "nbgrader": {
     "cell_type": "markdown",
     "checksum": "c9f19a0e419dc14f6e0f2eee8e09824b",
     "grade": false,
     "grade_id": "cell-f01c9f43d84aa5af",
     "locked": true,
     "schema_version": 3,
     "solution": false,
     "task": false
    }
   },
   "source": [
    "Soit $i, j, k, l$ quatre entiers distincts tels que : $1 \\leqslant i < j \\leqslant 2n$ et $1 \\leqslant k < l \\leqslant 2n$\n",
    "\n",
    "\n",
    "<font size=\"5\">👩🏻‍💻</font> Donner une condition nécessaire et suffisante, portant uniquement sur ces\n",
    "entiers, pour que les segments $[P_iP_j]$ et $[P_kP_l]$ se croisent."
   ]
  },
  {
   "cell_type": "markdown",
   "id": "8649d86a",
   "metadata": {
    "deletable": false,
    "nbgrader": {
     "cell_type": "markdown",
     "checksum": "a09915605411ff3039aa137bc8bd6510",
     "grade": true,
     "grade_id": "cell-0a4a9fd553652485",
     "locked": false,
     "points": 0,
     "schema_version": 3,
     "solution": true,
     "task": false
    }
   },
   "source": [
    "✍️ *Votre réponse*"
   ]
  },
  {
   "cell_type": "markdown",
   "id": "dcf23499",
   "metadata": {
    "deletable": false,
    "editable": false,
    "nbgrader": {
     "cell_type": "markdown",
     "checksum": "6f0bb180c62e593484ee8b6f724e3ab1",
     "grade": false,
     "grade_id": "cell-37118e5fddae6e2b",
     "locked": true,
     "schema_version": 3,
     "solution": false,
     "task": false
    }
   },
   "source": [
    "<font size=\"5\">👨🏽‍💻</font>\n",
    "Écrire une fonction `croise` prenant les quatre entiers pour paramètres et\n",
    "renvoyant un booléen dont le résultat est `true` si et seulement si les segments $[P_iP_j]$\n",
    "et $[P_kP_l]$ se croisent. On suppose que les paramètres donnés à la fonction satisfont\n",
    "les conditions données en introduction du B."
   ]
  },
  {
   "cell_type": "code",
   "execution_count": null,
   "id": "938d6c20",
   "metadata": {
    "deletable": false,
    "nbgrader": {
     "cell_type": "code",
     "checksum": "2908b5be6f759ce5b9837db2b78496b2",
     "grade": true,
     "grade_id": "cell-dd032f015a59e8da",
     "locked": false,
     "points": 0,
     "schema_version": 3,
     "solution": true,
     "task": false
    }
   },
   "outputs": [],
   "source": [
    "(*À remplacer par votre code*)\n",
    "failwith \"Code manquant\""
   ]
  },
  {
   "cell_type": "markdown",
   "id": "25900eb2",
   "metadata": {
    "deletable": false,
    "editable": false,
    "nbgrader": {
     "cell_type": "markdown",
     "checksum": "732344e03fb2cb5eb8939b1642713ad1",
     "grade": false,
     "grade_id": "cell-ca8d8d167a32a18d",
     "locked": true,
     "schema_version": 3,
     "solution": false,
     "task": false
    }
   },
   "source": [
    "<font size=\"5\">👩🏼‍💻</font>\n",
    "En utilisant la fonction `croise`, écrire une fonction `estAdmissible` qui\n",
    "prend en paramètre le vecteur et renvoie un booléen dont le résultat est `true` si la stratégie est admissible."
   ]
  },
  {
   "cell_type": "code",
   "execution_count": null,
   "id": "107e2402",
   "metadata": {
    "deletable": false,
    "nbgrader": {
     "cell_type": "code",
     "checksum": "d5d75b5007fa1252dbe42c05518d6a3e",
     "grade": true,
     "grade_id": "cell-918331076615f027",
     "locked": false,
     "points": 0,
     "schema_version": 3,
     "solution": true,
     "task": false
    }
   },
   "outputs": [],
   "source": [
    "(*À remplacer par votre code*)\n",
    "failwith \"Code manquant\""
   ]
  },
  {
   "cell_type": "markdown",
   "id": "ee9da2a1",
   "metadata": {
    "deletable": false,
    "editable": false,
    "nbgrader": {
     "cell_type": "markdown",
     "checksum": "c93ecd98386ae0ff81d3da3143e31e86",
     "grade": false,
     "grade_id": "cell-6714040fed593ce8",
     "locked": true,
     "schema_version": 3,
     "solution": false,
     "task": false
    }
   },
   "source": [
    "<font size=\"5\">👨🏿‍💻</font>\n",
    "Donner, en la justifiant, la complexité de cette méthode, en terme de temps\n",
    "de calcul (on se contentera d'une évaluation du type $O(n^\\alpha$), en précisant la valeur\n",
    "de $\\alpha$)."
   ]
  },
  {
   "cell_type": "markdown",
   "id": "15600133",
   "metadata": {
    "deletable": false,
    "nbgrader": {
     "cell_type": "markdown",
     "checksum": "ca4e5d12502a2696c796ece637a0f3c4",
     "grade": true,
     "grade_id": "cell-287d5a423e91b07d",
     "locked": false,
     "points": 0,
     "schema_version": 3,
     "solution": true,
     "task": false
    }
   },
   "source": [
    "✍️ *Votre réponse*"
   ]
  },
  {
   "cell_type": "markdown",
   "id": "5a766a6d",
   "metadata": {
    "deletable": false,
    "editable": false,
    "nbgrader": {
     "cell_type": "markdown",
     "checksum": "ab8499b1157b1454df67fab95450cb0f",
     "grade": false,
     "grade_id": "cell-3b877e2f9522210b",
     "locked": true,
     "schema_version": 3,
     "solution": false,
     "task": false
    }
   },
   "source": [
    "## Partie C"
   ]
  },
  {
   "cell_type": "markdown",
   "id": "07b55a25",
   "metadata": {
    "deletable": false,
    "editable": false,
    "nbgrader": {
     "cell_type": "markdown",
     "checksum": "7085f67a33edadda3bf1f9e3fae43438",
     "grade": false,
     "grade_id": "cell-b8935d605c9eb5ad",
     "locked": true,
     "schema_version": 3,
     "solution": false,
     "task": false
    }
   },
   "source": [
    "On souhaite tester la stratégie de façon plus efficace. Pour cela on utilise une\n",
    "fonction `evalue` qui prend deux entiers $i$ et $j$ comme paramètres ($i$ et $j$ étant compris\n",
    "entre $1$ et $2n$) et dont le résultat est `true` si et seulement si les deux propositions\n",
    "suivantes sont vraies :\n",
    "- $(i \\leqslant k \\leqslant j ) \\Rightarrow (i \\leqslant c[k] \\leqslant j)$\n",
    "- les segments ayant leurs extrémités dans l'arc (fermé) $[P_iP_j]$ ne se croisent pas.\n",
    "\n",
    "<font size=\"5\">👩🏿‍💻</font>  Donner la valeur de `evalue(i,j`) dans les trois cas particuliers a, b et c\n",
    "suivants : \n",
    "\n",
    "a) $j < i$ ; $\\qquad$ b) $j \\geqslant i$ et $c[i] < i$ ; $\\qquad$ c) $j \\geqslant i$ et $c[i] > j$."
   ]
  },
  {
   "cell_type": "markdown",
   "id": "43572501",
   "metadata": {
    "deletable": false,
    "nbgrader": {
     "cell_type": "markdown",
     "checksum": "df2aa87f7b6a46340d8d17f82a2188dc",
     "grade": true,
     "grade_id": "cell-af4cfce38bfcb8cf",
     "locked": false,
     "points": 0,
     "schema_version": 3,
     "solution": true,
     "task": false
    }
   },
   "source": [
    "✍️ *Votre réponse*"
   ]
  },
  {
   "cell_type": "markdown",
   "id": "03eb74cb",
   "metadata": {
    "deletable": false,
    "editable": false,
    "nbgrader": {
     "cell_type": "markdown",
     "checksum": "83494b1f2fe142022d4c60cddf29d9ae",
     "grade": false,
     "grade_id": "cell-bc692e6c8e54b25b",
     "locked": true,
     "schema_version": 3,
     "solution": false,
     "task": false
    }
   },
   "source": [
    "<font size=\"5\">👩‍💻</font>\n",
    "Pour $i < c[i] < j$, montrer que `evalue(i,j)` se déduit de  `evalue(i + 1,c[i] - 1)` et de `evalue(c[i] + 1, j)`."
   ]
  },
  {
   "cell_type": "markdown",
   "id": "aca0b47a",
   "metadata": {
    "deletable": false,
    "nbgrader": {
     "cell_type": "markdown",
     "checksum": "4e8dc18bb602cdc0be85a1c18c890047",
     "grade": true,
     "grade_id": "cell-b3db72cc7e3b84bd",
     "locked": false,
     "points": 0,
     "schema_version": 3,
     "solution": true,
     "task": false
    }
   },
   "source": [
    "✍️ *Votre réponse*"
   ]
  },
  {
   "cell_type": "markdown",
   "id": "33b4a896",
   "metadata": {
    "deletable": false,
    "editable": false,
    "nbgrader": {
     "cell_type": "markdown",
     "checksum": "01abc789c39bf3bf8eb11e810b45c389",
     "grade": false,
     "grade_id": "cell-5a990a42d9237e84",
     "locked": true,
     "schema_version": 3,
     "solution": false,
     "task": false
    }
   },
   "source": [
    "<font size=\"5\">👨🏼‍💻</font>\n",
    "Écrire une fonction `testStrategie` qui prend en paramètre un vecteur et renvoie un booléen dont la valeur est `true` si la stratégie est admissible. Cette fonction devra être de complexité $O(n)$."
   ]
  },
  {
   "cell_type": "code",
   "execution_count": null,
   "id": "64b8453b",
   "metadata": {
    "deletable": false,
    "nbgrader": {
     "cell_type": "code",
     "checksum": "734dc76e121b8ba48a687928e23e690a",
     "grade": true,
     "grade_id": "cell-24d548153c3653e4",
     "locked": false,
     "points": 0,
     "schema_version": 3,
     "solution": true,
     "task": false
    }
   },
   "outputs": [],
   "source": [
    "(*À remplacer par votre code*)\n",
    "failwith \"Code manquant\""
   ]
  },
  {
   "cell_type": "markdown",
   "id": "8899b9b6",
   "metadata": {
    "deletable": false,
    "editable": false,
    "nbgrader": {
     "cell_type": "markdown",
     "checksum": "ed7cbdb4702d23479b33c888fae0cb67",
     "grade": false,
     "grade_id": "cell-798747dcb62576d4",
     "locked": true,
     "schema_version": 3,
     "solution": false,
     "task": false
    }
   },
   "source": [
    "<font size=\"5\">👨🏻‍💻</font>\n",
    "Démontrer avec soin que la fonction `testStrategie` est bien de complexité $O(n)$.\n"
   ]
  },
  {
   "cell_type": "markdown",
   "id": "1ecf5028",
   "metadata": {
    "deletable": false,
    "nbgrader": {
     "cell_type": "markdown",
     "checksum": "213aa006808e43b460b1acd84e0c898b",
     "grade": true,
     "grade_id": "cell-905671ce893f22c0",
     "locked": false,
     "points": 0,
     "schema_version": 3,
     "solution": true,
     "task": false
    }
   },
   "source": [
    "✍️ *Votre réponse*"
   ]
  },
  {
   "cell_type": "markdown",
   "id": "9e8b24bf",
   "metadata": {
    "deletable": false,
    "editable": false,
    "nbgrader": {
     "cell_type": "markdown",
     "checksum": "2cd790832f04b0e019da92132f240755",
     "grade": false,
     "grade_id": "cell-332ca42477f2a820",
     "locked": true,
     "schema_version": 3,
     "solution": false,
     "task": false
    }
   },
   "source": [
    "## Partie D"
   ]
  },
  {
   "cell_type": "markdown",
   "id": "8d699ad2",
   "metadata": {
    "deletable": false,
    "editable": false,
    "nbgrader": {
     "cell_type": "markdown",
     "checksum": "b344418c67214076d1b7734d71639812",
     "grade": false,
     "grade_id": "cell-babab33e7a2826be",
     "locked": true,
     "schema_version": 3,
     "solution": false,
     "task": false
    }
   },
   "source": [
    "La méthode précédente teste si une stratégie est admissible. On souhaite maintenant,\n",
    "le statut (chasseur ou fantôme) des points étant donné, déterminer directement\n",
    "une stratégie admissible, de façon également efficace."
   ]
  },
  {
   "cell_type": "markdown",
   "id": "6bdfedf2",
   "metadata": {
    "deletable": false,
    "editable": false,
    "nbgrader": {
     "cell_type": "markdown",
     "checksum": "fbfdc82af2147b89363ee4608fc688e5",
     "grade": false,
     "grade_id": "cell-58153a58108dabde",
     "locked": true,
     "schema_version": 3,
     "solution": false,
     "task": false
    }
   },
   "source": [
    "<font size=\"5\">👩🏾‍💻</font>\n",
    "Montrer que si $P_i$ est un chasseur ($1 \\leqslant i \\leqslant 2n$), alors il existe $j \\neq i$, avec\n",
    "$1 \\leqslant j \\leqslant 2n$ tel que $P_j$ est un fantôme et tel que le nombre de chasseurs soit égal au\n",
    "nombre de fantômes de chaque côté de l'axe $P_iP_j$."
   ]
  },
  {
   "cell_type": "markdown",
   "id": "9d47f71f",
   "metadata": {
    "deletable": false,
    "nbgrader": {
     "cell_type": "markdown",
     "checksum": "8ae390a47c9b4b5a2f8fa9e85145b544",
     "grade": true,
     "grade_id": "cell-67b3b24c3fee0144",
     "locked": false,
     "points": 0,
     "schema_version": 3,
     "solution": true,
     "task": false
    }
   },
   "source": [
    "✍️ *Votre réponse*"
   ]
  },
  {
   "cell_type": "markdown",
   "id": "c6ffda43",
   "metadata": {
    "deletable": false,
    "editable": false,
    "nbgrader": {
     "cell_type": "markdown",
     "checksum": "84cefa6b54234417e0598676c14d3c36",
     "grade": false,
     "grade_id": "cell-352ce79d49a5ab83",
     "locked": true,
     "schema_version": 3,
     "solution": false,
     "task": false
    }
   },
   "source": [
    "<font size=\"5\">👩🏽‍💻</font>\n",
    "En déduire un algorithme simple pour construire une stratégie admissible. *Décrire l'algorithme en langage naturel*"
   ]
  },
  {
   "cell_type": "markdown",
   "id": "5d4b5109",
   "metadata": {
    "deletable": false,
    "nbgrader": {
     "cell_type": "markdown",
     "checksum": "847686ae1d306124ecd2baa8e044b9a4",
     "grade": true,
     "grade_id": "cell-b106b61bc45ff27c",
     "locked": false,
     "points": 0,
     "schema_version": 3,
     "solution": true,
     "task": false
    }
   },
   "source": [
    "✍️ *Votre réponse*"
   ]
  },
  {
   "cell_type": "markdown",
   "id": "840155fc",
   "metadata": {
    "deletable": false,
    "editable": false,
    "nbgrader": {
     "cell_type": "markdown",
     "checksum": "f0446f743fd8834ecf87800385d82a84",
     "grade": false,
     "grade_id": "cell-2ec60bc1d217d86a",
     "locked": true,
     "schema_version": 3,
     "solution": false,
     "task": false
    }
   },
   "source": [
    "Un vecteur $p$ contient la nature des points $P_i$ : $p[i] = 1$ pour un chasseur,\n",
    "$p[i] = -1$ pour un fantôme ($1 \\leqslant i \\leqslant 2n$). On a donc $\\displaystyle \\sum_{i=1}^{2n} p[i] = 0$\n",
    "puisqu'il y a autant\n",
    "de fantômes que de chasseurs. "
   ]
  },
  {
   "cell_type": "markdown",
   "id": "735090cb",
   "metadata": {
    "deletable": false,
    "editable": false,
    "nbgrader": {
     "cell_type": "markdown",
     "checksum": "a175cd1bf7f2eb88b0240db8704dc0b7",
     "grade": false,
     "grade_id": "cell-e7ca13f6d1dcec56",
     "locked": true,
     "schema_version": 3,
     "solution": false,
     "task": false
    }
   },
   "source": [
    "<font size=\"5\">👨‍💻</font> Écrire une fonction `cibles`, qui prend en paramètre\n",
    "le vecteur $p$ et qui renvoie la liste des indices\n",
    "$(i, j)$ des couples $(P_i, P_j)$ (où $P_i$ est un chasseur et $P_j$ un fantôme), composant une\n",
    "stratégie admissible du problème."
   ]
  },
  {
   "cell_type": "code",
   "execution_count": null,
   "id": "79def016",
   "metadata": {
    "deletable": false,
    "nbgrader": {
     "cell_type": "code",
     "checksum": "b06c8196a93378fb2186c1a6997ec53a",
     "grade": true,
     "grade_id": "cell-616ebb1a6f641bcd",
     "locked": false,
     "points": 0,
     "schema_version": 3,
     "solution": true,
     "task": false
    }
   },
   "outputs": [],
   "source": [
    "(*À remplacer par votre code*)\n",
    "failwith \"Code manquant\""
   ]
  }
 ],
 "metadata": {
  "kernelspec": {
   "display_name": "OCaml default",
   "language": "OCaml",
   "name": "ocaml-jupyter"
  },
  "language_info": {
   "codemirror_mode": "text/x-ocaml",
   "file_extension": ".ml",
   "mimetype": "text/x-ocaml",
   "name": "OCaml",
   "nbconverter_exporter": null,
   "pygments_lexer": "OCaml",
   "version": "4.08.1"
  }
 },
 "nbformat": 4,
 "nbformat_minor": 5
}
