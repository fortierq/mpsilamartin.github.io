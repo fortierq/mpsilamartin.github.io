{
 "cells": [
  {
   "cell_type": "markdown",
   "id": "45e6f54a",
   "metadata": {},
   "source": [
    "Si vous devez rendre votre travail, vérifiez que celui-ci peut s'exécuter sans erreur, en redémarrant le noyau et en exécutant toutes les cellules (dans le menu : Kernel$\\rightarrow$Restart & Run all)\n",
    "\n",
    "Par ailleurs, renseignez vos noms dans la cellule suivante :"
   ]
  },
  {
   "cell_type": "code",
   "execution_count": null,
   "id": "a5b92bca",
   "metadata": {},
   "outputs": [],
   "source": [
    "let noms_auteurs = [\"NOM_Prenom1\"; \"NOM_Prenom2\"; \"NOM_Prenom3\"]"
   ]
  },
  {
   "cell_type": "markdown",
   "id": "77a9926e",
   "metadata": {},
   "source": [
    "---"
   ]
  },
  {
   "cell_type": "markdown",
   "id": "0296bdbf",
   "metadata": {
    "deletable": false,
    "editable": false,
    "nbgrader": {
     "cell_type": "markdown",
     "checksum": "5ed525f3aebbad60b3967c6926eacb59",
     "grade": false,
     "grade_id": "cell-6ecdcd10bf298814",
     "locked": true,
     "schema_version": 3,
     "solution": false,
     "task": false
    }
   },
   "source": [
    "# Avant de commencer"
   ]
  },
  {
   "cell_type": "code",
   "execution_count": null,
   "id": "2e51b424",
   "metadata": {
    "deletable": false,
    "editable": false,
    "nbgrader": {
     "cell_type": "code",
     "checksum": "a3937dfc71b97e53d1a75e9a12dcb1ce",
     "grade": false,
     "grade_id": "cell-fc16683acae10eba",
     "locked": true,
     "schema_version": 3,
     "solution": false,
     "task": false
    }
   },
   "outputs": [],
   "source": [
    "let u0_test = 29818;;"
   ]
  },
  {
   "cell_type": "markdown",
   "id": "6f45ddb1",
   "metadata": {
    "deletable": false,
    "editable": false,
    "nbgrader": {
     "cell_type": "markdown",
     "checksum": "19bafc157023cb50ef509a9d751f7b6a",
     "grade": false,
     "grade_id": "cell-0690dcfc0550bf6d",
     "locked": true,
     "schema_version": 3,
     "solution": false,
     "task": false
    }
   },
   "source": [
    "Créer une variable `u_0` correspondant à la valeur qui vous a été attribuée."
   ]
  },
  {
   "cell_type": "code",
   "execution_count": null,
   "id": "94b28ae0",
   "metadata": {
    "deletable": false,
    "nbgrader": {
     "cell_type": "code",
     "checksum": "60323d6ae09fbd3efd5031128524e106",
     "grade": true,
     "grade_id": "cell-ae4fd77f9eda066a",
     "locked": false,
     "points": 0,
     "schema_version": 3,
     "solution": true,
     "task": false
    }
   },
   "outputs": [],
   "source": [
    "(* ENTRER VOTRE CODE ICI *)"
   ]
  },
  {
   "cell_type": "markdown",
   "id": "568c3e84",
   "metadata": {
    "deletable": false,
    "editable": false,
    "nbgrader": {
     "cell_type": "markdown",
     "checksum": "06611712887445e97b1872cef00c7fbb",
     "grade": false,
     "grade_id": "cell-9776a5051b359619",
     "locked": true,
     "schema_version": 3,
     "solution": false,
     "task": false
    }
   },
   "source": [
    "-------------------\n",
    "Une entreprise de $n$ employés ($n \\geqslant 2$) veut récompenser $k$ ses meilleurs vendeurs. Chaque employé, désigné par son numéro de badge $i$ (où $ 0 \\leqslant i < n$), a réalisé un chiffre de ventes $a_i$ au cours de  l'année 2020. On suppose que pour tout entier $i$, $a_i$ est un entier.\n",
    "\n",
    "L'objectif est de déterminer le $k$-ième chiffre de ventes le plus élevé, ce qui correspondra au seuil à partir duquel les employés auront le droit à une prime.\n",
    "\n",
    "\n",
    "**Dans tout le sujet, on pourra utiliser ` Array.make` et ` Array.length`, mais pas d'autres fonctions du module ` Array`**\n",
    "\n",
    "# Préliminaires\n",
    "\n",
    "On considère une suite d'entiers $(u_k)_{k \\in \\mathbb{N}}$ vérifiant la relation de récurrence :\n",
    "$$\\forall k \\in \\mathbb{N}, u_{k+1} = (15091\\times u_k)\\text{ mod } 64007$$\n",
    "\n",
    "#### Question 1\n",
    "Écrire une fonction `suivant : int -> int` qui, lorsqu'elle prend en argument l'entier correspondant à $u_k$, renvoie $u_{k+1}$."
   ]
  },
  {
   "cell_type": "code",
   "execution_count": null,
   "id": "972fe318",
   "metadata": {
    "deletable": false,
    "nbgrader": {
     "cell_type": "code",
     "checksum": "a797df27ec1992147e5f8ce8c1b913b0",
     "grade": true,
     "grade_id": "cell-d95afe59143fcb79",
     "locked": false,
     "points": 0,
     "schema_version": 3,
     "solution": true,
     "task": false
    }
   },
   "outputs": [],
   "source": [
    "(* ENTRER VOTRE CODE ICI *)"
   ]
  },
  {
   "cell_type": "markdown",
   "id": "941b1d4e",
   "metadata": {
    "deletable": false,
    "editable": false,
    "nbgrader": {
     "cell_type": "markdown",
     "checksum": "eb9792c54188ce703bc08bbab9110d16",
     "grade": false,
     "grade_id": "cell-c4f62f4fcc119965",
     "locked": true,
     "schema_version": 3,
     "solution": false,
     "task": false
    }
   },
   "source": [
    "#### Question 2\n",
    "Écrire une fonction `tab_u : int -> int -> int array` qui prend en argument la valeur de $u_0$ et un entier $n$ et qui renvoie le tableau $[|u_0;u_1;\\dots;u_{n-1}|]$ des $n$ premières valeurs de la suite $u$."
   ]
  },
  {
   "cell_type": "code",
   "execution_count": null,
   "id": "0c3fec60",
   "metadata": {
    "deletable": false,
    "nbgrader": {
     "cell_type": "code",
     "checksum": "3d80e7027ea55bbb57c29f1cc6417f8e",
     "grade": true,
     "grade_id": "cell-f9c992ee525430b0",
     "locked": false,
     "points": 0,
     "schema_version": 3,
     "solution": true,
     "task": false
    }
   },
   "outputs": [],
   "source": [
    "(* ENTRER VOTRE CODE ICI *)\n",
    "tab_u u0_test 10;;"
   ]
  },
  {
   "cell_type": "code",
   "execution_count": null,
   "id": "b2d9327b",
   "metadata": {
    "deletable": false,
    "editable": false,
    "nbgrader": {
     "cell_type": "code",
     "checksum": "9cb4924f5241bc5884e11e69b9dee6fc",
     "grade": true,
     "grade_id": "cell-3e1361ce478079ae",
     "locked": true,
     "points": 0,
     "schema_version": 3,
     "solution": false,
     "task": false
    }
   },
   "outputs": [],
   "source": [
    "(*Test avec u0_test*)\n",
    "let () = assert (tab_u u0_test 10 = [|29818; 14228; 35270; 41365; 42951; 38659; 43171; 30315; 25636; 14568|]);;\n"
   ]
  },
  {
   "cell_type": "markdown",
   "id": "e3439169",
   "metadata": {
    "deletable": false,
    "editable": false,
    "nbgrader": {
     "cell_type": "markdown",
     "checksum": "27dc35cd3a79c0cef227c3026b62b328",
     "grade": false,
     "grade_id": "cell-383bf11e3ff75bcb",
     "locked": true,
     "schema_version": 3,
     "solution": false,
     "task": false
    }
   },
   "source": [
    "#### Question 3\n",
    "Calculer les valeurs de $u_{20}$, $u_{2000}$, $u_{20000}$."
   ]
  },
  {
   "cell_type": "code",
   "execution_count": null,
   "id": "530e40a5",
   "metadata": {
    "deletable": false,
    "nbgrader": {
     "cell_type": "code",
     "checksum": "ecc7f175bd1b394e0237c0278d13493c",
     "grade": true,
     "grade_id": "cell-02c3613aa1d3ad63",
     "locked": false,
     "points": 0,
     "schema_version": 3,
     "solution": true,
     "task": false
    }
   },
   "outputs": [],
   "source": [
    "let u_20 = () ;;\n",
    "let u_200 = () ;;\n",
    "let u_20000 = ();;\n",
    "(* ENTRER VOTRE CODE ICI *)"
   ]
  },
  {
   "cell_type": "markdown",
   "id": "3fff0b9d",
   "metadata": {
    "deletable": false,
    "editable": false,
    "nbgrader": {
     "cell_type": "markdown",
     "checksum": "a8cb3dfcdd2cd713f6f5a259fd92b0a5",
     "grade": false,
     "grade_id": "cell-00b8a9ab61b80374",
     "locked": true,
     "schema_version": 3,
     "solution": false,
     "task": false
    }
   },
   "source": [
    "Dans toute la suite, on considère que le tableau des $n$ chiffres de ventes ($n$ pouvant dépendre de la question) est donné par ` tab_u u0 n` où ` u0` est votre valeur pour $u_0$.\n",
    "\n",
    "# Partie I\n",
    "\n",
    "#### Question 4\n",
    "Dans cette question, on suppose que $k = 1$. \n",
    "-  Écrire une fonction ` meilleure_vente : 'a array -> 'a` qui prend en argument le tableau des chiffres de ventes et qui renvoie le meilleur chiffre de ventes."
   ]
  },
  {
   "cell_type": "code",
   "execution_count": null,
   "id": "decca5f1",
   "metadata": {
    "deletable": false,
    "nbgrader": {
     "cell_type": "code",
     "checksum": "a2da77019d32c1f6fbcda45a8156522c",
     "grade": true,
     "grade_id": "cell-209dddc6e211e91f",
     "locked": false,
     "points": 0,
     "schema_version": 3,
     "solution": true,
     "task": false
    }
   },
   "outputs": [],
   "source": [
    "(* ENTRER VOTRE CODE ICI *)"
   ]
  },
  {
   "cell_type": "markdown",
   "id": "c69fd433",
   "metadata": {
    "deletable": false,
    "editable": false,
    "nbgrader": {
     "cell_type": "markdown",
     "checksum": "476ef9c42b84698821fda896f9c0b0ac",
     "grade": false,
     "grade_id": "cell-bbdf3b1e2952a596",
     "locked": true,
     "schema_version": 3,
     "solution": false,
     "task": false
    }
   },
   "source": [
    "- Calculer la valeur de la meilleure vente pour $n = 1000$."
   ]
  },
  {
   "cell_type": "code",
   "execution_count": null,
   "id": "d110118b",
   "metadata": {
    "deletable": false,
    "editable": false,
    "nbgrader": {
     "cell_type": "code",
     "checksum": "dc8152ef3457e4cdc1e696711dca9ed8",
     "grade": true,
     "grade_id": "cell-4af7b2e6b03f1f10",
     "locked": true,
     "points": 0,
     "schema_version": 3,
     "solution": false,
     "task": false
    }
   },
   "outputs": [],
   "source": [
    "(*Test avec u0_test*)\n",
    "let () = assert (meilleure_vente (tab_u u0_test 1000) = 63984);;"
   ]
  },
  {
   "cell_type": "code",
   "execution_count": null,
   "id": "4243f28a",
   "metadata": {
    "deletable": false,
    "nbgrader": {
     "cell_type": "code",
     "checksum": "17431d5af0567f2a6a4ef640207b55f6",
     "grade": true,
     "grade_id": "cell-bffa523d0276d073",
     "locked": false,
     "points": 0,
     "schema_version": 3,
     "solution": true,
     "task": false
    }
   },
   "outputs": [],
   "source": [
    "let meilleure_vente_1000 = ();;\n",
    "(* ENTRER VOTRE CODE ICI *)"
   ]
  },
  {
   "cell_type": "markdown",
   "id": "1f373d4e",
   "metadata": {
    "deletable": false,
    "editable": false,
    "nbgrader": {
     "cell_type": "markdown",
     "checksum": "74af9be8e2bb043aecf947260493dc6f",
     "grade": false,
     "grade_id": "cell-84fd8e0605a9d94a",
     "locked": true,
     "schema_version": 3,
     "solution": false,
     "task": false
    }
   },
   "source": [
    "#### Question 5\n",
    "Dans cette question, on suppose que la distribution des chiffres de ventes est relativement uniforme. Une approximation du seuil de ventes à atteindre pour obtenir la prime est alors donnée par la moyenne du chiffre de ventes minimum et du chiffre de ventes maximum, respectivement pondérés par $(k-1)$ et $n-k$.\n",
    "\n",
    "- Écrire une fonction ` approx_seuil: int array -> int -> int`  prenant en argument le tableau des chiffres de ventes et l'entier $k$ et renvoyant cette moyenne pondérée arrondie à l'entier inférieur. "
   ]
  },
  {
   "cell_type": "code",
   "execution_count": null,
   "id": "a81a46c1",
   "metadata": {
    "deletable": false,
    "nbgrader": {
     "cell_type": "code",
     "checksum": "9540381d1b9742bc042d78c718e320ef",
     "grade": false,
     "grade_id": "cell-7926e6e3546b6e36",
     "locked": false,
     "schema_version": 3,
     "solution": true,
     "task": false
    }
   },
   "outputs": [],
   "source": [
    "(* ENTRER VOTRE CODE ICI *)"
   ]
  },
  {
   "cell_type": "markdown",
   "id": "4df76227",
   "metadata": {
    "deletable": false,
    "editable": false,
    "nbgrader": {
     "cell_type": "markdown",
     "checksum": "35ec36e05798d7b6fcd8feac73870d85",
     "grade": false,
     "grade_id": "cell-9fe5f58b7994a381",
     "locked": true,
     "schema_version": 3,
     "solution": false,
     "task": false
    }
   },
   "source": [
    "- Calculer le seuil obtenu avec la fonction précédente pour $k = 200$ et $n=5000$."
   ]
  },
  {
   "cell_type": "code",
   "execution_count": null,
   "id": "7da8178b",
   "metadata": {
    "deletable": false,
    "editable": false,
    "nbgrader": {
     "cell_type": "code",
     "checksum": "ec4ab690c195bf2c75803fa58a90de9d",
     "grade": true,
     "grade_id": "cell-0c48a3f8ca40c47e",
     "locked": true,
     "points": 0,
     "schema_version": 3,
     "solution": false,
     "task": false
    }
   },
   "outputs": [],
   "source": [
    "(*Test avec u0_test*)\n",
    "let () = assert (approx_seuil (tab_u u0_test 5000) 200 = 61455)"
   ]
  },
  {
   "cell_type": "code",
   "execution_count": null,
   "id": "ab4d206b",
   "metadata": {
    "deletable": false,
    "nbgrader": {
     "cell_type": "code",
     "checksum": "d34325f166963985d007e5e0bb0e5fb0",
     "grade": true,
     "grade_id": "cell-78cd40ef46651c51",
     "locked": false,
     "points": 0,
     "schema_version": 3,
     "solution": true,
     "task": false
    }
   },
   "outputs": [],
   "source": [
    "let seuil_approx_200_5000 = ();;\n",
    "(* ENTRER VOTRE CODE ICI *)"
   ]
  },
  {
   "cell_type": "markdown",
   "id": "1e590f4a",
   "metadata": {
    "deletable": false,
    "editable": false,
    "nbgrader": {
     "cell_type": "markdown",
     "checksum": "5c93a2c952872d47c765dfffa38c51b0",
     "grade": false,
     "grade_id": "cell-577a0a576ee4ae81",
     "locked": true,
     "schema_version": 3,
     "solution": false,
     "task": false
    }
   },
   "source": [
    "# Partie II\n",
    "On traite maintenant le cas général, en ne faisant aucune hypothèse sur la répartition des ventes.\n",
    "\n",
    "Pour calculer le $k$-ième meilleur chiffre de ventes, on va trier partiellement le tableau dans l'ordre décroissant, de sorte que les $k$ plus grands éléments soient à leur place dans le tableau.\n",
    "\n",
    "#### Question 6\n",
    "Écrire une fonction `echange : 'a array -> int -> int -> unit` qui prend en argument un tableau et deux entiers $i$ et $j$ et échangeant en place les éléments d'indices $i$ et $j$ du tableau. Aucune vérification sur $i$ et $j$ n'est demandée."
   ]
  },
  {
   "cell_type": "code",
   "execution_count": null,
   "id": "5d8e5bb4",
   "metadata": {
    "deletable": false,
    "nbgrader": {
     "cell_type": "code",
     "checksum": "fd092c6c28622e84d035572829621787",
     "grade": true,
     "grade_id": "cell-a90ef73f0d941cf1",
     "locked": false,
     "points": 0,
     "schema_version": 3,
     "solution": true,
     "task": false
    }
   },
   "outputs": [],
   "source": [
    "(* ENTRER VOTRE CODE ICI *)"
   ]
  },
  {
   "cell_type": "markdown",
   "id": "e356dbbb",
   "metadata": {
    "deletable": false,
    "editable": false,
    "nbgrader": {
     "cell_type": "markdown",
     "checksum": "9fc9707de354011a86f4aa222b7e4b5a",
     "grade": false,
     "grade_id": "cell-c357f706f4552fcb",
     "locked": true,
     "schema_version": 3,
     "solution": false,
     "task": false
    }
   },
   "source": [
    "#### Question 7 \n",
    "Écrire une fonction ` seuil : 'a array -> int -> 'a` prenant en argument le tableau des chiffres de ventes et l'entier $k$ et renvoyant le $k$-ième plus grand élément du tableau."
   ]
  },
  {
   "cell_type": "code",
   "execution_count": null,
   "id": "bb8883c5",
   "metadata": {
    "deletable": false,
    "nbgrader": {
     "cell_type": "code",
     "checksum": "5987623079805e1fd1c9eec82d03faf5",
     "grade": false,
     "grade_id": "cell-a4ef26d13b55a7fe",
     "locked": false,
     "schema_version": 3,
     "solution": true,
     "task": false
    }
   },
   "outputs": [],
   "source": [
    "(* ENTRER VOTRE CODE ICI *)"
   ]
  },
  {
   "cell_type": "markdown",
   "id": "0167077b",
   "metadata": {
    "deletable": false,
    "editable": false,
    "nbgrader": {
     "cell_type": "markdown",
     "checksum": "3a8b66f6260083047639c59ae1af6810",
     "grade": false,
     "grade_id": "cell-7a73718397ab61a1",
     "locked": true,
     "schema_version": 3,
     "solution": false,
     "task": false
    }
   },
   "source": [
    "#### Question 8\n",
    "Calculer le seuil obtenu avec la fonction précédente pour $k = 200$ et $n=5000$."
   ]
  },
  {
   "cell_type": "code",
   "execution_count": null,
   "id": "970f6b4c",
   "metadata": {
    "deletable": false,
    "editable": false,
    "nbgrader": {
     "cell_type": "code",
     "checksum": "2cb4367afb6ec554abd24511a8f797c4",
     "grade": true,
     "grade_id": "cell-322c0828bea48beb",
     "locked": true,
     "points": 0,
     "schema_version": 3,
     "solution": false,
     "task": false
    }
   },
   "outputs": [],
   "source": [
    "(*Test avec u0_test*)\n",
    "let () = assert (seuil (tab_u u0_test 5000) 200 = 61792)"
   ]
  },
  {
   "cell_type": "code",
   "execution_count": null,
   "id": "6a272280",
   "metadata": {
    "deletable": false,
    "nbgrader": {
     "cell_type": "code",
     "checksum": "eaad2a04df714ba1312af0c110182fd3",
     "grade": true,
     "grade_id": "cell-504d7f92986b6521",
     "locked": false,
     "points": 0,
     "schema_version": 3,
     "solution": true,
     "task": false
    }
   },
   "outputs": [],
   "source": [
    "let seuil_II_200_5000 = ();;\n",
    "(* ENTRER VOTRE CODE ICI *)"
   ]
  },
  {
   "cell_type": "markdown",
   "id": "56acbee0",
   "metadata": {
    "deletable": false,
    "editable": false,
    "nbgrader": {
     "cell_type": "markdown",
     "checksum": "7b05ce062d3f9d1e24824128e837ce79",
     "grade": false,
     "grade_id": "cell-f89c936b916d2175",
     "locked": true,
     "schema_version": 3,
     "solution": false,
     "task": false
    }
   },
   "source": [
    "# Partie III\n",
    "Le nombre d'employés $n$ étant particulièrement grand, on cherche à optimiser le calcul du $k$-ième meilleur chiffre de ventes.\n",
    "\n",
    "Pour cela, on procède comme suit : on choisit un employé $i$, et on place son chiffre de ventes $v = a_i$ à l'indice $l$ qu'il aurait dans le tableau si celui-ci était trié dans l'ordre décroissant, en réordonnant le tableau de sorte que $a_j > v$ si $j < l$ et $a_j \\leqslant v$ et $j>l$. Si l'indice $l$ correspond au $k$-ième élément du tableau, on a terminé, sinon, on recommence avec la partie à gauche ou à droite de $l$ dans le tableau."
   ]
  },
  {
   "cell_type": "markdown",
   "id": "cf856d62",
   "metadata": {
    "deletable": false,
    "editable": false,
    "nbgrader": {
     "cell_type": "markdown",
     "checksum": "0e2e2e4464d767034818631144bfcb69",
     "grade": false,
     "grade_id": "cell-f89c936b91",
     "locked": true,
     "schema_version": 3,
     "solution": false,
     "task": false
    }
   },
   "source": [
    "#### Question 9\n",
    "Soient $g$ et $d$ deux entiers tels que $0 \\leqslant g < d < n$ et soit $v = a_g$. Écrire une fonction ` partition : 'a array -> int -> int -> int` qui prend en argument le tableau des chiffres de ventes et les entiers $g$ et $d$ (dans cet ordre), qui réordonne le tableau en place entre les indices $g$ et $d$ compris de sorte que $a_j > v$ pour $g \\leqslant j < l$ et $a_j \\leqslant v$ pour $l < j \\leqslant d$, et qui renvoie l'indice $l$ de la valeur $v$ après modification du tableau.\n",
    "\n",
    "*Indication :* On procédera par des échanges ; on pourra laisser $v$ à l'indice $g$ jusqu'à avoir fini de parcourir la portion de tableau puis procéder à un dernier échange avec l'indice $l$."
   ]
  },
  {
   "cell_type": "code",
   "execution_count": null,
   "id": "4ae8cbf1",
   "metadata": {
    "deletable": false,
    "nbgrader": {
     "cell_type": "code",
     "checksum": "9c2ef642591f59a53cff02dfcc47fefb",
     "grade": true,
     "grade_id": "cell-d1edc2c045057cec",
     "locked": false,
     "points": 0,
     "schema_version": 3,
     "solution": true,
     "task": false
    }
   },
   "outputs": [],
   "source": [
    "(* ENTRER VOTRE CODE ICI *)"
   ]
  },
  {
   "cell_type": "markdown",
   "id": "b57e0100",
   "metadata": {
    "deletable": false,
    "editable": false,
    "nbgrader": {
     "cell_type": "markdown",
     "checksum": "23ebeee84fa7994856b05199ea554112",
     "grade": false,
     "grade_id": "cell-648938168ab07daa",
     "locked": true,
     "schema_version": 3,
     "solution": false,
     "task": false
    }
   },
   "source": [
    "#### Question 10\n",
    "Calculer l'indice obtenu avec la fonction précédente pour $n = 5000$, $g = 1000$ et $d = 2000$."
   ]
  },
  {
   "cell_type": "code",
   "execution_count": null,
   "id": "a59582d9",
   "metadata": {
    "deletable": false,
    "editable": false,
    "nbgrader": {
     "cell_type": "code",
     "checksum": "72c2144cb83a05c386b0dff3777e41a5",
     "grade": true,
     "grade_id": "cell-70658e06a6608ea4",
     "locked": true,
     "points": 0,
     "schema_version": 3,
     "solution": false,
     "task": false
    }
   },
   "outputs": [],
   "source": [
    "(*Test avec u0_test*)\n",
    "let () = assert (partition (tab_u u0_test 5000) 1000 2000 = 1926)"
   ]
  },
  {
   "cell_type": "code",
   "execution_count": null,
   "id": "c31748df",
   "metadata": {
    "deletable": false,
    "nbgrader": {
     "cell_type": "code",
     "checksum": "7108189ba65cdac6e9f93aaadc36d690",
     "grade": true,
     "grade_id": "cell-49d0ec9da891b2f3",
     "locked": false,
     "points": 0,
     "schema_version": 3,
     "solution": true,
     "task": false
    }
   },
   "outputs": [],
   "source": [
    "let indice_5000_1000_2000 = ();;\n",
    "(* ENTRER VOTRE CODE ICI *)"
   ]
  },
  {
   "cell_type": "markdown",
   "id": "e469e8d8",
   "metadata": {
    "deletable": false,
    "editable": false,
    "nbgrader": {
     "cell_type": "markdown",
     "checksum": "1f82f7f24ac984f742fb90f8f943cea9",
     "grade": false,
     "grade_id": "cell-08d30feb02b36350",
     "locked": true,
     "schema_version": 3,
     "solution": false,
     "task": false
    }
   },
   "source": [
    "#### Question 11\n",
    "Écrire une fonction récursive ` seuil_rec : 'a array -> int -> int -> int -> 'a` qui prend en argument le tableau des chiffres de ventes, trois entiers $j$, $g$ et $d$ (dans cet ordre) tels que $0 \\leqslant g \\leqslant j \\leqslant d$ et qui renvoie l'élément qui serait à l'indice $j$ dans le tableau des ventes trié dans l'ordre décroissant. On pourra utiliser la fonction ` partition`."
   ]
  },
  {
   "cell_type": "code",
   "execution_count": null,
   "id": "bcb54ed1",
   "metadata": {
    "deletable": false,
    "nbgrader": {
     "cell_type": "code",
     "checksum": "513ee072336d70de51e34b0aec7fb3fc",
     "grade": true,
     "grade_id": "cell-4cb42b7df2de9ba0",
     "locked": false,
     "points": 0,
     "schema_version": 3,
     "solution": true,
     "task": false
    }
   },
   "outputs": [],
   "source": [
    "(* ENTRER VOTRE CODE ICI *)"
   ]
  },
  {
   "cell_type": "markdown",
   "id": "a2e7dbac",
   "metadata": {
    "deletable": false,
    "editable": false,
    "nbgrader": {
     "cell_type": "markdown",
     "checksum": "792be47fe93ea296aaee77f8f79f707e",
     "grade": false,
     "grade_id": "cell-d87f243e9f13b489",
     "locked": true,
     "schema_version": 3,
     "solution": false,
     "task": false
    }
   },
   "source": [
    "#### Question 12\n",
    "En déduire une fonction `seuil_bis : 'a array -> int -> 'a` prenant en argument le tableau des chiffres de ventes et l'entier $k$ et renvoyant le $k$-ième plus grand élément du tableau."
   ]
  },
  {
   "cell_type": "code",
   "execution_count": null,
   "id": "97295ea3",
   "metadata": {
    "deletable": false,
    "nbgrader": {
     "cell_type": "code",
     "checksum": "43f716350b0d4d21545b4866ceb28cad",
     "grade": false,
     "grade_id": "cell-26c5f5e6d7fd51ad",
     "locked": false,
     "schema_version": 3,
     "solution": true,
     "task": false
    }
   },
   "outputs": [],
   "source": [
    "(* ENTRER VOTRE CODE ICI *)"
   ]
  },
  {
   "cell_type": "markdown",
   "id": "c3424655",
   "metadata": {
    "deletable": false,
    "editable": false,
    "nbgrader": {
     "cell_type": "markdown",
     "checksum": "70c0c4f94bccb6e15be2003721a4bbc2",
     "grade": false,
     "grade_id": "cell-0426885a362d0b0c",
     "locked": true,
     "schema_version": 3,
     "solution": false,
     "task": false
    }
   },
   "source": [
    "#### Question 13\n",
    "Calculer le seuil obtenu avec la fonction précédente :\n",
    "+ pour $k = 1000$ et $n=20000$ ;\n",
    "+ pour $k = 10000$ et $n=500000$."
   ]
  },
  {
   "cell_type": "code",
   "execution_count": null,
   "id": "e263c391",
   "metadata": {
    "deletable": false,
    "editable": false,
    "nbgrader": {
     "cell_type": "code",
     "checksum": "7233847b1c78fb6ab5d9b0860f16e2a3",
     "grade": true,
     "grade_id": "cell-f0c459e53325c546",
     "locked": true,
     "points": 0,
     "schema_version": 3,
     "solution": false,
     "task": false
    }
   },
   "outputs": [],
   "source": [
    "(*Test avec u0_test*)\n",
    "let () = assert (seuil_bis (tab_u u0_test 20000) 1000 = 60826)\n",
    "let () = assert (seuil_bis (tab_u u0_test 500000) 10000 = 62725)"
   ]
  },
  {
   "cell_type": "code",
   "execution_count": null,
   "id": "d61360d6",
   "metadata": {
    "deletable": false,
    "nbgrader": {
     "cell_type": "code",
     "checksum": "c597fb9b626d011039a6d8a7a555a9c7",
     "grade": true,
     "grade_id": "cell-7ba0933deb63d1d4",
     "locked": false,
     "points": 0,
     "schema_version": 3,
     "solution": true,
     "task": false
    }
   },
   "outputs": [],
   "source": [
    "let seuil_III_1000_20000 = ();;\n",
    "let seuil_III_10000_500000 = ();;\n",
    "(* ENTRER VOTRE CODE ICI *)"
   ]
  }
 ],
 "metadata": {
  "kernelspec": {
   "display_name": "OCaml default",
   "language": "OCaml",
   "name": "ocaml-jupyter"
  },
  "language_info": {
   "codemirror_mode": "text/x-ocaml",
   "file_extension": ".ml",
   "mimetype": "text/x-ocaml",
   "name": "OCaml",
   "nbconverter_exporter": null,
   "pygments_lexer": "OCaml",
   "version": "4.05.0"
  },
  "latex_envs": {
   "LaTeX_envs_menu_present": true,
   "autoclose": false,
   "autocomplete": true,
   "bibliofile": "biblio.bib",
   "cite_by": "apalike",
   "current_citInitial": 1,
   "eqLabelWithNumbers": true,
   "eqNumInitial": 1,
   "hotkeys": {
    "equation": "Ctrl-E",
    "itemize": "Ctrl-I"
   },
   "labels_anchors": false,
   "latex_user_defs": false,
   "report_style_numbering": false,
   "user_envs_cfg": false
  }
 },
 "nbformat": 4,
 "nbformat_minor": 5
}
