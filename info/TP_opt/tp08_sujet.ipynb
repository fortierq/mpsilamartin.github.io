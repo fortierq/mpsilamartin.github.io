{
 "cells": [
  {
   "cell_type": "markdown",
   "id": "9201435a",
   "metadata": {
    "deletable": false,
    "editable": false,
    "nbgrader": {
     "cell_type": "markdown",
     "checksum": "510e955a324f388afdcdf46365cf1d29",
     "grade": false,
     "grade_id": "cell-44223c73906b4e9c",
     "locked": true,
     "schema_version": 3,
     "solution": false,
     "task": false
    }
   },
   "source": [
    "# Fonctions de hachage"
   ]
  },
  {
   "cell_type": "markdown",
   "id": "b44604a4",
   "metadata": {
    "deletable": false,
    "editable": false,
    "nbgrader": {
     "cell_type": "markdown",
     "checksum": "445d0d114ae01c502a982986afeefb12",
     "grade": false,
     "grade_id": "cell-bd026c13284315db",
     "locked": true,
     "schema_version": 3,
     "solution": false,
     "task": false
    }
   },
   "source": [
    "On rappelle qu'une fonction de hachage est une fonction qui à toute clé d'un ensemble $C$ associe un élément d'un ensemble $N$ fini de cardinal raisonnable."
   ]
  },
  {
   "cell_type": "markdown",
   "id": "f7fb1d1d",
   "metadata": {
    "deletable": false,
    "editable": false,
    "nbgrader": {
     "cell_type": "markdown",
     "checksum": "d79116b5781f6e0ab8a2eee03be8819c",
     "grade": false,
     "grade_id": "cell-903b3abbdde1c527",
     "locked": true,
     "schema_version": 3,
     "solution": false,
     "task": false
    }
   },
   "source": [
    "#### Question 1\n",
    "Le *hachage par division* de largeur $m$ est une fonction de hachage définie sur les entiers et à valeurs dans $⟦ 0, m-1 ⟧$, qui à tout entier $k$ associe le reste de la division euclidienne de $k$ par $m$.<br/>\n",
    "\n",
    "Écrire une fonction `hash_int : int -> int -> int` qui prend en argument deux entiers $m$ et $k$ et qui renvoie l'image de $k$ pour la fonction de hachage par division de largeur $m$ de $k$."
   ]
  },
  {
   "cell_type": "code",
   "execution_count": null,
   "id": "c20a8a22",
   "metadata": {
    "deletable": false,
    "nbgrader": {
     "cell_type": "code",
     "checksum": "9d6a151784f8f2e8bf68bfd96d741e1d",
     "grade": true,
     "grade_id": "cell-d86e08a466de15b1",
     "locked": false,
     "points": 0,
     "schema_version": 3,
     "solution": true,
     "task": false
    }
   },
   "outputs": [],
   "source": [
    "(* ENTRER VOTRE CODE ICI *)"
   ]
  },
  {
   "cell_type": "markdown",
   "id": "e6199779",
   "metadata": {
    "deletable": false,
    "editable": false,
    "nbgrader": {
     "cell_type": "markdown",
     "checksum": "75a263eff08ce0d6f8ea7f5cf5e6542d",
     "grade": false,
     "grade_id": "cell-f0bc83c251252fe9",
     "locked": true,
     "schema_version": 3,
     "solution": false,
     "task": false
    }
   },
   "source": [
    "#### Question 2\n",
    "Dans le cas d'une chaîne de caractères, on va d'abord coder la chaîne sous forme d'entier avant de lui appliquer la fonction de hachage : la chaîne $s_0\\dots s_{n-1}$ pourra être codée par l'entier $\\displaystyle \\sum_{k=0}^{n-1} a_k 256^k$ où $a_k$ est le code ASCII du caractère $s_k$.<br/>\n",
    "\n",
    "Écrire une fonction `int_of_str : string -> int` qui prend en argument une chaîne de caractères et qui renvoie l'entier décrit ci-dessus."
   ]
  },
  {
   "cell_type": "code",
   "execution_count": null,
   "id": "c671f24f",
   "metadata": {
    "deletable": false,
    "nbgrader": {
     "cell_type": "code",
     "checksum": "ffe67a6b5140481bc151b6dd7b948616",
     "grade": true,
     "grade_id": "cell-774cab5afdf4bdbf",
     "locked": false,
     "points": 0,
     "schema_version": 3,
     "solution": true,
     "task": false
    }
   },
   "outputs": [],
   "source": [
    "(* ENTRER VOTRE CODE ICI *)"
   ]
  },
  {
   "cell_type": "markdown",
   "id": "ea52814f",
   "metadata": {
    "deletable": false,
    "editable": false,
    "nbgrader": {
     "cell_type": "markdown",
     "checksum": "f8b0c0130ecd4067526d78401d0fc434",
     "grade": false,
     "grade_id": "cell-ad04b23be77d46c5",
     "locked": true,
     "schema_version": 3,
     "solution": false,
     "task": false
    }
   },
   "source": [
    "#### Question 3\n",
    "En déduire une fonction `hash_string : int -> string -> int` de hachage pour les chaînes de caractères."
   ]
  },
  {
   "cell_type": "code",
   "execution_count": null,
   "id": "a999d7a6",
   "metadata": {
    "deletable": false,
    "nbgrader": {
     "cell_type": "code",
     "checksum": "dfd3add306abec1ff84d2cb06528a986",
     "grade": true,
     "grade_id": "cell-422fba40bb8bf474",
     "locked": false,
     "points": 0,
     "schema_version": 3,
     "solution": true,
     "task": false
    }
   },
   "outputs": [],
   "source": [
    "(* ENTRER VOTRE CODE ICI *)"
   ]
  },
  {
   "cell_type": "markdown",
   "id": "18eb237f",
   "metadata": {
    "deletable": false,
    "editable": false,
    "nbgrader": {
     "cell_type": "markdown",
     "checksum": "326f6d5f40ad5919b669cd3010354ea6",
     "grade": false,
     "grade_id": "cell-f6cefbad67319c4f",
     "locked": true,
     "schema_version": 3,
     "solution": false,
     "task": false
    }
   },
   "source": [
    "# Tables de hachage de taille fixe\n",
    "\n",
    "On représente une table de hachage par le type"
   ]
  },
  {
   "cell_type": "code",
   "execution_count": null,
   "id": "c049030a",
   "metadata": {
    "deletable": false,
    "editable": false,
    "nbgrader": {
     "cell_type": "code",
     "checksum": "50f28e6d9a3b3b3ff00d0a5059ed6153",
     "grade": false,
     "grade_id": "cell-41520c980f5a18b3",
     "locked": true,
     "schema_version": 3,
     "solution": false,
     "task": false
    }
   },
   "outputs": [],
   "source": [
    "type ('a, 'b) table = {\n",
    "    h : 'a -> int ;\n",
    "    contenu : ('a * 'b) list array\n",
    "  };;"
   ]
  },
  {
   "cell_type": "markdown",
   "id": "06da8a93",
   "metadata": {
    "deletable": false,
    "editable": false,
    "nbgrader": {
     "cell_type": "markdown",
     "checksum": "7f6f53a7a288b7a4845d05c9c75b43ce",
     "grade": false,
     "grade_id": "cell-dbec7986c231d6da",
     "locked": true,
     "schema_version": 3,
     "solution": false,
     "task": false
    }
   },
   "source": [
    "#### Question 4\n",
    "Écrire une fonction `creer_table : (’a -> int) -> int -> (’a, ’b) table` prenant en argument une fonction de hachage et la largeur de la table et qui renvoie une table de hachage vide."
   ]
  },
  {
   "cell_type": "code",
   "execution_count": null,
   "id": "b2f858bf",
   "metadata": {
    "deletable": false,
    "nbgrader": {
     "cell_type": "code",
     "checksum": "4919a990e1bc11e6bf32ec2432ac5845",
     "grade": true,
     "grade_id": "cell-769054f644948282",
     "locked": false,
     "points": 0,
     "schema_version": 3,
     "solution": true,
     "task": false
    }
   },
   "outputs": [],
   "source": [
    "(* ENTRER VOTRE CODE ICI *)"
   ]
  },
  {
   "cell_type": "markdown",
   "id": "c3fdd0d8",
   "metadata": {
    "deletable": false,
    "editable": false,
    "nbgrader": {
     "cell_type": "markdown",
     "checksum": "aad83112b8e32f6099a2f11b470f2ee7",
     "grade": false,
     "grade_id": "cell-7b4714205cce82c7",
     "locked": true,
     "schema_version": 3,
     "solution": false,
     "task": false
    }
   },
   "source": [
    "#### Question5\n",
    "Écrire une fonction `contient : ('a, 'b) table -> 'a -> bool` qui prend en argument une table et une clé et qui renvoie `true` si la table contient la clé, `false` sinon."
   ]
  },
  {
   "cell_type": "code",
   "execution_count": null,
   "id": "b3aa620f",
   "metadata": {
    "deletable": false,
    "nbgrader": {
     "cell_type": "code",
     "checksum": "21234cd8ee8cbea8c9236720230aa76d",
     "grade": true,
     "grade_id": "cell-33506343e2cd785b",
     "locked": false,
     "points": 0,
     "schema_version": 3,
     "solution": true,
     "task": false
    }
   },
   "outputs": [],
   "source": [
    "(* ENTRER VOTRE CODE ICI *)"
   ]
  },
  {
   "cell_type": "markdown",
   "id": "e3956b76",
   "metadata": {
    "deletable": false,
    "editable": false,
    "nbgrader": {
     "cell_type": "markdown",
     "checksum": "39636e963d015007dad8129ec7a01ca4",
     "grade": false,
     "grade_id": "cell-a63eab330d594ec3",
     "locked": true,
     "schema_version": 3,
     "solution": false,
     "task": false
    }
   },
   "source": [
    "#### Question 6\n",
    "Écrire une fonction `trouver : ('a, 'b) table -> 'a -> 'b` qui prend en argument une table et une clé et qui renvoie la valeur associée à la clé si elle existe."
   ]
  },
  {
   "cell_type": "code",
   "execution_count": null,
   "id": "4ab5bd90",
   "metadata": {
    "deletable": false,
    "nbgrader": {
     "cell_type": "code",
     "checksum": "8437b191442ca6aab06856069d1102c3",
     "grade": true,
     "grade_id": "cell-09977c5aa9ad6b87",
     "locked": false,
     "points": 0,
     "schema_version": 3,
     "solution": true,
     "task": false
    }
   },
   "outputs": [],
   "source": [
    "(* ENTRER VOTRE CODE ICI *)"
   ]
  },
  {
   "cell_type": "markdown",
   "id": "58fd60c9",
   "metadata": {
    "deletable": false,
    "editable": false,
    "nbgrader": {
     "cell_type": "markdown",
     "checksum": "970e91d3fc82e4e9c07b0cbb7e278a8d",
     "grade": false,
     "grade_id": "cell-d5244eb4121ca635",
     "locked": true,
     "schema_version": 3,
     "solution": false,
     "task": false
    }
   },
   "source": [
    "#### Question 7\n",
    "Écrire une fonction `ajouter : ('a, 'b) table -> 'a -> 'b -> unit` qui prend en argument une table, une clé $c$ et une valeur $v$ et qui ajoute le couple $(c,v)$. On précisera le comportement de la fonction si la clé est déjà présente dans la table."
   ]
  },
  {
   "cell_type": "code",
   "execution_count": null,
   "id": "33aeab9a",
   "metadata": {
    "deletable": false,
    "nbgrader": {
     "cell_type": "code",
     "checksum": "14c4c83480708b2c5c07a4ea6e66c723",
     "grade": true,
     "grade_id": "cell-823dd2938da52a96",
     "locked": false,
     "points": 0,
     "schema_version": 3,
     "solution": true,
     "task": false
    }
   },
   "outputs": [],
   "source": [
    "(* ENTRER VOTRE CODE ICI *)"
   ]
  },
  {
   "cell_type": "markdown",
   "id": "52f34ec6",
   "metadata": {
    "deletable": false,
    "editable": false,
    "nbgrader": {
     "cell_type": "markdown",
     "checksum": "5f0eac7230e8ad127eaeb43844958043",
     "grade": false,
     "grade_id": "cell-b17b4dea95cda8db",
     "locked": true,
     "schema_version": 3,
     "solution": false,
     "task": false
    }
   },
   "source": [
    "#### Question 8\n",
    "Écrire une fonction `supprimer : ('a, 'b) table -> 'a -> unit` qui prend en argument une table et une clé $c$ et qui supprime l'entrée associée à la clé $c$ dans la table. "
   ]
  },
  {
   "cell_type": "code",
   "execution_count": null,
   "id": "3a7981be",
   "metadata": {
    "deletable": false,
    "nbgrader": {
     "cell_type": "code",
     "checksum": "e3d75bb7c07ddd2291a40222f82c412e",
     "grade": true,
     "grade_id": "cell-1d60337d8db608d5",
     "locked": false,
     "points": 0,
     "schema_version": 3,
     "solution": true,
     "task": false
    }
   },
   "outputs": [],
   "source": [
    "(* ENTRER VOTRE CODE ICI *)"
   ]
  },
  {
   "cell_type": "markdown",
   "id": "a0380988",
   "metadata": {
    "deletable": false,
    "editable": false,
    "nbgrader": {
     "cell_type": "markdown",
     "checksum": "b092d042e303560579a93e6d41d2c284",
     "grade": false,
     "grade_id": "cell-01542fcf68892b26",
     "locked": true,
     "schema_version": 3,
     "solution": false,
     "task": false
    }
   },
   "source": [
    "# Tables de hachage de taille dynamique"
   ]
  },
  {
   "cell_type": "markdown",
   "id": "b14de1c0",
   "metadata": {
    "deletable": false,
    "editable": false,
    "nbgrader": {
     "cell_type": "markdown",
     "checksum": "56562f4b6e82d635241a86db41c119df",
     "grade": false,
     "grade_id": "cell-20e121946eb06026",
     "locked": true,
     "schema_version": 3,
     "solution": false,
     "task": false
    }
   },
   "source": [
    "## Une première approche\n",
    "Lorsque le nombre de collisions est important, la taille des les listes contenues dans le tableau augmente. Cela sera notamment le cas si on ajoute de nombreuses entrées dans la table.<br/>\n",
    "\n",
    "Or la partie coûteuse de la recherche d'une clé est le parcours de la liste correspondant à l'image de la clé par la fonction de hachage.<br/>\n",
    "\n",
    "\n",
    "On se propose d'améliorer ce point en utilisant des tables de hachage de taille dynamique : lorsque le nombre d'éléments devient trop important, on augmente la taille du tableau (ce qui impose de rajouter un paramètre à la fonction de hachage).\n",
    "\n",
    "On utilisera donc le type "
   ]
  },
  {
   "cell_type": "code",
   "execution_count": null,
   "id": "6a4a3242",
   "metadata": {
    "deletable": false,
    "editable": false,
    "nbgrader": {
     "cell_type": "code",
     "checksum": "d8b6a7591b9b90ee3127fc224a72254f",
     "grade": false,
     "grade_id": "cell-6e33e7ee381c4ca8",
     "locked": true,
     "schema_version": 3,
     "solution": false,
     "task": false
    }
   },
   "outputs": [],
   "source": [
    "type ('a, 'b) table_dyn = {\n",
    "    h : int -> 'a -> int ;\n",
    "    mutable nb : int ;\n",
    "    mutable contenu : ('a * 'b) list array\n",
    "  };;"
   ]
  },
  {
   "cell_type": "markdown",
   "id": "5afa2c96",
   "metadata": {
    "deletable": false,
    "editable": false,
    "nbgrader": {
     "cell_type": "markdown",
     "checksum": "642bcb3e01f702b0ceb651caf002e4ab",
     "grade": false,
     "grade_id": "cell-44ecbf3dd07ddba5",
     "locked": true,
     "schema_version": 3,
     "solution": false,
     "task": false
    }
   },
   "source": [
    "où `nb` est le nombre d'éléments présents dans la table."
   ]
  },
  {
   "cell_type": "markdown",
   "id": "bc558cdd",
   "metadata": {
    "deletable": false,
    "editable": false,
    "nbgrader": {
     "cell_type": "markdown",
     "checksum": "d0524995a51e44f4b67b4b8c0140b512",
     "grade": false,
     "grade_id": "cell-484202b22fbc4600",
     "locked": true,
     "schema_version": 3,
     "solution": false,
     "task": false
    }
   },
   "source": [
    "#### Question 9\n",
    "Écrire une fonction `creer_table_dyn : (int -> ’a -> int) -> int -> (’a, ’b) table_dyn` prenant en argument une fonction de hachage et la largeur initiale de la table et qui renvoie une table de hachage vide."
   ]
  },
  {
   "cell_type": "code",
   "execution_count": null,
   "id": "ad78076d",
   "metadata": {
    "deletable": false,
    "nbgrader": {
     "cell_type": "code",
     "checksum": "32673b2a27e4ddaf086d9643662f40cf",
     "grade": true,
     "grade_id": "cell-3b16981ce25dbf74",
     "locked": false,
     "points": 0,
     "schema_version": 3,
     "solution": true,
     "task": false
    }
   },
   "outputs": [],
   "source": [
    "(* ENTRER VOTRE CODE ICI *)"
   ]
  },
  {
   "cell_type": "markdown",
   "id": "2a2af5fb",
   "metadata": {
    "deletable": false,
    "editable": false,
    "nbgrader": {
     "cell_type": "markdown",
     "checksum": "41d8a98b37ca0f56decd6e5d04e00e73",
     "grade": false,
     "grade_id": "cell-6b025e501de9773e",
     "locked": true,
     "schema_version": 3,
     "solution": false,
     "task": false
    }
   },
   "source": [
    "#### Question 10\n",
    "Écrire une fonction `contient_dyn : ('a, 'b) table_dyn -> 'a -> bool` qui prend en argument une table et une clé et qui renvoie `true` si la table contient la clé, `false` sinon."
   ]
  },
  {
   "cell_type": "code",
   "execution_count": null,
   "id": "2f2d7b7a",
   "metadata": {
    "deletable": false,
    "nbgrader": {
     "cell_type": "code",
     "checksum": "9f8286ab4678a985e2764af6e7080ff3",
     "grade": true,
     "grade_id": "cell-0d86f262692a5bab",
     "locked": false,
     "points": 0,
     "schema_version": 3,
     "solution": true,
     "task": false
    }
   },
   "outputs": [],
   "source": [
    "(* ENTRER VOTRE CODE ICI *)"
   ]
  },
  {
   "cell_type": "markdown",
   "id": "d110260b",
   "metadata": {
    "deletable": false,
    "editable": false,
    "nbgrader": {
     "cell_type": "markdown",
     "checksum": "9964faf7d81e62a55cebf59344898a01",
     "grade": false,
     "grade_id": "cell-4b7276c73cf1edfd",
     "locked": true,
     "schema_version": 3,
     "solution": false,
     "task": false
    }
   },
   "source": [
    "#### Question 11\n",
    "Écrire une fonction `trouver_dyn : ('a, 'b) table_dyn -> 'a -> 'b` qui prend en argument une table et une clé et qui renvoie la valeur associée à la clé si elle existe."
   ]
  },
  {
   "cell_type": "code",
   "execution_count": null,
   "id": "ef08e78b",
   "metadata": {
    "deletable": false,
    "nbgrader": {
     "cell_type": "code",
     "checksum": "10717102a0cda01c8bceb5a777db0a77",
     "grade": true,
     "grade_id": "cell-9e9cc5bdeee72366",
     "locked": false,
     "points": 0,
     "schema_version": 3,
     "solution": true,
     "task": false
    }
   },
   "outputs": [],
   "source": [
    "(* ENTRER VOTRE CODE ICI *)"
   ]
  },
  {
   "cell_type": "markdown",
   "id": "d30ddd08",
   "metadata": {
    "deletable": false,
    "editable": false,
    "nbgrader": {
     "cell_type": "markdown",
     "checksum": "d8dfb748ca39263285d47c54bcdb8c4d",
     "grade": false,
     "grade_id": "cell-b2712fbff32d0c38",
     "locked": true,
     "schema_version": 3,
     "solution": false,
     "task": false
    }
   },
   "source": [
    "#### Question 12\n",
    "Si le nombre d'éléments de la table dépasse le double de la largeur de la table, alors on double la largeur de la table. Écrire une fonction `redimensionne_dyn : ('a, 'b) table_dyn -> unit` qui réarrange la table passée en argument en doublant sa largeur."
   ]
  },
  {
   "cell_type": "code",
   "execution_count": null,
   "id": "61b3d780",
   "metadata": {
    "deletable": false,
    "nbgrader": {
     "cell_type": "code",
     "checksum": "ae65e59aa8726b758ee9db6b13bfab5c",
     "grade": true,
     "grade_id": "cell-99a9b75526fa98e7",
     "locked": false,
     "points": 0,
     "schema_version": 3,
     "solution": true,
     "task": false
    }
   },
   "outputs": [],
   "source": [
    "(* ENTRER VOTRE CODE ICI *)"
   ]
  },
  {
   "cell_type": "markdown",
   "id": "00966750",
   "metadata": {
    "deletable": false,
    "editable": false,
    "nbgrader": {
     "cell_type": "markdown",
     "checksum": "07c41a12ff87dce1120bec3f61c0ade3",
     "grade": false,
     "grade_id": "cell-ae971f466b276797",
     "locked": true,
     "schema_version": 3,
     "solution": false,
     "task": false
    }
   },
   "source": [
    "#### Question 13\n",
    "En déduire une fonction `ajouter_dyn : ('a, 'b) table_dyn -> 'a -> 'b -> unit` qui prend en argument une table, une clé $c$ et une valeur $v$ et qui ajoute le couple $(c,v)$ en redimensionnant la table si nécessaire."
   ]
  },
  {
   "cell_type": "code",
   "execution_count": null,
   "id": "72184fd3",
   "metadata": {
    "deletable": false,
    "nbgrader": {
     "cell_type": "code",
     "checksum": "679cfdc936ffde9f890cc3f94b97bd51",
     "grade": true,
     "grade_id": "cell-02c50926a64a7f8f",
     "locked": false,
     "points": 0,
     "schema_version": 3,
     "solution": true,
     "task": false
    }
   },
   "outputs": [],
   "source": [
    "(* ENTRER VOTRE CODE ICI *)"
   ]
  },
  {
   "cell_type": "markdown",
   "id": "2214603b",
   "metadata": {
    "deletable": false,
    "editable": false,
    "nbgrader": {
     "cell_type": "markdown",
     "checksum": "389ef7f7e695f5cf6213989389238794",
     "grade": false,
     "grade_id": "cell-86a912b385907613",
     "locked": true,
     "schema_version": 3,
     "solution": false,
     "task": false
    }
   },
   "source": [
    "#### Question 14\n",
    "Écrire une fonction `supprimer_dyn : ('a, 'b) table_dyn -> 'a -> unit` qui prend en argument une table et une clé $c$ et qui supprime l'entrée associée à la clé $c$ dans la table. "
   ]
  },
  {
   "cell_type": "code",
   "execution_count": null,
   "id": "3acc4c89",
   "metadata": {
    "deletable": false,
    "nbgrader": {
     "cell_type": "code",
     "checksum": "220cc88647d639ac9c7c791053dd6941",
     "grade": true,
     "grade_id": "cell-0355806cdc3942dd",
     "locked": false,
     "points": 0,
     "schema_version": 3,
     "solution": true,
     "task": false
    }
   },
   "outputs": [],
   "source": [
    "(* ENTRER VOTRE CODE ICI *)"
   ]
  },
  {
   "cell_type": "markdown",
   "id": "5ef6b9b9",
   "metadata": {
    "deletable": false,
    "editable": false,
    "nbgrader": {
     "cell_type": "markdown",
     "checksum": "df45cba921afa5a6f22e9cd0ba532ee6",
     "grade": false,
     "grade_id": "cell-f55b9c3dc67eb6f8",
     "locked": true,
     "schema_version": 3,
     "solution": false,
     "task": false
    }
   },
   "source": [
    "## Largeur et nombre premier\n",
    "Les tables de hachage sont réputées  mieux fonctionner si la taille du tableau utilisé est un\n",
    "nombre premier. \n",
    "\n",
    "On va donc construire un tableau de nombres premiers proches de puissances de 2. Pour cela, on utilisera le tableau `t` de longueur $N=40$ défini ci-dessous, qui vérifie : pour tout $i \\in ⟦ 0, N ⟦$, $2^{i}-t.(i)$ est un nombre premier."
   ]
  },
  {
   "cell_type": "code",
   "execution_count": null,
   "id": "7fa916db",
   "metadata": {
    "deletable": false,
    "editable": false,
    "nbgrader": {
     "cell_type": "code",
     "checksum": "1ab5b7445c373ffabda1263dbb5bf726",
     "grade": false,
     "grade_id": "cell-1e1c1422170b9a22",
     "locked": true,
     "schema_version": 3,
     "solution": false,
     "task": false
    }
   },
   "outputs": [],
   "source": [
    "(* tables des nombres premiers proches d'une puissance de deux :\n",
    "   si t.(i) vaut k, alors 2**i - k est premier.\n",
    "   Les valeurs de t sont toutes strictement positives, sauf la première, négative.\n",
    "   t est de longueur 40.\n",
    "*)\n",
    "\n",
    "let t =\n",
    "  [| -1; (* 2**0 - (-1) est premier *)\n",
    "     0; (* 2**1 - 0 est premier *)\n",
    "     1; (* 2**2 - 1 est premier *)\n",
    "     1; (* 2**3 - 1 est premier *)\n",
    "     3; (* 2**4 - 3 est premier *)\n",
    "     1;\n",
    "     3;\n",
    "     1;\n",
    "     5;\n",
    "     3;\n",
    "     3;\n",
    "     9;\n",
    "     3;\n",
    "     1;\n",
    "     3;\n",
    "     19;\n",
    "     15;\n",
    "     1;\n",
    "     5;\n",
    "     1;\n",
    "     3;\n",
    "     9;\n",
    "     3;\n",
    "     15;\n",
    "     3;\n",
    "     39;\n",
    "     5;\n",
    "     39;\n",
    "     57;\n",
    "     3;\n",
    "     35;\n",
    "     1;\n",
    "     5;\n",
    "     9;\n",
    "     41;\n",
    "     31;\n",
    "     5;\n",
    "     25;\n",
    "     45;\n",
    "     7; (* 2**39 - 7 est premier *)\n",
    "    |]"
   ]
  },
  {
   "cell_type": "markdown",
   "id": "8e856928",
   "metadata": {
    "deletable": false,
    "editable": false,
    "nbgrader": {
     "cell_type": "markdown",
     "checksum": "b8a8fd3d6a897ede736a875ea86b7823",
     "grade": false,
     "grade_id": "cell-0f33c143df1708db",
     "locked": true,
     "schema_version": 3,
     "solution": false,
     "task": false
    }
   },
   "source": [
    "#### Question 15\n",
    "Construire un tableau `premiers` tel que pour tout $i \\in ⟦ 0, N ⟦$, `premiers.(i)` contient $2^{i}-t.(i)$."
   ]
  },
  {
   "cell_type": "code",
   "execution_count": null,
   "id": "07367a60",
   "metadata": {
    "deletable": false,
    "nbgrader": {
     "cell_type": "code",
     "checksum": "fd763ab101499fdceb6ec59b98fcb1bf",
     "grade": true,
     "grade_id": "cell-889f996cc6147841",
     "locked": false,
     "points": 0,
     "schema_version": 3,
     "solution": true,
     "task": false
    }
   },
   "outputs": [],
   "source": [
    "(* ENTRER VOTRE CODE ICI *)"
   ]
  },
  {
   "cell_type": "markdown",
   "id": "b059a24a",
   "metadata": {
    "deletable": false,
    "editable": false,
    "nbgrader": {
     "cell_type": "markdown",
     "checksum": "73218c68891385792971e2039ea605ea",
     "grade": false,
     "grade_id": "cell-93f35bc7f44d174d",
     "locked": true,
     "schema_version": 3,
     "solution": false,
     "task": false
    }
   },
   "source": [
    "#### Question 16\n",
    "Reprendre les questions de la partie précédente de sorte que les largeurs de tables appartiennent à la liste `premiers`. On pourra modifier le type `table_dyn` pour y ajouter toute donnée pertinente."
   ]
  },
  {
   "cell_type": "code",
   "execution_count": null,
   "id": "57c556b9",
   "metadata": {
    "deletable": false,
    "nbgrader": {
     "cell_type": "code",
     "checksum": "72218ee935dd47a1747abd9cf20779c7",
     "grade": true,
     "grade_id": "cell-2178f1610f682a05",
     "locked": false,
     "points": 0,
     "schema_version": 3,
     "solution": true,
     "task": false
    }
   },
   "outputs": [],
   "source": [
    "(* ENTRER VOTRE CODE ICI *)"
   ]
  }
 ],
 "metadata": {
  "kernelspec": {
   "display_name": "OCaml default",
   "language": "OCaml",
   "name": "ocaml-jupyter"
  },
  "language_info": {
   "codemirror_mode": "text/x-ocaml",
   "file_extension": ".ml",
   "mimetype": "text/x-ocaml",
   "name": "OCaml",
   "nbconverter_exporter": null,
   "pygments_lexer": "OCaml",
   "version": "4.05.0"
  },
  "latex_envs": {
   "LaTeX_envs_menu_present": true,
   "autoclose": false,
   "autocomplete": true,
   "bibliofile": "biblio.bib",
   "cite_by": "apalike",
   "current_citInitial": 1,
   "eqLabelWithNumbers": true,
   "eqNumInitial": 1,
   "hotkeys": {
    "equation": "Ctrl-E",
    "itemize": "Ctrl-I"
   },
   "labels_anchors": false,
   "latex_user_defs": false,
   "report_style_numbering": false,
   "user_envs_cfg": false
  }
 },
 "nbformat": 4,
 "nbformat_minor": 5
}
