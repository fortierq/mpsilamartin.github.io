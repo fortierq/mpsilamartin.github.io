{
 "cells": [
  {
   "cell_type": "markdown",
   "id": "6ad1011e",
   "metadata": {},
   "source": [
    "# Premiers pas"
   ]
  },
  {
   "cell_type": "markdown",
   "id": "7b192b95",
   "metadata": {},
   "source": [
    "Vous vous trouvez actuellement dans un *notebook* Jupyter. Celui-ci contient deux types de cellule : des cellules de texte (comme celle-ci), et des cellules de code.\n",
    "\n",
    "Les cellules peuvent être exécutées via le menu **Run**, via l'icône Play ou avec un raccourci clavier :\n",
    "- `Shift+Entrée` pour exécuter la cellule et passer à la suivante ;\n",
    "- `Ctrl+Entrée` pour exécuter la cellule sans passer à la suivante ;\n",
    "- `Alt+Entrée` pour exécuter la cellule et créer une nouvelle cellule en dessous.\n",
    "\n",
    "Par exemple, la cellule de code suivante définit une fonction permettant de calculer la factorielle d'un entier naturel."
   ]
  },
  {
   "cell_type": "code",
   "execution_count": 1,
   "id": "08dcbed4",
   "metadata": {},
   "outputs": [
    {
     "data": {
      "text/plain": [
       "val fact : int -> int = <fun>\n"
      ]
     },
     "execution_count": 1,
     "metadata": {},
     "output_type": "execute_result"
    }
   ],
   "source": [
    "let rec fact n =\n",
    "    match n with\n",
    "    | 0 -> 1\n",
    "    | _ -> n * fact (n-1)"
   ]
  },
  {
   "cell_type": "markdown",
   "id": "d16788d1",
   "metadata": {},
   "source": [
    "La cellule ci-dessous appelle la fonction `fact` et ne pourra donc être exécutée sans erreur que si la cellule du dessus a été exécutée."
   ]
  },
  {
   "cell_type": "code",
   "execution_count": 2,
   "id": "98d13310",
   "metadata": {},
   "outputs": [
    {
     "data": {
      "text/plain": [
       "- : int = 720\n"
      ]
     },
     "execution_count": 2,
     "metadata": {},
     "output_type": "execute_result"
    }
   ],
   "source": [
    "fact 6"
   ]
  },
  {
   "cell_type": "markdown",
   "id": "3896dfd6",
   "metadata": {},
   "source": [
    "Par défaut, les nouvelles cellules créées sont des cellules de code. Pour modifier le style d'une cellule, passez en mode commande à l'aide de la touche `Echap` si vous êtes en mode édition, puis tapez `m` pour transformer la cellule courante en cellule de texte ou `y` pour la transformer en cellule de code.\n",
    "\n",
    "Pour la mise en forme des cellules de texte, vous pouvez consulter l'aide sur Markdown présente dans le menu **Help**\n",
    "\n",
    "Pour en savoir plus, vous pouvez consulter [la documentation de JupyterLab](https://jupyterlab.readthedocs.io/en/stable/user/interface.html)."
   ]
  }
 ],
 "metadata": {
  "kernelspec": {
   "display_name": "OCaml default",
   "language": "OCaml",
   "name": "ocaml-jupyter"
  },
  "language_info": {
   "codemirror_mode": "text/x-ocaml",
   "file_extension": ".ml",
   "mimetype": "text/x-ocaml",
   "name": "OCaml",
   "nbconverter_exporter": null,
   "pygments_lexer": "OCaml",
   "version": "4.08.1"
  }
 },
 "nbformat": 4,
 "nbformat_minor": 5
}
