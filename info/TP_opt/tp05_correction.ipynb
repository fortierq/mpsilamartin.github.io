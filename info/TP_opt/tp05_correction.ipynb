{
 "cells": [
  {
   "cell_type": "markdown",
   "id": "d2e158b5",
   "metadata": {},
   "source": [
    "# Implémentation d'une file avec deux piles"
   ]
  },
  {
   "cell_type": "code",
   "execution_count": 1,
   "id": "d57d86cc",
   "metadata": {
    "scrolled": true
   },
   "outputs": [
    {
     "data": {
      "text/plain": [
       "type 'a file = { entree : 'a Stack.t; sortie : 'a Stack.t; }\n"
      ]
     },
     "execution_count": 1,
     "metadata": {},
     "output_type": "execute_result"
    }
   ],
   "source": [
    "type 'a file = {\n",
    "    entree : 'a Stack.t;\n",
    "    sortie : 'a Stack.t\n",
    "  };;"
   ]
  },
  {
   "cell_type": "markdown",
   "id": "02008c21",
   "metadata": {},
   "source": [
    "#### Question 1\n",
    "Écrire une fonction `creer_file : unit -> 'a file` qui renvoie une file vide."
   ]
  },
  {
   "cell_type": "code",
   "execution_count": 2,
   "id": "803ac645",
   "metadata": {},
   "outputs": [
    {
     "data": {
      "text/plain": [
       "val creer_file : unit -> 'a file = <fun>\n"
      ]
     },
     "execution_count": 2,
     "metadata": {},
     "output_type": "execute_result"
    }
   ],
   "source": [
    "let creer_file () =\n",
    "  {entree = Stack.create ();\n",
    "   sortie = Stack.create ()\n",
    "  }\n",
    ";;"
   ]
  },
  {
   "cell_type": "markdown",
   "id": "8f403e4c",
   "metadata": {},
   "source": [
    "#### Question 2\n",
    "Écrire une fonction `est_vide : 'a file -> bool` qui renvoie `true` si la file est vide, `false` sinon."
   ]
  },
  {
   "cell_type": "code",
   "execution_count": 3,
   "id": "287420de",
   "metadata": {},
   "outputs": [
    {
     "data": {
      "text/plain": [
       "val est_vide : 'a file -> bool = <fun>\n"
      ]
     },
     "execution_count": 3,
     "metadata": {},
     "output_type": "execute_result"
    }
   ],
   "source": [
    "let est_vide f = Stack.is_empty f.sortie && Stack.is_empty f.entree;;"
   ]
  },
  {
   "cell_type": "markdown",
   "id": "c32036a4",
   "metadata": {},
   "source": [
    "#### Question 3\n",
    "Écrire une fonction `enfiler : 'a -> 'a file -> unit` qui ajoute un élément dans la file."
   ]
  },
  {
   "cell_type": "code",
   "execution_count": 4,
   "id": "fc9534fb",
   "metadata": {},
   "outputs": [
    {
     "data": {
      "text/plain": [
       "val enfiler : 'a -> 'a file -> unit = <fun>\n"
      ]
     },
     "execution_count": 4,
     "metadata": {},
     "output_type": "execute_result"
    }
   ],
   "source": [
    "let enfiler x f =\n",
    "  Stack.push x f.entree\n",
    ";;"
   ]
  },
  {
   "cell_type": "markdown",
   "id": "92f4cf09",
   "metadata": {},
   "source": [
    "#### Question 4\n",
    "Écrire une fonction `defiler : 'a file -> 'a` qui supprime et renvoie l'élément en début de file."
   ]
  },
  {
   "cell_type": "code",
   "execution_count": 5,
   "id": "e7f5a3fb",
   "metadata": {},
   "outputs": [
    {
     "data": {
      "text/plain": [
       "exception File_vide\n"
      ]
     },
     "execution_count": 5,
     "metadata": {},
     "output_type": "execute_result"
    },
    {
     "data": {
      "text/plain": [
       "val defiler : 'a file -> 'a = <fun>\n"
      ]
     },
     "execution_count": 5,
     "metadata": {},
     "output_type": "execute_result"
    }
   ],
   "source": [
    "exception File_vide;;\n",
    "\n",
    "let defiler f =\n",
    "  if Stack.is_empty f.sortie\n",
    "  then\n",
    "    if Stack.is_empty f.entree\n",
    "    then raise File_vide\n",
    "    else\n",
    "      while not (Stack.is_empty f.entree) do\n",
    "        Stack.push (Stack.pop f.entree) f.sortie\n",
    "      done;\n",
    "  Stack.pop f.sortie\n",
    ";;"
   ]
  },
  {
   "cell_type": "markdown",
   "id": "4cec9db0",
   "metadata": {},
   "source": [
    "#### Question 5\n",
    "Tester les fonctions précédentes :\n",
    "\n",
    "- créer une file vide ;\n",
    "- lui ajouter les entiers de 1 à 5 ;\n",
    "- supprimer et afficher 3 éléments de la file ;\n",
    "- lui ajouter les entiers 6 et 7 ;\n",
    "- vider la file en affichant ses éléments."
   ]
  },
  {
   "cell_type": "code",
   "execution_count": 6,
   "id": "327ddcf6",
   "metadata": {
    "scrolled": true
   },
   "outputs": [
    {
     "data": {
      "text/plain": [
       "val ma_file : '_weak1 file = {entree = <abstr>; sortie = <abstr>}\n"
      ]
     },
     "execution_count": 6,
     "metadata": {},
     "output_type": "execute_result"
    },
    {
     "data": {
      "text/plain": [
       "- : unit = ()\n"
      ]
     },
     "execution_count": 6,
     "metadata": {},
     "output_type": "execute_result"
    },
    {
     "data": {
      "text/plain": [
       "- : unit = ()\n"
      ]
     },
     "execution_count": 6,
     "metadata": {},
     "output_type": "execute_result"
    },
    {
     "data": {
      "text/plain": [
       "- : unit = ()\n"
      ]
     },
     "execution_count": 6,
     "metadata": {},
     "output_type": "execute_result"
    },
    {
     "data": {
      "text/plain": [
       "- : unit = ()\n"
      ]
     },
     "execution_count": 6,
     "metadata": {},
     "output_type": "execute_result"
    },
    {
     "data": {
      "text/plain": [
       "- : unit = ()\n"
      ]
     },
     "execution_count": 6,
     "metadata": {},
     "output_type": "execute_result"
    }
   ],
   "source": [
    "let ma_file = creer_file ();;\n",
    "\n",
    "for i = 1 to 5 do\n",
    "  enfiler i ma_file\n",
    "done;;\n",
    "\n",
    "for i = 1 to 3 do\n",
    "    print_int (defiler ma_file);\n",
    "    print_char ' '\n",
    "done;;\n",
    "\n",
    "enfiler 6 ma_file;;\n",
    "enfiler 7 ma_file;;\n",
    "  \n",
    "\n",
    "try\n",
    "  while true do\n",
    "    print_int (defiler ma_file);\n",
    "    print_char ' '\n",
    "  done\n",
    "with\n",
    "| File_vide -> ()\n",
    ";;\n"
   ]
  },
  {
   "cell_type": "markdown",
   "id": "76cd41cb",
   "metadata": {},
   "source": [
    "# Implémentation d'une file avec une liste circulaire"
   ]
  },
  {
   "cell_type": "markdown",
   "id": "9b2baee5",
   "metadata": {},
   "source": [
    "Une liste chaînée circulaire est une liste chaînée dont le dernier élément pointe vers le premier."
   ]
  },
  {
   "cell_type": "markdown",
   "id": "bb0e5937",
   "metadata": {},
   "source": [
    "Afin de représenter une telle liste, on définit les types suivants :"
   ]
  },
  {
   "cell_type": "code",
   "execution_count": 7,
   "id": "9c1f0fcb",
   "metadata": {},
   "outputs": [
    {
     "data": {
      "text/plain": [
       "type 'a cellule = { valeur : 'a; mutable suivant : 'a cellule; }\n"
      ]
     },
     "execution_count": 7,
     "metadata": {},
     "output_type": "execute_result"
    },
    {
     "data": {
      "text/plain": [
       "type 'a liste = Nil | Cellule of 'a cellule\n"
      ]
     },
     "execution_count": 7,
     "metadata": {},
     "output_type": "execute_result"
    }
   ],
   "source": [
    "type 'a cellule = {valeur: 'a ; mutable suivant: 'a cellule};;\n",
    "type 'a liste = Nil | Cellule of 'a cellule;;"
   ]
  },
  {
   "cell_type": "markdown",
   "id": "239439de",
   "metadata": {},
   "source": [
    "Nous allons utiliser une liste chaînée circulaire pour représenter une file, ce qui amène à définir le type suivant :"
   ]
  },
  {
   "cell_type": "code",
   "execution_count": 8,
   "id": "8c2cacce",
   "metadata": {},
   "outputs": [
    {
     "data": {
      "text/plain": [
       "type 'a file = { mutable queue : 'a liste; }\n"
      ]
     },
     "execution_count": 8,
     "metadata": {},
     "output_type": "execute_result"
    }
   ],
   "source": [
    "type 'a file = {mutable queue : 'a liste};;"
   ]
  },
  {
   "cell_type": "markdown",
   "id": "4bbdcdf2",
   "metadata": {},
   "source": [
    "On pointera sur le dernier élément de la file, autrement dit le dernier élément à être entré. Le premier élément à sortir sera donc l'élément suivant.\n",
    "\n",
    "Par exemple, la liste représentée ci-dessous représentera la file $1-2-3-4-5-6-7$.\n",
    "\n",
    "<img src=\"./liste_chainee.png\"> </img>"
   ]
  },
  {
   "cell_type": "code",
   "execution_count": 9,
   "id": "b8fe8a45",
   "metadata": {},
   "outputs": [
    {
     "data": {
      "text/plain": [
       "val cellule7 : int cellule =\n",
       "  {valeur = 7;\n",
       "   suivant =\n",
       "    {valeur = 1;\n",
       "     suivant =\n",
       "      {valeur = 2;\n",
       "       suivant =\n",
       "        {valeur = 3;\n",
       "         suivant =\n",
       "          {valeur = 4;\n",
       "           suivant = {valeur = 5; suivant = {valeur = 6; suivant = <cycle>}}}}}}}\n"
      ]
     },
     "execution_count": 9,
     "metadata": {},
     "output_type": "execute_result"
    },
    {
     "data": {
      "text/plain": [
       "val ma_file : int file =\n",
       "  {queue =\n",
       "    Cellule\n",
       "     {valeur = 7;\n",
       "      suivant =\n",
       "       {valeur = 1;\n",
       "        suivant =\n",
       "         {valeur = 2;\n",
       "          suivant =\n",
       "           {valeur = 3;\n",
       "            suivant =\n",
       "             {valeur = 4;\n",
       "              suivant =\n",
       "               {valeur = 5; suivant = {valeur = 6; suivant = <cycle>}}}}}}}}\n"
      ]
     },
     "execution_count": 9,
     "metadata": {},
     "output_type": "execute_result"
    }
   ],
   "source": [
    "(* Construction \"à la main\" de la file en exemple *)\n",
    "let rec cellule7 = {\n",
    "    valeur = 7 ;\n",
    "    suivant = {\n",
    "        valeur = 1 ;\n",
    "        suivant = {\n",
    "            valeur = 2 ;\n",
    "            suivant = {\n",
    "                valeur = 3 ;\n",
    "                suivant = {\n",
    "                    valeur = 4 ;\n",
    "                    suivant = {\n",
    "                        valeur = 5 ;\n",
    "                        suivant = {\n",
    "                            valeur = 6;\n",
    "                            suivant = cellule7\n",
    "                          }\n",
    "                      }\n",
    "                  }\n",
    "              }\n",
    "          }\n",
    "      }\n",
    "  }\n",
    ";;\n",
    "\n",
    "let ma_file = {queue = Cellule cellule7};;"
   ]
  },
  {
   "cell_type": "markdown",
   "id": "a71708ec",
   "metadata": {},
   "source": [
    "#### Question 6\n",
    "\\'Ecrire une fonction `creer_file : unit -> 'a file` qui renvoie une file vide."
   ]
  },
  {
   "cell_type": "code",
   "execution_count": 10,
   "id": "8fa59546",
   "metadata": {},
   "outputs": [
    {
     "data": {
      "text/plain": [
       "val creer_file : unit -> 'a file = <fun>\n"
      ]
     },
     "execution_count": 10,
     "metadata": {},
     "output_type": "execute_result"
    }
   ],
   "source": [
    "let creer_file () =\n",
    "  {queue = Nil}\n",
    ";;"
   ]
  },
  {
   "cell_type": "markdown",
   "id": "868659bd",
   "metadata": {},
   "source": [
    "#### Question 7\n",
    "Écrire une fonction `est_vide : 'a file -> bool` qui renvoie `true` si la liste est vide, `false` sinon."
   ]
  },
  {
   "cell_type": "code",
   "execution_count": 11,
   "id": "87879c21",
   "metadata": {},
   "outputs": [
    {
     "data": {
      "text/plain": [
       "val est_vide : 'a file -> bool = <fun>\n"
      ]
     },
     "execution_count": 11,
     "metadata": {},
     "output_type": "execute_result"
    }
   ],
   "source": [
    "let est_vide p =\n",
    "  p.queue = Nil\n",
    ";;"
   ]
  },
  {
   "cell_type": "markdown",
   "id": "e8121b41",
   "metadata": {},
   "source": [
    "#### Question 8\n",
    "Écrire une fonction `un_seul_element : 'a file -> bool` qui renvoie `true` si la file ne contient qu'un élément, `false` sinon.\n",
    "\n",
    "*La file ne contient qu'un seul élément si elle est non vide et que sa cellule de queue a pour élément suivant elle-même...*"
   ]
  },
  {
   "cell_type": "code",
   "execution_count": 12,
   "id": "2f42590a",
   "metadata": {},
   "outputs": [
    {
     "data": {
      "text/plain": [
       "val un_seul_element : 'a file -> bool = <fun>\n"
      ]
     },
     "execution_count": 12,
     "metadata": {},
     "output_type": "execute_result"
    }
   ],
   "source": [
    "let un_seul_element p =\n",
    "  match p.queue with\n",
    "  | Nil -> false\n",
    "  | Cellule c -> c.suivant == c (* Attention à bien utiliser une égalité physique *)\n",
    ";;"
   ]
  },
  {
   "cell_type": "markdown",
   "id": "0a9c216d",
   "metadata": {},
   "source": [
    "#### Question 9\n",
    "Écrire une fonction `enfiler : 'a -> 'a file -> unit` qui ajoute un élément dans la file."
   ]
  },
  {
   "cell_type": "code",
   "execution_count": 13,
   "id": "4345d5b2",
   "metadata": {},
   "outputs": [
    {
     "data": {
      "text/plain": [
       "val enfiler : 'a -> 'a file -> unit = <fun>\n"
      ]
     },
     "execution_count": 13,
     "metadata": {},
     "output_type": "execute_result"
    }
   ],
   "source": [
    "let enfiler x f =\n",
    "  match f.queue with\n",
    "  | Nil -> let rec new_cell = {valeur = x ; suivant = new_cell} in\n",
    "           f.queue <- Cellule new_cell      \n",
    "  | Cellule c -> let tete = c.suivant in\n",
    "                 let new_cell = {valeur = x; suivant = tete} in\n",
    "                 c.suivant <- new_cell;\n",
    "                 f.queue <- Cellule new_cell\n",
    ";;"
   ]
  },
  {
   "cell_type": "markdown",
   "id": "c2bbe4b3",
   "metadata": {},
   "source": [
    "#### Question 10 \n",
    "Écrire une fonction `defiler : 'a file -> 'a` qui supprime et renvoie l'élément en début de file."
   ]
  },
  {
   "cell_type": "code",
   "execution_count": 14,
   "id": "a9471c53",
   "metadata": {},
   "outputs": [
    {
     "data": {
      "text/plain": [
       "exception File_vide\n"
      ]
     },
     "execution_count": 14,
     "metadata": {},
     "output_type": "execute_result"
    },
    {
     "data": {
      "text/plain": [
       "val defiler : 'a file -> 'a = <fun>\n"
      ]
     },
     "execution_count": 14,
     "metadata": {},
     "output_type": "execute_result"
    }
   ],
   "source": [
    "exception File_vide;;\n",
    "\n",
    "let defiler f =\n",
    "  match f.queue with\n",
    "  | Nil -> raise File_vide\n",
    "  | Cellule c -> let tete = c.suivant in\n",
    "                 if tete == c\n",
    "                 then f.queue <- Nil\n",
    "                 else c.suivant <- tete.suivant;\n",
    "                 tete.valeur\n",
    ";;"
   ]
  },
  {
   "cell_type": "markdown",
   "id": "06d887b3",
   "metadata": {},
   "source": [
    "#### Question 11 \n",
    "Tester vos fonctions avec le même protocole que dans l'exercice précédent."
   ]
  },
  {
   "cell_type": "code",
   "execution_count": 15,
   "id": "c23db4a7",
   "metadata": {},
   "outputs": [
    {
     "data": {
      "text/plain": [
       "val ma_file : '_weak2 file = {queue = Nil}\n"
      ]
     },
     "execution_count": 15,
     "metadata": {},
     "output_type": "execute_result"
    },
    {
     "data": {
      "text/plain": [
       "- : unit = ()\n"
      ]
     },
     "execution_count": 15,
     "metadata": {},
     "output_type": "execute_result"
    },
    {
     "data": {
      "text/plain": [
       "- : unit = ()\n"
      ]
     },
     "execution_count": 15,
     "metadata": {},
     "output_type": "execute_result"
    },
    {
     "data": {
      "text/plain": [
       "- : unit = ()\n"
      ]
     },
     "execution_count": 15,
     "metadata": {},
     "output_type": "execute_result"
    },
    {
     "data": {
      "text/plain": [
       "- : unit = ()\n"
      ]
     },
     "execution_count": 15,
     "metadata": {},
     "output_type": "execute_result"
    },
    {
     "data": {
      "text/plain": [
       "- : unit = ()\n"
      ]
     },
     "execution_count": 15,
     "metadata": {},
     "output_type": "execute_result"
    }
   ],
   "source": [
    "let ma_file = creer_file ();;\n",
    "\n",
    "for i = 1 to 5 do\n",
    "  enfiler i ma_file\n",
    "done;;\n",
    "\n",
    "for i = 1 to 3 do\n",
    "    print_int (defiler ma_file);\n",
    "    print_char ' '\n",
    "done;;\n",
    "\n",
    "enfiler 6 ma_file;;\n",
    "enfiler 7 ma_file;;\n",
    "  \n",
    "\n",
    "try\n",
    "  while true do\n",
    "    print_int (defiler ma_file);\n",
    "    print_char ' '\n",
    "  done\n",
    "with\n",
    "| File_vide -> ()\n",
    ";;\n"
   ]
  },
  {
   "cell_type": "markdown",
   "id": "4284027e",
   "metadata": {},
   "source": [
    "# Feu de forêt\n",
    "\n",
    "On considère un damier représentant une forêt partiellement en feu. Au départ, une seule case est en feu, puis le feu se propage. La probabilité $p$ que le feu se propage d'une case en feu aux cases voisines est constante.\n",
    "\n",
    "On considère que le damier est un carré de côté $400$ et que l'incendie naît au centre du carré.\n",
    "\n",
    "L'algorithme de propagation utilise une structure de file."
   ]
  },
  {
   "cell_type": "markdown",
   "id": "f4b50f3b",
   "metadata": {},
   "source": [
    "<div class=\"alert alert-info\" role=\"alert\">\n",
    "    \n",
    "Allumer  le centre du damier.<br/>\n",
    "Insérer le centre dans la file des cases en attente (précédemment vide).<br/>\n",
    "Tant que la file n'est pas vide,<br/>\n",
    "&ensp;&ensp;&ensp;&ensp;extraire une case de la file.<br/>\n",
    "&ensp;&ensp;&ensp;&ensp; Pour chacune des cases voisines,<br/>\n",
    "&ensp;&ensp;&ensp;&ensp;&ensp;&ensp;&ensp;&ensp;Si la case n'est pas en feu,<br/>\n",
    "&ensp;&ensp;&ensp;&ensp;&ensp;&ensp;&ensp;&ensp;&ensp;&ensp;&ensp;&ensp;tirer au sort la propagation avec la probabilité $p$,<br/>\n",
    "&ensp;&ensp;&ensp;&ensp;&ensp;&ensp;&ensp;&ensp;&ensp;&ensp;&ensp;&ensp;Si le feu se propage,<br/>\n",
    "&ensp;&ensp;&ensp;&ensp;&ensp;&ensp;&ensp;&ensp;&ensp;&ensp;&ensp;&ensp;&ensp;&ensp;&ensp;&ensp;allumer la case<br/>\n",
    "&ensp;&ensp;&ensp;&ensp;&ensp;&ensp;&ensp;&ensp;&ensp;&ensp;&ensp;&ensp;&ensp;&ensp;&ensp;&ensp;l'ajouter à la file.\n",
    "</div>"
   ]
  },
  {
   "cell_type": "markdown",
   "id": "8e1473ad",
   "metadata": {},
   "source": [
    "#### Question 12\n",
    "Compléter la fonction `propagation` qui simule graphiquement l'évolution de l'incendie. Elle prend en argument la probabilité $p$ ; chaque case sera représentée par un pixel."
   ]
  },
  {
   "cell_type": "markdown",
   "id": "b288f59d",
   "metadata": {},
   "source": [
    "#### Question  13\n",
    "Tester différentes valeurs de $p$ et trouver expérimentalement la plus petite valeur de $p$ pour laquelle les chances de propagation du feu jusqu'aux bords semblent non nulles."
   ]
  },
  {
   "cell_type": "code",
   "execution_count": 16,
   "id": "43a9ee00",
   "metadata": {},
   "outputs": [
    {
     "data": {
      "text/plain": [
       "- : unit = ()\n"
      ]
     },
     "execution_count": 16,
     "metadata": {},
     "output_type": "execute_result"
    },
    {
     "data": {
      "text/plain": [
       "val random_bool : float -> bool = <fun>\n"
      ]
     },
     "execution_count": 16,
     "metadata": {},
     "output_type": "execute_result"
    },
    {
     "data": {
      "text/plain": [
       "val couleur_point : int * int -> Graphics.color -> unit = <fun>\n"
      ]
     },
     "execution_count": 16,
     "metadata": {},
     "output_type": "execute_result"
    },
    {
     "data": {
      "text/plain": [
       "val propagation : float -> unit = <fun>\n"
      ]
     },
     "execution_count": 16,
     "metadata": {},
     "output_type": "execute_result"
    }
   ],
   "source": [
    "(* Chargement du module graphique *)\n",
    "#load \"graphics.cma\";;\n",
    "open Graphics;;\n",
    "\n",
    "Random.self_init ();;\n",
    "(* Renvoie true avec une probabilité p, false avec une probabilité 1-p *)\n",
    "let random_bool p =\n",
    "  Random.float 1. < p\n",
    ";;\n",
    "\n",
    "(* Modifie la couleur du pixel de coordonnées (x,y) avec la couleur c*)\n",
    "(* Exemples de valeur possibles pour c : red, blue, green, black *)\n",
    "let couleur_point (x,y) c =\n",
    "  set_color c ;\n",
    "  plot (x) (y)\n",
    ";;  \n",
    "\n",
    "let propagation p =\n",
    "  (* Ouvre une fenêtre graphique de la taille spécifiée *)\n",
    "  open_graph \" 400x400\" ;\n",
    "  (* Crée une matrice de taille 400x400 dont tous les termes valent false *)\n",
    "  let foret = Array.make_matrix 400 400 false in\n",
    "  let file = creer_file () in\n",
    "  \n",
    "  let allume (x,y) c =    foret.(x).(y) <- true ;\n",
    "    enfiler (x,y) file;\n",
    "    couleur_point (x,y) red\n",
    "  in\n",
    "  allume (200,200) red;\n",
    "  (*allume (100,100) red ;*)\n",
    "  let traite (x,y) c =\n",
    "(*if point_color x y = white then*)    \n",
    "    if x >= 0 && x < 400 \n",
    "      && y >= 0 && y < 400 && not foret.(x).(y) then\n",
    "\n",
    "      if random_bool p \n",
    "      then allume (x,y) c\n",
    "  in\n",
    "  try\n",
    "    while true do\n",
    "      let (x,y) = defiler file in\n",
    "      (* let c = point_color x y in *)\n",
    "      traite (x-1,y) red ;\n",
    "      traite (x,y-1) red ;\n",
    "      traite (x+1,y) red ;\n",
    "      traite (x,y+1) red\n",
    "    done; \n",
    "    print_string \"Appuyer sur une touche pour fermer le dessin\" ;\n",
    "    close_graph ()\n",
    "  with\n",
    "    | File_vide-> ignore (read_key ()) ; close_graph ()\n",
    ";;"
   ]
  }
 ],
 "metadata": {
  "kernelspec": {
   "display_name": "OCaml default",
   "language": "OCaml",
   "name": "ocaml-jupyter"
  },
  "language_info": {
   "codemirror_mode": "text/x-ocaml",
   "file_extension": ".ml",
   "mimetype": "text/x-ocaml",
   "name": "OCaml",
   "nbconverter_exporter": null,
   "pygments_lexer": "OCaml",
   "version": "4.08.1"
  },
  "toc": {
   "base_numbering": 1,
   "nav_menu": {},
   "number_sections": false,
   "sideBar": true,
   "skip_h1_title": false,
   "title_cell": "Table of Contents",
   "title_sidebar": "Contents",
   "toc_cell": false,
   "toc_position": {
    "height": "calc(100% - 180px)",
    "left": "10px",
    "top": "150px",
    "width": "371.594px"
   },
   "toc_section_display": true,
   "toc_window_display": true
  }
 },
 "nbformat": 4,
 "nbformat_minor": 5
}
