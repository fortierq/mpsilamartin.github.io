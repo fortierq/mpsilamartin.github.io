{
 "cells": [
  {
   "cell_type": "markdown",
   "id": "9201435a",
   "metadata": {
    "nbgrader": {
     "grade": false,
     "grade_id": "cell-44223c73906b4e9c",
     "locked": true,
     "schema_version": 3,
     "solution": false,
     "task": false
    }
   },
   "source": [
    "# Fonctions de hachage"
   ]
  },
  {
   "cell_type": "markdown",
   "id": "b44604a4",
   "metadata": {
    "nbgrader": {
     "grade": false,
     "grade_id": "cell-bd026c13284315db",
     "locked": true,
     "schema_version": 3,
     "solution": false,
     "task": false
    }
   },
   "source": [
    "On rappelle qu'une fonction de hachage est une fonction qui à toute clé d'un ensemble $C$ associe un élément d'un ensemble $N$ fini de cardinal raisonnable."
   ]
  },
  {
   "cell_type": "markdown",
   "id": "f7fb1d1d",
   "metadata": {
    "nbgrader": {
     "grade": false,
     "grade_id": "cell-903b3abbdde1c527",
     "locked": true,
     "schema_version": 3,
     "solution": false,
     "task": false
    }
   },
   "source": [
    "#### Question 1\n",
    "Le *hachage par division* de largeur $m$ est une fonction de hachage définie sur les entiers et à valeurs dans $⟦ 0, m-1 ⟧$, qui à tout entier $k$ associe le reste de la division euclidienne de $k$ par $m$.<br/>\n",
    "\n",
    "Écrire une fonction `hash_int : int -> int -> int` qui prend en argument deux entiers $m$ et $k$ et qui renvoie l'image de $k$ pour la fonction de hachage par division de largeur $m$ de $k$."
   ]
  },
  {
   "cell_type": "code",
   "execution_count": 1,
   "id": "c20a8a22",
   "metadata": {
    "nbgrader": {
     "grade": true,
     "grade_id": "cell-d86e08a466de15b1",
     "locked": false,
     "points": 0,
     "schema_version": 3,
     "solution": true,
     "task": false
    }
   },
   "outputs": [
    {
     "data": {
      "text/plain": [
       "val hash_int : int -> int -> int = <fun>\n"
      ]
     },
     "execution_count": 1,
     "metadata": {},
     "output_type": "execute_result"
    }
   ],
   "source": [
    "let hash_int m k =\n",
    "  k mod m\n",
    ";;"
   ]
  },
  {
   "cell_type": "markdown",
   "id": "e6199779",
   "metadata": {
    "nbgrader": {
     "grade": false,
     "grade_id": "cell-f0bc83c251252fe9",
     "locked": true,
     "schema_version": 3,
     "solution": false,
     "task": false
    }
   },
   "source": [
    "#### Question 2\n",
    "Dans le cas d'une chaîne de caractères, on va d'abord coder la chaîne sous forme d'entier avant de lui appliquer la fonction de hachage : la chaîne $s_0\\dots s_{n-1}$ pourra être codée par l'entier $\\displaystyle \\sum_{k=0}^{n-1} a_k 256^k$ où $a_k$ est le code ASCII du caractère $s_k$.<br/>\n",
    "\n",
    "Écrire une fonction `int_of_str : string -> int` qui prend en argument une chaîne de caractères et qui renvoie l'entier décrit ci-dessus."
   ]
  },
  {
   "cell_type": "code",
   "execution_count": 2,
   "id": "c671f24f",
   "metadata": {
    "nbgrader": {
     "grade": true,
     "grade_id": "cell-774cab5afdf4bdbf",
     "locked": false,
     "points": 0,
     "schema_version": 3,
     "solution": true,
     "task": false
    }
   },
   "outputs": [
    {
     "data": {
      "text/plain": [
       "val int_of_string : string -> int = <fun>\n"
      ]
     },
     "execution_count": 2,
     "metadata": {},
     "output_type": "execute_result"
    }
   ],
   "source": [
    "let int_of_string str =\n",
    "  let n = String.length str in\n",
    "  let somme = ref 0 in\n",
    "  for i = n-1 downto 0 do\n",
    "    somme := 256 * !somme + int_of_char (String.get str i)\n",
    "  done;\n",
    "  !somme\n",
    ";;"
   ]
  },
  {
   "cell_type": "markdown",
   "id": "ea52814f",
   "metadata": {
    "nbgrader": {
     "grade": false,
     "grade_id": "cell-ad04b23be77d46c5",
     "locked": true,
     "schema_version": 3,
     "solution": false,
     "task": false
    }
   },
   "source": [
    "#### Question 3\n",
    "En déduire une fonction `hash_string : int -> string -> int` de hachage pour les chaînes de caractères."
   ]
  },
  {
   "cell_type": "code",
   "execution_count": 3,
   "id": "a999d7a6",
   "metadata": {
    "nbgrader": {
     "grade": true,
     "grade_id": "cell-422fba40bb8bf474",
     "locked": false,
     "points": 0,
     "schema_version": 3,
     "solution": true,
     "task": false
    }
   },
   "outputs": [
    {
     "data": {
      "text/plain": [
       "val hash_string : int -> string -> int = <fun>\n"
      ]
     },
     "execution_count": 3,
     "metadata": {},
     "output_type": "execute_result"
    },
    {
     "data": {
      "text/plain": [
       "val hash_string : int -> string -> int = <fun>\n"
      ]
     },
     "execution_count": 3,
     "metadata": {},
     "output_type": "execute_result"
    }
   ],
   "source": [
    "(* Version naïve, en utilisant les deux fonctions précédentes *)\n",
    "let hash_string m str =\n",
    "  let code = int_of_string str in\n",
    "  hash_int m code\n",
    ";;\n",
    "\n",
    "(* Pour éviter les problèmes de débordement *)\n",
    "let hash_string m str =\n",
    "  let n = String.length str in\n",
    "  let somme = ref 0 in\n",
    "  for i = n-1 downto 0 do\n",
    "    somme := (256 * !somme + int_of_char (String.get str i)) mod m\n",
    "  done;\n",
    "  !somme\n",
    ";;"
   ]
  },
  {
   "cell_type": "markdown",
   "id": "18eb237f",
   "metadata": {
    "nbgrader": {
     "grade": false,
     "grade_id": "cell-f6cefbad67319c4f",
     "locked": true,
     "schema_version": 3,
     "solution": false,
     "task": false
    }
   },
   "source": [
    "# Tables de hachage de taille fixe\n",
    "\n",
    "On représente une table de hachage par le type"
   ]
  },
  {
   "cell_type": "code",
   "execution_count": 4,
   "id": "c049030a",
   "metadata": {
    "nbgrader": {
     "grade": false,
     "grade_id": "cell-41520c980f5a18b3",
     "locked": true,
     "schema_version": 3,
     "solution": false,
     "task": false
    }
   },
   "outputs": [
    {
     "data": {
      "text/plain": [
       "type ('a, 'b) table = { h : 'a -> int; contenu : ('a * 'b) list array; }\n"
      ]
     },
     "execution_count": 4,
     "metadata": {},
     "output_type": "execute_result"
    }
   ],
   "source": [
    "type ('a, 'b) table = {\n",
    "    h : 'a -> int ;\n",
    "    contenu : ('a * 'b) list array\n",
    "  };;"
   ]
  },
  {
   "cell_type": "markdown",
   "id": "06da8a93",
   "metadata": {
    "nbgrader": {
     "grade": false,
     "grade_id": "cell-dbec7986c231d6da",
     "locked": true,
     "schema_version": 3,
     "solution": false,
     "task": false
    }
   },
   "source": [
    "#### Question 4\n",
    "Écrire une fonction `creer_table : (’a -> int) -> int -> (’a, ’b) table` prenant en argument une fonction de hachage et la largeur de la table et qui renvoie une table de hachage vide."
   ]
  },
  {
   "cell_type": "code",
   "execution_count": 5,
   "id": "b2f858bf",
   "metadata": {
    "nbgrader": {
     "grade": true,
     "grade_id": "cell-769054f644948282",
     "locked": false,
     "points": 0,
     "schema_version": 3,
     "solution": true,
     "task": false
    }
   },
   "outputs": [
    {
     "data": {
      "text/plain": [
       "val creer_table : ('a -> int) -> int -> ('a, 'b) table = <fun>\n"
      ]
     },
     "execution_count": 5,
     "metadata": {},
     "output_type": "execute_result"
    }
   ],
   "source": [
    "let creer_table fonction_h largeur = {\n",
    "  h = fonction_h ;\n",
    "  contenu = Array.make largeur []\n",
    "}"
   ]
  },
  {
   "cell_type": "markdown",
   "id": "c3fdd0d8",
   "metadata": {
    "nbgrader": {
     "grade": false,
     "grade_id": "cell-7b4714205cce82c7",
     "locked": true,
     "schema_version": 3,
     "solution": false,
     "task": false
    }
   },
   "source": [
    "#### Question5\n",
    "Écrire une fonction `contient : ('a, 'b) table -> 'a -> bool` qui prend en argument une table et une clé et qui renvoie `true` si la table contient la clé, `false` sinon."
   ]
  },
  {
   "cell_type": "code",
   "execution_count": 6,
   "id": "b3aa620f",
   "metadata": {
    "nbgrader": {
     "grade": true,
     "grade_id": "cell-33506343e2cd785b",
     "locked": false,
     "points": 0,
     "schema_version": 3,
     "solution": true,
     "task": false
    }
   },
   "outputs": [
    {
     "data": {
      "text/plain": [
       "val liste_contient : ('a * 'b) list -> 'a -> bool = <fun>\n"
      ]
     },
     "execution_count": 6,
     "metadata": {},
     "output_type": "execute_result"
    },
    {
     "data": {
      "text/plain": [
       "val contient : ('a, 'b) table -> 'a -> bool = <fun>\n"
      ]
     },
     "execution_count": 6,
     "metadata": {},
     "output_type": "execute_result"
    }
   ],
   "source": [
    "let rec liste_contient lst cle =\n",
    "  match lst with\n",
    "  | [] -> false\n",
    "  | (k, _)::q -> k = cle || liste_contient q cle\n",
    ";;\n",
    "let contient tbl cle =\n",
    "  let i = tbl.h cle in\n",
    "  liste_contient tbl.contenu.(i) cle\n",
    ";;"
   ]
  },
  {
   "cell_type": "markdown",
   "id": "e3956b76",
   "metadata": {
    "nbgrader": {
     "grade": false,
     "grade_id": "cell-a63eab330d594ec3",
     "locked": true,
     "schema_version": 3,
     "solution": false,
     "task": false
    }
   },
   "source": [
    "#### Question 6\n",
    "Écrire une fonction `trouver : ('a, 'b) table -> 'a -> 'b` qui prend en argument une table et une clé et qui renvoie la valeur associée à la clé si elle existe."
   ]
  },
  {
   "cell_type": "code",
   "execution_count": 7,
   "id": "4ab5bd90",
   "metadata": {
    "nbgrader": {
     "grade": true,
     "grade_id": "cell-09977c5aa9ad6b87",
     "locked": false,
     "points": 0,
     "schema_version": 3,
     "solution": true,
     "task": false
    }
   },
   "outputs": [
    {
     "data": {
      "text/plain": [
       "val liste_trouve : ('a * 'b) list -> 'a -> 'b = <fun>\n"
      ]
     },
     "execution_count": 7,
     "metadata": {},
     "output_type": "execute_result"
    },
    {
     "data": {
      "text/plain": [
       "val trouver : ('a, 'b) table -> 'a -> 'b = <fun>\n"
      ]
     },
     "execution_count": 7,
     "metadata": {},
     "output_type": "execute_result"
    }
   ],
   "source": [
    "let rec liste_trouve lst cle =\n",
    "  match lst with\n",
    "  | [] -> raise Not_found\n",
    "  | (k, v)::q ->\n",
    "     if k = cle\n",
    "     then v\n",
    "     else liste_trouve q cle\n",
    ";;\n",
    "\n",
    "let trouver tbl cle =\n",
    "  let i = tbl.h cle in\n",
    "  liste_trouve tbl.contenu.(i) cle\n",
    ";;"
   ]
  },
  {
   "cell_type": "markdown",
   "id": "58fd60c9",
   "metadata": {
    "nbgrader": {
     "grade": false,
     "grade_id": "cell-d5244eb4121ca635",
     "locked": true,
     "schema_version": 3,
     "solution": false,
     "task": false
    }
   },
   "source": [
    "#### Question 7\n",
    "Écrire une fonction `ajouter : ('a, 'b) table -> 'a -> 'b -> unit` qui prend en argument une table, une clé $c$ et une valeur $v$ et qui ajoute le couple $(c,v)$. On précisera le comportement de la fonction si la clé est déjà présente dans la table."
   ]
  },
  {
   "cell_type": "code",
   "execution_count": 8,
   "id": "33aeab9a",
   "metadata": {
    "nbgrader": {
     "grade": true,
     "grade_id": "cell-823dd2938da52a96",
     "locked": false,
     "points": 0,
     "schema_version": 3,
     "solution": true,
     "task": false
    }
   },
   "outputs": [
    {
     "data": {
      "text/plain": [
       "val ajout_dans_liste : ('a * 'b) list -> 'a -> 'b -> ('a * 'b) list = <fun>\n"
      ]
     },
     "execution_count": 8,
     "metadata": {},
     "output_type": "execute_result"
    },
    {
     "data": {
      "text/plain": [
       "val ajouter : ('a, 'b) table -> 'a -> 'b -> unit = <fun>\n"
      ]
     },
     "execution_count": 8,
     "metadata": {},
     "output_type": "execute_result"
    }
   ],
   "source": [
    "(* Ici, on écrase l'ancienne valeur si la clé est déjà dans la table *)\n",
    "let rec ajout_dans_liste lst cle valeur =\n",
    "  match lst with\n",
    "  | [] -> [(cle, valeur)]\n",
    "  | (k, v)::q ->\n",
    "     if k = cle\n",
    "     then (cle, valeur)::q\n",
    "     else (k, v)::ajout_dans_liste q cle valeur\n",
    ";;\n",
    "let ajouter tbl cle valeur =\n",
    "  let i = tbl.h cle in\n",
    "  let new_liste =\n",
    "    ajout_dans_liste tbl.contenu.(i) cle valeur\n",
    "  in tbl.contenu.(i) <- new_liste\n",
    ";;"
   ]
  },
  {
   "cell_type": "markdown",
   "id": "52f34ec6",
   "metadata": {
    "nbgrader": {
     "grade": false,
     "grade_id": "cell-b17b4dea95cda8db",
     "locked": true,
     "schema_version": 3,
     "solution": false,
     "task": false
    }
   },
   "source": [
    "#### Question 8\n",
    "Écrire une fonction `supprimer : ('a, 'b) table -> 'a -> unit` qui prend en argument une table et une clé $c$ et qui supprime l'entrée associée à la clé $c$ dans la table. "
   ]
  },
  {
   "cell_type": "code",
   "execution_count": 9,
   "id": "3a7981be",
   "metadata": {
    "nbgrader": {
     "grade": true,
     "grade_id": "cell-1d60337d8db608d5",
     "locked": false,
     "points": 0,
     "schema_version": 3,
     "solution": true,
     "task": false
    }
   },
   "outputs": [
    {
     "data": {
      "text/plain": [
       "val suppr_dans_liste : ('a * 'b) list -> 'a -> ('a * 'b) list = <fun>\n"
      ]
     },
     "execution_count": 9,
     "metadata": {},
     "output_type": "execute_result"
    },
    {
     "data": {
      "text/plain": [
       "val supprimer : ('a, 'b) table -> 'a -> unit = <fun>\n"
      ]
     },
     "execution_count": 9,
     "metadata": {},
     "output_type": "execute_result"
    }
   ],
   "source": [
    "let rec suppr_dans_liste lst cle =\n",
    "  match lst with\n",
    "  | [] -> []\n",
    "  | (k, v)::q ->\n",
    "     if k = cle\n",
    "     then q\n",
    "     else (k, v)::suppr_dans_liste q cle\n",
    ";;\n",
    "let supprimer tbl cle =\n",
    "  let i = tbl.h cle in\n",
    "  let new_liste =\n",
    "    suppr_dans_liste tbl.contenu.(i) cle\n",
    "  in tbl.contenu.(i) <- new_liste\n",
    ";;"
   ]
  },
  {
   "cell_type": "markdown",
   "id": "a0380988",
   "metadata": {
    "nbgrader": {
     "grade": false,
     "grade_id": "cell-01542fcf68892b26",
     "locked": true,
     "schema_version": 3,
     "solution": false,
     "task": false
    }
   },
   "source": [
    "# Tables de hachage de taille dynamique"
   ]
  },
  {
   "cell_type": "markdown",
   "id": "b14de1c0",
   "metadata": {
    "nbgrader": {
     "grade": false,
     "grade_id": "cell-20e121946eb06026",
     "locked": true,
     "schema_version": 3,
     "solution": false,
     "task": false
    }
   },
   "source": [
    "## Une première approche\n",
    "Lorsque le nombre de collisions est important, la taille des les listes contenues dans le tableau augmente. Cela sera notamment le cas si on ajoute de nombreuses entrées dans la table.<br/>\n",
    "\n",
    "Or la partie coûteuse de la recherche d'une clé est le parcours de la liste correspondant à l'image de la clé par la fonction de hachage.<br/>\n",
    "\n",
    "\n",
    "On se propose d'améliorer ce point en utilisant des tables de hachage de taille dynamique : lorsque le nombre d'éléments devient trop important, on augmente la taille du tableau (ce qui impose de rajouter un paramètre à la fonction de hachage).\n",
    "\n",
    "On utilisera donc le type "
   ]
  },
  {
   "cell_type": "code",
   "execution_count": 10,
   "id": "6a4a3242",
   "metadata": {
    "nbgrader": {
     "grade": false,
     "grade_id": "cell-6e33e7ee381c4ca8",
     "locked": true,
     "schema_version": 3,
     "solution": false,
     "task": false
    }
   },
   "outputs": [
    {
     "data": {
      "text/plain": [
       "type ('a, 'b) table_dyn = {\n",
       "  h : int -> 'a -> int;\n",
       "  mutable nb : int;\n",
       "  mutable contenu : ('a * 'b) list array;\n",
       "}\n"
      ]
     },
     "execution_count": 10,
     "metadata": {},
     "output_type": "execute_result"
    }
   ],
   "source": [
    "type ('a, 'b) table_dyn = {\n",
    "    h : int -> 'a -> int ;\n",
    "    mutable nb : int ;\n",
    "    mutable contenu : ('a * 'b) list array\n",
    "  };;"
   ]
  },
  {
   "cell_type": "markdown",
   "id": "5afa2c96",
   "metadata": {
    "nbgrader": {
     "grade": false,
     "grade_id": "cell-44ecbf3dd07ddba5",
     "locked": true,
     "schema_version": 3,
     "solution": false,
     "task": false
    }
   },
   "source": [
    "où `nb` est le nombre d'éléments présents dans la table."
   ]
  },
  {
   "cell_type": "markdown",
   "id": "bc558cdd",
   "metadata": {
    "nbgrader": {
     "grade": false,
     "grade_id": "cell-484202b22fbc4600",
     "locked": true,
     "schema_version": 3,
     "solution": false,
     "task": false
    }
   },
   "source": [
    "#### Question 9\n",
    "Écrire une fonction `creer_table_dyn : (int -> ’a -> int) -> int -> (’a, ’b) table_dyn` prenant en argument une fonction de hachage et la largeur initiale de la table et qui renvoie une table de hachage vide."
   ]
  },
  {
   "cell_type": "code",
   "execution_count": 11,
   "id": "ad78076d",
   "metadata": {
    "nbgrader": {
     "grade": true,
     "grade_id": "cell-3b16981ce25dbf74",
     "locked": false,
     "points": 0,
     "schema_version": 3,
     "solution": true,
     "task": false
    }
   },
   "outputs": [
    {
     "data": {
      "text/plain": [
       "val creer_table_dyn : (int -> 'a -> int) -> int -> ('a, 'b) table_dyn = <fun>\n"
      ]
     },
     "execution_count": 11,
     "metadata": {},
     "output_type": "execute_result"
    }
   ],
   "source": [
    "let creer_table_dyn fonction_h largeur = {\n",
    "  h = fonction_h ;\n",
    "  nb = 0;\n",
    "  contenu = Array.make largeur []\n",
    "}"
   ]
  },
  {
   "cell_type": "markdown",
   "id": "2a2af5fb",
   "metadata": {
    "nbgrader": {
     "grade": false,
     "grade_id": "cell-6b025e501de9773e",
     "locked": true,
     "schema_version": 3,
     "solution": false,
     "task": false
    }
   },
   "source": [
    "#### Question 10\n",
    "Écrire une fonction `contient_dyn : ('a, 'b) table_dyn -> 'a -> bool` qui prend en argument une table et une clé et qui renvoie `true` si la table contient la clé, `false` sinon."
   ]
  },
  {
   "cell_type": "code",
   "execution_count": 12,
   "id": "2f2d7b7a",
   "metadata": {
    "nbgrader": {
     "grade": true,
     "grade_id": "cell-0d86f262692a5bab",
     "locked": false,
     "points": 0,
     "schema_version": 3,
     "solution": true,
     "task": false
    }
   },
   "outputs": [
    {
     "data": {
      "text/plain": [
       "val contient_dyn : ('a, 'b) table_dyn -> 'a -> bool = <fun>\n"
      ]
     },
     "execution_count": 12,
     "metadata": {},
     "output_type": "execute_result"
    }
   ],
   "source": [
    "let contient_dyn tbl cle =\n",
    "  let i = tbl.h (Array.length tbl.contenu) cle in\n",
    "  liste_contient tbl.contenu.(i) cle\n",
    ";;"
   ]
  },
  {
   "cell_type": "markdown",
   "id": "d110260b",
   "metadata": {
    "nbgrader": {
     "grade": false,
     "grade_id": "cell-4b7276c73cf1edfd",
     "locked": true,
     "schema_version": 3,
     "solution": false,
     "task": false
    }
   },
   "source": [
    "#### Question 11\n",
    "Écrire une fonction `trouver_dyn : ('a, 'b) table_dyn -> 'a -> 'b` qui prend en argument une table et une clé et qui renvoie la valeur associée à la clé si elle existe."
   ]
  },
  {
   "cell_type": "code",
   "execution_count": 13,
   "id": "ef08e78b",
   "metadata": {
    "nbgrader": {
     "grade": true,
     "grade_id": "cell-9e9cc5bdeee72366",
     "locked": false,
     "points": 0,
     "schema_version": 3,
     "solution": true,
     "task": false
    }
   },
   "outputs": [
    {
     "data": {
      "text/plain": [
       "val trouver_dyn : ('a, 'b) table_dyn -> 'a -> 'b = <fun>\n"
      ]
     },
     "execution_count": 13,
     "metadata": {},
     "output_type": "execute_result"
    }
   ],
   "source": [
    "let trouver_dyn tbl cle =\n",
    "  let i = tbl.h (Array.length tbl.contenu) cle in\n",
    "  liste_trouve tbl.contenu.(i) cle\n",
    ";;"
   ]
  },
  {
   "cell_type": "markdown",
   "id": "d30ddd08",
   "metadata": {
    "nbgrader": {
     "grade": false,
     "grade_id": "cell-b2712fbff32d0c38",
     "locked": true,
     "schema_version": 3,
     "solution": false,
     "task": false
    }
   },
   "source": [
    "#### Question 12\n",
    "Si le nombre d'éléments de la table dépasse le double de la largeur de la table, alors on double la largeur de la table. Écrire une fonction `redimensionne_dyn : ('a, 'b) table_dyn -> unit` qui réarrange la table passée en argument en doublant sa largeur."
   ]
  },
  {
   "cell_type": "code",
   "execution_count": 14,
   "id": "61b3d780",
   "metadata": {
    "nbgrader": {
     "grade": true,
     "grade_id": "cell-99a9b75526fa98e7",
     "locked": false,
     "points": 0,
     "schema_version": 3,
     "solution": true,
     "task": false
    },
    "scrolled": true
   },
   "outputs": [
    {
     "data": {
      "text/plain": [
       "val redimensionne_dyn : ('a, 'b) table_dyn -> unit = <fun>\n"
      ]
     },
     "execution_count": 14,
     "metadata": {},
     "output_type": "execute_result"
    }
   ],
   "source": [
    "let redimensionne_dyn tbl =\n",
    "  let new_largeur = 2 * Array.length tbl.contenu in\n",
    "  let new_contenu = Array.make new_largeur [] in\n",
    "  let rec ajoute_tous liste =\n",
    "    match liste with\n",
    "    | [] -> ()\n",
    "    | (k, v)::q -> \n",
    "      let i = tbl.h new_largeur k in\n",
    "      new_contenu.(i) <- ajout_dans_liste new_contenu.(i) k v ;\n",
    "      ajoute_tous q\n",
    "  in\n",
    "  for i = 0 to Array.length tbl.contenu - 1 do\n",
    "    ajoute_tous tbl.contenu.(i)\n",
    "  done;\n",
    "  tbl.contenu <- new_contenu\n",
    ";;"
   ]
  },
  {
   "cell_type": "markdown",
   "id": "00966750",
   "metadata": {
    "nbgrader": {
     "grade": false,
     "grade_id": "cell-ae971f466b276797",
     "locked": true,
     "schema_version": 3,
     "solution": false,
     "task": false
    }
   },
   "source": [
    "#### Question 13\n",
    "En déduire une fonction `ajouter_dyn : ('a, 'b) table_dyn -> 'a -> 'b -> unit` qui prend en argument une table, une clé $c$ et une valeur $v$ et qui ajoute le couple $(c,v)$ en redimensionnant la table si nécessaire."
   ]
  },
  {
   "cell_type": "code",
   "execution_count": 15,
   "id": "72184fd3",
   "metadata": {
    "nbgrader": {
     "grade": true,
     "grade_id": "cell-02c50926a64a7f8f",
     "locked": false,
     "points": 0,
     "schema_version": 3,
     "solution": true,
     "task": false
    }
   },
   "outputs": [
    {
     "data": {
      "text/plain": [
       "val ajout_dans_liste_dyn :\n",
       "  ('a * 'b) list -> 'a -> 'b -> ('a * 'b) list * bool = <fun>\n"
      ]
     },
     "execution_count": 15,
     "metadata": {},
     "output_type": "execute_result"
    },
    {
     "data": {
      "text/plain": [
       "val ajouter_dyn : ('a, 'b) table_dyn -> 'a -> 'b -> unit = <fun>\n"
      ]
     },
     "execution_count": 15,
     "metadata": {},
     "output_type": "execute_result"
    }
   ],
   "source": [
    "(* On modifie ajout_dans_liste pour renvoyer aussi un booléen indiquant si la longueur de la liste a augmenté*)\n",
    "let rec ajout_dans_liste_dyn lst cle valeur =\n",
    "  match lst with\n",
    "  | [] -> [(cle, valeur)], true\n",
    "  | (k, v)::q ->\n",
    "     if k = cle\n",
    "     then (cle, valeur)::q, false\n",
    "     else \n",
    "       let new_q, ajout = ajout_dans_liste_dyn q cle valeur\n",
    "       in (k,v)::new_q, ajout       \n",
    ";;\n",
    "\n",
    "let ajouter_dyn tbl cle valeur =\n",
    "  let i = tbl.h (Array.length tbl.contenu) cle in\n",
    "  let new_liste, ajout =\n",
    "    ajout_dans_liste_dyn tbl.contenu.(i) cle valeur\n",
    "  in tbl.contenu.(i) <- new_liste ;\n",
    "  if ajout\n",
    "  then \n",
    "    begin      \n",
    "      tbl.nb <- tbl.nb + 1;\n",
    "      if tbl.nb > 2 * Array.length tbl.contenu\n",
    "      then redimensionne_dyn tbl\n",
    "    end\n",
    ";;"
   ]
  },
  {
   "cell_type": "markdown",
   "id": "2214603b",
   "metadata": {
    "nbgrader": {
     "grade": false,
     "grade_id": "cell-86a912b385907613",
     "locked": true,
     "schema_version": 3,
     "solution": false,
     "task": false
    }
   },
   "source": [
    "#### Question 14\n",
    "Écrire une fonction `supprimer_dyn : ('a, 'b) table_dyn -> 'a -> unit` qui prend en argument une table et une clé $c$ et qui supprime l'entrée associée à la clé $c$ dans la table. "
   ]
  },
  {
   "cell_type": "code",
   "execution_count": 16,
   "id": "3acc4c89",
   "metadata": {
    "nbgrader": {
     "grade": true,
     "grade_id": "cell-0355806cdc3942dd",
     "locked": false,
     "points": 0,
     "schema_version": 3,
     "solution": true,
     "task": false
    }
   },
   "outputs": [
    {
     "data": {
      "text/plain": [
       "val suppr_dans_liste_dyn : ('a * 'b) list -> 'a -> ('a * 'b) list * bool =\n",
       "  <fun>\n"
      ]
     },
     "execution_count": 16,
     "metadata": {},
     "output_type": "execute_result"
    },
    {
     "data": {
      "text/plain": [
       "val supprimer_dyn : ('a, 'b) table_dyn -> 'a -> unit = <fun>\n"
      ]
     },
     "execution_count": 16,
     "metadata": {},
     "output_type": "execute_result"
    }
   ],
   "source": [
    "(* On ajoute un booléen dans la fonction suppr_dans_liste pour indiquer si un élément a été supprimé *)\n",
    "let rec suppr_dans_liste_dyn lst cle =\n",
    "  match lst with\n",
    "  | [] -> [], false\n",
    "  | (k, v)::q ->\n",
    "     if k = cle\n",
    "     then q, true\n",
    "     else \n",
    "       let new_q, suppr = suppr_dans_liste_dyn q cle\n",
    "       in (k, v)::new_q, suppr\n",
    ";;\n",
    "let supprimer_dyn tbl cle =\n",
    "  let i = tbl.h (Array.length tbl.contenu) cle in\n",
    "  let new_liste, suppr =\n",
    "    suppr_dans_liste_dyn tbl.contenu.(i) cle\n",
    "  in \n",
    "  if suppr\n",
    "  then\n",
    "    begin\n",
    "      tbl.contenu.(i) <- new_liste ;\n",
    "      tbl.nb <- tbl.nb - 1\n",
    "    end\n",
    ";;"
   ]
  },
  {
   "cell_type": "markdown",
   "id": "5ef6b9b9",
   "metadata": {
    "nbgrader": {
     "grade": false,
     "grade_id": "cell-f55b9c3dc67eb6f8",
     "locked": true,
     "schema_version": 3,
     "solution": false,
     "task": false
    }
   },
   "source": [
    "## Largeur et nombre premier\n",
    "Les tables de hachage sont réputées  mieux fonctionner si la taille du tableau utilisé est un\n",
    "nombre premier. \n",
    "\n",
    "On va donc construire un tableau de nombres premiers proches de puissances de 2. Pour cela, on utilisera le tableau `t` de longueur $N=40$ défini ci-dessous, qui vérifie : pour tout $i \\in ⟦ 0, N ⟦$, $2^{i}-t.(i)$ est un nombre premier."
   ]
  },
  {
   "cell_type": "code",
   "execution_count": 17,
   "id": "7fa916db",
   "metadata": {
    "nbgrader": {
     "grade": false,
     "grade_id": "cell-1e1c1422170b9a22",
     "locked": true,
     "schema_version": 3,
     "solution": false,
     "task": false
    }
   },
   "outputs": [
    {
     "data": {
      "text/plain": [
       "val t : int array =\n",
       "  [|-1; 0; 1; 1; 3; 1; 3; 1; 5; 3; 3; 9; 3; 1; 3; 19; 15; 1; 5; 1; 3; 9; 3;\n",
       "    15; 3; 39; 5; 39; 57; 3; 35; 1; 5; 9; 41; 31; 5; 25; 45; 7|]\n"
      ]
     },
     "execution_count": 17,
     "metadata": {},
     "output_type": "execute_result"
    }
   ],
   "source": [
    "(* tables des nombres premiers proches d'une puissance de deux :\n",
    "   si t.(i) vaut k, alors 2**i - k est premier.\n",
    "   Les valeurs de t sont toutes strictement positives, sauf la première, négative.\n",
    "   t est de longueur 40.\n",
    "*)\n",
    "\n",
    "let t =\n",
    "  [| -1; (* 2**0 - (-1) est premier *)\n",
    "     0; (* 2**1 - 0 est premier *)\n",
    "     1; (* 2**2 - 1 est premier *)\n",
    "     1; (* 2**3 - 1 est premier *)\n",
    "     3; (* 2**4 - 3 est premier *)\n",
    "     1;\n",
    "     3;\n",
    "     1;\n",
    "     5;\n",
    "     3;\n",
    "     3;\n",
    "     9;\n",
    "     3;\n",
    "     1;\n",
    "     3;\n",
    "     19;\n",
    "     15;\n",
    "     1;\n",
    "     5;\n",
    "     1;\n",
    "     3;\n",
    "     9;\n",
    "     3;\n",
    "     15;\n",
    "     3;\n",
    "     39;\n",
    "     5;\n",
    "     39;\n",
    "     57;\n",
    "     3;\n",
    "     35;\n",
    "     1;\n",
    "     5;\n",
    "     9;\n",
    "     41;\n",
    "     31;\n",
    "     5;\n",
    "     25;\n",
    "     45;\n",
    "     7; (* 2**39 - 7 est premier *)\n",
    "    |]"
   ]
  },
  {
   "cell_type": "markdown",
   "id": "8e856928",
   "metadata": {
    "nbgrader": {
     "grade": false,
     "grade_id": "cell-0f33c143df1708db",
     "locked": true,
     "schema_version": 3,
     "solution": false,
     "task": false
    }
   },
   "source": [
    "#### Question 15\n",
    "Construire un tableau `premiers` tel que pour tout $i \\in ⟦ 0, N ⟦$, `premiers.(i)` contient $2^{i}-t.(i)$."
   ]
  },
  {
   "cell_type": "code",
   "execution_count": 18,
   "id": "07367a60",
   "metadata": {
    "nbgrader": {
     "grade": true,
     "grade_id": "cell-889f996cc6147841",
     "locked": false,
     "points": 0,
     "schema_version": 3,
     "solution": true,
     "task": false
    }
   },
   "outputs": [
    {
     "data": {
      "text/plain": [
       "val premiers : int array =\n",
       "  [|2; 2; 3; 7; 13; 31; 61; 127; 251; 509; 1021; 2039; 4093; 8191; 16381;\n",
       "    32749; 65521; 131071; 262139; 524287; 1048573; 2097143; 4194301; 8388593;\n",
       "    16777213; 33554393; 67108859; 134217689; 268435399; 536870909;\n",
       "    1073741789; 2147483647; 4294967291; 8589934583; 17179869143; 34359738337;\n",
       "    68719476731; 137438953447; 274877906899; 549755813881|]\n"
      ]
     },
     "execution_count": 18,
     "metadata": {},
     "output_type": "execute_result"
    }
   ],
   "source": [
    "let premiers = \n",
    "  let n = Array.length t in\n",
    "  let tab = Array.make n 0 in\n",
    "  let puiss2 = ref 1 in\n",
    "  for i = 0 to n-1 do\n",
    "    tab.(i) <- !puiss2 - t.(i);\n",
    "    puiss2 := 2 * !puiss2\n",
    "  done;\n",
    "  tab\n",
    ";;"
   ]
  },
  {
   "cell_type": "markdown",
   "id": "b059a24a",
   "metadata": {
    "nbgrader": {
     "grade": false,
     "grade_id": "cell-93f35bc7f44d174d",
     "locked": true,
     "schema_version": 3,
     "solution": false,
     "task": false
    }
   },
   "source": [
    "#### Question 16\n",
    "Reprendre les questions de la partie précédente de sorte que les largeurs de tables appartiennent à la liste `premiers`. On pourra modifier le type `table_dyn` pour y ajouter toute donnée pertinente."
   ]
  },
  {
   "cell_type": "code",
   "execution_count": 19,
   "id": "57c556b9",
   "metadata": {
    "nbgrader": {
     "grade": true,
     "grade_id": "cell-2178f1610f682a05",
     "locked": false,
     "points": 0,
     "schema_version": 3,
     "solution": true,
     "task": false
    }
   },
   "outputs": [
    {
     "data": {
      "text/plain": [
       "type ('a, 'b) table_dyn = {\n",
       "  h : int -> 'a -> int;\n",
       "  mutable nb : int;\n",
       "  mutable i : int;\n",
       "  mutable contenu : ('a * 'b) list array;\n",
       "}\n"
      ]
     },
     "execution_count": 19,
     "metadata": {},
     "output_type": "execute_result"
    },
    {
     "data": {
      "text/plain": [
       "val creer_table_dyn : (int -> 'a -> int) -> ('a, 'b) table_dyn = <fun>\n"
      ]
     },
     "execution_count": 19,
     "metadata": {},
     "output_type": "execute_result"
    },
    {
     "data": {
      "text/plain": [
       "val redimensionne_dyn : ('a, 'b) table_dyn -> unit = <fun>\n"
      ]
     },
     "execution_count": 19,
     "metadata": {},
     "output_type": "execute_result"
    }
   ],
   "source": [
    "type ('a, 'b) table_dyn = {\n",
    "    h : int -> 'a -> int ;\n",
    "    mutable nb : int ;\n",
    "    mutable i : int ; (* contient l'indice correspondant à la longueur du contenu dans le tableau premiers *)\n",
    "    mutable contenu : ('a * 'b) list array\n",
    "  };;\n",
    "  \n",
    "let creer_table_dyn fonction_h = {\n",
    "  h = fonction_h ;\n",
    "  nb = 0;\n",
    "  i = 0;\n",
    "  contenu = Array.make premiers.(0) []\n",
    "}\n",
    "\n",
    "(* Les fonctions contient_dyn, trouver_dyn, ajouter_dyn et supprimer_dyn peuvent être reprises sans modification *)\n",
    "\n",
    "let redimensionne_dyn tbl =\n",
    "  tbl.i <- tbl.i + 1;\n",
    "  let new_contenu = Array.make premiers.(tbl.i) [] in\n",
    "  let rec ajoute_tous liste =\n",
    "    match liste with\n",
    "    | [] -> ()\n",
    "    | (k, v)::q -> \n",
    "      let i = tbl.h premiers.(tbl.i) k in\n",
    "      new_contenu.(i) <- ajout_dans_liste new_contenu.(i) k v ;\n",
    "      ajoute_tous q\n",
    "  in\n",
    "  for i = 0 to Array.length tbl.contenu - 1 do\n",
    "    ajoute_tous tbl.contenu.(i)\n",
    "  done;\n",
    "  tbl.contenu <- new_contenu\n",
    ";;"
   ]
  }
 ],
 "metadata": {
  "celltoolbar": "Create Assignment",
  "kernelspec": {
   "display_name": "OCaml default",
   "language": "OCaml",
   "name": "ocaml-jupyter"
  },
  "language_info": {
   "codemirror_mode": "text/x-ocaml",
   "file_extension": ".ml",
   "mimetype": "text/x-ocaml",
   "name": "OCaml",
   "nbconverter_exporter": null,
   "pygments_lexer": "OCaml",
   "version": "4.05.0"
  },
  "latex_envs": {
   "LaTeX_envs_menu_present": true,
   "autoclose": false,
   "autocomplete": true,
   "bibliofile": "biblio.bib",
   "cite_by": "apalike",
   "current_citInitial": 1,
   "eqLabelWithNumbers": true,
   "eqNumInitial": 1,
   "hotkeys": {
    "equation": "Ctrl-E",
    "itemize": "Ctrl-I"
   },
   "labels_anchors": false,
   "latex_user_defs": false,
   "report_style_numbering": false,
   "user_envs_cfg": false
  }
 },
 "nbformat": 4,
 "nbformat_minor": 5
}
