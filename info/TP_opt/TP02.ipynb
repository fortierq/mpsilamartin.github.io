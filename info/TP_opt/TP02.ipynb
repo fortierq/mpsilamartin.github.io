{
 "cells": [
  {
   "cell_type": "markdown",
   "id": "c273ed2b",
   "metadata": {},
   "source": [
    "# TP à rendre sous une semaine\n",
    "- **MPSI2** : au plus tard le lundi 14 mars\n",
    "- **MPSI1** :\n",
    "   - *Groupe A* : au plus tard le lundi 21 mars\n",
    "   - *Groupe C* : au plus tard le mardi 22 mars\n",
    "   \n",
    "Fichier `.ipynb` à déposer dans votre dossier `Depot_fichiers`."
   ]
  },
  {
   "cell_type": "markdown",
   "id": "0545b8ee",
   "metadata": {
    "deletable": false,
    "editable": false,
    "nbgrader": {
     "cell_type": "markdown",
     "checksum": "4fee3308837e8780ed72e48fbb71a868",
     "grade": false,
     "grade_id": "cell-0ba60eae02b248aa",
     "locked": true,
     "schema_version": 3,
     "solution": false,
     "task": false
    }
   },
   "source": [
    "# Autour des listes : deux tris quadratiques"
   ]
  },
  {
   "cell_type": "markdown",
   "id": "3a66ed23",
   "metadata": {
    "deletable": false,
    "editable": false,
    "nbgrader": {
     "cell_type": "markdown",
     "checksum": "e32fd38a583c85c5f8698eb417fea87b",
     "grade": false,
     "grade_id": "cell-9c4a15815157fe76",
     "locked": true,
     "schema_version": 3,
     "solution": false,
     "task": false
    }
   },
   "source": [
    "## Tri par sélection\n",
    "<font size=\"5\">👩‍💻</font> Écrire une fonction `extrait_min : 'a list -> 'a * 'a list` qui prend en argument une liste et qui renvoie le couple constitué du plus petit élément de la liste et de la liste privée de son plus petit élément."
   ]
  },
  {
   "cell_type": "code",
   "execution_count": null,
   "id": "6d61fc1b",
   "metadata": {
    "deletable": false,
    "nbgrader": {
     "cell_type": "code",
     "checksum": "9c259bf0bb9d24e27025c6ade999a6e3",
     "grade": false,
     "grade_id": "cell-79c51223582fcbb3",
     "locked": false,
     "schema_version": 3,
     "solution": true,
     "task": false
    }
   },
   "outputs": [],
   "source": [
    "(*À remplacer par votre code*)\n",
    "failwith \"Code manquant\""
   ]
  },
  {
   "cell_type": "code",
   "execution_count": null,
   "id": "781f2d3b",
   "metadata": {
    "deletable": false,
    "editable": false,
    "nbgrader": {
     "cell_type": "code",
     "checksum": "76e8a729f36c2158397fdb0e6d3a95f7",
     "grade": true,
     "grade_id": "cell-2f24d4fa650abb9f",
     "locked": true,
     "points": 1,
     "schema_version": 3,
     "solution": false,
     "task": false
    }
   },
   "outputs": [],
   "source": [
    "(* Exécutez cette cellule pour tester votre fonction *)\n",
    "let fonction_test nom b =\n",
    "   let () = print_endline (Printf.sprintf \"Test %s : %s\" nom (if b then \"OK\" else \"échec\"))\n",
    "   in assert b\n",
    "   ;;\n",
    "\n",
    "(* Fonction inefficace, mais suffisante pour les tests qui suivent *)\n",
    "let rec compare l1 l2 =\n",
    "  let rec suppr x lst =\n",
    "    match lst with\n",
    "    | [] -> false, []\n",
    "    | t::q -> if x = t then true, q else let dans_q, reste = suppr x q in dans_q, t::reste\n",
    "  in\n",
    "  match l1 with\n",
    "  | [] -> l2 = []\n",
    "  | t::q -> let dans_l2, reste = suppr t l2 in dans_l2 && compare q reste\n",
    ";;\n",
    "\n",
    "\n",
    "let () = \n",
    "  fonction_test \"(extrait_min) [5; 4; 3; 2; 1]\" \n",
    "    (let m, lst = extrait_min [5; 4; 3; 2; 1] in m = 1 && compare lst [5; 4; 3; 2]);;\n",
    "    \n",
    "let () = \n",
    "  fonction_test \"(extrait_min) [4; 3; -1; 2]\" \n",
    "    (let m, lst = extrait_min [4; 3; -1; 2] in m = -1 && compare lst [4; 3; 2]);;"
   ]
  },
  {
   "cell_type": "markdown",
   "id": "a00f61f6",
   "metadata": {
    "deletable": false,
    "editable": false,
    "nbgrader": {
     "cell_type": "markdown",
     "checksum": "554cf933fc486b65c728172bb3f8bc6b",
     "grade": false,
     "grade_id": "cell-be0c72b593f8fc37",
     "locked": true,
     "schema_version": 3,
     "solution": false,
     "task": false
    }
   },
   "source": [
    "<font size=\"5\">👨🏼‍💻</font> En déduire une fonction `tri_selection : 'a list -> 'a list` qui trie une liste par ordre croissant. "
   ]
  },
  {
   "cell_type": "code",
   "execution_count": null,
   "id": "2014631c",
   "metadata": {
    "deletable": false,
    "nbgrader": {
     "cell_type": "code",
     "checksum": "203928b42feac7b940fc71a994d843e9",
     "grade": false,
     "grade_id": "cell-123c253654ff79fc",
     "locked": false,
     "schema_version": 3,
     "solution": true,
     "task": false
    }
   },
   "outputs": [],
   "source": [
    "(*À remplacer par votre code*)\n",
    "failwith \"Code manquant\""
   ]
  },
  {
   "cell_type": "code",
   "execution_count": null,
   "id": "895828de",
   "metadata": {
    "deletable": false,
    "editable": false,
    "nbgrader": {
     "cell_type": "code",
     "checksum": "71f31fa873d73f8e2adde535d8f32e2c",
     "grade": true,
     "grade_id": "cell-036cc254d528bd11",
     "locked": true,
     "points": 1,
     "schema_version": 3,
     "solution": false,
     "task": false
    }
   },
   "outputs": [],
   "source": [
    "(* Exécutez cette cellule pour tester votre fonction *)\n",
    "let rec est_triee lst =\n",
    "   match lst with\n",
    "   | [] | [_] -> true\n",
    "   | t1::t2::q -> t1 <= t2 && est_triee (t2::q)\n",
    ";;\n",
    "let () = \n",
    "  fonction_test \"(tri_selection) [5; 4; 3; 2; 1]\" (est_triee (tri_selection [5; 4; 3; 2; 1]));;\n",
    "let () = \n",
    "  fonction_test \"(tri_selection) [1; 2; 3; 4; 5]\" (est_triee (tri_selection [1; 2; 3; 4; 5]));;\n",
    "let () = \n",
    "  fonction_test \"(tri_selection) [1]\" (est_triee (tri_selection [1]));;\n"
   ]
  },
  {
   "cell_type": "markdown",
   "id": "8dae3ec5",
   "metadata": {
    "deletable": false,
    "editable": false,
    "nbgrader": {
     "cell_type": "markdown",
     "checksum": "9525c246d3d81dc403f7fec533116760",
     "grade": false,
     "grade_id": "cell-88caeb8841939f29",
     "locked": true,
     "schema_version": 3,
     "solution": false,
     "task": false
    }
   },
   "source": [
    "<font size=\"5\">🖊️</font>  On pourra montrer que la complexité de ce tri est quadratique par rapport à la longueur de la liste. En effet, on vérifiera que :\n",
    "- Le nombre de comparaisons $C_1(k)$ nécessaires pour calculer `extrait_min lst` pour une liste `lst` de longueur $k$ vérifie la relation de récurrence $C_1(k) = 1 + C_1(k-1)$ et $C_1(1) = 0$, donc $C_1(k) =k-1$ ;\n",
    "- Par conséquent, le nombre de comparaisons $C_2(n)$ pour calculer `tri_selection lst` pour une liste `lst` de longueur $n$ vérifie la relation $C_2(n) = (n-1) + C_2(n-1)$, et $C_2(0) = 0$, donc $C_2(n) = \\frac{n(n-1)}{2}$ (par téléscopage par exemple). "
   ]
  },
  {
   "cell_type": "markdown",
   "id": "dd955516",
   "metadata": {
    "deletable": false,
    "editable": false,
    "nbgrader": {
     "cell_type": "markdown",
     "checksum": "c4123e195b990ea03692f035c8a33a40",
     "grade": false,
     "grade_id": "cell-db35ef3304a392cb",
     "locked": true,
     "schema_version": 3,
     "solution": false,
     "task": false
    }
   },
   "source": [
    "## Tri par insertion\n",
    "<font size=\"5\">👨‍💻 </font>   Écrire une fonction `insere : 'a  -> 'a list -> 'a list` qui prend en argument un élément et une liste supposée triée dans l'ordre croissant et qui insère l'élément à sa place dans la liste."
   ]
  },
  {
   "cell_type": "code",
   "execution_count": null,
   "id": "2799ceb9",
   "metadata": {
    "deletable": false,
    "nbgrader": {
     "cell_type": "code",
     "checksum": "875bc8aa4e4854d693cc7bf8dc96e57a",
     "grade": false,
     "grade_id": "cell-ebf39954519376c0",
     "locked": false,
     "schema_version": 3,
     "solution": true,
     "task": false
    }
   },
   "outputs": [],
   "source": [
    "(*À remplacer par votre code*)\n",
    "failwith \"Code manquant\""
   ]
  },
  {
   "cell_type": "code",
   "execution_count": null,
   "id": "5baff5fb",
   "metadata": {
    "deletable": false,
    "editable": false,
    "nbgrader": {
     "cell_type": "code",
     "checksum": "bc4d9341d1e5f6817531e1138fe0a7d3",
     "grade": true,
     "grade_id": "cell-cefa69f896137732",
     "locked": true,
     "points": 0,
     "schema_version": 3,
     "solution": false,
     "task": false
    }
   },
   "outputs": [],
   "source": [
    "(* Exécutez cette cellule pour tester votre fonction *)\n",
    "let () = \n",
    "  fonction_test \"(insere) 1 dans []\" (insere 1 [] = [1]);;  \n",
    "let () = \n",
    "  fonction_test \"(insere) 3 dans [1; 2; 5; 7]\" (insere 3 [1; 2; 5; 7] = [1; 2; 3; 5; 7]);;\n",
    "let () = \n",
    "  fonction_test \"(insere) 8 dans [1; 2; 5; 7]\" (insere 8 [1; 2; 5; 7] = [1; 2; 5; 7; 8]);;"
   ]
  },
  {
   "cell_type": "markdown",
   "id": "940d1af5",
   "metadata": {
    "deletable": false,
    "editable": false,
    "nbgrader": {
     "cell_type": "markdown",
     "checksum": "37c5247dcfa5c0eefcd82aa83b4d4a9f",
     "grade": false,
     "grade_id": "cell-4de25420d35db099",
     "locked": true,
     "schema_version": 3,
     "solution": false,
     "task": false
    }
   },
   "source": [
    "<font size=\"5\">👨🏻‍💻</font>  Le tri par insertion consiste à trier récursivement la queue de la liste puis à insérer sa tête dans la liste triée obtenue. Écrire une fonction `tri_insertion : 'a list -> 'a list` qui réalise le tri par insertion d'une liste."
   ]
  },
  {
   "cell_type": "code",
   "execution_count": null,
   "id": "15e33a9c",
   "metadata": {
    "deletable": false,
    "nbgrader": {
     "cell_type": "code",
     "checksum": "a5e5adb517138a8f6dc09e5f7e862c85",
     "grade": false,
     "grade_id": "cell-68fd16df86aff2cf",
     "locked": false,
     "schema_version": 3,
     "solution": true,
     "task": false
    }
   },
   "outputs": [],
   "source": [
    "(*À remplacer par votre code*)\n",
    "failwith \"Code manquant\""
   ]
  },
  {
   "cell_type": "code",
   "execution_count": null,
   "id": "0cd0501e",
   "metadata": {
    "deletable": false,
    "editable": false,
    "nbgrader": {
     "cell_type": "code",
     "checksum": "f7344e3d57a2baf8e5e4fafb98b2c52f",
     "grade": true,
     "grade_id": "cell-e59f4de8268453e7",
     "locked": true,
     "points": 0,
     "schema_version": 3,
     "solution": false,
     "task": false
    }
   },
   "outputs": [],
   "source": [
    "(* Exécutez cette cellule pour tester votre fonction *)\n",
    "let () = \n",
    "  fonction_test \"(tri_insertion) [5; 4; 3; 2; 1]\" (est_triee (tri_insertion [5; 4; 3; 2; 1]));;\n",
    "let () = \n",
    "  fonction_test \"(tri_insertion) [1; 2; 3; 4; 5]\" (est_triee (tri_insertion [1; 2; 3; 4; 5]));;\n",
    "let () = \n",
    "  fonction_test \"(tri_insertion) [1]\" (est_triee (tri_insertion [1]));;\n",
    "  "
   ]
  },
  {
   "cell_type": "markdown",
   "id": "522d0dfe",
   "metadata": {
    "deletable": false,
    "editable": false,
    "nbgrader": {
     "cell_type": "markdown",
     "checksum": "5c12e5323336f4d1d090e0b896659cbe",
     "grade": false,
     "grade_id": "cell-d27480913e45b4bc",
     "locked": true,
     "schema_version": 3,
     "solution": false,
     "task": false
    }
   },
   "source": [
    "<font size=\"5\">🖊️</font>  On pourra montrer que la complexité de ce tri dans le pire des cas est quadratique par rapport à la longueur de la liste. En effet, on vérifiera que :\n",
    "- Le nombre de comparaisons $C_1(k)$ nécessaires dans le pire des cas pour calculer `insere lst` pour une liste `lst` de longueur $k$ vérifie la relation de récurrence $C_1(k) = 1 + C_1(k-1)$ et $C_1(0) = 0$, donc $C_1(k) =k$ ;\n",
    "- Par conséquent, le nombre de comparaisons $C_2(n)$ dans le pire des cas pour calculer `tri_insertion lst` pour une liste `lst` de longueur $n$ vérifie la relation $C_2(n) = (n-1) + C_2(n-1)$, et $C_2(0) = 0$, donc $C_2(n) = \\frac{n(n-1)}{2}$. "
   ]
  },
  {
   "cell_type": "markdown",
   "id": "dc9d8475",
   "metadata": {
    "deletable": false,
    "editable": false,
    "nbgrader": {
     "cell_type": "markdown",
     "checksum": "f21de29d9f48f4d132381f33998958cf",
     "grade": false,
     "grade_id": "cell-b53c827454a17712",
     "locked": true,
     "schema_version": 3,
     "solution": false,
     "task": false
    }
   },
   "source": [
    "# Introduction aux arbres binaires\n",
    "## Un peu de vocabulaire\n",
    "Un *arbre binaire* est une structure de données hiérarchique dont les éléments sont appelés des *nœuds*, chaque nœud possédant au plus deux éléments au niveau inférieur, appelés *fils gauche* et *fils droit* du nœud (qui est alors le *père* de ses éventuels fils).\n",
    "\n",
    "<img src=\"data:image/png;base64,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\" width=400/>\n"
   ]
  },
  {
   "cell_type": "markdown",
   "id": "b6f067bf",
   "metadata": {
    "deletable": false,
    "editable": false,
    "nbgrader": {
     "cell_type": "markdown",
     "checksum": "8c18d9ee3cdea2ab0fa99629d94f7894",
     "grade": false,
     "grade_id": "cell-5a1dbab2ee270de5",
     "locked": true,
     "schema_version": 3,
     "solution": false,
     "task": false
    }
   },
   "source": [
    "Le nœud initial d'un arbre binaire non vide est appelé la *racine* de l'arbre. Un élément n'ayant aucun fils est appelé une  *feuille* ; un nœud qui possède au moins un fils est appelé un *nœud interne*. \n",
    "\n",
    "Pour l'arbre de la figure 1, la racine est le nœud $1$, les feuilles sont les nœuds $3$, $4$, $7$ et $8$.\\medskip\n",
    "\n",
    "La *profondeur* d'un nœud est sa distance par rapport à la racine. La *hauteur* d'un arbre est la profondeur maximale de ses nœuds.\n",
    "\n",
    "*Remarque : Il existe en réalité deux définitions de la hauteur d'un arbre ; nous choisirons celle-ci pour ce TP.*.\n",
    "\n",
    "Dans l'arbre de la figure 1, la profondeur du nœud $6$ est $2$ ; la hauteur de l'arbre est $3$.\n",
    "\n",
    "Chaque nœud est la racine d'un arbre constitué de lui-même et de sa descendance : on parle alors de *sous-arbre* de l'arbre initial.\n",
    "\n",
    "Enfin, un *arbre binaire strict* est un arbre binaire tel que chaque nœud interne possède exactement deux fils."
   ]
  },
  {
   "cell_type": "markdown",
   "id": "9fadd334",
   "metadata": {
    "deletable": false,
    "editable": false,
    "nbgrader": {
     "cell_type": "markdown",
     "checksum": "3fea59faf9c5cfe3f93459b2dc419f27",
     "grade": false,
     "grade_id": "cell-793455cb202fec24",
     "locked": true,
     "schema_version": 3,
     "solution": false,
     "task": false
    }
   },
   "source": [
    "## Implémentation et fonctions élémentaires\n",
    "\n",
    "Dans un premier temps, pour implémenter les arbres binaires, on utilisera le type suivant :"
   ]
  },
  {
   "cell_type": "code",
   "execution_count": null,
   "id": "09726d20",
   "metadata": {
    "deletable": false,
    "editable": false,
    "nbgrader": {
     "cell_type": "code",
     "checksum": "813a3ad9bf53190eff2d8b08ff7128c3",
     "grade": false,
     "grade_id": "cell-d2a650f19b28dc1e",
     "locked": true,
     "schema_version": 3,
     "solution": false,
     "task": false
    }
   },
   "outputs": [],
   "source": [
    "type 'a arbre =\n",
    "  | Vide\n",
    "  | Noeud of 'a * 'a arbre * 'a arbre\n",
    ";;"
   ]
  },
  {
   "cell_type": "markdown",
   "id": "2897c140",
   "metadata": {
    "deletable": false,
    "editable": false,
    "nbgrader": {
     "cell_type": "markdown",
     "checksum": "7beda81bde271dff28c325ba270c8046",
     "grade": false,
     "grade_id": "cell-75669edff7c4719e",
     "locked": true,
     "schema_version": 3,
     "solution": false,
     "task": false
    }
   },
   "source": [
    "Par exemple, le sous-arbre gauche de l'arbre au-dessus pourra être défini par :"
   ]
  },
  {
   "cell_type": "code",
   "execution_count": null,
   "id": "fdf78c6c",
   "metadata": {
    "deletable": false,
    "editable": false,
    "nbgrader": {
     "cell_type": "code",
     "checksum": "a8aa00c51559aa07679349f679c299eb",
     "grade": false,
     "grade_id": "cell-f63962087f30894f",
     "locked": true,
     "schema_version": 3,
     "solution": false,
     "task": false
    }
   },
   "outputs": [],
   "source": [
    "let arbre_gauche = Noeud(2, Noeud(3, Vide, Vide), Noeud(4, Vide, Vide));;"
   ]
  },
  {
   "cell_type": "markdown",
   "id": "d2b94dda",
   "metadata": {
    "deletable": false,
    "editable": false,
    "nbgrader": {
     "cell_type": "markdown",
     "checksum": "09bdb7cdad2c756d111d938f2aaa23b8",
     "grade": false,
     "grade_id": "cell-1a550ba7deb68e34",
     "locked": true,
     "schema_version": 3,
     "solution": false,
     "task": false
    }
   },
   "source": [
    "<font size=\"5\"> 👩🏽‍💻</font> Définir en OCaml une variable `mon_arbre` correspondant à l'arbre de la figure 1. On pourra utiliser l'arbre `arbre_gauche` créé précédemment, et commencer par créer un arbre `arbre_droit` pour décrire le sous-arbre droit.\n",
    "\n",
    "On prendra garde au fait que le nœud avec l'étiquette 7 est à **droite** du nœud dont l'étiquette est 6."
   ]
  },
  {
   "cell_type": "code",
   "execution_count": null,
   "id": "358c964f",
   "metadata": {
    "deletable": false,
    "nbgrader": {
     "cell_type": "code",
     "checksum": "05e486f37626dc779685e50c9463445f",
     "grade": false,
     "grade_id": "cell-2221135c43a419df",
     "locked": false,
     "schema_version": 3,
     "solution": true,
     "task": false
    }
   },
   "outputs": [],
   "source": [
    "(*À remplacer par votre code*)\n",
    "failwith \"Code manquant\""
   ]
  },
  {
   "cell_type": "code",
   "execution_count": null,
   "id": "9a81227f",
   "metadata": {
    "deletable": false,
    "editable": false,
    "nbgrader": {
     "cell_type": "code",
     "checksum": "e1e55977dcf7b713fc3ede7352af1519",
     "grade": true,
     "grade_id": "cell-9e7d7f63c303e29b",
     "locked": true,
     "points": 0,
     "schema_version": 3,
     "solution": false,
     "task": false
    }
   },
   "outputs": [],
   "source": [
    "(* Cellule à exécuter pour la suite des tests - non modifiable *)\n",
    "let fonction_test nom b =\n",
    "   let () = print_endline (Printf.sprintf \"Test %s : %s\" nom (if b then \"OK\" else \"échec\"))\n",
    "   in assert b\n",
    "   ;;\n",
    "   \n",
    "let un_arbre_de_test =\n",
    "      Noeud (1, Noeud (3,\n",
    "                       Noeud (12, Noeud (11, Vide, Vide), Noeud(8, Vide, Vide) ), \n",
    "                       Vide),\n",
    "                Noeud (2, Noeud (10, Vide, Vide), Noeud (6, Noeud (9, Vide, Vide), Noeud (5, Vide, Vide)))\n",
    "            );;\n",
    "    "
   ]
  },
  {
   "cell_type": "markdown",
   "id": "9230600d",
   "metadata": {
    "deletable": false,
    "editable": false,
    "nbgrader": {
     "cell_type": "markdown",
     "checksum": "0e06ce2eabe968da8260a5ab94dfcd7f",
     "grade": false,
     "grade_id": "cell-44e9a144cef721f1",
     "locked": true,
     "schema_version": 3,
     "solution": false,
     "task": false
    }
   },
   "source": [
    "<font size=\"5\">👨🏾‍💻</font>  Écrire une fonction `est_strict : 'a arbre -> bool`  prenant en argument un arbre et renvoyant  `true` s'il s'agit d'un arbre binaire strict,  `false` sinon."
   ]
  },
  {
   "cell_type": "code",
   "execution_count": null,
   "id": "70bb710d",
   "metadata": {
    "deletable": false,
    "nbgrader": {
     "cell_type": "code",
     "checksum": "ddc7561f71584300dac512b60109fcd1",
     "grade": false,
     "grade_id": "cell-5c6262e5d148901f",
     "locked": false,
     "schema_version": 3,
     "solution": true,
     "task": false
    }
   },
   "outputs": [],
   "source": [
    "let rec est_strict a =\n",
    "  (*À remplacer par votre code*)\n",
    "  failwith \"Code manquant\""
   ]
  },
  {
   "cell_type": "code",
   "execution_count": null,
   "id": "1762a605",
   "metadata": {
    "deletable": false,
    "editable": false,
    "nbgrader": {
     "cell_type": "code",
     "checksum": "b15efcf89a5962bb401a2161090f83e4",
     "grade": true,
     "grade_id": "cell-7b4bf69db60592ca",
     "locked": true,
     "points": 0,
     "schema_version": 3,
     "solution": false,
     "task": false
    }
   },
   "outputs": [],
   "source": [
    "(* Exécutez cette cellule pour tester votre fonction *)\n",
    "let () = fonction_test \"(est_strict) - mon_arbre\" (not (est_strict mon_arbre));;\n",
    "\n",
    "let () = \n",
    "    let mon_arbre_strict = Noeud (1,Noeud (2, Noeud (3, Vide, Vide), Noeud (4, Vide, Vide)),\n",
    "                                    Noeud (5, Noeud (6, Noeud (7, Vide, Vide), Noeud (8, Vide, Vide)), \n",
    "                                              Noeud (9, Vide, Vide))\n",
    "                                 )\n",
    "    in fonction_test \"(est_strict) - un arbre strict\" (est_strict mon_arbre_strict);;\n",
    "\n",
    "let () = fonction_test \"(est_strict) - une feuille\" (est_strict (Noeud(5, Vide, Vide)));;\n",
    "\n",
    "    "
   ]
  },
  {
   "cell_type": "markdown",
   "id": "8b55c105",
   "metadata": {
    "deletable": false,
    "editable": false,
    "nbgrader": {
     "cell_type": "markdown",
     "checksum": "08f128f2bab320dc60eaea704d082e25",
     "grade": false,
     "grade_id": "cell-f3bac230ed0d89ba",
     "locked": true,
     "schema_version": 3,
     "solution": false,
     "task": false
    }
   },
   "source": [
    "<font size=\"5\">👩🏻‍💻</font>  Écrire une fonction `nb_noeuds : 'a arbre -> int` prenant en argument un arbre et renvoyant le nombre total de nœuds de l'arbre.\n",
    "\n",
    "*Remarque : Les feuilles sont aussi des nœuds*."
   ]
  },
  {
   "cell_type": "code",
   "execution_count": null,
   "id": "e3563375",
   "metadata": {
    "deletable": false,
    "nbgrader": {
     "cell_type": "code",
     "checksum": "ccd23500038a8390931b7947a67be2ca",
     "grade": false,
     "grade_id": "cell-3b2c7c74425759dd",
     "locked": false,
     "schema_version": 3,
     "solution": true,
     "task": false
    }
   },
   "outputs": [],
   "source": [
    "(*À remplacer par votre code*)\n",
    "failwith \"Code manquant\""
   ]
  },
  {
   "cell_type": "code",
   "execution_count": null,
   "id": "96ae8444",
   "metadata": {
    "deletable": false,
    "editable": false,
    "nbgrader": {
     "cell_type": "code",
     "checksum": "7635e586d611428e6c448478e781bec7",
     "grade": true,
     "grade_id": "cell-46fc639d28028f7b",
     "locked": true,
     "points": 0,
     "schema_version": 3,
     "solution": false,
     "task": false
    }
   },
   "outputs": [],
   "source": [
    "(* Exécutez cette cellule pour tester votre fonction *)\n",
    "let () = fonction_test  \"(nb_noeuds) - mon_arbre\" (nb_noeuds mon_arbre = 8);;\n",
    "let () = fonction_test  \"(nb_noeuds) - un arbre\" (nb_noeuds un_arbre_de_test = 10);;\n",
    "let () = fonction_test  \"(nb_noeuds) - arbre vide\" (nb_noeuds Vide = 0);;"
   ]
  },
  {
   "cell_type": "markdown",
   "id": "04be338b",
   "metadata": {
    "deletable": false,
    "editable": false,
    "nbgrader": {
     "cell_type": "markdown",
     "checksum": "b5b8d1248478a59b23f8209902c5caad",
     "grade": false,
     "grade_id": "cell-0df133b24ea0c8a9",
     "locked": true,
     "schema_version": 3,
     "solution": false,
     "task": false
    }
   },
   "source": [
    "<font size=\"5\">👨‍💻 </font>  Écrire une fonction `nb_feuilles : 'a arbre -> int` prenant en argument un arbre et renvoyant le nombre de feuilles de l'arbre."
   ]
  },
  {
   "cell_type": "code",
   "execution_count": null,
   "id": "6ec95267",
   "metadata": {
    "deletable": false,
    "nbgrader": {
     "cell_type": "code",
     "checksum": "f64ff28be562c68c156b343300182d5a",
     "grade": false,
     "grade_id": "cell-b260be159dfd5344",
     "locked": false,
     "schema_version": 3,
     "solution": true,
     "task": false
    }
   },
   "outputs": [],
   "source": [
    "(*À remplacer par votre code*)\n",
    "failwith \"Code manquant\""
   ]
  },
  {
   "cell_type": "code",
   "execution_count": null,
   "id": "aeada708",
   "metadata": {
    "deletable": false,
    "editable": false,
    "nbgrader": {
     "cell_type": "code",
     "checksum": "c62185d3a673ba269549af17d328c1c5",
     "grade": true,
     "grade_id": "cell-0a040a3658233efb",
     "locked": true,
     "points": 0,
     "schema_version": 3,
     "solution": false,
     "task": false
    }
   },
   "outputs": [],
   "source": [
    "(* Exécutez cette cellule pour tester votre fonction *)\n",
    "let () = fonction_test  \"(nb_feuilles) - mon_arbre\" (nb_feuilles un_arbre_de_test = 4);;\n",
    "let () = fonction_test  \"(nb_feuilles) - un arbre\" (nb_feuilles un_arbre_de_test = 5);;\n",
    "let () = fonction_test  \"(nb_feuilles) - une feuille\" (nb_feuilles (Noeud (8, Vide, Vide)) = 1);;\n",
    "let () = fonction_test  \"(nb_feuilles) - arbre vide\" (nb_feuilles Vide = 0);;"
   ]
  },
  {
   "cell_type": "markdown",
   "id": "10e57dde",
   "metadata": {
    "deletable": false,
    "editable": false,
    "nbgrader": {
     "cell_type": "markdown",
     "checksum": "f4b9c81f17af0fc966a9bb82d2152a55",
     "grade": false,
     "grade_id": "cell-1b077fac16817990",
     "locked": true,
     "schema_version": 3,
     "solution": false,
     "task": false
    }
   },
   "source": [
    "<font size=\"5\">👨🏿‍💻 </font>  Écrire une fonction `hauteur : 'a arbre -> int`  prenant en argument un arbre et renvoyant sa hauteur."
   ]
  },
  {
   "cell_type": "code",
   "execution_count": null,
   "id": "0962c56e",
   "metadata": {
    "deletable": false,
    "nbgrader": {
     "cell_type": "code",
     "checksum": "f64d73045c38a0f88518cbe9152d97bf",
     "grade": false,
     "grade_id": "cell-e9c4bc366bbcd946",
     "locked": false,
     "schema_version": 3,
     "solution": true,
     "task": false
    }
   },
   "outputs": [],
   "source": [
    "(*À remplacer par votre code*)\n",
    "failwith \"Code manquant\""
   ]
  },
  {
   "cell_type": "code",
   "execution_count": null,
   "id": "6fbc66f4",
   "metadata": {
    "deletable": false,
    "editable": false,
    "nbgrader": {
     "cell_type": "code",
     "checksum": "ccd9a796fc761f60f63e66450c84b3f8",
     "grade": true,
     "grade_id": "cell-1a02ece8fd9b39bd",
     "locked": true,
     "points": 0,
     "schema_version": 3,
     "solution": false,
     "task": false
    }
   },
   "outputs": [],
   "source": [
    "(* Exécutez cette cellule pour tester votre fonction *)\n",
    "let () = fonction_test  \"(hauteur) - mon_arbre\" (hauteur mon_arbre = 3);;\n",
    "let () = fonction_test  \"(hauteur) - un arbre\" (hauteur un_arbre_de_test = 3);;\n",
    "let () = fonction_test  \"(hauteur) - une feuille\" (hauteur (Noeud (8, Vide, Vide)) = 0);;"
   ]
  },
  {
   "cell_type": "markdown",
   "id": "ccc81a0f",
   "metadata": {
    "deletable": false,
    "editable": false,
    "nbgrader": {
     "cell_type": "markdown",
     "checksum": "9f1d563bfe939089109846bef33659b6",
     "grade": false,
     "grade_id": "cell-3a1648c5421b9d35",
     "locked": true,
     "schema_version": 3,
     "solution": false,
     "task": false
    }
   },
   "source": [
    "<font size=\"5\">👩🏼‍💻</font>  Écrire une fonction `recherche : 'a -> 'a arbre -> bool`  prenant en argument un élément et un arbre et renvoyant `true` si l'élément est présent dans l'arbre, `false` sinon."
   ]
  },
  {
   "cell_type": "code",
   "execution_count": null,
   "id": "28a32cbc",
   "metadata": {
    "deletable": false,
    "nbgrader": {
     "cell_type": "code",
     "checksum": "3efdd4e66f73104f33663af8713938a0",
     "grade": false,
     "grade_id": "cell-aa614433e53a8588",
     "locked": false,
     "schema_version": 3,
     "solution": true,
     "task": false
    }
   },
   "outputs": [],
   "source": [
    "(*À remplacer par votre code*)\n",
    "failwith \"Code manquant\""
   ]
  },
  {
   "cell_type": "code",
   "execution_count": null,
   "id": "f17d8183",
   "metadata": {
    "deletable": false,
    "editable": false,
    "nbgrader": {
     "cell_type": "code",
     "checksum": "d0859d084f31a6c5c44958e7e9b31764",
     "grade": true,
     "grade_id": "cell-129e87cf3afc6dc6",
     "locked": true,
     "points": 0,
     "schema_version": 3,
     "solution": false,
     "task": false
    }
   },
   "outputs": [],
   "source": [
    "(* Exécutez cette cellule pour tester votre fonction *)\n",
    "let () = fonction_test  \"(recherche) - mon_arbre (2)\" (recherche 2  mon_arbre);;\n",
    "let () = fonction_test  \"(recherche) - un arbre (9)\" (recherche 9 un_arbre_de_test);;\n",
    "let () = fonction_test  \"(recherche) - un arbre (42)\" (not (recherche 42 un_arbre_de_test));;\n",
    "let () = fonction_test  \"(recherche) - arbre vide\" (not(recherche 6 Vide));;"
   ]
  },
  {
   "cell_type": "markdown",
   "id": "69399bc9",
   "metadata": {
    "deletable": false,
    "editable": false,
    "nbgrader": {
     "cell_type": "markdown",
     "checksum": "16fe7f1153f5d51124ee4565005de923",
     "grade": false,
     "grade_id": "cell-9fd3429da403f93a",
     "locked": true,
     "schema_version": 3,
     "solution": false,
     "task": false
    }
   },
   "source": [
    "## Quelques fonctions sur des arbres étiquetés par des entiers\n",
    "On considère ici des arbres dont les étiquettes sont de type  `int`.\n",
    "\n",
    "<font size=\"5\">👨🏽‍💻</font>  Écrire une fonction `maxi : 'a arbre -> 'a`  prenant en argument un arbre et renvoyant le maximum de ses étiquettes.\n",
    "\n",
    "On pourra utiliser la fonction `max : 'a -> 'a -> 'a` qui prend deux arguments et renvoie le plus grand des deux."
   ]
  },
  {
   "cell_type": "code",
   "execution_count": null,
   "id": "1aa43f6c",
   "metadata": {
    "deletable": false,
    "nbgrader": {
     "cell_type": "code",
     "checksum": "361b3ccc4dfd69810909a4b7faa23b82",
     "grade": false,
     "grade_id": "cell-a952419517144ff4",
     "locked": false,
     "schema_version": 3,
     "solution": true,
     "task": false
    }
   },
   "outputs": [],
   "source": [
    "(*À remplacer par votre code*)\n",
    "failwith \"Code manquant\""
   ]
  },
  {
   "cell_type": "code",
   "execution_count": null,
   "id": "d0016d61",
   "metadata": {
    "deletable": false,
    "editable": false,
    "nbgrader": {
     "cell_type": "code",
     "checksum": "dd8d6ace33b3ba0f6d51b4e4c16f9dca",
     "grade": true,
     "grade_id": "cell-26e7d1445ed3558c",
     "locked": true,
     "points": 0,
     "schema_version": 3,
     "solution": false,
     "task": false
    }
   },
   "outputs": [],
   "source": [
    "(* Exécutez cette cellule pour tester votre fonction *)\n",
    "let () = fonction_test  \"(maxi) - mon_arbre\" (maxi mon_arbre = 8);;\n",
    "let () = fonction_test  \"(maxi) - un arbre\" (maxi un_arbre_de_test = 12);;\n",
    "let () = let a =  Noeud ( -1, Vide,Noeud(-2, Vide, Vide)) in\n",
    "         fonction_test  \"(maxi) - étiquettes négatives\" (maxi a = -1);;"
   ]
  },
  {
   "cell_type": "markdown",
   "id": "6aa4f3f3",
   "metadata": {
    "deletable": false,
    "editable": false,
    "nbgrader": {
     "cell_type": "markdown",
     "checksum": "b0f1e243b6f20374f1b5007fef6ff996",
     "grade": false,
     "grade_id": "cell-4fb7e549f10d2f1b",
     "locked": true,
     "schema_version": 3,
     "solution": false,
     "task": false
    }
   },
   "source": [
    "<font size=\"5\">👩‍💻</font>  Écrire une fonction `somme : int arbre -> int`  prenant en argument un arbre et renvoyant la somme de ses étiquettes."
   ]
  },
  {
   "cell_type": "code",
   "execution_count": null,
   "id": "60489c04",
   "metadata": {
    "deletable": false,
    "nbgrader": {
     "cell_type": "code",
     "checksum": "48f94e4d11cc6c787d454e7832a0cecc",
     "grade": false,
     "grade_id": "cell-15ad23600a76e6d0",
     "locked": false,
     "schema_version": 3,
     "solution": true,
     "task": false
    }
   },
   "outputs": [],
   "source": [
    "(*À remplacer par votre code*)\n",
    "failwith \"Code manquant\""
   ]
  },
  {
   "cell_type": "code",
   "execution_count": null,
   "id": "ad031bd6",
   "metadata": {
    "deletable": false,
    "editable": false,
    "nbgrader": {
     "cell_type": "code",
     "checksum": "a58bbc72d0014d879755a7d04ada1fa8",
     "grade": true,
     "grade_id": "cell-81298e71b59ad693",
     "locked": true,
     "points": 0,
     "schema_version": 3,
     "solution": false,
     "task": false
    }
   },
   "outputs": [],
   "source": [
    "(* Exécutez cette cellule pour tester votre fonction *)\n",
    "let () = fonction_test  \"(somme) - mon_arbre\" (somme mon_arbre = 36);;\n",
    "let () = fonction_test  \"(somme) - un arbre\" (somme un_arbre_de_test = 67);;"
   ]
  },
  {
   "cell_type": "markdown",
   "id": "0b7c3427",
   "metadata": {
    "deletable": false,
    "editable": false,
    "nbgrader": {
     "cell_type": "markdown",
     "checksum": "fbdb6de158467108bee6f8a7d5dacb10",
     "grade": false,
     "grade_id": "cell-bcc146c5d7126696",
     "locked": true,
     "schema_version": 3,
     "solution": false,
     "task": false
    }
   },
   "source": [
    "<font size=\"5\">👨🏼‍💻</font>   On considère pour chaque branche de l'arbre (i.e un chemin de la racine à une feuille) la somme des étiquettes de ses nœuds. Écrire une fonction `somme_max_branche : int arbre -> int` donnant la somme maximale des branches d'un arbre."
   ]
  },
  {
   "cell_type": "code",
   "execution_count": null,
   "id": "b8ccd824",
   "metadata": {
    "deletable": false,
    "nbgrader": {
     "cell_type": "code",
     "checksum": "e3a7d9140de42d75dbd6475afcc3ef98",
     "grade": false,
     "grade_id": "cell-07fff140458c1374",
     "locked": false,
     "schema_version": 3,
     "solution": true,
     "task": false
    }
   },
   "outputs": [],
   "source": [
    "(*À remplacer par votre code*)\n",
    "failwith \"Code manquant\""
   ]
  },
  {
   "cell_type": "code",
   "execution_count": null,
   "id": "477a82b2",
   "metadata": {
    "deletable": false,
    "editable": false,
    "nbgrader": {
     "cell_type": "code",
     "checksum": "c5eef1d5e6156c474c99499402db22e6",
     "grade": true,
     "grade_id": "cell-7c66dba3c77f2126",
     "locked": true,
     "points": 0,
     "schema_version": 3,
     "solution": false,
     "task": false
    }
   },
   "outputs": [],
   "source": [
    "(* Exécutez cette cellule pour tester votre fonction *)\n",
    "let () = fonction_test  \"(somme_max_branche) - mon_arbre\" (somme_max_branche mon_arbre = 19);;\n",
    "let () = fonction_test  \"(somme_max_branche) - un arbre\" (somme_max_branche un_arbre_de_test = 27);;\n",
    "let () = let a =  Noeud ( -1, Vide, Noeud(-2, Vide, Vide)) in\n",
    "         fonction_test  \"(somme_max_branche) - étiquettes négatives\" (somme_max_branche a = -3);;"
   ]
  },
  {
   "cell_type": "markdown",
   "id": "b1648207",
   "metadata": {
    "deletable": false,
    "editable": false,
    "nbgrader": {
     "cell_type": "markdown",
     "checksum": "684e76044e2b8113b5724a26306b6c63",
     "grade": false,
     "grade_id": "cell-605c36b344b9866b",
     "locked": true,
     "schema_version": 3,
     "solution": false,
     "task": false
    }
   },
   "source": [
    "## Diamètre d'un arbre\n",
    "Étant donné un arbre binaire $\\mathcal{A}$, on appelle *diamètre* de $\\mathcal{A}$ la longueur d'un plus long chemin dans $\\mathcal{A}$.\n",
    "\n",
    "<font size=\"5\">👩🏾‍💻</font>  Quel est la longueur d'un plus long chemin passant par la racine ?"
   ]
  },
  {
   "cell_type": "markdown",
   "id": "66c8fb9f",
   "metadata": {
    "deletable": false,
    "nbgrader": {
     "cell_type": "markdown",
     "checksum": "4817b0158056c7e260e3ce3fc252291f",
     "grade": true,
     "grade_id": "cell-0b5e64655b7d8972",
     "locked": false,
     "points": 0,
     "schema_version": 3,
     "solution": true,
     "task": false
    }
   },
   "source": [
    "✍️ *Votre réponse*"
   ]
  },
  {
   "cell_type": "markdown",
   "id": "4ebe433c",
   "metadata": {
    "deletable": false,
    "editable": false,
    "nbgrader": {
     "cell_type": "markdown",
     "checksum": "759f299522d6a5d2c5932f31f76a1bc6",
     "grade": false,
     "grade_id": "cell-6af2bc318be462d1",
     "locked": true,
     "schema_version": 3,
     "solution": false,
     "task": false
    }
   },
   "source": [
    "<font size=\"5\">👨‍💻</font>  Écrire une fonction `diametre : 'a arbre -> int` calculant le diamètre d'un arbre binaire ; on distinguera trois cas."
   ]
  },
  {
   "cell_type": "code",
   "execution_count": null,
   "id": "823f45cd",
   "metadata": {
    "deletable": false,
    "nbgrader": {
     "cell_type": "code",
     "checksum": "b7c03bc95e7c7c439b9123d6669eb812",
     "grade": false,
     "grade_id": "cell-e7946a3a483471f7",
     "locked": false,
     "schema_version": 3,
     "solution": true,
     "task": false
    }
   },
   "outputs": [],
   "source": [
    "(*À remplacer par votre code*)\n",
    "failwith \"Code manquant\""
   ]
  },
  {
   "cell_type": "code",
   "execution_count": null,
   "id": "702e6fd3",
   "metadata": {
    "deletable": false,
    "editable": false,
    "nbgrader": {
     "cell_type": "code",
     "checksum": "e38f1a413fa9d802fb90b142754edc9f",
     "grade": true,
     "grade_id": "cell-da4d8c3463bda053",
     "locked": true,
     "points": 0,
     "schema_version": 3,
     "solution": false,
     "task": false
    }
   },
   "outputs": [],
   "source": [
    "(* Exécutez cette cellule pour tester votre fonction *)\n",
    "let () = fonction_test  \"(diametre) - mon_arbre\" (diametre mon_arbre = 5);;\n",
    "let () = fonction_test  \"(diametre) - un arbre\" (diametre un_arbre_de_test = 6);;\n",
    "let () = let fg_bis = Noeud (3, Noeud (12, Noeud (11, Vide, Vide), \n",
    "                                           Noeud(8, Noeud(9, Noeud(10, Vide, Vide), Vide),  Vide)),\n",
    "                                Noeud (4, Noeud (5, Vide, Vide), \n",
    "                                          Noeud(6, Noeud(7, Noeud (15, Vide, Noeud (16, Vide, Vide) ), Vide), \n",
    "                                                   Vide)))\n",
    "         and fd_bis = Noeud (2, Vide, Vide) in \n",
    "         let a =  Noeud (1, fg_bis, fd_bis) in\n",
    "         fonction_test  \"(diametre) - un autre arbre\" (diametre a = 9); \n",
    "         let a = Noeud(0, fd_bis,  Noeud (1,Vide,fg_bis)) in\n",
    "         fonction_test  \"(diametre) - encore un arbre\" (diametre a = 9); \n",
    "         \n",
    ";;\n",
    "         ;;\n",
    "let () = let a =   Noeud (1,Vide,Noeud(2,Vide,Noeud(3,Vide,Noeud (4,Vide,Vide)))) in\n",
    "         fonction_test  \"(diametre) - fils uniques\" (diametre a = 3);;\n",
    "let () = fonction_test  \"(diametre) - feuille\" (diametre (Noeud(0, Vide, Vide)) = 0);;"
   ]
  }
 ],
 "metadata": {
  "kernelspec": {
   "display_name": "OCaml default",
   "language": "OCaml",
   "name": "ocaml-jupyter"
  },
  "language_info": {
   "codemirror_mode": "text/x-ocaml",
   "file_extension": ".ml",
   "mimetype": "text/x-ocaml",
   "name": "OCaml",
   "nbconverter_exporter": null,
   "pygments_lexer": "OCaml",
   "version": "4.08.1"
  },
  "latex_envs": {
   "LaTeX_envs_menu_present": true,
   "autoclose": false,
   "autocomplete": true,
   "bibliofile": "biblio.bib",
   "cite_by": "apalike",
   "current_citInitial": 1,
   "eqLabelWithNumbers": true,
   "eqNumInitial": 1,
   "hotkeys": {
    "equation": "Ctrl-E",
    "itemize": "Ctrl-I"
   },
   "labels_anchors": false,
   "latex_user_defs": false,
   "report_style_numbering": true,
   "user_envs_cfg": true
  }
 },
 "nbformat": 4,
 "nbformat_minor": 5
}
