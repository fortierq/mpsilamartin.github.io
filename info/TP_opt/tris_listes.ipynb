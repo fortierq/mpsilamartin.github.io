{
 "cells": [
  {
   "cell_type": "markdown",
   "id": "6145c069",
   "metadata": {
    "deletable": false,
    "editable": false,
    "nbgrader": {
     "cell_type": "markdown",
     "checksum": "acb2edf10b36a90a0adada8cf10a16d7",
     "grade": false,
     "grade_id": "cell-74c2c681c4bb9081",
     "locked": true,
     "schema_version": 3,
     "solution": false,
     "task": false
    }
   },
   "source": [
    "Pour générer des nombres aléatoires en OCaml :\n",
    "- on initialise le générateur en appelant une fois la fonction `Random.self_init: unit -> unit`\n",
    "- on obtient ensuite des entiers positifs pseudo-aléatoires utilisant la fonction `Random.int : int -> int` : \n",
    "  `Random.int k` renvoie un entier entre 0 (inclus) et `k` (exclu)."
   ]
  },
  {
   "cell_type": "code",
   "execution_count": null,
   "id": "33ba83de",
   "metadata": {
    "deletable": false,
    "editable": false,
    "nbgrader": {
     "cell_type": "code",
     "checksum": "488a1369317bc2892aae871739fffb20",
     "grade": false,
     "grade_id": "cell-73925ecacec75b64",
     "locked": true,
     "schema_version": 3,
     "solution": false,
     "task": false
    }
   },
   "outputs": [],
   "source": [
    "Random.self_init ();;"
   ]
  },
  {
   "cell_type": "markdown",
   "id": "42004928",
   "metadata": {
    "deletable": false,
    "editable": false,
    "nbgrader": {
     "cell_type": "markdown",
     "checksum": "ca1d92003a93b8ae2d64c636733564c5",
     "grade": false,
     "grade_id": "cell-9a74874c7ee6e610",
     "locked": true,
     "schema_version": 3,
     "solution": false,
     "task": false
    }
   },
   "source": [
    "<font size=\"5\">👩🏻‍💻</font>  Écrire une fonction `liste_alea : int -> int list` prenant en argument un entier positif `n` et renvoyant une liste de `n` entiers aléatoires."
   ]
  },
  {
   "cell_type": "code",
   "execution_count": null,
   "id": "c49a3360",
   "metadata": {
    "deletable": false,
    "nbgrader": {
     "cell_type": "code",
     "checksum": "0ca22be2cb1db06ea82885d57da44b9f",
     "grade": true,
     "grade_id": "cell-af101ab04dc72d70",
     "locked": false,
     "points": 0,
     "schema_version": 3,
     "solution": true,
     "task": false
    }
   },
   "outputs": [],
   "source": [
    "(*À remplacer par votre code*)\n",
    "failwith \"Code manquant\""
   ]
  },
  {
   "cell_type": "markdown",
   "id": "9f15e66c",
   "metadata": {
    "deletable": false,
    "editable": false,
    "nbgrader": {
     "cell_type": "markdown",
     "checksum": "164853ccd296128909e12e82a55ee6d0",
     "grade": false,
     "grade_id": "cell-d2bd5fdabbf5b9f0",
     "locked": true,
     "schema_version": 3,
     "solution": false,
     "task": false
    }
   },
   "source": [
    "# Tri par sélection\n",
    "<font size=\"5\">🧑🏽‍💻</font>  Écrire une fonction `extrait_min : 'a list -> 'a * 'a list` qui prend en argument une liste et qui renvoie le couple constitué du plus petit élément de la liste et de la liste privée de son plus petit élément."
   ]
  },
  {
   "cell_type": "code",
   "execution_count": null,
   "id": "e7c6c4fd",
   "metadata": {
    "deletable": false,
    "nbgrader": {
     "cell_type": "code",
     "checksum": "f78c6c6fb9b3f7d6da3e245bcfcb0519",
     "grade": true,
     "grade_id": "cell-8ad8aa90ee56eec0",
     "locked": false,
     "points": 0,
     "schema_version": 3,
     "solution": true,
     "task": false
    }
   },
   "outputs": [],
   "source": [
    "(*À remplacer par votre code*)\n",
    "failwith \"Code manquant\""
   ]
  },
  {
   "cell_type": "markdown",
   "id": "09a723de",
   "metadata": {
    "deletable": false,
    "editable": false,
    "nbgrader": {
     "cell_type": "markdown",
     "checksum": "dc8097faac83c2435877165fd0bbb34f",
     "grade": false,
     "grade_id": "cell-359498c4f6821d60",
     "locked": true,
     "schema_version": 3,
     "solution": false,
     "task": false
    }
   },
   "source": [
    "<font size=\"5\">👩🏿‍💻</font> En déduire une fonction `tri_selection : 'a list -> 'a list` qui trie une liste par ordre croissant. "
   ]
  },
  {
   "cell_type": "code",
   "execution_count": null,
   "id": "9ffe34ee",
   "metadata": {
    "deletable": false,
    "nbgrader": {
     "cell_type": "code",
     "checksum": "0a49bf0d89fd55fdce39d41271559ae4",
     "grade": true,
     "grade_id": "cell-82095a00886e710f",
     "locked": false,
     "points": 0,
     "schema_version": 3,
     "solution": true,
     "task": false
    }
   },
   "outputs": [],
   "source": [
    "(*À remplacer par votre code*)\n",
    "failwith \"Code manquant\""
   ]
  },
  {
   "cell_type": "markdown",
   "id": "a25eaf3b",
   "metadata": {
    "deletable": false,
    "editable": false,
    "nbgrader": {
     "cell_type": "markdown",
     "checksum": "0f259aaecc2eaf2cad98942472b2e5f6",
     "grade": false,
     "grade_id": "cell-0d399af588bce8d1",
     "locked": true,
     "schema_version": 3,
     "solution": false,
     "task": false
    }
   },
   "source": [
    "<font size=\"5\">🧑🏼‍💻</font> Quelle est la complexité de cet algorithme de tri ?  "
   ]
  },
  {
   "cell_type": "markdown",
   "id": "2d666209",
   "metadata": {
    "deletable": false,
    "nbgrader": {
     "cell_type": "markdown",
     "checksum": "92ad38eb61c3c0ad6723930d430647b0",
     "grade": true,
     "grade_id": "cell-9d761643907b01b6",
     "locked": false,
     "points": 0,
     "schema_version": 3,
     "solution": true,
     "task": false
    }
   },
   "source": [
    "✍️ *Votre réponse*"
   ]
  },
  {
   "cell_type": "markdown",
   "id": "094cd09f",
   "metadata": {
    "deletable": false,
    "editable": false,
    "nbgrader": {
     "cell_type": "markdown",
     "checksum": "3ad506a8180f14be187e0db3742799b8",
     "grade": false,
     "grade_id": "cell-848cbedf7564ab5a",
     "locked": true,
     "schema_version": 3,
     "solution": false,
     "task": false
    }
   },
   "source": [
    "# Tri par insertion\n",
    "<font size=\"5\">👩‍💻</font>  Écrire une fonction `insere : 'a  -> 'a list -> 'a list` qui prend en argument un élément et une liste supposée triée dans l'ordre croissant et qui insère l'élément à sa place dans la liste."
   ]
  },
  {
   "cell_type": "code",
   "execution_count": null,
   "id": "10cbf320",
   "metadata": {
    "deletable": false,
    "nbgrader": {
     "cell_type": "code",
     "checksum": "592d25215f519ed7fcb33d71800909a5",
     "grade": true,
     "grade_id": "cell-f7dd25ea1b1896bd",
     "locked": false,
     "points": 0,
     "schema_version": 3,
     "solution": true,
     "task": false
    }
   },
   "outputs": [],
   "source": [
    "(*À remplacer par votre code*)\n",
    "failwith \"Code manquant\""
   ]
  },
  {
   "cell_type": "markdown",
   "id": "33ffa04b",
   "metadata": {
    "deletable": false,
    "editable": false,
    "nbgrader": {
     "cell_type": "markdown",
     "checksum": "75f084cc34ca3e52ac7116e3fd208284",
     "grade": false,
     "grade_id": "cell-c294519d4614d5bc",
     "locked": true,
     "schema_version": 3,
     "solution": false,
     "task": false
    }
   },
   "source": [
    "<font size=\"5\">🧑🏿‍💻</font> Le tri par insertion consiste à trier récursivement la queue de la liste puis à insérer sa tête dans la liste triée obtenue. Écrire une fonction `tri_insertion : 'a list -> 'a list` qui réalise le tri par insertion d'une liste."
   ]
  },
  {
   "cell_type": "code",
   "execution_count": null,
   "id": "ceb349a7",
   "metadata": {
    "deletable": false,
    "nbgrader": {
     "cell_type": "code",
     "checksum": "71a49c6e1670247173da14761c1dbb90",
     "grade": true,
     "grade_id": "cell-01103f6ce9996fe8",
     "locked": false,
     "points": 0,
     "schema_version": 3,
     "solution": true,
     "task": false
    }
   },
   "outputs": [],
   "source": [
    "(*À remplacer par votre code*)\n",
    "failwith \"Code manquant\""
   ]
  },
  {
   "cell_type": "markdown",
   "id": "9bb8cb7e",
   "metadata": {
    "deletable": false,
    "editable": false,
    "nbgrader": {
     "cell_type": "markdown",
     "checksum": "30b7d1e9cad19450400eccb89a1b6193",
     "grade": false,
     "grade_id": "cell-ff599b9824834551",
     "locked": true,
     "schema_version": 3,
     "solution": false,
     "task": false
    }
   },
   "source": [
    "<font size=\"5\">🧑‍💻 </font> Quelle est la complexité de cet algorithme de tri ? "
   ]
  },
  {
   "cell_type": "markdown",
   "id": "a3d0130d",
   "metadata": {
    "deletable": false,
    "nbgrader": {
     "cell_type": "markdown",
     "checksum": "7d8714a4466b2e4622432bd9dfc20a72",
     "grade": true,
     "grade_id": "cell-36e6d3520c4ba7f2",
     "locked": false,
     "points": 0,
     "schema_version": 3,
     "solution": true,
     "task": false
    }
   },
   "source": [
    "✍️ *Votre réponse*"
   ]
  },
  {
   "cell_type": "markdown",
   "id": "eb0962ba",
   "metadata": {
    "deletable": false,
    "editable": false,
    "nbgrader": {
     "cell_type": "markdown",
     "checksum": "78bd9771f8f381475f77fd942012f5bf",
     "grade": false,
     "grade_id": "cell-ea6e1c4e32ed1ef7",
     "locked": true,
     "schema_version": 3,
     "solution": false,
     "task": false
    }
   },
   "source": [
    "# Tri fusion\n",
    "<font size=\"5\"> 🧑🏻‍💻  </font>  Écrire une fonction `decoupe : 'a list -> 'a list * 'a list` qui prend une liste en argument et renvoie un couple de listes dont la concaténation contient exactement les éléments de la liste initiale, et dont la longueur diffère au maximum d'une unité."
   ]
  },
  {
   "cell_type": "code",
   "execution_count": null,
   "id": "452436ab",
   "metadata": {
    "deletable": false,
    "nbgrader": {
     "cell_type": "code",
     "checksum": "751afc21a9903d94c21c4aae89134f5f",
     "grade": true,
     "grade_id": "cell-09e30baf4eb7f980",
     "locked": false,
     "points": 0,
     "schema_version": 3,
     "solution": true,
     "task": false
    }
   },
   "outputs": [],
   "source": [
    "(*À remplacer par votre code*)\n",
    "failwith \"Code manquant\""
   ]
  },
  {
   "cell_type": "markdown",
   "id": "1a8dda20",
   "metadata": {
    "deletable": false,
    "editable": false,
    "nbgrader": {
     "cell_type": "markdown",
     "checksum": "5c14d9f907ad0ee5d37ac9ca5ebb77a5",
     "grade": false,
     "grade_id": "cell-93c77af7a155751b",
     "locked": true,
     "schema_version": 3,
     "solution": false,
     "task": false
    }
   },
   "source": [
    "<font size=\"5\"> 👩🏼‍💻  </font>  Écrire une fonction `fusionne : 'a list -> 'a list -> 'a list` prenant en argument deux listes supposées triées dans l'ordre croissant et les fusionnant en une liste triée."
   ]
  },
  {
   "cell_type": "code",
   "execution_count": null,
   "id": "b437751e",
   "metadata": {
    "deletable": false,
    "nbgrader": {
     "cell_type": "code",
     "checksum": "b7a45212801d1f46dfe3b52400355246",
     "grade": true,
     "grade_id": "cell-c9868ee6af667308",
     "locked": false,
     "points": 0,
     "schema_version": 3,
     "solution": true,
     "task": false
    }
   },
   "outputs": [],
   "source": [
    "(*À remplacer par votre code*)\n",
    "failwith \"Code manquant\""
   ]
  },
  {
   "cell_type": "markdown",
   "id": "70fc09a6",
   "metadata": {
    "deletable": false,
    "editable": false,
    "nbgrader": {
     "cell_type": "markdown",
     "checksum": "29113450ae4fc126530d39cfe2ca62fa",
     "grade": false,
     "grade_id": "cell-1831a0a0ac118d0f",
     "locked": true,
     "schema_version": 3,
     "solution": false,
     "task": false
    }
   },
   "source": [
    "<font size=\"5\">  🧑🏾‍💻  </font>  Le tri fusion consiste à découper une liste en deux, à trier récursivement chacune des deux listes, puis à les fusionner pour obtenir une liste triée. Écrire une fonction `tri_fusion : 'a list -> 'a list` qui réalise le tri fusion d'une liste.\\medskip"
   ]
  },
  {
   "cell_type": "code",
   "execution_count": null,
   "id": "4a509871",
   "metadata": {
    "deletable": false,
    "nbgrader": {
     "cell_type": "code",
     "checksum": "ba1c27d42644fad09ef659ba436cf0d9",
     "grade": true,
     "grade_id": "cell-0402236a938fcfb7",
     "locked": false,
     "points": 0,
     "schema_version": 3,
     "solution": true,
     "task": false
    }
   },
   "outputs": [],
   "source": [
    "(*À remplacer par votre code*)\n",
    "failwith \"Code manquant\""
   ]
  },
  {
   "cell_type": "markdown",
   "id": "06423581",
   "metadata": {
    "deletable": false,
    "editable": false,
    "nbgrader": {
     "cell_type": "markdown",
     "checksum": "5ee15eea14061576d62d3a2adcfbc841",
     "grade": false,
     "grade_id": "cell-ded5cf66d882f87f",
     "locked": true,
     "schema_version": 3,
     "solution": false,
     "task": false
    }
   },
   "source": [
    "*Cet algorithme a une complexité en $O(n \\ln n)$ où $n$ est la longueur de la liste à trier.*"
   ]
  },
  {
   "cell_type": "markdown",
   "id": "e90835e3",
   "metadata": {
    "deletable": false,
    "editable": false,
    "nbgrader": {
     "cell_type": "markdown",
     "checksum": "c0dae6028e0fe0622d04fb26a534522c",
     "grade": false,
     "grade_id": "cell-ddc75d815f92aff2",
     "locked": true,
     "schema_version": 3,
     "solution": false,
     "task": false
    }
   },
   "source": [
    "# Tri rapide\n",
    "<font size=\"5\"> 👩🏽‍💻  </font>  Écrire une fonction `partitionne : 'a -> 'a liste -> 'a liste * 'a liste` qui prend en argument un élément `x` et une liste `lst` et qui renvoie la liste des éléments de `lst` inférieurs ou égaux à `x` et la liste des éléments de `lst` strictement supérieurs à `x`."
   ]
  },
  {
   "cell_type": "code",
   "execution_count": null,
   "id": "1bf1fbb1",
   "metadata": {
    "deletable": false,
    "nbgrader": {
     "cell_type": "code",
     "checksum": "345ad81d8e884ea9cf72d9bdd249ffbf",
     "grade": true,
     "grade_id": "cell-09bb4d18c62e7aa5",
     "locked": false,
     "points": 0,
     "schema_version": 3,
     "solution": true,
     "task": false
    }
   },
   "outputs": [],
   "source": [
    "(*À remplacer par votre code*)\n",
    "failwith \"Code manquant\""
   ]
  },
  {
   "cell_type": "markdown",
   "id": "a2c1cb05",
   "metadata": {
    "deletable": false,
    "editable": false,
    "nbgrader": {
     "cell_type": "markdown",
     "checksum": "a33d6763e7984a2468f53d7ada34b5f0",
     "grade": false,
     "grade_id": "cell-910bfb96709cf724",
     "locked": true,
     "schema_version": 3,
     "solution": false,
     "task": false
    }
   },
   "source": [
    "<font size=\"5\"> 👩‍💻 </font>  Le tri rapide consiste à isoler un élément de la liste à trier (par exemple le premier), à partitionner le reste de la liste en deux grâce à la fonction précédente, à trier récursivement les deux listes obtenues, puis à reconstruire la liste par concaténation. Écrire une fonction `tri_rapide : 'a list -> 'a list` qui réalise le tri rapide d'une liste.\\medskip"
   ]
  },
  {
   "cell_type": "code",
   "execution_count": null,
   "id": "5eecf3c9",
   "metadata": {
    "deletable": false,
    "nbgrader": {
     "cell_type": "code",
     "checksum": "2ee153a0795fe90fc0d8dff8116b91bd",
     "grade": true,
     "grade_id": "cell-e4e72d57e2a20e44",
     "locked": false,
     "points": 0,
     "schema_version": 3,
     "solution": true,
     "task": false
    }
   },
   "outputs": [],
   "source": [
    "(*À remplacer par votre code*)\n",
    "failwith \"Code manquant\""
   ]
  },
  {
   "cell_type": "markdown",
   "id": "5daab6f8",
   "metadata": {
    "deletable": false,
    "editable": false,
    "nbgrader": {
     "cell_type": "markdown",
     "checksum": "a89112b315371247095fd537d2e133c2",
     "grade": false,
     "grade_id": "cell-9662be48ca8dfd64",
     "locked": true,
     "schema_version": 3,
     "solution": false,
     "task": false
    }
   },
   "source": [
    "*Cet algorithme a une complexité quadratique dans le pire des cas, mais une complexité en $O(n\\ln n)$ en moyenne.*"
   ]
  }
 ],
 "metadata": {
  "kernelspec": {
   "display_name": "OCaml default",
   "language": "OCaml",
   "name": "ocaml-jupyter"
  },
  "language_info": {
   "codemirror_mode": "text/x-ocaml",
   "file_extension": ".ml",
   "mimetype": "text/x-ocaml",
   "name": "OCaml",
   "nbconverter_exporter": null,
   "pygments_lexer": "OCaml",
   "version": "4.08.1"
  }
 },
 "nbformat": 4,
 "nbformat_minor": 5
}
