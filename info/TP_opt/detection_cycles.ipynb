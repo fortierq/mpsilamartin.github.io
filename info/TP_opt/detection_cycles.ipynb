{
 "cells": [
  {
   "cell_type": "markdown",
   "id": "50b517ef",
   "metadata": {
    "deletable": false,
    "editable": false,
    "nbgrader": {
     "cell_type": "markdown",
     "checksum": "a3b1571371837dd0551720c171ef61c8",
     "grade": false,
     "grade_id": "cell-97610282986a0fb1",
     "locked": true,
     "schema_version": 3,
     "solution": false,
     "task": false
    }
   },
   "source": [
    "*Adapté d'un [sujet d'épreuve pratique des ENS](http://informatique.ens-lyon.fr/concours-info/2012/sujet-2012-6.pdf) de 2012*\n",
    "\n",
    "On considère un ensemble **fini** $E$, une application $f : E \\to E$.\n",
    "\n",
    "À partir d'un élément $x_0 \\in E$, on peut construire une suite $\\left(x_{n}\\right)_{n \\in \\mathbb{N}}$, appelée *suite des itérés* de $x_0$, telle que pour tout $n \\in \\mathbb{N}$, $x_{n+1} = f(x_n)$.\n",
    "\n",
    "Comme l'ensemble $E$ est fini, la suite $\\left(x_{n}\\right)_{n \\in \\mathbb{N}}$ prend un nombre fini de valeurs, donc il existe $i < j$ tel que $x_i = x_j$.\n",
    "\n",
    "Les valeurs prises par la suite à partir du rang $i$ seront alors : $x_i, x_{i+1}, \\dots, x_{j-1}, x_i, x_{i+1}, \\dots $. Autrement dit, à partir du rang $i$, la suite sera périodique de période $\\lambda = j-i$.\n",
    "\n",
    "On appelera *pré-période* l'indice minimal $\\mu = i$ tel qu'il existe $j > i$ tel que $x_j = x_i$ (autrement dit le nombre d'éléments de la suite n'appartenant pas au cycle)."
   ]
  },
  {
   "cell_type": "markdown",
   "id": "9a2ff64c",
   "metadata": {
    "deletable": false,
    "editable": false,
    "nbgrader": {
     "cell_type": "markdown",
     "checksum": "fa27cd9c33a0ac7579c8c08cfd98d8b3",
     "grade": false,
     "grade_id": "cell-afe8053c117686c9",
     "locked": true,
     "schema_version": 3,
     "solution": false,
     "task": false
    }
   },
   "source": [
    "<font size=\"5\">👩‍💻</font> En utilisant le fait que pour tout $n \\in \\mathbb{N}$, $x_{n+1}  =f(x_n)$, écrire une fonction `itere : ('a -> 'a) -> 'a -> int -> 'a` qui prend en argument la fonction $f$, l'élément $x_0$ et l'entier $n$, et qui renvoie la valeur de $x_n$."
   ]
  },
  {
   "cell_type": "code",
   "execution_count": null,
   "id": "129cdf37",
   "metadata": {
    "deletable": false,
    "nbgrader": {
     "cell_type": "code",
     "checksum": "7f589e8fbf76537d83e74a9defbe36bc",
     "grade": false,
     "grade_id": "cell-e118861d4f77105e",
     "locked": false,
     "schema_version": 3,
     "solution": true,
     "task": false
    }
   },
   "outputs": [],
   "source": [
    "(*À remplacer par votre code*)\n",
    "failwith \"Code manquant\""
   ]
  },
  {
   "cell_type": "code",
   "execution_count": null,
   "id": "40434f26",
   "metadata": {
    "deletable": false,
    "editable": false,
    "nbgrader": {
     "cell_type": "code",
     "checksum": "5b7053515af17874b10db6ee5539870d",
     "grade": true,
     "grade_id": "cell-c2527ef79ede70f1",
     "locked": true,
     "points": 0,
     "schema_version": 3,
     "solution": false,
     "task": false
    }
   },
   "outputs": [],
   "source": [
    "(*Exécuter cette cellule pour tester votre fonction *)\n",
    "let () = assert (itere (fun x -> (2*x) mod 2048) 1 10 = 1024);;\n",
    "let () = assert (itere (fun x -> (x*x + 17) mod 431) 4 2000 = 46);;\n",
    "let () = assert (itere (fun x -> (x*x + 92) mod 32069) 33 321 = 2368);;"
   ]
  },
  {
   "cell_type": "markdown",
   "id": "6104016c",
   "metadata": {
    "deletable": false,
    "editable": false,
    "nbgrader": {
     "cell_type": "markdown",
     "checksum": "6be2b8791d66f29e35e0e6504eabb40a",
     "grade": false,
     "grade_id": "cell-de8adb2868564efa",
     "locked": true,
     "schema_version": 3,
     "solution": false,
     "task": false
    }
   },
   "source": [
    "<font size=\"5\">👨🏽‍💻 </font>  En remarquant que pour tout $n \\in \\mathbb{N}^*$, $x_n$ peut aussi s'obtenir en appliquant $n-1$ fois la fonction $f$ à $f(x_0)$, en déduire une fonction `itere2` qui calcule différemment la valeur de $x_n$."
   ]
  },
  {
   "cell_type": "code",
   "execution_count": null,
   "id": "767e5ba5",
   "metadata": {
    "deletable": false,
    "nbgrader": {
     "cell_type": "code",
     "checksum": "0465e8c3ed247b698acdece042e6f4f0",
     "grade": false,
     "grade_id": "cell-ed1704fc45567b36",
     "locked": false,
     "schema_version": 3,
     "solution": true,
     "task": false
    }
   },
   "outputs": [],
   "source": [
    "(*À remplacer par votre code*)\n",
    "failwith \"Code manquant\""
   ]
  },
  {
   "cell_type": "code",
   "execution_count": null,
   "id": "28f2a39e",
   "metadata": {
    "deletable": false,
    "editable": false,
    "nbgrader": {
     "cell_type": "code",
     "checksum": "5406e5ef92412cbc529fb7207dc13c5e",
     "grade": true,
     "grade_id": "cell-ec9bfed394b8d014",
     "locked": true,
     "points": 0,
     "schema_version": 3,
     "solution": false,
     "task": false
    }
   },
   "outputs": [],
   "source": [
    "(*Exécuter cette cellule pour tester votre fonction *)\n",
    "let () = assert (itere2 (fun x -> (2*x) mod 2048) 1 10 = 1024);;\n",
    "let () = assert (itere2 (fun x -> (x*x + 17) mod 431) 4 2000 = 46);;\n",
    "let () = assert (itere2 (fun x -> (x*x + 234) mod 32069) 33 321 = 18149);;"
   ]
  },
  {
   "cell_type": "markdown",
   "id": "a02c5b47",
   "metadata": {
    "deletable": false,
    "editable": false,
    "nbgrader": {
     "cell_type": "markdown",
     "checksum": "ceef46a6077bdd6734ace49a936454c6",
     "grade": false,
     "grade_id": "cell-272b592286b4b6bc",
     "locked": true,
     "schema_version": 3,
     "solution": false,
     "task": false
    }
   },
   "source": [
    "<font size=\"5\">🖊️</font> On pourra remarquer la différence de comportement de ces deux fonctions sur les appels suivants :"
   ]
  },
  {
   "cell_type": "code",
   "execution_count": null,
   "id": "784c7773",
   "metadata": {
    "deletable": false,
    "editable": false,
    "nbgrader": {
     "cell_type": "code",
     "checksum": "2b6e9674be301f7e53c7f6fdf3bb6186",
     "grade": false,
     "grade_id": "cell-2b597265df100a5f",
     "locked": true,
     "schema_version": 3,
     "solution": false,
     "task": false
    }
   },
   "outputs": [],
   "source": [
    "itere (fun x -> (x*x + 17) mod 431) 4 2000000;;"
   ]
  },
  {
   "cell_type": "code",
   "execution_count": null,
   "id": "19095a2c",
   "metadata": {
    "deletable": false,
    "editable": false,
    "nbgrader": {
     "cell_type": "code",
     "checksum": "412e0e7f6b7a80e75c04828c7fdd6979",
     "grade": false,
     "grade_id": "cell-9ed258ba5972d23e",
     "locked": true,
     "schema_version": 3,
     "solution": false,
     "task": false
    }
   },
   "outputs": [],
   "source": [
    "itere2 (fun x -> (x*x + 17) mod 431) 4 2000000;;"
   ]
  },
  {
   "cell_type": "markdown",
   "id": "12bf5a38",
   "metadata": {
    "deletable": false,
    "editable": false,
    "nbgrader": {
     "cell_type": "markdown",
     "checksum": "baafdf4a7345588ef571af19a4e506d7",
     "grade": false,
     "grade_id": "cell-ccb4990d4e61221a",
     "locked": true,
     "schema_version": 3,
     "solution": false,
     "task": false
    }
   },
   "source": [
    "# [Algorithme du lièvre et de la tortue](https://fr.wikipedia.org/wiki/Algorithme_du_li%C3%A8vre_et_de_la_tortue)\n",
    "\n",
    "On utilisera dans cette partie l'agorithme de détection de cycle de Floyd, aussi appelé algorithme du lièvre et de la tortue.\n",
    "\n",
    "Pour cela, on considère la suite  $\\left(y_{n}\\right)_{n \\in \\mathbb{N}}$ définie par $y_0 = x_0$ et pour tout $n \\in \\mathbb{N}$, $y_{n+1} = f(f(y_n))$."
   ]
  },
  {
   "cell_type": "markdown",
   "id": "2d51c557",
   "metadata": {
    "deletable": false,
    "editable": false,
    "nbgrader": {
     "cell_type": "markdown",
     "checksum": "c4da2fb7858913f6c502f0a020d5ef26",
     "grade": false,
     "grade_id": "cell-f1df29be64e63445",
     "locked": true,
     "schema_version": 3,
     "solution": false,
     "task": false
    }
   },
   "source": [
    "<font size=\"5\">👩🏿‍💻</font>  Écrire une fonction `floyd` qui prend en argument la fonction $f$ et l'élément $x_0$, et qui renvoie un couple constitué du plus petit entier strictement positif $i$ tel que $x_i = y_i$ et de la valeur $x_i$ correspondante.\n",
    "\n",
    "On pourra utiliser une fonction récursive auxilliaire.\n"
   ]
  },
  {
   "cell_type": "code",
   "execution_count": null,
   "id": "125c6060",
   "metadata": {
    "deletable": false,
    "nbgrader": {
     "cell_type": "code",
     "checksum": "e5daf9f626e96193f929768becdee82d",
     "grade": false,
     "grade_id": "cell-20016cda4dada42b",
     "locked": false,
     "schema_version": 3,
     "solution": true,
     "task": false
    }
   },
   "outputs": [],
   "source": [
    "(*À remplacer par votre code*)\n",
    "failwith \"Code manquant\""
   ]
  },
  {
   "cell_type": "code",
   "execution_count": null,
   "id": "9ff93485",
   "metadata": {},
   "outputs": [],
   "source": [
    "(*Exécuter cette cellule pour tester votre fonction *)\n",
    "let () = assert (floyd (fun x -> (2*x) mod 431) 1  = (43, 1));;\n",
    "let () = assert (floyd (fun x -> (x*x + 234) mod 32069) 33 = (95, 10002));;\n",
    "let () = assert (floyd (fun x -> (x*x + 92) mod 32069) 33 = (320, 11326));;\n",
    "let () = assert (floyd (fun x -> (x*x + 17) mod 431) 4 = (25, 46));;"
   ]
  },
  {
   "cell_type": "markdown",
   "id": "80b0353b",
   "metadata": {
    "deletable": false,
    "editable": false,
    "nbgrader": {
     "cell_type": "markdown",
     "checksum": "147074b77cb5f1fb521eff57edd3183b",
     "grade": false,
     "grade_id": "cell-ef50ac4ba5c1de0d",
     "locked": true,
     "schema_version": 3,
     "solution": false,
     "task": false
    }
   },
   "source": [
    "<font size=\"5\">👨🏼‍💻</font> Montrer que la valeur de $i$ calculée correspond au plus petit multiple de la période $\\lambda$ supérieur ou égal à la pré-période $\\mu$."
   ]
  },
  {
   "cell_type": "markdown",
   "id": "f9fbc169",
   "metadata": {
    "deletable": false,
    "nbgrader": {
     "cell_type": "markdown",
     "checksum": "2c5cfc63edbebfbc446b7da0ec68cdc9",
     "grade": true,
     "grade_id": "cell-21c9632765159855",
     "locked": false,
     "points": 0,
     "schema_version": 3,
     "solution": true,
     "task": false
    }
   },
   "source": [
    "✍️ *Votre réponse*"
   ]
  },
  {
   "cell_type": "markdown",
   "id": "3a07c869",
   "metadata": {
    "deletable": false,
    "editable": false,
    "nbgrader": {
     "cell_type": "markdown",
     "checksum": "c01a2421829794565f549adcc41994fa",
     "grade": false,
     "grade_id": "cell-8c0cf0200127aeed",
     "locked": true,
     "schema_version": 3,
     "solution": false,
     "task": false
    }
   },
   "source": [
    "<font size=\"5\">👩🏻‍💻</font>  En remplaçant $x_0$ par la valeur de $x_i$ ainsi obtenue, quelle sera la nouvelle valeur de $i$ calculée par la fonction `floyd` ?"
   ]
  },
  {
   "cell_type": "markdown",
   "id": "d024b624",
   "metadata": {
    "deletable": false,
    "nbgrader": {
     "cell_type": "markdown",
     "checksum": "4a0ed4b49b55f5c18f97fb8bb888b237",
     "grade": true,
     "grade_id": "cell-967b7c1aca5a643c",
     "locked": false,
     "points": 0,
     "schema_version": 3,
     "solution": true,
     "task": false
    }
   },
   "source": [
    "✍️ *Votre réponse*"
   ]
  },
  {
   "cell_type": "markdown",
   "id": "03dae173",
   "metadata": {
    "deletable": false,
    "editable": false,
    "nbgrader": {
     "cell_type": "markdown",
     "checksum": "e23262ce2aef5b84ae3759dd5f8b6639",
     "grade": false,
     "grade_id": "cell-48669c87a364a781",
     "locked": true,
     "schema_version": 3,
     "solution": false,
     "task": false
    }
   },
   "source": [
    "<font size=\"5\">👨🏿‍💻</font>  En déduire une fonction `periode` qui prend en argument $f$ et $x_0$ et qui renvoie la période $\\lambda$ de la suite des itérés $\\left(x_{n}\\right)_{n \\in \\mathbb{N}}$"
   ]
  },
  {
   "cell_type": "code",
   "execution_count": null,
   "id": "b95311a1",
   "metadata": {
    "deletable": false,
    "nbgrader": {
     "cell_type": "code",
     "checksum": "64b0e0dc530c33a0313bd0e06bca0e6e",
     "grade": false,
     "grade_id": "cell-ffa65766d304a9b5",
     "locked": false,
     "schema_version": 3,
     "solution": true,
     "task": false
    }
   },
   "outputs": [],
   "source": [
    "(*À remplacer par votre code*)\n",
    "failwith \"Code manquant\""
   ]
  },
  {
   "cell_type": "code",
   "execution_count": null,
   "id": "debca443",
   "metadata": {
    "deletable": false,
    "editable": false,
    "nbgrader": {
     "cell_type": "code",
     "checksum": "6b0281ee55e190ecda0dbf9dc13063f8",
     "grade": true,
     "grade_id": "cell-ebb25c8cfa8c46ff",
     "locked": true,
     "points": 0,
     "schema_version": 3,
     "solution": false,
     "task": false
    }
   },
   "outputs": [],
   "source": [
    "(*Exécuter cette cellule pour tester votre fonction *)\n",
    "let () = assert (periode (fun x -> (2*x) mod 431) 1  = 43);;\n",
    "let () = assert (periode (fun x -> (x*x + 234) mod 32069) 33 = 95);;\n",
    "let () = assert (periode (fun x -> (x*x + 92) mod 32069) 33 = 8);;\n",
    "let () = assert (periode (fun x -> (x*x + 17) mod 431) 4 = 25);;"
   ]
  },
  {
   "cell_type": "markdown",
   "id": "58772cdb",
   "metadata": {
    "deletable": false,
    "editable": false,
    "nbgrader": {
     "cell_type": "markdown",
     "checksum": "3a81b538c21277635c168514a146b770",
     "grade": false,
     "grade_id": "cell-2ad2175595a72411",
     "locked": true,
     "schema_version": 3,
     "solution": false,
     "task": false
    }
   },
   "source": [
    "<font size=\"5\">👩‍💻</font>  Montrer que $x_{i+\\mu} = x_{\\mu}$ "
   ]
  },
  {
   "cell_type": "markdown",
   "id": "fe033940",
   "metadata": {
    "deletable": false,
    "nbgrader": {
     "cell_type": "markdown",
     "checksum": "cefb7cf9735313f81b9efc89e7c59102",
     "grade": true,
     "grade_id": "cell-b9bd9d6421de397d",
     "locked": false,
     "points": 0,
     "schema_version": 3,
     "solution": true,
     "task": false
    }
   },
   "source": [
    "✍️ *Votre réponse*"
   ]
  },
  {
   "cell_type": "markdown",
   "id": "88c133d1",
   "metadata": {
    "deletable": false,
    "editable": false,
    "nbgrader": {
     "cell_type": "markdown",
     "checksum": "662a170622c4cc042909f4509fd99b9b",
     "grade": false,
     "grade_id": "cell-e257be05a3e73410",
     "locked": true,
     "schema_version": 3,
     "solution": false,
     "task": false
    }
   },
   "source": [
    "<font size=\"5\">👨🏾‍💻</font>  En déduire une fonction `pre_periode` qui prend en argument $f$ et $x_0$ et qui renvoie la pré-période $\\mu$ de la suite $\\left(x_{n}\\right)_{n \\in \\mathbb{N}}$."
   ]
  },
  {
   "cell_type": "code",
   "execution_count": null,
   "id": "9a9ee403",
   "metadata": {
    "deletable": false,
    "nbgrader": {
     "cell_type": "code",
     "checksum": "93cabf4df4e09060cfba33b2f9df638d",
     "grade": false,
     "grade_id": "cell-207412f53fd66597",
     "locked": false,
     "schema_version": 3,
     "solution": true,
     "task": false
    }
   },
   "outputs": [],
   "source": [
    "(*À remplacer par votre code*)\n",
    "failwith \"Code manquant\""
   ]
  },
  {
   "cell_type": "code",
   "execution_count": null,
   "id": "0ec8a400",
   "metadata": {
    "deletable": false,
    "editable": false,
    "nbgrader": {
     "cell_type": "code",
     "checksum": "ffb32496cf51b1006c22af08af1f89fd",
     "grade": true,
     "grade_id": "cell-0b824541da6ecd45",
     "locked": true,
     "points": 0,
     "schema_version": 3,
     "solution": false,
     "task": false
    }
   },
   "outputs": [],
   "source": [
    "(*Exécuter cette cellule pour tester votre fonction *)\n",
    "let () = assert (pre_periode (fun x -> (2*x) mod 431) 1  = 0);;\n",
    "let () = assert (pre_periode (fun x -> (x*x + 234) mod 32069) 33 = 28);;\n",
    "let () = assert (pre_periode (fun x -> (x*x + 17) mod 431) 4 = 5);;"
   ]
  },
  {
   "cell_type": "markdown",
   "id": "376c61b8",
   "metadata": {
    "deletable": false,
    "editable": false,
    "nbgrader": {
     "cell_type": "markdown",
     "checksum": "ce936ccd259c93e55687f73714e26216",
     "grade": false,
     "grade_id": "cell-da8259d88c98b8c2",
     "locked": true,
     "schema_version": 3,
     "solution": false,
     "task": false
    }
   },
   "source": [
    "# Algorithme de Brent\n",
    "L'algorithme de Floyd permet de trouver une valeur $x_{i}$ dans le cycle et ensuite la longueur du cycle et la longueur de la pré-période en considérant la suite d'indices $(i, 2 i)$ et en testant l'égalité $x_{i}=x_{2 i} .$\n",
    "\n",
    "L'algorithme de Brent utilise la suite $(i, j)$ et teste l'égalité $x_{i}=x_{j} .$ La suite $(i, j)$ est construire en partant de $(0,1)$ et telle que\n",
    "$$\n",
    "\\begin{aligned}\n",
    "(i, j) & \\mapsto(i, j+1) \\quad \\text { si } \\quad j \\leq 2 i\\\\\n",
    "(i, j) & \\mapsto(j, j+1) \\quad \\text { si } \\quad j = 2 i\n",
    "\\end{aligned} \n",
    "$$\n",
    "<font size=\"5\">👨🏻‍💻 </font> Écrire une fonction `brent` qui prend en argument $f$ et $x_0$ et qui renvoie le couple $(i,j)$ obtenu par cet algorithme."
   ]
  },
  {
   "cell_type": "code",
   "execution_count": null,
   "id": "3c2b6ebe",
   "metadata": {
    "deletable": false,
    "nbgrader": {
     "cell_type": "code",
     "checksum": "c6a4d9a3ce55ef01dd29b5b4cbd4ac7d",
     "grade": false,
     "grade_id": "cell-73747b8096e1499d",
     "locked": false,
     "schema_version": 3,
     "solution": true,
     "task": false
    }
   },
   "outputs": [],
   "source": [
    "(*À remplacer par votre code*)\n",
    "failwith \"Code manquant\""
   ]
  },
  {
   "cell_type": "code",
   "execution_count": null,
   "id": "5e81ee75",
   "metadata": {
    "deletable": false,
    "editable": false,
    "nbgrader": {
     "cell_type": "code",
     "checksum": "45573db3099670e86071d6f4928a4fdf",
     "grade": true,
     "grade_id": "cell-750da941a51cc2d8",
     "locked": true,
     "points": 0,
     "schema_version": 3,
     "solution": false,
     "task": false
    }
   },
   "outputs": [],
   "source": [
    "(*Exécuter cette cellule pour tester votre fonction *)\n",
    "let () = assert (brent (fun x -> (2*x) mod 431) 1  = (63, 106));;\n",
    "let () = assert (brent (fun x -> (x*x + 234) mod 32069) 33  = (127, 222));;"
   ]
  }
 ],
 "metadata": {
  "kernelspec": {
   "display_name": "OCaml default",
   "language": "OCaml",
   "name": "ocaml-jupyter"
  },
  "language_info": {
   "codemirror_mode": "text/x-ocaml",
   "file_extension": ".ml",
   "mimetype": "text/x-ocaml",
   "name": "OCaml",
   "nbconverter_exporter": null,
   "pygments_lexer": "OCaml",
   "version": "4.08.1"
  }
 },
 "nbformat": 4,
 "nbformat_minor": 5
}
