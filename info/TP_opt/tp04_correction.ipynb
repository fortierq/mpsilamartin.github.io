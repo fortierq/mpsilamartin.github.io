{
 "cells": [
  {
   "cell_type": "markdown",
   "id": "3e840c43",
   "metadata": {},
   "source": [
    "\t\n",
    "Soit $n$ un entier naturel non nul. Une *permutation* $\\sigma$ de l'ensemble $⟦ 0, n-1 ⟧$ des entiers compris entre $0$ et $n-1$ est une bijection de cet ensemble dans lui-même.\n",
    "\n",
    "# Représentation d'une permutation\n",
    "\n",
    "Nous représenterons une permutation $\\sigma$ de $⟦ 0, n-1 ⟧$ par un tableau d'entiers $t$ de longueur $n$, tel que pour tout $i \\in ⟦ 0, n-1 ⟧$, l'entier $t.(i)$ soit égal à $\\sigma(i)$.\n",
    "\n",
    "#### Question 1\n",
    "À quelle condition un tableau $t$ de longueur $n$ représente-t-il une permutation de $⟦ 0, n-1 ⟧$ ?"
   ]
  },
  {
   "cell_type": "markdown",
   "id": "90c69526",
   "metadata": {},
   "source": [
    "> Un tableau $t$ de longueur $n$ représente une permutation de $⟦ 0, n-1 ⟧$ si et seulement s'il contient une seule fois chaque entier entre 0 et $n-1$."
   ]
  },
  {
   "cell_type": "markdown",
   "id": "14de6b58",
   "metadata": {},
   "source": [
    "En déduire une fonction `est_permutation` qui vérifie si un tableau d'entiers représente une permutation."
   ]
  },
  {
   "cell_type": "code",
   "execution_count": 1,
   "id": "ed656f1c",
   "metadata": {},
   "outputs": [
    {
     "data": {
      "text/plain": [
       "val est_permutation : int array -> bool = <fun>\n"
      ]
     },
     "execution_count": 1,
     "metadata": {},
     "output_type": "execute_result"
    }
   ],
   "source": [
    "let est_permutation tab =\n",
    "  let n = Array.length tab in\n",
    "  let valeurs = Array.make n false in\n",
    "  let i = ref 0 in\n",
    "  let ok = ref true in\n",
    "  while !ok && !i < n do\n",
    "    let k = tab.(!i) in\n",
    "    if k < 0 || k >= n || valeurs.(k)\n",
    "    then ok := false\n",
    "    else      \n",
    "      begin\n",
    "        valeurs.(k) <- true ;\n",
    "        incr i\n",
    "      end\n",
    "  done;\n",
    "  !ok\n",
    ";;"
   ]
  },
  {
   "cell_type": "markdown",
   "id": "615869b7",
   "metadata": {},
   "source": [
    "#### Question 2\n",
    "Le support d'une permutation $\\sigma$ est l'ensemble des points non fixes de $\\sigma$, c'est-à-dire l'ensemble des entiers $i$ tels que $\\sigma(i) \\neq i$.\n",
    "\n",
    "Écrire une fonction `support : int array -> int list` qui prend en argument un tableau représentant une permutation et qui renvoie son support."
   ]
  },
  {
   "cell_type": "code",
   "execution_count": 2,
   "id": "0b38ca2f",
   "metadata": {},
   "outputs": [
    {
     "data": {
      "text/plain": [
       "val support : int array -> int list = <fun>\n"
      ]
     },
     "execution_count": 2,
     "metadata": {},
     "output_type": "execute_result"
    }
   ],
   "source": [
    "let support tab =\n",
    "  let s = ref [] in\n",
    "  let n = Array.length tab in\n",
    "  for i = n-1 downto 0 do\n",
    "    if tab.(i) <> i\n",
    "    then s := i::!s\n",
    "  done;\n",
    "  !s\n",
    ";;"
   ]
  },
  {
   "cell_type": "markdown",
   "id": "6275cb1b",
   "metadata": {},
   "source": [
    "#### Question 3\n",
    "La composée de deux permutations $\\sigma$ et $\\sigma'$ de $⟦ 0, n-1 ⟧$ est leur composée $\\sigma \\circ \\sigma'$ au sens habituel des applications. Il s'agit d'une permutation de $⟦ 0, n-1 ⟧$.\n",
    "\n",
    "Écrire une fonction `compose` qui prend en argument deux tableaux représentant des permutations et qui renvoie le tableau représentant leur composée."
   ]
  },
  {
   "cell_type": "code",
   "execution_count": 3,
   "id": "65092566",
   "metadata": {},
   "outputs": [
    {
     "data": {
      "text/plain": [
       "val compose : 'a array -> int array -> 'a array = <fun>\n"
      ]
     },
     "execution_count": 3,
     "metadata": {},
     "output_type": "execute_result"
    }
   ],
   "source": [
    "let compose t1 t2 =\n",
    "  let n = Array.length t1 in\n",
    "  if n = 0\n",
    "  then [||]\n",
    "  else\n",
    "    begin\n",
    "      let t = Array.make n t1.(0) in\n",
    "      for i = 0 to n-1 do\n",
    "        t.(i)\n",
    "        <- t1.(t2.(i))\n",
    "      done;\n",
    "      t\n",
    "    end\n",
    ";;"
   ]
  },
  {
   "cell_type": "markdown",
   "id": "b7adfe28",
   "metadata": {},
   "source": [
    "# Énumération des permutations\n",
    "## Ordre sur les permutations\n",
    "On ordonne les permutations de $⟦ 0, n-1 ⟧$ selon l'ordre lexicographique. Nous allons \\'ecrire une fonction qui \\'etant donn\\'ee une permutation représentée par un tableau $t$ calcule son successeur immédiat. Pour cela, on applique l'algorithme suivant :\n",
    "\n",
    "* On détermine le plus grand entier $i$ tel que $t.(i) < t.(i+1)$ ;\n",
    "* On permute $t.(i)$ avec le plus petit élément qui lui soit plus grand parmi $t.(i+1)$,..., $t.(n-1)$ ;\n",
    "* On trie la portion du tableau située à partir de l'indice $i+1$ compris.\n",
    "\n",
    "#### Question 4\n",
    "Écrire une fonction `indice_max_croit` qui prend en argument un tableau $t$ et renvoie le plus grand indice $i$ tel que $t.(i) < t.(i+1)$."
   ]
  },
  {
   "cell_type": "code",
   "execution_count": 4,
   "id": "f5496d4f",
   "metadata": {},
   "outputs": [
    {
     "data": {
      "text/plain": [
       "exception TableauDecroissant\n"
      ]
     },
     "execution_count": 4,
     "metadata": {},
     "output_type": "execute_result"
    },
    {
     "data": {
      "text/plain": [
       "val indice_max_croit : 'a array -> int = <fun>\n"
      ]
     },
     "execution_count": 4,
     "metadata": {},
     "output_type": "execute_result"
    }
   ],
   "source": [
    "exception TableauDecroissant;;\n",
    "\n",
    "let indice_max_croit t =\n",
    "  let n = Array.length t in\n",
    "  let i = ref (n-2) in\n",
    "  while !i >= 0 && t.(!i) >= t.(!i+1) do\n",
    "    decr i\n",
    "         (* équivalent à i := !i - 1 *)\n",
    "  done;\n",
    "  if !i >=0\n",
    "  then !i\n",
    "  else raise TableauDecroissant\n",
    ";;"
   ]
  },
  {
   "cell_type": "markdown",
   "id": "063b5a17",
   "metadata": {},
   "source": [
    "#### Question 5\n",
    "Écrire une fonction `permute_max` qui prend en argument un tableau $t$ et un entier $i$ et qui permute dans le tableau $t$ l'élément d'indice $i$ avec le plus petit élément qui lui soit plus grand parmi $t.(i+1)$,..., $t.(n-1)$ (ou $n$ est la longueur de $t$)."
   ]
  },
  {
   "cell_type": "code",
   "execution_count": 5,
   "id": "a05ca535",
   "metadata": {},
   "outputs": [
    {
     "data": {
      "text/plain": [
       "val echange : 'a array -> int -> int -> unit = <fun>\n"
      ]
     },
     "execution_count": 5,
     "metadata": {},
     "output_type": "execute_result"
    },
    {
     "data": {
      "text/plain": [
       "val permute_max : 'a array -> int -> unit = <fun>\n"
      ]
     },
     "execution_count": 5,
     "metadata": {},
     "output_type": "execute_result"
    }
   ],
   "source": [
    "(* La fonction suivante réalise l'échange en place des éléments d'indices i et j du tableau tab*)\n",
    "let echange tab i j =\n",
    "  let tmp = tab.(i) in\n",
    "  tab.(i) <- tab.(j);\n",
    "  tab.(j) <- tmp\n",
    ";;\n",
    "\n",
    "let permute_max t i =\n",
    "  let n = Array.length t in\n",
    "  let j = ref i in\n",
    "  for k = i+1 to n-1 do\n",
    "    if t.(k) > t.(i) && (t.(k) < t.(!j) || !j = i)\n",
    "    then j := k\n",
    "  done;\n",
    "  echange t i !j\n",
    ";;"
   ]
  },
  {
   "cell_type": "markdown",
   "id": "0cf5a578",
   "metadata": {},
   "source": [
    "#### Question 6\n",
    "Écrire une fonction `trie_droite` qui prend en argument un tableau $t$ et un entier $k$ et qui trie en place la portion du tableau située à partir de l'indice $k$."
   ]
  },
  {
   "cell_type": "code",
   "execution_count": 6,
   "id": "85bd9f0c",
   "metadata": {},
   "outputs": [
    {
     "data": {
      "text/plain": [
       "val indice_min : 'a array -> int -> int = <fun>\n"
      ]
     },
     "execution_count": 6,
     "metadata": {},
     "output_type": "execute_result"
    },
    {
     "data": {
      "text/plain": [
       "val trie_droite : 'a array -> int -> unit = <fun>\n"
      ]
     },
     "execution_count": 6,
     "metadata": {},
     "output_type": "execute_result"
    }
   ],
   "source": [
    "(* La fonction suivante renvoie l'indice de l'élément minimal à partir de l'indice i inclus*)\n",
    "let rec indice_min t i =\n",
    "  let n = Array.length t in\n",
    "  if i = n-1\n",
    "  then n-1\n",
    "  else let j = indice_min t (i+1) in\n",
    "       if t.(j) < t.(i)\n",
    "       then j\n",
    "       else i\n",
    ";;\n",
    "\n",
    "\n",
    "let rec trie_droite t k =\n",
    "  let n = Array.length t in\n",
    "  if k < n\n",
    "  then\n",
    "    begin\n",
    "      let i = indice_min t k in\n",
    "      echange t i k;\n",
    "      trie_droite t (k+1)\n",
    "    end\n",
    ";;"
   ]
  },
  {
   "cell_type": "markdown",
   "id": "3ba02c15",
   "metadata": {},
   "source": [
    "#### Question 7\n",
    "En déduire une fonction `suivant` qui prend en argument un tableau $t$ représentant une permutation et modifie le tableau $t$ en place de manière à obtenir la permutation suivante."
   ]
  },
  {
   "cell_type": "code",
   "execution_count": 7,
   "id": "08cd671b",
   "metadata": {},
   "outputs": [
    {
     "data": {
      "text/plain": [
       "val suivant : 'a array -> unit = <fun>\n"
      ]
     },
     "execution_count": 7,
     "metadata": {},
     "output_type": "execute_result"
    }
   ],
   "source": [
    "let suivant t =\n",
    "  let i = indice_max_croit t in\n",
    "  permute_max t i;\n",
    "  trie_droite t (i+1)\n",
    ";;"
   ]
  },
  {
   "cell_type": "markdown",
   "id": "18bc7384",
   "metadata": {},
   "source": [
    "## Affichage des permutations\n",
    "#### Question  8\n",
    "Écrire une fonction `print_perm` prenant en argument une permutation et l'affiche sous la forme de votre choix."
   ]
  },
  {
   "cell_type": "code",
   "execution_count": 8,
   "id": "0bb5c15b",
   "metadata": {},
   "outputs": [
    {
     "data": {
      "text/plain": [
       "val print_perm : int array -> unit = <fun>\n"
      ]
     },
     "execution_count": 8,
     "metadata": {},
     "output_type": "execute_result"
    }
   ],
   "source": [
    "let print_perm t =\n",
    "  let n = Array.length t in\n",
    "  for i = 0 to n-1 do\n",
    "    print_int t.(i);\n",
    "    print_char ' '\n",
    "  done;\n",
    "  print_newline ()\n",
    ";;"
   ]
  },
  {
   "cell_type": "markdown",
   "id": "fafa75a5",
   "metadata": {},
   "source": [
    "#### Question 9\n",
    "En déduire une fonction `enumere` qui prend en argument un entier $n$ et qui affiche toutes les permutations de $⟦ 0, n-1 ⟧$. Combien y en a-t-il ?"
   ]
  },
  {
   "cell_type": "code",
   "execution_count": 9,
   "id": "428f8ff8",
   "metadata": {},
   "outputs": [
    {
     "data": {
      "text/plain": [
       "val enumere : int -> unit = <fun>\n"
      ]
     },
     "execution_count": 9,
     "metadata": {},
     "output_type": "execute_result"
    }
   ],
   "source": [
    "let enumere n =\n",
    "  let tab = Array.make n 0 in\n",
    "  (* On démarre avec 0 1 2 3 ... n-1 *)\n",
    "  for i = 1 to n-1 do\n",
    "    tab.(i) <- i\n",
    "  done ;\n",
    "  print_perm tab;\n",
    "  try\n",
    "    while true do\n",
    "      suivant tab;\n",
    "      print_perm tab\n",
    "    done\n",
    "  with\n",
    "  | TableauDecroissant -> print_string(\"Fini !\") ;  print_newline()\n",
    ";;"
   ]
  },
  {
   "cell_type": "code",
   "execution_count": 10,
   "id": "cd744223",
   "metadata": {},
   "outputs": [
    {
     "name": "stdout",
     "output_type": "stream",
     "text": [
      "0 1 2 3 \n",
      "0 1 3 2 \n",
      "0 2 1 3 \n",
      "0 2 3 1 \n",
      "0 3 1 2 \n",
      "0 3 2 1 \n",
      "1 0 2 3 \n",
      "1 0 3 2 \n",
      "1 2 0 3 \n",
      "1 2 3 0 \n",
      "1 3 0 2 \n",
      "1 3 2 0 \n",
      "2 0 1 3 \n",
      "2 0 3 1 \n",
      "2 1 0 3 \n",
      "2 1 3 0 \n",
      "2 3 0 1 \n",
      "2 3 1 0 \n",
      "3 0 1 2 \n",
      "3 0 2 1 \n",
      "3 1 0 2 \n",
      "3 1 2 0 \n",
      "3 2 0 1 \n",
      "3 2 1 0 \n",
      "Fini !\n"
     ]
    },
    {
     "data": {
      "text/plain": [
       "- : unit = ()\n"
      ]
     },
     "execution_count": 10,
     "metadata": {},
     "output_type": "execute_result"
    }
   ],
   "source": [
    "enumere 4;;"
   ]
  },
  {
   "cell_type": "markdown",
   "id": "74aead86",
   "metadata": {},
   "source": [
    "# Pour les plus rapides - Cycles\n",
    "On appelle *cycle* une permutation $\\sigma$ tel qu'il existe $k$ éléments distincts $x_0, \\dots,x_{k-1}$ tels que le support de $\\sigma$ est $\\lbrace x_0, \\dots, x_{k-1} \\rbrace$, et tels que $\\sigma(x_0) = x_1$, $\\sigma(x_1) = x_2$, $ \\dots$, $\\sigma(x_{k-2}) = x_{k-1}$ et $\\sigma(x_{k-1}) = x_0$.\n",
    "\n",
    "Un tel cycle peut être représenté par la liste $[x_0; \\dots; x_{k-1}]$.\n",
    "\n",
    "On peut démontrer que toute permutation se décompose de manière unique comme un produit (commutatif) de cycles de supports disjoints. On représentera un produit de cycles sous la forme d'une liste de listes d'entiers.\n",
    "\n",
    "#### Question 10\n",
    "Décomposer (à la main) la permutation `[|4; 6; 7; 1; 2; 5; 3; 0|]` en un produit de cycles disjoints."
   ]
  },
  {
   "cell_type": "markdown",
   "id": "88c4c7d5",
   "metadata": {},
   "source": [
    "> Cette permutation est la composition des cycles `[0; 4; 2; 7]` et `[1; 6; 3]`. "
   ]
  },
  {
   "cell_type": "markdown",
   "id": "cfaa6e07",
   "metadata": {},
   "source": [
    "#### Question 11\n",
    "Écrire une fonction `compose_cycle` prenant en argument un cycle $c$ et un tableau $t$ représentant une permutation pour laquelle on suppose que les éléments du cycle sont des points fixes, et qui modifie en place le tableau $t$ de sorte que le tableau obtenu représente la composée du cycle et de la permutation initiale."
   ]
  },
  {
   "cell_type": "code",
   "execution_count": 11,
   "id": "954e7dd1",
   "metadata": {},
   "outputs": [
    {
     "data": {
      "text/plain": [
       "val compose_cycle : int list -> 'a array -> unit = <fun>\n"
      ]
     },
     "execution_count": 11,
     "metadata": {},
     "output_type": "execute_result"
    }
   ],
   "source": [
    "let compose_cycle c t =\n",
    "  match c with\n",
    "  | [] -> ()\n",
    "  | a::q ->\n",
    "     let sigma_a = t.(a) in\n",
    "     let rec applique lst =\n",
    "       match lst with\n",
    "       | [] -> () \n",
    "       | [b] -> t.(b) <- sigma_a\n",
    "       | b::d::q -> t.(b) <- t.(d) ; applique (d::q)\n",
    "     in applique c\n",
    ";;"
   ]
  },
  {
   "cell_type": "markdown",
   "id": "561d5f04",
   "metadata": {},
   "source": [
    "#### Question 12\n",
    "En déduire une fonction `produit_cycles` qui prend pour argument un produit de cycles et l'entier $n$ et qui renvoie la permutation de $⟦ 0, n-1 ⟧$ représentée par le produit de cycles."
   ]
  },
  {
   "cell_type": "code",
   "execution_count": 12,
   "id": "a67ef6e3",
   "metadata": {},
   "outputs": [
    {
     "data": {
      "text/plain": [
       "val produit_cycles : int list list -> int -> int array = <fun>\n"
      ]
     },
     "execution_count": 12,
     "metadata": {},
     "output_type": "execute_result"
    }
   ],
   "source": [
    "let produit_cycles lst n =\n",
    "  let tab = Array.make n 0 in\n",
    "  for i = 1 to n-1 do\n",
    "    tab.(i) <- i\n",
    "  done;\n",
    "  let rec applique_cycles lc =\n",
    "    match lc with\n",
    "    | [] -> ()\n",
    "    | c::q -> applique_cycles q ; compose_cycle c tab\n",
    "  in\n",
    "  applique_cycles lst;\n",
    "  tab\n",
    ";;"
   ]
  },
  {
   "cell_type": "code",
   "execution_count": 13,
   "id": "c28b4209",
   "metadata": {},
   "outputs": [
    {
     "data": {
      "text/plain": [
       "val q11 : int list list = [[0; 4; 2; 7]; [1; 6; 3]]\n"
      ]
     },
     "execution_count": 13,
     "metadata": {},
     "output_type": "execute_result"
    },
    {
     "data": {
      "text/plain": [
       "- : int array = [|4; 6; 7; 1; 2; 5; 3; 0|]\n"
      ]
     },
     "execution_count": 13,
     "metadata": {},
     "output_type": "execute_result"
    }
   ],
   "source": [
    "\n",
    "let q11 = [[0; 4; 2; 7]; [1; 6; 3]];;\n",
    "produit_cycles q11 8;;"
   ]
  },
  {
   "cell_type": "markdown",
   "id": "52ae395c",
   "metadata": {},
   "source": [
    "#### Question 13\n",
    "On souhaite maintenant procéder à l'opération inverse.Écrire une fonction `cycles` qui prend en argument une permutation et qui décompose cette permutation en un produit de cycles de supports disjoints."
   ]
  },
  {
   "cell_type": "code",
   "execution_count": 14,
   "id": "3378d9cf",
   "metadata": {},
   "outputs": [
    {
     "data": {
      "text/plain": [
       "val cycles : int array -> int list list = <fun>\n"
      ]
     },
     "execution_count": 14,
     "metadata": {},
     "output_type": "execute_result"
    }
   ],
   "source": [
    "let cycles tab =\n",
    "  let n = Array.length tab in\n",
    "  (* Le tableau vus permet de marquer les éléments qui sont déjà dans un cycle *)\n",
    "  let vus = Array.make n false in\n",
    "  (*La fonction trouve_cycle permet de construire le cycle commençant par l'élément debut *)\n",
    "  let rec trouve_cycle debut courant  =\n",
    "    vus.(courant) <- true ;\n",
    "    let suivant = tab.(courant) in\n",
    "    if suivant = debut\n",
    "    then [courant]\n",
    "    else courant::(trouve_cycle debut suivant)\n",
    "  in\n",
    "  let produit = ref [] in\n",
    "  (* On construit le cycle auquel appartient chaque élément qui n'est pas un point fixe et qui n'a pas encore été vu *)\n",
    "  for i = 0 to n-1 do\n",
    "    if tab.(i) <> i && not vus.(i)\n",
    "    then produit := (trouve_cycle i i)::!produit\n",
    "  done;\n",
    "  !produit\n",
    ";;"
   ]
  },
  {
   "cell_type": "code",
   "execution_count": 15,
   "id": "fdacd983",
   "metadata": {},
   "outputs": [
    {
     "data": {
      "text/plain": [
       "val q13 : int array = [|4; 6; 7; 1; 2; 5; 3; 0|]\n"
      ]
     },
     "execution_count": 15,
     "metadata": {},
     "output_type": "execute_result"
    },
    {
     "data": {
      "text/plain": [
       "- : int list list = [[1; 6; 3]; [0; 4; 2; 7]]\n"
      ]
     },
     "execution_count": 15,
     "metadata": {},
     "output_type": "execute_result"
    }
   ],
   "source": [
    "let q13 = [|4; 6; 7; 1; 2; 5; 3; 0|];;\n",
    "cycles q13;;"
   ]
  }
 ],
 "metadata": {
  "kernelspec": {
   "display_name": "OCaml default",
   "language": "OCaml",
   "name": "ocaml-jupyter"
  },
  "language_info": {
   "codemirror_mode": "text/x-ocaml",
   "file_extension": ".ml",
   "mimetype": "text/x-ocaml",
   "name": "OCaml",
   "nbconverter_exporter": null,
   "pygments_lexer": "OCaml",
   "version": "4.08.1"
  },
  "toc": {
   "base_numbering": 1,
   "nav_menu": {},
   "number_sections": false,
   "sideBar": false,
   "skip_h1_title": false,
   "title_cell": "Table of Contents",
   "title_sidebar": "Contents",
   "toc_cell": false,
   "toc_position": {},
   "toc_section_display": true,
   "toc_window_display": true
  }
 },
 "nbformat": 4,
 "nbformat_minor": 5
}
