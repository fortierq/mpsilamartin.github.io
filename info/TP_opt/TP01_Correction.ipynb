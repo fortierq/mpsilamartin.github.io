{
 "cells": [
  {
   "cell_type": "markdown",
   "id": "27b3cf6e",
   "metadata": {
    "nbgrader": {
     "grade": false,
     "grade_id": "cell-24b7fc8dc316671b",
     "locked": true,
     "schema_version": 3,
     "solution": false,
     "task": false
    }
   },
   "source": [
    "# Pour démarrer"
   ]
  },
  {
   "cell_type": "markdown",
   "id": "09b399e0",
   "metadata": {
    "nbgrader": {
     "grade": false,
     "grade_id": "cell-b96618d56ba52d57",
     "locked": true,
     "schema_version": 3,
     "solution": false,
     "task": false
    }
   },
   "source": [
    "Vous vous trouvez actuellement dans un *notebook* Jupyter. Celui-ci contient deux types de cellule : des cellules de texte (comme celle-ci), et des cellules de code."
   ]
  },
  {
   "cell_type": "markdown",
   "id": "933a4ad6",
   "metadata": {
    "nbgrader": {
     "grade": false,
     "grade_id": "cell-b96618d56ba52d57b",
     "locked": true,
     "schema_version": 3,
     "solution": false,
     "task": false
    }
   },
   "source": [
    "Les cellules peuvent être exécutées via le menu **Run**, via l'icône Play ou avec un raccourci clavier :\n",
    "- `Shift+Entrée` pour exécuter la cellule et passer à la suivante ;\n",
    "- `Ctrl+Entrée` pour exécuter la cellule sans passer à la suivante ;\n",
    "- `Alt+Entrée` pour exécuter la cellule et créer une nouvelle cellule en dessous."
   ]
  },
  {
   "cell_type": "markdown",
   "id": "1ea36414",
   "metadata": {
    "nbgrader": {
     "grade": false,
     "grade_id": "cell-b96618d56ba52d57c",
     "locked": true,
     "schema_version": 3,
     "solution": false,
     "task": false
    }
   },
   "source": [
    "Par exemple, la cellule de code suivante définit une fonction permettant de calculer la factorielle d'un entier naturel."
   ]
  },
  {
   "cell_type": "code",
   "execution_count": 2,
   "id": "3fbf5f25",
   "metadata": {
    "nbgrader": {
     "grade": false,
     "grade_id": "cell-b0c8d4a7ffb4333f",
     "locked": true,
     "schema_version": 3,
     "solution": false,
     "task": false
    }
   },
   "outputs": [
    {
     "data": {
      "text/plain": [
       "val fact : int -> int = <fun>\n"
      ]
     },
     "execution_count": 2,
     "metadata": {},
     "output_type": "execute_result"
    }
   ],
   "source": [
    "let rec fact n =\n",
    "    match n with\n",
    "    | 0 -> 1\n",
    "    | _ -> n * fact (n-1)\n",
    ";;"
   ]
  },
  {
   "cell_type": "markdown",
   "id": "5a69d913",
   "metadata": {
    "nbgrader": {
     "grade": false,
     "grade_id": "cell-d1cef7064fe9858c",
     "locked": true,
     "schema_version": 3,
     "solution": false,
     "task": false
    }
   },
   "source": [
    "La cellule ci-dessous appelle la fonction `fact` et ne pourra donc être exécutée sans erreur que si la cellule du dessus a été exécutée."
   ]
  },
  {
   "cell_type": "code",
   "execution_count": 3,
   "id": "b9a6fd45",
   "metadata": {
    "nbgrader": {
     "grade": false,
     "grade_id": "cell-acd1fbb20bf2fac0",
     "locked": true,
     "schema_version": 3,
     "solution": false,
     "task": false
    }
   },
   "outputs": [
    {
     "data": {
      "text/plain": [
       "- : int = 720\n"
      ]
     },
     "execution_count": 3,
     "metadata": {},
     "output_type": "execute_result"
    }
   ],
   "source": [
    "fact 6;;"
   ]
  },
  {
   "cell_type": "markdown",
   "id": "c52f70c6",
   "metadata": {
    "nbgrader": {
     "grade": false,
     "grade_id": "cell-0cf5159d3c8c8a51",
     "locked": true,
     "schema_version": 3,
     "solution": false,
     "task": false
    }
   },
   "source": [
    "Par défaut, les nouvelles cellules créées sont des cellules de code. Pour modifier le style d'une cellule, passez en mode commande à l'aide de la touche `Echap` si vous êtes en mode édition, puis tapez `m` pour transformer la cellule courante en cellule de texte ou `y` pour la transformer en cellule de code.\n",
    "\n",
    "Vous pouvez par ailleurs créer une nouvelle cellule au-dessus de la cellule courante en tapant `A` (*above*) ou en dessous en tapant `B`.\n",
    "\n",
    "Pour passer du mode commande au mode édition, taper sur `Entrée`.\n",
    "\n",
    "Pour la mise en forme des cellules de texte, vous pouvez consulter l'aide sur Markdown présente dans le menu **Help**"
   ]
  },
  {
   "cell_type": "markdown",
   "id": "40ee6d75",
   "metadata": {
    "nbgrader": {
     "grade": false,
     "grade_id": "cell-54c2cd2075ad3c5d",
     "locked": true,
     "schema_version": 3,
     "solution": false,
     "task": false
    }
   },
   "source": [
    "Les cellules déjà présentes dans ce *notebook* sont de plusieurs types :\n",
    "- Des cellules contenant l'énoncé, qui sont en lecture seule ;\n",
    "- Des cellules de réponses, que vous pouvez (et devez) modifier ;\n",
    "- Des cellules permettant de tester vos réponses, qui sont en lecture seule.\n",
    "\n",
    "Vous pouvez ajouter d'autres cellules si vous le souhaitez."
   ]
  },
  {
   "cell_type": "markdown",
   "id": "9ce58452",
   "metadata": {
    "nbgrader": {
     "grade": false,
     "grade_id": "cell-7e2b8551120639b7",
     "locked": true,
     "schema_version": 3,
     "solution": false,
     "task": false
    }
   },
   "source": [
    "# Pour rendre le TP"
   ]
  },
  {
   "cell_type": "markdown",
   "id": "fff62194",
   "metadata": {
    "nbgrader": {
     "grade": false,
     "grade_id": "cell-cabc60ac73e1b2ba",
     "locked": true,
     "schema_version": 3,
     "solution": false,
     "task": false
    }
   },
   "source": [
    "Les TP ne seront pas à rendre systématiquement. Lorsqu'un TP devra être rendu, cela sera indiqué dans le *notebook*.\n",
    "\n",
    "**Ce premier TP est à rendre en traitant (au moins) les questions de programmation.** Les questions portant sur la complexité des fonctions sont facultatives.\n",
    "\n",
    "Pour cela, il faudra déposer votre *notebook* au nom `TP01.ipynb` dans les deux semaines suivant le TP dans le dossier `Depot_fichiers` présent [à l'adresse suivante](https://cloud.maths.mlong.fr/), en vous connectant avec votre adresse mail et le mot de passe que vous aurez défini (utiliser *mot de passe oublié* pour la première connexion)."
   ]
  },
  {
   "cell_type": "markdown",
   "id": "00f5254d",
   "metadata": {
    "nbgrader": {
     "grade": false,
     "grade_id": "cell-10591938b7fd06e1",
     "locked": true,
     "schema_version": 3,
     "solution": false,
     "task": false
    }
   },
   "source": [
    "# Quelques fonctions autour des dates\n",
    "\n",
    "#### Règles de validité d'une date :\n",
    "- janvier, mars, mai, juillet, août, octobre, décembre comportent 31 jours ; avril, juin, septembre, novembre comportent 30 jours ; février comporte  29 jours si l'année est bissextile, 28 sinon ;\n",
    "- une année est bissextile\n",
    "  - pour les années séculaires, si elle est divisible par 400\n",
    "  - pour les autres années, si elle est divisible par 4"
   ]
  },
  {
   "cell_type": "markdown",
   "id": "1d52e841",
   "metadata": {
    "nbgrader": {
     "grade": false,
     "grade_id": "cell-d3e05d7ca8bd0ecf",
     "locked": true,
     "schema_version": 3,
     "solution": false,
     "task": false
    }
   },
   "source": [
    "<font size=\"5\">👩‍💻</font>  Écrire la fonction Caml `bissextile : int -> bool` qui renvoie `true` si l'année `n` est bissextile."
   ]
  },
  {
   "cell_type": "markdown",
   "id": "a1af5cc0",
   "metadata": {
    "nbgrader": {
     "grade": false,
     "grade_id": "cell-4e40a7eb2d72b5cc",
     "locked": true,
     "schema_version": 3,
     "solution": false,
     "task": false
    }
   },
   "source": [
    "<div class=\"alert alert-block alert-info\">\n",
    "    On pourra utiliser une expression <code>if e1 then e2 else e3</code>, où <code>e1</code> est une expression booléenne. Si la valeur de <code>e1</code> est <code>true</code>, l'expression <code>e2</code> est évaluée et sa valeur est retournée ; sinon, ce sera la valeur de <code>e3</code> qui sera retournée.</div>"
   ]
  },
  {
   "cell_type": "code",
   "execution_count": 4,
   "id": "3db83f75",
   "metadata": {
    "nbgrader": {
     "grade": false,
     "grade_id": "cell-342f629193548472",
     "locked": false,
     "schema_version": 3,
     "solution": true,
     "task": false
    }
   },
   "outputs": [
    {
     "data": {
      "text/plain": [
       "val bissextile : int -> bool = <fun>\n"
      ]
     },
     "execution_count": 4,
     "metadata": {},
     "output_type": "execute_result"
    }
   ],
   "source": [
    "let bissextile annee =\n",
    "  if annee mod 100 = 0\n",
    "  then annee mod 400 = 0\n",
    "  else annee mod 4 = 0\n",
    ";;"
   ]
  },
  {
   "cell_type": "code",
   "execution_count": 5,
   "id": "3fd250b6",
   "metadata": {
    "nbgrader": {
     "grade": true,
     "grade_id": "cell-e41c9ca7fd9ba3d5",
     "locked": true,
     "points": 1,
     "schema_version": 3,
     "solution": false,
     "task": false
    }
   },
   "outputs": [],
   "source": [
    "(* Exécutez cette cellule pour tester votre fonction *)\n",
    "let () = assert (not (bissextile 2022));;\n",
    "let () = assert (bissextile 2024);;\n",
    "let () = assert (bissextile 2000);;\n",
    "let () = assert (bissextile 2040);;\n",
    "let () = assert (not (bissextile 2100));;"
   ]
  },
  {
   "cell_type": "markdown",
   "id": "1ad3710e",
   "metadata": {
    "nbgrader": {
     "grade": false,
     "grade_id": "cell-7f10926ab70fceaa",
     "locked": true,
     "schema_version": 3,
     "solution": false,
     "task": false
    }
   },
   "source": [
    "<font size=\"5\">🧑🏿‍💻</font> La fonction suivante utilise un *filtrage*. La tester. Que renvoie-t-elle ?"
   ]
  },
  {
   "cell_type": "code",
   "execution_count": 6,
   "id": "9604d73a",
   "metadata": {
    "nbgrader": {
     "grade": false,
     "grade_id": "cell-f34766080b06f650",
     "locked": true,
     "schema_version": 3,
     "solution": false,
     "task": false
    }
   },
   "outputs": [
    {
     "data": {
      "text/plain": [
       "val nb_jours : int -> int -> int = <fun>\n"
      ]
     },
     "execution_count": 6,
     "metadata": {},
     "output_type": "execute_result"
    }
   ],
   "source": [
    "let nb_jours m a =\n",
    "  match m with\n",
    "  | 2 -> if bissextile a then 29 else 28\n",
    "  | 4 -> 30\n",
    "  | 6 -> 30\n",
    "  | 9 -> 30\n",
    "  | 11 -> 30\n",
    "  | _ -> 31\n",
    ";;"
   ]
  },
  {
   "cell_type": "markdown",
   "id": "feb04d5a",
   "metadata": {
    "nbgrader": {
     "grade": true,
     "grade_id": "cell-f0208aaf427503bc",
     "locked": false,
     "points": 0,
     "schema_version": 3,
     "solution": true,
     "task": false
    }
   },
   "source": [
    "\n",
    "Cette fonction prend en argument un entier et renvoie le nombre de jours dans le mois correspondant.\n"
   ]
  },
  {
   "cell_type": "markdown",
   "id": "56294095",
   "metadata": {
    "nbgrader": {
     "grade": false,
     "grade_id": "cell-569e14a96660361f",
     "locked": true,
     "schema_version": 3,
     "solution": false,
     "task": false
    }
   },
   "source": [
    "<font size=\"5\">👨🏻‍💻</font>  Écrire une fonction `date_valide : int -> int -> int -> bool` prenant en argument les entiers `j, m , a` et renvoyant le booléen `true` si la date représentée par le triplet `j, m , a` (jour, mois, année) est une date valide, et `false` sinon."
   ]
  },
  {
   "cell_type": "code",
   "execution_count": 7,
   "id": "a1c0c177",
   "metadata": {
    "nbgrader": {
     "grade": false,
     "grade_id": "cell-fc2d30efe1442906",
     "locked": false,
     "schema_version": 3,
     "solution": true,
     "task": false
    }
   },
   "outputs": [
    {
     "data": {
      "text/plain": [
       "val date_valide : int -> int -> int -> bool = <fun>\n"
      ]
     },
     "execution_count": 7,
     "metadata": {},
     "output_type": "execute_result"
    }
   ],
   "source": [
    "\n",
    "let date_valide j m a =\n",
    "  let nb_j = nb_jours m a in\n",
    "  m > 0 && m <= 12 && j > 0 && j <= nb_j\n",
    ";;\n"
   ]
  },
  {
   "cell_type": "code",
   "execution_count": 8,
   "id": "df919aa4",
   "metadata": {
    "nbgrader": {
     "grade": true,
     "grade_id": "cell-f1dc1281d66471ef",
     "locked": true,
     "points": 1,
     "schema_version": 3,
     "solution": false,
     "task": false
    }
   },
   "outputs": [],
   "source": [
    "(* Exécutez cette cellule pour tester votre fonction *)\n",
    "let () = assert (date_valide 31 07 2022);;\n",
    "let () = assert (not (date_valide 29 02 2022));;\n",
    "let () = assert (not (date_valide 30 14 2022));;\n",
    "let () = assert (not (date_valide (-2) 14 2022));;\n",
    "let () = assert (not (date_valide 18 0 2022));;\n",
    "(* BEGIN HIDDEN TESTS *)\n",
    "let () = assert (date_valide 1 07 2022);;\n",
    "let () = assert (date_valide 29 02 2024);;\n",
    "let () = assert (not (date_valide 0 2 2022));;\n",
    "(* END HIDDEN TESTS *)"
   ]
  },
  {
   "cell_type": "markdown",
   "id": "1866970e",
   "metadata": {
    "nbgrader": {
     "grade": false,
     "grade_id": "cell-3e50e01ff3f82565",
     "locked": true,
     "schema_version": 3,
     "solution": false,
     "task": false
    }
   },
   "source": [
    "\t\t\t\n",
    "On convient de numéroter les jours de la semaine de $0$ à $6$ (0 pour dimanche, 1 pour lundi, etc.).\n",
    "\n",
    "<font size=\"5\">🧑🏾‍💻</font> Écrire une fonction donnant, pour tout numéro entre $0$ et $6$, le nom du jour correspondant sous forme d'une chaîne de caractères.\n",
    "\n",
    "<div class=\"alert alert-block alert-info\">\n",
    "    On pourra utiliser un filtrage.\n",
    "</div>"
   ]
  },
  {
   "cell_type": "code",
   "execution_count": 1,
   "id": "7b09b430",
   "metadata": {
    "nbgrader": {
     "grade": false,
     "grade_id": "cell-b73a552ab7f16ffc",
     "locked": false,
     "schema_version": 3,
     "solution": true,
     "task": false
    },
    "scrolled": true
   },
   "outputs": [
    {
     "data": {
      "text/plain": [
       "val nom_jour : int -> string = <fun>\n"
      ]
     },
     "execution_count": 1,
     "metadata": {},
     "output_type": "execute_result"
    }
   ],
   "source": [
    "\n",
    "let nom_jour n =\n",
    "  match n with\n",
    "  | 0 -> \"dimanche\"\n",
    "  | 1 -> \"lundi\"\n",
    "  | 2 -> \"mardi\"\n",
    "  | 3 -> \"mercredi\"\n",
    "  | 4 -> \"jeudi\"\n",
    "  | 5 -> \"vendredi\"\n",
    "  | 6 -> \"samedi\"\n",
    "  | _ -> failwith \"Argument incorrect\"\n",
    ";;\n"
   ]
  },
  {
   "cell_type": "code",
   "execution_count": 9,
   "id": "bb09a2e1",
   "metadata": {
    "nbgrader": {
     "grade": true,
     "grade_id": "cell-f55cb2954afbdf55",
     "locked": true,
     "points": 1,
     "schema_version": 3,
     "solution": false,
     "task": false
    }
   },
   "outputs": [],
   "source": [
    "(* Exécutez cette cellule pour tester votre fonction *)\n",
    "let () = assert (nom_jour 1 = \"lundi\");;\n",
    "let () = assert (nom_jour 2 = \"mardi\");;\n",
    "let () = assert (nom_jour 3 = \"mercredi\");;\n",
    "let () = assert (nom_jour 4 = \"jeudi\");;\n",
    "let () = assert (nom_jour 5 = \"vendredi\");;\n",
    "let () = assert (nom_jour 6 = \"samedi\");;\n",
    "let () = assert (nom_jour 0 = \"dimanche\");;"
   ]
  },
  {
   "cell_type": "markdown",
   "id": "93faaf7b",
   "metadata": {
    "nbgrader": {
     "grade": false,
     "grade_id": "cell-42a722391fe9ee7b",
     "locked": true,
     "schema_version": 3,
     "solution": false,
     "task": false
    }
   },
   "source": [
    "En notant $\\lfloor x \\rfloor$ la partie entière de $x$, le numéro du jour de la semaine correspondant à une date donnée $(j,m,a)$ s'obtient en prenant le reste de la division par $7$ de l'entier $n$ défini par :\n",
    "\t\t$$n = j + \\lfloor 2,6 p -0,2\\rfloor + d + \\left\\lfloor \\frac{d}{4} \\right\\rfloor +\\left\\lfloor \\frac{c}{4} \\right\\rfloor +5c \\qquad\\text{(Formule de Zeller)}$$\n",
    "\n",
    "où \n",
    "\n",
    "$$\\displaystyle p = \\left\\lbrace \\begin{array}{ll} m+10 & \\text{ si } m \\leqslant 2 \\\\\n",
    "\t\t\tm-2 & \\text{ sinon}\n",
    "\t\t\\end{array}\\right. \n",
    "\t\t\\qquad b = \\left\\lbrace \\begin{array}{ll} a-1 & \\text{ si } m \\leqslant 2 \\\\\n",
    "\t\t\ta & \\text{ sinon}\n",
    "\t\t\\end{array}\\right. \n",
    "\t\t\\qquad c = \\left\\lfloor \\frac{b}{100} \\right\\rfloor \n",
    "\t\t\\qquad d=b-100c $$"
   ]
  },
  {
   "cell_type": "markdown",
   "id": "ef7e1a42",
   "metadata": {
    "nbgrader": {
     "grade": false,
     "grade_id": "cell-42a722391fe9ee7ba",
     "locked": true,
     "schema_version": 3,
     "solution": false,
     "task": false
    }
   },
   "source": [
    "<font size=\"5\">👩🏼‍💻</font>  Écrire une fonction qui calcule ce numéro à partir de $j$, $m$ et $a$."
   ]
  },
  {
   "cell_type": "markdown",
   "id": "222a7a3d",
   "metadata": {
    "nbgrader": {
     "grade": false,
     "grade_id": "cell-42a722391fe9ee7bb",
     "locked": true,
     "schema_version": 3,
     "solution": false,
     "task": false
    }
   },
   "source": [
    "<div class=\"alert alert-block alert-info\">\n",
    "On rappelle que OCaml est un langage fortement typé et qu'il n'est pas possible de réaliser directement une opération entre un flottant et un entier.\n",
    "    \n",
    "On pourra donc utiliser les fonctions <code>float_of_int</code> et <code>int_of_float</code> (qui donne la partie entière du flottant passé en paramètre).\n",
    "</div>"
   ]
  },
  {
   "cell_type": "markdown",
   "id": "31894c29",
   "metadata": {
    "nbgrader": {
     "grade": false,
     "grade_id": "cell-42a722391fe9ee7bac",
     "locked": true,
     "schema_version": 3,
     "solution": false,
     "task": false
    }
   },
   "source": [
    "<div class=\"alert alert-block alert-info\">\n",
    "    \n",
    "Pour définir un objet dont la valeur dépend d'une condition, on pourra écrire : \n",
    "    <code>let var = if condition then e1 else e2 in</code>\n",
    "</div>"
   ]
  },
  {
   "cell_type": "code",
   "execution_count": 10,
   "id": "852f9948",
   "metadata": {
    "nbgrader": {
     "grade": false,
     "grade_id": "cell-78a91564a5742a3d",
     "locked": false,
     "schema_version": 3,
     "solution": true,
     "task": false
    }
   },
   "outputs": [
    {
     "data": {
      "text/plain": [
       "val zeller : int -> int -> int -> int = <fun>\n"
      ]
     },
     "execution_count": 10,
     "metadata": {},
     "output_type": "execute_result"
    }
   ],
   "source": [
    "\n",
    "let zeller j m a =\n",
    "  let p = if  m <= 2 then m+10 else m-2 in\n",
    "  let b = if  m <= 2 then a-1 else a in\n",
    "  let c = b / 100 in\n",
    "  let d = b - 100*c in\n",
    "  let n = j\n",
    "      + int_of_float (2.6 *. float_of_int p -. 0.2)\n",
    "      + d\n",
    "      + int_of_float (float_of_int d /. 4.)\n",
    "      + int_of_float (float_of_int c /. 4.)\n",
    "      + 5*c\n",
    "  in n mod 7\n",
    ";;\n"
   ]
  },
  {
   "cell_type": "code",
   "execution_count": 11,
   "id": "c228100f",
   "metadata": {
    "nbgrader": {
     "grade": true,
     "grade_id": "cell-115d60a767e15dfa",
     "locked": true,
     "points": 1,
     "schema_version": 3,
     "solution": false,
     "task": false
    }
   },
   "outputs": [],
   "source": [
    "(* Exécutez cette cellule pour tester votre fonction *)\n",
    "let () = assert (zeller 1 1 2022 = 6);;\n",
    "let () = assert (zeller 17 8 1936 = 1);;\n",
    "let () = assert (zeller 23 6 1912 = 0);;"
   ]
  },
  {
   "cell_type": "markdown",
   "id": "ebef035a",
   "metadata": {
    "nbgrader": {
     "grade": false,
     "grade_id": "cell-645656603b96f538",
     "locked": true,
     "schema_version": 3,
     "solution": false,
     "task": false
    }
   },
   "source": [
    "<font size=\"5\">🧑🏻‍💻</font> En déduire une fonction `jour_semaine` donnant le jour de la semaine correspondant à une date donnée."
   ]
  },
  {
   "cell_type": "code",
   "execution_count": 12,
   "id": "89c57c88",
   "metadata": {
    "nbgrader": {
     "grade": false,
     "grade_id": "cell-c0229bc3ee524390",
     "locked": false,
     "schema_version": 3,
     "solution": true,
     "task": false
    }
   },
   "outputs": [
    {
     "data": {
      "text/plain": [
       "val jour_semaine : int -> int -> int -> string = <fun>\n"
      ]
     },
     "execution_count": 12,
     "metadata": {},
     "output_type": "execute_result"
    }
   ],
   "source": [
    "\n",
    "let jour_semaine j m a =\n",
    "  if date_valide j m a\n",
    "  then nom_jour (zeller j m a)\n",
    "  else failwith \"date invalide\"\n",
    ";;\n"
   ]
  },
  {
   "cell_type": "code",
   "execution_count": 13,
   "id": "557a7a0e",
   "metadata": {
    "nbgrader": {
     "grade": true,
     "grade_id": "cell-fe5383bf1a22cf26",
     "locked": true,
     "points": 1,
     "schema_version": 3,
     "solution": false,
     "task": false
    }
   },
   "outputs": [],
   "source": [
    "(* Exécutez cette cellule pour tester votre fonction *)\n",
    "let () = assert (jour_semaine 10 12 1815 = \"dimanche\");;\n",
    "let () = assert (jour_semaine 26 12 1791 = \"lundi\");;\n",
    "(* BEGIN HIDDEN TESTS *)\n",
    "let () = assert (jour_semaine 1 4 1776 = \"lundi\");;\n",
    "(* END HIDDEN TESTS *)"
   ]
  },
  {
   "cell_type": "markdown",
   "id": "d761d2fb",
   "metadata": {
    "nbgrader": {
     "grade": false,
     "grade_id": "cell-cf56e05ff884f565",
     "locked": true,
     "schema_version": 3,
     "solution": false,
     "task": false
    }
   },
   "source": [
    "# Calculs de puissances\n",
    "\n",
    "<font size=\"5\">👩🏽‍💻</font> Écrire une fonction `puiss : int -> int -> int` telle que si $n$ est un entier naturel,\n",
    "`puiss x n` calcule $x^{n}$ (sans utiliser `**`)."
   ]
  },
  {
   "cell_type": "code",
   "execution_count": 1,
   "id": "ff69e278",
   "metadata": {
    "nbgrader": {
     "grade": false,
     "grade_id": "cell-1764cba30500d0a1",
     "locked": false,
     "schema_version": 3,
     "solution": true,
     "task": false
    }
   },
   "outputs": [
    {
     "data": {
      "text/plain": [
       "val puiss : int -> int -> int = <fun>\n"
      ]
     },
     "execution_count": 1,
     "metadata": {},
     "output_type": "execute_result"
    }
   ],
   "source": [
    "\n",
    "let rec puiss x n = \n",
    "  match n with\n",
    "  | 0 -> 1\n",
    "  | _ -> x * puiss x (n-1)\n",
    ";;\n"
   ]
  },
  {
   "cell_type": "code",
   "execution_count": 2,
   "id": "53d1a022",
   "metadata": {
    "nbgrader": {
     "grade": true,
     "grade_id": "cell-85acdb38f2ce94da",
     "locked": true,
     "points": 0.5,
     "schema_version": 3,
     "solution": false,
     "task": false
    },
    "scrolled": true
   },
   "outputs": [],
   "source": [
    "(* Exécutez cette cellule pour tester votre fonction *)\n",
    "let () = assert (puiss 2 10 = 1024);;\n",
    "let () = assert (puiss 2 11 = 2048);;\n",
    "(* BEGIN HIDDEN TESTS *)\n",
    "let () = assert (puiss 2 1 = 2);;\n",
    "let () = assert (puiss 2 5 = 32);;\n",
    "let () = assert (puiss 2 8 = 256);;\n",
    "let () = assert (puiss 3 11 = 177147);;\n",
    "(* END HIDDEN TESTS *)"
   ]
  },
  {
   "cell_type": "code",
   "execution_count": null,
   "id": "a865281b",
   "metadata": {
    "nbgrader": {
     "grade": true,
     "grade_id": "cell-88e1d80c595681d1",
     "locked": true,
     "points": 0.5,
     "schema_version": 3,
     "solution": false,
     "task": false
    }
   },
   "outputs": [],
   "source": [
    "(* Exécutez cette cellule pour tester votre fonction *)\n",
    "let () = assert (puiss 2 0 = 1);;\n",
    "(* BEGIN HIDDEN TESTS *)\n",
    "let puiss x n = failwith \"Doit être réécrite\";;\n",
    "(* END HIDDEN TESTS *)"
   ]
  },
  {
   "cell_type": "markdown",
   "id": "a8a592a3",
   "metadata": {
    "nbgrader": {
     "grade": false,
     "grade_id": "cell-f77a3d38cf970443",
     "locked": true,
     "schema_version": 3,
     "solution": false,
     "task": false
    }
   },
   "source": [
    "<font size=\"5\">🧑‍💻</font> Donner la complexité du calcul de `puiss x n`, en nombre de multiplications effectuées, en fonction de $n$."
   ]
  },
  {
   "cell_type": "markdown",
   "id": "93aa0435",
   "metadata": {
    "nbgrader": {
     "grade": true,
     "grade_id": "cell-50bd8a271a86a887",
     "locked": false,
     "points": 0,
     "schema_version": 3,
     "solution": true,
     "task": false
    }
   },
   "source": [
    "\n",
    "<span style='color:Teal '>\n",
    "Le calcul de $x^n$ demande ici $n$ multiplications.\n",
    " </span>\n"
   ]
  },
  {
   "cell_type": "markdown",
   "id": "c32e154e",
   "metadata": {
    "nbgrader": {
     "grade": false,
     "grade_id": "cell-821dbb26d756fd91",
     "locked": true,
     "schema_version": 3,
     "solution": false,
     "task": false
    }
   },
   "source": [
    "<font size=\"5\">👨🏽‍💻</font> Si votre implantation de `puiss` demande plus de $10$ multiplications pour calculer $2^{42}$, récrire votre fonction.\n",
    "\n",
    "Indication: lorsque $n$ est pair, $x^{n} = \\left(x^{n/2}\\right)^2$ (ou, si l'on préfère $\\left(x^2\\right)^{n/2}$)."
   ]
  },
  {
   "cell_type": "code",
   "execution_count": 12,
   "id": "c6498cc1",
   "metadata": {
    "nbgrader": {
     "grade": false,
     "grade_id": "cell-a3f6a061e197eb1e",
     "locked": false,
     "schema_version": 3,
     "solution": true,
     "task": false
    }
   },
   "outputs": [
    {
     "data": {
      "text/plain": [
       "val puiss : int -> int -> int = <fun>\n"
      ]
     },
     "execution_count": 12,
     "metadata": {},
     "output_type": "execute_result"
    }
   ],
   "source": [
    "\n",
    "let rec puiss x n = \n",
    "  if n = 0 then 1\n",
    "  else\n",
    "    match n mod 2 with\n",
    "    | 0 -> puiss (x*x) (n/2)\n",
    "    | _ -> x * puiss (x*x) (n/2)\n",
    "  ;;\n"
   ]
  },
  {
   "cell_type": "code",
   "execution_count": 13,
   "id": "58f3d9b6",
   "metadata": {
    "nbgrader": {
     "grade": true,
     "grade_id": "cell-a21724f687584e22",
     "locked": true,
     "points": 0.5,
     "schema_version": 3,
     "solution": false,
     "task": false
    }
   },
   "outputs": [],
   "source": [
    "(* Exécutez cette cellule pour tester votre fonction *)\n",
    "let () = assert (puiss 2 10 = 1024);;\n",
    "let () = assert (puiss 2 11 = 2048);;\n",
    "(* BEGIN HIDDEN TESTS *)\n",
    "let () = assert (puiss 2 5 = 32);;\n",
    "let () = assert (puiss 2 8 = 256);;\n",
    "let () = assert (puiss 3 11 = 177147);;\n",
    "(* END HIDDEN TESTS *)"
   ]
  },
  {
   "cell_type": "code",
   "execution_count": null,
   "id": "60b57d85",
   "metadata": {
    "nbgrader": {
     "grade": true,
     "grade_id": "cell-0d7954c50bdcb540",
     "locked": true,
     "points": 0.5,
     "schema_version": 3,
     "solution": false,
     "task": false
    }
   },
   "outputs": [],
   "source": [
    "(* Exécutez cette cellule pour tester votre fonction *)\n",
    "let () = assert (puiss 1 1000 = 1);;"
   ]
  },
  {
   "cell_type": "markdown",
   "id": "e2986801",
   "metadata": {
    "nbgrader": {
     "grade": false,
     "grade_id": "cell-b482f6ca1ac3ecde",
     "locked": true,
     "schema_version": 3,
     "solution": false,
     "task": false
    }
   },
   "source": [
    "<font size=\"5\">🧑🏼‍💻</font> Soit $n$ un entier naturel non nul. Quelle est le nombre de multiplications effectuées dans le pire des cas lors du calcul de `puiss x n` lorsque l'entier naturel $n$ s'écrit sur $p$ bits ?"
   ]
  },
  {
   "cell_type": "markdown",
   "id": "c18e5bad",
   "metadata": {
    "nbgrader": {
     "grade": false,
     "grade_id": "cell-b482f6ca1ac3ecdea",
     "locked": true,
     "schema_version": 3,
     "solution": false,
     "task": false
    }
   },
   "source": [
    "<div class=\"alert alert-block alert-info\">\n",
    "On pourra noter $u_p$ le nombre d'additions réalisées dans le pire des cas lors de l'appel <code>puiss n</code> et déterminer une relation de récurrence vérifiée par $u_p$.\n",
    "</div>"
   ]
  },
  {
   "cell_type": "markdown",
   "id": "8d87f8f2",
   "metadata": {
    "nbgrader": {
     "grade": false,
     "grade_id": "cell-b482f6ca1ac3ecdeb",
     "locked": true,
     "schema_version": 3,
     "solution": false,
     "task": false
    }
   },
   "source": [
    "En déduire la complexité dans le pire des cas de `puiss n` en fonction de $n$."
   ]
  },
  {
   "cell_type": "markdown",
   "id": "c23236f7",
   "metadata": {
    "nbgrader": {
     "grade": false,
     "grade_id": "ccell-b482f6ca1ac3ecde",
     "locked": true,
     "schema_version": 3,
     "solution": false,
     "task": false
    }
   },
   "source": [
    "<div class=\"alert alert-block alert-info\">    \n",
    "$p$ est l'unique entier tel que $2^{p-1} \\leqslant n < 2^{p}$, donc $p = \\lfloor \\log_2 n \\rfloor + 1$. \n",
    "</div>"
   ]
  },
  {
   "cell_type": "markdown",
   "id": "fec279f4",
   "metadata": {
    "nbgrader": {
     "grade": true,
     "grade_id": "cell-0a2aeed577fb7df2",
     "locked": false,
     "points": 0,
     "schema_version": 3,
     "solution": true,
     "task": false
    }
   },
   "source": [
    "\n",
    "\n",
    "<span style='color:Teal '>\n",
    "Si $p = 1$ alors $n=1$, donc $u_p = 2$.\n",
    "\n",
    "Si $p \\geqslant 2$, alors $\\lfloor \\frac{n}{2} \\rfloor$ s'écrit sur $p-1$ bits, donc $u_{p} = 2 + u_{p-1}$. Par conséquent, $u_p = 2p$ (suite arithmétique).\n",
    "\n",
    "Par conséquent, le calcul de $x^n$ demande un nombre de multiplication de l'ordre de $\\log n$.\n",
    "    </span>\n",
    "    \n"
   ]
  },
  {
   "cell_type": "markdown",
   "id": "9432498b",
   "metadata": {
    "nbgrader": {
     "grade": false,
     "grade_id": "cell-7893ee0546c98d4a",
     "locked": true,
     "schema_version": 3,
     "solution": false,
     "task": false
    }
   },
   "source": [
    "# Suite de Fibonacci\n",
    "\n",
    "On considère la suite de Fibonacci $(u_n)_\\mathbb{N}$ définie par  $u_0=0$, $u_1=1$ et $\\forall n \\in \\mathbb{N}, u_{n+2}=u_{n+1}+u_n$"
   ]
  },
  {
   "cell_type": "markdown",
   "id": "1279dc0a",
   "metadata": {
    "nbgrader": {
     "grade": false,
     "grade_id": "cell-af347d37e4536bb6",
     "locked": true,
     "schema_version": 3,
     "solution": false,
     "task": false
    }
   },
   "source": [
    "<font size=\"5\">👩🏻‍💻</font>  A partir de la définition, écrire une fonction `fibo` telle que `fibo n` calcule le terme $u_n$."
   ]
  },
  {
   "cell_type": "code",
   "execution_count": 18,
   "id": "23142968",
   "metadata": {
    "nbgrader": {
     "grade": false,
     "grade_id": "cell-869b38267042bec8",
     "locked": false,
     "schema_version": 3,
     "solution": true,
     "task": false
    }
   },
   "outputs": [
    {
     "data": {
      "text/plain": [
       "val fibo : int -> int = <fun>\n"
      ]
     },
     "execution_count": 18,
     "metadata": {},
     "output_type": "execute_result"
    }
   ],
   "source": [
    "\n",
    "let rec fibo n =\n",
    "  match n with\n",
    "  | 0 -> 0\n",
    "  | 1 -> 1\n",
    "  | _ -> fibo (n-1) + fibo (n-2)\n",
    ";;\n"
   ]
  },
  {
   "cell_type": "code",
   "execution_count": 24,
   "id": "dfc66ef4",
   "metadata": {
    "nbgrader": {
     "grade": true,
     "grade_id": "cell-a0f6be5b4d426b50",
     "locked": true,
     "points": 1,
     "schema_version": 3,
     "solution": false,
     "task": false
    }
   },
   "outputs": [],
   "source": [
    "(* Exécutez cette cellule pour tester votre fonction *)\n",
    "let () = assert (fibo 2 = 1);;\n",
    "let () = assert (fibo 10 = 55);;\n",
    "(* BEGIN HIDDEN TESTS *)\n",
    "let () = assert (fibo 0 = 0);;\n",
    "let () = assert (fibo 1 = 1);;\n",
    "let () = assert (fibo 15 = 610);;\n",
    "(* END HIDDEN TESTS *)"
   ]
  },
  {
   "cell_type": "markdown",
   "id": "dcb5a2dc",
   "metadata": {
    "nbgrader": {
     "grade": false,
     "grade_id": "cell-a893d65c595f9cf1",
     "locked": true,
     "schema_version": 3,
     "solution": false,
     "task": false
    }
   },
   "source": [
    "<font size=\"5\">👨🏿‍💻</font> Calculer quelques uns des premiers termes, puis calculer $u_{40}$. Comment expliquer que le temps de calcul soit si long ?"
   ]
  },
  {
   "cell_type": "code",
   "execution_count": null,
   "id": "2143bdc9",
   "metadata": {
    "nbgrader": {
     "grade": true,
     "grade_id": "cell-15ae2b5abaa63894",
     "locked": false,
     "points": 0,
     "schema_version": 3,
     "solution": true,
     "task": false
    }
   },
   "outputs": [],
   "source": []
  },
  {
   "cell_type": "markdown",
   "id": "f502e10c",
   "metadata": {
    "nbgrader": {
     "grade": true,
     "grade_id": "cell-7836f957bc71d8c5",
     "locked": false,
     "points": 0,
     "schema_version": 3,
     "solution": true,
     "task": false
    }
   },
   "source": [
    "\n",
    "\n",
    "<span style='color:Teal '>\n",
    "Pour calculer $u_{40}$, il faut calculer $u_{39}$ et $u_{38}$.\n",
    "<br/>\n",
    "Mais le calcul de $u_{39}$ demande le calcul de $u_ {38}$, qui est donc calculé deux fois, et celui de $u_{37}$, qui est aussi nécessaire à celui de $u_ {38}$.\n",
    "<br/>\n",
    "$u_{37}$ sera donc calculé trois fois, $u_{36}$ cinq fois (trois fois dans un appel à `fibo 37` et deux fois dans un appel à `fibo 38`), etc.\n",
    "<br/>\n",
    "Plus précisément, le nombre d'appels $C_n$ à la fonction `fibo` nécessaires pour calculer $u_n$ vérifie $C_0=C_1 = 1$ et $C_n = 1 + C_ {n-1} + C_{n-2}$ pour $n \\geqslant 2$.\n",
    "<br/>\n",
    "La suite $(u_n)_{n \\in \\mathbb{N}}$ définie par $u_n = C_n +1$ vérifie donc la relation de récurrence $u_{n+2} = u_{n+1} + u_n$ ; on peut montrer qu'il existe une constante $\\alpha$ telle que $u_n \\sim \\alpha \\left( \\frac{1+\\sqrt{5}}{2}\\right)^n$, donc que $(u_n)_{n \\in \\mathbb{N}}$ tend rapidement vers $+\\infty$.\n",
    "</span>\n",
    "\n"
   ]
  },
  {
   "cell_type": "markdown",
   "id": "fc0cc584",
   "metadata": {
    "nbgrader": {
     "grade": false,
     "grade_id": "cell-6215d571e45dbfb5",
     "locked": true,
     "schema_version": 3,
     "solution": false,
     "task": false
    }
   },
   "source": [
    "<font size=\"5\">🧑🏾‍💻</font>  Écrire une fonction `fibo2` telle que `fibo2 n` calcule (efficacement !) le couple $(u_n,u_{n+1})$."
   ]
  },
  {
   "cell_type": "code",
   "execution_count": 20,
   "id": "42b18288",
   "metadata": {
    "nbgrader": {
     "grade": false,
     "grade_id": "cell-9c6acc236cd06f7c",
     "locked": false,
     "schema_version": 3,
     "solution": true,
     "task": false
    }
   },
   "outputs": [
    {
     "data": {
      "text/plain": [
       "val fibo2 : int -> int * int = <fun>\n"
      ]
     },
     "execution_count": 20,
     "metadata": {},
     "output_type": "execute_result"
    }
   ],
   "source": [
    "\n",
    "let rec fibo2 n =\n",
    "  match n with\n",
    "  | 0 -> 0, 1\n",
    "  | _ -> let a, b = fibo2 (n-1) in b, a+b\n",
    ";;\n"
   ]
  },
  {
   "cell_type": "code",
   "execution_count": 21,
   "id": "ccb4253d",
   "metadata": {
    "nbgrader": {
     "grade": true,
     "grade_id": "cell-0c8bba5837a1c67f",
     "locked": true,
     "points": 1,
     "schema_version": 3,
     "solution": false,
     "task": false
    }
   },
   "outputs": [],
   "source": [
    "(* Exécutez cette cellule pour tester votre fonction *)\n",
    "let () = assert (fibo2 2 = (1, 2));;\n",
    "let () = assert (fibo2 6 = (8, 13));;\n",
    "let () = assert (fibo2 100 = (3736710778780434371, 1298777728820984005));;\n",
    "(* BEGIN HIDDEN TESTS *)\n",
    "let () = assert (fibo2 0 = (0, 1));;\n",
    "let () = assert (fibo2 1 = (1, 1));;\n",
    "let () = assert (fibo2 15 = (610, 987));;\n",
    "let () = assert (fibo2 42 = (267914296, 433494437));;\n",
    "(* END HIDDEN TESTS *)"
   ]
  },
  {
   "cell_type": "markdown",
   "id": "5f826c1f",
   "metadata": {
    "nbgrader": {
     "grade": false,
     "grade_id": "cell-4b64544aa640c807",
     "locked": true,
     "schema_version": 3,
     "solution": false,
     "task": false
    }
   },
   "source": [
    "<font size=\"5\">👨‍💻</font> Combien d'additions faut-il effectuer pour calculer $u_n$ avec cette méthode ?"
   ]
  },
  {
   "cell_type": "markdown",
   "id": "b9e6c34d",
   "metadata": {
    "nbgrader": {
     "grade": false,
     "grade_id": "cell-4b64544aa640c807b",
     "locked": true,
     "schema_version": 3,
     "solution": false,
     "task": false
    }
   },
   "source": [
    "<div class=\"alert alert-block alert-info\">\n",
    "    On pourra noter $A(n)$ le nombre d'additions réalisées lors de l'appel <code>fibo2 n</code> et déterminer une relation de récurrence vérifiée par $A(n)$.\n",
    "</div>"
   ]
  },
  {
   "cell_type": "markdown",
   "id": "4f1ba691",
   "metadata": {
    "nbgrader": {
     "grade": true,
     "grade_id": "cell-25c89611c0916d7a",
     "locked": false,
     "points": 0,
     "schema_version": 3,
     "solution": true,
     "task": false
    }
   },
   "source": [
    "\n",
    "\n",
    "\n",
    "<span style='color:Teal '>\n",
    "Le nombre d'addition $A(n)$ réalisées lors de l'appel `fibo2 n` vérifie $A(0) = 0$ et pour tout $n \\in \\mathbb{N}^*$, $A(n) = 1 + A(n-1)$.\n",
    "\n",
    "Il s'agit donc d'une suite arithmétique de raison $1$ et de premier terme $0$, donc pour tout $n \\in \\mathbb{N}$, $A(n) = n$.\n",
    "\n",
    "La complexité de la fonction `fibo2` est par conséquent linéaire.\n",
    "</span>\n",
    "\n"
   ]
  },
  {
   "cell_type": "markdown",
   "id": "4b673aa4",
   "metadata": {
    "nbgrader": {
     "grade": false,
     "grade_id": "cell-13d6f43163006be3",
     "locked": true,
     "schema_version": 3,
     "solution": false,
     "task": false
    }
   },
   "source": [
    "On peut montrer que : $\\forall p \\geqslant 0,  \\forall q \\geqslant 1, u_{p+q}=u_{p+1}u_q+u_pu_{q-1}$."
   ]
  },
  {
   "cell_type": "markdown",
   "id": "9854f9df",
   "metadata": {
    "nbgrader": {
     "grade": false,
     "grade_id": "cell-13d6f43163006be3a",
     "locked": true,
     "schema_version": 3,
     "solution": false,
     "task": false
    }
   },
   "source": [
    "<font size=\"5\">👨🏽‍💻</font> Exprimer $u_{2n}, u_{2n+1}$ et $u_{2n+2}$ en fonction de $u_n$ et $u_{n+1}$."
   ]
  },
  {
   "cell_type": "markdown",
   "id": "728a12de",
   "metadata": {
    "nbgrader": {
     "grade": true,
     "grade_id": "cell-6ce9a41f420e75bc",
     "locked": false,
     "points": 0,
     "schema_version": 3,
     "solution": true,
     "task": false
    }
   },
   "source": [
    "\n",
    "\n",
    "<span style='color:Teal '>\n",
    "$u_ {2n} = u_{n+1}u_n + u_nu_{n-1} = u_{n+1}u_n +u_n(u_{n+1}-u_n) = 2u_{n+1}u_n - u_n^2$.\n",
    "\n",
    "$u_{2n+1} = u_{n + (n+1)} = u_{n+1} ^2 + u_n^2$\n",
    "\n",
    "$u_{2n+2} = u_ {n+2}u_{n+1}+u_{n+1}u_n = (u_{n+1}+u_n)u_{n+1}+u_{n+1}u_n = u_{n+1}^2+2u_{n+1}u_n$\n",
    "\n",
    "</span>\n"
   ]
  },
  {
   "cell_type": "markdown",
   "id": "c5bb560a",
   "metadata": {
    "nbgrader": {
     "grade": false,
     "grade_id": "cell-b229614a0a4fe4a2",
     "locked": true,
     "schema_version": 3,
     "solution": false,
     "task": false
    }
   },
   "source": [
    "<font size=\"5\">🧑‍💻</font>  En déduire une fonction `fibo3` telle que `fibo3 n` calcule le couple $(u_n,u_{n+1})$ (on distinguera deux cas suivant la parité de $n$)."
   ]
  },
  {
   "cell_type": "code",
   "execution_count": 22,
   "id": "8278dffb",
   "metadata": {
    "nbgrader": {
     "grade": false,
     "grade_id": "cell-bde71b7cd62722d8",
     "locked": false,
     "schema_version": 3,
     "solution": true,
     "task": false
    }
   },
   "outputs": [
    {
     "data": {
      "text/plain": [
       "val fibo3 : int -> int * int = <fun>\n"
      ]
     },
     "execution_count": 22,
     "metadata": {},
     "output_type": "execute_result"
    }
   ],
   "source": [
    "\n",
    "let rec fibo3 n =\n",
    "   match n with\n",
    "   | 0 -> 0, 1\n",
    "   | _ ->\n",
    "     let a, b = fibo3 (n/2) in\n",
    "     if n mod 2 = 0\n",
    "     then 2*b*a - a*a, a*a + b*b\n",
    "     else a*a + b*b, b*b + 2*a*b \n"
   ]
  },
  {
   "cell_type": "code",
   "execution_count": 23,
   "id": "7de0fc06",
   "metadata": {
    "nbgrader": {
     "grade": true,
     "grade_id": "cell-9140fd3b0b850c75",
     "locked": true,
     "points": 1,
     "schema_version": 3,
     "solution": false,
     "task": false
    }
   },
   "outputs": [],
   "source": [
    "(* Exécutez cette cellule pour tester votre fonction *)\n",
    "let () = assert (fibo3 2 = (1, 2));;\n",
    "let () = assert (fibo3 6 = (8, 13));;\n",
    "let () = assert (fibo3 100 = (3736710778780434371, 1298777728820984005));;\n",
    "(* BEGIN HIDDEN TESTS *)\n",
    "let () = assert (fibo3 0 = (0, 1));;\n",
    "let () = assert (fibo3 1 = (1, 1));;\n",
    "let () = assert (fibo3 15 = (610, 987));;\n",
    "let () = assert (fibo3 42 = (267914296, 433494437));;\n",
    "(* END HIDDEN TESTS *)"
   ]
  },
  {
   "cell_type": "markdown",
   "id": "3f5b9225",
   "metadata": {
    "nbgrader": {
     "grade": false,
     "grade_id": "cell-d289c8de6480fef6",
     "locked": true,
     "schema_version": 3,
     "solution": false,
     "task": false
    }
   },
   "source": [
    "<font size=\"5\">👩🏾‍💻</font> Évaluer le nombre d'appels à la fonction `fibo3` effectués par l'appel `fibo3 n`."
   ]
  },
  {
   "cell_type": "markdown",
   "id": "e55732c0",
   "metadata": {
    "nbgrader": {
     "grade": false,
     "grade_id": "cell-d289c8de6480fef6b",
     "locked": true,
     "schema_version": 3,
     "solution": false,
     "task": false
    }
   },
   "source": [
    "<div class=\"alert alert-block alert-info\">\n",
    "On pourra noter $u_p$ le nombre d'appels réalisés pour un entier non nul $n$ dont l'écriture binaire comporte $p$ bits.\n",
    "</div>"
   ]
  },
  {
   "cell_type": "markdown",
   "id": "bb0d01f2",
   "metadata": {
    "nbgrader": {
     "grade": true,
     "grade_id": "cell-480c88f6d36ac957",
     "locked": false,
     "points": 0,
     "schema_version": 3,
     "solution": true,
     "task": false
    }
   },
   "source": [
    "\n",
    "\n",
    "<span style='color:Teal '>\n",
    "Si $p=1$, alors $n=1$ et $u_p = 2$ (un appel avec $n=1$, qui réalise un appel avec $n=0$).\n",
    "\n",
    "Si $p \\geqslant 2$, alors $u_p = 1 + u_ {p-1}$.\n",
    "\n",
    "Par conséquent, $u_p = p+1$.\n",
    "\n",
    "Finalement, le nombre d'appels réalisés lors du calcul de `fibo3 n` est de l'ordre de $p$, i.e de l'ordre de $\\log n$.\n",
    "</span>\n"
   ]
  }
 ],
 "metadata": {
  "celltoolbar": "Create Assignment",
  "kernelspec": {
   "display_name": "OCaml default",
   "language": "OCaml",
   "name": "ocaml-jupyter"
  },
  "language_info": {
   "codemirror_mode": "text/x-ocaml",
   "file_extension": ".ml",
   "mimetype": "text/x-ocaml",
   "name": "OCaml",
   "nbconverter_exporter": null,
   "pygments_lexer": "OCaml",
   "version": "4.08.1"
  },
  "latex_envs": {
   "LaTeX_envs_menu_present": true,
   "autoclose": false,
   "autocomplete": true,
   "bibliofile": "biblio.bib",
   "cite_by": "apalike",
   "current_citInitial": 1,
   "eqLabelWithNumbers": true,
   "eqNumInitial": 1,
   "hotkeys": {
    "equation": "Ctrl-E",
    "itemize": "Ctrl-I"
   },
   "labels_anchors": false,
   "latex_user_defs": false,
   "report_style_numbering": true,
   "user_envs_cfg": true
  }
 },
 "nbformat": 4,
 "nbformat_minor": 5
}
